{
 "cells": [
  {
   "cell_type": "markdown",
   "id": "e738b407",
   "metadata": {},
   "source": [
    "# Comparison with other libraries\n",
    "\n",
    "This notebooks extends 'evobandits_demo.ipynb' to compare the GMAB algorithm with popular alternatives.\n",
    "\n",
    "Note that running this notebook can take very long (multiple days!) due to the number of algorithms, independent runs, and simulation cost.\n",
    "\n",
    "Setup:"
   ]
  },
  {
   "cell_type": "code",
   "execution_count": 1,
   "id": "3884d050",
   "metadata": {},
   "outputs": [
    {
     "name": "stderr",
     "output_type": "stream",
     "text": [
      "c:\\Users\\fwuer\\Code\\evobandits-demo\\.venv\\Lib\\site-packages\\tqdm\\auto.py:21: TqdmWarning: IProgress not found. Please update jupyter and ipywidgets. See https://ipywidgets.readthedocs.io/en/stable/user_install.html\n",
      "  from .autonotebook import tqdm as notebook_tqdm\n"
     ]
    }
   ],
   "source": [
    "import json\n",
    "from pathlib import Path\n",
    "\n",
    "from evobandits import CategoricalParam, Study, GMAB\n",
    "from irace import irace, Experiment, ParameterSpace, Scenario, Ordinal\n",
    "import matplotlib as mpl\n",
    "import matplotlib.pyplot as plt\n",
    "import numpy as np\n",
    "import pandas as pd\n",
    "import optuna\n",
    "from optuna.samplers import TPESampler, RandomSampler\n",
    "from optuna.pruners import HyperbandPruner\n",
    "from tqdm import tqdm"
   ]
  },
  {
   "cell_type": "code",
   "execution_count": 2,
   "id": "d4a5f2cd",
   "metadata": {},
   "outputs": [],
   "source": [
    "from application_example import genetic_algorithm"
   ]
  },
  {
   "cell_type": "code",
   "execution_count": 3,
   "id": "c1250e89",
   "metadata": {},
   "outputs": [],
   "source": [
    "plt.style.use(\"default\")\n",
    "\n",
    "mpl.rcParams[\"font.family\"] = \"serif\"\n",
    "mpl.rcParams[\"font.serif\"] = [\n",
    "    \"Computer Modern Roman\",\n",
    "    \"Times New Roman\",\n",
    "    \"Times\",\n",
    "    \"DejaVu Serif\",\n",
    "]\n",
    "mpl.rcParams[\"font.size\"] = 14\n",
    "\n",
    "optuna.logging.set_verbosity(optuna.logging.WARNING) # to suppress log spam"
   ]
  },
  {
   "cell_type": "markdown",
   "id": "8dca1b7f",
   "metadata": {},
   "source": [
    "## 1. Presets for the Optimization\n",
    "\n",
    "Identical number of runs, budget and a seed for reproduction:"
   ]
  },
  {
   "cell_type": "code",
   "execution_count": 4,
   "id": "9be906aa",
   "metadata": {},
   "outputs": [],
   "source": [
    "SEED = 42\n",
    "N_RUNS = 50\n",
    "SIM_BUDGET = 1000\n",
    "EVAL_BUDGET = 500"
   ]
  },
  {
   "cell_type": "markdown",
   "id": "4fa176c8",
   "metadata": {},
   "source": [
    "All variables are modeled as ordinal variables from the ranges below to ensure identical search space."
   ]
  },
  {
   "cell_type": "code",
   "execution_count": 5,
   "id": "51b23b0f",
   "metadata": {},
   "outputs": [],
   "source": [
    "POP_SIZE_RANGE = [i for i in range(50, 251, 1)]\n",
    "GENERATIONS_RANGE = [100, 200, 300, 400, 500]\n",
    "ELITE_SPLIT_RANGE = [i * 0.01 for i in range(21)]\n",
    "TOURNAMENT_SPLIT_RANGE = [i * 0.01 for i in range(11)]\n",
    "CROSSOVER_RATE_RANGE = [i * 0.01 for i in range(101)]\n",
    "MUTATION_RATE_RANGE = [i * 0.01 for i in range(101)]"
   ]
  },
  {
   "cell_type": "markdown",
   "id": "5483b6f8",
   "metadata": {},
   "source": [
    "Size of the Search space"
   ]
  },
  {
   "cell_type": "code",
   "execution_count": 6,
   "id": "7a6dd78b",
   "metadata": {},
   "outputs": [
    {
     "name": "stdout",
     "output_type": "stream",
     "text": [
      "Number of distinct solutions:\t2,368,213,155\n"
     ]
    }
   ],
   "source": [
    "total_combinations = len(POP_SIZE_RANGE) * len(ELITE_SPLIT_RANGE) * len(GENERATIONS_RANGE) \\\n",
    "    * len(TOURNAMENT_SPLIT_RANGE) * len(CROSSOVER_RATE_RANGE) * len(MUTATION_RATE_RANGE)\n",
    "\n",
    "print(f\"Number of distinct solutions:\\t{total_combinations:,}\")"
   ]
  },
  {
   "cell_type": "markdown",
   "id": "676a22dc",
   "metadata": {},
   "source": [
    "## 2. Optimization\n",
    "\n",
    "For each algorithm:\n",
    "- Model the genetic_algorithm as objective function\n",
    "- Model the search space\n",
    "- Configure the algorithm\n",
    "- Execute for preset, identical budget and runs\n",
    "- Collect the results and re-sample to evaluate the \"true\" value of the configuration."
   ]
  },
  {
   "cell_type": "code",
   "execution_count": 7,
   "id": "91ea42dd",
   "metadata": {},
   "outputs": [],
   "source": [
    "def estimate_true_value(seed, ga_configuration):\n",
    "    evaluations = []\n",
    "    rng = np.random.default_rng(seed)\n",
    "    for _ in range(EVAL_BUDGET):\n",
    "        seed_eval = rng.integers(0, 2**32 - 1, dtype=int)\n",
    "        best_cost, _ = genetic_algorithm(seed=seed_eval, **ga_configuration)\n",
    "        evaluations.append(best_cost)\n",
    "    mean_evaluation = np.mean(evaluations)\n",
    "    return mean_evaluation, evaluations"
   ]
  },
  {
   "cell_type": "markdown",
   "id": "0868c88b",
   "metadata": {},
   "source": [
    "### 2.1 EvoBandits"
   ]
  },
  {
   "cell_type": "code",
   "execution_count": 8,
   "id": "136290de",
   "metadata": {},
   "outputs": [
    {
     "name": "stdout",
     "output_type": "stream",
     "text": [
      "\n",
      "Running optimization ...\n"
     ]
    },
    {
     "name": "stderr",
     "output_type": "stream",
     "text": [
      "EvoBandits | Run:   0%|          | 0/50 [00:00<?, ?it/s]"
     ]
    },
    {
     "name": "stdout",
     "output_type": "stream",
     "text": [
      "Config:\t{'pop_size': 226, 'generations': 500, 'elite_split': 0.04, 'tournament_split': 0.05, 'mutation_rate': 0.78, 'crossover_rate': 0.0}\n",
      "Value:\t7.925576596461831\n"
     ]
    },
    {
     "name": "stderr",
     "output_type": "stream",
     "text": [
      "EvoBandits | Run:   2%|▏         | 1/50 [1:31:11<74:28:22, 5471.48s/it]"
     ]
    },
    {
     "name": "stdout",
     "output_type": "stream",
     "text": [
      "Est. true value:\t8.009099365950854\n",
      "Config:\t{'pop_size': 250, 'generations': 500, 'elite_split': 0.08, 'tournament_split': 0.04, 'mutation_rate': 0.84, 'crossover_rate': 0.0}\n",
      "Value:\t7.866737136573285\n"
     ]
    },
    {
     "name": "stderr",
     "output_type": "stream",
     "text": [
      "EvoBandits | Run:   4%|▍         | 2/50 [3:04:55<74:08:54, 5561.14s/it]"
     ]
    },
    {
     "name": "stdout",
     "output_type": "stream",
     "text": [
      "Est. true value:\t7.985106184692074\n",
      "Config:\t{'pop_size': 250, 'generations': 400, 'elite_split': 0.16, 'tournament_split': 0.09, 'mutation_rate': 0.84, 'crossover_rate': 0.25}\n",
      "Value:\t7.9950112647249405\n"
     ]
    },
    {
     "name": "stderr",
     "output_type": "stream",
     "text": [
      "EvoBandits | Run:   6%|▌         | 3/50 [4:21:24<66:48:40, 5117.45s/it]"
     ]
    },
    {
     "name": "stdout",
     "output_type": "stream",
     "text": [
      "Est. true value:\t8.111970052316993\n",
      "Config:\t{'pop_size': 240, 'generations': 500, 'elite_split': 0.11, 'tournament_split': 0.05, 'mutation_rate': 0.79, 'crossover_rate': 0.0}\n",
      "Value:\t7.797543215107326\n"
     ]
    },
    {
     "name": "stderr",
     "output_type": "stream",
     "text": [
      "EvoBandits | Run:   8%|▊         | 4/50 [5:49:30<66:14:19, 5183.89s/it]"
     ]
    },
    {
     "name": "stdout",
     "output_type": "stream",
     "text": [
      "Est. true value:\t7.987494340327031\n",
      "Config:\t{'pop_size': 247, 'generations': 500, 'elite_split': 0.04, 'tournament_split': 0.05, 'mutation_rate': 0.88, 'crossover_rate': 0.02}\n",
      "Value:\t7.873475842560513\n"
     ]
    },
    {
     "name": "stderr",
     "output_type": "stream",
     "text": [
      "EvoBandits | Run:  10%|█         | 5/50 [7:25:36<67:25:24, 5393.88s/it]"
     ]
    },
    {
     "name": "stdout",
     "output_type": "stream",
     "text": [
      "Est. true value:\t7.962507188256683\n",
      "Config:\t{'pop_size': 250, 'generations': 400, 'elite_split': 0.03, 'tournament_split': 0.1, 'mutation_rate': 0.8200000000000001, 'crossover_rate': 0.09}\n",
      "Value:\t7.926533679546161\n"
     ]
    },
    {
     "name": "stderr",
     "output_type": "stream",
     "text": [
      "EvoBandits | Run:  12%|█▏        | 6/50 [8:50:36<64:42:02, 5293.70s/it]"
     ]
    },
    {
     "name": "stdout",
     "output_type": "stream",
     "text": [
      "Est. true value:\t8.014330661207499\n",
      "Config:\t{'pop_size': 246, 'generations': 500, 'elite_split': 0.07, 'tournament_split': 0.09, 'mutation_rate': 0.9400000000000001, 'crossover_rate': 0.0}\n",
      "Value:\t7.865673725781605\n"
     ]
    },
    {
     "name": "stderr",
     "output_type": "stream",
     "text": [
      "EvoBandits | Run:  14%|█▍        | 7/50 [10:20:52<63:42:30, 5333.74s/it]"
     ]
    },
    {
     "name": "stdout",
     "output_type": "stream",
     "text": [
      "Est. true value:\t7.9471121037165195\n",
      "Config:\t{'pop_size': 249, 'generations': 500, 'elite_split': 0.12, 'tournament_split': 0.08, 'mutation_rate': 0.64, 'crossover_rate': 0.1}\n",
      "Value:\t7.860782956726181\n"
     ]
    },
    {
     "name": "stderr",
     "output_type": "stream",
     "text": [
      "EvoBandits | Run:  16%|█▌        | 8/50 [11:53:36<63:04:53, 5406.98s/it]"
     ]
    },
    {
     "name": "stdout",
     "output_type": "stream",
     "text": [
      "Est. true value:\t8.03600209409043\n",
      "Config:\t{'pop_size': 230, 'generations': 500, 'elite_split': 0.04, 'tournament_split': 0.1, 'mutation_rate': 0.97, 'crossover_rate': 0.0}\n",
      "Value:\t7.801173563105813\n"
     ]
    },
    {
     "name": "stderr",
     "output_type": "stream",
     "text": [
      "EvoBandits | Run:  18%|█▊        | 9/50 [13:16:14<59:58:56, 5266.74s/it]"
     ]
    },
    {
     "name": "stdout",
     "output_type": "stream",
     "text": [
      "Est. true value:\t7.927656322194829\n",
      "Config:\t{'pop_size': 250, 'generations': 500, 'elite_split': 0.04, 'tournament_split': 0.09, 'mutation_rate': 0.51, 'crossover_rate': 0.08}\n",
      "Value:\t7.919504538713044\n"
     ]
    },
    {
     "name": "stderr",
     "output_type": "stream",
     "text": [
      "EvoBandits | Run:  20%|██        | 10/50 [14:50:55<59:56:23, 5394.58s/it]"
     ]
    },
    {
     "name": "stdout",
     "output_type": "stream",
     "text": [
      "Est. true value:\t8.008776573938981\n",
      "Config:\t{'pop_size': 245, 'generations': 500, 'elite_split': 0.1, 'tournament_split': 0.1, 'mutation_rate': 0.65, 'crossover_rate': 0.0}\n",
      "Value:\t7.877796473373995\n"
     ]
    },
    {
     "name": "stderr",
     "output_type": "stream",
     "text": [
      "EvoBandits | Run:  22%|██▏       | 11/50 [16:20:38<58:24:12, 5391.08s/it]"
     ]
    },
    {
     "name": "stdout",
     "output_type": "stream",
     "text": [
      "Est. true value:\t8.012169910420436\n",
      "Config:\t{'pop_size': 209, 'generations': 500, 'elite_split': 0.1, 'tournament_split': 0.09, 'mutation_rate': 0.53, 'crossover_rate': 0.18}\n",
      "Value:\t7.9870913710800835\n"
     ]
    },
    {
     "name": "stderr",
     "output_type": "stream",
     "text": [
      "EvoBandits | Run:  24%|██▍       | 12/50 [17:33:04<53:33:02, 5073.23s/it]"
     ]
    },
    {
     "name": "stdout",
     "output_type": "stream",
     "text": [
      "Est. true value:\t8.118224861010377\n",
      "Config:\t{'pop_size': 250, 'generations': 500, 'elite_split': 0.07, 'tournament_split': 0.04, 'mutation_rate': 0.87, 'crossover_rate': 0.0}\n",
      "Value:\t7.886763863887318\n"
     ]
    },
    {
     "name": "stderr",
     "output_type": "stream",
     "text": [
      "EvoBandits | Run:  26%|██▌       | 13/50 [19:12:18<54:53:04, 5340.12s/it]"
     ]
    },
    {
     "name": "stdout",
     "output_type": "stream",
     "text": [
      "Est. true value:\t7.989813157168992\n",
      "Config:\t{'pop_size': 217, 'generations': 400, 'elite_split': 0.0, 'tournament_split': 0.08, 'mutation_rate': 0.68, 'crossover_rate': 0.02}\n",
      "Value:\t8.011979728394396\n"
     ]
    },
    {
     "name": "stderr",
     "output_type": "stream",
     "text": [
      "EvoBandits | Run:  28%|██▊       | 14/50 [20:21:33<49:49:12, 4982.02s/it]"
     ]
    },
    {
     "name": "stdout",
     "output_type": "stream",
     "text": [
      "Est. true value:\t8.067574052541332\n",
      "Config:\t{'pop_size': 250, 'generations': 500, 'elite_split': 0.05, 'tournament_split': 0.07, 'mutation_rate': 0.75, 'crossover_rate': 0.0}\n",
      "Value:\t7.824910948289569\n"
     ]
    },
    {
     "name": "stderr",
     "output_type": "stream",
     "text": [
      "EvoBandits | Run:  30%|███       | 15/50 [21:53:27<49:59:43, 5142.37s/it]"
     ]
    },
    {
     "name": "stdout",
     "output_type": "stream",
     "text": [
      "Est. true value:\t7.9741605664183774\n",
      "Config:\t{'pop_size': 208, 'generations': 500, 'elite_split': 0.14, 'tournament_split': 0.1, 'mutation_rate': 0.93, 'crossover_rate': 0.08}\n",
      "Value:\t7.848482230823225\n"
     ]
    },
    {
     "name": "stderr",
     "output_type": "stream",
     "text": [
      "EvoBandits | Run:  32%|███▏      | 16/50 [23:13:09<47:32:31, 5033.86s/it]"
     ]
    },
    {
     "name": "stdout",
     "output_type": "stream",
     "text": [
      "Est. true value:\t7.9887860900549965\n",
      "Config:\t{'pop_size': 238, 'generations': 400, 'elite_split': 0.08, 'tournament_split': 0.09, 'mutation_rate': 0.74, 'crossover_rate': 0.0}\n",
      "Value:\t7.8270375503905925\n"
     ]
    },
    {
     "name": "stderr",
     "output_type": "stream",
     "text": [
      "EvoBandits | Run:  34%|███▍      | 17/50 [24:27:27<44:33:25, 4860.76s/it]"
     ]
    },
    {
     "name": "stdout",
     "output_type": "stream",
     "text": [
      "Est. true value:\t8.040487346341546\n",
      "Config:\t{'pop_size': 244, 'generations': 500, 'elite_split': 0.09, 'tournament_split': 0.07, 'mutation_rate': 0.85, 'crossover_rate': 0.02}\n",
      "Value:\t7.79025969877992\n"
     ]
    },
    {
     "name": "stderr",
     "output_type": "stream",
     "text": [
      "EvoBandits | Run:  36%|███▌      | 18/50 [25:53:32<44:01:13, 4952.31s/it]"
     ]
    },
    {
     "name": "stdout",
     "output_type": "stream",
     "text": [
      "Est. true value:\t7.979860433199059\n",
      "Config:\t{'pop_size': 237, 'generations': 500, 'elite_split': 0.18, 'tournament_split': 0.09, 'mutation_rate': 0.81, 'crossover_rate': 0.0}\n",
      "Value:\t7.83209337122758\n"
     ]
    },
    {
     "name": "stderr",
     "output_type": "stream",
     "text": [
      "EvoBandits | Run:  38%|███▊      | 19/50 [27:20:13<43:17:09, 5026.75s/it]"
     ]
    },
    {
     "name": "stdout",
     "output_type": "stream",
     "text": [
      "Est. true value:\t7.9918696217563285\n",
      "Config:\t{'pop_size': 209, 'generations': 500, 'elite_split': 0.12, 'tournament_split': 0.07, 'mutation_rate': 0.89, 'crossover_rate': 0.07}\n",
      "Value:\t7.788137505855329\n"
     ]
    },
    {
     "name": "stderr",
     "output_type": "stream",
     "text": [
      "EvoBandits | Run:  40%|████      | 20/50 [28:34:57<40:31:56, 4863.87s/it]"
     ]
    },
    {
     "name": "stdout",
     "output_type": "stream",
     "text": [
      "Est. true value:\t8.008133743096735\n",
      "Config:\t{'pop_size': 204, 'generations': 500, 'elite_split': 0.08, 'tournament_split': 0.09, 'mutation_rate': 0.78, 'crossover_rate': 0.0}\n",
      "Value:\t7.8830218710724775\n"
     ]
    },
    {
     "name": "stderr",
     "output_type": "stream",
     "text": [
      "EvoBandits | Run:  42%|████▏     | 21/50 [29:45:59<37:43:38, 4683.40s/it]"
     ]
    },
    {
     "name": "stdout",
     "output_type": "stream",
     "text": [
      "Est. true value:\t7.992215678397155\n",
      "Config:\t{'pop_size': 230, 'generations': 500, 'elite_split': 0.03, 'tournament_split': 0.07, 'mutation_rate': 0.77, 'crossover_rate': 0.12}\n",
      "Value:\t7.795488840494284\n"
     ]
    },
    {
     "name": "stderr",
     "output_type": "stream",
     "text": [
      "EvoBandits | Run:  44%|████▍     | 22/50 [31:21:30<38:52:14, 4997.65s/it]"
     ]
    },
    {
     "name": "stdout",
     "output_type": "stream",
     "text": [
      "Est. true value:\t7.999035405321987\n",
      "Config:\t{'pop_size': 237, 'generations': 500, 'elite_split': 0.12, 'tournament_split': 0.09, 'mutation_rate': 0.86, 'crossover_rate': 0.07}\n",
      "Value:\t7.882302257973967\n"
     ]
    },
    {
     "name": "stderr",
     "output_type": "stream",
     "text": [
      "EvoBandits | Run:  46%|████▌     | 23/50 [32:46:48<37:45:14, 5033.85s/it]"
     ]
    },
    {
     "name": "stdout",
     "output_type": "stream",
     "text": [
      "Est. true value:\t7.998569049969694\n",
      "Config:\t{'pop_size': 247, 'generations': 500, 'elite_split': 0.14, 'tournament_split': 0.07, 'mutation_rate': 0.87, 'crossover_rate': 0.1}\n",
      "Value:\t7.930990198829469\n"
     ]
    },
    {
     "name": "stderr",
     "output_type": "stream",
     "text": [
      "EvoBandits | Run:  48%|████▊     | 24/50 [34:23:42<38:02:46, 5267.94s/it]"
     ]
    },
    {
     "name": "stdout",
     "output_type": "stream",
     "text": [
      "Est. true value:\t7.982644502521114\n",
      "Config:\t{'pop_size': 238, 'generations': 500, 'elite_split': 0.12, 'tournament_split': 0.09, 'mutation_rate': 0.8, 'crossover_rate': 0.0}\n",
      "Value:\t7.862777287603436\n"
     ]
    },
    {
     "name": "stderr",
     "output_type": "stream",
     "text": [
      "EvoBandits | Run:  50%|█████     | 25/50 [35:50:05<36:24:20, 5242.41s/it]"
     ]
    },
    {
     "name": "stdout",
     "output_type": "stream",
     "text": [
      "Est. true value:\t7.9898043437455675\n",
      "Config:\t{'pop_size': 250, 'generations': 500, 'elite_split': 0.16, 'tournament_split': 0.08, 'mutation_rate': 0.74, 'crossover_rate': 0.24}\n",
      "Value:\t7.912733416385374\n"
     ]
    },
    {
     "name": "stderr",
     "output_type": "stream",
     "text": [
      "EvoBandits | Run:  52%|█████▏    | 26/50 [37:27:48<36:11:29, 5428.72s/it]"
     ]
    },
    {
     "name": "stdout",
     "output_type": "stream",
     "text": [
      "Est. true value:\t8.01352651527818\n",
      "Config:\t{'pop_size': 250, 'generations': 500, 'elite_split': 0.13, 'tournament_split': 0.05, 'mutation_rate': 0.58, 'crossover_rate': 0.0}\n",
      "Value:\t7.895665217083467\n"
     ]
    },
    {
     "name": "stderr",
     "output_type": "stream",
     "text": [
      "EvoBandits | Run:  54%|█████▍    | 27/50 [38:44:28<33:05:40, 5180.02s/it]"
     ]
    },
    {
     "name": "stdout",
     "output_type": "stream",
     "text": [
      "Est. true value:\t8.036065454217574\n",
      "Config:\t{'pop_size': 250, 'generations': 500, 'elite_split': 0.1, 'tournament_split': 0.1, 'mutation_rate': 1.0, 'crossover_rate': 0.02}\n",
      "Value:\t7.693996008983231\n"
     ]
    },
    {
     "name": "stderr",
     "output_type": "stream",
     "text": [
      "EvoBandits | Run:  56%|█████▌    | 28/50 [40:28:14<33:34:20, 5493.68s/it]"
     ]
    },
    {
     "name": "stdout",
     "output_type": "stream",
     "text": [
      "Est. true value:\t7.882097418500807\n",
      "Config:\t{'pop_size': 195, 'generations': 500, 'elite_split': 0.12, 'tournament_split': 0.09, 'mutation_rate': 0.9, 'crossover_rate': 0.04}\n",
      "Value:\t7.876510749387142\n"
     ]
    },
    {
     "name": "stderr",
     "output_type": "stream",
     "text": [
      "EvoBandits | Run:  58%|█████▊    | 29/50 [41:29:10<28:49:50, 4942.40s/it]"
     ]
    },
    {
     "name": "stdout",
     "output_type": "stream",
     "text": [
      "Est. true value:\t7.989801381824106\n",
      "Config:\t{'pop_size': 223, 'generations': 500, 'elite_split': 0.11, 'tournament_split': 0.07, 'mutation_rate': 0.75, 'crossover_rate': 0.07}\n",
      "Value:\t7.901679158250727\n"
     ]
    },
    {
     "name": "stderr",
     "output_type": "stream",
     "text": [
      "EvoBandits | Run:  60%|██████    | 30/50 [42:53:17<27:37:56, 4973.80s/it]"
     ]
    },
    {
     "name": "stdout",
     "output_type": "stream",
     "text": [
      "Est. true value:\t8.009519578170192\n",
      "Config:\t{'pop_size': 250, 'generations': 500, 'elite_split': 0.02, 'tournament_split': 0.08, 'mutation_rate': 0.98, 'crossover_rate': 0.02}\n",
      "Value:\t7.8910710093626495\n"
     ]
    },
    {
     "name": "stderr",
     "output_type": "stream",
     "text": [
      "EvoBandits | Run:  62%|██████▏   | 31/50 [44:37:19<28:15:31, 5354.31s/it]"
     ]
    },
    {
     "name": "stdout",
     "output_type": "stream",
     "text": [
      "Est. true value:\t7.915831150860409\n",
      "Config:\t{'pop_size': 249, 'generations': 500, 'elite_split': 0.19, 'tournament_split': 0.08, 'mutation_rate': 0.9500000000000001, 'crossover_rate': 0.07}\n",
      "Value:\t7.706146049468488\n"
     ]
    },
    {
     "name": "stderr",
     "output_type": "stream",
     "text": [
      "EvoBandits | Run:  64%|██████▍   | 32/50 [46:05:50<26:42:24, 5341.34s/it]"
     ]
    },
    {
     "name": "stdout",
     "output_type": "stream",
     "text": [
      "Est. true value:\t7.962662545737854\n",
      "Config:\t{'pop_size': 232, 'generations': 500, 'elite_split': 0.05, 'tournament_split': 0.05, 'mutation_rate': 0.84, 'crossover_rate': 0.0}\n",
      "Value:\t7.909073910116425\n"
     ]
    },
    {
     "name": "stderr",
     "output_type": "stream",
     "text": [
      "EvoBandits | Run:  66%|██████▌   | 33/50 [47:21:07<24:03:18, 5094.05s/it]"
     ]
    },
    {
     "name": "stdout",
     "output_type": "stream",
     "text": [
      "Est. true value:\t7.986558219166682\n",
      "Config:\t{'pop_size': 250, 'generations': 500, 'elite_split': 0.07, 'tournament_split': 0.06, 'mutation_rate': 0.76, 'crossover_rate': 0.05}\n",
      "Value:\t7.753453370360533\n"
     ]
    },
    {
     "name": "stderr",
     "output_type": "stream",
     "text": [
      "EvoBandits | Run:  68%|██████▊   | 34/50 [48:53:56<23:16:25, 5236.61s/it]"
     ]
    },
    {
     "name": "stdout",
     "output_type": "stream",
     "text": [
      "Est. true value:\t7.981881924950611\n",
      "Config:\t{'pop_size': 247, 'generations': 500, 'elite_split': 0.07, 'tournament_split': 0.04, 'mutation_rate': 0.7000000000000001, 'crossover_rate': 0.0}\n",
      "Value:\t7.938918175605826\n"
     ]
    },
    {
     "name": "stderr",
     "output_type": "stream",
     "text": [
      "EvoBandits | Run:  70%|███████   | 35/50 [50:30:43<22:31:52, 5407.50s/it]"
     ]
    },
    {
     "name": "stdout",
     "output_type": "stream",
     "text": [
      "Est. true value:\t8.018775323236934\n",
      "Config:\t{'pop_size': 206, 'generations': 500, 'elite_split': 0.09, 'tournament_split': 0.1, 'mutation_rate': 0.79, 'crossover_rate': 0.14}\n",
      "Value:\t7.911933194917084\n"
     ]
    },
    {
     "name": "stderr",
     "output_type": "stream",
     "text": [
      "EvoBandits | Run:  72%|███████▏  | 36/50 [51:46:38<20:02:06, 5151.90s/it]"
     ]
    },
    {
     "name": "stdout",
     "output_type": "stream",
     "text": [
      "Est. true value:\t7.999369269702338\n",
      "Config:\t{'pop_size': 250, 'generations': 500, 'elite_split': 0.06, 'tournament_split': 0.07, 'mutation_rate': 0.75, 'crossover_rate': 0.15}\n",
      "Value:\t7.8882286485359785\n"
     ]
    },
    {
     "name": "stderr",
     "output_type": "stream",
     "text": [
      "EvoBandits | Run:  74%|███████▍  | 37/50 [53:22:50<19:16:34, 5338.01s/it]"
     ]
    },
    {
     "name": "stdout",
     "output_type": "stream",
     "text": [
      "Est. true value:\t7.985251880657744\n",
      "Config:\t{'pop_size': 239, 'generations': 500, 'elite_split': 0.06, 'tournament_split': 0.1, 'mutation_rate': 0.98, 'crossover_rate': 0.24}\n",
      "Value:\t7.89336568764409\n"
     ]
    },
    {
     "name": "stderr",
     "output_type": "stream",
     "text": [
      "EvoBandits | Run:  76%|███████▌  | 38/50 [55:10:55<18:56:22, 5681.90s/it]"
     ]
    },
    {
     "name": "stdout",
     "output_type": "stream",
     "text": [
      "Est. true value:\t7.968185634893144\n",
      "Config:\t{'pop_size': 225, 'generations': 500, 'elite_split': 0.09, 'tournament_split': 0.06, 'mutation_rate': 0.81, 'crossover_rate': 0.08}\n",
      "Value:\t7.890599347778869\n"
     ]
    },
    {
     "name": "stderr",
     "output_type": "stream",
     "text": [
      "EvoBandits | Run:  78%|███████▊  | 39/50 [56:25:16<16:14:32, 5315.64s/it]"
     ]
    },
    {
     "name": "stdout",
     "output_type": "stream",
     "text": [
      "Est. true value:\t7.987022223414517\n",
      "Config:\t{'pop_size': 247, 'generations': 500, 'elite_split': 0.04, 'tournament_split': 0.09, 'mutation_rate': 0.8, 'crossover_rate': 0.0}\n",
      "Value:\t7.890026695976286\n"
     ]
    },
    {
     "name": "stderr",
     "output_type": "stream",
     "text": [
      "EvoBandits | Run:  80%|████████  | 40/50 [58:12:16<15:41:09, 5646.95s/it]"
     ]
    },
    {
     "name": "stdout",
     "output_type": "stream",
     "text": [
      "Est. true value:\t7.974329877225645\n",
      "Config:\t{'pop_size': 250, 'generations': 400, 'elite_split': 0.2, 'tournament_split': 0.09, 'mutation_rate': 0.81, 'crossover_rate': 0.0}\n",
      "Value:\t7.927989017286298\n"
     ]
    },
    {
     "name": "stderr",
     "output_type": "stream",
     "text": [
      "EvoBandits | Run:  82%|████████▏ | 41/50 [59:24:02<13:06:43, 5244.86s/it]"
     ]
    },
    {
     "name": "stdout",
     "output_type": "stream",
     "text": [
      "Est. true value:\t8.030080284244177\n",
      "Config:\t{'pop_size': 250, 'generations': 500, 'elite_split': 0.01, 'tournament_split': 0.05, 'mutation_rate': 0.65, 'crossover_rate': 0.0}\n",
      "Value:\t7.875789725364237\n"
     ]
    },
    {
     "name": "stderr",
     "output_type": "stream",
     "text": [
      "EvoBandits | Run:  84%|████████▍ | 42/50 [60:57:01<11:52:40, 5345.01s/it]"
     ]
    },
    {
     "name": "stdout",
     "output_type": "stream",
     "text": [
      "Est. true value:\t7.986542463409997\n",
      "Config:\t{'pop_size': 200, 'generations': 500, 'elite_split': 0.02, 'tournament_split': 0.06, 'mutation_rate': 0.75, 'crossover_rate': 0.01}\n",
      "Value:\t7.85948347105605\n"
     ]
    },
    {
     "name": "stderr",
     "output_type": "stream",
     "text": [
      "EvoBandits | Run:  86%|████████▌ | 43/50 [62:03:52<9:36:52, 4944.68s/it] "
     ]
    },
    {
     "name": "stdout",
     "output_type": "stream",
     "text": [
      "Est. true value:\t8.036028811322327\n",
      "Config:\t{'pop_size': 229, 'generations': 500, 'elite_split': 0.0, 'tournament_split': 0.08, 'mutation_rate': 0.63, 'crossover_rate': 0.06}\n",
      "Value:\t7.861662036496136\n"
     ]
    },
    {
     "name": "stderr",
     "output_type": "stream",
     "text": [
      "EvoBandits | Run:  88%|████████▊ | 44/50 [63:33:19<8:27:08, 5071.36s/it]"
     ]
    },
    {
     "name": "stdout",
     "output_type": "stream",
     "text": [
      "Est. true value:\t8.020267742945215\n",
      "Config:\t{'pop_size': 209, 'generations': 500, 'elite_split': 0.11, 'tournament_split': 0.07, 'mutation_rate': 0.9400000000000001, 'crossover_rate': 0.0}\n",
      "Value:\t7.846357529578726\n"
     ]
    },
    {
     "name": "stderr",
     "output_type": "stream",
     "text": [
      "EvoBandits | Run:  90%|█████████ | 45/50 [64:50:49<6:52:04, 4944.90s/it]"
     ]
    },
    {
     "name": "stdout",
     "output_type": "stream",
     "text": [
      "Est. true value:\t7.982574206573523\n",
      "Config:\t{'pop_size': 209, 'generations': 500, 'elite_split': 0.0, 'tournament_split': 0.09, 'mutation_rate': 0.54, 'crossover_rate': 0.01}\n",
      "Value:\t7.896837829998442\n"
     ]
    },
    {
     "name": "stderr",
     "output_type": "stream",
     "text": [
      "EvoBandits | Run:  92%|█████████▏| 46/50 [66:05:01<5:19:48, 4797.10s/it]"
     ]
    },
    {
     "name": "stdout",
     "output_type": "stream",
     "text": [
      "Est. true value:\t8.03635308957322\n",
      "Config:\t{'pop_size': 232, 'generations': 500, 'elite_split': 0.0, 'tournament_split': 0.07, 'mutation_rate': 0.54, 'crossover_rate': 0.04}\n",
      "Value:\t7.818947143584331\n"
     ]
    },
    {
     "name": "stderr",
     "output_type": "stream",
     "text": [
      "EvoBandits | Run:  94%|█████████▍| 47/50 [67:38:19<4:11:52, 5037.44s/it]"
     ]
    },
    {
     "name": "stdout",
     "output_type": "stream",
     "text": [
      "Est. true value:\t8.03253549623815\n",
      "Config:\t{'pop_size': 250, 'generations': 400, 'elite_split': 0.11, 'tournament_split': 0.07, 'mutation_rate': 0.9500000000000001, 'crossover_rate': 0.0}\n",
      "Value:\t7.903605700234994\n"
     ]
    },
    {
     "name": "stderr",
     "output_type": "stream",
     "text": [
      "EvoBandits | Run:  96%|█████████▌| 48/50 [68:57:21<2:44:57, 4948.90s/it]"
     ]
    },
    {
     "name": "stdout",
     "output_type": "stream",
     "text": [
      "Est. true value:\t8.059633556200282\n",
      "Config:\t{'pop_size': 250, 'generations': 500, 'elite_split': 0.03, 'tournament_split': 0.07, 'mutation_rate': 0.84, 'crossover_rate': 0.0}\n",
      "Value:\t7.8601310346791795\n"
     ]
    },
    {
     "name": "stderr",
     "output_type": "stream",
     "text": [
      "EvoBandits | Run:  98%|█████████▊| 49/50 [70:27:49<1:24:52, 5092.49s/it]"
     ]
    },
    {
     "name": "stdout",
     "output_type": "stream",
     "text": [
      "Est. true value:\t7.984837240667651\n",
      "Config:\t{'pop_size': 234, 'generations': 500, 'elite_split': 0.03, 'tournament_split': 0.08, 'mutation_rate': 0.8, 'crossover_rate': 0.13}\n",
      "Value:\t7.903063362310793\n"
     ]
    },
    {
     "name": "stderr",
     "output_type": "stream",
     "text": [
      "EvoBandits | Run: 100%|██████████| 50/50 [71:51:50<00:00, 5174.22s/it]  "
     ]
    },
    {
     "name": "stdout",
     "output_type": "stream",
     "text": [
      "Est. true value:\t7.997906602060502\n"
     ]
    },
    {
     "name": "stderr",
     "output_type": "stream",
     "text": [
      "\n"
     ]
    }
   ],
   "source": [
    "def objective(seed: int, **params: dict):\n",
    "    \"\"\"Seeded, single-objective function to simulate the GA.\"\"\"\n",
    "    best_cost, _ = genetic_algorithm(seed=seed, **params)\n",
    "    return best_cost\n",
    "\n",
    "params = {\n",
    "    \"pop_size\": CategoricalParam(POP_SIZE_RANGE),\n",
    "    \"generations\": CategoricalParam(GENERATIONS_RANGE),\n",
    "    \"elite_split\": CategoricalParam(ELITE_SPLIT_RANGE), \n",
    "    \"tournament_split\": CategoricalParam(TOURNAMENT_SPLIT_RANGE),\n",
    "    \"mutation_rate\": CategoricalParam(MUTATION_RATE_RANGE), \n",
    "    \"crossover_rate\": CategoricalParam(CROSSOVER_RATE_RANGE), \n",
    "}\n",
    "\n",
    "print(\"\\nRunning optimization ...\")\n",
    "results_evobandits = []\n",
    "\n",
    "for run_id in tqdm(range(N_RUNS), desc=\"EvoBandits | Run\"):\n",
    "    seed = SEED + run_id\n",
    "    gmab = GMAB(population_size=10)\n",
    "    study = Study(seed=seed, algorithm=gmab)\n",
    "    study.optimize(objective, params, n_trials=SIM_BUDGET)\n",
    "    print(f\"Config:\\t{study.best_params}\")\n",
    "    print(f\"Value:\\t{study.best_value}\")\n",
    "\n",
    "    mean_evaluation, evaluations = estimate_true_value(seed, study.best_params)\n",
    "    print(f\"Est. true value:\\t{mean_evaluation}\")\n",
    "\n",
    "    results_evobandits.append({\n",
    "        \"mean_evaluation\": mean_evaluation,\n",
    "        \"evaluations\": evaluations,\n",
    "        \"best_solution\": study.best_solution,\n",
    "        \"seed\": seed\n",
    "    })\n",
    "\n",
    "    with open(Path(\"_data/04_results_evobandits.json\"), 'w') as f:\n",
    "        json.dump(results_evobandits, f)"
   ]
  },
  {
   "cell_type": "markdown",
   "id": "7aa0339d",
   "metadata": {},
   "source": [
    "### 2.2 IRACE"
   ]
  },
  {
   "cell_type": "code",
   "execution_count": 12,
   "id": "cd4a9ff0",
   "metadata": {},
   "outputs": [
    {
     "name": "stdout",
     "output_type": "stream",
     "text": [
      "\n",
      "Running optimization ...\n"
     ]
    },
    {
     "name": "stderr",
     "output_type": "stream",
     "text": [
      "IRACE | Run:   0%|          | 0/50 [00:00<?, ?it/s]"
     ]
    },
    {
     "name": "stdout",
     "output_type": "stream",
     "text": [
      "\n",
      "Running optimization ...\n"
     ]
    },
    {
     "name": "stderr",
     "output_type": "stream",
     "text": [
      "Error importing in API mode: ImportError('On Windows, cffi mode \"ANY\" is only \"ABI\".')\n",
      "Trying to import in ABI mode.\n",
      "c:\\Users\\fwuer\\Code\\evobandits-demo\\.venv\\Lib\\site-packages\\rpy2\\rinterface\\__init__.py:1211: UserWarning: Environment variable \"PATH\" redefined by R and overriding existing variable. Current: \"c:\\Users\\fwuer\\Code\\evobandits-demo\\.venv\\Scripts;C:\\Program Files (x86)\\Intel\\iCLS Client\\;C:\\Program Files\\Intel\\iCLS Client\\;C:\\WINDOWS\\system32;C:\\WINDOWS;C:\\WINDOWS\\System32\\Wbem;C:\\WINDOWS\\System32\\WindowsPowerShell\\v1.0\\;C:\\Program Files (x86)\\Intel\\Intel(R) Management Engine Components\\DAL;C:\\Program Files\\Intel\\Intel(R) Management Engine Components\\DAL;C:\\Program Files (x86)\\Intel\\Intel(R) Management Engine Components\\IPT;C:\\Program Files\\Intel\\Intel(R) Management Engine Components\\IPT;C:\\Program Files\\Intel\\WiFi\\bin\\;C:\\Program Files\\Common Files\\Intel\\WirelessCommon\\;C:\\WINDOWS\\System32\\OpenSSH\\;C:\\Program Files\\Git\\cmd;C:\\Users\\fwuer\\AppData\\Local\\Programs\\Python\\Launcher\\;C:\\Users\\fwuer\\AppData\\Local\\Microsoft\\WindowsApps;C:\\Users\\fwuer\\AppData\\Local\\Programs\\Microsoft VS Code\\bin;C:\\Program Files\\R\\R-4.4.1\\bin\\x64;;C:\\Program Files\\R\\R-4.4.1\\bin\\x64\", R: \"C:\\rtools44/x86_64-w64-mingw32.static.posix/bin;C:\\rtools44/usr/bin;c:\\Users\\fwuer\\Code\\evobandits-demo\\.venv\\Scripts;C:\\Program Files (x86)\\Intel\\iCLS Client\\;C:\\Program Files\\Intel\\iCLS Client\\;C:\\WINDOWS\\system32;C:\\WINDOWS;C:\\WINDOWS\\System32\\Wbem;C:\\WINDOWS\\System32\\WindowsPowerShell\\v1.0\\;C:\\Program Files (x86)\\Intel\\Intel(R) Management Engine Components\\DAL;C:\\Program Files\\Intel\\Intel(R) Management Engine Components\\DAL;C:\\Program Files (x86)\\Intel\\Intel(R) Management Engine Components\\IPT;C:\\Program Files\\Intel\\Intel(R) Management Engine Components\\IPT;C:\\Program Files\\Intel\\WiFi\\bin\\;C:\\Program Files\\Common Files\\Intel\\WirelessCommon\\;C:\\WINDOWS\\System32\\OpenSSH\\;C:\\Program Files\\Git\\cmd;C:\\Users\\fwuer\\AppData\\Local\\Programs\\Python\\Launcher\\;C:\\Users\\fwuer\\AppData\\Local\\Microsoft\\WindowsApps;C:\\Users\\fwuer\\AppData\\Local\\Programs\\Microsoft VS Code\\bin;C:\\Program Files\\R\\R-4.4.1\\bin\\x64;;C:\\Program Files\\R\\R-4.4.1\\bin\\x64\"\n",
      "  warnings.warn(\n",
      "c:\\Users\\fwuer\\Code\\evobandits-demo\\.venv\\Lib\\site-packages\\rpy2\\rinterface\\__init__.py:1211: UserWarning: Environment variable \"R_HOME\" redefined by R and overriding existing variable. Current: \"C:\\Program Files\\R\\R-4.4.1\", R: \"C:/PROGRA~1/R/R-44~1.1\"\n",
      "  warnings.warn(\n",
      "c:\\Users\\fwuer\\Code\\evobandits-demo\\.venv\\Lib\\site-packages\\rpy2\\rinterface\\__init__.py:1211: UserWarning: Environment variable \"PATH\" redefined by R and overriding existing variable. Current: \"C:\\rtools44/x86_64-w64-mingw32.static.posix/bin;C:\\rtools44/usr/bin;c:\\Users\\fwuer\\Code\\evobandits-demo\\.venv\\Scripts;C:\\Program Files (x86)\\Intel\\iCLS Client\\;C:\\Program Files\\Intel\\iCLS Client\\;C:\\WINDOWS\\system32;C:\\WINDOWS;C:\\WINDOWS\\System32\\Wbem;C:\\WINDOWS\\System32\\WindowsPowerShell\\v1.0\\;C:\\Program Files (x86)\\Intel\\Intel(R) Management Engine Components\\DAL;C:\\Program Files\\Intel\\Intel(R) Management Engine Components\\DAL;C:\\Program Files (x86)\\Intel\\Intel(R) Management Engine Components\\IPT;C:\\Program Files\\Intel\\Intel(R) Management Engine Components\\IPT;C:\\Program Files\\Intel\\WiFi\\bin\\;C:\\Program Files\\Common Files\\Intel\\WirelessCommon\\;C:\\WINDOWS\\System32\\OpenSSH\\;C:\\Program Files\\Git\\cmd;C:\\Users\\fwuer\\AppData\\Local\\Programs\\Python\\Launcher\\;C:\\Users\\fwuer\\AppData\\Local\\Microsoft\\WindowsApps;C:\\Users\\fwuer\\AppData\\Local\\Programs\\Microsoft VS Code\\bin;C:\\Program Files\\R\\R-4.4.1\\bin\\x64;;C:\\Program Files\\R\\R-4.4.1\\bin\\x64\", R: \"C:\\rtools44/x86_64-w64-mingw32.static.posix/bin;C:\\rtools44/usr/bin;C:\\rtools44/x86_64-w64-mingw32.static.posix/bin;C:\\rtools44/usr/bin;C:\\rtools44/x86_64-w64-mingw32.static.posix/bin;C:\\rtools44/usr/bin;c:\\Users\\fwuer\\Code\\evobandits-demo\\.venv\\Scripts;C:\\Program Files (x86)\\Intel\\iCLS Client\\;C:\\Program Files\\Intel\\iCLS Client\\;C:\\WINDOWS\\system32;C:\\WINDOWS;C:\\WINDOWS\\System32\\Wbem;C:\\WINDOWS\\System32\\WindowsPowerShell\\v1.0\\;C:\\Program Files (x86)\\Intel\\Intel(R) Management Engine Components\\DAL;C:\\Program Files\\Intel\\Intel(R) Management Engine Components\\DAL;C:\\Program Files (x86)\\Intel\\Intel(R) Management Engine Components\\IPT;C:\\Program Files\\Intel\\Intel(R) Management Engine Components\\IPT;C:\\Program Files\\Intel\\WiFi\\bin\\;C:\\Program Files\\Common Files\\Intel\\WirelessCommon\\;C:\\WINDOWS\\System32\\OpenSSH\\;C:\\Program Files\\Git\\cmd;C:\\Users\\fwuer\\AppData\\Local\\Programs\\Python\\Launcher\\;C:\\Users\\fwuer\\AppData\\Local\\Microsoft\\WindowsApps;C:\\Users\\fwuer\\AppData\\Local\\Programs\\Microsoft VS Code\\bin;C:\\Program Files\\R\\R-4.4.1\\bin\\x64;;C:\\Program Files\\R\\R-4.4.1\\bin\\x64\"\n",
      "  warnings.warn(\n"
     ]
    },
    {
     "name": "stdout",
     "output_type": "stream",
     "text": [
      "Config:\tOrderedDict({'pop_size': 199, 'generations': 500, 'elite_split': 0.11, 'tournament_split': 0.09, 'crossover_rate': 0.08, 'mutation_rate': 0.96})\n"
     ]
    },
    {
     "name": "stderr",
     "output_type": "stream",
     "text": [
      "IRACE | Run:   2%|▏         | 1/50 [57:38<47:04:17, 3458.32s/it]"
     ]
    },
    {
     "name": "stdout",
     "output_type": "stream",
     "text": [
      "Est. true value:\t8.004072794238738\n",
      "\n",
      "Running optimization ...\n",
      "Config:\tOrderedDict({'pop_size': 186, 'generations': 500, 'elite_split': 0.15, 'tournament_split': 0.08, 'crossover_rate': 0.01, 'mutation_rate': 0.84})\n"
     ]
    },
    {
     "name": "stderr",
     "output_type": "stream",
     "text": [
      "IRACE | Run:   4%|▍         | 2/50 [1:48:37<42:59:02, 3223.79s/it]"
     ]
    },
    {
     "name": "stdout",
     "output_type": "stream",
     "text": [
      "Est. true value:\t8.05216708562738\n",
      "\n",
      "Running optimization ...\n",
      "Config:\tOrderedDict({'pop_size': 231, 'generations': 500, 'elite_split': 0.05, 'tournament_split': 0.07, 'crossover_rate': 0.25, 'mutation_rate': 0.92})\n"
     ]
    },
    {
     "name": "stderr",
     "output_type": "stream",
     "text": [
      "IRACE | Run:   6%|▌         | 3/50 [2:56:48<47:15:16, 3619.51s/it]"
     ]
    },
    {
     "name": "stdout",
     "output_type": "stream",
     "text": [
      "Est. true value:\t8.031273803417456\n",
      "\n",
      "Running optimization ...\n",
      "Config:\tOrderedDict({'pop_size': 239, 'generations': 500, 'elite_split': 0.02, 'tournament_split': 0.1, 'crossover_rate': 0.09, 'mutation_rate': 0.91})\n"
     ]
    },
    {
     "name": "stderr",
     "output_type": "stream",
     "text": [
      "IRACE | Run:   8%|▊         | 4/50 [4:13:47<51:17:29, 4014.13s/it]"
     ]
    },
    {
     "name": "stdout",
     "output_type": "stream",
     "text": [
      "Est. true value:\t7.95148684778089\n",
      "\n",
      "Running optimization ...\n",
      "Config:\tOrderedDict({'pop_size': 234, 'generations': 500, 'elite_split': 0.15, 'tournament_split': 0.09, 'crossover_rate': 0.04, 'mutation_rate': 0.91})\n"
     ]
    },
    {
     "name": "stderr",
     "output_type": "stream",
     "text": [
      "IRACE | Run:  10%|█         | 5/50 [5:23:30<50:56:19, 4075.10s/it]"
     ]
    },
    {
     "name": "stdout",
     "output_type": "stream",
     "text": [
      "Est. true value:\t7.99988265748262\n",
      "\n",
      "Running optimization ...\n",
      "Config:\tOrderedDict({'pop_size': 246, 'generations': 500, 'elite_split': 0.11, 'tournament_split': 0.1, 'crossover_rate': 0.02, 'mutation_rate': 0.42})\n"
     ]
    },
    {
     "name": "stderr",
     "output_type": "stream",
     "text": [
      "IRACE | Run:  12%|█▏        | 6/50 [6:27:43<48:52:59, 3999.54s/it]"
     ]
    },
    {
     "name": "stdout",
     "output_type": "stream",
     "text": [
      "Est. true value:\t8.088061893715068\n",
      "\n",
      "Running optimization ...\n",
      "Config:\tOrderedDict({'pop_size': 220, 'generations': 500, 'elite_split': 0.09, 'tournament_split': 0.1, 'crossover_rate': 0.08, 'mutation_rate': 0.8})\n"
     ]
    },
    {
     "name": "stderr",
     "output_type": "stream",
     "text": [
      "IRACE | Run:  14%|█▍        | 7/50 [7:29:20<46:35:26, 3900.61s/it]"
     ]
    },
    {
     "name": "stdout",
     "output_type": "stream",
     "text": [
      "Est. true value:\t8.00135788671384\n",
      "\n",
      "Running optimization ...\n",
      "Config:\tOrderedDict({'pop_size': 224, 'generations': 500, 'elite_split': 0.02, 'tournament_split': 0.1, 'crossover_rate': 0.31, 'mutation_rate': 0.9400000000000001})\n"
     ]
    },
    {
     "name": "stderr",
     "output_type": "stream",
     "text": [
      "IRACE | Run:  16%|█▌        | 8/50 [8:41:03<47:00:05, 4028.69s/it]"
     ]
    },
    {
     "name": "stdout",
     "output_type": "stream",
     "text": [
      "Est. true value:\t8.018989347888024\n",
      "\n",
      "Running optimization ...\n",
      "Config:\tOrderedDict({'pop_size': 189, 'generations': 500, 'elite_split': 0.01, 'tournament_split': 0.1, 'crossover_rate': 0.04, 'mutation_rate': 0.37})\n"
     ]
    },
    {
     "name": "stderr",
     "output_type": "stream",
     "text": [
      "IRACE | Run:  18%|█▊        | 9/50 [9:32:28<42:31:22, 3733.71s/it]"
     ]
    },
    {
     "name": "stdout",
     "output_type": "stream",
     "text": [
      "Est. true value:\t8.219177658881737\n",
      "\n",
      "Running optimization ...\n",
      "Config:\tOrderedDict({'pop_size': 233, 'generations': 500, 'elite_split': 0.05, 'tournament_split': 0.08, 'crossover_rate': 0.16, 'mutation_rate': 0.61})\n"
     ]
    },
    {
     "name": "stderr",
     "output_type": "stream",
     "text": [
      "IRACE | Run:  20%|██        | 10/50 [10:35:40<41:41:11, 3751.78s/it]"
     ]
    },
    {
     "name": "stdout",
     "output_type": "stream",
     "text": [
      "Est. true value:\t8.02562543390154\n",
      "\n",
      "Running optimization ...\n",
      "Config:\tOrderedDict({'pop_size': 185, 'generations': 500, 'elite_split': 0.09, 'tournament_split': 0.08, 'crossover_rate': 0.16, 'mutation_rate': 0.55})\n"
     ]
    },
    {
     "name": "stderr",
     "output_type": "stream",
     "text": [
      "IRACE | Run:  22%|██▏       | 11/50 [11:28:29<38:42:36, 3573.25s/it]"
     ]
    },
    {
     "name": "stdout",
     "output_type": "stream",
     "text": [
      "Est. true value:\t8.146476638833853\n",
      "\n",
      "Running optimization ...\n",
      "Config:\tOrderedDict({'pop_size': 228, 'generations': 500, 'elite_split': 0.13, 'tournament_split': 0.1, 'crossover_rate': 0.0, 'mutation_rate': 1.0})\n"
     ]
    },
    {
     "name": "stderr",
     "output_type": "stream",
     "text": [
      "IRACE | Run:  24%|██▍       | 12/50 [12:31:42<38:25:33, 3640.35s/it]"
     ]
    },
    {
     "name": "stdout",
     "output_type": "stream",
     "text": [
      "Est. true value:\t7.925083006492\n",
      "\n",
      "Running optimization ...\n",
      "Config:\tOrderedDict({'pop_size': 178, 'generations': 500, 'elite_split': 0.02, 'tournament_split': 0.09, 'crossover_rate': 0.11, 'mutation_rate': 0.92})\n"
     ]
    },
    {
     "name": "stderr",
     "output_type": "stream",
     "text": [
      "IRACE | Run:  26%|██▌       | 13/50 [13:31:58<37:20:15, 3632.85s/it]"
     ]
    },
    {
     "name": "stdout",
     "output_type": "stream",
     "text": [
      "Est. true value:\t8.022344160410249\n",
      "\n",
      "Running optimization ...\n",
      "Config:\tOrderedDict({'pop_size': 210, 'generations': 500, 'elite_split': 0.05, 'tournament_split': 0.09, 'crossover_rate': 0.06, 'mutation_rate': 0.79})\n"
     ]
    },
    {
     "name": "stderr",
     "output_type": "stream",
     "text": [
      "IRACE | Run:  28%|██▊       | 14/50 [14:33:45<36:33:04, 3655.11s/it]"
     ]
    },
    {
     "name": "stdout",
     "output_type": "stream",
     "text": [
      "Est. true value:\t7.999238230924029\n",
      "\n",
      "Running optimization ...\n",
      "Config:\tOrderedDict({'pop_size': 244, 'generations': 500, 'elite_split': 0.2, 'tournament_split': 0.09, 'crossover_rate': 0.46, 'mutation_rate': 0.8})\n"
     ]
    },
    {
     "name": "stderr",
     "output_type": "stream",
     "text": [
      "IRACE | Run:  30%|███       | 15/50 [15:38:32<36:13:01, 3725.17s/it]"
     ]
    },
    {
     "name": "stdout",
     "output_type": "stream",
     "text": [
      "Est. true value:\t8.11220870703789\n",
      "\n",
      "Running optimization ...\n",
      "Config:\tOrderedDict({'pop_size': 241, 'generations': 500, 'elite_split': 0.03, 'tournament_split': 0.07, 'crossover_rate': 0.25, 'mutation_rate': 0.66})\n"
     ]
    },
    {
     "name": "stderr",
     "output_type": "stream",
     "text": [
      "IRACE | Run:  32%|███▏      | 16/50 [16:53:41<37:24:33, 3960.98s/it]"
     ]
    },
    {
     "name": "stdout",
     "output_type": "stream",
     "text": [
      "Est. true value:\t8.032221640211574\n",
      "\n",
      "Running optimization ...\n",
      "Config:\tOrderedDict({'pop_size': 224, 'generations': 500, 'elite_split': 0.14, 'tournament_split': 0.08, 'crossover_rate': 0.29, 'mutation_rate': 0.88})\n"
     ]
    },
    {
     "name": "stderr",
     "output_type": "stream",
     "text": [
      "IRACE | Run:  34%|███▍      | 17/50 [17:57:53<36:00:34, 3928.32s/it]"
     ]
    },
    {
     "name": "stdout",
     "output_type": "stream",
     "text": [
      "Est. true value:\t8.056807736628278\n",
      "\n",
      "Running optimization ...\n",
      "Config:\tOrderedDict({'pop_size': 242, 'generations': 500, 'elite_split': 0.03, 'tournament_split': 0.09, 'crossover_rate': 0.08, 'mutation_rate': 0.8200000000000001})\n"
     ]
    },
    {
     "name": "stderr",
     "output_type": "stream",
     "text": [
      "IRACE | Run:  36%|███▌      | 18/50 [19:11:28<36:13:02, 4074.44s/it]"
     ]
    },
    {
     "name": "stdout",
     "output_type": "stream",
     "text": [
      "Est. true value:\t7.970269184206076\n",
      "\n",
      "Running optimization ...\n",
      "Config:\tOrderedDict({'pop_size': 133, 'generations': 500, 'elite_split': 0.01, 'tournament_split': 0.09, 'crossover_rate': 0.02, 'mutation_rate': 0.62})\n"
     ]
    },
    {
     "name": "stderr",
     "output_type": "stream",
     "text": [
      "IRACE | Run:  38%|███▊      | 19/50 [19:53:23<31:03:09, 3606.13s/it]"
     ]
    },
    {
     "name": "stdout",
     "output_type": "stream",
     "text": [
      "Est. true value:\t8.212965176667538\n",
      "\n",
      "Running optimization ...\n",
      "Config:\tOrderedDict({'pop_size': 204, 'generations': 500, 'elite_split': 0.07, 'tournament_split': 0.1, 'crossover_rate': 0.02, 'mutation_rate': 0.84})\n"
     ]
    },
    {
     "name": "stderr",
     "output_type": "stream",
     "text": [
      "IRACE | Run:  40%|████      | 20/50 [20:58:30<30:48:16, 3696.56s/it]"
     ]
    },
    {
     "name": "stdout",
     "output_type": "stream",
     "text": [
      "Est. true value:\t8.034493228944035\n",
      "\n",
      "Running optimization ...\n",
      "Config:\tOrderedDict({'pop_size': 233, 'generations': 500, 'elite_split': 0.15, 'tournament_split': 0.07, 'crossover_rate': 0.1, 'mutation_rate': 0.64})\n"
     ]
    },
    {
     "name": "stderr",
     "output_type": "stream",
     "text": [
      "IRACE | Run:  42%|████▏     | 21/50 [22:03:07<30:12:52, 3750.76s/it]"
     ]
    },
    {
     "name": "stdout",
     "output_type": "stream",
     "text": [
      "Est. true value:\t8.04800491992849\n",
      "\n",
      "Running optimization ...\n",
      "Config:\tOrderedDict({'pop_size': 245, 'generations': 500, 'elite_split': 0.15, 'tournament_split': 0.06, 'crossover_rate': 0.26, 'mutation_rate': 0.61})\n"
     ]
    },
    {
     "name": "stderr",
     "output_type": "stream",
     "text": [
      "IRACE | Run:  44%|████▍     | 22/50 [23:06:34<29:18:09, 3767.50s/it]"
     ]
    },
    {
     "name": "stdout",
     "output_type": "stream",
     "text": [
      "Est. true value:\t8.093804689245776\n",
      "\n",
      "Running optimization ...\n",
      "Config:\tOrderedDict({'pop_size': 205, 'generations': 500, 'elite_split': 0.06, 'tournament_split': 0.05, 'crossover_rate': 0.11, 'mutation_rate': 0.56})\n"
     ]
    },
    {
     "name": "stderr",
     "output_type": "stream",
     "text": [
      "IRACE | Run:  46%|████▌     | 23/50 [24:04:02<27:32:15, 3671.70s/it]"
     ]
    },
    {
     "name": "stdout",
     "output_type": "stream",
     "text": [
      "Est. true value:\t8.15480769408553\n",
      "\n",
      "Running optimization ...\n",
      "Config:\tOrderedDict({'pop_size': 239, 'generations': 500, 'elite_split': 0.11, 'tournament_split': 0.09, 'crossover_rate': 0.39, 'mutation_rate': 0.6900000000000001})\n"
     ]
    },
    {
     "name": "stderr",
     "output_type": "stream",
     "text": [
      "IRACE | Run:  48%|████▊     | 24/50 [25:13:06<27:32:31, 3813.53s/it]"
     ]
    },
    {
     "name": "stdout",
     "output_type": "stream",
     "text": [
      "Est. true value:\t8.093142637743231\n",
      "\n",
      "Running optimization ...\n",
      "Config:\tOrderedDict({'pop_size': 246, 'generations': 500, 'elite_split': 0.09, 'tournament_split': 0.1, 'crossover_rate': 0.13, 'mutation_rate': 0.91})\n"
     ]
    },
    {
     "name": "stderr",
     "output_type": "stream",
     "text": [
      "IRACE | Run:  50%|█████     | 25/50 [26:31:34<28:20:44, 4081.77s/it]"
     ]
    },
    {
     "name": "stdout",
     "output_type": "stream",
     "text": [
      "Est. true value:\t7.959120308561875\n",
      "\n",
      "Running optimization ...\n",
      "Config:\tOrderedDict({'pop_size': 239, 'generations': 500, 'elite_split': 0.0, 'tournament_split': 0.09, 'crossover_rate': 0.31, 'mutation_rate': 0.6})\n"
     ]
    },
    {
     "name": "stderr",
     "output_type": "stream",
     "text": [
      "IRACE | Run:  52%|█████▏    | 26/50 [27:45:21<27:54:07, 4185.32s/it]"
     ]
    },
    {
     "name": "stdout",
     "output_type": "stream",
     "text": [
      "Est. true value:\t8.020945330613724\n",
      "\n",
      "Running optimization ...\n",
      "Config:\tOrderedDict({'pop_size': 242, 'generations': 500, 'elite_split': 0.15, 'tournament_split': 0.08, 'crossover_rate': 0.3, 'mutation_rate': 0.79})\n"
     ]
    },
    {
     "name": "stderr",
     "output_type": "stream",
     "text": [
      "IRACE | Run:  54%|█████▍    | 27/50 [28:52:25<26:25:52, 4137.05s/it]"
     ]
    },
    {
     "name": "stdout",
     "output_type": "stream",
     "text": [
      "Est. true value:\t8.03476531770876\n",
      "\n",
      "Running optimization ...\n",
      "Config:\tOrderedDict({'pop_size': 215, 'generations': 400, 'elite_split': 0.04, 'tournament_split': 0.09, 'crossover_rate': 0.25, 'mutation_rate': 0.8})\n"
     ]
    },
    {
     "name": "stderr",
     "output_type": "stream",
     "text": [
      "IRACE | Run:  56%|█████▌    | 28/50 [29:52:23<24:17:31, 3975.08s/it]"
     ]
    },
    {
     "name": "stdout",
     "output_type": "stream",
     "text": [
      "Est. true value:\t8.10211887030004\n",
      "\n",
      "Running optimization ...\n",
      "Config:\tOrderedDict({'pop_size': 185, 'generations': 400, 'elite_split': 0.05, 'tournament_split': 0.07, 'crossover_rate': 0.0, 'mutation_rate': 0.7000000000000001})\n"
     ]
    },
    {
     "name": "stderr",
     "output_type": "stream",
     "text": [
      "IRACE | Run:  58%|█████▊    | 29/50 [30:37:46<20:59:52, 3599.64s/it]"
     ]
    },
    {
     "name": "stdout",
     "output_type": "stream",
     "text": [
      "Est. true value:\t8.220760958977527\n",
      "\n",
      "Running optimization ...\n",
      "Config:\tOrderedDict({'pop_size': 226, 'generations': 400, 'elite_split': 0.05, 'tournament_split': 0.1, 'crossover_rate': 0.04, 'mutation_rate': 0.75})\n"
     ]
    },
    {
     "name": "stderr",
     "output_type": "stream",
     "text": [
      "IRACE | Run:  60%|██████    | 30/50 [31:44:41<20:41:25, 3724.27s/it]"
     ]
    },
    {
     "name": "stdout",
     "output_type": "stream",
     "text": [
      "Est. true value:\t8.035112388112825\n",
      "\n",
      "Running optimization ...\n",
      "Config:\tOrderedDict({'pop_size': 242, 'generations': 500, 'elite_split': 0.14, 'tournament_split': 0.1, 'crossover_rate': 0.04, 'mutation_rate': 0.51})\n"
     ]
    },
    {
     "name": "stderr",
     "output_type": "stream",
     "text": [
      "IRACE | Run:  62%|██████▏   | 31/50 [32:47:00<19:40:41, 3728.51s/it]"
     ]
    },
    {
     "name": "stdout",
     "output_type": "stream",
     "text": [
      "Est. true value:\t8.053033151581516\n",
      "\n",
      "Running optimization ...\n",
      "Config:\tOrderedDict({'pop_size': 217, 'generations': 500, 'elite_split': 0.19, 'tournament_split': 0.08, 'crossover_rate': 0.01, 'mutation_rate': 0.96})\n"
     ]
    },
    {
     "name": "stderr",
     "output_type": "stream",
     "text": [
      "IRACE | Run:  64%|██████▍   | 32/50 [33:44:16<18:12:16, 3640.93s/it]"
     ]
    },
    {
     "name": "stdout",
     "output_type": "stream",
     "text": [
      "Est. true value:\t7.989648154340753\n",
      "\n",
      "Running optimization ...\n",
      "Config:\tOrderedDict({'pop_size': 209, 'generations': 500, 'elite_split': 0.04, 'tournament_split': 0.05, 'crossover_rate': 0.04, 'mutation_rate': 0.6})\n"
     ]
    },
    {
     "name": "stderr",
     "output_type": "stream",
     "text": [
      "IRACE | Run:  66%|██████▌   | 33/50 [34:40:36<16:49:25, 3562.69s/it]"
     ]
    },
    {
     "name": "stdout",
     "output_type": "stream",
     "text": [
      "Est. true value:\t8.065507102499577\n",
      "\n",
      "Running optimization ...\n",
      "Config:\tOrderedDict({'pop_size': 208, 'generations': 500, 'elite_split': 0.09, 'tournament_split': 0.05, 'crossover_rate': 0.14, 'mutation_rate': 0.64})\n"
     ]
    },
    {
     "name": "stderr",
     "output_type": "stream",
     "text": [
      "IRACE | Run:  68%|██████▊   | 34/50 [35:40:03<15:50:19, 3563.74s/it]"
     ]
    },
    {
     "name": "stdout",
     "output_type": "stream",
     "text": [
      "Est. true value:\t8.09638228120826\n",
      "\n",
      "Running optimization ...\n",
      "Config:\tOrderedDict({'pop_size': 210, 'generations': 500, 'elite_split': 0.1, 'tournament_split': 0.08, 'crossover_rate': 0.09, 'mutation_rate': 0.88})\n"
     ]
    },
    {
     "name": "stderr",
     "output_type": "stream",
     "text": [
      "IRACE | Run:  70%|███████   | 35/50 [36:39:37<14:51:44, 3566.96s/it]"
     ]
    },
    {
     "name": "stdout",
     "output_type": "stream",
     "text": [
      "Est. true value:\t8.001625860901022\n",
      "\n",
      "Running optimization ...\n",
      "Config:\tOrderedDict({'pop_size': 245, 'generations': 500, 'elite_split': 0.08, 'tournament_split': 0.09, 'crossover_rate': 0.06, 'mutation_rate': 0.97})\n"
     ]
    },
    {
     "name": "stderr",
     "output_type": "stream",
     "text": [
      "IRACE | Run:  72%|███████▏  | 36/50 [37:50:40<14:41:01, 3775.81s/it]"
     ]
    },
    {
     "name": "stdout",
     "output_type": "stream",
     "text": [
      "Est. true value:\t7.934491349269076\n",
      "\n",
      "Running optimization ...\n",
      "Config:\tOrderedDict({'pop_size': 175, 'generations': 500, 'elite_split': 0.07, 'tournament_split': 0.05, 'crossover_rate': 0.01, 'mutation_rate': 0.62})\n"
     ]
    },
    {
     "name": "stderr",
     "output_type": "stream",
     "text": [
      "IRACE | Run:  74%|███████▍  | 37/50 [38:41:57<12:52:40, 3566.21s/it]"
     ]
    },
    {
     "name": "stdout",
     "output_type": "stream",
     "text": [
      "Est. true value:\t8.15145161155712\n",
      "\n",
      "Running optimization ...\n",
      "Config:\tOrderedDict({'pop_size': 249, 'generations': 500, 'elite_split': 0.0, 'tournament_split': 0.1, 'crossover_rate': 0.11, 'mutation_rate': 0.77})\n"
     ]
    },
    {
     "name": "stderr",
     "output_type": "stream",
     "text": [
      "IRACE | Run:  76%|███████▌  | 38/50 [39:51:07<12:28:14, 3741.20s/it]"
     ]
    },
    {
     "name": "stdout",
     "output_type": "stream",
     "text": [
      "Est. true value:\t8.004513850519047\n",
      "\n",
      "Running optimization ...\n",
      "Config:\tOrderedDict({'pop_size': 239, 'generations': 500, 'elite_split': 0.18, 'tournament_split': 0.06, 'crossover_rate': 0.02, 'mutation_rate': 0.72})\n"
     ]
    },
    {
     "name": "stderr",
     "output_type": "stream",
     "text": [
      "IRACE | Run:  78%|███████▊  | 39/50 [40:53:29<11:25:56, 3741.51s/it]"
     ]
    },
    {
     "name": "stdout",
     "output_type": "stream",
     "text": [
      "Est. true value:\t8.037915890540077\n",
      "\n",
      "Running optimization ...\n",
      "Config:\tOrderedDict({'pop_size': 241, 'generations': 500, 'elite_split': 0.05, 'tournament_split': 0.07, 'crossover_rate': 0.0, 'mutation_rate': 0.9500000000000001})\n"
     ]
    },
    {
     "name": "stderr",
     "output_type": "stream",
     "text": [
      "IRACE | Run:  80%|████████  | 40/50 [42:07:24<10:58:13, 3949.40s/it]"
     ]
    },
    {
     "name": "stdout",
     "output_type": "stream",
     "text": [
      "Est. true value:\t7.943902812649728\n",
      "\n",
      "Running optimization ...\n",
      "Config:\tOrderedDict({'pop_size': 191, 'generations': 400, 'elite_split': 0.01, 'tournament_split': 0.08, 'crossover_rate': 0.05, 'mutation_rate': 0.92})\n"
     ]
    },
    {
     "name": "stderr",
     "output_type": "stream",
     "text": [
      "IRACE | Run:  82%|████████▏ | 41/50 [42:58:01<9:11:23, 3675.92s/it] "
     ]
    },
    {
     "name": "stdout",
     "output_type": "stream",
     "text": [
      "Est. true value:\t8.290301870697556\n",
      "\n",
      "Running optimization ...\n",
      "Config:\tOrderedDict({'pop_size': 177, 'generations': 500, 'elite_split': 0.03, 'tournament_split': 0.07, 'crossover_rate': 0.13, 'mutation_rate': 0.66})\n"
     ]
    },
    {
     "name": "stderr",
     "output_type": "stream",
     "text": [
      "IRACE | Run:  84%|████████▍ | 42/50 [43:51:36<7:51:39, 3537.49s/it]"
     ]
    },
    {
     "name": "stdout",
     "output_type": "stream",
     "text": [
      "Est. true value:\t8.101417961374867\n",
      "\n",
      "Running optimization ...\n",
      "Config:\tOrderedDict({'pop_size': 250, 'generations': 500, 'elite_split': 0.15, 'tournament_split': 0.06, 'crossover_rate': 0.07, 'mutation_rate': 0.53})\n"
     ]
    },
    {
     "name": "stderr",
     "output_type": "stream",
     "text": [
      "IRACE | Run:  86%|████████▌ | 43/50 [44:54:04<7:00:05, 3600.78s/it]"
     ]
    },
    {
     "name": "stdout",
     "output_type": "stream",
     "text": [
      "Est. true value:\t8.078247392384155\n",
      "\n",
      "Running optimization ...\n",
      "Config:\tOrderedDict({'pop_size': 248, 'generations': 500, 'elite_split': 0.1, 'tournament_split': 0.07, 'crossover_rate': 0.1, 'mutation_rate': 0.75})\n"
     ]
    },
    {
     "name": "stderr",
     "output_type": "stream",
     "text": [
      "IRACE | Run:  88%|████████▊ | 44/50 [46:03:34<6:17:09, 3771.57s/it]"
     ]
    },
    {
     "name": "stdout",
     "output_type": "stream",
     "text": [
      "Est. true value:\t7.998663814233399\n",
      "\n",
      "Running optimization ...\n",
      "Config:\tOrderedDict({'pop_size': 246, 'generations': 500, 'elite_split': 0.1, 'tournament_split': 0.09, 'crossover_rate': 0.14, 'mutation_rate': 0.99})\n"
     ]
    },
    {
     "name": "stderr",
     "output_type": "stream",
     "text": [
      "IRACE | Run:  90%|█████████ | 45/50 [47:11:41<5:22:10, 3866.04s/it]"
     ]
    },
    {
     "name": "stdout",
     "output_type": "stream",
     "text": [
      "Est. true value:\t7.948886355389779\n",
      "\n",
      "Running optimization ...\n",
      "Config:\tOrderedDict({'pop_size': 250, 'generations': 500, 'elite_split': 0.06, 'tournament_split': 0.09, 'crossover_rate': 0.26, 'mutation_rate': 0.88})\n"
     ]
    },
    {
     "name": "stderr",
     "output_type": "stream",
     "text": [
      "IRACE | Run:  92%|█████████▏| 46/50 [48:29:34<4:33:52, 4108.18s/it]"
     ]
    },
    {
     "name": "stdout",
     "output_type": "stream",
     "text": [
      "Est. true value:\t7.979586614273034\n",
      "\n",
      "Running optimization ...\n",
      "Config:\tOrderedDict({'pop_size': 249, 'generations': 500, 'elite_split': 0.01, 'tournament_split': 0.05, 'crossover_rate': 0.21, 'mutation_rate': 0.64})\n"
     ]
    },
    {
     "name": "stderr",
     "output_type": "stream",
     "text": [
      "IRACE | Run:  94%|█████████▍| 47/50 [49:44:46<3:31:27, 4229.30s/it]"
     ]
    },
    {
     "name": "stdout",
     "output_type": "stream",
     "text": [
      "Est. true value:\t8.044047815744674\n",
      "\n",
      "Running optimization ...\n",
      "Config:\tOrderedDict({'pop_size': 218, 'generations': 500, 'elite_split': 0.01, 'tournament_split': 0.09, 'crossover_rate': 0.02, 'mutation_rate': 0.56})\n"
     ]
    },
    {
     "name": "stderr",
     "output_type": "stream",
     "text": [
      "IRACE | Run:  96%|█████████▌| 48/50 [50:49:14<2:17:21, 4120.88s/it]"
     ]
    },
    {
     "name": "stdout",
     "output_type": "stream",
     "text": [
      "Est. true value:\t8.023503910994682\n",
      "\n",
      "Running optimization ...\n",
      "Config:\tOrderedDict({'pop_size': 234, 'generations': 500, 'elite_split': 0.16, 'tournament_split': 0.07, 'crossover_rate': 0.09, 'mutation_rate': 0.79})\n"
     ]
    },
    {
     "name": "stderr",
     "output_type": "stream",
     "text": [
      "IRACE | Run:  98%|█████████▊| 49/50 [51:53:55<1:07:28, 4048.94s/it]"
     ]
    },
    {
     "name": "stdout",
     "output_type": "stream",
     "text": [
      "Est. true value:\t8.000981283021197\n",
      "\n",
      "Running optimization ...\n",
      "Config:\tOrderedDict({'pop_size': 228, 'generations': 500, 'elite_split': 0.1, 'tournament_split': 0.09, 'crossover_rate': 0.01, 'mutation_rate': 0.66})\n"
     ]
    },
    {
     "name": "stderr",
     "output_type": "stream",
     "text": [
      "IRACE | Run: 100%|██████████| 50/50 [53:01:51<00:00, 3818.23s/it]  "
     ]
    },
    {
     "name": "stdout",
     "output_type": "stream",
     "text": [
      "Est. true value:\t8.010732107198164\n"
     ]
    },
    {
     "name": "stderr",
     "output_type": "stream",
     "text": [
      "\n"
     ]
    }
   ],
   "source": [
    "def ga_runner(experiment: Experiment, scenario: Scenario):\n",
    "    \"\"\"Seeded, single-objective function to simulate the GA with irace.\"\"\"\n",
    "    best_cost, _ = genetic_algorithm(\n",
    "        seed=experiment.seed, **experiment.configuration\n",
    "    )\n",
    "    return float(best_cost)\n",
    "\n",
    "param_space = ParameterSpace(\n",
    "    [\n",
    "        Ordinal(\"pop_size\", POP_SIZE_RANGE),\n",
    "        Ordinal(\"generations\", GENERATIONS_RANGE),\n",
    "        Ordinal(\"elite_split\", ELITE_SPLIT_RANGE),\n",
    "        Ordinal(\"tournament_split\", TOURNAMENT_SPLIT_RANGE),\n",
    "        Ordinal(\"crossover_rate\", CROSSOVER_RATE_RANGE),\n",
    "        Ordinal(\"mutation_rate\", MUTATION_RATE_RANGE),\n",
    "    ]\n",
    ")\n",
    "\n",
    "print(\"\\nRunning optimization ...\")\n",
    "results_irace = []\n",
    "\n",
    "for run_id in tqdm(range(N_RUNS), desc=\"IRACE | Run\"):\n",
    "    print(\"\\nRunning optimization ...\")\n",
    "    seed = SEED + run_id\n",
    "    scenario = Scenario(\n",
    "        max_experiments=SIM_BUDGET,\n",
    "        verbose=0,\n",
    "    )\n",
    "    best_params = irace(ga_runner, param_space, scenario)[0]\n",
    "    print(f\"Config:\\t{best_params}\")\n",
    "\n",
    "    mean_evaluation, evaluations = estimate_true_value(seed, best_params)\n",
    "    print(f\"Est. true value:\\t{mean_evaluation}\")\n",
    "\n",
    "    results_irace.append({\n",
    "        \"mean_evaluation\": mean_evaluation,\n",
    "        \"evaluations\": evaluations,\n",
    "        \"best_params\": best_params,\n",
    "        \"seed\": seed,\n",
    "    })\n",
    "\n",
    "    with open(Path(\"_data/04_results_irace.json\"), 'w') as f:\n",
    "        json.dump(results_irace, f)"
   ]
  },
  {
   "cell_type": "markdown",
   "id": "ad3ca236",
   "metadata": {},
   "source": [
    "### 2.3 Hyperband - TPESampler"
   ]
  },
  {
   "cell_type": "code",
   "execution_count": 8,
   "id": "19ac2ee0",
   "metadata": {},
   "outputs": [
    {
     "name": "stdout",
     "output_type": "stream",
     "text": [
      "\n",
      "Running optimization ...\n"
     ]
    },
    {
     "name": "stderr",
     "output_type": "stream",
     "text": [
      "Hyperband | Run:   0%|          | 0/50 [00:00<?, ?it/s]"
     ]
    },
    {
     "name": "stdout",
     "output_type": "stream",
     "text": [
      "Config:\t{'pop_size': 246, 'generations': 500, 'elite_split': 0.04, 'tournament_split': 0.1, 'mutation_rate': 0.87, 'crossover_rate': 0.12}\n",
      "Value:\t[FrozenTrial(number=553, state=1, values=[7.412470815737069], datetime_start=datetime.datetime(2025, 8, 1, 16, 58, 11, 813402), datetime_complete=datetime.datetime(2025, 8, 1, 16, 58, 16, 576614), params={'pop_size': 246, 'generations': 500, 'elite_split': 0.04, 'tournament_split': 0.1, 'mutation_rate': 0.87, 'crossover_rate': 0.12}, user_attrs={}, system_attrs={'completed_rung_0': 7.412470815737069}, intermediate_values={1: 7.412470815737069}, distributions={'pop_size': CategoricalDistribution(choices=(50, 51, 52, 53, 54, 55, 56, 57, 58, 59, 60, 61, 62, 63, 64, 65, 66, 67, 68, 69, 70, 71, 72, 73, 74, 75, 76, 77, 78, 79, 80, 81, 82, 83, 84, 85, 86, 87, 88, 89, 90, 91, 92, 93, 94, 95, 96, 97, 98, 99, 100, 101, 102, 103, 104, 105, 106, 107, 108, 109, 110, 111, 112, 113, 114, 115, 116, 117, 118, 119, 120, 121, 122, 123, 124, 125, 126, 127, 128, 129, 130, 131, 132, 133, 134, 135, 136, 137, 138, 139, 140, 141, 142, 143, 144, 145, 146, 147, 148, 149, 150, 151, 152, 153, 154, 155, 156, 157, 158, 159, 160, 161, 162, 163, 164, 165, 166, 167, 168, 169, 170, 171, 172, 173, 174, 175, 176, 177, 178, 179, 180, 181, 182, 183, 184, 185, 186, 187, 188, 189, 190, 191, 192, 193, 194, 195, 196, 197, 198, 199, 200, 201, 202, 203, 204, 205, 206, 207, 208, 209, 210, 211, 212, 213, 214, 215, 216, 217, 218, 219, 220, 221, 222, 223, 224, 225, 226, 227, 228, 229, 230, 231, 232, 233, 234, 235, 236, 237, 238, 239, 240, 241, 242, 243, 244, 245, 246, 247, 248, 249, 250)), 'generations': CategoricalDistribution(choices=(100, 200, 300, 400, 500)), 'elite_split': CategoricalDistribution(choices=(0.0, 0.01, 0.02, 0.03, 0.04, 0.05, 0.06, 0.07, 0.08, 0.09, 0.1, 0.11, 0.12, 0.13, 0.14, 0.15, 0.16, 0.17, 0.18, 0.19, 0.2)), 'tournament_split': CategoricalDistribution(choices=(0.0, 0.01, 0.02, 0.03, 0.04, 0.05, 0.06, 0.07, 0.08, 0.09, 0.1)), 'mutation_rate': CategoricalDistribution(choices=(0.0, 0.01, 0.02, 0.03, 0.04, 0.05, 0.06, 0.07, 0.08, 0.09, 0.1, 0.11, 0.12, 0.13, 0.14, 0.15, 0.16, 0.17, 0.18, 0.19, 0.2, 0.21, 0.22, 0.23, 0.24, 0.25, 0.26, 0.27, 0.28, 0.29, 0.3, 0.31, 0.32, 0.33, 0.34, 0.35000000000000003, 0.36, 0.37, 0.38, 0.39, 0.4, 0.41000000000000003, 0.42, 0.43, 0.44, 0.45, 0.46, 0.47000000000000003, 0.48, 0.49, 0.5, 0.51, 0.52, 0.53, 0.54, 0.55, 0.56, 0.5700000000000001, 0.58, 0.59, 0.6, 0.61, 0.62, 0.63, 0.64, 0.65, 0.66, 0.67, 0.68, 0.6900000000000001, 0.7000000000000001, 0.71, 0.72, 0.73, 0.74, 0.75, 0.76, 0.77, 0.78, 0.79, 0.8, 0.81, 0.8200000000000001, 0.8300000000000001, 0.84, 0.85, 0.86, 0.87, 0.88, 0.89, 0.9, 0.91, 0.92, 0.93, 0.9400000000000001, 0.9500000000000001, 0.96, 0.97, 0.98, 0.99, 1.0)), 'crossover_rate': CategoricalDistribution(choices=(0.0, 0.01, 0.02, 0.03, 0.04, 0.05, 0.06, 0.07, 0.08, 0.09, 0.1, 0.11, 0.12, 0.13, 0.14, 0.15, 0.16, 0.17, 0.18, 0.19, 0.2, 0.21, 0.22, 0.23, 0.24, 0.25, 0.26, 0.27, 0.28, 0.29, 0.3, 0.31, 0.32, 0.33, 0.34, 0.35000000000000003, 0.36, 0.37, 0.38, 0.39, 0.4, 0.41000000000000003, 0.42, 0.43, 0.44, 0.45, 0.46, 0.47000000000000003, 0.48, 0.49, 0.5, 0.51, 0.52, 0.53, 0.54, 0.55, 0.56, 0.5700000000000001, 0.58, 0.59, 0.6, 0.61, 0.62, 0.63, 0.64, 0.65, 0.66, 0.67, 0.68, 0.6900000000000001, 0.7000000000000001, 0.71, 0.72, 0.73, 0.74, 0.75, 0.76, 0.77, 0.78, 0.79, 0.8, 0.81, 0.8200000000000001, 0.8300000000000001, 0.84, 0.85, 0.86, 0.87, 0.88, 0.89, 0.9, 0.91, 0.92, 0.93, 0.9400000000000001, 0.9500000000000001, 0.96, 0.97, 0.98, 0.99, 1.0))}, trial_id=553, value=None)]\n"
     ]
    },
    {
     "name": "stderr",
     "output_type": "stream",
     "text": [
      "Hyperband | Run:   2%|▏         | 1/50 [1:19:48<65:10:46, 4788.71s/it]"
     ]
    },
    {
     "name": "stdout",
     "output_type": "stream",
     "text": [
      "Est. true value:\t7.984089380348797\n",
      "Config:\t{'pop_size': 223, 'generations': 500, 'elite_split': 0.15, 'tournament_split': 0.09, 'mutation_rate': 0.84, 'crossover_rate': 0.34}\n",
      "Value:\t[FrozenTrial(number=746, state=1, values=[7.45472557770879], datetime_start=datetime.datetime(2025, 8, 1, 18, 24, 34, 120522), datetime_complete=datetime.datetime(2025, 8, 1, 18, 24, 38, 123955), params={'pop_size': 223, 'generations': 500, 'elite_split': 0.15, 'tournament_split': 0.09, 'mutation_rate': 0.84, 'crossover_rate': 0.34}, user_attrs={}, system_attrs={'completed_rung_0': 7.45472557770879}, intermediate_values={1: 7.45472557770879}, distributions={'pop_size': CategoricalDistribution(choices=(50, 51, 52, 53, 54, 55, 56, 57, 58, 59, 60, 61, 62, 63, 64, 65, 66, 67, 68, 69, 70, 71, 72, 73, 74, 75, 76, 77, 78, 79, 80, 81, 82, 83, 84, 85, 86, 87, 88, 89, 90, 91, 92, 93, 94, 95, 96, 97, 98, 99, 100, 101, 102, 103, 104, 105, 106, 107, 108, 109, 110, 111, 112, 113, 114, 115, 116, 117, 118, 119, 120, 121, 122, 123, 124, 125, 126, 127, 128, 129, 130, 131, 132, 133, 134, 135, 136, 137, 138, 139, 140, 141, 142, 143, 144, 145, 146, 147, 148, 149, 150, 151, 152, 153, 154, 155, 156, 157, 158, 159, 160, 161, 162, 163, 164, 165, 166, 167, 168, 169, 170, 171, 172, 173, 174, 175, 176, 177, 178, 179, 180, 181, 182, 183, 184, 185, 186, 187, 188, 189, 190, 191, 192, 193, 194, 195, 196, 197, 198, 199, 200, 201, 202, 203, 204, 205, 206, 207, 208, 209, 210, 211, 212, 213, 214, 215, 216, 217, 218, 219, 220, 221, 222, 223, 224, 225, 226, 227, 228, 229, 230, 231, 232, 233, 234, 235, 236, 237, 238, 239, 240, 241, 242, 243, 244, 245, 246, 247, 248, 249, 250)), 'generations': CategoricalDistribution(choices=(100, 200, 300, 400, 500)), 'elite_split': CategoricalDistribution(choices=(0.0, 0.01, 0.02, 0.03, 0.04, 0.05, 0.06, 0.07, 0.08, 0.09, 0.1, 0.11, 0.12, 0.13, 0.14, 0.15, 0.16, 0.17, 0.18, 0.19, 0.2)), 'tournament_split': CategoricalDistribution(choices=(0.0, 0.01, 0.02, 0.03, 0.04, 0.05, 0.06, 0.07, 0.08, 0.09, 0.1)), 'mutation_rate': CategoricalDistribution(choices=(0.0, 0.01, 0.02, 0.03, 0.04, 0.05, 0.06, 0.07, 0.08, 0.09, 0.1, 0.11, 0.12, 0.13, 0.14, 0.15, 0.16, 0.17, 0.18, 0.19, 0.2, 0.21, 0.22, 0.23, 0.24, 0.25, 0.26, 0.27, 0.28, 0.29, 0.3, 0.31, 0.32, 0.33, 0.34, 0.35000000000000003, 0.36, 0.37, 0.38, 0.39, 0.4, 0.41000000000000003, 0.42, 0.43, 0.44, 0.45, 0.46, 0.47000000000000003, 0.48, 0.49, 0.5, 0.51, 0.52, 0.53, 0.54, 0.55, 0.56, 0.5700000000000001, 0.58, 0.59, 0.6, 0.61, 0.62, 0.63, 0.64, 0.65, 0.66, 0.67, 0.68, 0.6900000000000001, 0.7000000000000001, 0.71, 0.72, 0.73, 0.74, 0.75, 0.76, 0.77, 0.78, 0.79, 0.8, 0.81, 0.8200000000000001, 0.8300000000000001, 0.84, 0.85, 0.86, 0.87, 0.88, 0.89, 0.9, 0.91, 0.92, 0.93, 0.9400000000000001, 0.9500000000000001, 0.96, 0.97, 0.98, 0.99, 1.0)), 'crossover_rate': CategoricalDistribution(choices=(0.0, 0.01, 0.02, 0.03, 0.04, 0.05, 0.06, 0.07, 0.08, 0.09, 0.1, 0.11, 0.12, 0.13, 0.14, 0.15, 0.16, 0.17, 0.18, 0.19, 0.2, 0.21, 0.22, 0.23, 0.24, 0.25, 0.26, 0.27, 0.28, 0.29, 0.3, 0.31, 0.32, 0.33, 0.34, 0.35000000000000003, 0.36, 0.37, 0.38, 0.39, 0.4, 0.41000000000000003, 0.42, 0.43, 0.44, 0.45, 0.46, 0.47000000000000003, 0.48, 0.49, 0.5, 0.51, 0.52, 0.53, 0.54, 0.55, 0.56, 0.5700000000000001, 0.58, 0.59, 0.6, 0.61, 0.62, 0.63, 0.64, 0.65, 0.66, 0.67, 0.68, 0.6900000000000001, 0.7000000000000001, 0.71, 0.72, 0.73, 0.74, 0.75, 0.76, 0.77, 0.78, 0.79, 0.8, 0.81, 0.8200000000000001, 0.8300000000000001, 0.84, 0.85, 0.86, 0.87, 0.88, 0.89, 0.9, 0.91, 0.92, 0.93, 0.9400000000000001, 0.9500000000000001, 0.96, 0.97, 0.98, 0.99, 1.0))}, trial_id=746, value=None)]\n"
     ]
    },
    {
     "name": "stderr",
     "output_type": "stream",
     "text": [
      "Hyperband | Run:   4%|▍         | 2/50 [2:30:59<59:47:16, 4484.09s/it]"
     ]
    },
    {
     "name": "stdout",
     "output_type": "stream",
     "text": [
      "Est. true value:\t8.068697625618748\n",
      "Config:\t{'pop_size': 243, 'generations': 500, 'elite_split': 0.08, 'tournament_split': 0.06, 'mutation_rate': 0.78, 'crossover_rate': 0.03}\n",
      "Value:\t[FrozenTrial(number=327, state=1, values=[7.4901666611251105], datetime_start=datetime.datetime(2025, 8, 1, 19, 19, 55, 271712), datetime_complete=datetime.datetime(2025, 8, 1, 19, 19, 59, 449271), params={'pop_size': 243, 'generations': 500, 'elite_split': 0.08, 'tournament_split': 0.06, 'mutation_rate': 0.78, 'crossover_rate': 0.03}, user_attrs={}, system_attrs={'completed_rung_0': 7.4901666611251105}, intermediate_values={1: 7.4901666611251105}, distributions={'pop_size': CategoricalDistribution(choices=(50, 51, 52, 53, 54, 55, 56, 57, 58, 59, 60, 61, 62, 63, 64, 65, 66, 67, 68, 69, 70, 71, 72, 73, 74, 75, 76, 77, 78, 79, 80, 81, 82, 83, 84, 85, 86, 87, 88, 89, 90, 91, 92, 93, 94, 95, 96, 97, 98, 99, 100, 101, 102, 103, 104, 105, 106, 107, 108, 109, 110, 111, 112, 113, 114, 115, 116, 117, 118, 119, 120, 121, 122, 123, 124, 125, 126, 127, 128, 129, 130, 131, 132, 133, 134, 135, 136, 137, 138, 139, 140, 141, 142, 143, 144, 145, 146, 147, 148, 149, 150, 151, 152, 153, 154, 155, 156, 157, 158, 159, 160, 161, 162, 163, 164, 165, 166, 167, 168, 169, 170, 171, 172, 173, 174, 175, 176, 177, 178, 179, 180, 181, 182, 183, 184, 185, 186, 187, 188, 189, 190, 191, 192, 193, 194, 195, 196, 197, 198, 199, 200, 201, 202, 203, 204, 205, 206, 207, 208, 209, 210, 211, 212, 213, 214, 215, 216, 217, 218, 219, 220, 221, 222, 223, 224, 225, 226, 227, 228, 229, 230, 231, 232, 233, 234, 235, 236, 237, 238, 239, 240, 241, 242, 243, 244, 245, 246, 247, 248, 249, 250)), 'generations': CategoricalDistribution(choices=(100, 200, 300, 400, 500)), 'elite_split': CategoricalDistribution(choices=(0.0, 0.01, 0.02, 0.03, 0.04, 0.05, 0.06, 0.07, 0.08, 0.09, 0.1, 0.11, 0.12, 0.13, 0.14, 0.15, 0.16, 0.17, 0.18, 0.19, 0.2)), 'tournament_split': CategoricalDistribution(choices=(0.0, 0.01, 0.02, 0.03, 0.04, 0.05, 0.06, 0.07, 0.08, 0.09, 0.1)), 'mutation_rate': CategoricalDistribution(choices=(0.0, 0.01, 0.02, 0.03, 0.04, 0.05, 0.06, 0.07, 0.08, 0.09, 0.1, 0.11, 0.12, 0.13, 0.14, 0.15, 0.16, 0.17, 0.18, 0.19, 0.2, 0.21, 0.22, 0.23, 0.24, 0.25, 0.26, 0.27, 0.28, 0.29, 0.3, 0.31, 0.32, 0.33, 0.34, 0.35000000000000003, 0.36, 0.37, 0.38, 0.39, 0.4, 0.41000000000000003, 0.42, 0.43, 0.44, 0.45, 0.46, 0.47000000000000003, 0.48, 0.49, 0.5, 0.51, 0.52, 0.53, 0.54, 0.55, 0.56, 0.5700000000000001, 0.58, 0.59, 0.6, 0.61, 0.62, 0.63, 0.64, 0.65, 0.66, 0.67, 0.68, 0.6900000000000001, 0.7000000000000001, 0.71, 0.72, 0.73, 0.74, 0.75, 0.76, 0.77, 0.78, 0.79, 0.8, 0.81, 0.8200000000000001, 0.8300000000000001, 0.84, 0.85, 0.86, 0.87, 0.88, 0.89, 0.9, 0.91, 0.92, 0.93, 0.9400000000000001, 0.9500000000000001, 0.96, 0.97, 0.98, 0.99, 1.0)), 'crossover_rate': CategoricalDistribution(choices=(0.0, 0.01, 0.02, 0.03, 0.04, 0.05, 0.06, 0.07, 0.08, 0.09, 0.1, 0.11, 0.12, 0.13, 0.14, 0.15, 0.16, 0.17, 0.18, 0.19, 0.2, 0.21, 0.22, 0.23, 0.24, 0.25, 0.26, 0.27, 0.28, 0.29, 0.3, 0.31, 0.32, 0.33, 0.34, 0.35000000000000003, 0.36, 0.37, 0.38, 0.39, 0.4, 0.41000000000000003, 0.42, 0.43, 0.44, 0.45, 0.46, 0.47000000000000003, 0.48, 0.49, 0.5, 0.51, 0.52, 0.53, 0.54, 0.55, 0.56, 0.5700000000000001, 0.58, 0.59, 0.6, 0.61, 0.62, 0.63, 0.64, 0.65, 0.66, 0.67, 0.68, 0.6900000000000001, 0.7000000000000001, 0.71, 0.72, 0.73, 0.74, 0.75, 0.76, 0.77, 0.78, 0.79, 0.8, 0.81, 0.8200000000000001, 0.8300000000000001, 0.84, 0.85, 0.86, 0.87, 0.88, 0.89, 0.9, 0.91, 0.92, 0.93, 0.9400000000000001, 0.9500000000000001, 0.96, 0.97, 0.98, 0.99, 1.0))}, trial_id=327, value=None)]\n"
     ]
    },
    {
     "name": "stderr",
     "output_type": "stream",
     "text": [
      "Hyperband | Run:   6%|▌         | 3/50 [3:46:10<58:42:00, 4496.18s/it]"
     ]
    },
    {
     "name": "stdout",
     "output_type": "stream",
     "text": [
      "Est. true value:\t8.001753435651283\n",
      "Config:\t{'pop_size': 177, 'generations': 500, 'elite_split': 0.01, 'tournament_split': 0.07, 'mutation_rate': 0.81, 'crossover_rate': 0.13}\n",
      "Value:\t[FrozenTrial(number=894, state=1, values=[7.58786992863133], datetime_start=datetime.datetime(2025, 8, 1, 20, 58, 10, 720388), datetime_complete=datetime.datetime(2025, 8, 1, 20, 58, 13, 666141), params={'pop_size': 177, 'generations': 500, 'elite_split': 0.01, 'tournament_split': 0.07, 'mutation_rate': 0.81, 'crossover_rate': 0.13}, user_attrs={}, system_attrs={'completed_rung_0': 7.58786992863133}, intermediate_values={1: 7.58786992863133}, distributions={'pop_size': CategoricalDistribution(choices=(50, 51, 52, 53, 54, 55, 56, 57, 58, 59, 60, 61, 62, 63, 64, 65, 66, 67, 68, 69, 70, 71, 72, 73, 74, 75, 76, 77, 78, 79, 80, 81, 82, 83, 84, 85, 86, 87, 88, 89, 90, 91, 92, 93, 94, 95, 96, 97, 98, 99, 100, 101, 102, 103, 104, 105, 106, 107, 108, 109, 110, 111, 112, 113, 114, 115, 116, 117, 118, 119, 120, 121, 122, 123, 124, 125, 126, 127, 128, 129, 130, 131, 132, 133, 134, 135, 136, 137, 138, 139, 140, 141, 142, 143, 144, 145, 146, 147, 148, 149, 150, 151, 152, 153, 154, 155, 156, 157, 158, 159, 160, 161, 162, 163, 164, 165, 166, 167, 168, 169, 170, 171, 172, 173, 174, 175, 176, 177, 178, 179, 180, 181, 182, 183, 184, 185, 186, 187, 188, 189, 190, 191, 192, 193, 194, 195, 196, 197, 198, 199, 200, 201, 202, 203, 204, 205, 206, 207, 208, 209, 210, 211, 212, 213, 214, 215, 216, 217, 218, 219, 220, 221, 222, 223, 224, 225, 226, 227, 228, 229, 230, 231, 232, 233, 234, 235, 236, 237, 238, 239, 240, 241, 242, 243, 244, 245, 246, 247, 248, 249, 250)), 'generations': CategoricalDistribution(choices=(100, 200, 300, 400, 500)), 'elite_split': CategoricalDistribution(choices=(0.0, 0.01, 0.02, 0.03, 0.04, 0.05, 0.06, 0.07, 0.08, 0.09, 0.1, 0.11, 0.12, 0.13, 0.14, 0.15, 0.16, 0.17, 0.18, 0.19, 0.2)), 'tournament_split': CategoricalDistribution(choices=(0.0, 0.01, 0.02, 0.03, 0.04, 0.05, 0.06, 0.07, 0.08, 0.09, 0.1)), 'mutation_rate': CategoricalDistribution(choices=(0.0, 0.01, 0.02, 0.03, 0.04, 0.05, 0.06, 0.07, 0.08, 0.09, 0.1, 0.11, 0.12, 0.13, 0.14, 0.15, 0.16, 0.17, 0.18, 0.19, 0.2, 0.21, 0.22, 0.23, 0.24, 0.25, 0.26, 0.27, 0.28, 0.29, 0.3, 0.31, 0.32, 0.33, 0.34, 0.35000000000000003, 0.36, 0.37, 0.38, 0.39, 0.4, 0.41000000000000003, 0.42, 0.43, 0.44, 0.45, 0.46, 0.47000000000000003, 0.48, 0.49, 0.5, 0.51, 0.52, 0.53, 0.54, 0.55, 0.56, 0.5700000000000001, 0.58, 0.59, 0.6, 0.61, 0.62, 0.63, 0.64, 0.65, 0.66, 0.67, 0.68, 0.6900000000000001, 0.7000000000000001, 0.71, 0.72, 0.73, 0.74, 0.75, 0.76, 0.77, 0.78, 0.79, 0.8, 0.81, 0.8200000000000001, 0.8300000000000001, 0.84, 0.85, 0.86, 0.87, 0.88, 0.89, 0.9, 0.91, 0.92, 0.93, 0.9400000000000001, 0.9500000000000001, 0.96, 0.97, 0.98, 0.99, 1.0)), 'crossover_rate': CategoricalDistribution(choices=(0.0, 0.01, 0.02, 0.03, 0.04, 0.05, 0.06, 0.07, 0.08, 0.09, 0.1, 0.11, 0.12, 0.13, 0.14, 0.15, 0.16, 0.17, 0.18, 0.19, 0.2, 0.21, 0.22, 0.23, 0.24, 0.25, 0.26, 0.27, 0.28, 0.29, 0.3, 0.31, 0.32, 0.33, 0.34, 0.35000000000000003, 0.36, 0.37, 0.38, 0.39, 0.4, 0.41000000000000003, 0.42, 0.43, 0.44, 0.45, 0.46, 0.47000000000000003, 0.48, 0.49, 0.5, 0.51, 0.52, 0.53, 0.54, 0.55, 0.56, 0.5700000000000001, 0.58, 0.59, 0.6, 0.61, 0.62, 0.63, 0.64, 0.65, 0.66, 0.67, 0.68, 0.6900000000000001, 0.7000000000000001, 0.71, 0.72, 0.73, 0.74, 0.75, 0.76, 0.77, 0.78, 0.79, 0.8, 0.81, 0.8200000000000001, 0.8300000000000001, 0.84, 0.85, 0.86, 0.87, 0.88, 0.89, 0.9, 0.91, 0.92, 0.93, 0.9400000000000001, 0.9500000000000001, 0.96, 0.97, 0.98, 0.99, 1.0))}, trial_id=894, value=None)]\n"
     ]
    },
    {
     "name": "stderr",
     "output_type": "stream",
     "text": [
      "Hyperband | Run:   8%|▊         | 4/50 [4:51:05<54:25:10, 4258.92s/it]"
     ]
    },
    {
     "name": "stdout",
     "output_type": "stream",
     "text": [
      "Est. true value:\t8.083038565800003\n",
      "Config:\t{'pop_size': 226, 'generations': 500, 'elite_split': 0.07, 'tournament_split': 0.1, 'mutation_rate': 0.63, 'crossover_rate': 0.18}\n",
      "Value:\t[FrozenTrial(number=356, state=1, values=[7.498006579408467], datetime_start=datetime.datetime(2025, 8, 1, 21, 41, 33, 95598), datetime_complete=datetime.datetime(2025, 8, 1, 21, 41, 38, 110817), params={'pop_size': 226, 'generations': 500, 'elite_split': 0.07, 'tournament_split': 0.1, 'mutation_rate': 0.63, 'crossover_rate': 0.18}, user_attrs={}, system_attrs={'completed_rung_0': 7.498006579408467}, intermediate_values={1: 7.498006579408467}, distributions={'pop_size': CategoricalDistribution(choices=(50, 51, 52, 53, 54, 55, 56, 57, 58, 59, 60, 61, 62, 63, 64, 65, 66, 67, 68, 69, 70, 71, 72, 73, 74, 75, 76, 77, 78, 79, 80, 81, 82, 83, 84, 85, 86, 87, 88, 89, 90, 91, 92, 93, 94, 95, 96, 97, 98, 99, 100, 101, 102, 103, 104, 105, 106, 107, 108, 109, 110, 111, 112, 113, 114, 115, 116, 117, 118, 119, 120, 121, 122, 123, 124, 125, 126, 127, 128, 129, 130, 131, 132, 133, 134, 135, 136, 137, 138, 139, 140, 141, 142, 143, 144, 145, 146, 147, 148, 149, 150, 151, 152, 153, 154, 155, 156, 157, 158, 159, 160, 161, 162, 163, 164, 165, 166, 167, 168, 169, 170, 171, 172, 173, 174, 175, 176, 177, 178, 179, 180, 181, 182, 183, 184, 185, 186, 187, 188, 189, 190, 191, 192, 193, 194, 195, 196, 197, 198, 199, 200, 201, 202, 203, 204, 205, 206, 207, 208, 209, 210, 211, 212, 213, 214, 215, 216, 217, 218, 219, 220, 221, 222, 223, 224, 225, 226, 227, 228, 229, 230, 231, 232, 233, 234, 235, 236, 237, 238, 239, 240, 241, 242, 243, 244, 245, 246, 247, 248, 249, 250)), 'generations': CategoricalDistribution(choices=(100, 200, 300, 400, 500)), 'elite_split': CategoricalDistribution(choices=(0.0, 0.01, 0.02, 0.03, 0.04, 0.05, 0.06, 0.07, 0.08, 0.09, 0.1, 0.11, 0.12, 0.13, 0.14, 0.15, 0.16, 0.17, 0.18, 0.19, 0.2)), 'tournament_split': CategoricalDistribution(choices=(0.0, 0.01, 0.02, 0.03, 0.04, 0.05, 0.06, 0.07, 0.08, 0.09, 0.1)), 'mutation_rate': CategoricalDistribution(choices=(0.0, 0.01, 0.02, 0.03, 0.04, 0.05, 0.06, 0.07, 0.08, 0.09, 0.1, 0.11, 0.12, 0.13, 0.14, 0.15, 0.16, 0.17, 0.18, 0.19, 0.2, 0.21, 0.22, 0.23, 0.24, 0.25, 0.26, 0.27, 0.28, 0.29, 0.3, 0.31, 0.32, 0.33, 0.34, 0.35000000000000003, 0.36, 0.37, 0.38, 0.39, 0.4, 0.41000000000000003, 0.42, 0.43, 0.44, 0.45, 0.46, 0.47000000000000003, 0.48, 0.49, 0.5, 0.51, 0.52, 0.53, 0.54, 0.55, 0.56, 0.5700000000000001, 0.58, 0.59, 0.6, 0.61, 0.62, 0.63, 0.64, 0.65, 0.66, 0.67, 0.68, 0.6900000000000001, 0.7000000000000001, 0.71, 0.72, 0.73, 0.74, 0.75, 0.76, 0.77, 0.78, 0.79, 0.8, 0.81, 0.8200000000000001, 0.8300000000000001, 0.84, 0.85, 0.86, 0.87, 0.88, 0.89, 0.9, 0.91, 0.92, 0.93, 0.9400000000000001, 0.9500000000000001, 0.96, 0.97, 0.98, 0.99, 1.0)), 'crossover_rate': CategoricalDistribution(choices=(0.0, 0.01, 0.02, 0.03, 0.04, 0.05, 0.06, 0.07, 0.08, 0.09, 0.1, 0.11, 0.12, 0.13, 0.14, 0.15, 0.16, 0.17, 0.18, 0.19, 0.2, 0.21, 0.22, 0.23, 0.24, 0.25, 0.26, 0.27, 0.28, 0.29, 0.3, 0.31, 0.32, 0.33, 0.34, 0.35000000000000003, 0.36, 0.37, 0.38, 0.39, 0.4, 0.41000000000000003, 0.42, 0.43, 0.44, 0.45, 0.46, 0.47000000000000003, 0.48, 0.49, 0.5, 0.51, 0.52, 0.53, 0.54, 0.55, 0.56, 0.5700000000000001, 0.58, 0.59, 0.6, 0.61, 0.62, 0.63, 0.64, 0.65, 0.66, 0.67, 0.68, 0.6900000000000001, 0.7000000000000001, 0.71, 0.72, 0.73, 0.74, 0.75, 0.76, 0.77, 0.78, 0.79, 0.8, 0.81, 0.8200000000000001, 0.8300000000000001, 0.84, 0.85, 0.86, 0.87, 0.88, 0.89, 0.9, 0.91, 0.92, 0.93, 0.9400000000000001, 0.9500000000000001, 0.96, 0.97, 0.98, 0.99, 1.0))}, trial_id=356, value=None)]\n"
     ]
    },
    {
     "name": "stderr",
     "output_type": "stream",
     "text": [
      "Hyperband | Run:  10%|█         | 5/50 [6:13:26<56:18:35, 4504.79s/it]"
     ]
    },
    {
     "name": "stdout",
     "output_type": "stream",
     "text": [
      "Est. true value:\t8.02781267545172\n",
      "Config:\t{'pop_size': 250, 'generations': 500, 'elite_split': 0.03, 'tournament_split': 0.08, 'mutation_rate': 0.96, 'crossover_rate': 0.07}\n",
      "Value:\t[FrozenTrial(number=712, state=1, values=[7.480609999794559], datetime_start=datetime.datetime(2025, 8, 1, 23, 18, 13, 129413), datetime_complete=datetime.datetime(2025, 8, 1, 23, 18, 18, 89540), params={'pop_size': 250, 'generations': 500, 'elite_split': 0.03, 'tournament_split': 0.08, 'mutation_rate': 0.96, 'crossover_rate': 0.07}, user_attrs={}, system_attrs={'completed_rung_0': 7.480609999794559}, intermediate_values={1: 7.480609999794559}, distributions={'pop_size': CategoricalDistribution(choices=(50, 51, 52, 53, 54, 55, 56, 57, 58, 59, 60, 61, 62, 63, 64, 65, 66, 67, 68, 69, 70, 71, 72, 73, 74, 75, 76, 77, 78, 79, 80, 81, 82, 83, 84, 85, 86, 87, 88, 89, 90, 91, 92, 93, 94, 95, 96, 97, 98, 99, 100, 101, 102, 103, 104, 105, 106, 107, 108, 109, 110, 111, 112, 113, 114, 115, 116, 117, 118, 119, 120, 121, 122, 123, 124, 125, 126, 127, 128, 129, 130, 131, 132, 133, 134, 135, 136, 137, 138, 139, 140, 141, 142, 143, 144, 145, 146, 147, 148, 149, 150, 151, 152, 153, 154, 155, 156, 157, 158, 159, 160, 161, 162, 163, 164, 165, 166, 167, 168, 169, 170, 171, 172, 173, 174, 175, 176, 177, 178, 179, 180, 181, 182, 183, 184, 185, 186, 187, 188, 189, 190, 191, 192, 193, 194, 195, 196, 197, 198, 199, 200, 201, 202, 203, 204, 205, 206, 207, 208, 209, 210, 211, 212, 213, 214, 215, 216, 217, 218, 219, 220, 221, 222, 223, 224, 225, 226, 227, 228, 229, 230, 231, 232, 233, 234, 235, 236, 237, 238, 239, 240, 241, 242, 243, 244, 245, 246, 247, 248, 249, 250)), 'generations': CategoricalDistribution(choices=(100, 200, 300, 400, 500)), 'elite_split': CategoricalDistribution(choices=(0.0, 0.01, 0.02, 0.03, 0.04, 0.05, 0.06, 0.07, 0.08, 0.09, 0.1, 0.11, 0.12, 0.13, 0.14, 0.15, 0.16, 0.17, 0.18, 0.19, 0.2)), 'tournament_split': CategoricalDistribution(choices=(0.0, 0.01, 0.02, 0.03, 0.04, 0.05, 0.06, 0.07, 0.08, 0.09, 0.1)), 'mutation_rate': CategoricalDistribution(choices=(0.0, 0.01, 0.02, 0.03, 0.04, 0.05, 0.06, 0.07, 0.08, 0.09, 0.1, 0.11, 0.12, 0.13, 0.14, 0.15, 0.16, 0.17, 0.18, 0.19, 0.2, 0.21, 0.22, 0.23, 0.24, 0.25, 0.26, 0.27, 0.28, 0.29, 0.3, 0.31, 0.32, 0.33, 0.34, 0.35000000000000003, 0.36, 0.37, 0.38, 0.39, 0.4, 0.41000000000000003, 0.42, 0.43, 0.44, 0.45, 0.46, 0.47000000000000003, 0.48, 0.49, 0.5, 0.51, 0.52, 0.53, 0.54, 0.55, 0.56, 0.5700000000000001, 0.58, 0.59, 0.6, 0.61, 0.62, 0.63, 0.64, 0.65, 0.66, 0.67, 0.68, 0.6900000000000001, 0.7000000000000001, 0.71, 0.72, 0.73, 0.74, 0.75, 0.76, 0.77, 0.78, 0.79, 0.8, 0.81, 0.8200000000000001, 0.8300000000000001, 0.84, 0.85, 0.86, 0.87, 0.88, 0.89, 0.9, 0.91, 0.92, 0.93, 0.9400000000000001, 0.9500000000000001, 0.96, 0.97, 0.98, 0.99, 1.0)), 'crossover_rate': CategoricalDistribution(choices=(0.0, 0.01, 0.02, 0.03, 0.04, 0.05, 0.06, 0.07, 0.08, 0.09, 0.1, 0.11, 0.12, 0.13, 0.14, 0.15, 0.16, 0.17, 0.18, 0.19, 0.2, 0.21, 0.22, 0.23, 0.24, 0.25, 0.26, 0.27, 0.28, 0.29, 0.3, 0.31, 0.32, 0.33, 0.34, 0.35000000000000003, 0.36, 0.37, 0.38, 0.39, 0.4, 0.41000000000000003, 0.42, 0.43, 0.44, 0.45, 0.46, 0.47000000000000003, 0.48, 0.49, 0.5, 0.51, 0.52, 0.53, 0.54, 0.55, 0.56, 0.5700000000000001, 0.58, 0.59, 0.6, 0.61, 0.62, 0.63, 0.64, 0.65, 0.66, 0.67, 0.68, 0.6900000000000001, 0.7000000000000001, 0.71, 0.72, 0.73, 0.74, 0.75, 0.76, 0.77, 0.78, 0.79, 0.8, 0.81, 0.8200000000000001, 0.8300000000000001, 0.84, 0.85, 0.86, 0.87, 0.88, 0.89, 0.9, 0.91, 0.92, 0.93, 0.9400000000000001, 0.9500000000000001, 0.96, 0.97, 0.98, 0.99, 1.0))}, trial_id=712, value=None)]\n"
     ]
    },
    {
     "name": "stderr",
     "output_type": "stream",
     "text": [
      "Hyperband | Run:  12%|█▏        | 6/50 [7:33:46<56:22:15, 4612.17s/it]"
     ]
    },
    {
     "name": "stdout",
     "output_type": "stream",
     "text": [
      "Est. true value:\t7.942185129303571\n",
      "Config:\t{'pop_size': 249, 'generations': 500, 'elite_split': 0.01, 'tournament_split': 0.09, 'mutation_rate': 0.66, 'crossover_rate': 0.02}\n",
      "Value:\t[FrozenTrial(number=293, state=1, values=[7.517278812846682], datetime_start=datetime.datetime(2025, 8, 2, 0, 21, 34, 925253), datetime_complete=datetime.datetime(2025, 8, 2, 0, 21, 40, 624933), params={'pop_size': 249, 'generations': 500, 'elite_split': 0.01, 'tournament_split': 0.09, 'mutation_rate': 0.66, 'crossover_rate': 0.02}, user_attrs={}, system_attrs={'completed_rung_0': 7.517278812846682}, intermediate_values={1: 7.517278812846682}, distributions={'pop_size': CategoricalDistribution(choices=(50, 51, 52, 53, 54, 55, 56, 57, 58, 59, 60, 61, 62, 63, 64, 65, 66, 67, 68, 69, 70, 71, 72, 73, 74, 75, 76, 77, 78, 79, 80, 81, 82, 83, 84, 85, 86, 87, 88, 89, 90, 91, 92, 93, 94, 95, 96, 97, 98, 99, 100, 101, 102, 103, 104, 105, 106, 107, 108, 109, 110, 111, 112, 113, 114, 115, 116, 117, 118, 119, 120, 121, 122, 123, 124, 125, 126, 127, 128, 129, 130, 131, 132, 133, 134, 135, 136, 137, 138, 139, 140, 141, 142, 143, 144, 145, 146, 147, 148, 149, 150, 151, 152, 153, 154, 155, 156, 157, 158, 159, 160, 161, 162, 163, 164, 165, 166, 167, 168, 169, 170, 171, 172, 173, 174, 175, 176, 177, 178, 179, 180, 181, 182, 183, 184, 185, 186, 187, 188, 189, 190, 191, 192, 193, 194, 195, 196, 197, 198, 199, 200, 201, 202, 203, 204, 205, 206, 207, 208, 209, 210, 211, 212, 213, 214, 215, 216, 217, 218, 219, 220, 221, 222, 223, 224, 225, 226, 227, 228, 229, 230, 231, 232, 233, 234, 235, 236, 237, 238, 239, 240, 241, 242, 243, 244, 245, 246, 247, 248, 249, 250)), 'generations': CategoricalDistribution(choices=(100, 200, 300, 400, 500)), 'elite_split': CategoricalDistribution(choices=(0.0, 0.01, 0.02, 0.03, 0.04, 0.05, 0.06, 0.07, 0.08, 0.09, 0.1, 0.11, 0.12, 0.13, 0.14, 0.15, 0.16, 0.17, 0.18, 0.19, 0.2)), 'tournament_split': CategoricalDistribution(choices=(0.0, 0.01, 0.02, 0.03, 0.04, 0.05, 0.06, 0.07, 0.08, 0.09, 0.1)), 'mutation_rate': CategoricalDistribution(choices=(0.0, 0.01, 0.02, 0.03, 0.04, 0.05, 0.06, 0.07, 0.08, 0.09, 0.1, 0.11, 0.12, 0.13, 0.14, 0.15, 0.16, 0.17, 0.18, 0.19, 0.2, 0.21, 0.22, 0.23, 0.24, 0.25, 0.26, 0.27, 0.28, 0.29, 0.3, 0.31, 0.32, 0.33, 0.34, 0.35000000000000003, 0.36, 0.37, 0.38, 0.39, 0.4, 0.41000000000000003, 0.42, 0.43, 0.44, 0.45, 0.46, 0.47000000000000003, 0.48, 0.49, 0.5, 0.51, 0.52, 0.53, 0.54, 0.55, 0.56, 0.5700000000000001, 0.58, 0.59, 0.6, 0.61, 0.62, 0.63, 0.64, 0.65, 0.66, 0.67, 0.68, 0.6900000000000001, 0.7000000000000001, 0.71, 0.72, 0.73, 0.74, 0.75, 0.76, 0.77, 0.78, 0.79, 0.8, 0.81, 0.8200000000000001, 0.8300000000000001, 0.84, 0.85, 0.86, 0.87, 0.88, 0.89, 0.9, 0.91, 0.92, 0.93, 0.9400000000000001, 0.9500000000000001, 0.96, 0.97, 0.98, 0.99, 1.0)), 'crossover_rate': CategoricalDistribution(choices=(0.0, 0.01, 0.02, 0.03, 0.04, 0.05, 0.06, 0.07, 0.08, 0.09, 0.1, 0.11, 0.12, 0.13, 0.14, 0.15, 0.16, 0.17, 0.18, 0.19, 0.2, 0.21, 0.22, 0.23, 0.24, 0.25, 0.26, 0.27, 0.28, 0.29, 0.3, 0.31, 0.32, 0.33, 0.34, 0.35000000000000003, 0.36, 0.37, 0.38, 0.39, 0.4, 0.41000000000000003, 0.42, 0.43, 0.44, 0.45, 0.46, 0.47000000000000003, 0.48, 0.49, 0.5, 0.51, 0.52, 0.53, 0.54, 0.55, 0.56, 0.5700000000000001, 0.58, 0.59, 0.6, 0.61, 0.62, 0.63, 0.64, 0.65, 0.66, 0.67, 0.68, 0.6900000000000001, 0.7000000000000001, 0.71, 0.72, 0.73, 0.74, 0.75, 0.76, 0.77, 0.78, 0.79, 0.8, 0.81, 0.8200000000000001, 0.8300000000000001, 0.84, 0.85, 0.86, 0.87, 0.88, 0.89, 0.9, 0.91, 0.92, 0.93, 0.9400000000000001, 0.9500000000000001, 0.96, 0.97, 0.98, 0.99, 1.0))}, trial_id=293, value=None)]\n"
     ]
    },
    {
     "name": "stderr",
     "output_type": "stream",
     "text": [
      "Hyperband | Run:  14%|█▍        | 7/50 [9:02:34<57:53:01, 4846.07s/it]"
     ]
    },
    {
     "name": "stdout",
     "output_type": "stream",
     "text": [
      "Est. true value:\t8.001386908387376\n",
      "Config:\t{'pop_size': 248, 'generations': 500, 'elite_split': 0.2, 'tournament_split': 0.06, 'mutation_rate': 0.71, 'crossover_rate': 0.24}\n",
      "Value:\t[FrozenTrial(number=516, state=1, values=[7.402736974131871], datetime_start=datetime.datetime(2025, 8, 2, 1, 58, 8, 481885), datetime_complete=datetime.datetime(2025, 8, 2, 1, 58, 12, 521475), params={'pop_size': 248, 'generations': 500, 'elite_split': 0.2, 'tournament_split': 0.06, 'mutation_rate': 0.71, 'crossover_rate': 0.24}, user_attrs={}, system_attrs={'completed_rung_0': 7.402736974131871}, intermediate_values={1: 7.402736974131871}, distributions={'pop_size': CategoricalDistribution(choices=(50, 51, 52, 53, 54, 55, 56, 57, 58, 59, 60, 61, 62, 63, 64, 65, 66, 67, 68, 69, 70, 71, 72, 73, 74, 75, 76, 77, 78, 79, 80, 81, 82, 83, 84, 85, 86, 87, 88, 89, 90, 91, 92, 93, 94, 95, 96, 97, 98, 99, 100, 101, 102, 103, 104, 105, 106, 107, 108, 109, 110, 111, 112, 113, 114, 115, 116, 117, 118, 119, 120, 121, 122, 123, 124, 125, 126, 127, 128, 129, 130, 131, 132, 133, 134, 135, 136, 137, 138, 139, 140, 141, 142, 143, 144, 145, 146, 147, 148, 149, 150, 151, 152, 153, 154, 155, 156, 157, 158, 159, 160, 161, 162, 163, 164, 165, 166, 167, 168, 169, 170, 171, 172, 173, 174, 175, 176, 177, 178, 179, 180, 181, 182, 183, 184, 185, 186, 187, 188, 189, 190, 191, 192, 193, 194, 195, 196, 197, 198, 199, 200, 201, 202, 203, 204, 205, 206, 207, 208, 209, 210, 211, 212, 213, 214, 215, 216, 217, 218, 219, 220, 221, 222, 223, 224, 225, 226, 227, 228, 229, 230, 231, 232, 233, 234, 235, 236, 237, 238, 239, 240, 241, 242, 243, 244, 245, 246, 247, 248, 249, 250)), 'generations': CategoricalDistribution(choices=(100, 200, 300, 400, 500)), 'elite_split': CategoricalDistribution(choices=(0.0, 0.01, 0.02, 0.03, 0.04, 0.05, 0.06, 0.07, 0.08, 0.09, 0.1, 0.11, 0.12, 0.13, 0.14, 0.15, 0.16, 0.17, 0.18, 0.19, 0.2)), 'tournament_split': CategoricalDistribution(choices=(0.0, 0.01, 0.02, 0.03, 0.04, 0.05, 0.06, 0.07, 0.08, 0.09, 0.1)), 'mutation_rate': CategoricalDistribution(choices=(0.0, 0.01, 0.02, 0.03, 0.04, 0.05, 0.06, 0.07, 0.08, 0.09, 0.1, 0.11, 0.12, 0.13, 0.14, 0.15, 0.16, 0.17, 0.18, 0.19, 0.2, 0.21, 0.22, 0.23, 0.24, 0.25, 0.26, 0.27, 0.28, 0.29, 0.3, 0.31, 0.32, 0.33, 0.34, 0.35000000000000003, 0.36, 0.37, 0.38, 0.39, 0.4, 0.41000000000000003, 0.42, 0.43, 0.44, 0.45, 0.46, 0.47000000000000003, 0.48, 0.49, 0.5, 0.51, 0.52, 0.53, 0.54, 0.55, 0.56, 0.5700000000000001, 0.58, 0.59, 0.6, 0.61, 0.62, 0.63, 0.64, 0.65, 0.66, 0.67, 0.68, 0.6900000000000001, 0.7000000000000001, 0.71, 0.72, 0.73, 0.74, 0.75, 0.76, 0.77, 0.78, 0.79, 0.8, 0.81, 0.8200000000000001, 0.8300000000000001, 0.84, 0.85, 0.86, 0.87, 0.88, 0.89, 0.9, 0.91, 0.92, 0.93, 0.9400000000000001, 0.9500000000000001, 0.96, 0.97, 0.98, 0.99, 1.0)), 'crossover_rate': CategoricalDistribution(choices=(0.0, 0.01, 0.02, 0.03, 0.04, 0.05, 0.06, 0.07, 0.08, 0.09, 0.1, 0.11, 0.12, 0.13, 0.14, 0.15, 0.16, 0.17, 0.18, 0.19, 0.2, 0.21, 0.22, 0.23, 0.24, 0.25, 0.26, 0.27, 0.28, 0.29, 0.3, 0.31, 0.32, 0.33, 0.34, 0.35000000000000003, 0.36, 0.37, 0.38, 0.39, 0.4, 0.41000000000000003, 0.42, 0.43, 0.44, 0.45, 0.46, 0.47000000000000003, 0.48, 0.49, 0.5, 0.51, 0.52, 0.53, 0.54, 0.55, 0.56, 0.5700000000000001, 0.58, 0.59, 0.6, 0.61, 0.62, 0.63, 0.64, 0.65, 0.66, 0.67, 0.68, 0.6900000000000001, 0.7000000000000001, 0.71, 0.72, 0.73, 0.74, 0.75, 0.76, 0.77, 0.78, 0.79, 0.8, 0.81, 0.8200000000000001, 0.8300000000000001, 0.84, 0.85, 0.86, 0.87, 0.88, 0.89, 0.9, 0.91, 0.92, 0.93, 0.9400000000000001, 0.9500000000000001, 0.96, 0.97, 0.98, 0.99, 1.0))}, trial_id=516, value=None)]\n"
     ]
    },
    {
     "name": "stderr",
     "output_type": "stream",
     "text": [
      "Hyperband | Run:  16%|█▌        | 8/50 [10:14:29<54:34:02, 4677.20s/it]"
     ]
    },
    {
     "name": "stdout",
     "output_type": "stream",
     "text": [
      "Est. true value:\t8.068748966712558\n",
      "Config:\t{'pop_size': 249, 'generations': 500, 'elite_split': 0.06, 'tournament_split': 0.07, 'mutation_rate': 0.71, 'crossover_rate': 0.03}\n",
      "Value:\t[FrozenTrial(number=909, state=1, values=[7.487489890299297], datetime_start=datetime.datetime(2025, 8, 2, 3, 28, 25, 866962), datetime_complete=datetime.datetime(2025, 8, 2, 3, 28, 30, 259676), params={'pop_size': 249, 'generations': 500, 'elite_split': 0.06, 'tournament_split': 0.07, 'mutation_rate': 0.71, 'crossover_rate': 0.03}, user_attrs={}, system_attrs={'completed_rung_0': 7.487489890299297}, intermediate_values={1: 7.487489890299297}, distributions={'pop_size': CategoricalDistribution(choices=(50, 51, 52, 53, 54, 55, 56, 57, 58, 59, 60, 61, 62, 63, 64, 65, 66, 67, 68, 69, 70, 71, 72, 73, 74, 75, 76, 77, 78, 79, 80, 81, 82, 83, 84, 85, 86, 87, 88, 89, 90, 91, 92, 93, 94, 95, 96, 97, 98, 99, 100, 101, 102, 103, 104, 105, 106, 107, 108, 109, 110, 111, 112, 113, 114, 115, 116, 117, 118, 119, 120, 121, 122, 123, 124, 125, 126, 127, 128, 129, 130, 131, 132, 133, 134, 135, 136, 137, 138, 139, 140, 141, 142, 143, 144, 145, 146, 147, 148, 149, 150, 151, 152, 153, 154, 155, 156, 157, 158, 159, 160, 161, 162, 163, 164, 165, 166, 167, 168, 169, 170, 171, 172, 173, 174, 175, 176, 177, 178, 179, 180, 181, 182, 183, 184, 185, 186, 187, 188, 189, 190, 191, 192, 193, 194, 195, 196, 197, 198, 199, 200, 201, 202, 203, 204, 205, 206, 207, 208, 209, 210, 211, 212, 213, 214, 215, 216, 217, 218, 219, 220, 221, 222, 223, 224, 225, 226, 227, 228, 229, 230, 231, 232, 233, 234, 235, 236, 237, 238, 239, 240, 241, 242, 243, 244, 245, 246, 247, 248, 249, 250)), 'generations': CategoricalDistribution(choices=(100, 200, 300, 400, 500)), 'elite_split': CategoricalDistribution(choices=(0.0, 0.01, 0.02, 0.03, 0.04, 0.05, 0.06, 0.07, 0.08, 0.09, 0.1, 0.11, 0.12, 0.13, 0.14, 0.15, 0.16, 0.17, 0.18, 0.19, 0.2)), 'tournament_split': CategoricalDistribution(choices=(0.0, 0.01, 0.02, 0.03, 0.04, 0.05, 0.06, 0.07, 0.08, 0.09, 0.1)), 'mutation_rate': CategoricalDistribution(choices=(0.0, 0.01, 0.02, 0.03, 0.04, 0.05, 0.06, 0.07, 0.08, 0.09, 0.1, 0.11, 0.12, 0.13, 0.14, 0.15, 0.16, 0.17, 0.18, 0.19, 0.2, 0.21, 0.22, 0.23, 0.24, 0.25, 0.26, 0.27, 0.28, 0.29, 0.3, 0.31, 0.32, 0.33, 0.34, 0.35000000000000003, 0.36, 0.37, 0.38, 0.39, 0.4, 0.41000000000000003, 0.42, 0.43, 0.44, 0.45, 0.46, 0.47000000000000003, 0.48, 0.49, 0.5, 0.51, 0.52, 0.53, 0.54, 0.55, 0.56, 0.5700000000000001, 0.58, 0.59, 0.6, 0.61, 0.62, 0.63, 0.64, 0.65, 0.66, 0.67, 0.68, 0.6900000000000001, 0.7000000000000001, 0.71, 0.72, 0.73, 0.74, 0.75, 0.76, 0.77, 0.78, 0.79, 0.8, 0.81, 0.8200000000000001, 0.8300000000000001, 0.84, 0.85, 0.86, 0.87, 0.88, 0.89, 0.9, 0.91, 0.92, 0.93, 0.9400000000000001, 0.9500000000000001, 0.96, 0.97, 0.98, 0.99, 1.0)), 'crossover_rate': CategoricalDistribution(choices=(0.0, 0.01, 0.02, 0.03, 0.04, 0.05, 0.06, 0.07, 0.08, 0.09, 0.1, 0.11, 0.12, 0.13, 0.14, 0.15, 0.16, 0.17, 0.18, 0.19, 0.2, 0.21, 0.22, 0.23, 0.24, 0.25, 0.26, 0.27, 0.28, 0.29, 0.3, 0.31, 0.32, 0.33, 0.34, 0.35000000000000003, 0.36, 0.37, 0.38, 0.39, 0.4, 0.41000000000000003, 0.42, 0.43, 0.44, 0.45, 0.46, 0.47000000000000003, 0.48, 0.49, 0.5, 0.51, 0.52, 0.53, 0.54, 0.55, 0.56, 0.5700000000000001, 0.58, 0.59, 0.6, 0.61, 0.62, 0.63, 0.64, 0.65, 0.66, 0.67, 0.68, 0.6900000000000001, 0.7000000000000001, 0.71, 0.72, 0.73, 0.74, 0.75, 0.76, 0.77, 0.78, 0.79, 0.8, 0.81, 0.8200000000000001, 0.8300000000000001, 0.84, 0.85, 0.86, 0.87, 0.88, 0.89, 0.9, 0.91, 0.92, 0.93, 0.9400000000000001, 0.9500000000000001, 0.96, 0.97, 0.98, 0.99, 1.0))}, trial_id=909, value=None)]\n"
     ]
    },
    {
     "name": "stderr",
     "output_type": "stream",
     "text": [
      "Hyperband | Run:  18%|█▊        | 9/50 [11:32:25<53:15:47, 4676.76s/it]"
     ]
    },
    {
     "name": "stdout",
     "output_type": "stream",
     "text": [
      "Est. true value:\t7.9845444564006245\n",
      "Config:\t{'pop_size': 217, 'generations': 500, 'elite_split': 0.12, 'tournament_split': 0.1, 'mutation_rate': 0.8200000000000001, 'crossover_rate': 0.02}\n",
      "Value:\t[FrozenTrial(number=603, state=1, values=[7.523055342544731], datetime_start=datetime.datetime(2025, 8, 2, 4, 32, 21, 380930), datetime_complete=datetime.datetime(2025, 8, 2, 4, 32, 24, 795938), params={'pop_size': 217, 'generations': 500, 'elite_split': 0.12, 'tournament_split': 0.1, 'mutation_rate': 0.8200000000000001, 'crossover_rate': 0.02}, user_attrs={}, system_attrs={'completed_rung_0': 7.523055342544731}, intermediate_values={1: 7.523055342544731}, distributions={'pop_size': CategoricalDistribution(choices=(50, 51, 52, 53, 54, 55, 56, 57, 58, 59, 60, 61, 62, 63, 64, 65, 66, 67, 68, 69, 70, 71, 72, 73, 74, 75, 76, 77, 78, 79, 80, 81, 82, 83, 84, 85, 86, 87, 88, 89, 90, 91, 92, 93, 94, 95, 96, 97, 98, 99, 100, 101, 102, 103, 104, 105, 106, 107, 108, 109, 110, 111, 112, 113, 114, 115, 116, 117, 118, 119, 120, 121, 122, 123, 124, 125, 126, 127, 128, 129, 130, 131, 132, 133, 134, 135, 136, 137, 138, 139, 140, 141, 142, 143, 144, 145, 146, 147, 148, 149, 150, 151, 152, 153, 154, 155, 156, 157, 158, 159, 160, 161, 162, 163, 164, 165, 166, 167, 168, 169, 170, 171, 172, 173, 174, 175, 176, 177, 178, 179, 180, 181, 182, 183, 184, 185, 186, 187, 188, 189, 190, 191, 192, 193, 194, 195, 196, 197, 198, 199, 200, 201, 202, 203, 204, 205, 206, 207, 208, 209, 210, 211, 212, 213, 214, 215, 216, 217, 218, 219, 220, 221, 222, 223, 224, 225, 226, 227, 228, 229, 230, 231, 232, 233, 234, 235, 236, 237, 238, 239, 240, 241, 242, 243, 244, 245, 246, 247, 248, 249, 250)), 'generations': CategoricalDistribution(choices=(100, 200, 300, 400, 500)), 'elite_split': CategoricalDistribution(choices=(0.0, 0.01, 0.02, 0.03, 0.04, 0.05, 0.06, 0.07, 0.08, 0.09, 0.1, 0.11, 0.12, 0.13, 0.14, 0.15, 0.16, 0.17, 0.18, 0.19, 0.2)), 'tournament_split': CategoricalDistribution(choices=(0.0, 0.01, 0.02, 0.03, 0.04, 0.05, 0.06, 0.07, 0.08, 0.09, 0.1)), 'mutation_rate': CategoricalDistribution(choices=(0.0, 0.01, 0.02, 0.03, 0.04, 0.05, 0.06, 0.07, 0.08, 0.09, 0.1, 0.11, 0.12, 0.13, 0.14, 0.15, 0.16, 0.17, 0.18, 0.19, 0.2, 0.21, 0.22, 0.23, 0.24, 0.25, 0.26, 0.27, 0.28, 0.29, 0.3, 0.31, 0.32, 0.33, 0.34, 0.35000000000000003, 0.36, 0.37, 0.38, 0.39, 0.4, 0.41000000000000003, 0.42, 0.43, 0.44, 0.45, 0.46, 0.47000000000000003, 0.48, 0.49, 0.5, 0.51, 0.52, 0.53, 0.54, 0.55, 0.56, 0.5700000000000001, 0.58, 0.59, 0.6, 0.61, 0.62, 0.63, 0.64, 0.65, 0.66, 0.67, 0.68, 0.6900000000000001, 0.7000000000000001, 0.71, 0.72, 0.73, 0.74, 0.75, 0.76, 0.77, 0.78, 0.79, 0.8, 0.81, 0.8200000000000001, 0.8300000000000001, 0.84, 0.85, 0.86, 0.87, 0.88, 0.89, 0.9, 0.91, 0.92, 0.93, 0.9400000000000001, 0.9500000000000001, 0.96, 0.97, 0.98, 0.99, 1.0)), 'crossover_rate': CategoricalDistribution(choices=(0.0, 0.01, 0.02, 0.03, 0.04, 0.05, 0.06, 0.07, 0.08, 0.09, 0.1, 0.11, 0.12, 0.13, 0.14, 0.15, 0.16, 0.17, 0.18, 0.19, 0.2, 0.21, 0.22, 0.23, 0.24, 0.25, 0.26, 0.27, 0.28, 0.29, 0.3, 0.31, 0.32, 0.33, 0.34, 0.35000000000000003, 0.36, 0.37, 0.38, 0.39, 0.4, 0.41000000000000003, 0.42, 0.43, 0.44, 0.45, 0.46, 0.47000000000000003, 0.48, 0.49, 0.5, 0.51, 0.52, 0.53, 0.54, 0.55, 0.56, 0.5700000000000001, 0.58, 0.59, 0.6, 0.61, 0.62, 0.63, 0.64, 0.65, 0.66, 0.67, 0.68, 0.6900000000000001, 0.7000000000000001, 0.71, 0.72, 0.73, 0.74, 0.75, 0.76, 0.77, 0.78, 0.79, 0.8, 0.81, 0.8200000000000001, 0.8300000000000001, 0.84, 0.85, 0.86, 0.87, 0.88, 0.89, 0.9, 0.91, 0.92, 0.93, 0.9400000000000001, 0.9500000000000001, 0.96, 0.97, 0.98, 0.99, 1.0))}, trial_id=603, value=None)]\n"
     ]
    },
    {
     "name": "stderr",
     "output_type": "stream",
     "text": [
      "Hyperband | Run:  20%|██        | 10/50 [12:40:37<49:57:29, 4496.24s/it]"
     ]
    },
    {
     "name": "stdout",
     "output_type": "stream",
     "text": [
      "Est. true value:\t7.980978662391597\n",
      "Config:\t{'pop_size': 248, 'generations': 500, 'elite_split': 0.06, 'tournament_split': 0.04, 'mutation_rate': 0.67, 'crossover_rate': 0.21}\n",
      "Value:\t[FrozenTrial(number=235, state=1, values=[7.547825565654767], datetime_start=datetime.datetime(2025, 8, 2, 5, 25, 50, 496228), datetime_complete=datetime.datetime(2025, 8, 2, 5, 25, 55, 67171), params={'pop_size': 248, 'generations': 500, 'elite_split': 0.06, 'tournament_split': 0.04, 'mutation_rate': 0.67, 'crossover_rate': 0.21}, user_attrs={}, system_attrs={'completed_rung_0': 7.547825565654767}, intermediate_values={1: 7.547825565654767}, distributions={'pop_size': CategoricalDistribution(choices=(50, 51, 52, 53, 54, 55, 56, 57, 58, 59, 60, 61, 62, 63, 64, 65, 66, 67, 68, 69, 70, 71, 72, 73, 74, 75, 76, 77, 78, 79, 80, 81, 82, 83, 84, 85, 86, 87, 88, 89, 90, 91, 92, 93, 94, 95, 96, 97, 98, 99, 100, 101, 102, 103, 104, 105, 106, 107, 108, 109, 110, 111, 112, 113, 114, 115, 116, 117, 118, 119, 120, 121, 122, 123, 124, 125, 126, 127, 128, 129, 130, 131, 132, 133, 134, 135, 136, 137, 138, 139, 140, 141, 142, 143, 144, 145, 146, 147, 148, 149, 150, 151, 152, 153, 154, 155, 156, 157, 158, 159, 160, 161, 162, 163, 164, 165, 166, 167, 168, 169, 170, 171, 172, 173, 174, 175, 176, 177, 178, 179, 180, 181, 182, 183, 184, 185, 186, 187, 188, 189, 190, 191, 192, 193, 194, 195, 196, 197, 198, 199, 200, 201, 202, 203, 204, 205, 206, 207, 208, 209, 210, 211, 212, 213, 214, 215, 216, 217, 218, 219, 220, 221, 222, 223, 224, 225, 226, 227, 228, 229, 230, 231, 232, 233, 234, 235, 236, 237, 238, 239, 240, 241, 242, 243, 244, 245, 246, 247, 248, 249, 250)), 'generations': CategoricalDistribution(choices=(100, 200, 300, 400, 500)), 'elite_split': CategoricalDistribution(choices=(0.0, 0.01, 0.02, 0.03, 0.04, 0.05, 0.06, 0.07, 0.08, 0.09, 0.1, 0.11, 0.12, 0.13, 0.14, 0.15, 0.16, 0.17, 0.18, 0.19, 0.2)), 'tournament_split': CategoricalDistribution(choices=(0.0, 0.01, 0.02, 0.03, 0.04, 0.05, 0.06, 0.07, 0.08, 0.09, 0.1)), 'mutation_rate': CategoricalDistribution(choices=(0.0, 0.01, 0.02, 0.03, 0.04, 0.05, 0.06, 0.07, 0.08, 0.09, 0.1, 0.11, 0.12, 0.13, 0.14, 0.15, 0.16, 0.17, 0.18, 0.19, 0.2, 0.21, 0.22, 0.23, 0.24, 0.25, 0.26, 0.27, 0.28, 0.29, 0.3, 0.31, 0.32, 0.33, 0.34, 0.35000000000000003, 0.36, 0.37, 0.38, 0.39, 0.4, 0.41000000000000003, 0.42, 0.43, 0.44, 0.45, 0.46, 0.47000000000000003, 0.48, 0.49, 0.5, 0.51, 0.52, 0.53, 0.54, 0.55, 0.56, 0.5700000000000001, 0.58, 0.59, 0.6, 0.61, 0.62, 0.63, 0.64, 0.65, 0.66, 0.67, 0.68, 0.6900000000000001, 0.7000000000000001, 0.71, 0.72, 0.73, 0.74, 0.75, 0.76, 0.77, 0.78, 0.79, 0.8, 0.81, 0.8200000000000001, 0.8300000000000001, 0.84, 0.85, 0.86, 0.87, 0.88, 0.89, 0.9, 0.91, 0.92, 0.93, 0.9400000000000001, 0.9500000000000001, 0.96, 0.97, 0.98, 0.99, 1.0)), 'crossover_rate': CategoricalDistribution(choices=(0.0, 0.01, 0.02, 0.03, 0.04, 0.05, 0.06, 0.07, 0.08, 0.09, 0.1, 0.11, 0.12, 0.13, 0.14, 0.15, 0.16, 0.17, 0.18, 0.19, 0.2, 0.21, 0.22, 0.23, 0.24, 0.25, 0.26, 0.27, 0.28, 0.29, 0.3, 0.31, 0.32, 0.33, 0.34, 0.35000000000000003, 0.36, 0.37, 0.38, 0.39, 0.4, 0.41000000000000003, 0.42, 0.43, 0.44, 0.45, 0.46, 0.47000000000000003, 0.48, 0.49, 0.5, 0.51, 0.52, 0.53, 0.54, 0.55, 0.56, 0.5700000000000001, 0.58, 0.59, 0.6, 0.61, 0.62, 0.63, 0.64, 0.65, 0.66, 0.67, 0.68, 0.6900000000000001, 0.7000000000000001, 0.71, 0.72, 0.73, 0.74, 0.75, 0.76, 0.77, 0.78, 0.79, 0.8, 0.81, 0.8200000000000001, 0.8300000000000001, 0.84, 0.85, 0.86, 0.87, 0.88, 0.89, 0.9, 0.91, 0.92, 0.93, 0.9400000000000001, 0.9500000000000001, 0.96, 0.97, 0.98, 0.99, 1.0))}, trial_id=235, value=None)]\n"
     ]
    },
    {
     "name": "stderr",
     "output_type": "stream",
     "text": [
      "Hyperband | Run:  22%|██▏       | 11/50 [13:59:27<49:28:54, 4567.55s/it]"
     ]
    },
    {
     "name": "stdout",
     "output_type": "stream",
     "text": [
      "Est. true value:\t8.078459635070038\n",
      "Config:\t{'pop_size': 247, 'generations': 500, 'elite_split': 0.18, 'tournament_split': 0.05, 'mutation_rate': 0.84, 'crossover_rate': 0.12}\n",
      "Value:\t[FrozenTrial(number=295, state=1, values=[7.492899817414258], datetime_start=datetime.datetime(2025, 8, 2, 6, 47, 21, 333607), datetime_complete=datetime.datetime(2025, 8, 2, 6, 47, 25, 352874), params={'pop_size': 247, 'generations': 500, 'elite_split': 0.18, 'tournament_split': 0.05, 'mutation_rate': 0.84, 'crossover_rate': 0.12}, user_attrs={}, system_attrs={'completed_rung_0': 7.492899817414258}, intermediate_values={1: 7.492899817414258}, distributions={'pop_size': CategoricalDistribution(choices=(50, 51, 52, 53, 54, 55, 56, 57, 58, 59, 60, 61, 62, 63, 64, 65, 66, 67, 68, 69, 70, 71, 72, 73, 74, 75, 76, 77, 78, 79, 80, 81, 82, 83, 84, 85, 86, 87, 88, 89, 90, 91, 92, 93, 94, 95, 96, 97, 98, 99, 100, 101, 102, 103, 104, 105, 106, 107, 108, 109, 110, 111, 112, 113, 114, 115, 116, 117, 118, 119, 120, 121, 122, 123, 124, 125, 126, 127, 128, 129, 130, 131, 132, 133, 134, 135, 136, 137, 138, 139, 140, 141, 142, 143, 144, 145, 146, 147, 148, 149, 150, 151, 152, 153, 154, 155, 156, 157, 158, 159, 160, 161, 162, 163, 164, 165, 166, 167, 168, 169, 170, 171, 172, 173, 174, 175, 176, 177, 178, 179, 180, 181, 182, 183, 184, 185, 186, 187, 188, 189, 190, 191, 192, 193, 194, 195, 196, 197, 198, 199, 200, 201, 202, 203, 204, 205, 206, 207, 208, 209, 210, 211, 212, 213, 214, 215, 216, 217, 218, 219, 220, 221, 222, 223, 224, 225, 226, 227, 228, 229, 230, 231, 232, 233, 234, 235, 236, 237, 238, 239, 240, 241, 242, 243, 244, 245, 246, 247, 248, 249, 250)), 'generations': CategoricalDistribution(choices=(100, 200, 300, 400, 500)), 'elite_split': CategoricalDistribution(choices=(0.0, 0.01, 0.02, 0.03, 0.04, 0.05, 0.06, 0.07, 0.08, 0.09, 0.1, 0.11, 0.12, 0.13, 0.14, 0.15, 0.16, 0.17, 0.18, 0.19, 0.2)), 'tournament_split': CategoricalDistribution(choices=(0.0, 0.01, 0.02, 0.03, 0.04, 0.05, 0.06, 0.07, 0.08, 0.09, 0.1)), 'mutation_rate': CategoricalDistribution(choices=(0.0, 0.01, 0.02, 0.03, 0.04, 0.05, 0.06, 0.07, 0.08, 0.09, 0.1, 0.11, 0.12, 0.13, 0.14, 0.15, 0.16, 0.17, 0.18, 0.19, 0.2, 0.21, 0.22, 0.23, 0.24, 0.25, 0.26, 0.27, 0.28, 0.29, 0.3, 0.31, 0.32, 0.33, 0.34, 0.35000000000000003, 0.36, 0.37, 0.38, 0.39, 0.4, 0.41000000000000003, 0.42, 0.43, 0.44, 0.45, 0.46, 0.47000000000000003, 0.48, 0.49, 0.5, 0.51, 0.52, 0.53, 0.54, 0.55, 0.56, 0.5700000000000001, 0.58, 0.59, 0.6, 0.61, 0.62, 0.63, 0.64, 0.65, 0.66, 0.67, 0.68, 0.6900000000000001, 0.7000000000000001, 0.71, 0.72, 0.73, 0.74, 0.75, 0.76, 0.77, 0.78, 0.79, 0.8, 0.81, 0.8200000000000001, 0.8300000000000001, 0.84, 0.85, 0.86, 0.87, 0.88, 0.89, 0.9, 0.91, 0.92, 0.93, 0.9400000000000001, 0.9500000000000001, 0.96, 0.97, 0.98, 0.99, 1.0)), 'crossover_rate': CategoricalDistribution(choices=(0.0, 0.01, 0.02, 0.03, 0.04, 0.05, 0.06, 0.07, 0.08, 0.09, 0.1, 0.11, 0.12, 0.13, 0.14, 0.15, 0.16, 0.17, 0.18, 0.19, 0.2, 0.21, 0.22, 0.23, 0.24, 0.25, 0.26, 0.27, 0.28, 0.29, 0.3, 0.31, 0.32, 0.33, 0.34, 0.35000000000000003, 0.36, 0.37, 0.38, 0.39, 0.4, 0.41000000000000003, 0.42, 0.43, 0.44, 0.45, 0.46, 0.47000000000000003, 0.48, 0.49, 0.5, 0.51, 0.52, 0.53, 0.54, 0.55, 0.56, 0.5700000000000001, 0.58, 0.59, 0.6, 0.61, 0.62, 0.63, 0.64, 0.65, 0.66, 0.67, 0.68, 0.6900000000000001, 0.7000000000000001, 0.71, 0.72, 0.73, 0.74, 0.75, 0.76, 0.77, 0.78, 0.79, 0.8, 0.81, 0.8200000000000001, 0.8300000000000001, 0.84, 0.85, 0.86, 0.87, 0.88, 0.89, 0.9, 0.91, 0.92, 0.93, 0.9400000000000001, 0.9500000000000001, 0.96, 0.97, 0.98, 0.99, 1.0))}, trial_id=295, value=None)]\n"
     ]
    },
    {
     "name": "stderr",
     "output_type": "stream",
     "text": [
      "Hyperband | Run:  24%|██▍       | 12/50 [15:12:44<47:40:02, 4515.84s/it]"
     ]
    },
    {
     "name": "stdout",
     "output_type": "stream",
     "text": [
      "Est. true value:\t8.02276951598835\n",
      "Config:\t{'pop_size': 218, 'generations': 500, 'elite_split': 0.09, 'tournament_split': 0.08, 'mutation_rate': 0.9, 'crossover_rate': 0.01}\n",
      "Value:\t[FrozenTrial(number=176, state=1, values=[7.336427680195968], datetime_start=datetime.datetime(2025, 8, 2, 7, 54, 45, 528146), datetime_complete=datetime.datetime(2025, 8, 2, 7, 54, 49, 68664), params={'pop_size': 218, 'generations': 500, 'elite_split': 0.09, 'tournament_split': 0.08, 'mutation_rate': 0.9, 'crossover_rate': 0.01}, user_attrs={}, system_attrs={'completed_rung_0': 7.336427680195968}, intermediate_values={1: 7.336427680195968}, distributions={'pop_size': CategoricalDistribution(choices=(50, 51, 52, 53, 54, 55, 56, 57, 58, 59, 60, 61, 62, 63, 64, 65, 66, 67, 68, 69, 70, 71, 72, 73, 74, 75, 76, 77, 78, 79, 80, 81, 82, 83, 84, 85, 86, 87, 88, 89, 90, 91, 92, 93, 94, 95, 96, 97, 98, 99, 100, 101, 102, 103, 104, 105, 106, 107, 108, 109, 110, 111, 112, 113, 114, 115, 116, 117, 118, 119, 120, 121, 122, 123, 124, 125, 126, 127, 128, 129, 130, 131, 132, 133, 134, 135, 136, 137, 138, 139, 140, 141, 142, 143, 144, 145, 146, 147, 148, 149, 150, 151, 152, 153, 154, 155, 156, 157, 158, 159, 160, 161, 162, 163, 164, 165, 166, 167, 168, 169, 170, 171, 172, 173, 174, 175, 176, 177, 178, 179, 180, 181, 182, 183, 184, 185, 186, 187, 188, 189, 190, 191, 192, 193, 194, 195, 196, 197, 198, 199, 200, 201, 202, 203, 204, 205, 206, 207, 208, 209, 210, 211, 212, 213, 214, 215, 216, 217, 218, 219, 220, 221, 222, 223, 224, 225, 226, 227, 228, 229, 230, 231, 232, 233, 234, 235, 236, 237, 238, 239, 240, 241, 242, 243, 244, 245, 246, 247, 248, 249, 250)), 'generations': CategoricalDistribution(choices=(100, 200, 300, 400, 500)), 'elite_split': CategoricalDistribution(choices=(0.0, 0.01, 0.02, 0.03, 0.04, 0.05, 0.06, 0.07, 0.08, 0.09, 0.1, 0.11, 0.12, 0.13, 0.14, 0.15, 0.16, 0.17, 0.18, 0.19, 0.2)), 'tournament_split': CategoricalDistribution(choices=(0.0, 0.01, 0.02, 0.03, 0.04, 0.05, 0.06, 0.07, 0.08, 0.09, 0.1)), 'mutation_rate': CategoricalDistribution(choices=(0.0, 0.01, 0.02, 0.03, 0.04, 0.05, 0.06, 0.07, 0.08, 0.09, 0.1, 0.11, 0.12, 0.13, 0.14, 0.15, 0.16, 0.17, 0.18, 0.19, 0.2, 0.21, 0.22, 0.23, 0.24, 0.25, 0.26, 0.27, 0.28, 0.29, 0.3, 0.31, 0.32, 0.33, 0.34, 0.35000000000000003, 0.36, 0.37, 0.38, 0.39, 0.4, 0.41000000000000003, 0.42, 0.43, 0.44, 0.45, 0.46, 0.47000000000000003, 0.48, 0.49, 0.5, 0.51, 0.52, 0.53, 0.54, 0.55, 0.56, 0.5700000000000001, 0.58, 0.59, 0.6, 0.61, 0.62, 0.63, 0.64, 0.65, 0.66, 0.67, 0.68, 0.6900000000000001, 0.7000000000000001, 0.71, 0.72, 0.73, 0.74, 0.75, 0.76, 0.77, 0.78, 0.79, 0.8, 0.81, 0.8200000000000001, 0.8300000000000001, 0.84, 0.85, 0.86, 0.87, 0.88, 0.89, 0.9, 0.91, 0.92, 0.93, 0.9400000000000001, 0.9500000000000001, 0.96, 0.97, 0.98, 0.99, 1.0)), 'crossover_rate': CategoricalDistribution(choices=(0.0, 0.01, 0.02, 0.03, 0.04, 0.05, 0.06, 0.07, 0.08, 0.09, 0.1, 0.11, 0.12, 0.13, 0.14, 0.15, 0.16, 0.17, 0.18, 0.19, 0.2, 0.21, 0.22, 0.23, 0.24, 0.25, 0.26, 0.27, 0.28, 0.29, 0.3, 0.31, 0.32, 0.33, 0.34, 0.35000000000000003, 0.36, 0.37, 0.38, 0.39, 0.4, 0.41000000000000003, 0.42, 0.43, 0.44, 0.45, 0.46, 0.47000000000000003, 0.48, 0.49, 0.5, 0.51, 0.52, 0.53, 0.54, 0.55, 0.56, 0.5700000000000001, 0.58, 0.59, 0.6, 0.61, 0.62, 0.63, 0.64, 0.65, 0.66, 0.67, 0.68, 0.6900000000000001, 0.7000000000000001, 0.71, 0.72, 0.73, 0.74, 0.75, 0.76, 0.77, 0.78, 0.79, 0.8, 0.81, 0.8200000000000001, 0.8300000000000001, 0.84, 0.85, 0.86, 0.87, 0.88, 0.89, 0.9, 0.91, 0.92, 0.93, 0.9400000000000001, 0.9500000000000001, 0.96, 0.97, 0.98, 0.99, 1.0))}, trial_id=176, value=None)]\n"
     ]
    },
    {
     "name": "stderr",
     "output_type": "stream",
     "text": [
      "Hyperband | Run:  26%|██▌       | 13/50 [16:20:15<44:57:50, 4374.89s/it]"
     ]
    },
    {
     "name": "stdout",
     "output_type": "stream",
     "text": [
      "Est. true value:\t7.971724910761372\n",
      "Config:\t{'pop_size': 247, 'generations': 500, 'elite_split': 0.14, 'tournament_split': 0.09, 'mutation_rate': 0.88, 'crossover_rate': 0.04}\n",
      "Value:\t[FrozenTrial(number=309, state=1, values=[7.441771046864191], datetime_start=datetime.datetime(2025, 8, 2, 9, 8, 37, 645105), datetime_complete=datetime.datetime(2025, 8, 2, 9, 8, 42, 821833), params={'pop_size': 247, 'generations': 500, 'elite_split': 0.14, 'tournament_split': 0.09, 'mutation_rate': 0.88, 'crossover_rate': 0.04}, user_attrs={}, system_attrs={'completed_rung_0': 7.441771046864191}, intermediate_values={1: 7.441771046864191}, distributions={'pop_size': CategoricalDistribution(choices=(50, 51, 52, 53, 54, 55, 56, 57, 58, 59, 60, 61, 62, 63, 64, 65, 66, 67, 68, 69, 70, 71, 72, 73, 74, 75, 76, 77, 78, 79, 80, 81, 82, 83, 84, 85, 86, 87, 88, 89, 90, 91, 92, 93, 94, 95, 96, 97, 98, 99, 100, 101, 102, 103, 104, 105, 106, 107, 108, 109, 110, 111, 112, 113, 114, 115, 116, 117, 118, 119, 120, 121, 122, 123, 124, 125, 126, 127, 128, 129, 130, 131, 132, 133, 134, 135, 136, 137, 138, 139, 140, 141, 142, 143, 144, 145, 146, 147, 148, 149, 150, 151, 152, 153, 154, 155, 156, 157, 158, 159, 160, 161, 162, 163, 164, 165, 166, 167, 168, 169, 170, 171, 172, 173, 174, 175, 176, 177, 178, 179, 180, 181, 182, 183, 184, 185, 186, 187, 188, 189, 190, 191, 192, 193, 194, 195, 196, 197, 198, 199, 200, 201, 202, 203, 204, 205, 206, 207, 208, 209, 210, 211, 212, 213, 214, 215, 216, 217, 218, 219, 220, 221, 222, 223, 224, 225, 226, 227, 228, 229, 230, 231, 232, 233, 234, 235, 236, 237, 238, 239, 240, 241, 242, 243, 244, 245, 246, 247, 248, 249, 250)), 'generations': CategoricalDistribution(choices=(100, 200, 300, 400, 500)), 'elite_split': CategoricalDistribution(choices=(0.0, 0.01, 0.02, 0.03, 0.04, 0.05, 0.06, 0.07, 0.08, 0.09, 0.1, 0.11, 0.12, 0.13, 0.14, 0.15, 0.16, 0.17, 0.18, 0.19, 0.2)), 'tournament_split': CategoricalDistribution(choices=(0.0, 0.01, 0.02, 0.03, 0.04, 0.05, 0.06, 0.07, 0.08, 0.09, 0.1)), 'mutation_rate': CategoricalDistribution(choices=(0.0, 0.01, 0.02, 0.03, 0.04, 0.05, 0.06, 0.07, 0.08, 0.09, 0.1, 0.11, 0.12, 0.13, 0.14, 0.15, 0.16, 0.17, 0.18, 0.19, 0.2, 0.21, 0.22, 0.23, 0.24, 0.25, 0.26, 0.27, 0.28, 0.29, 0.3, 0.31, 0.32, 0.33, 0.34, 0.35000000000000003, 0.36, 0.37, 0.38, 0.39, 0.4, 0.41000000000000003, 0.42, 0.43, 0.44, 0.45, 0.46, 0.47000000000000003, 0.48, 0.49, 0.5, 0.51, 0.52, 0.53, 0.54, 0.55, 0.56, 0.5700000000000001, 0.58, 0.59, 0.6, 0.61, 0.62, 0.63, 0.64, 0.65, 0.66, 0.67, 0.68, 0.6900000000000001, 0.7000000000000001, 0.71, 0.72, 0.73, 0.74, 0.75, 0.76, 0.77, 0.78, 0.79, 0.8, 0.81, 0.8200000000000001, 0.8300000000000001, 0.84, 0.85, 0.86, 0.87, 0.88, 0.89, 0.9, 0.91, 0.92, 0.93, 0.9400000000000001, 0.9500000000000001, 0.96, 0.97, 0.98, 0.99, 1.0)), 'crossover_rate': CategoricalDistribution(choices=(0.0, 0.01, 0.02, 0.03, 0.04, 0.05, 0.06, 0.07, 0.08, 0.09, 0.1, 0.11, 0.12, 0.13, 0.14, 0.15, 0.16, 0.17, 0.18, 0.19, 0.2, 0.21, 0.22, 0.23, 0.24, 0.25, 0.26, 0.27, 0.28, 0.29, 0.3, 0.31, 0.32, 0.33, 0.34, 0.35000000000000003, 0.36, 0.37, 0.38, 0.39, 0.4, 0.41000000000000003, 0.42, 0.43, 0.44, 0.45, 0.46, 0.47000000000000003, 0.48, 0.49, 0.5, 0.51, 0.52, 0.53, 0.54, 0.55, 0.56, 0.5700000000000001, 0.58, 0.59, 0.6, 0.61, 0.62, 0.63, 0.64, 0.65, 0.66, 0.67, 0.68, 0.6900000000000001, 0.7000000000000001, 0.71, 0.72, 0.73, 0.74, 0.75, 0.76, 0.77, 0.78, 0.79, 0.8, 0.81, 0.8200000000000001, 0.8300000000000001, 0.84, 0.85, 0.86, 0.87, 0.88, 0.89, 0.9, 0.91, 0.92, 0.93, 0.9400000000000001, 0.9500000000000001, 0.96, 0.97, 0.98, 0.99, 1.0))}, trial_id=309, value=None)]\n"
     ]
    },
    {
     "name": "stderr",
     "output_type": "stream",
     "text": [
      "Hyperband | Run:  28%|██▊       | 14/50 [17:43:43<45:39:39, 4566.09s/it]"
     ]
    },
    {
     "name": "stdout",
     "output_type": "stream",
     "text": [
      "Est. true value:\t7.991516911056592\n",
      "Config:\t{'pop_size': 248, 'generations': 500, 'elite_split': 0.11, 'tournament_split': 0.09, 'mutation_rate': 0.62, 'crossover_rate': 0.25}\n",
      "Value:\t[FrozenTrial(number=293, state=1, values=[7.514720644328204], datetime_start=datetime.datetime(2025, 8, 2, 10, 31, 21, 474427), datetime_complete=datetime.datetime(2025, 8, 2, 10, 31, 26, 971317), params={'pop_size': 248, 'generations': 500, 'elite_split': 0.11, 'tournament_split': 0.09, 'mutation_rate': 0.62, 'crossover_rate': 0.25}, user_attrs={}, system_attrs={'completed_rung_0': 7.514720644328204}, intermediate_values={1: 7.514720644328204}, distributions={'pop_size': CategoricalDistribution(choices=(50, 51, 52, 53, 54, 55, 56, 57, 58, 59, 60, 61, 62, 63, 64, 65, 66, 67, 68, 69, 70, 71, 72, 73, 74, 75, 76, 77, 78, 79, 80, 81, 82, 83, 84, 85, 86, 87, 88, 89, 90, 91, 92, 93, 94, 95, 96, 97, 98, 99, 100, 101, 102, 103, 104, 105, 106, 107, 108, 109, 110, 111, 112, 113, 114, 115, 116, 117, 118, 119, 120, 121, 122, 123, 124, 125, 126, 127, 128, 129, 130, 131, 132, 133, 134, 135, 136, 137, 138, 139, 140, 141, 142, 143, 144, 145, 146, 147, 148, 149, 150, 151, 152, 153, 154, 155, 156, 157, 158, 159, 160, 161, 162, 163, 164, 165, 166, 167, 168, 169, 170, 171, 172, 173, 174, 175, 176, 177, 178, 179, 180, 181, 182, 183, 184, 185, 186, 187, 188, 189, 190, 191, 192, 193, 194, 195, 196, 197, 198, 199, 200, 201, 202, 203, 204, 205, 206, 207, 208, 209, 210, 211, 212, 213, 214, 215, 216, 217, 218, 219, 220, 221, 222, 223, 224, 225, 226, 227, 228, 229, 230, 231, 232, 233, 234, 235, 236, 237, 238, 239, 240, 241, 242, 243, 244, 245, 246, 247, 248, 249, 250)), 'generations': CategoricalDistribution(choices=(100, 200, 300, 400, 500)), 'elite_split': CategoricalDistribution(choices=(0.0, 0.01, 0.02, 0.03, 0.04, 0.05, 0.06, 0.07, 0.08, 0.09, 0.1, 0.11, 0.12, 0.13, 0.14, 0.15, 0.16, 0.17, 0.18, 0.19, 0.2)), 'tournament_split': CategoricalDistribution(choices=(0.0, 0.01, 0.02, 0.03, 0.04, 0.05, 0.06, 0.07, 0.08, 0.09, 0.1)), 'mutation_rate': CategoricalDistribution(choices=(0.0, 0.01, 0.02, 0.03, 0.04, 0.05, 0.06, 0.07, 0.08, 0.09, 0.1, 0.11, 0.12, 0.13, 0.14, 0.15, 0.16, 0.17, 0.18, 0.19, 0.2, 0.21, 0.22, 0.23, 0.24, 0.25, 0.26, 0.27, 0.28, 0.29, 0.3, 0.31, 0.32, 0.33, 0.34, 0.35000000000000003, 0.36, 0.37, 0.38, 0.39, 0.4, 0.41000000000000003, 0.42, 0.43, 0.44, 0.45, 0.46, 0.47000000000000003, 0.48, 0.49, 0.5, 0.51, 0.52, 0.53, 0.54, 0.55, 0.56, 0.5700000000000001, 0.58, 0.59, 0.6, 0.61, 0.62, 0.63, 0.64, 0.65, 0.66, 0.67, 0.68, 0.6900000000000001, 0.7000000000000001, 0.71, 0.72, 0.73, 0.74, 0.75, 0.76, 0.77, 0.78, 0.79, 0.8, 0.81, 0.8200000000000001, 0.8300000000000001, 0.84, 0.85, 0.86, 0.87, 0.88, 0.89, 0.9, 0.91, 0.92, 0.93, 0.9400000000000001, 0.9500000000000001, 0.96, 0.97, 0.98, 0.99, 1.0)), 'crossover_rate': CategoricalDistribution(choices=(0.0, 0.01, 0.02, 0.03, 0.04, 0.05, 0.06, 0.07, 0.08, 0.09, 0.1, 0.11, 0.12, 0.13, 0.14, 0.15, 0.16, 0.17, 0.18, 0.19, 0.2, 0.21, 0.22, 0.23, 0.24, 0.25, 0.26, 0.27, 0.28, 0.29, 0.3, 0.31, 0.32, 0.33, 0.34, 0.35000000000000003, 0.36, 0.37, 0.38, 0.39, 0.4, 0.41000000000000003, 0.42, 0.43, 0.44, 0.45, 0.46, 0.47000000000000003, 0.48, 0.49, 0.5, 0.51, 0.52, 0.53, 0.54, 0.55, 0.56, 0.5700000000000001, 0.58, 0.59, 0.6, 0.61, 0.62, 0.63, 0.64, 0.65, 0.66, 0.67, 0.68, 0.6900000000000001, 0.7000000000000001, 0.71, 0.72, 0.73, 0.74, 0.75, 0.76, 0.77, 0.78, 0.79, 0.8, 0.81, 0.8200000000000001, 0.8300000000000001, 0.84, 0.85, 0.86, 0.87, 0.88, 0.89, 0.9, 0.91, 0.92, 0.93, 0.9400000000000001, 0.9500000000000001, 0.96, 0.97, 0.98, 0.99, 1.0))}, trial_id=293, value=None)]\n"
     ]
    },
    {
     "name": "stderr",
     "output_type": "stream",
     "text": [
      "Hyperband | Run:  30%|███       | 15/50 [19:11:21<46:25:20, 4774.87s/it]"
     ]
    },
    {
     "name": "stdout",
     "output_type": "stream",
     "text": [
      "Est. true value:\t8.036934231118538\n",
      "Config:\t{'pop_size': 108, 'generations': 500, 'elite_split': 0.07, 'tournament_split': 0.1, 'mutation_rate': 0.76, 'crossover_rate': 0.17}\n",
      "Value:\t[FrozenTrial(number=662, state=1, values=[7.528883281410588], datetime_start=datetime.datetime(2025, 8, 2, 12, 14, 9, 408307), datetime_complete=datetime.datetime(2025, 8, 2, 12, 14, 10, 757588), params={'pop_size': 108, 'generations': 500, 'elite_split': 0.07, 'tournament_split': 0.1, 'mutation_rate': 0.76, 'crossover_rate': 0.17}, user_attrs={}, system_attrs={'completed_rung_0': 7.528883281410588}, intermediate_values={1: 7.528883281410588}, distributions={'pop_size': CategoricalDistribution(choices=(50, 51, 52, 53, 54, 55, 56, 57, 58, 59, 60, 61, 62, 63, 64, 65, 66, 67, 68, 69, 70, 71, 72, 73, 74, 75, 76, 77, 78, 79, 80, 81, 82, 83, 84, 85, 86, 87, 88, 89, 90, 91, 92, 93, 94, 95, 96, 97, 98, 99, 100, 101, 102, 103, 104, 105, 106, 107, 108, 109, 110, 111, 112, 113, 114, 115, 116, 117, 118, 119, 120, 121, 122, 123, 124, 125, 126, 127, 128, 129, 130, 131, 132, 133, 134, 135, 136, 137, 138, 139, 140, 141, 142, 143, 144, 145, 146, 147, 148, 149, 150, 151, 152, 153, 154, 155, 156, 157, 158, 159, 160, 161, 162, 163, 164, 165, 166, 167, 168, 169, 170, 171, 172, 173, 174, 175, 176, 177, 178, 179, 180, 181, 182, 183, 184, 185, 186, 187, 188, 189, 190, 191, 192, 193, 194, 195, 196, 197, 198, 199, 200, 201, 202, 203, 204, 205, 206, 207, 208, 209, 210, 211, 212, 213, 214, 215, 216, 217, 218, 219, 220, 221, 222, 223, 224, 225, 226, 227, 228, 229, 230, 231, 232, 233, 234, 235, 236, 237, 238, 239, 240, 241, 242, 243, 244, 245, 246, 247, 248, 249, 250)), 'generations': CategoricalDistribution(choices=(100, 200, 300, 400, 500)), 'elite_split': CategoricalDistribution(choices=(0.0, 0.01, 0.02, 0.03, 0.04, 0.05, 0.06, 0.07, 0.08, 0.09, 0.1, 0.11, 0.12, 0.13, 0.14, 0.15, 0.16, 0.17, 0.18, 0.19, 0.2)), 'tournament_split': CategoricalDistribution(choices=(0.0, 0.01, 0.02, 0.03, 0.04, 0.05, 0.06, 0.07, 0.08, 0.09, 0.1)), 'mutation_rate': CategoricalDistribution(choices=(0.0, 0.01, 0.02, 0.03, 0.04, 0.05, 0.06, 0.07, 0.08, 0.09, 0.1, 0.11, 0.12, 0.13, 0.14, 0.15, 0.16, 0.17, 0.18, 0.19, 0.2, 0.21, 0.22, 0.23, 0.24, 0.25, 0.26, 0.27, 0.28, 0.29, 0.3, 0.31, 0.32, 0.33, 0.34, 0.35000000000000003, 0.36, 0.37, 0.38, 0.39, 0.4, 0.41000000000000003, 0.42, 0.43, 0.44, 0.45, 0.46, 0.47000000000000003, 0.48, 0.49, 0.5, 0.51, 0.52, 0.53, 0.54, 0.55, 0.56, 0.5700000000000001, 0.58, 0.59, 0.6, 0.61, 0.62, 0.63, 0.64, 0.65, 0.66, 0.67, 0.68, 0.6900000000000001, 0.7000000000000001, 0.71, 0.72, 0.73, 0.74, 0.75, 0.76, 0.77, 0.78, 0.79, 0.8, 0.81, 0.8200000000000001, 0.8300000000000001, 0.84, 0.85, 0.86, 0.87, 0.88, 0.89, 0.9, 0.91, 0.92, 0.93, 0.9400000000000001, 0.9500000000000001, 0.96, 0.97, 0.98, 0.99, 1.0)), 'crossover_rate': CategoricalDistribution(choices=(0.0, 0.01, 0.02, 0.03, 0.04, 0.05, 0.06, 0.07, 0.08, 0.09, 0.1, 0.11, 0.12, 0.13, 0.14, 0.15, 0.16, 0.17, 0.18, 0.19, 0.2, 0.21, 0.22, 0.23, 0.24, 0.25, 0.26, 0.27, 0.28, 0.29, 0.3, 0.31, 0.32, 0.33, 0.34, 0.35000000000000003, 0.36, 0.37, 0.38, 0.39, 0.4, 0.41000000000000003, 0.42, 0.43, 0.44, 0.45, 0.46, 0.47000000000000003, 0.48, 0.49, 0.5, 0.51, 0.52, 0.53, 0.54, 0.55, 0.56, 0.5700000000000001, 0.58, 0.59, 0.6, 0.61, 0.62, 0.63, 0.64, 0.65, 0.66, 0.67, 0.68, 0.6900000000000001, 0.7000000000000001, 0.71, 0.72, 0.73, 0.74, 0.75, 0.76, 0.77, 0.78, 0.79, 0.8, 0.81, 0.8200000000000001, 0.8300000000000001, 0.84, 0.85, 0.86, 0.87, 0.88, 0.89, 0.9, 0.91, 0.92, 0.93, 0.9400000000000001, 0.9500000000000001, 0.96, 0.97, 0.98, 0.99, 1.0))}, trial_id=662, value=None)]\n"
     ]
    },
    {
     "name": "stderr",
     "output_type": "stream",
     "text": [
      "Hyperband | Run:  32%|███▏      | 16/50 [20:02:19<40:12:51, 4258.00s/it]"
     ]
    },
    {
     "name": "stdout",
     "output_type": "stream",
     "text": [
      "Est. true value:\t8.400686140684291\n",
      "Config:\t{'pop_size': 213, 'generations': 500, 'elite_split': 0.05, 'tournament_split': 0.1, 'mutation_rate': 0.7000000000000001, 'crossover_rate': 0.03}\n",
      "Value:\t[FrozenTrial(number=729, state=1, values=[7.423578489519425], datetime_start=datetime.datetime(2025, 8, 2, 13, 7, 20, 872416), datetime_complete=datetime.datetime(2025, 8, 2, 13, 7, 24, 322426), params={'pop_size': 213, 'generations': 500, 'elite_split': 0.05, 'tournament_split': 0.1, 'mutation_rate': 0.7000000000000001, 'crossover_rate': 0.03}, user_attrs={}, system_attrs={'completed_rung_0': 7.423578489519425}, intermediate_values={1: 7.423578489519425}, distributions={'pop_size': CategoricalDistribution(choices=(50, 51, 52, 53, 54, 55, 56, 57, 58, 59, 60, 61, 62, 63, 64, 65, 66, 67, 68, 69, 70, 71, 72, 73, 74, 75, 76, 77, 78, 79, 80, 81, 82, 83, 84, 85, 86, 87, 88, 89, 90, 91, 92, 93, 94, 95, 96, 97, 98, 99, 100, 101, 102, 103, 104, 105, 106, 107, 108, 109, 110, 111, 112, 113, 114, 115, 116, 117, 118, 119, 120, 121, 122, 123, 124, 125, 126, 127, 128, 129, 130, 131, 132, 133, 134, 135, 136, 137, 138, 139, 140, 141, 142, 143, 144, 145, 146, 147, 148, 149, 150, 151, 152, 153, 154, 155, 156, 157, 158, 159, 160, 161, 162, 163, 164, 165, 166, 167, 168, 169, 170, 171, 172, 173, 174, 175, 176, 177, 178, 179, 180, 181, 182, 183, 184, 185, 186, 187, 188, 189, 190, 191, 192, 193, 194, 195, 196, 197, 198, 199, 200, 201, 202, 203, 204, 205, 206, 207, 208, 209, 210, 211, 212, 213, 214, 215, 216, 217, 218, 219, 220, 221, 222, 223, 224, 225, 226, 227, 228, 229, 230, 231, 232, 233, 234, 235, 236, 237, 238, 239, 240, 241, 242, 243, 244, 245, 246, 247, 248, 249, 250)), 'generations': CategoricalDistribution(choices=(100, 200, 300, 400, 500)), 'elite_split': CategoricalDistribution(choices=(0.0, 0.01, 0.02, 0.03, 0.04, 0.05, 0.06, 0.07, 0.08, 0.09, 0.1, 0.11, 0.12, 0.13, 0.14, 0.15, 0.16, 0.17, 0.18, 0.19, 0.2)), 'tournament_split': CategoricalDistribution(choices=(0.0, 0.01, 0.02, 0.03, 0.04, 0.05, 0.06, 0.07, 0.08, 0.09, 0.1)), 'mutation_rate': CategoricalDistribution(choices=(0.0, 0.01, 0.02, 0.03, 0.04, 0.05, 0.06, 0.07, 0.08, 0.09, 0.1, 0.11, 0.12, 0.13, 0.14, 0.15, 0.16, 0.17, 0.18, 0.19, 0.2, 0.21, 0.22, 0.23, 0.24, 0.25, 0.26, 0.27, 0.28, 0.29, 0.3, 0.31, 0.32, 0.33, 0.34, 0.35000000000000003, 0.36, 0.37, 0.38, 0.39, 0.4, 0.41000000000000003, 0.42, 0.43, 0.44, 0.45, 0.46, 0.47000000000000003, 0.48, 0.49, 0.5, 0.51, 0.52, 0.53, 0.54, 0.55, 0.56, 0.5700000000000001, 0.58, 0.59, 0.6, 0.61, 0.62, 0.63, 0.64, 0.65, 0.66, 0.67, 0.68, 0.6900000000000001, 0.7000000000000001, 0.71, 0.72, 0.73, 0.74, 0.75, 0.76, 0.77, 0.78, 0.79, 0.8, 0.81, 0.8200000000000001, 0.8300000000000001, 0.84, 0.85, 0.86, 0.87, 0.88, 0.89, 0.9, 0.91, 0.92, 0.93, 0.9400000000000001, 0.9500000000000001, 0.96, 0.97, 0.98, 0.99, 1.0)), 'crossover_rate': CategoricalDistribution(choices=(0.0, 0.01, 0.02, 0.03, 0.04, 0.05, 0.06, 0.07, 0.08, 0.09, 0.1, 0.11, 0.12, 0.13, 0.14, 0.15, 0.16, 0.17, 0.18, 0.19, 0.2, 0.21, 0.22, 0.23, 0.24, 0.25, 0.26, 0.27, 0.28, 0.29, 0.3, 0.31, 0.32, 0.33, 0.34, 0.35000000000000003, 0.36, 0.37, 0.38, 0.39, 0.4, 0.41000000000000003, 0.42, 0.43, 0.44, 0.45, 0.46, 0.47000000000000003, 0.48, 0.49, 0.5, 0.51, 0.52, 0.53, 0.54, 0.55, 0.56, 0.5700000000000001, 0.58, 0.59, 0.6, 0.61, 0.62, 0.63, 0.64, 0.65, 0.66, 0.67, 0.68, 0.6900000000000001, 0.7000000000000001, 0.71, 0.72, 0.73, 0.74, 0.75, 0.76, 0.77, 0.78, 0.79, 0.8, 0.81, 0.8200000000000001, 0.8300000000000001, 0.84, 0.85, 0.86, 0.87, 0.88, 0.89, 0.9, 0.91, 0.92, 0.93, 0.9400000000000001, 0.9500000000000001, 0.96, 0.97, 0.98, 0.99, 1.0))}, trial_id=729, value=None)]\n"
     ]
    },
    {
     "name": "stderr",
     "output_type": "stream",
     "text": [
      "Hyperband | Run:  34%|███▍      | 17/50 [21:11:23<38:43:02, 4223.70s/it]"
     ]
    },
    {
     "name": "stdout",
     "output_type": "stream",
     "text": [
      "Est. true value:\t8.020615512479008\n",
      "Config:\t{'pop_size': 205, 'generations': 500, 'elite_split': 0.09, 'tournament_split': 0.07, 'mutation_rate': 0.75, 'crossover_rate': 0.01}\n",
      "Value:\t[FrozenTrial(number=196, state=1, values=[7.548788639048739], datetime_start=datetime.datetime(2025, 8, 2, 13, 54, 29, 438363), datetime_complete=datetime.datetime(2025, 8, 2, 13, 54, 32, 507261), params={'pop_size': 205, 'generations': 500, 'elite_split': 0.09, 'tournament_split': 0.07, 'mutation_rate': 0.75, 'crossover_rate': 0.01}, user_attrs={}, system_attrs={'completed_rung_0': 7.548788639048739}, intermediate_values={1: 7.548788639048739}, distributions={'pop_size': CategoricalDistribution(choices=(50, 51, 52, 53, 54, 55, 56, 57, 58, 59, 60, 61, 62, 63, 64, 65, 66, 67, 68, 69, 70, 71, 72, 73, 74, 75, 76, 77, 78, 79, 80, 81, 82, 83, 84, 85, 86, 87, 88, 89, 90, 91, 92, 93, 94, 95, 96, 97, 98, 99, 100, 101, 102, 103, 104, 105, 106, 107, 108, 109, 110, 111, 112, 113, 114, 115, 116, 117, 118, 119, 120, 121, 122, 123, 124, 125, 126, 127, 128, 129, 130, 131, 132, 133, 134, 135, 136, 137, 138, 139, 140, 141, 142, 143, 144, 145, 146, 147, 148, 149, 150, 151, 152, 153, 154, 155, 156, 157, 158, 159, 160, 161, 162, 163, 164, 165, 166, 167, 168, 169, 170, 171, 172, 173, 174, 175, 176, 177, 178, 179, 180, 181, 182, 183, 184, 185, 186, 187, 188, 189, 190, 191, 192, 193, 194, 195, 196, 197, 198, 199, 200, 201, 202, 203, 204, 205, 206, 207, 208, 209, 210, 211, 212, 213, 214, 215, 216, 217, 218, 219, 220, 221, 222, 223, 224, 225, 226, 227, 228, 229, 230, 231, 232, 233, 234, 235, 236, 237, 238, 239, 240, 241, 242, 243, 244, 245, 246, 247, 248, 249, 250)), 'generations': CategoricalDistribution(choices=(100, 200, 300, 400, 500)), 'elite_split': CategoricalDistribution(choices=(0.0, 0.01, 0.02, 0.03, 0.04, 0.05, 0.06, 0.07, 0.08, 0.09, 0.1, 0.11, 0.12, 0.13, 0.14, 0.15, 0.16, 0.17, 0.18, 0.19, 0.2)), 'tournament_split': CategoricalDistribution(choices=(0.0, 0.01, 0.02, 0.03, 0.04, 0.05, 0.06, 0.07, 0.08, 0.09, 0.1)), 'mutation_rate': CategoricalDistribution(choices=(0.0, 0.01, 0.02, 0.03, 0.04, 0.05, 0.06, 0.07, 0.08, 0.09, 0.1, 0.11, 0.12, 0.13, 0.14, 0.15, 0.16, 0.17, 0.18, 0.19, 0.2, 0.21, 0.22, 0.23, 0.24, 0.25, 0.26, 0.27, 0.28, 0.29, 0.3, 0.31, 0.32, 0.33, 0.34, 0.35000000000000003, 0.36, 0.37, 0.38, 0.39, 0.4, 0.41000000000000003, 0.42, 0.43, 0.44, 0.45, 0.46, 0.47000000000000003, 0.48, 0.49, 0.5, 0.51, 0.52, 0.53, 0.54, 0.55, 0.56, 0.5700000000000001, 0.58, 0.59, 0.6, 0.61, 0.62, 0.63, 0.64, 0.65, 0.66, 0.67, 0.68, 0.6900000000000001, 0.7000000000000001, 0.71, 0.72, 0.73, 0.74, 0.75, 0.76, 0.77, 0.78, 0.79, 0.8, 0.81, 0.8200000000000001, 0.8300000000000001, 0.84, 0.85, 0.86, 0.87, 0.88, 0.89, 0.9, 0.91, 0.92, 0.93, 0.9400000000000001, 0.9500000000000001, 0.96, 0.97, 0.98, 0.99, 1.0)), 'crossover_rate': CategoricalDistribution(choices=(0.0, 0.01, 0.02, 0.03, 0.04, 0.05, 0.06, 0.07, 0.08, 0.09, 0.1, 0.11, 0.12, 0.13, 0.14, 0.15, 0.16, 0.17, 0.18, 0.19, 0.2, 0.21, 0.22, 0.23, 0.24, 0.25, 0.26, 0.27, 0.28, 0.29, 0.3, 0.31, 0.32, 0.33, 0.34, 0.35000000000000003, 0.36, 0.37, 0.38, 0.39, 0.4, 0.41000000000000003, 0.42, 0.43, 0.44, 0.45, 0.46, 0.47000000000000003, 0.48, 0.49, 0.5, 0.51, 0.52, 0.53, 0.54, 0.55, 0.56, 0.5700000000000001, 0.58, 0.59, 0.6, 0.61, 0.62, 0.63, 0.64, 0.65, 0.66, 0.67, 0.68, 0.6900000000000001, 0.7000000000000001, 0.71, 0.72, 0.73, 0.74, 0.75, 0.76, 0.77, 0.78, 0.79, 0.8, 0.81, 0.8200000000000001, 0.8300000000000001, 0.84, 0.85, 0.86, 0.87, 0.88, 0.89, 0.9, 0.91, 0.92, 0.93, 0.9400000000000001, 0.9500000000000001, 0.96, 0.97, 0.98, 0.99, 1.0))}, trial_id=196, value=None)]\n"
     ]
    },
    {
     "name": "stderr",
     "output_type": "stream",
     "text": [
      "Hyperband | Run:  36%|███▌      | 18/50 [22:17:09<36:48:11, 4140.34s/it]"
     ]
    },
    {
     "name": "stdout",
     "output_type": "stream",
     "text": [
      "Est. true value:\t8.034099918297727\n",
      "Config:\t{'pop_size': 244, 'generations': 500, 'elite_split': 0.17, 'tournament_split': 0.1, 'mutation_rate': 0.58, 'crossover_rate': 0.03}\n",
      "Value:\t[FrozenTrial(number=301, state=1, values=[7.5192998654580245], datetime_start=datetime.datetime(2025, 8, 2, 15, 4, 18, 53546), datetime_complete=datetime.datetime(2025, 8, 2, 15, 4, 21, 656747), params={'pop_size': 244, 'generations': 500, 'elite_split': 0.17, 'tournament_split': 0.1, 'mutation_rate': 0.58, 'crossover_rate': 0.03}, user_attrs={}, system_attrs={'completed_rung_0': 7.5192998654580245}, intermediate_values={1: 7.5192998654580245}, distributions={'pop_size': CategoricalDistribution(choices=(50, 51, 52, 53, 54, 55, 56, 57, 58, 59, 60, 61, 62, 63, 64, 65, 66, 67, 68, 69, 70, 71, 72, 73, 74, 75, 76, 77, 78, 79, 80, 81, 82, 83, 84, 85, 86, 87, 88, 89, 90, 91, 92, 93, 94, 95, 96, 97, 98, 99, 100, 101, 102, 103, 104, 105, 106, 107, 108, 109, 110, 111, 112, 113, 114, 115, 116, 117, 118, 119, 120, 121, 122, 123, 124, 125, 126, 127, 128, 129, 130, 131, 132, 133, 134, 135, 136, 137, 138, 139, 140, 141, 142, 143, 144, 145, 146, 147, 148, 149, 150, 151, 152, 153, 154, 155, 156, 157, 158, 159, 160, 161, 162, 163, 164, 165, 166, 167, 168, 169, 170, 171, 172, 173, 174, 175, 176, 177, 178, 179, 180, 181, 182, 183, 184, 185, 186, 187, 188, 189, 190, 191, 192, 193, 194, 195, 196, 197, 198, 199, 200, 201, 202, 203, 204, 205, 206, 207, 208, 209, 210, 211, 212, 213, 214, 215, 216, 217, 218, 219, 220, 221, 222, 223, 224, 225, 226, 227, 228, 229, 230, 231, 232, 233, 234, 235, 236, 237, 238, 239, 240, 241, 242, 243, 244, 245, 246, 247, 248, 249, 250)), 'generations': CategoricalDistribution(choices=(100, 200, 300, 400, 500)), 'elite_split': CategoricalDistribution(choices=(0.0, 0.01, 0.02, 0.03, 0.04, 0.05, 0.06, 0.07, 0.08, 0.09, 0.1, 0.11, 0.12, 0.13, 0.14, 0.15, 0.16, 0.17, 0.18, 0.19, 0.2)), 'tournament_split': CategoricalDistribution(choices=(0.0, 0.01, 0.02, 0.03, 0.04, 0.05, 0.06, 0.07, 0.08, 0.09, 0.1)), 'mutation_rate': CategoricalDistribution(choices=(0.0, 0.01, 0.02, 0.03, 0.04, 0.05, 0.06, 0.07, 0.08, 0.09, 0.1, 0.11, 0.12, 0.13, 0.14, 0.15, 0.16, 0.17, 0.18, 0.19, 0.2, 0.21, 0.22, 0.23, 0.24, 0.25, 0.26, 0.27, 0.28, 0.29, 0.3, 0.31, 0.32, 0.33, 0.34, 0.35000000000000003, 0.36, 0.37, 0.38, 0.39, 0.4, 0.41000000000000003, 0.42, 0.43, 0.44, 0.45, 0.46, 0.47000000000000003, 0.48, 0.49, 0.5, 0.51, 0.52, 0.53, 0.54, 0.55, 0.56, 0.5700000000000001, 0.58, 0.59, 0.6, 0.61, 0.62, 0.63, 0.64, 0.65, 0.66, 0.67, 0.68, 0.6900000000000001, 0.7000000000000001, 0.71, 0.72, 0.73, 0.74, 0.75, 0.76, 0.77, 0.78, 0.79, 0.8, 0.81, 0.8200000000000001, 0.8300000000000001, 0.84, 0.85, 0.86, 0.87, 0.88, 0.89, 0.9, 0.91, 0.92, 0.93, 0.9400000000000001, 0.9500000000000001, 0.96, 0.97, 0.98, 0.99, 1.0)), 'crossover_rate': CategoricalDistribution(choices=(0.0, 0.01, 0.02, 0.03, 0.04, 0.05, 0.06, 0.07, 0.08, 0.09, 0.1, 0.11, 0.12, 0.13, 0.14, 0.15, 0.16, 0.17, 0.18, 0.19, 0.2, 0.21, 0.22, 0.23, 0.24, 0.25, 0.26, 0.27, 0.28, 0.29, 0.3, 0.31, 0.32, 0.33, 0.34, 0.35000000000000003, 0.36, 0.37, 0.38, 0.39, 0.4, 0.41000000000000003, 0.42, 0.43, 0.44, 0.45, 0.46, 0.47000000000000003, 0.48, 0.49, 0.5, 0.51, 0.52, 0.53, 0.54, 0.55, 0.56, 0.5700000000000001, 0.58, 0.59, 0.6, 0.61, 0.62, 0.63, 0.64, 0.65, 0.66, 0.67, 0.68, 0.6900000000000001, 0.7000000000000001, 0.71, 0.72, 0.73, 0.74, 0.75, 0.76, 0.77, 0.78, 0.79, 0.8, 0.81, 0.8200000000000001, 0.8300000000000001, 0.84, 0.85, 0.86, 0.87, 0.88, 0.89, 0.9, 0.91, 0.92, 0.93, 0.9400000000000001, 0.9500000000000001, 0.96, 0.97, 0.98, 0.99, 1.0))}, trial_id=301, value=None)]\n"
     ]
    },
    {
     "name": "stderr",
     "output_type": "stream",
     "text": [
      "Hyperband | Run:  38%|███▊      | 19/50 [23:26:34<35:42:59, 4147.73s/it]"
     ]
    },
    {
     "name": "stdout",
     "output_type": "stream",
     "text": [
      "Est. true value:\t8.032342458829296\n",
      "Config:\t{'pop_size': 196, 'generations': 500, 'elite_split': 0.13, 'tournament_split': 0.08, 'mutation_rate': 0.62, 'crossover_rate': 0.08}\n",
      "Value:\t[FrozenTrial(number=861, state=1, values=[7.439876556968863], datetime_start=datetime.datetime(2025, 8, 2, 16, 36, 50, 203878), datetime_complete=datetime.datetime(2025, 8, 2, 16, 36, 53, 9418), params={'pop_size': 196, 'generations': 500, 'elite_split': 0.13, 'tournament_split': 0.08, 'mutation_rate': 0.62, 'crossover_rate': 0.08}, user_attrs={}, system_attrs={'completed_rung_0': 7.439876556968863}, intermediate_values={1: 7.439876556968863}, distributions={'pop_size': CategoricalDistribution(choices=(50, 51, 52, 53, 54, 55, 56, 57, 58, 59, 60, 61, 62, 63, 64, 65, 66, 67, 68, 69, 70, 71, 72, 73, 74, 75, 76, 77, 78, 79, 80, 81, 82, 83, 84, 85, 86, 87, 88, 89, 90, 91, 92, 93, 94, 95, 96, 97, 98, 99, 100, 101, 102, 103, 104, 105, 106, 107, 108, 109, 110, 111, 112, 113, 114, 115, 116, 117, 118, 119, 120, 121, 122, 123, 124, 125, 126, 127, 128, 129, 130, 131, 132, 133, 134, 135, 136, 137, 138, 139, 140, 141, 142, 143, 144, 145, 146, 147, 148, 149, 150, 151, 152, 153, 154, 155, 156, 157, 158, 159, 160, 161, 162, 163, 164, 165, 166, 167, 168, 169, 170, 171, 172, 173, 174, 175, 176, 177, 178, 179, 180, 181, 182, 183, 184, 185, 186, 187, 188, 189, 190, 191, 192, 193, 194, 195, 196, 197, 198, 199, 200, 201, 202, 203, 204, 205, 206, 207, 208, 209, 210, 211, 212, 213, 214, 215, 216, 217, 218, 219, 220, 221, 222, 223, 224, 225, 226, 227, 228, 229, 230, 231, 232, 233, 234, 235, 236, 237, 238, 239, 240, 241, 242, 243, 244, 245, 246, 247, 248, 249, 250)), 'generations': CategoricalDistribution(choices=(100, 200, 300, 400, 500)), 'elite_split': CategoricalDistribution(choices=(0.0, 0.01, 0.02, 0.03, 0.04, 0.05, 0.06, 0.07, 0.08, 0.09, 0.1, 0.11, 0.12, 0.13, 0.14, 0.15, 0.16, 0.17, 0.18, 0.19, 0.2)), 'tournament_split': CategoricalDistribution(choices=(0.0, 0.01, 0.02, 0.03, 0.04, 0.05, 0.06, 0.07, 0.08, 0.09, 0.1)), 'mutation_rate': CategoricalDistribution(choices=(0.0, 0.01, 0.02, 0.03, 0.04, 0.05, 0.06, 0.07, 0.08, 0.09, 0.1, 0.11, 0.12, 0.13, 0.14, 0.15, 0.16, 0.17, 0.18, 0.19, 0.2, 0.21, 0.22, 0.23, 0.24, 0.25, 0.26, 0.27, 0.28, 0.29, 0.3, 0.31, 0.32, 0.33, 0.34, 0.35000000000000003, 0.36, 0.37, 0.38, 0.39, 0.4, 0.41000000000000003, 0.42, 0.43, 0.44, 0.45, 0.46, 0.47000000000000003, 0.48, 0.49, 0.5, 0.51, 0.52, 0.53, 0.54, 0.55, 0.56, 0.5700000000000001, 0.58, 0.59, 0.6, 0.61, 0.62, 0.63, 0.64, 0.65, 0.66, 0.67, 0.68, 0.6900000000000001, 0.7000000000000001, 0.71, 0.72, 0.73, 0.74, 0.75, 0.76, 0.77, 0.78, 0.79, 0.8, 0.81, 0.8200000000000001, 0.8300000000000001, 0.84, 0.85, 0.86, 0.87, 0.88, 0.89, 0.9, 0.91, 0.92, 0.93, 0.9400000000000001, 0.9500000000000001, 0.96, 0.97, 0.98, 0.99, 1.0)), 'crossover_rate': CategoricalDistribution(choices=(0.0, 0.01, 0.02, 0.03, 0.04, 0.05, 0.06, 0.07, 0.08, 0.09, 0.1, 0.11, 0.12, 0.13, 0.14, 0.15, 0.16, 0.17, 0.18, 0.19, 0.2, 0.21, 0.22, 0.23, 0.24, 0.25, 0.26, 0.27, 0.28, 0.29, 0.3, 0.31, 0.32, 0.33, 0.34, 0.35000000000000003, 0.36, 0.37, 0.38, 0.39, 0.4, 0.41000000000000003, 0.42, 0.43, 0.44, 0.45, 0.46, 0.47000000000000003, 0.48, 0.49, 0.5, 0.51, 0.52, 0.53, 0.54, 0.55, 0.56, 0.5700000000000001, 0.58, 0.59, 0.6, 0.61, 0.62, 0.63, 0.64, 0.65, 0.66, 0.67, 0.68, 0.6900000000000001, 0.7000000000000001, 0.71, 0.72, 0.73, 0.74, 0.75, 0.76, 0.77, 0.78, 0.79, 0.8, 0.81, 0.8200000000000001, 0.8300000000000001, 0.84, 0.85, 0.86, 0.87, 0.88, 0.89, 0.9, 0.91, 0.92, 0.93, 0.9400000000000001, 0.9500000000000001, 0.96, 0.97, 0.98, 0.99, 1.0))}, trial_id=861, value=None)]\n"
     ]
    },
    {
     "name": "stderr",
     "output_type": "stream",
     "text": [
      "Hyperband | Run:  40%|████      | 20/50 [24:29:18<33:36:13, 4032.45s/it]"
     ]
    },
    {
     "name": "stdout",
     "output_type": "stream",
     "text": [
      "Est. true value:\t8.091466032149874\n",
      "Config:\t{'pop_size': 164, 'generations': 500, 'elite_split': 0.11, 'tournament_split': 0.1, 'mutation_rate': 0.85, 'crossover_rate': 0.13}\n",
      "Value:\t[FrozenTrial(number=488, state=1, values=[7.4407359135215545], datetime_start=datetime.datetime(2025, 8, 2, 17, 25, 6, 34241), datetime_complete=datetime.datetime(2025, 8, 2, 17, 25, 8, 391662), params={'pop_size': 164, 'generations': 500, 'elite_split': 0.11, 'tournament_split': 0.1, 'mutation_rate': 0.85, 'crossover_rate': 0.13}, user_attrs={}, system_attrs={'completed_rung_0': 7.4407359135215545}, intermediate_values={1: 7.4407359135215545}, distributions={'pop_size': CategoricalDistribution(choices=(50, 51, 52, 53, 54, 55, 56, 57, 58, 59, 60, 61, 62, 63, 64, 65, 66, 67, 68, 69, 70, 71, 72, 73, 74, 75, 76, 77, 78, 79, 80, 81, 82, 83, 84, 85, 86, 87, 88, 89, 90, 91, 92, 93, 94, 95, 96, 97, 98, 99, 100, 101, 102, 103, 104, 105, 106, 107, 108, 109, 110, 111, 112, 113, 114, 115, 116, 117, 118, 119, 120, 121, 122, 123, 124, 125, 126, 127, 128, 129, 130, 131, 132, 133, 134, 135, 136, 137, 138, 139, 140, 141, 142, 143, 144, 145, 146, 147, 148, 149, 150, 151, 152, 153, 154, 155, 156, 157, 158, 159, 160, 161, 162, 163, 164, 165, 166, 167, 168, 169, 170, 171, 172, 173, 174, 175, 176, 177, 178, 179, 180, 181, 182, 183, 184, 185, 186, 187, 188, 189, 190, 191, 192, 193, 194, 195, 196, 197, 198, 199, 200, 201, 202, 203, 204, 205, 206, 207, 208, 209, 210, 211, 212, 213, 214, 215, 216, 217, 218, 219, 220, 221, 222, 223, 224, 225, 226, 227, 228, 229, 230, 231, 232, 233, 234, 235, 236, 237, 238, 239, 240, 241, 242, 243, 244, 245, 246, 247, 248, 249, 250)), 'generations': CategoricalDistribution(choices=(100, 200, 300, 400, 500)), 'elite_split': CategoricalDistribution(choices=(0.0, 0.01, 0.02, 0.03, 0.04, 0.05, 0.06, 0.07, 0.08, 0.09, 0.1, 0.11, 0.12, 0.13, 0.14, 0.15, 0.16, 0.17, 0.18, 0.19, 0.2)), 'tournament_split': CategoricalDistribution(choices=(0.0, 0.01, 0.02, 0.03, 0.04, 0.05, 0.06, 0.07, 0.08, 0.09, 0.1)), 'mutation_rate': CategoricalDistribution(choices=(0.0, 0.01, 0.02, 0.03, 0.04, 0.05, 0.06, 0.07, 0.08, 0.09, 0.1, 0.11, 0.12, 0.13, 0.14, 0.15, 0.16, 0.17, 0.18, 0.19, 0.2, 0.21, 0.22, 0.23, 0.24, 0.25, 0.26, 0.27, 0.28, 0.29, 0.3, 0.31, 0.32, 0.33, 0.34, 0.35000000000000003, 0.36, 0.37, 0.38, 0.39, 0.4, 0.41000000000000003, 0.42, 0.43, 0.44, 0.45, 0.46, 0.47000000000000003, 0.48, 0.49, 0.5, 0.51, 0.52, 0.53, 0.54, 0.55, 0.56, 0.5700000000000001, 0.58, 0.59, 0.6, 0.61, 0.62, 0.63, 0.64, 0.65, 0.66, 0.67, 0.68, 0.6900000000000001, 0.7000000000000001, 0.71, 0.72, 0.73, 0.74, 0.75, 0.76, 0.77, 0.78, 0.79, 0.8, 0.81, 0.8200000000000001, 0.8300000000000001, 0.84, 0.85, 0.86, 0.87, 0.88, 0.89, 0.9, 0.91, 0.92, 0.93, 0.9400000000000001, 0.9500000000000001, 0.96, 0.97, 0.98, 0.99, 1.0)), 'crossover_rate': CategoricalDistribution(choices=(0.0, 0.01, 0.02, 0.03, 0.04, 0.05, 0.06, 0.07, 0.08, 0.09, 0.1, 0.11, 0.12, 0.13, 0.14, 0.15, 0.16, 0.17, 0.18, 0.19, 0.2, 0.21, 0.22, 0.23, 0.24, 0.25, 0.26, 0.27, 0.28, 0.29, 0.3, 0.31, 0.32, 0.33, 0.34, 0.35000000000000003, 0.36, 0.37, 0.38, 0.39, 0.4, 0.41000000000000003, 0.42, 0.43, 0.44, 0.45, 0.46, 0.47000000000000003, 0.48, 0.49, 0.5, 0.51, 0.52, 0.53, 0.54, 0.55, 0.56, 0.5700000000000001, 0.58, 0.59, 0.6, 0.61, 0.62, 0.63, 0.64, 0.65, 0.66, 0.67, 0.68, 0.6900000000000001, 0.7000000000000001, 0.71, 0.72, 0.73, 0.74, 0.75, 0.76, 0.77, 0.78, 0.79, 0.8, 0.81, 0.8200000000000001, 0.8300000000000001, 0.84, 0.85, 0.86, 0.87, 0.88, 0.89, 0.9, 0.91, 0.92, 0.93, 0.9400000000000001, 0.9500000000000001, 0.96, 0.97, 0.98, 0.99, 1.0))}, trial_id=488, value=None)]\n"
     ]
    },
    {
     "name": "stderr",
     "output_type": "stream",
     "text": [
      "Hyperband | Run:  42%|████▏     | 21/50 [25:29:10<31:25:05, 3900.19s/it]"
     ]
    },
    {
     "name": "stdout",
     "output_type": "stream",
     "text": [
      "Est. true value:\t8.048353426277506\n",
      "Config:\t{'pop_size': 235, 'generations': 500, 'elite_split': 0.07, 'tournament_split': 0.07, 'mutation_rate': 0.97, 'crossover_rate': 0.03}\n",
      "Value:\t[FrozenTrial(number=210, state=1, values=[7.48269707898283], datetime_start=datetime.datetime(2025, 8, 2, 18, 12, 47, 734179), datetime_complete=datetime.datetime(2025, 8, 2, 18, 12, 52, 22519), params={'pop_size': 235, 'generations': 500, 'elite_split': 0.07, 'tournament_split': 0.07, 'mutation_rate': 0.97, 'crossover_rate': 0.03}, user_attrs={}, system_attrs={'completed_rung_0': 7.48269707898283}, intermediate_values={1: 7.48269707898283}, distributions={'pop_size': CategoricalDistribution(choices=(50, 51, 52, 53, 54, 55, 56, 57, 58, 59, 60, 61, 62, 63, 64, 65, 66, 67, 68, 69, 70, 71, 72, 73, 74, 75, 76, 77, 78, 79, 80, 81, 82, 83, 84, 85, 86, 87, 88, 89, 90, 91, 92, 93, 94, 95, 96, 97, 98, 99, 100, 101, 102, 103, 104, 105, 106, 107, 108, 109, 110, 111, 112, 113, 114, 115, 116, 117, 118, 119, 120, 121, 122, 123, 124, 125, 126, 127, 128, 129, 130, 131, 132, 133, 134, 135, 136, 137, 138, 139, 140, 141, 142, 143, 144, 145, 146, 147, 148, 149, 150, 151, 152, 153, 154, 155, 156, 157, 158, 159, 160, 161, 162, 163, 164, 165, 166, 167, 168, 169, 170, 171, 172, 173, 174, 175, 176, 177, 178, 179, 180, 181, 182, 183, 184, 185, 186, 187, 188, 189, 190, 191, 192, 193, 194, 195, 196, 197, 198, 199, 200, 201, 202, 203, 204, 205, 206, 207, 208, 209, 210, 211, 212, 213, 214, 215, 216, 217, 218, 219, 220, 221, 222, 223, 224, 225, 226, 227, 228, 229, 230, 231, 232, 233, 234, 235, 236, 237, 238, 239, 240, 241, 242, 243, 244, 245, 246, 247, 248, 249, 250)), 'generations': CategoricalDistribution(choices=(100, 200, 300, 400, 500)), 'elite_split': CategoricalDistribution(choices=(0.0, 0.01, 0.02, 0.03, 0.04, 0.05, 0.06, 0.07, 0.08, 0.09, 0.1, 0.11, 0.12, 0.13, 0.14, 0.15, 0.16, 0.17, 0.18, 0.19, 0.2)), 'tournament_split': CategoricalDistribution(choices=(0.0, 0.01, 0.02, 0.03, 0.04, 0.05, 0.06, 0.07, 0.08, 0.09, 0.1)), 'mutation_rate': CategoricalDistribution(choices=(0.0, 0.01, 0.02, 0.03, 0.04, 0.05, 0.06, 0.07, 0.08, 0.09, 0.1, 0.11, 0.12, 0.13, 0.14, 0.15, 0.16, 0.17, 0.18, 0.19, 0.2, 0.21, 0.22, 0.23, 0.24, 0.25, 0.26, 0.27, 0.28, 0.29, 0.3, 0.31, 0.32, 0.33, 0.34, 0.35000000000000003, 0.36, 0.37, 0.38, 0.39, 0.4, 0.41000000000000003, 0.42, 0.43, 0.44, 0.45, 0.46, 0.47000000000000003, 0.48, 0.49, 0.5, 0.51, 0.52, 0.53, 0.54, 0.55, 0.56, 0.5700000000000001, 0.58, 0.59, 0.6, 0.61, 0.62, 0.63, 0.64, 0.65, 0.66, 0.67, 0.68, 0.6900000000000001, 0.7000000000000001, 0.71, 0.72, 0.73, 0.74, 0.75, 0.76, 0.77, 0.78, 0.79, 0.8, 0.81, 0.8200000000000001, 0.8300000000000001, 0.84, 0.85, 0.86, 0.87, 0.88, 0.89, 0.9, 0.91, 0.92, 0.93, 0.9400000000000001, 0.9500000000000001, 0.96, 0.97, 0.98, 0.99, 1.0)), 'crossover_rate': CategoricalDistribution(choices=(0.0, 0.01, 0.02, 0.03, 0.04, 0.05, 0.06, 0.07, 0.08, 0.09, 0.1, 0.11, 0.12, 0.13, 0.14, 0.15, 0.16, 0.17, 0.18, 0.19, 0.2, 0.21, 0.22, 0.23, 0.24, 0.25, 0.26, 0.27, 0.28, 0.29, 0.3, 0.31, 0.32, 0.33, 0.34, 0.35000000000000003, 0.36, 0.37, 0.38, 0.39, 0.4, 0.41000000000000003, 0.42, 0.43, 0.44, 0.45, 0.46, 0.47000000000000003, 0.48, 0.49, 0.5, 0.51, 0.52, 0.53, 0.54, 0.55, 0.56, 0.5700000000000001, 0.58, 0.59, 0.6, 0.61, 0.62, 0.63, 0.64, 0.65, 0.66, 0.67, 0.68, 0.6900000000000001, 0.7000000000000001, 0.71, 0.72, 0.73, 0.74, 0.75, 0.76, 0.77, 0.78, 0.79, 0.8, 0.81, 0.8200000000000001, 0.8300000000000001, 0.84, 0.85, 0.86, 0.87, 0.88, 0.89, 0.9, 0.91, 0.92, 0.93, 0.9400000000000001, 0.9500000000000001, 0.96, 0.97, 0.98, 0.99, 1.0))}, trial_id=210, value=None)]\n"
     ]
    },
    {
     "name": "stderr",
     "output_type": "stream",
     "text": [
      "Hyperband | Run:  44%|████▍     | 22/50 [26:45:37<31:56:21, 4106.50s/it]"
     ]
    },
    {
     "name": "stdout",
     "output_type": "stream",
     "text": [
      "Est. true value:\t7.951314584812314\n",
      "Config:\t{'pop_size': 175, 'generations': 500, 'elite_split': 0.06, 'tournament_split': 0.08, 'mutation_rate': 0.43, 'crossover_rate': 0.1}\n",
      "Value:\t[FrozenTrial(number=581, state=1, values=[7.530673123506116], datetime_start=datetime.datetime(2025, 8, 2, 19, 44, 45, 563690), datetime_complete=datetime.datetime(2025, 8, 2, 19, 44, 47, 959851), params={'pop_size': 175, 'generations': 500, 'elite_split': 0.06, 'tournament_split': 0.08, 'mutation_rate': 0.43, 'crossover_rate': 0.1}, user_attrs={}, system_attrs={'completed_rung_0': 7.530673123506116}, intermediate_values={1: 7.530673123506116}, distributions={'pop_size': CategoricalDistribution(choices=(50, 51, 52, 53, 54, 55, 56, 57, 58, 59, 60, 61, 62, 63, 64, 65, 66, 67, 68, 69, 70, 71, 72, 73, 74, 75, 76, 77, 78, 79, 80, 81, 82, 83, 84, 85, 86, 87, 88, 89, 90, 91, 92, 93, 94, 95, 96, 97, 98, 99, 100, 101, 102, 103, 104, 105, 106, 107, 108, 109, 110, 111, 112, 113, 114, 115, 116, 117, 118, 119, 120, 121, 122, 123, 124, 125, 126, 127, 128, 129, 130, 131, 132, 133, 134, 135, 136, 137, 138, 139, 140, 141, 142, 143, 144, 145, 146, 147, 148, 149, 150, 151, 152, 153, 154, 155, 156, 157, 158, 159, 160, 161, 162, 163, 164, 165, 166, 167, 168, 169, 170, 171, 172, 173, 174, 175, 176, 177, 178, 179, 180, 181, 182, 183, 184, 185, 186, 187, 188, 189, 190, 191, 192, 193, 194, 195, 196, 197, 198, 199, 200, 201, 202, 203, 204, 205, 206, 207, 208, 209, 210, 211, 212, 213, 214, 215, 216, 217, 218, 219, 220, 221, 222, 223, 224, 225, 226, 227, 228, 229, 230, 231, 232, 233, 234, 235, 236, 237, 238, 239, 240, 241, 242, 243, 244, 245, 246, 247, 248, 249, 250)), 'generations': CategoricalDistribution(choices=(100, 200, 300, 400, 500)), 'elite_split': CategoricalDistribution(choices=(0.0, 0.01, 0.02, 0.03, 0.04, 0.05, 0.06, 0.07, 0.08, 0.09, 0.1, 0.11, 0.12, 0.13, 0.14, 0.15, 0.16, 0.17, 0.18, 0.19, 0.2)), 'tournament_split': CategoricalDistribution(choices=(0.0, 0.01, 0.02, 0.03, 0.04, 0.05, 0.06, 0.07, 0.08, 0.09, 0.1)), 'mutation_rate': CategoricalDistribution(choices=(0.0, 0.01, 0.02, 0.03, 0.04, 0.05, 0.06, 0.07, 0.08, 0.09, 0.1, 0.11, 0.12, 0.13, 0.14, 0.15, 0.16, 0.17, 0.18, 0.19, 0.2, 0.21, 0.22, 0.23, 0.24, 0.25, 0.26, 0.27, 0.28, 0.29, 0.3, 0.31, 0.32, 0.33, 0.34, 0.35000000000000003, 0.36, 0.37, 0.38, 0.39, 0.4, 0.41000000000000003, 0.42, 0.43, 0.44, 0.45, 0.46, 0.47000000000000003, 0.48, 0.49, 0.5, 0.51, 0.52, 0.53, 0.54, 0.55, 0.56, 0.5700000000000001, 0.58, 0.59, 0.6, 0.61, 0.62, 0.63, 0.64, 0.65, 0.66, 0.67, 0.68, 0.6900000000000001, 0.7000000000000001, 0.71, 0.72, 0.73, 0.74, 0.75, 0.76, 0.77, 0.78, 0.79, 0.8, 0.81, 0.8200000000000001, 0.8300000000000001, 0.84, 0.85, 0.86, 0.87, 0.88, 0.89, 0.9, 0.91, 0.92, 0.93, 0.9400000000000001, 0.9500000000000001, 0.96, 0.97, 0.98, 0.99, 1.0)), 'crossover_rate': CategoricalDistribution(choices=(0.0, 0.01, 0.02, 0.03, 0.04, 0.05, 0.06, 0.07, 0.08, 0.09, 0.1, 0.11, 0.12, 0.13, 0.14, 0.15, 0.16, 0.17, 0.18, 0.19, 0.2, 0.21, 0.22, 0.23, 0.24, 0.25, 0.26, 0.27, 0.28, 0.29, 0.3, 0.31, 0.32, 0.33, 0.34, 0.35000000000000003, 0.36, 0.37, 0.38, 0.39, 0.4, 0.41000000000000003, 0.42, 0.43, 0.44, 0.45, 0.46, 0.47000000000000003, 0.48, 0.49, 0.5, 0.51, 0.52, 0.53, 0.54, 0.55, 0.56, 0.5700000000000001, 0.58, 0.59, 0.6, 0.61, 0.62, 0.63, 0.64, 0.65, 0.66, 0.67, 0.68, 0.6900000000000001, 0.7000000000000001, 0.71, 0.72, 0.73, 0.74, 0.75, 0.76, 0.77, 0.78, 0.79, 0.8, 0.81, 0.8200000000000001, 0.8300000000000001, 0.84, 0.85, 0.86, 0.87, 0.88, 0.89, 0.9, 0.91, 0.92, 0.93, 0.9400000000000001, 0.9500000000000001, 0.96, 0.97, 0.98, 0.99, 1.0))}, trial_id=581, value=None)]\n"
     ]
    },
    {
     "name": "stderr",
     "output_type": "stream",
     "text": [
      "Hyperband | Run:  46%|████▌     | 23/50 [27:45:01<29:34:36, 3943.56s/it]"
     ]
    },
    {
     "name": "stdout",
     "output_type": "stream",
     "text": [
      "Est. true value:\t8.26634773930606\n",
      "Config:\t{'pop_size': 228, 'generations': 500, 'elite_split': 0.01, 'tournament_split': 0.1, 'mutation_rate': 0.8200000000000001, 'crossover_rate': 0.51}\n",
      "Value:\t[FrozenTrial(number=199, state=1, values=[7.5574719355863635], datetime_start=datetime.datetime(2025, 8, 2, 20, 28, 39, 808660), datetime_complete=datetime.datetime(2025, 8, 2, 20, 28, 45, 920462), params={'pop_size': 228, 'generations': 500, 'elite_split': 0.01, 'tournament_split': 0.1, 'mutation_rate': 0.8200000000000001, 'crossover_rate': 0.51}, user_attrs={}, system_attrs={'completed_rung_0': 7.5574719355863635}, intermediate_values={1: 7.5574719355863635}, distributions={'pop_size': CategoricalDistribution(choices=(50, 51, 52, 53, 54, 55, 56, 57, 58, 59, 60, 61, 62, 63, 64, 65, 66, 67, 68, 69, 70, 71, 72, 73, 74, 75, 76, 77, 78, 79, 80, 81, 82, 83, 84, 85, 86, 87, 88, 89, 90, 91, 92, 93, 94, 95, 96, 97, 98, 99, 100, 101, 102, 103, 104, 105, 106, 107, 108, 109, 110, 111, 112, 113, 114, 115, 116, 117, 118, 119, 120, 121, 122, 123, 124, 125, 126, 127, 128, 129, 130, 131, 132, 133, 134, 135, 136, 137, 138, 139, 140, 141, 142, 143, 144, 145, 146, 147, 148, 149, 150, 151, 152, 153, 154, 155, 156, 157, 158, 159, 160, 161, 162, 163, 164, 165, 166, 167, 168, 169, 170, 171, 172, 173, 174, 175, 176, 177, 178, 179, 180, 181, 182, 183, 184, 185, 186, 187, 188, 189, 190, 191, 192, 193, 194, 195, 196, 197, 198, 199, 200, 201, 202, 203, 204, 205, 206, 207, 208, 209, 210, 211, 212, 213, 214, 215, 216, 217, 218, 219, 220, 221, 222, 223, 224, 225, 226, 227, 228, 229, 230, 231, 232, 233, 234, 235, 236, 237, 238, 239, 240, 241, 242, 243, 244, 245, 246, 247, 248, 249, 250)), 'generations': CategoricalDistribution(choices=(100, 200, 300, 400, 500)), 'elite_split': CategoricalDistribution(choices=(0.0, 0.01, 0.02, 0.03, 0.04, 0.05, 0.06, 0.07, 0.08, 0.09, 0.1, 0.11, 0.12, 0.13, 0.14, 0.15, 0.16, 0.17, 0.18, 0.19, 0.2)), 'tournament_split': CategoricalDistribution(choices=(0.0, 0.01, 0.02, 0.03, 0.04, 0.05, 0.06, 0.07, 0.08, 0.09, 0.1)), 'mutation_rate': CategoricalDistribution(choices=(0.0, 0.01, 0.02, 0.03, 0.04, 0.05, 0.06, 0.07, 0.08, 0.09, 0.1, 0.11, 0.12, 0.13, 0.14, 0.15, 0.16, 0.17, 0.18, 0.19, 0.2, 0.21, 0.22, 0.23, 0.24, 0.25, 0.26, 0.27, 0.28, 0.29, 0.3, 0.31, 0.32, 0.33, 0.34, 0.35000000000000003, 0.36, 0.37, 0.38, 0.39, 0.4, 0.41000000000000003, 0.42, 0.43, 0.44, 0.45, 0.46, 0.47000000000000003, 0.48, 0.49, 0.5, 0.51, 0.52, 0.53, 0.54, 0.55, 0.56, 0.5700000000000001, 0.58, 0.59, 0.6, 0.61, 0.62, 0.63, 0.64, 0.65, 0.66, 0.67, 0.68, 0.6900000000000001, 0.7000000000000001, 0.71, 0.72, 0.73, 0.74, 0.75, 0.76, 0.77, 0.78, 0.79, 0.8, 0.81, 0.8200000000000001, 0.8300000000000001, 0.84, 0.85, 0.86, 0.87, 0.88, 0.89, 0.9, 0.91, 0.92, 0.93, 0.9400000000000001, 0.9500000000000001, 0.96, 0.97, 0.98, 0.99, 1.0)), 'crossover_rate': CategoricalDistribution(choices=(0.0, 0.01, 0.02, 0.03, 0.04, 0.05, 0.06, 0.07, 0.08, 0.09, 0.1, 0.11, 0.12, 0.13, 0.14, 0.15, 0.16, 0.17, 0.18, 0.19, 0.2, 0.21, 0.22, 0.23, 0.24, 0.25, 0.26, 0.27, 0.28, 0.29, 0.3, 0.31, 0.32, 0.33, 0.34, 0.35000000000000003, 0.36, 0.37, 0.38, 0.39, 0.4, 0.41000000000000003, 0.42, 0.43, 0.44, 0.45, 0.46, 0.47000000000000003, 0.48, 0.49, 0.5, 0.51, 0.52, 0.53, 0.54, 0.55, 0.56, 0.5700000000000001, 0.58, 0.59, 0.6, 0.61, 0.62, 0.63, 0.64, 0.65, 0.66, 0.67, 0.68, 0.6900000000000001, 0.7000000000000001, 0.71, 0.72, 0.73, 0.74, 0.75, 0.76, 0.77, 0.78, 0.79, 0.8, 0.81, 0.8200000000000001, 0.8300000000000001, 0.84, 0.85, 0.86, 0.87, 0.88, 0.89, 0.9, 0.91, 0.92, 0.93, 0.9400000000000001, 0.9500000000000001, 0.96, 0.97, 0.98, 0.99, 1.0))}, trial_id=199, value=None)]\n"
     ]
    },
    {
     "name": "stderr",
     "output_type": "stream",
     "text": [
      "Hyperband | Run:  48%|████▊     | 24/50 [29:16:57<31:53:18, 4415.33s/it]"
     ]
    },
    {
     "name": "stdout",
     "output_type": "stream",
     "text": [
      "Est. true value:\t8.104838241597292\n",
      "Config:\t{'pop_size': 226, 'generations': 500, 'elite_split': 0.2, 'tournament_split': 0.08, 'mutation_rate': 0.81, 'crossover_rate': 0.13}\n",
      "Value:\t[FrozenTrial(number=288, state=1, values=[7.507490675485492], datetime_start=datetime.datetime(2025, 8, 2, 22, 3, 53, 886563), datetime_complete=datetime.datetime(2025, 8, 2, 22, 3, 57, 304729), params={'pop_size': 226, 'generations': 500, 'elite_split': 0.2, 'tournament_split': 0.08, 'mutation_rate': 0.81, 'crossover_rate': 0.13}, user_attrs={}, system_attrs={'completed_rung_0': 7.507490675485492}, intermediate_values={1: 7.507490675485492}, distributions={'pop_size': CategoricalDistribution(choices=(50, 51, 52, 53, 54, 55, 56, 57, 58, 59, 60, 61, 62, 63, 64, 65, 66, 67, 68, 69, 70, 71, 72, 73, 74, 75, 76, 77, 78, 79, 80, 81, 82, 83, 84, 85, 86, 87, 88, 89, 90, 91, 92, 93, 94, 95, 96, 97, 98, 99, 100, 101, 102, 103, 104, 105, 106, 107, 108, 109, 110, 111, 112, 113, 114, 115, 116, 117, 118, 119, 120, 121, 122, 123, 124, 125, 126, 127, 128, 129, 130, 131, 132, 133, 134, 135, 136, 137, 138, 139, 140, 141, 142, 143, 144, 145, 146, 147, 148, 149, 150, 151, 152, 153, 154, 155, 156, 157, 158, 159, 160, 161, 162, 163, 164, 165, 166, 167, 168, 169, 170, 171, 172, 173, 174, 175, 176, 177, 178, 179, 180, 181, 182, 183, 184, 185, 186, 187, 188, 189, 190, 191, 192, 193, 194, 195, 196, 197, 198, 199, 200, 201, 202, 203, 204, 205, 206, 207, 208, 209, 210, 211, 212, 213, 214, 215, 216, 217, 218, 219, 220, 221, 222, 223, 224, 225, 226, 227, 228, 229, 230, 231, 232, 233, 234, 235, 236, 237, 238, 239, 240, 241, 242, 243, 244, 245, 246, 247, 248, 249, 250)), 'generations': CategoricalDistribution(choices=(100, 200, 300, 400, 500)), 'elite_split': CategoricalDistribution(choices=(0.0, 0.01, 0.02, 0.03, 0.04, 0.05, 0.06, 0.07, 0.08, 0.09, 0.1, 0.11, 0.12, 0.13, 0.14, 0.15, 0.16, 0.17, 0.18, 0.19, 0.2)), 'tournament_split': CategoricalDistribution(choices=(0.0, 0.01, 0.02, 0.03, 0.04, 0.05, 0.06, 0.07, 0.08, 0.09, 0.1)), 'mutation_rate': CategoricalDistribution(choices=(0.0, 0.01, 0.02, 0.03, 0.04, 0.05, 0.06, 0.07, 0.08, 0.09, 0.1, 0.11, 0.12, 0.13, 0.14, 0.15, 0.16, 0.17, 0.18, 0.19, 0.2, 0.21, 0.22, 0.23, 0.24, 0.25, 0.26, 0.27, 0.28, 0.29, 0.3, 0.31, 0.32, 0.33, 0.34, 0.35000000000000003, 0.36, 0.37, 0.38, 0.39, 0.4, 0.41000000000000003, 0.42, 0.43, 0.44, 0.45, 0.46, 0.47000000000000003, 0.48, 0.49, 0.5, 0.51, 0.52, 0.53, 0.54, 0.55, 0.56, 0.5700000000000001, 0.58, 0.59, 0.6, 0.61, 0.62, 0.63, 0.64, 0.65, 0.66, 0.67, 0.68, 0.6900000000000001, 0.7000000000000001, 0.71, 0.72, 0.73, 0.74, 0.75, 0.76, 0.77, 0.78, 0.79, 0.8, 0.81, 0.8200000000000001, 0.8300000000000001, 0.84, 0.85, 0.86, 0.87, 0.88, 0.89, 0.9, 0.91, 0.92, 0.93, 0.9400000000000001, 0.9500000000000001, 0.96, 0.97, 0.98, 0.99, 1.0)), 'crossover_rate': CategoricalDistribution(choices=(0.0, 0.01, 0.02, 0.03, 0.04, 0.05, 0.06, 0.07, 0.08, 0.09, 0.1, 0.11, 0.12, 0.13, 0.14, 0.15, 0.16, 0.17, 0.18, 0.19, 0.2, 0.21, 0.22, 0.23, 0.24, 0.25, 0.26, 0.27, 0.28, 0.29, 0.3, 0.31, 0.32, 0.33, 0.34, 0.35000000000000003, 0.36, 0.37, 0.38, 0.39, 0.4, 0.41000000000000003, 0.42, 0.43, 0.44, 0.45, 0.46, 0.47000000000000003, 0.48, 0.49, 0.5, 0.51, 0.52, 0.53, 0.54, 0.55, 0.56, 0.5700000000000001, 0.58, 0.59, 0.6, 0.61, 0.62, 0.63, 0.64, 0.65, 0.66, 0.67, 0.68, 0.6900000000000001, 0.7000000000000001, 0.71, 0.72, 0.73, 0.74, 0.75, 0.76, 0.77, 0.78, 0.79, 0.8, 0.81, 0.8200000000000001, 0.8300000000000001, 0.84, 0.85, 0.86, 0.87, 0.88, 0.89, 0.9, 0.91, 0.92, 0.93, 0.9400000000000001, 0.9500000000000001, 0.96, 0.97, 0.98, 0.99, 1.0))}, trial_id=288, value=None)]\n"
     ]
    },
    {
     "name": "stderr",
     "output_type": "stream",
     "text": [
      "Hyperband | Run:  50%|█████     | 25/50 [30:24:43<29:56:03, 4310.54s/it]"
     ]
    },
    {
     "name": "stdout",
     "output_type": "stream",
     "text": [
      "Est. true value:\t8.022409700455064\n",
      "Config:\t{'pop_size': 212, 'generations': 500, 'elite_split': 0.09, 'tournament_split': 0.07, 'mutation_rate': 0.8200000000000001, 'crossover_rate': 0.07}\n",
      "Value:\t[FrozenTrial(number=745, state=1, values=[7.370503853033217], datetime_start=datetime.datetime(2025, 8, 2, 23, 29, 43, 362037), datetime_complete=datetime.datetime(2025, 8, 2, 23, 29, 46, 839620), params={'pop_size': 212, 'generations': 500, 'elite_split': 0.09, 'tournament_split': 0.07, 'mutation_rate': 0.8200000000000001, 'crossover_rate': 0.07}, user_attrs={}, system_attrs={'completed_rung_0': 7.370503853033217}, intermediate_values={1: 7.370503853033217}, distributions={'pop_size': CategoricalDistribution(choices=(50, 51, 52, 53, 54, 55, 56, 57, 58, 59, 60, 61, 62, 63, 64, 65, 66, 67, 68, 69, 70, 71, 72, 73, 74, 75, 76, 77, 78, 79, 80, 81, 82, 83, 84, 85, 86, 87, 88, 89, 90, 91, 92, 93, 94, 95, 96, 97, 98, 99, 100, 101, 102, 103, 104, 105, 106, 107, 108, 109, 110, 111, 112, 113, 114, 115, 116, 117, 118, 119, 120, 121, 122, 123, 124, 125, 126, 127, 128, 129, 130, 131, 132, 133, 134, 135, 136, 137, 138, 139, 140, 141, 142, 143, 144, 145, 146, 147, 148, 149, 150, 151, 152, 153, 154, 155, 156, 157, 158, 159, 160, 161, 162, 163, 164, 165, 166, 167, 168, 169, 170, 171, 172, 173, 174, 175, 176, 177, 178, 179, 180, 181, 182, 183, 184, 185, 186, 187, 188, 189, 190, 191, 192, 193, 194, 195, 196, 197, 198, 199, 200, 201, 202, 203, 204, 205, 206, 207, 208, 209, 210, 211, 212, 213, 214, 215, 216, 217, 218, 219, 220, 221, 222, 223, 224, 225, 226, 227, 228, 229, 230, 231, 232, 233, 234, 235, 236, 237, 238, 239, 240, 241, 242, 243, 244, 245, 246, 247, 248, 249, 250)), 'generations': CategoricalDistribution(choices=(100, 200, 300, 400, 500)), 'elite_split': CategoricalDistribution(choices=(0.0, 0.01, 0.02, 0.03, 0.04, 0.05, 0.06, 0.07, 0.08, 0.09, 0.1, 0.11, 0.12, 0.13, 0.14, 0.15, 0.16, 0.17, 0.18, 0.19, 0.2)), 'tournament_split': CategoricalDistribution(choices=(0.0, 0.01, 0.02, 0.03, 0.04, 0.05, 0.06, 0.07, 0.08, 0.09, 0.1)), 'mutation_rate': CategoricalDistribution(choices=(0.0, 0.01, 0.02, 0.03, 0.04, 0.05, 0.06, 0.07, 0.08, 0.09, 0.1, 0.11, 0.12, 0.13, 0.14, 0.15, 0.16, 0.17, 0.18, 0.19, 0.2, 0.21, 0.22, 0.23, 0.24, 0.25, 0.26, 0.27, 0.28, 0.29, 0.3, 0.31, 0.32, 0.33, 0.34, 0.35000000000000003, 0.36, 0.37, 0.38, 0.39, 0.4, 0.41000000000000003, 0.42, 0.43, 0.44, 0.45, 0.46, 0.47000000000000003, 0.48, 0.49, 0.5, 0.51, 0.52, 0.53, 0.54, 0.55, 0.56, 0.5700000000000001, 0.58, 0.59, 0.6, 0.61, 0.62, 0.63, 0.64, 0.65, 0.66, 0.67, 0.68, 0.6900000000000001, 0.7000000000000001, 0.71, 0.72, 0.73, 0.74, 0.75, 0.76, 0.77, 0.78, 0.79, 0.8, 0.81, 0.8200000000000001, 0.8300000000000001, 0.84, 0.85, 0.86, 0.87, 0.88, 0.89, 0.9, 0.91, 0.92, 0.93, 0.9400000000000001, 0.9500000000000001, 0.96, 0.97, 0.98, 0.99, 1.0)), 'crossover_rate': CategoricalDistribution(choices=(0.0, 0.01, 0.02, 0.03, 0.04, 0.05, 0.06, 0.07, 0.08, 0.09, 0.1, 0.11, 0.12, 0.13, 0.14, 0.15, 0.16, 0.17, 0.18, 0.19, 0.2, 0.21, 0.22, 0.23, 0.24, 0.25, 0.26, 0.27, 0.28, 0.29, 0.3, 0.31, 0.32, 0.33, 0.34, 0.35000000000000003, 0.36, 0.37, 0.38, 0.39, 0.4, 0.41000000000000003, 0.42, 0.43, 0.44, 0.45, 0.46, 0.47000000000000003, 0.48, 0.49, 0.5, 0.51, 0.52, 0.53, 0.54, 0.55, 0.56, 0.5700000000000001, 0.58, 0.59, 0.6, 0.61, 0.62, 0.63, 0.64, 0.65, 0.66, 0.67, 0.68, 0.6900000000000001, 0.7000000000000001, 0.71, 0.72, 0.73, 0.74, 0.75, 0.76, 0.77, 0.78, 0.79, 0.8, 0.81, 0.8200000000000001, 0.8300000000000001, 0.84, 0.85, 0.86, 0.87, 0.88, 0.89, 0.9, 0.91, 0.92, 0.93, 0.9400000000000001, 0.9500000000000001, 0.96, 0.97, 0.98, 0.99, 1.0))}, trial_id=745, value=None)]\n"
     ]
    },
    {
     "name": "stderr",
     "output_type": "stream",
     "text": [
      "Hyperband | Run:  52%|█████▏    | 26/50 [31:32:27<28:14:36, 4236.51s/it]"
     ]
    },
    {
     "name": "stdout",
     "output_type": "stream",
     "text": [
      "Est. true value:\t8.003283591180132\n",
      "Config:\t{'pop_size': 241, 'generations': 500, 'elite_split': 0.03, 'tournament_split': 0.08, 'mutation_rate': 0.96, 'crossover_rate': 0.08}\n",
      "Value:\t[FrozenTrial(number=344, state=1, values=[7.426788057725167], datetime_start=datetime.datetime(2025, 8, 3, 0, 22, 22, 618083), datetime_complete=datetime.datetime(2025, 8, 3, 0, 22, 27, 214851), params={'pop_size': 241, 'generations': 500, 'elite_split': 0.03, 'tournament_split': 0.08, 'mutation_rate': 0.96, 'crossover_rate': 0.08}, user_attrs={}, system_attrs={'completed_rung_0': 7.426788057725167}, intermediate_values={1: 7.426788057725167}, distributions={'pop_size': CategoricalDistribution(choices=(50, 51, 52, 53, 54, 55, 56, 57, 58, 59, 60, 61, 62, 63, 64, 65, 66, 67, 68, 69, 70, 71, 72, 73, 74, 75, 76, 77, 78, 79, 80, 81, 82, 83, 84, 85, 86, 87, 88, 89, 90, 91, 92, 93, 94, 95, 96, 97, 98, 99, 100, 101, 102, 103, 104, 105, 106, 107, 108, 109, 110, 111, 112, 113, 114, 115, 116, 117, 118, 119, 120, 121, 122, 123, 124, 125, 126, 127, 128, 129, 130, 131, 132, 133, 134, 135, 136, 137, 138, 139, 140, 141, 142, 143, 144, 145, 146, 147, 148, 149, 150, 151, 152, 153, 154, 155, 156, 157, 158, 159, 160, 161, 162, 163, 164, 165, 166, 167, 168, 169, 170, 171, 172, 173, 174, 175, 176, 177, 178, 179, 180, 181, 182, 183, 184, 185, 186, 187, 188, 189, 190, 191, 192, 193, 194, 195, 196, 197, 198, 199, 200, 201, 202, 203, 204, 205, 206, 207, 208, 209, 210, 211, 212, 213, 214, 215, 216, 217, 218, 219, 220, 221, 222, 223, 224, 225, 226, 227, 228, 229, 230, 231, 232, 233, 234, 235, 236, 237, 238, 239, 240, 241, 242, 243, 244, 245, 246, 247, 248, 249, 250)), 'generations': CategoricalDistribution(choices=(100, 200, 300, 400, 500)), 'elite_split': CategoricalDistribution(choices=(0.0, 0.01, 0.02, 0.03, 0.04, 0.05, 0.06, 0.07, 0.08, 0.09, 0.1, 0.11, 0.12, 0.13, 0.14, 0.15, 0.16, 0.17, 0.18, 0.19, 0.2)), 'tournament_split': CategoricalDistribution(choices=(0.0, 0.01, 0.02, 0.03, 0.04, 0.05, 0.06, 0.07, 0.08, 0.09, 0.1)), 'mutation_rate': CategoricalDistribution(choices=(0.0, 0.01, 0.02, 0.03, 0.04, 0.05, 0.06, 0.07, 0.08, 0.09, 0.1, 0.11, 0.12, 0.13, 0.14, 0.15, 0.16, 0.17, 0.18, 0.19, 0.2, 0.21, 0.22, 0.23, 0.24, 0.25, 0.26, 0.27, 0.28, 0.29, 0.3, 0.31, 0.32, 0.33, 0.34, 0.35000000000000003, 0.36, 0.37, 0.38, 0.39, 0.4, 0.41000000000000003, 0.42, 0.43, 0.44, 0.45, 0.46, 0.47000000000000003, 0.48, 0.49, 0.5, 0.51, 0.52, 0.53, 0.54, 0.55, 0.56, 0.5700000000000001, 0.58, 0.59, 0.6, 0.61, 0.62, 0.63, 0.64, 0.65, 0.66, 0.67, 0.68, 0.6900000000000001, 0.7000000000000001, 0.71, 0.72, 0.73, 0.74, 0.75, 0.76, 0.77, 0.78, 0.79, 0.8, 0.81, 0.8200000000000001, 0.8300000000000001, 0.84, 0.85, 0.86, 0.87, 0.88, 0.89, 0.9, 0.91, 0.92, 0.93, 0.9400000000000001, 0.9500000000000001, 0.96, 0.97, 0.98, 0.99, 1.0)), 'crossover_rate': CategoricalDistribution(choices=(0.0, 0.01, 0.02, 0.03, 0.04, 0.05, 0.06, 0.07, 0.08, 0.09, 0.1, 0.11, 0.12, 0.13, 0.14, 0.15, 0.16, 0.17, 0.18, 0.19, 0.2, 0.21, 0.22, 0.23, 0.24, 0.25, 0.26, 0.27, 0.28, 0.29, 0.3, 0.31, 0.32, 0.33, 0.34, 0.35000000000000003, 0.36, 0.37, 0.38, 0.39, 0.4, 0.41000000000000003, 0.42, 0.43, 0.44, 0.45, 0.46, 0.47000000000000003, 0.48, 0.49, 0.5, 0.51, 0.52, 0.53, 0.54, 0.55, 0.56, 0.5700000000000001, 0.58, 0.59, 0.6, 0.61, 0.62, 0.63, 0.64, 0.65, 0.66, 0.67, 0.68, 0.6900000000000001, 0.7000000000000001, 0.71, 0.72, 0.73, 0.74, 0.75, 0.76, 0.77, 0.78, 0.79, 0.8, 0.81, 0.8200000000000001, 0.8300000000000001, 0.84, 0.85, 0.86, 0.87, 0.88, 0.89, 0.9, 0.91, 0.92, 0.93, 0.9400000000000001, 0.9500000000000001, 0.96, 0.97, 0.98, 0.99, 1.0))}, trial_id=344, value=None)]\n"
     ]
    },
    {
     "name": "stderr",
     "output_type": "stream",
     "text": [
      "Hyperband | Run:  54%|█████▍    | 27/50 [32:51:27<28:01:58, 4387.77s/it]"
     ]
    },
    {
     "name": "stdout",
     "output_type": "stream",
     "text": [
      "Est. true value:\t7.939868827431309\n",
      "Config:\t{'pop_size': 201, 'generations': 500, 'elite_split': 0.08, 'tournament_split': 0.06, 'mutation_rate': 0.91, 'crossover_rate': 0.0}\n",
      "Value:\t[FrozenTrial(number=265, state=1, values=[7.488044296957609], datetime_start=datetime.datetime(2025, 8, 3, 1, 37, 29, 120391), datetime_complete=datetime.datetime(2025, 8, 3, 1, 37, 32, 282086), params={'pop_size': 201, 'generations': 500, 'elite_split': 0.08, 'tournament_split': 0.06, 'mutation_rate': 0.91, 'crossover_rate': 0.0}, user_attrs={}, system_attrs={'completed_rung_0': 7.488044296957609}, intermediate_values={1: 7.488044296957609}, distributions={'pop_size': CategoricalDistribution(choices=(50, 51, 52, 53, 54, 55, 56, 57, 58, 59, 60, 61, 62, 63, 64, 65, 66, 67, 68, 69, 70, 71, 72, 73, 74, 75, 76, 77, 78, 79, 80, 81, 82, 83, 84, 85, 86, 87, 88, 89, 90, 91, 92, 93, 94, 95, 96, 97, 98, 99, 100, 101, 102, 103, 104, 105, 106, 107, 108, 109, 110, 111, 112, 113, 114, 115, 116, 117, 118, 119, 120, 121, 122, 123, 124, 125, 126, 127, 128, 129, 130, 131, 132, 133, 134, 135, 136, 137, 138, 139, 140, 141, 142, 143, 144, 145, 146, 147, 148, 149, 150, 151, 152, 153, 154, 155, 156, 157, 158, 159, 160, 161, 162, 163, 164, 165, 166, 167, 168, 169, 170, 171, 172, 173, 174, 175, 176, 177, 178, 179, 180, 181, 182, 183, 184, 185, 186, 187, 188, 189, 190, 191, 192, 193, 194, 195, 196, 197, 198, 199, 200, 201, 202, 203, 204, 205, 206, 207, 208, 209, 210, 211, 212, 213, 214, 215, 216, 217, 218, 219, 220, 221, 222, 223, 224, 225, 226, 227, 228, 229, 230, 231, 232, 233, 234, 235, 236, 237, 238, 239, 240, 241, 242, 243, 244, 245, 246, 247, 248, 249, 250)), 'generations': CategoricalDistribution(choices=(100, 200, 300, 400, 500)), 'elite_split': CategoricalDistribution(choices=(0.0, 0.01, 0.02, 0.03, 0.04, 0.05, 0.06, 0.07, 0.08, 0.09, 0.1, 0.11, 0.12, 0.13, 0.14, 0.15, 0.16, 0.17, 0.18, 0.19, 0.2)), 'tournament_split': CategoricalDistribution(choices=(0.0, 0.01, 0.02, 0.03, 0.04, 0.05, 0.06, 0.07, 0.08, 0.09, 0.1)), 'mutation_rate': CategoricalDistribution(choices=(0.0, 0.01, 0.02, 0.03, 0.04, 0.05, 0.06, 0.07, 0.08, 0.09, 0.1, 0.11, 0.12, 0.13, 0.14, 0.15, 0.16, 0.17, 0.18, 0.19, 0.2, 0.21, 0.22, 0.23, 0.24, 0.25, 0.26, 0.27, 0.28, 0.29, 0.3, 0.31, 0.32, 0.33, 0.34, 0.35000000000000003, 0.36, 0.37, 0.38, 0.39, 0.4, 0.41000000000000003, 0.42, 0.43, 0.44, 0.45, 0.46, 0.47000000000000003, 0.48, 0.49, 0.5, 0.51, 0.52, 0.53, 0.54, 0.55, 0.56, 0.5700000000000001, 0.58, 0.59, 0.6, 0.61, 0.62, 0.63, 0.64, 0.65, 0.66, 0.67, 0.68, 0.6900000000000001, 0.7000000000000001, 0.71, 0.72, 0.73, 0.74, 0.75, 0.76, 0.77, 0.78, 0.79, 0.8, 0.81, 0.8200000000000001, 0.8300000000000001, 0.84, 0.85, 0.86, 0.87, 0.88, 0.89, 0.9, 0.91, 0.92, 0.93, 0.9400000000000001, 0.9500000000000001, 0.96, 0.97, 0.98, 0.99, 1.0)), 'crossover_rate': CategoricalDistribution(choices=(0.0, 0.01, 0.02, 0.03, 0.04, 0.05, 0.06, 0.07, 0.08, 0.09, 0.1, 0.11, 0.12, 0.13, 0.14, 0.15, 0.16, 0.17, 0.18, 0.19, 0.2, 0.21, 0.22, 0.23, 0.24, 0.25, 0.26, 0.27, 0.28, 0.29, 0.3, 0.31, 0.32, 0.33, 0.34, 0.35000000000000003, 0.36, 0.37, 0.38, 0.39, 0.4, 0.41000000000000003, 0.42, 0.43, 0.44, 0.45, 0.46, 0.47000000000000003, 0.48, 0.49, 0.5, 0.51, 0.52, 0.53, 0.54, 0.55, 0.56, 0.5700000000000001, 0.58, 0.59, 0.6, 0.61, 0.62, 0.63, 0.64, 0.65, 0.66, 0.67, 0.68, 0.6900000000000001, 0.7000000000000001, 0.71, 0.72, 0.73, 0.74, 0.75, 0.76, 0.77, 0.78, 0.79, 0.8, 0.81, 0.8200000000000001, 0.8300000000000001, 0.84, 0.85, 0.86, 0.87, 0.88, 0.89, 0.9, 0.91, 0.92, 0.93, 0.9400000000000001, 0.9500000000000001, 0.96, 0.97, 0.98, 0.99, 1.0))}, trial_id=265, value=None)]\n"
     ]
    },
    {
     "name": "stderr",
     "output_type": "stream",
     "text": [
      "Hyperband | Run:  56%|█████▌    | 28/50 [33:56:43<25:56:54, 4246.11s/it]"
     ]
    },
    {
     "name": "stdout",
     "output_type": "stream",
     "text": [
      "Est. true value:\t8.003913498355937\n",
      "Config:\t{'pop_size': 185, 'generations': 500, 'elite_split': 0.02, 'tournament_split': 0.09, 'mutation_rate': 0.74, 'crossover_rate': 0.1}\n",
      "Value:\t[FrozenTrial(number=337, state=1, values=[7.394646169076729], datetime_start=datetime.datetime(2025, 8, 3, 2, 45, 39, 310485), datetime_complete=datetime.datetime(2025, 8, 3, 2, 45, 42, 268873), params={'pop_size': 185, 'generations': 500, 'elite_split': 0.02, 'tournament_split': 0.09, 'mutation_rate': 0.74, 'crossover_rate': 0.1}, user_attrs={}, system_attrs={'completed_rung_0': 7.394646169076729}, intermediate_values={1: 7.394646169076729}, distributions={'pop_size': CategoricalDistribution(choices=(50, 51, 52, 53, 54, 55, 56, 57, 58, 59, 60, 61, 62, 63, 64, 65, 66, 67, 68, 69, 70, 71, 72, 73, 74, 75, 76, 77, 78, 79, 80, 81, 82, 83, 84, 85, 86, 87, 88, 89, 90, 91, 92, 93, 94, 95, 96, 97, 98, 99, 100, 101, 102, 103, 104, 105, 106, 107, 108, 109, 110, 111, 112, 113, 114, 115, 116, 117, 118, 119, 120, 121, 122, 123, 124, 125, 126, 127, 128, 129, 130, 131, 132, 133, 134, 135, 136, 137, 138, 139, 140, 141, 142, 143, 144, 145, 146, 147, 148, 149, 150, 151, 152, 153, 154, 155, 156, 157, 158, 159, 160, 161, 162, 163, 164, 165, 166, 167, 168, 169, 170, 171, 172, 173, 174, 175, 176, 177, 178, 179, 180, 181, 182, 183, 184, 185, 186, 187, 188, 189, 190, 191, 192, 193, 194, 195, 196, 197, 198, 199, 200, 201, 202, 203, 204, 205, 206, 207, 208, 209, 210, 211, 212, 213, 214, 215, 216, 217, 218, 219, 220, 221, 222, 223, 224, 225, 226, 227, 228, 229, 230, 231, 232, 233, 234, 235, 236, 237, 238, 239, 240, 241, 242, 243, 244, 245, 246, 247, 248, 249, 250)), 'generations': CategoricalDistribution(choices=(100, 200, 300, 400, 500)), 'elite_split': CategoricalDistribution(choices=(0.0, 0.01, 0.02, 0.03, 0.04, 0.05, 0.06, 0.07, 0.08, 0.09, 0.1, 0.11, 0.12, 0.13, 0.14, 0.15, 0.16, 0.17, 0.18, 0.19, 0.2)), 'tournament_split': CategoricalDistribution(choices=(0.0, 0.01, 0.02, 0.03, 0.04, 0.05, 0.06, 0.07, 0.08, 0.09, 0.1)), 'mutation_rate': CategoricalDistribution(choices=(0.0, 0.01, 0.02, 0.03, 0.04, 0.05, 0.06, 0.07, 0.08, 0.09, 0.1, 0.11, 0.12, 0.13, 0.14, 0.15, 0.16, 0.17, 0.18, 0.19, 0.2, 0.21, 0.22, 0.23, 0.24, 0.25, 0.26, 0.27, 0.28, 0.29, 0.3, 0.31, 0.32, 0.33, 0.34, 0.35000000000000003, 0.36, 0.37, 0.38, 0.39, 0.4, 0.41000000000000003, 0.42, 0.43, 0.44, 0.45, 0.46, 0.47000000000000003, 0.48, 0.49, 0.5, 0.51, 0.52, 0.53, 0.54, 0.55, 0.56, 0.5700000000000001, 0.58, 0.59, 0.6, 0.61, 0.62, 0.63, 0.64, 0.65, 0.66, 0.67, 0.68, 0.6900000000000001, 0.7000000000000001, 0.71, 0.72, 0.73, 0.74, 0.75, 0.76, 0.77, 0.78, 0.79, 0.8, 0.81, 0.8200000000000001, 0.8300000000000001, 0.84, 0.85, 0.86, 0.87, 0.88, 0.89, 0.9, 0.91, 0.92, 0.93, 0.9400000000000001, 0.9500000000000001, 0.96, 0.97, 0.98, 0.99, 1.0)), 'crossover_rate': CategoricalDistribution(choices=(0.0, 0.01, 0.02, 0.03, 0.04, 0.05, 0.06, 0.07, 0.08, 0.09, 0.1, 0.11, 0.12, 0.13, 0.14, 0.15, 0.16, 0.17, 0.18, 0.19, 0.2, 0.21, 0.22, 0.23, 0.24, 0.25, 0.26, 0.27, 0.28, 0.29, 0.3, 0.31, 0.32, 0.33, 0.34, 0.35000000000000003, 0.36, 0.37, 0.38, 0.39, 0.4, 0.41000000000000003, 0.42, 0.43, 0.44, 0.45, 0.46, 0.47000000000000003, 0.48, 0.49, 0.5, 0.51, 0.52, 0.53, 0.54, 0.55, 0.56, 0.5700000000000001, 0.58, 0.59, 0.6, 0.61, 0.62, 0.63, 0.64, 0.65, 0.66, 0.67, 0.68, 0.6900000000000001, 0.7000000000000001, 0.71, 0.72, 0.73, 0.74, 0.75, 0.76, 0.77, 0.78, 0.79, 0.8, 0.81, 0.8200000000000001, 0.8300000000000001, 0.84, 0.85, 0.86, 0.87, 0.88, 0.89, 0.9, 0.91, 0.92, 0.93, 0.9400000000000001, 0.9500000000000001, 0.96, 0.97, 0.98, 0.99, 1.0))}, trial_id=337, value=None)]\n"
     ]
    },
    {
     "name": "stderr",
     "output_type": "stream",
     "text": [
      "Hyperband | Run:  58%|█████▊    | 29/50 [35:01:22<24:07:37, 4136.08s/it]"
     ]
    },
    {
     "name": "stdout",
     "output_type": "stream",
     "text": [
      "Est. true value:\t7.9931936567121555\n",
      "Config:\t{'pop_size': 210, 'generations': 500, 'elite_split': 0.01, 'tournament_split': 0.09, 'mutation_rate': 0.81, 'crossover_rate': 0.18}\n",
      "Value:\t[FrozenTrial(number=648, state=1, values=[7.538012782954228], datetime_start=datetime.datetime(2025, 8, 3, 4, 1, 35, 70405), datetime_complete=datetime.datetime(2025, 8, 3, 4, 1, 38, 940743), params={'pop_size': 210, 'generations': 500, 'elite_split': 0.01, 'tournament_split': 0.09, 'mutation_rate': 0.81, 'crossover_rate': 0.18}, user_attrs={}, system_attrs={'completed_rung_0': 7.538012782954228}, intermediate_values={1: 7.538012782954228}, distributions={'pop_size': CategoricalDistribution(choices=(50, 51, 52, 53, 54, 55, 56, 57, 58, 59, 60, 61, 62, 63, 64, 65, 66, 67, 68, 69, 70, 71, 72, 73, 74, 75, 76, 77, 78, 79, 80, 81, 82, 83, 84, 85, 86, 87, 88, 89, 90, 91, 92, 93, 94, 95, 96, 97, 98, 99, 100, 101, 102, 103, 104, 105, 106, 107, 108, 109, 110, 111, 112, 113, 114, 115, 116, 117, 118, 119, 120, 121, 122, 123, 124, 125, 126, 127, 128, 129, 130, 131, 132, 133, 134, 135, 136, 137, 138, 139, 140, 141, 142, 143, 144, 145, 146, 147, 148, 149, 150, 151, 152, 153, 154, 155, 156, 157, 158, 159, 160, 161, 162, 163, 164, 165, 166, 167, 168, 169, 170, 171, 172, 173, 174, 175, 176, 177, 178, 179, 180, 181, 182, 183, 184, 185, 186, 187, 188, 189, 190, 191, 192, 193, 194, 195, 196, 197, 198, 199, 200, 201, 202, 203, 204, 205, 206, 207, 208, 209, 210, 211, 212, 213, 214, 215, 216, 217, 218, 219, 220, 221, 222, 223, 224, 225, 226, 227, 228, 229, 230, 231, 232, 233, 234, 235, 236, 237, 238, 239, 240, 241, 242, 243, 244, 245, 246, 247, 248, 249, 250)), 'generations': CategoricalDistribution(choices=(100, 200, 300, 400, 500)), 'elite_split': CategoricalDistribution(choices=(0.0, 0.01, 0.02, 0.03, 0.04, 0.05, 0.06, 0.07, 0.08, 0.09, 0.1, 0.11, 0.12, 0.13, 0.14, 0.15, 0.16, 0.17, 0.18, 0.19, 0.2)), 'tournament_split': CategoricalDistribution(choices=(0.0, 0.01, 0.02, 0.03, 0.04, 0.05, 0.06, 0.07, 0.08, 0.09, 0.1)), 'mutation_rate': CategoricalDistribution(choices=(0.0, 0.01, 0.02, 0.03, 0.04, 0.05, 0.06, 0.07, 0.08, 0.09, 0.1, 0.11, 0.12, 0.13, 0.14, 0.15, 0.16, 0.17, 0.18, 0.19, 0.2, 0.21, 0.22, 0.23, 0.24, 0.25, 0.26, 0.27, 0.28, 0.29, 0.3, 0.31, 0.32, 0.33, 0.34, 0.35000000000000003, 0.36, 0.37, 0.38, 0.39, 0.4, 0.41000000000000003, 0.42, 0.43, 0.44, 0.45, 0.46, 0.47000000000000003, 0.48, 0.49, 0.5, 0.51, 0.52, 0.53, 0.54, 0.55, 0.56, 0.5700000000000001, 0.58, 0.59, 0.6, 0.61, 0.62, 0.63, 0.64, 0.65, 0.66, 0.67, 0.68, 0.6900000000000001, 0.7000000000000001, 0.71, 0.72, 0.73, 0.74, 0.75, 0.76, 0.77, 0.78, 0.79, 0.8, 0.81, 0.8200000000000001, 0.8300000000000001, 0.84, 0.85, 0.86, 0.87, 0.88, 0.89, 0.9, 0.91, 0.92, 0.93, 0.9400000000000001, 0.9500000000000001, 0.96, 0.97, 0.98, 0.99, 1.0)), 'crossover_rate': CategoricalDistribution(choices=(0.0, 0.01, 0.02, 0.03, 0.04, 0.05, 0.06, 0.07, 0.08, 0.09, 0.1, 0.11, 0.12, 0.13, 0.14, 0.15, 0.16, 0.17, 0.18, 0.19, 0.2, 0.21, 0.22, 0.23, 0.24, 0.25, 0.26, 0.27, 0.28, 0.29, 0.3, 0.31, 0.32, 0.33, 0.34, 0.35000000000000003, 0.36, 0.37, 0.38, 0.39, 0.4, 0.41000000000000003, 0.42, 0.43, 0.44, 0.45, 0.46, 0.47000000000000003, 0.48, 0.49, 0.5, 0.51, 0.52, 0.53, 0.54, 0.55, 0.56, 0.5700000000000001, 0.58, 0.59, 0.6, 0.61, 0.62, 0.63, 0.64, 0.65, 0.66, 0.67, 0.68, 0.6900000000000001, 0.7000000000000001, 0.71, 0.72, 0.73, 0.74, 0.75, 0.76, 0.77, 0.78, 0.79, 0.8, 0.81, 0.8200000000000001, 0.8300000000000001, 0.84, 0.85, 0.86, 0.87, 0.88, 0.89, 0.9, 0.91, 0.92, 0.93, 0.9400000000000001, 0.9500000000000001, 0.96, 0.97, 0.98, 0.99, 1.0))}, trial_id=648, value=None)]\n"
     ]
    },
    {
     "name": "stderr",
     "output_type": "stream",
     "text": [
      "Hyperband | Run:  60%|██████    | 30/50 [36:13:34<23:18:18, 4194.92s/it]"
     ]
    },
    {
     "name": "stdout",
     "output_type": "stream",
     "text": [
      "Est. true value:\t8.002200049514787\n",
      "Config:\t{'pop_size': 243, 'generations': 500, 'elite_split': 0.1, 'tournament_split': 0.06, 'mutation_rate': 0.88, 'crossover_rate': 0.02}\n",
      "Value:\t[FrozenTrial(number=281, state=1, values=[7.5288816386030355], datetime_start=datetime.datetime(2025, 8, 3, 5, 0, 0, 851936), datetime_complete=datetime.datetime(2025, 8, 3, 5, 0, 4, 988871), params={'pop_size': 243, 'generations': 500, 'elite_split': 0.1, 'tournament_split': 0.06, 'mutation_rate': 0.88, 'crossover_rate': 0.02}, user_attrs={}, system_attrs={'completed_rung_0': 7.5288816386030355}, intermediate_values={1: 7.5288816386030355}, distributions={'pop_size': CategoricalDistribution(choices=(50, 51, 52, 53, 54, 55, 56, 57, 58, 59, 60, 61, 62, 63, 64, 65, 66, 67, 68, 69, 70, 71, 72, 73, 74, 75, 76, 77, 78, 79, 80, 81, 82, 83, 84, 85, 86, 87, 88, 89, 90, 91, 92, 93, 94, 95, 96, 97, 98, 99, 100, 101, 102, 103, 104, 105, 106, 107, 108, 109, 110, 111, 112, 113, 114, 115, 116, 117, 118, 119, 120, 121, 122, 123, 124, 125, 126, 127, 128, 129, 130, 131, 132, 133, 134, 135, 136, 137, 138, 139, 140, 141, 142, 143, 144, 145, 146, 147, 148, 149, 150, 151, 152, 153, 154, 155, 156, 157, 158, 159, 160, 161, 162, 163, 164, 165, 166, 167, 168, 169, 170, 171, 172, 173, 174, 175, 176, 177, 178, 179, 180, 181, 182, 183, 184, 185, 186, 187, 188, 189, 190, 191, 192, 193, 194, 195, 196, 197, 198, 199, 200, 201, 202, 203, 204, 205, 206, 207, 208, 209, 210, 211, 212, 213, 214, 215, 216, 217, 218, 219, 220, 221, 222, 223, 224, 225, 226, 227, 228, 229, 230, 231, 232, 233, 234, 235, 236, 237, 238, 239, 240, 241, 242, 243, 244, 245, 246, 247, 248, 249, 250)), 'generations': CategoricalDistribution(choices=(100, 200, 300, 400, 500)), 'elite_split': CategoricalDistribution(choices=(0.0, 0.01, 0.02, 0.03, 0.04, 0.05, 0.06, 0.07, 0.08, 0.09, 0.1, 0.11, 0.12, 0.13, 0.14, 0.15, 0.16, 0.17, 0.18, 0.19, 0.2)), 'tournament_split': CategoricalDistribution(choices=(0.0, 0.01, 0.02, 0.03, 0.04, 0.05, 0.06, 0.07, 0.08, 0.09, 0.1)), 'mutation_rate': CategoricalDistribution(choices=(0.0, 0.01, 0.02, 0.03, 0.04, 0.05, 0.06, 0.07, 0.08, 0.09, 0.1, 0.11, 0.12, 0.13, 0.14, 0.15, 0.16, 0.17, 0.18, 0.19, 0.2, 0.21, 0.22, 0.23, 0.24, 0.25, 0.26, 0.27, 0.28, 0.29, 0.3, 0.31, 0.32, 0.33, 0.34, 0.35000000000000003, 0.36, 0.37, 0.38, 0.39, 0.4, 0.41000000000000003, 0.42, 0.43, 0.44, 0.45, 0.46, 0.47000000000000003, 0.48, 0.49, 0.5, 0.51, 0.52, 0.53, 0.54, 0.55, 0.56, 0.5700000000000001, 0.58, 0.59, 0.6, 0.61, 0.62, 0.63, 0.64, 0.65, 0.66, 0.67, 0.68, 0.6900000000000001, 0.7000000000000001, 0.71, 0.72, 0.73, 0.74, 0.75, 0.76, 0.77, 0.78, 0.79, 0.8, 0.81, 0.8200000000000001, 0.8300000000000001, 0.84, 0.85, 0.86, 0.87, 0.88, 0.89, 0.9, 0.91, 0.92, 0.93, 0.9400000000000001, 0.9500000000000001, 0.96, 0.97, 0.98, 0.99, 1.0)), 'crossover_rate': CategoricalDistribution(choices=(0.0, 0.01, 0.02, 0.03, 0.04, 0.05, 0.06, 0.07, 0.08, 0.09, 0.1, 0.11, 0.12, 0.13, 0.14, 0.15, 0.16, 0.17, 0.18, 0.19, 0.2, 0.21, 0.22, 0.23, 0.24, 0.25, 0.26, 0.27, 0.28, 0.29, 0.3, 0.31, 0.32, 0.33, 0.34, 0.35000000000000003, 0.36, 0.37, 0.38, 0.39, 0.4, 0.41000000000000003, 0.42, 0.43, 0.44, 0.45, 0.46, 0.47000000000000003, 0.48, 0.49, 0.5, 0.51, 0.52, 0.53, 0.54, 0.55, 0.56, 0.5700000000000001, 0.58, 0.59, 0.6, 0.61, 0.62, 0.63, 0.64, 0.65, 0.66, 0.67, 0.68, 0.6900000000000001, 0.7000000000000001, 0.71, 0.72, 0.73, 0.74, 0.75, 0.76, 0.77, 0.78, 0.79, 0.8, 0.81, 0.8200000000000001, 0.8300000000000001, 0.84, 0.85, 0.86, 0.87, 0.88, 0.89, 0.9, 0.91, 0.92, 0.93, 0.9400000000000001, 0.9500000000000001, 0.96, 0.97, 0.98, 0.99, 1.0))}, trial_id=281, value=None)]\n"
     ]
    },
    {
     "name": "stderr",
     "output_type": "stream",
     "text": [
      "Hyperband | Run:  62%|██████▏   | 31/50 [37:27:36<22:31:49, 4268.94s/it]"
     ]
    },
    {
     "name": "stdout",
     "output_type": "stream",
     "text": [
      "Est. true value:\t7.975712174750472\n",
      "Config:\t{'pop_size': 222, 'generations': 500, 'elite_split': 0.13, 'tournament_split': 0.1, 'mutation_rate': 0.76, 'crossover_rate': 0.4}\n",
      "Value:\t[FrozenTrial(number=551, state=1, values=[7.492887632045777], datetime_start=datetime.datetime(2025, 8, 3, 6, 22, 54, 216153), datetime_complete=datetime.datetime(2025, 8, 3, 6, 22, 59, 212538), params={'pop_size': 222, 'generations': 500, 'elite_split': 0.13, 'tournament_split': 0.1, 'mutation_rate': 0.76, 'crossover_rate': 0.4}, user_attrs={}, system_attrs={'completed_rung_0': 7.492887632045777}, intermediate_values={1: 7.492887632045777}, distributions={'pop_size': CategoricalDistribution(choices=(50, 51, 52, 53, 54, 55, 56, 57, 58, 59, 60, 61, 62, 63, 64, 65, 66, 67, 68, 69, 70, 71, 72, 73, 74, 75, 76, 77, 78, 79, 80, 81, 82, 83, 84, 85, 86, 87, 88, 89, 90, 91, 92, 93, 94, 95, 96, 97, 98, 99, 100, 101, 102, 103, 104, 105, 106, 107, 108, 109, 110, 111, 112, 113, 114, 115, 116, 117, 118, 119, 120, 121, 122, 123, 124, 125, 126, 127, 128, 129, 130, 131, 132, 133, 134, 135, 136, 137, 138, 139, 140, 141, 142, 143, 144, 145, 146, 147, 148, 149, 150, 151, 152, 153, 154, 155, 156, 157, 158, 159, 160, 161, 162, 163, 164, 165, 166, 167, 168, 169, 170, 171, 172, 173, 174, 175, 176, 177, 178, 179, 180, 181, 182, 183, 184, 185, 186, 187, 188, 189, 190, 191, 192, 193, 194, 195, 196, 197, 198, 199, 200, 201, 202, 203, 204, 205, 206, 207, 208, 209, 210, 211, 212, 213, 214, 215, 216, 217, 218, 219, 220, 221, 222, 223, 224, 225, 226, 227, 228, 229, 230, 231, 232, 233, 234, 235, 236, 237, 238, 239, 240, 241, 242, 243, 244, 245, 246, 247, 248, 249, 250)), 'generations': CategoricalDistribution(choices=(100, 200, 300, 400, 500)), 'elite_split': CategoricalDistribution(choices=(0.0, 0.01, 0.02, 0.03, 0.04, 0.05, 0.06, 0.07, 0.08, 0.09, 0.1, 0.11, 0.12, 0.13, 0.14, 0.15, 0.16, 0.17, 0.18, 0.19, 0.2)), 'tournament_split': CategoricalDistribution(choices=(0.0, 0.01, 0.02, 0.03, 0.04, 0.05, 0.06, 0.07, 0.08, 0.09, 0.1)), 'mutation_rate': CategoricalDistribution(choices=(0.0, 0.01, 0.02, 0.03, 0.04, 0.05, 0.06, 0.07, 0.08, 0.09, 0.1, 0.11, 0.12, 0.13, 0.14, 0.15, 0.16, 0.17, 0.18, 0.19, 0.2, 0.21, 0.22, 0.23, 0.24, 0.25, 0.26, 0.27, 0.28, 0.29, 0.3, 0.31, 0.32, 0.33, 0.34, 0.35000000000000003, 0.36, 0.37, 0.38, 0.39, 0.4, 0.41000000000000003, 0.42, 0.43, 0.44, 0.45, 0.46, 0.47000000000000003, 0.48, 0.49, 0.5, 0.51, 0.52, 0.53, 0.54, 0.55, 0.56, 0.5700000000000001, 0.58, 0.59, 0.6, 0.61, 0.62, 0.63, 0.64, 0.65, 0.66, 0.67, 0.68, 0.6900000000000001, 0.7000000000000001, 0.71, 0.72, 0.73, 0.74, 0.75, 0.76, 0.77, 0.78, 0.79, 0.8, 0.81, 0.8200000000000001, 0.8300000000000001, 0.84, 0.85, 0.86, 0.87, 0.88, 0.89, 0.9, 0.91, 0.92, 0.93, 0.9400000000000001, 0.9500000000000001, 0.96, 0.97, 0.98, 0.99, 1.0)), 'crossover_rate': CategoricalDistribution(choices=(0.0, 0.01, 0.02, 0.03, 0.04, 0.05, 0.06, 0.07, 0.08, 0.09, 0.1, 0.11, 0.12, 0.13, 0.14, 0.15, 0.16, 0.17, 0.18, 0.19, 0.2, 0.21, 0.22, 0.23, 0.24, 0.25, 0.26, 0.27, 0.28, 0.29, 0.3, 0.31, 0.32, 0.33, 0.34, 0.35000000000000003, 0.36, 0.37, 0.38, 0.39, 0.4, 0.41000000000000003, 0.42, 0.43, 0.44, 0.45, 0.46, 0.47000000000000003, 0.48, 0.49, 0.5, 0.51, 0.52, 0.53, 0.54, 0.55, 0.56, 0.5700000000000001, 0.58, 0.59, 0.6, 0.61, 0.62, 0.63, 0.64, 0.65, 0.66, 0.67, 0.68, 0.6900000000000001, 0.7000000000000001, 0.71, 0.72, 0.73, 0.74, 0.75, 0.76, 0.77, 0.78, 0.79, 0.8, 0.81, 0.8200000000000001, 0.8300000000000001, 0.84, 0.85, 0.86, 0.87, 0.88, 0.89, 0.9, 0.91, 0.92, 0.93, 0.9400000000000001, 0.9500000000000001, 0.96, 0.97, 0.98, 0.99, 1.0))}, trial_id=551, value=None)]\n"
     ]
    },
    {
     "name": "stderr",
     "output_type": "stream",
     "text": [
      "Hyperband | Run:  64%|██████▍   | 32/50 [38:45:28<21:56:55, 4389.76s/it]"
     ]
    },
    {
     "name": "stdout",
     "output_type": "stream",
     "text": [
      "Est. true value:\t8.083264614715606\n",
      "Config:\t{'pop_size': 232, 'generations': 500, 'elite_split': 0.14, 'tournament_split': 0.1, 'mutation_rate': 0.56, 'crossover_rate': 0.05}\n",
      "Value:\t[FrozenTrial(number=130, state=1, values=[7.474639740939736], datetime_start=datetime.datetime(2025, 8, 3, 7, 25, 18, 514889), datetime_complete=datetime.datetime(2025, 8, 3, 7, 25, 22, 921189), params={'pop_size': 232, 'generations': 500, 'elite_split': 0.14, 'tournament_split': 0.1, 'mutation_rate': 0.56, 'crossover_rate': 0.05}, user_attrs={}, system_attrs={'completed_rung_0': 7.474639740939736}, intermediate_values={1: 7.474639740939736}, distributions={'pop_size': CategoricalDistribution(choices=(50, 51, 52, 53, 54, 55, 56, 57, 58, 59, 60, 61, 62, 63, 64, 65, 66, 67, 68, 69, 70, 71, 72, 73, 74, 75, 76, 77, 78, 79, 80, 81, 82, 83, 84, 85, 86, 87, 88, 89, 90, 91, 92, 93, 94, 95, 96, 97, 98, 99, 100, 101, 102, 103, 104, 105, 106, 107, 108, 109, 110, 111, 112, 113, 114, 115, 116, 117, 118, 119, 120, 121, 122, 123, 124, 125, 126, 127, 128, 129, 130, 131, 132, 133, 134, 135, 136, 137, 138, 139, 140, 141, 142, 143, 144, 145, 146, 147, 148, 149, 150, 151, 152, 153, 154, 155, 156, 157, 158, 159, 160, 161, 162, 163, 164, 165, 166, 167, 168, 169, 170, 171, 172, 173, 174, 175, 176, 177, 178, 179, 180, 181, 182, 183, 184, 185, 186, 187, 188, 189, 190, 191, 192, 193, 194, 195, 196, 197, 198, 199, 200, 201, 202, 203, 204, 205, 206, 207, 208, 209, 210, 211, 212, 213, 214, 215, 216, 217, 218, 219, 220, 221, 222, 223, 224, 225, 226, 227, 228, 229, 230, 231, 232, 233, 234, 235, 236, 237, 238, 239, 240, 241, 242, 243, 244, 245, 246, 247, 248, 249, 250)), 'generations': CategoricalDistribution(choices=(100, 200, 300, 400, 500)), 'elite_split': CategoricalDistribution(choices=(0.0, 0.01, 0.02, 0.03, 0.04, 0.05, 0.06, 0.07, 0.08, 0.09, 0.1, 0.11, 0.12, 0.13, 0.14, 0.15, 0.16, 0.17, 0.18, 0.19, 0.2)), 'tournament_split': CategoricalDistribution(choices=(0.0, 0.01, 0.02, 0.03, 0.04, 0.05, 0.06, 0.07, 0.08, 0.09, 0.1)), 'mutation_rate': CategoricalDistribution(choices=(0.0, 0.01, 0.02, 0.03, 0.04, 0.05, 0.06, 0.07, 0.08, 0.09, 0.1, 0.11, 0.12, 0.13, 0.14, 0.15, 0.16, 0.17, 0.18, 0.19, 0.2, 0.21, 0.22, 0.23, 0.24, 0.25, 0.26, 0.27, 0.28, 0.29, 0.3, 0.31, 0.32, 0.33, 0.34, 0.35000000000000003, 0.36, 0.37, 0.38, 0.39, 0.4, 0.41000000000000003, 0.42, 0.43, 0.44, 0.45, 0.46, 0.47000000000000003, 0.48, 0.49, 0.5, 0.51, 0.52, 0.53, 0.54, 0.55, 0.56, 0.5700000000000001, 0.58, 0.59, 0.6, 0.61, 0.62, 0.63, 0.64, 0.65, 0.66, 0.67, 0.68, 0.6900000000000001, 0.7000000000000001, 0.71, 0.72, 0.73, 0.74, 0.75, 0.76, 0.77, 0.78, 0.79, 0.8, 0.81, 0.8200000000000001, 0.8300000000000001, 0.84, 0.85, 0.86, 0.87, 0.88, 0.89, 0.9, 0.91, 0.92, 0.93, 0.9400000000000001, 0.9500000000000001, 0.96, 0.97, 0.98, 0.99, 1.0)), 'crossover_rate': CategoricalDistribution(choices=(0.0, 0.01, 0.02, 0.03, 0.04, 0.05, 0.06, 0.07, 0.08, 0.09, 0.1, 0.11, 0.12, 0.13, 0.14, 0.15, 0.16, 0.17, 0.18, 0.19, 0.2, 0.21, 0.22, 0.23, 0.24, 0.25, 0.26, 0.27, 0.28, 0.29, 0.3, 0.31, 0.32, 0.33, 0.34, 0.35000000000000003, 0.36, 0.37, 0.38, 0.39, 0.4, 0.41000000000000003, 0.42, 0.43, 0.44, 0.45, 0.46, 0.47000000000000003, 0.48, 0.49, 0.5, 0.51, 0.52, 0.53, 0.54, 0.55, 0.56, 0.5700000000000001, 0.58, 0.59, 0.6, 0.61, 0.62, 0.63, 0.64, 0.65, 0.66, 0.67, 0.68, 0.6900000000000001, 0.7000000000000001, 0.71, 0.72, 0.73, 0.74, 0.75, 0.76, 0.77, 0.78, 0.79, 0.8, 0.81, 0.8200000000000001, 0.8300000000000001, 0.84, 0.85, 0.86, 0.87, 0.88, 0.89, 0.9, 0.91, 0.92, 0.93, 0.9400000000000001, 0.9500000000000001, 0.96, 0.97, 0.98, 0.99, 1.0))}, trial_id=130, value=None)]\n"
     ]
    },
    {
     "name": "stderr",
     "output_type": "stream",
     "text": [
      "Hyperband | Run:  66%|██████▌   | 33/50 [40:01:30<20:58:25, 4441.51s/it]"
     ]
    },
    {
     "name": "stdout",
     "output_type": "stream",
     "text": [
      "Est. true value:\t8.046453775602297\n",
      "Config:\t{'pop_size': 216, 'generations': 500, 'elite_split': 0.17, 'tournament_split': 0.1, 'mutation_rate': 0.72, 'crossover_rate': 0.08}\n",
      "Value:\t[FrozenTrial(number=972, state=1, values=[7.542359752976775], datetime_start=datetime.datetime(2025, 8, 3, 9, 14, 0, 135271), datetime_complete=datetime.datetime(2025, 8, 3, 9, 14, 3, 369289), params={'pop_size': 216, 'generations': 500, 'elite_split': 0.17, 'tournament_split': 0.1, 'mutation_rate': 0.72, 'crossover_rate': 0.08}, user_attrs={}, system_attrs={'completed_rung_0': 7.542359752976775}, intermediate_values={1: 7.542359752976775}, distributions={'pop_size': CategoricalDistribution(choices=(50, 51, 52, 53, 54, 55, 56, 57, 58, 59, 60, 61, 62, 63, 64, 65, 66, 67, 68, 69, 70, 71, 72, 73, 74, 75, 76, 77, 78, 79, 80, 81, 82, 83, 84, 85, 86, 87, 88, 89, 90, 91, 92, 93, 94, 95, 96, 97, 98, 99, 100, 101, 102, 103, 104, 105, 106, 107, 108, 109, 110, 111, 112, 113, 114, 115, 116, 117, 118, 119, 120, 121, 122, 123, 124, 125, 126, 127, 128, 129, 130, 131, 132, 133, 134, 135, 136, 137, 138, 139, 140, 141, 142, 143, 144, 145, 146, 147, 148, 149, 150, 151, 152, 153, 154, 155, 156, 157, 158, 159, 160, 161, 162, 163, 164, 165, 166, 167, 168, 169, 170, 171, 172, 173, 174, 175, 176, 177, 178, 179, 180, 181, 182, 183, 184, 185, 186, 187, 188, 189, 190, 191, 192, 193, 194, 195, 196, 197, 198, 199, 200, 201, 202, 203, 204, 205, 206, 207, 208, 209, 210, 211, 212, 213, 214, 215, 216, 217, 218, 219, 220, 221, 222, 223, 224, 225, 226, 227, 228, 229, 230, 231, 232, 233, 234, 235, 236, 237, 238, 239, 240, 241, 242, 243, 244, 245, 246, 247, 248, 249, 250)), 'generations': CategoricalDistribution(choices=(100, 200, 300, 400, 500)), 'elite_split': CategoricalDistribution(choices=(0.0, 0.01, 0.02, 0.03, 0.04, 0.05, 0.06, 0.07, 0.08, 0.09, 0.1, 0.11, 0.12, 0.13, 0.14, 0.15, 0.16, 0.17, 0.18, 0.19, 0.2)), 'tournament_split': CategoricalDistribution(choices=(0.0, 0.01, 0.02, 0.03, 0.04, 0.05, 0.06, 0.07, 0.08, 0.09, 0.1)), 'mutation_rate': CategoricalDistribution(choices=(0.0, 0.01, 0.02, 0.03, 0.04, 0.05, 0.06, 0.07, 0.08, 0.09, 0.1, 0.11, 0.12, 0.13, 0.14, 0.15, 0.16, 0.17, 0.18, 0.19, 0.2, 0.21, 0.22, 0.23, 0.24, 0.25, 0.26, 0.27, 0.28, 0.29, 0.3, 0.31, 0.32, 0.33, 0.34, 0.35000000000000003, 0.36, 0.37, 0.38, 0.39, 0.4, 0.41000000000000003, 0.42, 0.43, 0.44, 0.45, 0.46, 0.47000000000000003, 0.48, 0.49, 0.5, 0.51, 0.52, 0.53, 0.54, 0.55, 0.56, 0.5700000000000001, 0.58, 0.59, 0.6, 0.61, 0.62, 0.63, 0.64, 0.65, 0.66, 0.67, 0.68, 0.6900000000000001, 0.7000000000000001, 0.71, 0.72, 0.73, 0.74, 0.75, 0.76, 0.77, 0.78, 0.79, 0.8, 0.81, 0.8200000000000001, 0.8300000000000001, 0.84, 0.85, 0.86, 0.87, 0.88, 0.89, 0.9, 0.91, 0.92, 0.93, 0.9400000000000001, 0.9500000000000001, 0.96, 0.97, 0.98, 0.99, 1.0)), 'crossover_rate': CategoricalDistribution(choices=(0.0, 0.01, 0.02, 0.03, 0.04, 0.05, 0.06, 0.07, 0.08, 0.09, 0.1, 0.11, 0.12, 0.13, 0.14, 0.15, 0.16, 0.17, 0.18, 0.19, 0.2, 0.21, 0.22, 0.23, 0.24, 0.25, 0.26, 0.27, 0.28, 0.29, 0.3, 0.31, 0.32, 0.33, 0.34, 0.35000000000000003, 0.36, 0.37, 0.38, 0.39, 0.4, 0.41000000000000003, 0.42, 0.43, 0.44, 0.45, 0.46, 0.47000000000000003, 0.48, 0.49, 0.5, 0.51, 0.52, 0.53, 0.54, 0.55, 0.56, 0.5700000000000001, 0.58, 0.59, 0.6, 0.61, 0.62, 0.63, 0.64, 0.65, 0.66, 0.67, 0.68, 0.6900000000000001, 0.7000000000000001, 0.71, 0.72, 0.73, 0.74, 0.75, 0.76, 0.77, 0.78, 0.79, 0.8, 0.81, 0.8200000000000001, 0.8300000000000001, 0.84, 0.85, 0.86, 0.87, 0.88, 0.89, 0.9, 0.91, 0.92, 0.93, 0.9400000000000001, 0.9500000000000001, 0.96, 0.97, 0.98, 0.99, 1.0))}, trial_id=972, value=None)]\n"
     ]
    },
    {
     "name": "stderr",
     "output_type": "stream",
     "text": [
      "Hyperband | Run:  68%|██████▊   | 34/50 [41:05:22<18:55:39, 4258.70s/it]"
     ]
    },
    {
     "name": "stdout",
     "output_type": "stream",
     "text": [
      "Est. true value:\t8.035785481206236\n",
      "Config:\t{'pop_size': 210, 'generations': 500, 'elite_split': 0.06, 'tournament_split': 0.09, 'mutation_rate': 0.52, 'crossover_rate': 0.17}\n",
      "Value:\t[FrozenTrial(number=752, state=1, values=[7.517901094510827], datetime_start=datetime.datetime(2025, 8, 3, 10, 10, 47, 435808), datetime_complete=datetime.datetime(2025, 8, 3, 10, 10, 50, 843327), params={'pop_size': 210, 'generations': 500, 'elite_split': 0.06, 'tournament_split': 0.09, 'mutation_rate': 0.52, 'crossover_rate': 0.17}, user_attrs={}, system_attrs={'completed_rung_0': 7.517901094510827}, intermediate_values={1: 7.517901094510827}, distributions={'pop_size': CategoricalDistribution(choices=(50, 51, 52, 53, 54, 55, 56, 57, 58, 59, 60, 61, 62, 63, 64, 65, 66, 67, 68, 69, 70, 71, 72, 73, 74, 75, 76, 77, 78, 79, 80, 81, 82, 83, 84, 85, 86, 87, 88, 89, 90, 91, 92, 93, 94, 95, 96, 97, 98, 99, 100, 101, 102, 103, 104, 105, 106, 107, 108, 109, 110, 111, 112, 113, 114, 115, 116, 117, 118, 119, 120, 121, 122, 123, 124, 125, 126, 127, 128, 129, 130, 131, 132, 133, 134, 135, 136, 137, 138, 139, 140, 141, 142, 143, 144, 145, 146, 147, 148, 149, 150, 151, 152, 153, 154, 155, 156, 157, 158, 159, 160, 161, 162, 163, 164, 165, 166, 167, 168, 169, 170, 171, 172, 173, 174, 175, 176, 177, 178, 179, 180, 181, 182, 183, 184, 185, 186, 187, 188, 189, 190, 191, 192, 193, 194, 195, 196, 197, 198, 199, 200, 201, 202, 203, 204, 205, 206, 207, 208, 209, 210, 211, 212, 213, 214, 215, 216, 217, 218, 219, 220, 221, 222, 223, 224, 225, 226, 227, 228, 229, 230, 231, 232, 233, 234, 235, 236, 237, 238, 239, 240, 241, 242, 243, 244, 245, 246, 247, 248, 249, 250)), 'generations': CategoricalDistribution(choices=(100, 200, 300, 400, 500)), 'elite_split': CategoricalDistribution(choices=(0.0, 0.01, 0.02, 0.03, 0.04, 0.05, 0.06, 0.07, 0.08, 0.09, 0.1, 0.11, 0.12, 0.13, 0.14, 0.15, 0.16, 0.17, 0.18, 0.19, 0.2)), 'tournament_split': CategoricalDistribution(choices=(0.0, 0.01, 0.02, 0.03, 0.04, 0.05, 0.06, 0.07, 0.08, 0.09, 0.1)), 'mutation_rate': CategoricalDistribution(choices=(0.0, 0.01, 0.02, 0.03, 0.04, 0.05, 0.06, 0.07, 0.08, 0.09, 0.1, 0.11, 0.12, 0.13, 0.14, 0.15, 0.16, 0.17, 0.18, 0.19, 0.2, 0.21, 0.22, 0.23, 0.24, 0.25, 0.26, 0.27, 0.28, 0.29, 0.3, 0.31, 0.32, 0.33, 0.34, 0.35000000000000003, 0.36, 0.37, 0.38, 0.39, 0.4, 0.41000000000000003, 0.42, 0.43, 0.44, 0.45, 0.46, 0.47000000000000003, 0.48, 0.49, 0.5, 0.51, 0.52, 0.53, 0.54, 0.55, 0.56, 0.5700000000000001, 0.58, 0.59, 0.6, 0.61, 0.62, 0.63, 0.64, 0.65, 0.66, 0.67, 0.68, 0.6900000000000001, 0.7000000000000001, 0.71, 0.72, 0.73, 0.74, 0.75, 0.76, 0.77, 0.78, 0.79, 0.8, 0.81, 0.8200000000000001, 0.8300000000000001, 0.84, 0.85, 0.86, 0.87, 0.88, 0.89, 0.9, 0.91, 0.92, 0.93, 0.9400000000000001, 0.9500000000000001, 0.96, 0.97, 0.98, 0.99, 1.0)), 'crossover_rate': CategoricalDistribution(choices=(0.0, 0.01, 0.02, 0.03, 0.04, 0.05, 0.06, 0.07, 0.08, 0.09, 0.1, 0.11, 0.12, 0.13, 0.14, 0.15, 0.16, 0.17, 0.18, 0.19, 0.2, 0.21, 0.22, 0.23, 0.24, 0.25, 0.26, 0.27, 0.28, 0.29, 0.3, 0.31, 0.32, 0.33, 0.34, 0.35000000000000003, 0.36, 0.37, 0.38, 0.39, 0.4, 0.41000000000000003, 0.42, 0.43, 0.44, 0.45, 0.46, 0.47000000000000003, 0.48, 0.49, 0.5, 0.51, 0.52, 0.53, 0.54, 0.55, 0.56, 0.5700000000000001, 0.58, 0.59, 0.6, 0.61, 0.62, 0.63, 0.64, 0.65, 0.66, 0.67, 0.68, 0.6900000000000001, 0.7000000000000001, 0.71, 0.72, 0.73, 0.74, 0.75, 0.76, 0.77, 0.78, 0.79, 0.8, 0.81, 0.8200000000000001, 0.8300000000000001, 0.84, 0.85, 0.86, 0.87, 0.88, 0.89, 0.9, 0.91, 0.92, 0.93, 0.9400000000000001, 0.9500000000000001, 0.96, 0.97, 0.98, 0.99, 1.0))}, trial_id=752, value=None)]\n"
     ]
    },
    {
     "name": "stderr",
     "output_type": "stream",
     "text": [
      "Hyperband | Run:  70%|███████   | 35/50 [42:12:41<17:28:10, 4192.72s/it]"
     ]
    },
    {
     "name": "stdout",
     "output_type": "stream",
     "text": [
      "Est. true value:\t8.102523232316521\n",
      "Config:\t{'pop_size': 249, 'generations': 500, 'elite_split': 0.01, 'tournament_split': 0.1, 'mutation_rate': 0.75, 'crossover_rate': 0.23}\n",
      "Value:\t[FrozenTrial(number=534, state=1, values=[7.552942505820178], datetime_start=datetime.datetime(2025, 8, 3, 11, 9, 49, 430607), datetime_complete=datetime.datetime(2025, 8, 3, 11, 9, 54, 451204), params={'pop_size': 249, 'generations': 500, 'elite_split': 0.01, 'tournament_split': 0.1, 'mutation_rate': 0.75, 'crossover_rate': 0.23}, user_attrs={}, system_attrs={'completed_rung_0': 7.552942505820178}, intermediate_values={1: 7.552942505820178}, distributions={'pop_size': CategoricalDistribution(choices=(50, 51, 52, 53, 54, 55, 56, 57, 58, 59, 60, 61, 62, 63, 64, 65, 66, 67, 68, 69, 70, 71, 72, 73, 74, 75, 76, 77, 78, 79, 80, 81, 82, 83, 84, 85, 86, 87, 88, 89, 90, 91, 92, 93, 94, 95, 96, 97, 98, 99, 100, 101, 102, 103, 104, 105, 106, 107, 108, 109, 110, 111, 112, 113, 114, 115, 116, 117, 118, 119, 120, 121, 122, 123, 124, 125, 126, 127, 128, 129, 130, 131, 132, 133, 134, 135, 136, 137, 138, 139, 140, 141, 142, 143, 144, 145, 146, 147, 148, 149, 150, 151, 152, 153, 154, 155, 156, 157, 158, 159, 160, 161, 162, 163, 164, 165, 166, 167, 168, 169, 170, 171, 172, 173, 174, 175, 176, 177, 178, 179, 180, 181, 182, 183, 184, 185, 186, 187, 188, 189, 190, 191, 192, 193, 194, 195, 196, 197, 198, 199, 200, 201, 202, 203, 204, 205, 206, 207, 208, 209, 210, 211, 212, 213, 214, 215, 216, 217, 218, 219, 220, 221, 222, 223, 224, 225, 226, 227, 228, 229, 230, 231, 232, 233, 234, 235, 236, 237, 238, 239, 240, 241, 242, 243, 244, 245, 246, 247, 248, 249, 250)), 'generations': CategoricalDistribution(choices=(100, 200, 300, 400, 500)), 'elite_split': CategoricalDistribution(choices=(0.0, 0.01, 0.02, 0.03, 0.04, 0.05, 0.06, 0.07, 0.08, 0.09, 0.1, 0.11, 0.12, 0.13, 0.14, 0.15, 0.16, 0.17, 0.18, 0.19, 0.2)), 'tournament_split': CategoricalDistribution(choices=(0.0, 0.01, 0.02, 0.03, 0.04, 0.05, 0.06, 0.07, 0.08, 0.09, 0.1)), 'mutation_rate': CategoricalDistribution(choices=(0.0, 0.01, 0.02, 0.03, 0.04, 0.05, 0.06, 0.07, 0.08, 0.09, 0.1, 0.11, 0.12, 0.13, 0.14, 0.15, 0.16, 0.17, 0.18, 0.19, 0.2, 0.21, 0.22, 0.23, 0.24, 0.25, 0.26, 0.27, 0.28, 0.29, 0.3, 0.31, 0.32, 0.33, 0.34, 0.35000000000000003, 0.36, 0.37, 0.38, 0.39, 0.4, 0.41000000000000003, 0.42, 0.43, 0.44, 0.45, 0.46, 0.47000000000000003, 0.48, 0.49, 0.5, 0.51, 0.52, 0.53, 0.54, 0.55, 0.56, 0.5700000000000001, 0.58, 0.59, 0.6, 0.61, 0.62, 0.63, 0.64, 0.65, 0.66, 0.67, 0.68, 0.6900000000000001, 0.7000000000000001, 0.71, 0.72, 0.73, 0.74, 0.75, 0.76, 0.77, 0.78, 0.79, 0.8, 0.81, 0.8200000000000001, 0.8300000000000001, 0.84, 0.85, 0.86, 0.87, 0.88, 0.89, 0.9, 0.91, 0.92, 0.93, 0.9400000000000001, 0.9500000000000001, 0.96, 0.97, 0.98, 0.99, 1.0)), 'crossover_rate': CategoricalDistribution(choices=(0.0, 0.01, 0.02, 0.03, 0.04, 0.05, 0.06, 0.07, 0.08, 0.09, 0.1, 0.11, 0.12, 0.13, 0.14, 0.15, 0.16, 0.17, 0.18, 0.19, 0.2, 0.21, 0.22, 0.23, 0.24, 0.25, 0.26, 0.27, 0.28, 0.29, 0.3, 0.31, 0.32, 0.33, 0.34, 0.35000000000000003, 0.36, 0.37, 0.38, 0.39, 0.4, 0.41000000000000003, 0.42, 0.43, 0.44, 0.45, 0.46, 0.47000000000000003, 0.48, 0.49, 0.5, 0.51, 0.52, 0.53, 0.54, 0.55, 0.56, 0.5700000000000001, 0.58, 0.59, 0.6, 0.61, 0.62, 0.63, 0.64, 0.65, 0.66, 0.67, 0.68, 0.6900000000000001, 0.7000000000000001, 0.71, 0.72, 0.73, 0.74, 0.75, 0.76, 0.77, 0.78, 0.79, 0.8, 0.81, 0.8200000000000001, 0.8300000000000001, 0.84, 0.85, 0.86, 0.87, 0.88, 0.89, 0.9, 0.91, 0.92, 0.93, 0.9400000000000001, 0.9500000000000001, 0.96, 0.97, 0.98, 0.99, 1.0))}, trial_id=534, value=None)]\n"
     ]
    },
    {
     "name": "stderr",
     "output_type": "stream",
     "text": [
      "Hyperband | Run:  72%|███████▏  | 36/50 [43:33:51<17:05:42, 4395.91s/it]"
     ]
    },
    {
     "name": "stdout",
     "output_type": "stream",
     "text": [
      "Est. true value:\t8.011889847169487\n",
      "Config:\t{'pop_size': 195, 'generations': 500, 'elite_split': 0.04, 'tournament_split': 0.1, 'mutation_rate': 0.5700000000000001, 'crossover_rate': 0.1}\n",
      "Value:\t[FrozenTrial(number=228, state=1, values=[7.610168549101448], datetime_start=datetime.datetime(2025, 8, 3, 12, 19, 6, 185265), datetime_complete=datetime.datetime(2025, 8, 3, 12, 19, 9, 149034), params={'pop_size': 195, 'generations': 500, 'elite_split': 0.04, 'tournament_split': 0.1, 'mutation_rate': 0.5700000000000001, 'crossover_rate': 0.1}, user_attrs={}, system_attrs={'completed_rung_0': 7.610168549101448}, intermediate_values={1: 7.610168549101448}, distributions={'pop_size': CategoricalDistribution(choices=(50, 51, 52, 53, 54, 55, 56, 57, 58, 59, 60, 61, 62, 63, 64, 65, 66, 67, 68, 69, 70, 71, 72, 73, 74, 75, 76, 77, 78, 79, 80, 81, 82, 83, 84, 85, 86, 87, 88, 89, 90, 91, 92, 93, 94, 95, 96, 97, 98, 99, 100, 101, 102, 103, 104, 105, 106, 107, 108, 109, 110, 111, 112, 113, 114, 115, 116, 117, 118, 119, 120, 121, 122, 123, 124, 125, 126, 127, 128, 129, 130, 131, 132, 133, 134, 135, 136, 137, 138, 139, 140, 141, 142, 143, 144, 145, 146, 147, 148, 149, 150, 151, 152, 153, 154, 155, 156, 157, 158, 159, 160, 161, 162, 163, 164, 165, 166, 167, 168, 169, 170, 171, 172, 173, 174, 175, 176, 177, 178, 179, 180, 181, 182, 183, 184, 185, 186, 187, 188, 189, 190, 191, 192, 193, 194, 195, 196, 197, 198, 199, 200, 201, 202, 203, 204, 205, 206, 207, 208, 209, 210, 211, 212, 213, 214, 215, 216, 217, 218, 219, 220, 221, 222, 223, 224, 225, 226, 227, 228, 229, 230, 231, 232, 233, 234, 235, 236, 237, 238, 239, 240, 241, 242, 243, 244, 245, 246, 247, 248, 249, 250)), 'generations': CategoricalDistribution(choices=(100, 200, 300, 400, 500)), 'elite_split': CategoricalDistribution(choices=(0.0, 0.01, 0.02, 0.03, 0.04, 0.05, 0.06, 0.07, 0.08, 0.09, 0.1, 0.11, 0.12, 0.13, 0.14, 0.15, 0.16, 0.17, 0.18, 0.19, 0.2)), 'tournament_split': CategoricalDistribution(choices=(0.0, 0.01, 0.02, 0.03, 0.04, 0.05, 0.06, 0.07, 0.08, 0.09, 0.1)), 'mutation_rate': CategoricalDistribution(choices=(0.0, 0.01, 0.02, 0.03, 0.04, 0.05, 0.06, 0.07, 0.08, 0.09, 0.1, 0.11, 0.12, 0.13, 0.14, 0.15, 0.16, 0.17, 0.18, 0.19, 0.2, 0.21, 0.22, 0.23, 0.24, 0.25, 0.26, 0.27, 0.28, 0.29, 0.3, 0.31, 0.32, 0.33, 0.34, 0.35000000000000003, 0.36, 0.37, 0.38, 0.39, 0.4, 0.41000000000000003, 0.42, 0.43, 0.44, 0.45, 0.46, 0.47000000000000003, 0.48, 0.49, 0.5, 0.51, 0.52, 0.53, 0.54, 0.55, 0.56, 0.5700000000000001, 0.58, 0.59, 0.6, 0.61, 0.62, 0.63, 0.64, 0.65, 0.66, 0.67, 0.68, 0.6900000000000001, 0.7000000000000001, 0.71, 0.72, 0.73, 0.74, 0.75, 0.76, 0.77, 0.78, 0.79, 0.8, 0.81, 0.8200000000000001, 0.8300000000000001, 0.84, 0.85, 0.86, 0.87, 0.88, 0.89, 0.9, 0.91, 0.92, 0.93, 0.9400000000000001, 0.9500000000000001, 0.96, 0.97, 0.98, 0.99, 1.0)), 'crossover_rate': CategoricalDistribution(choices=(0.0, 0.01, 0.02, 0.03, 0.04, 0.05, 0.06, 0.07, 0.08, 0.09, 0.1, 0.11, 0.12, 0.13, 0.14, 0.15, 0.16, 0.17, 0.18, 0.19, 0.2, 0.21, 0.22, 0.23, 0.24, 0.25, 0.26, 0.27, 0.28, 0.29, 0.3, 0.31, 0.32, 0.33, 0.34, 0.35000000000000003, 0.36, 0.37, 0.38, 0.39, 0.4, 0.41000000000000003, 0.42, 0.43, 0.44, 0.45, 0.46, 0.47000000000000003, 0.48, 0.49, 0.5, 0.51, 0.52, 0.53, 0.54, 0.55, 0.56, 0.5700000000000001, 0.58, 0.59, 0.6, 0.61, 0.62, 0.63, 0.64, 0.65, 0.66, 0.67, 0.68, 0.6900000000000001, 0.7000000000000001, 0.71, 0.72, 0.73, 0.74, 0.75, 0.76, 0.77, 0.78, 0.79, 0.8, 0.81, 0.8200000000000001, 0.8300000000000001, 0.84, 0.85, 0.86, 0.87, 0.88, 0.89, 0.9, 0.91, 0.92, 0.93, 0.9400000000000001, 0.9500000000000001, 0.96, 0.97, 0.98, 0.99, 1.0))}, trial_id=228, value=None)]\n"
     ]
    },
    {
     "name": "stderr",
     "output_type": "stream",
     "text": [
      "Hyperband | Run:  74%|███████▍  | 37/50 [44:39:34<15:22:59, 4259.93s/it]"
     ]
    },
    {
     "name": "stdout",
     "output_type": "stream",
     "text": [
      "Est. true value:\t8.061296395238903\n",
      "Config:\t{'pop_size': 222, 'generations': 500, 'elite_split': 0.06, 'tournament_split': 0.08, 'mutation_rate': 0.9500000000000001, 'crossover_rate': 0.22}\n",
      "Value:\t[FrozenTrial(number=216, state=1, values=[7.377104643683445], datetime_start=datetime.datetime(2025, 8, 3, 13, 23, 38, 710887), datetime_complete=datetime.datetime(2025, 8, 3, 13, 23, 42, 883432), params={'pop_size': 222, 'generations': 500, 'elite_split': 0.06, 'tournament_split': 0.08, 'mutation_rate': 0.9500000000000001, 'crossover_rate': 0.22}, user_attrs={}, system_attrs={'completed_rung_0': 7.377104643683445}, intermediate_values={1: 7.377104643683445}, distributions={'pop_size': CategoricalDistribution(choices=(50, 51, 52, 53, 54, 55, 56, 57, 58, 59, 60, 61, 62, 63, 64, 65, 66, 67, 68, 69, 70, 71, 72, 73, 74, 75, 76, 77, 78, 79, 80, 81, 82, 83, 84, 85, 86, 87, 88, 89, 90, 91, 92, 93, 94, 95, 96, 97, 98, 99, 100, 101, 102, 103, 104, 105, 106, 107, 108, 109, 110, 111, 112, 113, 114, 115, 116, 117, 118, 119, 120, 121, 122, 123, 124, 125, 126, 127, 128, 129, 130, 131, 132, 133, 134, 135, 136, 137, 138, 139, 140, 141, 142, 143, 144, 145, 146, 147, 148, 149, 150, 151, 152, 153, 154, 155, 156, 157, 158, 159, 160, 161, 162, 163, 164, 165, 166, 167, 168, 169, 170, 171, 172, 173, 174, 175, 176, 177, 178, 179, 180, 181, 182, 183, 184, 185, 186, 187, 188, 189, 190, 191, 192, 193, 194, 195, 196, 197, 198, 199, 200, 201, 202, 203, 204, 205, 206, 207, 208, 209, 210, 211, 212, 213, 214, 215, 216, 217, 218, 219, 220, 221, 222, 223, 224, 225, 226, 227, 228, 229, 230, 231, 232, 233, 234, 235, 236, 237, 238, 239, 240, 241, 242, 243, 244, 245, 246, 247, 248, 249, 250)), 'generations': CategoricalDistribution(choices=(100, 200, 300, 400, 500)), 'elite_split': CategoricalDistribution(choices=(0.0, 0.01, 0.02, 0.03, 0.04, 0.05, 0.06, 0.07, 0.08, 0.09, 0.1, 0.11, 0.12, 0.13, 0.14, 0.15, 0.16, 0.17, 0.18, 0.19, 0.2)), 'tournament_split': CategoricalDistribution(choices=(0.0, 0.01, 0.02, 0.03, 0.04, 0.05, 0.06, 0.07, 0.08, 0.09, 0.1)), 'mutation_rate': CategoricalDistribution(choices=(0.0, 0.01, 0.02, 0.03, 0.04, 0.05, 0.06, 0.07, 0.08, 0.09, 0.1, 0.11, 0.12, 0.13, 0.14, 0.15, 0.16, 0.17, 0.18, 0.19, 0.2, 0.21, 0.22, 0.23, 0.24, 0.25, 0.26, 0.27, 0.28, 0.29, 0.3, 0.31, 0.32, 0.33, 0.34, 0.35000000000000003, 0.36, 0.37, 0.38, 0.39, 0.4, 0.41000000000000003, 0.42, 0.43, 0.44, 0.45, 0.46, 0.47000000000000003, 0.48, 0.49, 0.5, 0.51, 0.52, 0.53, 0.54, 0.55, 0.56, 0.5700000000000001, 0.58, 0.59, 0.6, 0.61, 0.62, 0.63, 0.64, 0.65, 0.66, 0.67, 0.68, 0.6900000000000001, 0.7000000000000001, 0.71, 0.72, 0.73, 0.74, 0.75, 0.76, 0.77, 0.78, 0.79, 0.8, 0.81, 0.8200000000000001, 0.8300000000000001, 0.84, 0.85, 0.86, 0.87, 0.88, 0.89, 0.9, 0.91, 0.92, 0.93, 0.9400000000000001, 0.9500000000000001, 0.96, 0.97, 0.98, 0.99, 1.0)), 'crossover_rate': CategoricalDistribution(choices=(0.0, 0.01, 0.02, 0.03, 0.04, 0.05, 0.06, 0.07, 0.08, 0.09, 0.1, 0.11, 0.12, 0.13, 0.14, 0.15, 0.16, 0.17, 0.18, 0.19, 0.2, 0.21, 0.22, 0.23, 0.24, 0.25, 0.26, 0.27, 0.28, 0.29, 0.3, 0.31, 0.32, 0.33, 0.34, 0.35000000000000003, 0.36, 0.37, 0.38, 0.39, 0.4, 0.41000000000000003, 0.42, 0.43, 0.44, 0.45, 0.46, 0.47000000000000003, 0.48, 0.49, 0.5, 0.51, 0.52, 0.53, 0.54, 0.55, 0.56, 0.5700000000000001, 0.58, 0.59, 0.6, 0.61, 0.62, 0.63, 0.64, 0.65, 0.66, 0.67, 0.68, 0.6900000000000001, 0.7000000000000001, 0.71, 0.72, 0.73, 0.74, 0.75, 0.76, 0.77, 0.78, 0.79, 0.8, 0.81, 0.8200000000000001, 0.8300000000000001, 0.84, 0.85, 0.86, 0.87, 0.88, 0.89, 0.9, 0.91, 0.92, 0.93, 0.9400000000000001, 0.9500000000000001, 0.96, 0.97, 0.98, 0.99, 1.0))}, trial_id=216, value=None)]\n"
     ]
    },
    {
     "name": "stderr",
     "output_type": "stream",
     "text": [
      "Hyperband | Run:  76%|███████▌  | 38/50 [45:55:00<14:28:00, 4340.04s/it]"
     ]
    },
    {
     "name": "stdout",
     "output_type": "stream",
     "text": [
      "Est. true value:\t8.019134315073424\n",
      "Config:\t{'pop_size': 223, 'generations': 500, 'elite_split': 0.18, 'tournament_split': 0.1, 'mutation_rate': 0.6900000000000001, 'crossover_rate': 0.1}\n",
      "Value:\t[FrozenTrial(number=322, state=1, values=[7.415359741467089], datetime_start=datetime.datetime(2025, 8, 3, 14, 43, 37, 821500), datetime_complete=datetime.datetime(2025, 8, 3, 14, 43, 41, 997595), params={'pop_size': 223, 'generations': 500, 'elite_split': 0.18, 'tournament_split': 0.1, 'mutation_rate': 0.6900000000000001, 'crossover_rate': 0.1}, user_attrs={}, system_attrs={'completed_rung_0': 7.415359741467089}, intermediate_values={1: 7.415359741467089}, distributions={'pop_size': CategoricalDistribution(choices=(50, 51, 52, 53, 54, 55, 56, 57, 58, 59, 60, 61, 62, 63, 64, 65, 66, 67, 68, 69, 70, 71, 72, 73, 74, 75, 76, 77, 78, 79, 80, 81, 82, 83, 84, 85, 86, 87, 88, 89, 90, 91, 92, 93, 94, 95, 96, 97, 98, 99, 100, 101, 102, 103, 104, 105, 106, 107, 108, 109, 110, 111, 112, 113, 114, 115, 116, 117, 118, 119, 120, 121, 122, 123, 124, 125, 126, 127, 128, 129, 130, 131, 132, 133, 134, 135, 136, 137, 138, 139, 140, 141, 142, 143, 144, 145, 146, 147, 148, 149, 150, 151, 152, 153, 154, 155, 156, 157, 158, 159, 160, 161, 162, 163, 164, 165, 166, 167, 168, 169, 170, 171, 172, 173, 174, 175, 176, 177, 178, 179, 180, 181, 182, 183, 184, 185, 186, 187, 188, 189, 190, 191, 192, 193, 194, 195, 196, 197, 198, 199, 200, 201, 202, 203, 204, 205, 206, 207, 208, 209, 210, 211, 212, 213, 214, 215, 216, 217, 218, 219, 220, 221, 222, 223, 224, 225, 226, 227, 228, 229, 230, 231, 232, 233, 234, 235, 236, 237, 238, 239, 240, 241, 242, 243, 244, 245, 246, 247, 248, 249, 250)), 'generations': CategoricalDistribution(choices=(100, 200, 300, 400, 500)), 'elite_split': CategoricalDistribution(choices=(0.0, 0.01, 0.02, 0.03, 0.04, 0.05, 0.06, 0.07, 0.08, 0.09, 0.1, 0.11, 0.12, 0.13, 0.14, 0.15, 0.16, 0.17, 0.18, 0.19, 0.2)), 'tournament_split': CategoricalDistribution(choices=(0.0, 0.01, 0.02, 0.03, 0.04, 0.05, 0.06, 0.07, 0.08, 0.09, 0.1)), 'mutation_rate': CategoricalDistribution(choices=(0.0, 0.01, 0.02, 0.03, 0.04, 0.05, 0.06, 0.07, 0.08, 0.09, 0.1, 0.11, 0.12, 0.13, 0.14, 0.15, 0.16, 0.17, 0.18, 0.19, 0.2, 0.21, 0.22, 0.23, 0.24, 0.25, 0.26, 0.27, 0.28, 0.29, 0.3, 0.31, 0.32, 0.33, 0.34, 0.35000000000000003, 0.36, 0.37, 0.38, 0.39, 0.4, 0.41000000000000003, 0.42, 0.43, 0.44, 0.45, 0.46, 0.47000000000000003, 0.48, 0.49, 0.5, 0.51, 0.52, 0.53, 0.54, 0.55, 0.56, 0.5700000000000001, 0.58, 0.59, 0.6, 0.61, 0.62, 0.63, 0.64, 0.65, 0.66, 0.67, 0.68, 0.6900000000000001, 0.7000000000000001, 0.71, 0.72, 0.73, 0.74, 0.75, 0.76, 0.77, 0.78, 0.79, 0.8, 0.81, 0.8200000000000001, 0.8300000000000001, 0.84, 0.85, 0.86, 0.87, 0.88, 0.89, 0.9, 0.91, 0.92, 0.93, 0.9400000000000001, 0.9500000000000001, 0.96, 0.97, 0.98, 0.99, 1.0)), 'crossover_rate': CategoricalDistribution(choices=(0.0, 0.01, 0.02, 0.03, 0.04, 0.05, 0.06, 0.07, 0.08, 0.09, 0.1, 0.11, 0.12, 0.13, 0.14, 0.15, 0.16, 0.17, 0.18, 0.19, 0.2, 0.21, 0.22, 0.23, 0.24, 0.25, 0.26, 0.27, 0.28, 0.29, 0.3, 0.31, 0.32, 0.33, 0.34, 0.35000000000000003, 0.36, 0.37, 0.38, 0.39, 0.4, 0.41000000000000003, 0.42, 0.43, 0.44, 0.45, 0.46, 0.47000000000000003, 0.48, 0.49, 0.5, 0.51, 0.52, 0.53, 0.54, 0.55, 0.56, 0.5700000000000001, 0.58, 0.59, 0.6, 0.61, 0.62, 0.63, 0.64, 0.65, 0.66, 0.67, 0.68, 0.6900000000000001, 0.7000000000000001, 0.71, 0.72, 0.73, 0.74, 0.75, 0.76, 0.77, 0.78, 0.79, 0.8, 0.81, 0.8200000000000001, 0.8300000000000001, 0.84, 0.85, 0.86, 0.87, 0.88, 0.89, 0.9, 0.91, 0.92, 0.93, 0.9400000000000001, 0.9500000000000001, 0.96, 0.97, 0.98, 0.99, 1.0))}, trial_id=322, value=None)]\n"
     ]
    },
    {
     "name": "stderr",
     "output_type": "stream",
     "text": [
      "Hyperband | Run:  78%|███████▊  | 39/50 [47:10:07<13:24:50, 4390.03s/it]"
     ]
    },
    {
     "name": "stdout",
     "output_type": "stream",
     "text": [
      "Est. true value:\t8.004263389659533\n",
      "Config:\t{'pop_size': 245, 'generations': 500, 'elite_split': 0.04, 'tournament_split': 0.09, 'mutation_rate': 0.86, 'crossover_rate': 0.22}\n",
      "Value:\t[FrozenTrial(number=708, state=1, values=[7.417831266577209], datetime_start=datetime.datetime(2025, 8, 3, 16, 14, 3, 350155), datetime_complete=datetime.datetime(2025, 8, 3, 16, 14, 9, 332063), params={'pop_size': 245, 'generations': 500, 'elite_split': 0.04, 'tournament_split': 0.09, 'mutation_rate': 0.86, 'crossover_rate': 0.22}, user_attrs={}, system_attrs={'completed_rung_0': 7.417831266577209}, intermediate_values={1: 7.417831266577209}, distributions={'pop_size': CategoricalDistribution(choices=(50, 51, 52, 53, 54, 55, 56, 57, 58, 59, 60, 61, 62, 63, 64, 65, 66, 67, 68, 69, 70, 71, 72, 73, 74, 75, 76, 77, 78, 79, 80, 81, 82, 83, 84, 85, 86, 87, 88, 89, 90, 91, 92, 93, 94, 95, 96, 97, 98, 99, 100, 101, 102, 103, 104, 105, 106, 107, 108, 109, 110, 111, 112, 113, 114, 115, 116, 117, 118, 119, 120, 121, 122, 123, 124, 125, 126, 127, 128, 129, 130, 131, 132, 133, 134, 135, 136, 137, 138, 139, 140, 141, 142, 143, 144, 145, 146, 147, 148, 149, 150, 151, 152, 153, 154, 155, 156, 157, 158, 159, 160, 161, 162, 163, 164, 165, 166, 167, 168, 169, 170, 171, 172, 173, 174, 175, 176, 177, 178, 179, 180, 181, 182, 183, 184, 185, 186, 187, 188, 189, 190, 191, 192, 193, 194, 195, 196, 197, 198, 199, 200, 201, 202, 203, 204, 205, 206, 207, 208, 209, 210, 211, 212, 213, 214, 215, 216, 217, 218, 219, 220, 221, 222, 223, 224, 225, 226, 227, 228, 229, 230, 231, 232, 233, 234, 235, 236, 237, 238, 239, 240, 241, 242, 243, 244, 245, 246, 247, 248, 249, 250)), 'generations': CategoricalDistribution(choices=(100, 200, 300, 400, 500)), 'elite_split': CategoricalDistribution(choices=(0.0, 0.01, 0.02, 0.03, 0.04, 0.05, 0.06, 0.07, 0.08, 0.09, 0.1, 0.11, 0.12, 0.13, 0.14, 0.15, 0.16, 0.17, 0.18, 0.19, 0.2)), 'tournament_split': CategoricalDistribution(choices=(0.0, 0.01, 0.02, 0.03, 0.04, 0.05, 0.06, 0.07, 0.08, 0.09, 0.1)), 'mutation_rate': CategoricalDistribution(choices=(0.0, 0.01, 0.02, 0.03, 0.04, 0.05, 0.06, 0.07, 0.08, 0.09, 0.1, 0.11, 0.12, 0.13, 0.14, 0.15, 0.16, 0.17, 0.18, 0.19, 0.2, 0.21, 0.22, 0.23, 0.24, 0.25, 0.26, 0.27, 0.28, 0.29, 0.3, 0.31, 0.32, 0.33, 0.34, 0.35000000000000003, 0.36, 0.37, 0.38, 0.39, 0.4, 0.41000000000000003, 0.42, 0.43, 0.44, 0.45, 0.46, 0.47000000000000003, 0.48, 0.49, 0.5, 0.51, 0.52, 0.53, 0.54, 0.55, 0.56, 0.5700000000000001, 0.58, 0.59, 0.6, 0.61, 0.62, 0.63, 0.64, 0.65, 0.66, 0.67, 0.68, 0.6900000000000001, 0.7000000000000001, 0.71, 0.72, 0.73, 0.74, 0.75, 0.76, 0.77, 0.78, 0.79, 0.8, 0.81, 0.8200000000000001, 0.8300000000000001, 0.84, 0.85, 0.86, 0.87, 0.88, 0.89, 0.9, 0.91, 0.92, 0.93, 0.9400000000000001, 0.9500000000000001, 0.96, 0.97, 0.98, 0.99, 1.0)), 'crossover_rate': CategoricalDistribution(choices=(0.0, 0.01, 0.02, 0.03, 0.04, 0.05, 0.06, 0.07, 0.08, 0.09, 0.1, 0.11, 0.12, 0.13, 0.14, 0.15, 0.16, 0.17, 0.18, 0.19, 0.2, 0.21, 0.22, 0.23, 0.24, 0.25, 0.26, 0.27, 0.28, 0.29, 0.3, 0.31, 0.32, 0.33, 0.34, 0.35000000000000003, 0.36, 0.37, 0.38, 0.39, 0.4, 0.41000000000000003, 0.42, 0.43, 0.44, 0.45, 0.46, 0.47000000000000003, 0.48, 0.49, 0.5, 0.51, 0.52, 0.53, 0.54, 0.55, 0.56, 0.5700000000000001, 0.58, 0.59, 0.6, 0.61, 0.62, 0.63, 0.64, 0.65, 0.66, 0.67, 0.68, 0.6900000000000001, 0.7000000000000001, 0.71, 0.72, 0.73, 0.74, 0.75, 0.76, 0.77, 0.78, 0.79, 0.8, 0.81, 0.8200000000000001, 0.8300000000000001, 0.84, 0.85, 0.86, 0.87, 0.88, 0.89, 0.9, 0.91, 0.92, 0.93, 0.9400000000000001, 0.9500000000000001, 0.96, 0.97, 0.98, 0.99, 1.0))}, trial_id=708, value=None)]\n"
     ]
    },
    {
     "name": "stderr",
     "output_type": "stream",
     "text": [
      "Hyperband | Run:  80%|████████  | 40/50 [48:40:16<13:02:37, 4695.71s/it]"
     ]
    },
    {
     "name": "stdout",
     "output_type": "stream",
     "text": [
      "Est. true value:\t7.9900282986357265\n",
      "Config:\t{'pop_size': 245, 'generations': 500, 'elite_split': 0.06, 'tournament_split': 0.09, 'mutation_rate': 0.98, 'crossover_rate': 0.34}\n",
      "Value:\t[FrozenTrial(number=479, state=1, values=[7.5136708630236955], datetime_start=datetime.datetime(2025, 8, 3, 17, 35, 25, 122276), datetime_complete=datetime.datetime(2025, 8, 3, 17, 35, 31, 488462), params={'pop_size': 245, 'generations': 500, 'elite_split': 0.06, 'tournament_split': 0.09, 'mutation_rate': 0.98, 'crossover_rate': 0.34}, user_attrs={}, system_attrs={'completed_rung_0': 7.5136708630236955}, intermediate_values={1: 7.5136708630236955}, distributions={'pop_size': CategoricalDistribution(choices=(50, 51, 52, 53, 54, 55, 56, 57, 58, 59, 60, 61, 62, 63, 64, 65, 66, 67, 68, 69, 70, 71, 72, 73, 74, 75, 76, 77, 78, 79, 80, 81, 82, 83, 84, 85, 86, 87, 88, 89, 90, 91, 92, 93, 94, 95, 96, 97, 98, 99, 100, 101, 102, 103, 104, 105, 106, 107, 108, 109, 110, 111, 112, 113, 114, 115, 116, 117, 118, 119, 120, 121, 122, 123, 124, 125, 126, 127, 128, 129, 130, 131, 132, 133, 134, 135, 136, 137, 138, 139, 140, 141, 142, 143, 144, 145, 146, 147, 148, 149, 150, 151, 152, 153, 154, 155, 156, 157, 158, 159, 160, 161, 162, 163, 164, 165, 166, 167, 168, 169, 170, 171, 172, 173, 174, 175, 176, 177, 178, 179, 180, 181, 182, 183, 184, 185, 186, 187, 188, 189, 190, 191, 192, 193, 194, 195, 196, 197, 198, 199, 200, 201, 202, 203, 204, 205, 206, 207, 208, 209, 210, 211, 212, 213, 214, 215, 216, 217, 218, 219, 220, 221, 222, 223, 224, 225, 226, 227, 228, 229, 230, 231, 232, 233, 234, 235, 236, 237, 238, 239, 240, 241, 242, 243, 244, 245, 246, 247, 248, 249, 250)), 'generations': CategoricalDistribution(choices=(100, 200, 300, 400, 500)), 'elite_split': CategoricalDistribution(choices=(0.0, 0.01, 0.02, 0.03, 0.04, 0.05, 0.06, 0.07, 0.08, 0.09, 0.1, 0.11, 0.12, 0.13, 0.14, 0.15, 0.16, 0.17, 0.18, 0.19, 0.2)), 'tournament_split': CategoricalDistribution(choices=(0.0, 0.01, 0.02, 0.03, 0.04, 0.05, 0.06, 0.07, 0.08, 0.09, 0.1)), 'mutation_rate': CategoricalDistribution(choices=(0.0, 0.01, 0.02, 0.03, 0.04, 0.05, 0.06, 0.07, 0.08, 0.09, 0.1, 0.11, 0.12, 0.13, 0.14, 0.15, 0.16, 0.17, 0.18, 0.19, 0.2, 0.21, 0.22, 0.23, 0.24, 0.25, 0.26, 0.27, 0.28, 0.29, 0.3, 0.31, 0.32, 0.33, 0.34, 0.35000000000000003, 0.36, 0.37, 0.38, 0.39, 0.4, 0.41000000000000003, 0.42, 0.43, 0.44, 0.45, 0.46, 0.47000000000000003, 0.48, 0.49, 0.5, 0.51, 0.52, 0.53, 0.54, 0.55, 0.56, 0.5700000000000001, 0.58, 0.59, 0.6, 0.61, 0.62, 0.63, 0.64, 0.65, 0.66, 0.67, 0.68, 0.6900000000000001, 0.7000000000000001, 0.71, 0.72, 0.73, 0.74, 0.75, 0.76, 0.77, 0.78, 0.79, 0.8, 0.81, 0.8200000000000001, 0.8300000000000001, 0.84, 0.85, 0.86, 0.87, 0.88, 0.89, 0.9, 0.91, 0.92, 0.93, 0.9400000000000001, 0.9500000000000001, 0.96, 0.97, 0.98, 0.99, 1.0)), 'crossover_rate': CategoricalDistribution(choices=(0.0, 0.01, 0.02, 0.03, 0.04, 0.05, 0.06, 0.07, 0.08, 0.09, 0.1, 0.11, 0.12, 0.13, 0.14, 0.15, 0.16, 0.17, 0.18, 0.19, 0.2, 0.21, 0.22, 0.23, 0.24, 0.25, 0.26, 0.27, 0.28, 0.29, 0.3, 0.31, 0.32, 0.33, 0.34, 0.35000000000000003, 0.36, 0.37, 0.38, 0.39, 0.4, 0.41000000000000003, 0.42, 0.43, 0.44, 0.45, 0.46, 0.47000000000000003, 0.48, 0.49, 0.5, 0.51, 0.52, 0.53, 0.54, 0.55, 0.56, 0.5700000000000001, 0.58, 0.59, 0.6, 0.61, 0.62, 0.63, 0.64, 0.65, 0.66, 0.67, 0.68, 0.6900000000000001, 0.7000000000000001, 0.71, 0.72, 0.73, 0.74, 0.75, 0.76, 0.77, 0.78, 0.79, 0.8, 0.81, 0.8200000000000001, 0.8300000000000001, 0.84, 0.85, 0.86, 0.87, 0.88, 0.89, 0.9, 0.91, 0.92, 0.93, 0.9400000000000001, 0.9500000000000001, 0.96, 0.97, 0.98, 0.99, 1.0))}, trial_id=479, value=None)]\n"
     ]
    },
    {
     "name": "stderr",
     "output_type": "stream",
     "text": [
      "Hyperband | Run:  82%|████████▏ | 41/50 [50:13:16<12:24:09, 4961.01s/it]"
     ]
    },
    {
     "name": "stdout",
     "output_type": "stream",
     "text": [
      "Est. true value:\t8.017647473031099\n",
      "Config:\t{'pop_size': 167, 'generations': 400, 'elite_split': 0.1, 'tournament_split': 0.1, 'mutation_rate': 0.78, 'crossover_rate': 0.2}\n",
      "Value:\t[FrozenTrial(number=550, state=1, values=[7.551249739087478], datetime_start=datetime.datetime(2025, 8, 3, 19, 9, 6, 404428), datetime_complete=datetime.datetime(2025, 8, 3, 19, 9, 8, 416514), params={'pop_size': 167, 'generations': 400, 'elite_split': 0.1, 'tournament_split': 0.1, 'mutation_rate': 0.78, 'crossover_rate': 0.2}, user_attrs={}, system_attrs={'completed_rung_0': 7.551249739087478}, intermediate_values={1: 7.551249739087478}, distributions={'pop_size': CategoricalDistribution(choices=(50, 51, 52, 53, 54, 55, 56, 57, 58, 59, 60, 61, 62, 63, 64, 65, 66, 67, 68, 69, 70, 71, 72, 73, 74, 75, 76, 77, 78, 79, 80, 81, 82, 83, 84, 85, 86, 87, 88, 89, 90, 91, 92, 93, 94, 95, 96, 97, 98, 99, 100, 101, 102, 103, 104, 105, 106, 107, 108, 109, 110, 111, 112, 113, 114, 115, 116, 117, 118, 119, 120, 121, 122, 123, 124, 125, 126, 127, 128, 129, 130, 131, 132, 133, 134, 135, 136, 137, 138, 139, 140, 141, 142, 143, 144, 145, 146, 147, 148, 149, 150, 151, 152, 153, 154, 155, 156, 157, 158, 159, 160, 161, 162, 163, 164, 165, 166, 167, 168, 169, 170, 171, 172, 173, 174, 175, 176, 177, 178, 179, 180, 181, 182, 183, 184, 185, 186, 187, 188, 189, 190, 191, 192, 193, 194, 195, 196, 197, 198, 199, 200, 201, 202, 203, 204, 205, 206, 207, 208, 209, 210, 211, 212, 213, 214, 215, 216, 217, 218, 219, 220, 221, 222, 223, 224, 225, 226, 227, 228, 229, 230, 231, 232, 233, 234, 235, 236, 237, 238, 239, 240, 241, 242, 243, 244, 245, 246, 247, 248, 249, 250)), 'generations': CategoricalDistribution(choices=(100, 200, 300, 400, 500)), 'elite_split': CategoricalDistribution(choices=(0.0, 0.01, 0.02, 0.03, 0.04, 0.05, 0.06, 0.07, 0.08, 0.09, 0.1, 0.11, 0.12, 0.13, 0.14, 0.15, 0.16, 0.17, 0.18, 0.19, 0.2)), 'tournament_split': CategoricalDistribution(choices=(0.0, 0.01, 0.02, 0.03, 0.04, 0.05, 0.06, 0.07, 0.08, 0.09, 0.1)), 'mutation_rate': CategoricalDistribution(choices=(0.0, 0.01, 0.02, 0.03, 0.04, 0.05, 0.06, 0.07, 0.08, 0.09, 0.1, 0.11, 0.12, 0.13, 0.14, 0.15, 0.16, 0.17, 0.18, 0.19, 0.2, 0.21, 0.22, 0.23, 0.24, 0.25, 0.26, 0.27, 0.28, 0.29, 0.3, 0.31, 0.32, 0.33, 0.34, 0.35000000000000003, 0.36, 0.37, 0.38, 0.39, 0.4, 0.41000000000000003, 0.42, 0.43, 0.44, 0.45, 0.46, 0.47000000000000003, 0.48, 0.49, 0.5, 0.51, 0.52, 0.53, 0.54, 0.55, 0.56, 0.5700000000000001, 0.58, 0.59, 0.6, 0.61, 0.62, 0.63, 0.64, 0.65, 0.66, 0.67, 0.68, 0.6900000000000001, 0.7000000000000001, 0.71, 0.72, 0.73, 0.74, 0.75, 0.76, 0.77, 0.78, 0.79, 0.8, 0.81, 0.8200000000000001, 0.8300000000000001, 0.84, 0.85, 0.86, 0.87, 0.88, 0.89, 0.9, 0.91, 0.92, 0.93, 0.9400000000000001, 0.9500000000000001, 0.96, 0.97, 0.98, 0.99, 1.0)), 'crossover_rate': CategoricalDistribution(choices=(0.0, 0.01, 0.02, 0.03, 0.04, 0.05, 0.06, 0.07, 0.08, 0.09, 0.1, 0.11, 0.12, 0.13, 0.14, 0.15, 0.16, 0.17, 0.18, 0.19, 0.2, 0.21, 0.22, 0.23, 0.24, 0.25, 0.26, 0.27, 0.28, 0.29, 0.3, 0.31, 0.32, 0.33, 0.34, 0.35000000000000003, 0.36, 0.37, 0.38, 0.39, 0.4, 0.41000000000000003, 0.42, 0.43, 0.44, 0.45, 0.46, 0.47000000000000003, 0.48, 0.49, 0.5, 0.51, 0.52, 0.53, 0.54, 0.55, 0.56, 0.5700000000000001, 0.58, 0.59, 0.6, 0.61, 0.62, 0.63, 0.64, 0.65, 0.66, 0.67, 0.68, 0.6900000000000001, 0.7000000000000001, 0.71, 0.72, 0.73, 0.74, 0.75, 0.76, 0.77, 0.78, 0.79, 0.8, 0.81, 0.8200000000000001, 0.8300000000000001, 0.84, 0.85, 0.86, 0.87, 0.88, 0.89, 0.9, 0.91, 0.92, 0.93, 0.9400000000000001, 0.9500000000000001, 0.96, 0.97, 0.98, 0.99, 1.0))}, trial_id=550, value=None)]\n"
     ]
    },
    {
     "name": "stderr",
     "output_type": "stream",
     "text": [
      "Hyperband | Run:  84%|████████▍ | 42/50 [51:06:19<9:50:20, 4427.58s/it] "
     ]
    },
    {
     "name": "stdout",
     "output_type": "stream",
     "text": [
      "Est. true value:\t8.302911933983571\n",
      "Config:\t{'pop_size': 245, 'generations': 500, 'elite_split': 0.05, 'tournament_split': 0.1, 'mutation_rate': 0.67, 'crossover_rate': 0.19}\n",
      "Value:\t[FrozenTrial(number=863, state=1, values=[7.39188204325339], datetime_start=datetime.datetime(2025, 8, 3, 20, 16, 31, 673085), datetime_complete=datetime.datetime(2025, 8, 3, 20, 16, 36, 206640), params={'pop_size': 245, 'generations': 500, 'elite_split': 0.05, 'tournament_split': 0.1, 'mutation_rate': 0.67, 'crossover_rate': 0.19}, user_attrs={}, system_attrs={'completed_rung_0': 7.39188204325339}, intermediate_values={1: 7.39188204325339}, distributions={'pop_size': CategoricalDistribution(choices=(50, 51, 52, 53, 54, 55, 56, 57, 58, 59, 60, 61, 62, 63, 64, 65, 66, 67, 68, 69, 70, 71, 72, 73, 74, 75, 76, 77, 78, 79, 80, 81, 82, 83, 84, 85, 86, 87, 88, 89, 90, 91, 92, 93, 94, 95, 96, 97, 98, 99, 100, 101, 102, 103, 104, 105, 106, 107, 108, 109, 110, 111, 112, 113, 114, 115, 116, 117, 118, 119, 120, 121, 122, 123, 124, 125, 126, 127, 128, 129, 130, 131, 132, 133, 134, 135, 136, 137, 138, 139, 140, 141, 142, 143, 144, 145, 146, 147, 148, 149, 150, 151, 152, 153, 154, 155, 156, 157, 158, 159, 160, 161, 162, 163, 164, 165, 166, 167, 168, 169, 170, 171, 172, 173, 174, 175, 176, 177, 178, 179, 180, 181, 182, 183, 184, 185, 186, 187, 188, 189, 190, 191, 192, 193, 194, 195, 196, 197, 198, 199, 200, 201, 202, 203, 204, 205, 206, 207, 208, 209, 210, 211, 212, 213, 214, 215, 216, 217, 218, 219, 220, 221, 222, 223, 224, 225, 226, 227, 228, 229, 230, 231, 232, 233, 234, 235, 236, 237, 238, 239, 240, 241, 242, 243, 244, 245, 246, 247, 248, 249, 250)), 'generations': CategoricalDistribution(choices=(100, 200, 300, 400, 500)), 'elite_split': CategoricalDistribution(choices=(0.0, 0.01, 0.02, 0.03, 0.04, 0.05, 0.06, 0.07, 0.08, 0.09, 0.1, 0.11, 0.12, 0.13, 0.14, 0.15, 0.16, 0.17, 0.18, 0.19, 0.2)), 'tournament_split': CategoricalDistribution(choices=(0.0, 0.01, 0.02, 0.03, 0.04, 0.05, 0.06, 0.07, 0.08, 0.09, 0.1)), 'mutation_rate': CategoricalDistribution(choices=(0.0, 0.01, 0.02, 0.03, 0.04, 0.05, 0.06, 0.07, 0.08, 0.09, 0.1, 0.11, 0.12, 0.13, 0.14, 0.15, 0.16, 0.17, 0.18, 0.19, 0.2, 0.21, 0.22, 0.23, 0.24, 0.25, 0.26, 0.27, 0.28, 0.29, 0.3, 0.31, 0.32, 0.33, 0.34, 0.35000000000000003, 0.36, 0.37, 0.38, 0.39, 0.4, 0.41000000000000003, 0.42, 0.43, 0.44, 0.45, 0.46, 0.47000000000000003, 0.48, 0.49, 0.5, 0.51, 0.52, 0.53, 0.54, 0.55, 0.56, 0.5700000000000001, 0.58, 0.59, 0.6, 0.61, 0.62, 0.63, 0.64, 0.65, 0.66, 0.67, 0.68, 0.6900000000000001, 0.7000000000000001, 0.71, 0.72, 0.73, 0.74, 0.75, 0.76, 0.77, 0.78, 0.79, 0.8, 0.81, 0.8200000000000001, 0.8300000000000001, 0.84, 0.85, 0.86, 0.87, 0.88, 0.89, 0.9, 0.91, 0.92, 0.93, 0.9400000000000001, 0.9500000000000001, 0.96, 0.97, 0.98, 0.99, 1.0)), 'crossover_rate': CategoricalDistribution(choices=(0.0, 0.01, 0.02, 0.03, 0.04, 0.05, 0.06, 0.07, 0.08, 0.09, 0.1, 0.11, 0.12, 0.13, 0.14, 0.15, 0.16, 0.17, 0.18, 0.19, 0.2, 0.21, 0.22, 0.23, 0.24, 0.25, 0.26, 0.27, 0.28, 0.29, 0.3, 0.31, 0.32, 0.33, 0.34, 0.35000000000000003, 0.36, 0.37, 0.38, 0.39, 0.4, 0.41000000000000003, 0.42, 0.43, 0.44, 0.45, 0.46, 0.47000000000000003, 0.48, 0.49, 0.5, 0.51, 0.52, 0.53, 0.54, 0.55, 0.56, 0.5700000000000001, 0.58, 0.59, 0.6, 0.61, 0.62, 0.63, 0.64, 0.65, 0.66, 0.67, 0.68, 0.6900000000000001, 0.7000000000000001, 0.71, 0.72, 0.73, 0.74, 0.75, 0.76, 0.77, 0.78, 0.79, 0.8, 0.81, 0.8200000000000001, 0.8300000000000001, 0.84, 0.85, 0.86, 0.87, 0.88, 0.89, 0.9, 0.91, 0.92, 0.93, 0.9400000000000001, 0.9500000000000001, 0.96, 0.97, 0.98, 0.99, 1.0))}, trial_id=863, value=None)]\n"
     ]
    },
    {
     "name": "stderr",
     "output_type": "stream",
     "text": [
      "Hyperband | Run:  86%|████████▌ | 43/50 [52:23:56<8:44:34, 4496.36s/it]"
     ]
    },
    {
     "name": "stdout",
     "output_type": "stream",
     "text": [
      "Est. true value:\t7.989767866986442\n",
      "Config:\t{'pop_size': 201, 'generations': 500, 'elite_split': 0.08, 'tournament_split': 0.08, 'mutation_rate': 0.88, 'crossover_rate': 0.03}\n",
      "Value:\t[FrozenTrial(number=931, state=1, values=[7.4339434315322945], datetime_start=datetime.datetime(2025, 8, 3, 21, 38, 1, 443142), datetime_complete=datetime.datetime(2025, 8, 3, 21, 38, 4, 674817), params={'pop_size': 201, 'generations': 500, 'elite_split': 0.08, 'tournament_split': 0.08, 'mutation_rate': 0.88, 'crossover_rate': 0.03}, user_attrs={}, system_attrs={'completed_rung_0': 7.4339434315322945}, intermediate_values={1: 7.4339434315322945}, distributions={'pop_size': CategoricalDistribution(choices=(50, 51, 52, 53, 54, 55, 56, 57, 58, 59, 60, 61, 62, 63, 64, 65, 66, 67, 68, 69, 70, 71, 72, 73, 74, 75, 76, 77, 78, 79, 80, 81, 82, 83, 84, 85, 86, 87, 88, 89, 90, 91, 92, 93, 94, 95, 96, 97, 98, 99, 100, 101, 102, 103, 104, 105, 106, 107, 108, 109, 110, 111, 112, 113, 114, 115, 116, 117, 118, 119, 120, 121, 122, 123, 124, 125, 126, 127, 128, 129, 130, 131, 132, 133, 134, 135, 136, 137, 138, 139, 140, 141, 142, 143, 144, 145, 146, 147, 148, 149, 150, 151, 152, 153, 154, 155, 156, 157, 158, 159, 160, 161, 162, 163, 164, 165, 166, 167, 168, 169, 170, 171, 172, 173, 174, 175, 176, 177, 178, 179, 180, 181, 182, 183, 184, 185, 186, 187, 188, 189, 190, 191, 192, 193, 194, 195, 196, 197, 198, 199, 200, 201, 202, 203, 204, 205, 206, 207, 208, 209, 210, 211, 212, 213, 214, 215, 216, 217, 218, 219, 220, 221, 222, 223, 224, 225, 226, 227, 228, 229, 230, 231, 232, 233, 234, 235, 236, 237, 238, 239, 240, 241, 242, 243, 244, 245, 246, 247, 248, 249, 250)), 'generations': CategoricalDistribution(choices=(100, 200, 300, 400, 500)), 'elite_split': CategoricalDistribution(choices=(0.0, 0.01, 0.02, 0.03, 0.04, 0.05, 0.06, 0.07, 0.08, 0.09, 0.1, 0.11, 0.12, 0.13, 0.14, 0.15, 0.16, 0.17, 0.18, 0.19, 0.2)), 'tournament_split': CategoricalDistribution(choices=(0.0, 0.01, 0.02, 0.03, 0.04, 0.05, 0.06, 0.07, 0.08, 0.09, 0.1)), 'mutation_rate': CategoricalDistribution(choices=(0.0, 0.01, 0.02, 0.03, 0.04, 0.05, 0.06, 0.07, 0.08, 0.09, 0.1, 0.11, 0.12, 0.13, 0.14, 0.15, 0.16, 0.17, 0.18, 0.19, 0.2, 0.21, 0.22, 0.23, 0.24, 0.25, 0.26, 0.27, 0.28, 0.29, 0.3, 0.31, 0.32, 0.33, 0.34, 0.35000000000000003, 0.36, 0.37, 0.38, 0.39, 0.4, 0.41000000000000003, 0.42, 0.43, 0.44, 0.45, 0.46, 0.47000000000000003, 0.48, 0.49, 0.5, 0.51, 0.52, 0.53, 0.54, 0.55, 0.56, 0.5700000000000001, 0.58, 0.59, 0.6, 0.61, 0.62, 0.63, 0.64, 0.65, 0.66, 0.67, 0.68, 0.6900000000000001, 0.7000000000000001, 0.71, 0.72, 0.73, 0.74, 0.75, 0.76, 0.77, 0.78, 0.79, 0.8, 0.81, 0.8200000000000001, 0.8300000000000001, 0.84, 0.85, 0.86, 0.87, 0.88, 0.89, 0.9, 0.91, 0.92, 0.93, 0.9400000000000001, 0.9500000000000001, 0.96, 0.97, 0.98, 0.99, 1.0)), 'crossover_rate': CategoricalDistribution(choices=(0.0, 0.01, 0.02, 0.03, 0.04, 0.05, 0.06, 0.07, 0.08, 0.09, 0.1, 0.11, 0.12, 0.13, 0.14, 0.15, 0.16, 0.17, 0.18, 0.19, 0.2, 0.21, 0.22, 0.23, 0.24, 0.25, 0.26, 0.27, 0.28, 0.29, 0.3, 0.31, 0.32, 0.33, 0.34, 0.35000000000000003, 0.36, 0.37, 0.38, 0.39, 0.4, 0.41000000000000003, 0.42, 0.43, 0.44, 0.45, 0.46, 0.47000000000000003, 0.48, 0.49, 0.5, 0.51, 0.52, 0.53, 0.54, 0.55, 0.56, 0.5700000000000001, 0.58, 0.59, 0.6, 0.61, 0.62, 0.63, 0.64, 0.65, 0.66, 0.67, 0.68, 0.6900000000000001, 0.7000000000000001, 0.71, 0.72, 0.73, 0.74, 0.75, 0.76, 0.77, 0.78, 0.79, 0.8, 0.81, 0.8200000000000001, 0.8300000000000001, 0.84, 0.85, 0.86, 0.87, 0.88, 0.89, 0.9, 0.91, 0.92, 0.93, 0.9400000000000001, 0.9500000000000001, 0.96, 0.97, 0.98, 0.99, 1.0))}, trial_id=931, value=None)]\n"
     ]
    },
    {
     "name": "stderr",
     "output_type": "stream",
     "text": [
      "Hyperband | Run:  88%|████████▊ | 44/50 [53:30:56<7:15:20, 4353.44s/it]"
     ]
    },
    {
     "name": "stdout",
     "output_type": "stream",
     "text": [
      "Est. true value:\t7.998844178353994\n",
      "Config:\t{'pop_size': 249, 'generations': 400, 'elite_split': 0.01, 'tournament_split': 0.1, 'mutation_rate': 0.96, 'crossover_rate': 0.2}\n",
      "Value:\t[FrozenTrial(number=426, state=1, values=[7.490141803243524], datetime_start=datetime.datetime(2025, 8, 3, 22, 23, 9, 936703), datetime_complete=datetime.datetime(2025, 8, 3, 22, 23, 14, 205355), params={'pop_size': 249, 'generations': 400, 'elite_split': 0.01, 'tournament_split': 0.1, 'mutation_rate': 0.96, 'crossover_rate': 0.2}, user_attrs={}, system_attrs={'completed_rung_0': 7.490141803243524}, intermediate_values={1: 7.490141803243524}, distributions={'pop_size': CategoricalDistribution(choices=(50, 51, 52, 53, 54, 55, 56, 57, 58, 59, 60, 61, 62, 63, 64, 65, 66, 67, 68, 69, 70, 71, 72, 73, 74, 75, 76, 77, 78, 79, 80, 81, 82, 83, 84, 85, 86, 87, 88, 89, 90, 91, 92, 93, 94, 95, 96, 97, 98, 99, 100, 101, 102, 103, 104, 105, 106, 107, 108, 109, 110, 111, 112, 113, 114, 115, 116, 117, 118, 119, 120, 121, 122, 123, 124, 125, 126, 127, 128, 129, 130, 131, 132, 133, 134, 135, 136, 137, 138, 139, 140, 141, 142, 143, 144, 145, 146, 147, 148, 149, 150, 151, 152, 153, 154, 155, 156, 157, 158, 159, 160, 161, 162, 163, 164, 165, 166, 167, 168, 169, 170, 171, 172, 173, 174, 175, 176, 177, 178, 179, 180, 181, 182, 183, 184, 185, 186, 187, 188, 189, 190, 191, 192, 193, 194, 195, 196, 197, 198, 199, 200, 201, 202, 203, 204, 205, 206, 207, 208, 209, 210, 211, 212, 213, 214, 215, 216, 217, 218, 219, 220, 221, 222, 223, 224, 225, 226, 227, 228, 229, 230, 231, 232, 233, 234, 235, 236, 237, 238, 239, 240, 241, 242, 243, 244, 245, 246, 247, 248, 249, 250)), 'generations': CategoricalDistribution(choices=(100, 200, 300, 400, 500)), 'elite_split': CategoricalDistribution(choices=(0.0, 0.01, 0.02, 0.03, 0.04, 0.05, 0.06, 0.07, 0.08, 0.09, 0.1, 0.11, 0.12, 0.13, 0.14, 0.15, 0.16, 0.17, 0.18, 0.19, 0.2)), 'tournament_split': CategoricalDistribution(choices=(0.0, 0.01, 0.02, 0.03, 0.04, 0.05, 0.06, 0.07, 0.08, 0.09, 0.1)), 'mutation_rate': CategoricalDistribution(choices=(0.0, 0.01, 0.02, 0.03, 0.04, 0.05, 0.06, 0.07, 0.08, 0.09, 0.1, 0.11, 0.12, 0.13, 0.14, 0.15, 0.16, 0.17, 0.18, 0.19, 0.2, 0.21, 0.22, 0.23, 0.24, 0.25, 0.26, 0.27, 0.28, 0.29, 0.3, 0.31, 0.32, 0.33, 0.34, 0.35000000000000003, 0.36, 0.37, 0.38, 0.39, 0.4, 0.41000000000000003, 0.42, 0.43, 0.44, 0.45, 0.46, 0.47000000000000003, 0.48, 0.49, 0.5, 0.51, 0.52, 0.53, 0.54, 0.55, 0.56, 0.5700000000000001, 0.58, 0.59, 0.6, 0.61, 0.62, 0.63, 0.64, 0.65, 0.66, 0.67, 0.68, 0.6900000000000001, 0.7000000000000001, 0.71, 0.72, 0.73, 0.74, 0.75, 0.76, 0.77, 0.78, 0.79, 0.8, 0.81, 0.8200000000000001, 0.8300000000000001, 0.84, 0.85, 0.86, 0.87, 0.88, 0.89, 0.9, 0.91, 0.92, 0.93, 0.9400000000000001, 0.9500000000000001, 0.96, 0.97, 0.98, 0.99, 1.0)), 'crossover_rate': CategoricalDistribution(choices=(0.0, 0.01, 0.02, 0.03, 0.04, 0.05, 0.06, 0.07, 0.08, 0.09, 0.1, 0.11, 0.12, 0.13, 0.14, 0.15, 0.16, 0.17, 0.18, 0.19, 0.2, 0.21, 0.22, 0.23, 0.24, 0.25, 0.26, 0.27, 0.28, 0.29, 0.3, 0.31, 0.32, 0.33, 0.34, 0.35000000000000003, 0.36, 0.37, 0.38, 0.39, 0.4, 0.41000000000000003, 0.42, 0.43, 0.44, 0.45, 0.46, 0.47000000000000003, 0.48, 0.49, 0.5, 0.51, 0.52, 0.53, 0.54, 0.55, 0.56, 0.5700000000000001, 0.58, 0.59, 0.6, 0.61, 0.62, 0.63, 0.64, 0.65, 0.66, 0.67, 0.68, 0.6900000000000001, 0.7000000000000001, 0.71, 0.72, 0.73, 0.74, 0.75, 0.76, 0.77, 0.78, 0.79, 0.8, 0.81, 0.8200000000000001, 0.8300000000000001, 0.84, 0.85, 0.86, 0.87, 0.88, 0.89, 0.9, 0.91, 0.92, 0.93, 0.9400000000000001, 0.9500000000000001, 0.96, 0.97, 0.98, 0.99, 1.0))}, trial_id=426, value=None)]\n"
     ]
    },
    {
     "name": "stderr",
     "output_type": "stream",
     "text": [
      "Hyperband | Run:  90%|█████████ | 45/50 [54:43:31<6:02:49, 4353.84s/it]"
     ]
    },
    {
     "name": "stdout",
     "output_type": "stream",
     "text": [
      "Est. true value:\t8.110621167948885\n",
      "Config:\t{'pop_size': 180, 'generations': 500, 'elite_split': 0.01, 'tournament_split': 0.09, 'mutation_rate': 0.8, 'crossover_rate': 0.02}\n",
      "Value:\t[FrozenTrial(number=638, state=1, values=[7.393169023756872], datetime_start=datetime.datetime(2025, 8, 3, 23, 43, 38, 600717), datetime_complete=datetime.datetime(2025, 8, 3, 23, 43, 41, 426887), params={'pop_size': 180, 'generations': 500, 'elite_split': 0.01, 'tournament_split': 0.09, 'mutation_rate': 0.8, 'crossover_rate': 0.02}, user_attrs={}, system_attrs={'completed_rung_0': 7.393169023756872}, intermediate_values={1: 7.393169023756872}, distributions={'pop_size': CategoricalDistribution(choices=(50, 51, 52, 53, 54, 55, 56, 57, 58, 59, 60, 61, 62, 63, 64, 65, 66, 67, 68, 69, 70, 71, 72, 73, 74, 75, 76, 77, 78, 79, 80, 81, 82, 83, 84, 85, 86, 87, 88, 89, 90, 91, 92, 93, 94, 95, 96, 97, 98, 99, 100, 101, 102, 103, 104, 105, 106, 107, 108, 109, 110, 111, 112, 113, 114, 115, 116, 117, 118, 119, 120, 121, 122, 123, 124, 125, 126, 127, 128, 129, 130, 131, 132, 133, 134, 135, 136, 137, 138, 139, 140, 141, 142, 143, 144, 145, 146, 147, 148, 149, 150, 151, 152, 153, 154, 155, 156, 157, 158, 159, 160, 161, 162, 163, 164, 165, 166, 167, 168, 169, 170, 171, 172, 173, 174, 175, 176, 177, 178, 179, 180, 181, 182, 183, 184, 185, 186, 187, 188, 189, 190, 191, 192, 193, 194, 195, 196, 197, 198, 199, 200, 201, 202, 203, 204, 205, 206, 207, 208, 209, 210, 211, 212, 213, 214, 215, 216, 217, 218, 219, 220, 221, 222, 223, 224, 225, 226, 227, 228, 229, 230, 231, 232, 233, 234, 235, 236, 237, 238, 239, 240, 241, 242, 243, 244, 245, 246, 247, 248, 249, 250)), 'generations': CategoricalDistribution(choices=(100, 200, 300, 400, 500)), 'elite_split': CategoricalDistribution(choices=(0.0, 0.01, 0.02, 0.03, 0.04, 0.05, 0.06, 0.07, 0.08, 0.09, 0.1, 0.11, 0.12, 0.13, 0.14, 0.15, 0.16, 0.17, 0.18, 0.19, 0.2)), 'tournament_split': CategoricalDistribution(choices=(0.0, 0.01, 0.02, 0.03, 0.04, 0.05, 0.06, 0.07, 0.08, 0.09, 0.1)), 'mutation_rate': CategoricalDistribution(choices=(0.0, 0.01, 0.02, 0.03, 0.04, 0.05, 0.06, 0.07, 0.08, 0.09, 0.1, 0.11, 0.12, 0.13, 0.14, 0.15, 0.16, 0.17, 0.18, 0.19, 0.2, 0.21, 0.22, 0.23, 0.24, 0.25, 0.26, 0.27, 0.28, 0.29, 0.3, 0.31, 0.32, 0.33, 0.34, 0.35000000000000003, 0.36, 0.37, 0.38, 0.39, 0.4, 0.41000000000000003, 0.42, 0.43, 0.44, 0.45, 0.46, 0.47000000000000003, 0.48, 0.49, 0.5, 0.51, 0.52, 0.53, 0.54, 0.55, 0.56, 0.5700000000000001, 0.58, 0.59, 0.6, 0.61, 0.62, 0.63, 0.64, 0.65, 0.66, 0.67, 0.68, 0.6900000000000001, 0.7000000000000001, 0.71, 0.72, 0.73, 0.74, 0.75, 0.76, 0.77, 0.78, 0.79, 0.8, 0.81, 0.8200000000000001, 0.8300000000000001, 0.84, 0.85, 0.86, 0.87, 0.88, 0.89, 0.9, 0.91, 0.92, 0.93, 0.9400000000000001, 0.9500000000000001, 0.96, 0.97, 0.98, 0.99, 1.0)), 'crossover_rate': CategoricalDistribution(choices=(0.0, 0.01, 0.02, 0.03, 0.04, 0.05, 0.06, 0.07, 0.08, 0.09, 0.1, 0.11, 0.12, 0.13, 0.14, 0.15, 0.16, 0.17, 0.18, 0.19, 0.2, 0.21, 0.22, 0.23, 0.24, 0.25, 0.26, 0.27, 0.28, 0.29, 0.3, 0.31, 0.32, 0.33, 0.34, 0.35000000000000003, 0.36, 0.37, 0.38, 0.39, 0.4, 0.41000000000000003, 0.42, 0.43, 0.44, 0.45, 0.46, 0.47000000000000003, 0.48, 0.49, 0.5, 0.51, 0.52, 0.53, 0.54, 0.55, 0.56, 0.5700000000000001, 0.58, 0.59, 0.6, 0.61, 0.62, 0.63, 0.64, 0.65, 0.66, 0.67, 0.68, 0.6900000000000001, 0.7000000000000001, 0.71, 0.72, 0.73, 0.74, 0.75, 0.76, 0.77, 0.78, 0.79, 0.8, 0.81, 0.8200000000000001, 0.8300000000000001, 0.84, 0.85, 0.86, 0.87, 0.88, 0.89, 0.9, 0.91, 0.92, 0.93, 0.9400000000000001, 0.9500000000000001, 0.96, 0.97, 0.98, 0.99, 1.0))}, trial_id=638, value=None)]\n"
     ]
    },
    {
     "name": "stderr",
     "output_type": "stream",
     "text": [
      "Hyperband | Run:  92%|█████████▏| 46/50 [55:45:23<4:37:25, 4161.30s/it]"
     ]
    },
    {
     "name": "stdout",
     "output_type": "stream",
     "text": [
      "Est. true value:\t8.028325099108748\n",
      "Config:\t{'pop_size': 223, 'generations': 500, 'elite_split': 0.01, 'tournament_split': 0.07, 'mutation_rate': 0.79, 'crossover_rate': 0.12}\n",
      "Value:\t[FrozenTrial(number=293, state=1, values=[7.485315222263304], datetime_start=datetime.datetime(2025, 8, 4, 0, 32, 22, 369980), datetime_complete=datetime.datetime(2025, 8, 4, 0, 32, 26, 434292), params={'pop_size': 223, 'generations': 500, 'elite_split': 0.01, 'tournament_split': 0.07, 'mutation_rate': 0.79, 'crossover_rate': 0.12}, user_attrs={}, system_attrs={'completed_rung_0': 7.485315222263304}, intermediate_values={1: 7.485315222263304}, distributions={'pop_size': CategoricalDistribution(choices=(50, 51, 52, 53, 54, 55, 56, 57, 58, 59, 60, 61, 62, 63, 64, 65, 66, 67, 68, 69, 70, 71, 72, 73, 74, 75, 76, 77, 78, 79, 80, 81, 82, 83, 84, 85, 86, 87, 88, 89, 90, 91, 92, 93, 94, 95, 96, 97, 98, 99, 100, 101, 102, 103, 104, 105, 106, 107, 108, 109, 110, 111, 112, 113, 114, 115, 116, 117, 118, 119, 120, 121, 122, 123, 124, 125, 126, 127, 128, 129, 130, 131, 132, 133, 134, 135, 136, 137, 138, 139, 140, 141, 142, 143, 144, 145, 146, 147, 148, 149, 150, 151, 152, 153, 154, 155, 156, 157, 158, 159, 160, 161, 162, 163, 164, 165, 166, 167, 168, 169, 170, 171, 172, 173, 174, 175, 176, 177, 178, 179, 180, 181, 182, 183, 184, 185, 186, 187, 188, 189, 190, 191, 192, 193, 194, 195, 196, 197, 198, 199, 200, 201, 202, 203, 204, 205, 206, 207, 208, 209, 210, 211, 212, 213, 214, 215, 216, 217, 218, 219, 220, 221, 222, 223, 224, 225, 226, 227, 228, 229, 230, 231, 232, 233, 234, 235, 236, 237, 238, 239, 240, 241, 242, 243, 244, 245, 246, 247, 248, 249, 250)), 'generations': CategoricalDistribution(choices=(100, 200, 300, 400, 500)), 'elite_split': CategoricalDistribution(choices=(0.0, 0.01, 0.02, 0.03, 0.04, 0.05, 0.06, 0.07, 0.08, 0.09, 0.1, 0.11, 0.12, 0.13, 0.14, 0.15, 0.16, 0.17, 0.18, 0.19, 0.2)), 'tournament_split': CategoricalDistribution(choices=(0.0, 0.01, 0.02, 0.03, 0.04, 0.05, 0.06, 0.07, 0.08, 0.09, 0.1)), 'mutation_rate': CategoricalDistribution(choices=(0.0, 0.01, 0.02, 0.03, 0.04, 0.05, 0.06, 0.07, 0.08, 0.09, 0.1, 0.11, 0.12, 0.13, 0.14, 0.15, 0.16, 0.17, 0.18, 0.19, 0.2, 0.21, 0.22, 0.23, 0.24, 0.25, 0.26, 0.27, 0.28, 0.29, 0.3, 0.31, 0.32, 0.33, 0.34, 0.35000000000000003, 0.36, 0.37, 0.38, 0.39, 0.4, 0.41000000000000003, 0.42, 0.43, 0.44, 0.45, 0.46, 0.47000000000000003, 0.48, 0.49, 0.5, 0.51, 0.52, 0.53, 0.54, 0.55, 0.56, 0.5700000000000001, 0.58, 0.59, 0.6, 0.61, 0.62, 0.63, 0.64, 0.65, 0.66, 0.67, 0.68, 0.6900000000000001, 0.7000000000000001, 0.71, 0.72, 0.73, 0.74, 0.75, 0.76, 0.77, 0.78, 0.79, 0.8, 0.81, 0.8200000000000001, 0.8300000000000001, 0.84, 0.85, 0.86, 0.87, 0.88, 0.89, 0.9, 0.91, 0.92, 0.93, 0.9400000000000001, 0.9500000000000001, 0.96, 0.97, 0.98, 0.99, 1.0)), 'crossover_rate': CategoricalDistribution(choices=(0.0, 0.01, 0.02, 0.03, 0.04, 0.05, 0.06, 0.07, 0.08, 0.09, 0.1, 0.11, 0.12, 0.13, 0.14, 0.15, 0.16, 0.17, 0.18, 0.19, 0.2, 0.21, 0.22, 0.23, 0.24, 0.25, 0.26, 0.27, 0.28, 0.29, 0.3, 0.31, 0.32, 0.33, 0.34, 0.35000000000000003, 0.36, 0.37, 0.38, 0.39, 0.4, 0.41000000000000003, 0.42, 0.43, 0.44, 0.45, 0.46, 0.47000000000000003, 0.48, 0.49, 0.5, 0.51, 0.52, 0.53, 0.54, 0.55, 0.56, 0.5700000000000001, 0.58, 0.59, 0.6, 0.61, 0.62, 0.63, 0.64, 0.65, 0.66, 0.67, 0.68, 0.6900000000000001, 0.7000000000000001, 0.71, 0.72, 0.73, 0.74, 0.75, 0.76, 0.77, 0.78, 0.79, 0.8, 0.81, 0.8200000000000001, 0.8300000000000001, 0.84, 0.85, 0.86, 0.87, 0.88, 0.89, 0.9, 0.91, 0.92, 0.93, 0.9400000000000001, 0.9500000000000001, 0.96, 0.97, 0.98, 0.99, 1.0))}, trial_id=293, value=None)]\n"
     ]
    },
    {
     "name": "stderr",
     "output_type": "stream",
     "text": [
      "Hyperband | Run:  94%|█████████▍| 47/50 [56:57:54<3:30:54, 4218.29s/it]"
     ]
    },
    {
     "name": "stdout",
     "output_type": "stream",
     "text": [
      "Est. true value:\t7.986488200176833\n",
      "Config:\t{'pop_size': 245, 'generations': 500, 'elite_split': 0.03, 'tournament_split': 0.07, 'mutation_rate': 0.89, 'crossover_rate': 0.19}\n",
      "Value:\t[FrozenTrial(number=577, state=1, values=[7.515257298193899], datetime_start=datetime.datetime(2025, 8, 4, 1, 57, 21, 580725), datetime_complete=datetime.datetime(2025, 8, 4, 1, 57, 26, 490629), params={'pop_size': 245, 'generations': 500, 'elite_split': 0.03, 'tournament_split': 0.07, 'mutation_rate': 0.89, 'crossover_rate': 0.19}, user_attrs={}, system_attrs={'completed_rung_0': 7.515257298193899}, intermediate_values={1: 7.515257298193899}, distributions={'pop_size': CategoricalDistribution(choices=(50, 51, 52, 53, 54, 55, 56, 57, 58, 59, 60, 61, 62, 63, 64, 65, 66, 67, 68, 69, 70, 71, 72, 73, 74, 75, 76, 77, 78, 79, 80, 81, 82, 83, 84, 85, 86, 87, 88, 89, 90, 91, 92, 93, 94, 95, 96, 97, 98, 99, 100, 101, 102, 103, 104, 105, 106, 107, 108, 109, 110, 111, 112, 113, 114, 115, 116, 117, 118, 119, 120, 121, 122, 123, 124, 125, 126, 127, 128, 129, 130, 131, 132, 133, 134, 135, 136, 137, 138, 139, 140, 141, 142, 143, 144, 145, 146, 147, 148, 149, 150, 151, 152, 153, 154, 155, 156, 157, 158, 159, 160, 161, 162, 163, 164, 165, 166, 167, 168, 169, 170, 171, 172, 173, 174, 175, 176, 177, 178, 179, 180, 181, 182, 183, 184, 185, 186, 187, 188, 189, 190, 191, 192, 193, 194, 195, 196, 197, 198, 199, 200, 201, 202, 203, 204, 205, 206, 207, 208, 209, 210, 211, 212, 213, 214, 215, 216, 217, 218, 219, 220, 221, 222, 223, 224, 225, 226, 227, 228, 229, 230, 231, 232, 233, 234, 235, 236, 237, 238, 239, 240, 241, 242, 243, 244, 245, 246, 247, 248, 249, 250)), 'generations': CategoricalDistribution(choices=(100, 200, 300, 400, 500)), 'elite_split': CategoricalDistribution(choices=(0.0, 0.01, 0.02, 0.03, 0.04, 0.05, 0.06, 0.07, 0.08, 0.09, 0.1, 0.11, 0.12, 0.13, 0.14, 0.15, 0.16, 0.17, 0.18, 0.19, 0.2)), 'tournament_split': CategoricalDistribution(choices=(0.0, 0.01, 0.02, 0.03, 0.04, 0.05, 0.06, 0.07, 0.08, 0.09, 0.1)), 'mutation_rate': CategoricalDistribution(choices=(0.0, 0.01, 0.02, 0.03, 0.04, 0.05, 0.06, 0.07, 0.08, 0.09, 0.1, 0.11, 0.12, 0.13, 0.14, 0.15, 0.16, 0.17, 0.18, 0.19, 0.2, 0.21, 0.22, 0.23, 0.24, 0.25, 0.26, 0.27, 0.28, 0.29, 0.3, 0.31, 0.32, 0.33, 0.34, 0.35000000000000003, 0.36, 0.37, 0.38, 0.39, 0.4, 0.41000000000000003, 0.42, 0.43, 0.44, 0.45, 0.46, 0.47000000000000003, 0.48, 0.49, 0.5, 0.51, 0.52, 0.53, 0.54, 0.55, 0.56, 0.5700000000000001, 0.58, 0.59, 0.6, 0.61, 0.62, 0.63, 0.64, 0.65, 0.66, 0.67, 0.68, 0.6900000000000001, 0.7000000000000001, 0.71, 0.72, 0.73, 0.74, 0.75, 0.76, 0.77, 0.78, 0.79, 0.8, 0.81, 0.8200000000000001, 0.8300000000000001, 0.84, 0.85, 0.86, 0.87, 0.88, 0.89, 0.9, 0.91, 0.92, 0.93, 0.9400000000000001, 0.9500000000000001, 0.96, 0.97, 0.98, 0.99, 1.0)), 'crossover_rate': CategoricalDistribution(choices=(0.0, 0.01, 0.02, 0.03, 0.04, 0.05, 0.06, 0.07, 0.08, 0.09, 0.1, 0.11, 0.12, 0.13, 0.14, 0.15, 0.16, 0.17, 0.18, 0.19, 0.2, 0.21, 0.22, 0.23, 0.24, 0.25, 0.26, 0.27, 0.28, 0.29, 0.3, 0.31, 0.32, 0.33, 0.34, 0.35000000000000003, 0.36, 0.37, 0.38, 0.39, 0.4, 0.41000000000000003, 0.42, 0.43, 0.44, 0.45, 0.46, 0.47000000000000003, 0.48, 0.49, 0.5, 0.51, 0.52, 0.53, 0.54, 0.55, 0.56, 0.5700000000000001, 0.58, 0.59, 0.6, 0.61, 0.62, 0.63, 0.64, 0.65, 0.66, 0.67, 0.68, 0.6900000000000001, 0.7000000000000001, 0.71, 0.72, 0.73, 0.74, 0.75, 0.76, 0.77, 0.78, 0.79, 0.8, 0.81, 0.8200000000000001, 0.8300000000000001, 0.84, 0.85, 0.86, 0.87, 0.88, 0.89, 0.9, 0.91, 0.92, 0.93, 0.9400000000000001, 0.9500000000000001, 0.96, 0.97, 0.98, 0.99, 1.0))}, trial_id=577, value=None)]\n"
     ]
    },
    {
     "name": "stderr",
     "output_type": "stream",
     "text": [
      "Hyperband | Run:  96%|█████████▌| 48/50 [58:20:06<2:27:44, 4432.40s/it]"
     ]
    },
    {
     "name": "stdout",
     "output_type": "stream",
     "text": [
      "Est. true value:\t7.99251631450375\n",
      "Config:\t{'pop_size': 212, 'generations': 500, 'elite_split': 0.02, 'tournament_split': 0.1, 'mutation_rate': 0.86, 'crossover_rate': 0.1}\n",
      "Value:\t[FrozenTrial(number=305, state=1, values=[7.496764254083173], datetime_start=datetime.datetime(2025, 8, 4, 3, 8, 17, 127005), datetime_complete=datetime.datetime(2025, 8, 4, 3, 8, 20, 901817), params={'pop_size': 212, 'generations': 500, 'elite_split': 0.02, 'tournament_split': 0.1, 'mutation_rate': 0.86, 'crossover_rate': 0.1}, user_attrs={}, system_attrs={'completed_rung_0': 7.496764254083173}, intermediate_values={1: 7.496764254083173}, distributions={'pop_size': CategoricalDistribution(choices=(50, 51, 52, 53, 54, 55, 56, 57, 58, 59, 60, 61, 62, 63, 64, 65, 66, 67, 68, 69, 70, 71, 72, 73, 74, 75, 76, 77, 78, 79, 80, 81, 82, 83, 84, 85, 86, 87, 88, 89, 90, 91, 92, 93, 94, 95, 96, 97, 98, 99, 100, 101, 102, 103, 104, 105, 106, 107, 108, 109, 110, 111, 112, 113, 114, 115, 116, 117, 118, 119, 120, 121, 122, 123, 124, 125, 126, 127, 128, 129, 130, 131, 132, 133, 134, 135, 136, 137, 138, 139, 140, 141, 142, 143, 144, 145, 146, 147, 148, 149, 150, 151, 152, 153, 154, 155, 156, 157, 158, 159, 160, 161, 162, 163, 164, 165, 166, 167, 168, 169, 170, 171, 172, 173, 174, 175, 176, 177, 178, 179, 180, 181, 182, 183, 184, 185, 186, 187, 188, 189, 190, 191, 192, 193, 194, 195, 196, 197, 198, 199, 200, 201, 202, 203, 204, 205, 206, 207, 208, 209, 210, 211, 212, 213, 214, 215, 216, 217, 218, 219, 220, 221, 222, 223, 224, 225, 226, 227, 228, 229, 230, 231, 232, 233, 234, 235, 236, 237, 238, 239, 240, 241, 242, 243, 244, 245, 246, 247, 248, 249, 250)), 'generations': CategoricalDistribution(choices=(100, 200, 300, 400, 500)), 'elite_split': CategoricalDistribution(choices=(0.0, 0.01, 0.02, 0.03, 0.04, 0.05, 0.06, 0.07, 0.08, 0.09, 0.1, 0.11, 0.12, 0.13, 0.14, 0.15, 0.16, 0.17, 0.18, 0.19, 0.2)), 'tournament_split': CategoricalDistribution(choices=(0.0, 0.01, 0.02, 0.03, 0.04, 0.05, 0.06, 0.07, 0.08, 0.09, 0.1)), 'mutation_rate': CategoricalDistribution(choices=(0.0, 0.01, 0.02, 0.03, 0.04, 0.05, 0.06, 0.07, 0.08, 0.09, 0.1, 0.11, 0.12, 0.13, 0.14, 0.15, 0.16, 0.17, 0.18, 0.19, 0.2, 0.21, 0.22, 0.23, 0.24, 0.25, 0.26, 0.27, 0.28, 0.29, 0.3, 0.31, 0.32, 0.33, 0.34, 0.35000000000000003, 0.36, 0.37, 0.38, 0.39, 0.4, 0.41000000000000003, 0.42, 0.43, 0.44, 0.45, 0.46, 0.47000000000000003, 0.48, 0.49, 0.5, 0.51, 0.52, 0.53, 0.54, 0.55, 0.56, 0.5700000000000001, 0.58, 0.59, 0.6, 0.61, 0.62, 0.63, 0.64, 0.65, 0.66, 0.67, 0.68, 0.6900000000000001, 0.7000000000000001, 0.71, 0.72, 0.73, 0.74, 0.75, 0.76, 0.77, 0.78, 0.79, 0.8, 0.81, 0.8200000000000001, 0.8300000000000001, 0.84, 0.85, 0.86, 0.87, 0.88, 0.89, 0.9, 0.91, 0.92, 0.93, 0.9400000000000001, 0.9500000000000001, 0.96, 0.97, 0.98, 0.99, 1.0)), 'crossover_rate': CategoricalDistribution(choices=(0.0, 0.01, 0.02, 0.03, 0.04, 0.05, 0.06, 0.07, 0.08, 0.09, 0.1, 0.11, 0.12, 0.13, 0.14, 0.15, 0.16, 0.17, 0.18, 0.19, 0.2, 0.21, 0.22, 0.23, 0.24, 0.25, 0.26, 0.27, 0.28, 0.29, 0.3, 0.31, 0.32, 0.33, 0.34, 0.35000000000000003, 0.36, 0.37, 0.38, 0.39, 0.4, 0.41000000000000003, 0.42, 0.43, 0.44, 0.45, 0.46, 0.47000000000000003, 0.48, 0.49, 0.5, 0.51, 0.52, 0.53, 0.54, 0.55, 0.56, 0.5700000000000001, 0.58, 0.59, 0.6, 0.61, 0.62, 0.63, 0.64, 0.65, 0.66, 0.67, 0.68, 0.6900000000000001, 0.7000000000000001, 0.71, 0.72, 0.73, 0.74, 0.75, 0.76, 0.77, 0.78, 0.79, 0.8, 0.81, 0.8200000000000001, 0.8300000000000001, 0.84, 0.85, 0.86, 0.87, 0.88, 0.89, 0.9, 0.91, 0.92, 0.93, 0.9400000000000001, 0.9500000000000001, 0.96, 0.97, 0.98, 0.99, 1.0))}, trial_id=305, value=None)]\n"
     ]
    },
    {
     "name": "stderr",
     "output_type": "stream",
     "text": [
      "Hyperband | Run:  98%|█████████▊| 49/50 [59:31:14<1:13:03, 4383.10s/it]"
     ]
    },
    {
     "name": "stdout",
     "output_type": "stream",
     "text": [
      "Est. true value:\t7.998381128419485\n",
      "Config:\t{'pop_size': 206, 'generations': 500, 'elite_split': 0.05, 'tournament_split': 0.1, 'mutation_rate': 0.99, 'crossover_rate': 0.03}\n",
      "Value:\t[FrozenTrial(number=290, state=1, values=[7.440726583079382], datetime_start=datetime.datetime(2025, 8, 4, 4, 18, 58, 785004), datetime_complete=datetime.datetime(2025, 8, 4, 4, 19, 2, 305118), params={'pop_size': 206, 'generations': 500, 'elite_split': 0.05, 'tournament_split': 0.1, 'mutation_rate': 0.99, 'crossover_rate': 0.03}, user_attrs={}, system_attrs={'completed_rung_0': 7.440726583079382}, intermediate_values={1: 7.440726583079382}, distributions={'pop_size': CategoricalDistribution(choices=(50, 51, 52, 53, 54, 55, 56, 57, 58, 59, 60, 61, 62, 63, 64, 65, 66, 67, 68, 69, 70, 71, 72, 73, 74, 75, 76, 77, 78, 79, 80, 81, 82, 83, 84, 85, 86, 87, 88, 89, 90, 91, 92, 93, 94, 95, 96, 97, 98, 99, 100, 101, 102, 103, 104, 105, 106, 107, 108, 109, 110, 111, 112, 113, 114, 115, 116, 117, 118, 119, 120, 121, 122, 123, 124, 125, 126, 127, 128, 129, 130, 131, 132, 133, 134, 135, 136, 137, 138, 139, 140, 141, 142, 143, 144, 145, 146, 147, 148, 149, 150, 151, 152, 153, 154, 155, 156, 157, 158, 159, 160, 161, 162, 163, 164, 165, 166, 167, 168, 169, 170, 171, 172, 173, 174, 175, 176, 177, 178, 179, 180, 181, 182, 183, 184, 185, 186, 187, 188, 189, 190, 191, 192, 193, 194, 195, 196, 197, 198, 199, 200, 201, 202, 203, 204, 205, 206, 207, 208, 209, 210, 211, 212, 213, 214, 215, 216, 217, 218, 219, 220, 221, 222, 223, 224, 225, 226, 227, 228, 229, 230, 231, 232, 233, 234, 235, 236, 237, 238, 239, 240, 241, 242, 243, 244, 245, 246, 247, 248, 249, 250)), 'generations': CategoricalDistribution(choices=(100, 200, 300, 400, 500)), 'elite_split': CategoricalDistribution(choices=(0.0, 0.01, 0.02, 0.03, 0.04, 0.05, 0.06, 0.07, 0.08, 0.09, 0.1, 0.11, 0.12, 0.13, 0.14, 0.15, 0.16, 0.17, 0.18, 0.19, 0.2)), 'tournament_split': CategoricalDistribution(choices=(0.0, 0.01, 0.02, 0.03, 0.04, 0.05, 0.06, 0.07, 0.08, 0.09, 0.1)), 'mutation_rate': CategoricalDistribution(choices=(0.0, 0.01, 0.02, 0.03, 0.04, 0.05, 0.06, 0.07, 0.08, 0.09, 0.1, 0.11, 0.12, 0.13, 0.14, 0.15, 0.16, 0.17, 0.18, 0.19, 0.2, 0.21, 0.22, 0.23, 0.24, 0.25, 0.26, 0.27, 0.28, 0.29, 0.3, 0.31, 0.32, 0.33, 0.34, 0.35000000000000003, 0.36, 0.37, 0.38, 0.39, 0.4, 0.41000000000000003, 0.42, 0.43, 0.44, 0.45, 0.46, 0.47000000000000003, 0.48, 0.49, 0.5, 0.51, 0.52, 0.53, 0.54, 0.55, 0.56, 0.5700000000000001, 0.58, 0.59, 0.6, 0.61, 0.62, 0.63, 0.64, 0.65, 0.66, 0.67, 0.68, 0.6900000000000001, 0.7000000000000001, 0.71, 0.72, 0.73, 0.74, 0.75, 0.76, 0.77, 0.78, 0.79, 0.8, 0.81, 0.8200000000000001, 0.8300000000000001, 0.84, 0.85, 0.86, 0.87, 0.88, 0.89, 0.9, 0.91, 0.92, 0.93, 0.9400000000000001, 0.9500000000000001, 0.96, 0.97, 0.98, 0.99, 1.0)), 'crossover_rate': CategoricalDistribution(choices=(0.0, 0.01, 0.02, 0.03, 0.04, 0.05, 0.06, 0.07, 0.08, 0.09, 0.1, 0.11, 0.12, 0.13, 0.14, 0.15, 0.16, 0.17, 0.18, 0.19, 0.2, 0.21, 0.22, 0.23, 0.24, 0.25, 0.26, 0.27, 0.28, 0.29, 0.3, 0.31, 0.32, 0.33, 0.34, 0.35000000000000003, 0.36, 0.37, 0.38, 0.39, 0.4, 0.41000000000000003, 0.42, 0.43, 0.44, 0.45, 0.46, 0.47000000000000003, 0.48, 0.49, 0.5, 0.51, 0.52, 0.53, 0.54, 0.55, 0.56, 0.5700000000000001, 0.58, 0.59, 0.6, 0.61, 0.62, 0.63, 0.64, 0.65, 0.66, 0.67, 0.68, 0.6900000000000001, 0.7000000000000001, 0.71, 0.72, 0.73, 0.74, 0.75, 0.76, 0.77, 0.78, 0.79, 0.8, 0.81, 0.8200000000000001, 0.8300000000000001, 0.84, 0.85, 0.86, 0.87, 0.88, 0.89, 0.9, 0.91, 0.92, 0.93, 0.9400000000000001, 0.9500000000000001, 0.96, 0.97, 0.98, 0.99, 1.0))}, trial_id=290, value=None)]\n"
     ]
    },
    {
     "name": "stderr",
     "output_type": "stream",
     "text": [
      "Hyperband | Run: 100%|██████████| 50/50 [60:42:27<00:00, 4370.96s/it]  "
     ]
    },
    {
     "name": "stdout",
     "output_type": "stream",
     "text": [
      "Est. true value:\t7.945029636696236\n"
     ]
    },
    {
     "name": "stderr",
     "output_type": "stream",
     "text": [
      "\n"
     ]
    }
   ],
   "source": [
    "# rng to make objective reproducible\n",
    "MAXINT = 2 ** 32 - 1\n",
    "rng = np.random.default_rng(SEED)\n",
    "\n",
    "def objective(trial):\n",
    "    \"\"\"Seeded, single-objective function to simulate the GA.\"\"\"\n",
    "    seed = rng.integers(0, MAXINT, dtype=int)\n",
    "    best_cost, _ = genetic_algorithm(\n",
    "        pop_size=trial.suggest_categorical(\"pop_size\", POP_SIZE_RANGE),\n",
    "        generations=trial.suggest_categorical(\"generations\", GENERATIONS_RANGE),\n",
    "        elite_split=trial.suggest_categorical(\"elite_split\", ELITE_SPLIT_RANGE),\n",
    "        tournament_split=trial.suggest_categorical(\"tournament_split\", TOURNAMENT_SPLIT_RANGE),\n",
    "        mutation_rate=trial.suggest_categorical(\"mutation_rate\", MUTATION_RATE_RANGE),\n",
    "        crossover_rate=trial.suggest_categorical(\"crossover_rate\", CROSSOVER_RATE_RANGE),\n",
    "        seed=seed\n",
    "    )\n",
    "\n",
    "    trial.report(best_cost, 1)\n",
    "    if trial.should_prune():\n",
    "        raise optuna.TrialPruned()\n",
    "    \n",
    "    return best_cost\n",
    "\n",
    "print(\"\\nRunning optimization ...\")\n",
    "results_hyperband_tpe = []\n",
    "\n",
    "for run_id in tqdm(range(N_RUNS), desc=\"Hyperband | Run\"):\n",
    "    seed = SEED + run_id\n",
    "    gmab = GMAB(population_size=10)\n",
    "    sampler = TPESampler(seed=seed) # sampling \n",
    "    pruner = HyperbandPruner() # deterministic, takes no seed\n",
    "\n",
    "    study = optuna.create_study(sampler=sampler, pruner=pruner)\n",
    "    study.optimize(objective, n_trials=SIM_BUDGET)\n",
    "    print(f\"Config:\\t{study.best_params}\")\n",
    "    print(f\"Value:\\t{study.best_trials}\")\n",
    "\n",
    "    mean_evaluation, evaluations = estimate_true_value(seed, study.best_params)\n",
    "    print(f\"Est. true value:\\t{mean_evaluation}\")\n",
    "\n",
    "    results_hyperband_tpe.append({\n",
    "        \"mean_evaluation\": mean_evaluation,\n",
    "        \"evaluations\": evaluations,\n",
    "        \"best_solution\": study.best_params,\n",
    "        \"seed\": seed\n",
    "    })\n",
    "\n",
    "    with open(Path(\"_data/04_results_hyperband_tpe.json\"), 'w') as f:\n",
    "        json.dump(results_hyperband_tpe, f)"
   ]
  },
  {
   "cell_type": "markdown",
   "id": "f0b797ab",
   "metadata": {},
   "source": [
    "### 2.5 Hyperband"
   ]
  },
  {
   "cell_type": "code",
   "execution_count": null,
   "id": "3b926fb5",
   "metadata": {},
   "outputs": [
    {
     "name": "stdout",
     "output_type": "stream",
     "text": [
      "\n",
      "Running optimization ...\n"
     ]
    },
    {
     "name": "stderr",
     "output_type": "stream",
     "text": [
      "Hyperband | Run:   0%|          | 0/50 [00:00<?, ?it/s]"
     ]
    },
    {
     "name": "stdout",
     "output_type": "stream",
     "text": [
      "Config:\t{'pop_size': 213, 'generations': 500, 'elite_split': 0.11, 'tournament_split': 0.1, 'mutation_rate': 0.58, 'crossover_rate': 0.29}\n",
      "Value:\t[FrozenTrial(number=238, state=1, values=[7.613661845539915], datetime_start=datetime.datetime(2025, 8, 4, 5, 23, 47, 771086), datetime_complete=datetime.datetime(2025, 8, 4, 5, 23, 51, 228877), params={'pop_size': 213, 'generations': 500, 'elite_split': 0.11, 'tournament_split': 0.1, 'mutation_rate': 0.58, 'crossover_rate': 0.29}, user_attrs={}, system_attrs={'completed_rung_0': 7.613661845539915}, intermediate_values={1: 7.613661845539915}, distributions={'pop_size': CategoricalDistribution(choices=(50, 51, 52, 53, 54, 55, 56, 57, 58, 59, 60, 61, 62, 63, 64, 65, 66, 67, 68, 69, 70, 71, 72, 73, 74, 75, 76, 77, 78, 79, 80, 81, 82, 83, 84, 85, 86, 87, 88, 89, 90, 91, 92, 93, 94, 95, 96, 97, 98, 99, 100, 101, 102, 103, 104, 105, 106, 107, 108, 109, 110, 111, 112, 113, 114, 115, 116, 117, 118, 119, 120, 121, 122, 123, 124, 125, 126, 127, 128, 129, 130, 131, 132, 133, 134, 135, 136, 137, 138, 139, 140, 141, 142, 143, 144, 145, 146, 147, 148, 149, 150, 151, 152, 153, 154, 155, 156, 157, 158, 159, 160, 161, 162, 163, 164, 165, 166, 167, 168, 169, 170, 171, 172, 173, 174, 175, 176, 177, 178, 179, 180, 181, 182, 183, 184, 185, 186, 187, 188, 189, 190, 191, 192, 193, 194, 195, 196, 197, 198, 199, 200, 201, 202, 203, 204, 205, 206, 207, 208, 209, 210, 211, 212, 213, 214, 215, 216, 217, 218, 219, 220, 221, 222, 223, 224, 225, 226, 227, 228, 229, 230, 231, 232, 233, 234, 235, 236, 237, 238, 239, 240, 241, 242, 243, 244, 245, 246, 247, 248, 249, 250)), 'generations': CategoricalDistribution(choices=(100, 200, 300, 400, 500)), 'elite_split': CategoricalDistribution(choices=(0.0, 0.01, 0.02, 0.03, 0.04, 0.05, 0.06, 0.07, 0.08, 0.09, 0.1, 0.11, 0.12, 0.13, 0.14, 0.15, 0.16, 0.17, 0.18, 0.19, 0.2)), 'tournament_split': CategoricalDistribution(choices=(0.0, 0.01, 0.02, 0.03, 0.04, 0.05, 0.06, 0.07, 0.08, 0.09, 0.1)), 'mutation_rate': CategoricalDistribution(choices=(0.0, 0.01, 0.02, 0.03, 0.04, 0.05, 0.06, 0.07, 0.08, 0.09, 0.1, 0.11, 0.12, 0.13, 0.14, 0.15, 0.16, 0.17, 0.18, 0.19, 0.2, 0.21, 0.22, 0.23, 0.24, 0.25, 0.26, 0.27, 0.28, 0.29, 0.3, 0.31, 0.32, 0.33, 0.34, 0.35000000000000003, 0.36, 0.37, 0.38, 0.39, 0.4, 0.41000000000000003, 0.42, 0.43, 0.44, 0.45, 0.46, 0.47000000000000003, 0.48, 0.49, 0.5, 0.51, 0.52, 0.53, 0.54, 0.55, 0.56, 0.5700000000000001, 0.58, 0.59, 0.6, 0.61, 0.62, 0.63, 0.64, 0.65, 0.66, 0.67, 0.68, 0.6900000000000001, 0.7000000000000001, 0.71, 0.72, 0.73, 0.74, 0.75, 0.76, 0.77, 0.78, 0.79, 0.8, 0.81, 0.8200000000000001, 0.8300000000000001, 0.84, 0.85, 0.86, 0.87, 0.88, 0.89, 0.9, 0.91, 0.92, 0.93, 0.9400000000000001, 0.9500000000000001, 0.96, 0.97, 0.98, 0.99, 1.0)), 'crossover_rate': CategoricalDistribution(choices=(0.0, 0.01, 0.02, 0.03, 0.04, 0.05, 0.06, 0.07, 0.08, 0.09, 0.1, 0.11, 0.12, 0.13, 0.14, 0.15, 0.16, 0.17, 0.18, 0.19, 0.2, 0.21, 0.22, 0.23, 0.24, 0.25, 0.26, 0.27, 0.28, 0.29, 0.3, 0.31, 0.32, 0.33, 0.34, 0.35000000000000003, 0.36, 0.37, 0.38, 0.39, 0.4, 0.41000000000000003, 0.42, 0.43, 0.44, 0.45, 0.46, 0.47000000000000003, 0.48, 0.49, 0.5, 0.51, 0.52, 0.53, 0.54, 0.55, 0.56, 0.5700000000000001, 0.58, 0.59, 0.6, 0.61, 0.62, 0.63, 0.64, 0.65, 0.66, 0.67, 0.68, 0.6900000000000001, 0.7000000000000001, 0.71, 0.72, 0.73, 0.74, 0.75, 0.76, 0.77, 0.78, 0.79, 0.8, 0.81, 0.8200000000000001, 0.8300000000000001, 0.84, 0.85, 0.86, 0.87, 0.88, 0.89, 0.9, 0.91, 0.92, 0.93, 0.9400000000000001, 0.9500000000000001, 0.96, 0.97, 0.98, 0.99, 1.0))}, trial_id=238, value=None)]\n"
     ]
    },
    {
     "name": "stderr",
     "output_type": "stream",
     "text": [
      "Hyperband | Run:   2%|▏         | 1/50 [53:08<43:23:52, 3188.42s/it]"
     ]
    },
    {
     "name": "stdout",
     "output_type": "stream",
     "text": [
      "Est. true value:\t8.129779368738467\n",
      "Config:\t{'pop_size': 238, 'generations': 500, 'elite_split': 0.13, 'tournament_split': 0.1, 'mutation_rate': 0.43, 'crossover_rate': 0.17}\n",
      "Value:\t[FrozenTrial(number=613, state=1, values=[7.877402014613257], datetime_start=datetime.datetime(2025, 8, 4, 6, 26, 16, 294020), datetime_complete=datetime.datetime(2025, 8, 4, 6, 26, 21, 50058), params={'pop_size': 238, 'generations': 500, 'elite_split': 0.13, 'tournament_split': 0.1, 'mutation_rate': 0.43, 'crossover_rate': 0.17}, user_attrs={}, system_attrs={'completed_rung_0': 7.877402014613257}, intermediate_values={1: 7.877402014613257}, distributions={'pop_size': CategoricalDistribution(choices=(50, 51, 52, 53, 54, 55, 56, 57, 58, 59, 60, 61, 62, 63, 64, 65, 66, 67, 68, 69, 70, 71, 72, 73, 74, 75, 76, 77, 78, 79, 80, 81, 82, 83, 84, 85, 86, 87, 88, 89, 90, 91, 92, 93, 94, 95, 96, 97, 98, 99, 100, 101, 102, 103, 104, 105, 106, 107, 108, 109, 110, 111, 112, 113, 114, 115, 116, 117, 118, 119, 120, 121, 122, 123, 124, 125, 126, 127, 128, 129, 130, 131, 132, 133, 134, 135, 136, 137, 138, 139, 140, 141, 142, 143, 144, 145, 146, 147, 148, 149, 150, 151, 152, 153, 154, 155, 156, 157, 158, 159, 160, 161, 162, 163, 164, 165, 166, 167, 168, 169, 170, 171, 172, 173, 174, 175, 176, 177, 178, 179, 180, 181, 182, 183, 184, 185, 186, 187, 188, 189, 190, 191, 192, 193, 194, 195, 196, 197, 198, 199, 200, 201, 202, 203, 204, 205, 206, 207, 208, 209, 210, 211, 212, 213, 214, 215, 216, 217, 218, 219, 220, 221, 222, 223, 224, 225, 226, 227, 228, 229, 230, 231, 232, 233, 234, 235, 236, 237, 238, 239, 240, 241, 242, 243, 244, 245, 246, 247, 248, 249, 250)), 'generations': CategoricalDistribution(choices=(100, 200, 300, 400, 500)), 'elite_split': CategoricalDistribution(choices=(0.0, 0.01, 0.02, 0.03, 0.04, 0.05, 0.06, 0.07, 0.08, 0.09, 0.1, 0.11, 0.12, 0.13, 0.14, 0.15, 0.16, 0.17, 0.18, 0.19, 0.2)), 'tournament_split': CategoricalDistribution(choices=(0.0, 0.01, 0.02, 0.03, 0.04, 0.05, 0.06, 0.07, 0.08, 0.09, 0.1)), 'mutation_rate': CategoricalDistribution(choices=(0.0, 0.01, 0.02, 0.03, 0.04, 0.05, 0.06, 0.07, 0.08, 0.09, 0.1, 0.11, 0.12, 0.13, 0.14, 0.15, 0.16, 0.17, 0.18, 0.19, 0.2, 0.21, 0.22, 0.23, 0.24, 0.25, 0.26, 0.27, 0.28, 0.29, 0.3, 0.31, 0.32, 0.33, 0.34, 0.35000000000000003, 0.36, 0.37, 0.38, 0.39, 0.4, 0.41000000000000003, 0.42, 0.43, 0.44, 0.45, 0.46, 0.47000000000000003, 0.48, 0.49, 0.5, 0.51, 0.52, 0.53, 0.54, 0.55, 0.56, 0.5700000000000001, 0.58, 0.59, 0.6, 0.61, 0.62, 0.63, 0.64, 0.65, 0.66, 0.67, 0.68, 0.6900000000000001, 0.7000000000000001, 0.71, 0.72, 0.73, 0.74, 0.75, 0.76, 0.77, 0.78, 0.79, 0.8, 0.81, 0.8200000000000001, 0.8300000000000001, 0.84, 0.85, 0.86, 0.87, 0.88, 0.89, 0.9, 0.91, 0.92, 0.93, 0.9400000000000001, 0.9500000000000001, 0.96, 0.97, 0.98, 0.99, 1.0)), 'crossover_rate': CategoricalDistribution(choices=(0.0, 0.01, 0.02, 0.03, 0.04, 0.05, 0.06, 0.07, 0.08, 0.09, 0.1, 0.11, 0.12, 0.13, 0.14, 0.15, 0.16, 0.17, 0.18, 0.19, 0.2, 0.21, 0.22, 0.23, 0.24, 0.25, 0.26, 0.27, 0.28, 0.29, 0.3, 0.31, 0.32, 0.33, 0.34, 0.35000000000000003, 0.36, 0.37, 0.38, 0.39, 0.4, 0.41000000000000003, 0.42, 0.43, 0.44, 0.45, 0.46, 0.47000000000000003, 0.48, 0.49, 0.5, 0.51, 0.52, 0.53, 0.54, 0.55, 0.56, 0.5700000000000001, 0.58, 0.59, 0.6, 0.61, 0.62, 0.63, 0.64, 0.65, 0.66, 0.67, 0.68, 0.6900000000000001, 0.7000000000000001, 0.71, 0.72, 0.73, 0.74, 0.75, 0.76, 0.77, 0.78, 0.79, 0.8, 0.81, 0.8200000000000001, 0.8300000000000001, 0.84, 0.85, 0.86, 0.87, 0.88, 0.89, 0.9, 0.91, 0.92, 0.93, 0.9400000000000001, 0.9500000000000001, 0.96, 0.97, 0.98, 0.99, 1.0))}, trial_id=613, value=None)]\n"
     ]
    },
    {
     "name": "stderr",
     "output_type": "stream",
     "text": [
      "Hyperband | Run:   4%|▍         | 2/50 [1:56:24<47:16:47, 3546.00s/it]"
     ]
    },
    {
     "name": "stdout",
     "output_type": "stream",
     "text": [
      "Est. true value:\t8.129330397712383\n",
      "Config:\t{'pop_size': 200, 'generations': 400, 'elite_split': 0.06, 'tournament_split': 0.08, 'mutation_rate': 0.49, 'crossover_rate': 0.14}\n",
      "Value:\t[FrozenTrial(number=762, state=1, values=[7.6934617892391195], datetime_start=datetime.datetime(2025, 8, 4, 7, 32, 18, 505736), datetime_complete=datetime.datetime(2025, 8, 4, 7, 32, 20, 903538), params={'pop_size': 200, 'generations': 400, 'elite_split': 0.06, 'tournament_split': 0.08, 'mutation_rate': 0.49, 'crossover_rate': 0.14}, user_attrs={}, system_attrs={'completed_rung_0': 7.6934617892391195}, intermediate_values={1: 7.6934617892391195}, distributions={'pop_size': CategoricalDistribution(choices=(50, 51, 52, 53, 54, 55, 56, 57, 58, 59, 60, 61, 62, 63, 64, 65, 66, 67, 68, 69, 70, 71, 72, 73, 74, 75, 76, 77, 78, 79, 80, 81, 82, 83, 84, 85, 86, 87, 88, 89, 90, 91, 92, 93, 94, 95, 96, 97, 98, 99, 100, 101, 102, 103, 104, 105, 106, 107, 108, 109, 110, 111, 112, 113, 114, 115, 116, 117, 118, 119, 120, 121, 122, 123, 124, 125, 126, 127, 128, 129, 130, 131, 132, 133, 134, 135, 136, 137, 138, 139, 140, 141, 142, 143, 144, 145, 146, 147, 148, 149, 150, 151, 152, 153, 154, 155, 156, 157, 158, 159, 160, 161, 162, 163, 164, 165, 166, 167, 168, 169, 170, 171, 172, 173, 174, 175, 176, 177, 178, 179, 180, 181, 182, 183, 184, 185, 186, 187, 188, 189, 190, 191, 192, 193, 194, 195, 196, 197, 198, 199, 200, 201, 202, 203, 204, 205, 206, 207, 208, 209, 210, 211, 212, 213, 214, 215, 216, 217, 218, 219, 220, 221, 222, 223, 224, 225, 226, 227, 228, 229, 230, 231, 232, 233, 234, 235, 236, 237, 238, 239, 240, 241, 242, 243, 244, 245, 246, 247, 248, 249, 250)), 'generations': CategoricalDistribution(choices=(100, 200, 300, 400, 500)), 'elite_split': CategoricalDistribution(choices=(0.0, 0.01, 0.02, 0.03, 0.04, 0.05, 0.06, 0.07, 0.08, 0.09, 0.1, 0.11, 0.12, 0.13, 0.14, 0.15, 0.16, 0.17, 0.18, 0.19, 0.2)), 'tournament_split': CategoricalDistribution(choices=(0.0, 0.01, 0.02, 0.03, 0.04, 0.05, 0.06, 0.07, 0.08, 0.09, 0.1)), 'mutation_rate': CategoricalDistribution(choices=(0.0, 0.01, 0.02, 0.03, 0.04, 0.05, 0.06, 0.07, 0.08, 0.09, 0.1, 0.11, 0.12, 0.13, 0.14, 0.15, 0.16, 0.17, 0.18, 0.19, 0.2, 0.21, 0.22, 0.23, 0.24, 0.25, 0.26, 0.27, 0.28, 0.29, 0.3, 0.31, 0.32, 0.33, 0.34, 0.35000000000000003, 0.36, 0.37, 0.38, 0.39, 0.4, 0.41000000000000003, 0.42, 0.43, 0.44, 0.45, 0.46, 0.47000000000000003, 0.48, 0.49, 0.5, 0.51, 0.52, 0.53, 0.54, 0.55, 0.56, 0.5700000000000001, 0.58, 0.59, 0.6, 0.61, 0.62, 0.63, 0.64, 0.65, 0.66, 0.67, 0.68, 0.6900000000000001, 0.7000000000000001, 0.71, 0.72, 0.73, 0.74, 0.75, 0.76, 0.77, 0.78, 0.79, 0.8, 0.81, 0.8200000000000001, 0.8300000000000001, 0.84, 0.85, 0.86, 0.87, 0.88, 0.89, 0.9, 0.91, 0.92, 0.93, 0.9400000000000001, 0.9500000000000001, 0.96, 0.97, 0.98, 0.99, 1.0)), 'crossover_rate': CategoricalDistribution(choices=(0.0, 0.01, 0.02, 0.03, 0.04, 0.05, 0.06, 0.07, 0.08, 0.09, 0.1, 0.11, 0.12, 0.13, 0.14, 0.15, 0.16, 0.17, 0.18, 0.19, 0.2, 0.21, 0.22, 0.23, 0.24, 0.25, 0.26, 0.27, 0.28, 0.29, 0.3, 0.31, 0.32, 0.33, 0.34, 0.35000000000000003, 0.36, 0.37, 0.38, 0.39, 0.4, 0.41000000000000003, 0.42, 0.43, 0.44, 0.45, 0.46, 0.47000000000000003, 0.48, 0.49, 0.5, 0.51, 0.52, 0.53, 0.54, 0.55, 0.56, 0.5700000000000001, 0.58, 0.59, 0.6, 0.61, 0.62, 0.63, 0.64, 0.65, 0.66, 0.67, 0.68, 0.6900000000000001, 0.7000000000000001, 0.71, 0.72, 0.73, 0.74, 0.75, 0.76, 0.77, 0.78, 0.79, 0.8, 0.81, 0.8200000000000001, 0.8300000000000001, 0.84, 0.85, 0.86, 0.87, 0.88, 0.89, 0.9, 0.91, 0.92, 0.93, 0.9400000000000001, 0.9500000000000001, 0.96, 0.97, 0.98, 0.99, 1.0))}, trial_id=762, value=None)]\n"
     ]
    },
    {
     "name": "stderr",
     "output_type": "stream",
     "text": [
      "Hyperband | Run:   6%|▌         | 3/50 [2:39:26<40:32:58, 3105.92s/it]"
     ]
    },
    {
     "name": "stdout",
     "output_type": "stream",
     "text": [
      "Est. true value:\t8.370878896777587\n",
      "Config:\t{'pop_size': 208, 'generations': 500, 'elite_split': 0.05, 'tournament_split': 0.06, 'mutation_rate': 0.85, 'crossover_rate': 0.14}\n",
      "Value:\t[FrozenTrial(number=731, state=1, values=[7.808004196108152], datetime_start=datetime.datetime(2025, 8, 4, 8, 15, 12, 420115), datetime_complete=datetime.datetime(2025, 8, 4, 8, 15, 16, 6139), params={'pop_size': 208, 'generations': 500, 'elite_split': 0.05, 'tournament_split': 0.06, 'mutation_rate': 0.85, 'crossover_rate': 0.14}, user_attrs={}, system_attrs={'completed_rung_0': 7.808004196108152}, intermediate_values={1: 7.808004196108152}, distributions={'pop_size': CategoricalDistribution(choices=(50, 51, 52, 53, 54, 55, 56, 57, 58, 59, 60, 61, 62, 63, 64, 65, 66, 67, 68, 69, 70, 71, 72, 73, 74, 75, 76, 77, 78, 79, 80, 81, 82, 83, 84, 85, 86, 87, 88, 89, 90, 91, 92, 93, 94, 95, 96, 97, 98, 99, 100, 101, 102, 103, 104, 105, 106, 107, 108, 109, 110, 111, 112, 113, 114, 115, 116, 117, 118, 119, 120, 121, 122, 123, 124, 125, 126, 127, 128, 129, 130, 131, 132, 133, 134, 135, 136, 137, 138, 139, 140, 141, 142, 143, 144, 145, 146, 147, 148, 149, 150, 151, 152, 153, 154, 155, 156, 157, 158, 159, 160, 161, 162, 163, 164, 165, 166, 167, 168, 169, 170, 171, 172, 173, 174, 175, 176, 177, 178, 179, 180, 181, 182, 183, 184, 185, 186, 187, 188, 189, 190, 191, 192, 193, 194, 195, 196, 197, 198, 199, 200, 201, 202, 203, 204, 205, 206, 207, 208, 209, 210, 211, 212, 213, 214, 215, 216, 217, 218, 219, 220, 221, 222, 223, 224, 225, 226, 227, 228, 229, 230, 231, 232, 233, 234, 235, 236, 237, 238, 239, 240, 241, 242, 243, 244, 245, 246, 247, 248, 249, 250)), 'generations': CategoricalDistribution(choices=(100, 200, 300, 400, 500)), 'elite_split': CategoricalDistribution(choices=(0.0, 0.01, 0.02, 0.03, 0.04, 0.05, 0.06, 0.07, 0.08, 0.09, 0.1, 0.11, 0.12, 0.13, 0.14, 0.15, 0.16, 0.17, 0.18, 0.19, 0.2)), 'tournament_split': CategoricalDistribution(choices=(0.0, 0.01, 0.02, 0.03, 0.04, 0.05, 0.06, 0.07, 0.08, 0.09, 0.1)), 'mutation_rate': CategoricalDistribution(choices=(0.0, 0.01, 0.02, 0.03, 0.04, 0.05, 0.06, 0.07, 0.08, 0.09, 0.1, 0.11, 0.12, 0.13, 0.14, 0.15, 0.16, 0.17, 0.18, 0.19, 0.2, 0.21, 0.22, 0.23, 0.24, 0.25, 0.26, 0.27, 0.28, 0.29, 0.3, 0.31, 0.32, 0.33, 0.34, 0.35000000000000003, 0.36, 0.37, 0.38, 0.39, 0.4, 0.41000000000000003, 0.42, 0.43, 0.44, 0.45, 0.46, 0.47000000000000003, 0.48, 0.49, 0.5, 0.51, 0.52, 0.53, 0.54, 0.55, 0.56, 0.5700000000000001, 0.58, 0.59, 0.6, 0.61, 0.62, 0.63, 0.64, 0.65, 0.66, 0.67, 0.68, 0.6900000000000001, 0.7000000000000001, 0.71, 0.72, 0.73, 0.74, 0.75, 0.76, 0.77, 0.78, 0.79, 0.8, 0.81, 0.8200000000000001, 0.8300000000000001, 0.84, 0.85, 0.86, 0.87, 0.88, 0.89, 0.9, 0.91, 0.92, 0.93, 0.9400000000000001, 0.9500000000000001, 0.96, 0.97, 0.98, 0.99, 1.0)), 'crossover_rate': CategoricalDistribution(choices=(0.0, 0.01, 0.02, 0.03, 0.04, 0.05, 0.06, 0.07, 0.08, 0.09, 0.1, 0.11, 0.12, 0.13, 0.14, 0.15, 0.16, 0.17, 0.18, 0.19, 0.2, 0.21, 0.22, 0.23, 0.24, 0.25, 0.26, 0.27, 0.28, 0.29, 0.3, 0.31, 0.32, 0.33, 0.34, 0.35000000000000003, 0.36, 0.37, 0.38, 0.39, 0.4, 0.41000000000000003, 0.42, 0.43, 0.44, 0.45, 0.46, 0.47000000000000003, 0.48, 0.49, 0.5, 0.51, 0.52, 0.53, 0.54, 0.55, 0.56, 0.5700000000000001, 0.58, 0.59, 0.6, 0.61, 0.62, 0.63, 0.64, 0.65, 0.66, 0.67, 0.68, 0.6900000000000001, 0.7000000000000001, 0.71, 0.72, 0.73, 0.74, 0.75, 0.76, 0.77, 0.78, 0.79, 0.8, 0.81, 0.8200000000000001, 0.8300000000000001, 0.84, 0.85, 0.86, 0.87, 0.88, 0.89, 0.9, 0.91, 0.92, 0.93, 0.9400000000000001, 0.9500000000000001, 0.96, 0.97, 0.98, 0.99, 1.0))}, trial_id=731, value=None)]\n"
     ]
    }
   ],
   "source": [
    "# rng to make objective reproducible\n",
    "MAXINT = 2 ** 32 - 1\n",
    "rng = np.random.default_rng(SEED)\n",
    "\n",
    "def objective(trial):\n",
    "    \"\"\"Seeded, single-objective function to simulate the GA.\"\"\"\n",
    "    seed = rng.integers(0, MAXINT, dtype=int)\n",
    "    best_cost, _ = genetic_algorithm(\n",
    "        pop_size=trial.suggest_categorical(\"pop_size\", POP_SIZE_RANGE),\n",
    "        generations=trial.suggest_categorical(\"generations\", GENERATIONS_RANGE),\n",
    "        elite_split=trial.suggest_categorical(\"elite_split\", ELITE_SPLIT_RANGE),\n",
    "        tournament_split=trial.suggest_categorical(\"tournament_split\", TOURNAMENT_SPLIT_RANGE),\n",
    "        mutation_rate=trial.suggest_categorical(\"mutation_rate\", MUTATION_RATE_RANGE),\n",
    "        crossover_rate=trial.suggest_categorical(\"crossover_rate\", CROSSOVER_RATE_RANGE),\n",
    "        seed=seed\n",
    "    )\n",
    "\n",
    "    trial.report(best_cost, 1)\n",
    "    if trial.should_prune():\n",
    "        raise optuna.TrialPruned()\n",
    "    \n",
    "    return best_cost\n",
    "\n",
    "print(\"\\nRunning optimization ...\")\n",
    "results_hyperband_rs = []\n",
    "\n",
    "for run_id in tqdm(range(N_RUNS), desc=\"Hyperband | Run\"):\n",
    "    seed = SEED + run_id\n",
    "    gmab = GMAB(population_size=10)\n",
    "    sampler = RandomSampler(seed=seed) # sampling \n",
    "    pruner = HyperbandPruner() # deterministic, takes no seed\n",
    "\n",
    "    study = optuna.create_study(sampler=sampler, pruner=pruner)\n",
    "    study.optimize(objective, n_trials=SIM_BUDGET)\n",
    "    print(f\"Config:\\t{study.best_params}\")\n",
    "    print(f\"Value:\\t{study.best_trials}\")\n",
    "\n",
    "    mean_evaluation, evaluations = estimate_true_value(seed, study.best_params)\n",
    "    print(f\"Est. true value:\\t{mean_evaluation}\")\n",
    "\n",
    "    results_hyperband_rs.append({\n",
    "        \"mean_evaluation\": mean_evaluation,\n",
    "        \"evaluations\": evaluations,\n",
    "        \"best_solution\": study.best_params,\n",
    "        \"seed\": seed\n",
    "    })\n",
    "\n",
    "    with open(Path(\"_data/04_results_hyperband_rs.json\"), 'w') as f:\n",
    "        json.dump(results_hyperband_rs, f)"
   ]
  },
  {
   "cell_type": "markdown",
   "id": "318e24c2",
   "metadata": {},
   "source": [
    "### 2.5 Random Search / 1 Simulation per Configuration"
   ]
  },
  {
   "cell_type": "code",
   "execution_count": null,
   "id": "d63d0b3d",
   "metadata": {},
   "outputs": [],
   "source": [
    "# rng to make objective reproducible\n",
    "MAXINT = 2 ** 32 - 1\n",
    "rng = np.random.default_rng(SEED)\n",
    "\n",
    "def objective(trial):\n",
    "    \"\"\"Seeded, single-objective function to simulate the GA.\"\"\"\n",
    "    seed = rng.integers(0, MAXINT, dtype=int)\n",
    "    best_cost, _ = genetic_algorithm(\n",
    "        pop_size=trial.suggest_categorical(\"pop_size\", POP_SIZE_RANGE),\n",
    "        generations=trial.suggest_categorical(\"generations\", GENERATIONS_RANGE),\n",
    "        elite_split=trial.suggest_categorical(\"elite_split\", ELITE_SPLIT_RANGE),\n",
    "        tournament_split=trial.suggest_categorical(\"tournament_split\", TOURNAMENT_SPLIT_RANGE),\n",
    "        mutation_rate=trial.suggest_categorical(\"mutation_rate\", MUTATION_RATE_RANGE),\n",
    "        crossover_rate=trial.suggest_categorical(\"crossover_rate\", CROSSOVER_RATE_RANGE),\n",
    "        seed=seed\n",
    "    )\n",
    "    return best_cost\n",
    "\n",
    "print(\"\\nRunning optimization ...\")\n",
    "results_rs_one= []\n",
    "\n",
    "for run_id in tqdm(range(N_RUNS), desc=\"Hyperband | Run\"):\n",
    "    seed = SEED + run_id\n",
    "    gmab = GMAB(population_size=10)\n",
    "    sampler = RandomSampler(seed=seed) # sampling \n",
    "\n",
    "    study = optuna.create_study(sampler=sampler)\n",
    "    study.optimize(objective, n_trials=SIM_BUDGET)\n",
    "    print(f\"Config:\\t{study.best_params}\")\n",
    "    print(f\"Value:\\t{study.best_trials}\")\n",
    "\n",
    "    mean_evaluation, evaluations = estimate_true_value(seed, study.best_params)\n",
    "    print(f\"Est. true value:\\t{mean_evaluation}\")\n",
    "\n",
    "    results_rs_one.append({\n",
    "        \"mean_evaluation\": mean_evaluation,\n",
    "        \"evaluations\": evaluations,\n",
    "        \"best_solution\": study.best_params,\n",
    "        \"seed\": seed\n",
    "    })\n",
    "\n",
    "    with open(Path(\"_data/04_results_rs_one.json\"), 'w') as f:\n",
    "        json.dump(results_rs_one, f)"
   ]
  },
  {
   "cell_type": "markdown",
   "id": "0cf52b95",
   "metadata": {},
   "source": [
    "### 2.5 Random Search / 10 Simulations per Configuration"
   ]
  },
  {
   "cell_type": "code",
   "execution_count": null,
   "id": "dae343ca",
   "metadata": {},
   "outputs": [],
   "source": [
    "# Random Search with Static Sampling\n",
    "SIM_PER_TRIAL = 10\n",
    "\n",
    "# rng to make objective reproducible\n",
    "MAXINT = 2 ** 32 - 1\n",
    "rng = np.random.default_rng(SEED)\n",
    "\n",
    "def objective(trial):\n",
    "    \"\"\"Seeded, single-objective function to simulate the GA.\"\"\"\n",
    "    config = {\n",
    "        \"pop_size\": trial.suggest_categorical(\"pop_size\", POP_SIZE_RANGE),\n",
    "        \"generations\": trial.suggest_categorical(\"generations\", GENERATIONS_RANGE),\n",
    "        \"elite_split\": trial.suggest_categorical(\"elite_split\", ELITE_SPLIT_RANGE),\n",
    "        \"tournament_split\": trial.suggest_categorical(\"tournament_split\", TOURNAMENT_SPLIT_RANGE),\n",
    "        \"mutation_rate\": trial.suggest_categorical(\"mutation_rate\", MUTATION_RATE_RANGE),\n",
    "        \"crossover_rate\": trial.suggest_categorical(\"crossover_rate\", CROSSOVER_RATE_RANGE),\n",
    "    }\n",
    "\n",
    "    samples = []\n",
    "    for _ in range(SIM_PER_TRIAL):\n",
    "        seed = rng.integers(0, MAXINT, dtype=int)\n",
    "        best_cost, _ = genetic_algorithm(seed=seed, **config)\n",
    "        samples.append(best_cost)\n",
    "\n",
    "    return np.mean(samples)\n",
    "\n",
    "print(\"\\nRunning optimization ...\")\n",
    "results_rs_ten= []\n",
    "\n",
    "for run_id in tqdm(range(N_RUNS), desc=\"Hyperband | Run\"):\n",
    "    seed = SEED + run_id\n",
    "    gmab = GMAB(population_size=10)\n",
    "    sampler = RandomSampler(seed=seed) # sampling \n",
    "\n",
    "    study = optuna.create_study(sampler=sampler)\n",
    "    study.optimize(objective, n_trials=SIM_BUDGET / SIM_PER_TRIAL)\n",
    "    print(f\"Config:\\t{study.best_params}\")\n",
    "    print(f\"Value:\\t{study.best_trials}\")\n",
    "\n",
    "    mean_evaluation, evaluations = estimate_true_value(seed, study.best_params)\n",
    "    print(f\"Est. true value:\\t{mean_evaluation}\")\n",
    "\n",
    "    results_rs_ten.append({\n",
    "        \"mean_evaluation\": mean_evaluation,\n",
    "        \"evaluations\": evaluations,\n",
    "        \"best_solution\": study.best_params,\n",
    "        \"seed\": seed\n",
    "    })\n",
    "\n",
    "    with open(Path(\"_data/04_results_rs_ten.json\"), 'w') as f:\n",
    "        json.dump(results_rs_ten, f)"
   ]
  },
  {
   "cell_type": "markdown",
   "id": "bbaa14a7",
   "metadata": {},
   "source": [
    "## 3. Comparison"
   ]
  },
  {
   "cell_type": "markdown",
   "id": "6dd8e068",
   "metadata": {},
   "source": [
    "Loads pre-computed results (if available)"
   ]
  },
  {
   "cell_type": "code",
   "execution_count": null,
   "id": "109ddc52",
   "metadata": {},
   "outputs": [],
   "source": [
    "with open(\"_data/04_results_evobandits.json\", \"r\") as f:\n",
    "    results_evobandits = json.load(f)"
   ]
  },
  {
   "cell_type": "code",
   "execution_count": null,
   "id": "a5544411",
   "metadata": {},
   "outputs": [],
   "source": [
    "with open(\"_data/04_results_irace.json\", \"r\") as f:\n",
    "    results_irace = json.load(f)"
   ]
  },
  {
   "cell_type": "code",
   "execution_count": null,
   "id": "d2ae0ad5",
   "metadata": {},
   "outputs": [],
   "source": [
    "with open(\"_data/04_results_hyperband_tpe.json\", \"r\") as f:\n",
    "    results_hyperband_tpe = json.load(f)"
   ]
  },
  {
   "cell_type": "code",
   "execution_count": null,
   "id": "3f5fb253",
   "metadata": {},
   "outputs": [],
   "source": [
    "with open(\"_data/04_results_hyperband_rs.json\", \"r\") as f:\n",
    "    results_hyperband_rs = json.load(f)"
   ]
  },
  {
   "cell_type": "code",
   "execution_count": null,
   "id": "120262ec",
   "metadata": {},
   "outputs": [],
   "source": [
    "with open(\"_data/04_results_rs_one.json\", \"r\") as f:\n",
    "    results_rs_one = json.load(f)"
   ]
  },
  {
   "cell_type": "code",
   "execution_count": null,
   "id": "8927d636",
   "metadata": {},
   "outputs": [],
   "source": [
    "with open(\"_data/04_results_rs_ten.json\", \"r\") as f:\n",
    "    results_rs_ten = json.load(f)"
   ]
  },
  {
   "cell_type": "markdown",
   "id": "263caa6a",
   "metadata": {},
   "source": [
    "### 3.1 Stats"
   ]
  },
  {
   "cell_type": "code",
   "execution_count": null,
   "id": "d581015b",
   "metadata": {},
   "outputs": [],
   "source": [
    "mean_evaluation_data = {\n",
    "    \"EvoBandits\": [r[\"mean_evaluation\"] for r in results_evobandits],\n",
    "    \"IRACE\": [r[\"mean_evaluation\"] for r in results_irace],\n",
    "    \"Hyperband\": [r[\"mean_evaluation\"] for r in results_hyperband_rs],\n",
    "    f\"Hyperband\\n+TPE\": [r[\"mean_evaluation\"] for r in results_hyperband_tpe],\n",
    "    \"RS1\": [r[\"mean_evaluation\"] for r in results_rs_one],\n",
    "    \"RS10\": [r[\"mean_evaluation\"] for r in results_rs_one],\n",
    "}"
   ]
  },
  {
   "cell_type": "code",
   "execution_count": null,
   "id": "57024dc1",
   "metadata": {},
   "outputs": [],
   "source": [
    "df = pd.DataFrame({\n",
    "    'value': np.concatenate(list(mean_evaluation_data.values())),\n",
    "    'method': np.repeat(list(mean_evaluation_data.keys()), [len(v) for v in mean_evaluation_data.values()])\n",
    "})\n",
    "\n",
    "summary = df.groupby('method').agg(\n",
    "    mean=('value', 'mean'),\n",
    "    std=('value', 'std'),\n",
    "    count=('value', 'size')\n",
    ").reset_index()\n",
    "\n",
    "summary['sem'] = summary['std'] / np.sqrt(summary['count'])\n",
    "summary['ci95_low'] = summary['mean'] - 1.96 * summary['sem']\n",
    "summary['ci95_high'] = summary['mean'] + 1.96 * summary['sem']\n",
    "\n",
    "print(summary[['method', 'mean', 'ci95_low', 'ci95_high']])"
   ]
  },
  {
   "cell_type": "code",
   "execution_count": null,
   "id": "e9f4b04f",
   "metadata": {},
   "outputs": [],
   "source": [
    "fig, ax = plt.subplots(1, 1, figsize=(8, 5))\n",
    "ax.boxplot(\n",
    "    mean_evaluation_data.values(), \n",
    "    tick_labels=mean_evaluation_data.keys(), \n",
    "    showmeans=True, \n",
    "    meanprops={\"markerfacecolor\":\"black\", \"markeredgecolor\":\"black\"}, \n",
    "    medianprops={\"color\": \"C0\"}\n",
    ")\n",
    "ax.set_ylabel(\"Total Distance\")\n",
    "\n",
    "plt.tight_layout()\n",
    "plt.savefig(Path(\"_plots/06_comparison.pdf\"))\n",
    "plt.show()"
   ]
  }
 ],
 "metadata": {
  "kernelspec": {
   "display_name": ".venv",
   "language": "python",
   "name": "python3"
  },
  "language_info": {
   "codemirror_mode": {
    "name": "ipython",
    "version": 3
   },
   "file_extension": ".py",
   "mimetype": "text/x-python",
   "name": "python",
   "nbconvert_exporter": "python",
   "pygments_lexer": "ipython3",
   "version": "3.12.10"
  }
 },
 "nbformat": 4,
 "nbformat_minor": 5
}
