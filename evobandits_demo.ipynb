{
 "cells": [
  {
   "cell_type": "markdown",
   "id": "834cb494",
   "metadata": {},
   "source": [
    "# Application Example for EvoBandits"
   ]
  },
  {
   "cell_type": "markdown",
   "id": "b254469c",
   "metadata": {},
   "source": [
    "Setup"
   ]
  },
  {
   "cell_type": "code",
   "execution_count": null,
   "id": "04db06f6",
   "metadata": {},
   "outputs": [],
   "source": [
    "import json\n",
    "from pathlib import Path\n",
    "\n",
    "import matplotlib as mpl\n",
    "import matplotlib.pyplot as plt\n",
    "from matplotlib.colors import PowerNorm\n",
    "import numpy as np\n",
    "from tqdm import tqdm"
   ]
  },
  {
   "cell_type": "code",
   "execution_count": null,
   "id": "246fc3f2",
   "metadata": {},
   "outputs": [],
   "source": [
    "from application_example import (\n",
    "    genetic_algorithm,\n",
    "    TSP_CITIES,\n",
    "    TSP_OPT_COST,\n",
    "    TSP_OPT_TOUR\n",
    ")"
   ]
  },
  {
   "cell_type": "code",
   "execution_count": null,
   "id": "93ba7ff7",
   "metadata": {},
   "outputs": [],
   "source": [
    "plt.style.use(\"default\")\n",
    "\n",
    "mpl.rcParams[\"font.family\"] = \"serif\"\n",
    "mpl.rcParams[\"font.serif\"] = [\n",
    "    \"Computer Modern Roman\",\n",
    "    \"Times New Roman\",\n",
    "    \"Times\",\n",
    "    \"DejaVu Serif\",\n",
    "]\n",
    "mpl.rcParams[\"font.size\"] = 16\n"
   ]
  },
  {
   "cell_type": "markdown",
   "id": "55552490",
   "metadata": {},
   "source": [
    "## 1. Application Example\n",
    "\n",
    "A genetic algorithm, which solves a fixed instance of the Traveling Salesman Problem (TSP), is applied as example for a stochastic optimization problem. \n",
    "\n",
    "The known optimal tour of this 100-city TSP can be used as reference for the evaluation of optimization results."
   ]
  },
  {
   "cell_type": "code",
   "execution_count": null,
   "id": "829da001",
   "metadata": {},
   "outputs": [],
   "source": [
    "print(f\"Cost of the best tour:\\t{TSP_OPT_COST}\")"
   ]
  },
  {
   "cell_type": "code",
   "execution_count": null,
   "id": "64cad31a",
   "metadata": {},
   "outputs": [],
   "source": [
    "fig, ax = plt.subplots(figsize=(8, 6))\n",
    "\n",
    "tour_path = TSP_CITIES[TSP_OPT_TOUR]\n",
    "tour_path = np.vstack([tour_path, tour_path[0]])\n",
    "ax.plot(tour_path[:, 0], tour_path[:, 1], \"-\", c=\"C0\", zorder=1)\n",
    "ax.scatter(TSP_CITIES[:, 0], TSP_CITIES[:, 1], c=\"black\", zorder=2)\n",
    "\n",
    "ax.grid(True)\n",
    "ax.axis(\"equal\")\n",
    "ax.set_xlabel(\"X\")\n",
    "ax.set_ylabel(\"Y\")\n",
    "\n",
    "plt.tight_layout()\n",
    "plt.savefig(Path(\"_plots/01_tsp_opt.pdf\"))\n",
    "plt.show()"
   ]
  },
  {
   "cell_type": "markdown",
   "id": "9f17c6e7",
   "metadata": {},
   "source": [
    "## 2. Optimization with EvoBandits"
   ]
  },
  {
   "cell_type": "markdown",
   "id": "23553651",
   "metadata": {},
   "source": [
    "### 2.1 Optimization"
   ]
  },
  {
   "cell_type": "markdown",
   "id": "3175e1e9",
   "metadata": {},
   "source": [
    "The configuration of the genetic algorithm will be optimized using EvoBandits.\n",
    "\n",
    "Objective Function:"
   ]
  },
  {
   "cell_type": "code",
   "execution_count": null,
   "id": "865a4d78",
   "metadata": {},
   "outputs": [],
   "source": [
    "def objective(seed: int, **params: dict):\n",
    "    \"\"\"Seeded, single-objective function to simulate the GA.\"\"\"\n",
    "    best_cost, _ = genetic_algorithm(seed=seed, **params)\n",
    "    return best_cost"
   ]
  },
  {
   "cell_type": "markdown",
   "id": "d3f84c7b",
   "metadata": {},
   "source": [
    "Parameter Space for the optimization:"
   ]
  },
  {
   "cell_type": "code",
   "execution_count": null,
   "id": "0b9622c8",
   "metadata": {},
   "outputs": [],
   "source": [
    "from evobandits import IntParam, CategoricalParam, FloatParam\n",
    "\n",
    "params = {\n",
    "    \"pop_size\": IntParam(low=50, high=250, size=1),\n",
    "    \"generations\": CategoricalParam(choices=[100, 200, 300, 400, 500]),\n",
    "    \"elite_split\": FloatParam(low=0.0, high=0.2, n_steps=20), \n",
    "    \"tournament_split\": FloatParam(low=0.0, high=0.1, n_steps=10),\n",
    "    \"mutation_rate\": FloatParam(low=0.0, high=1.0, n_steps=100), \n",
    "    \"crossover_rate\": FloatParam(low=0.0, high=1.0, n_steps=100), \n",
    "}"
   ]
  },
  {
   "cell_type": "markdown",
   "id": "7162be33",
   "metadata": {},
   "source": [
    "Algorithm Configuration:"
   ]
  },
  {
   "cell_type": "code",
   "execution_count": null,
   "id": "cac570cf",
   "metadata": {},
   "outputs": [],
   "source": [
    "from evobandits import GMAB\n",
    "\n",
    "gmab_instance = GMAB(mutation_span=0.2)"
   ]
  },
  {
   "cell_type": "markdown",
   "id": "d12e4d48",
   "metadata": {},
   "source": [
    "The optimization requires wrapping the genetic algorithm, so that only the objective value (best_cost) is returned as single objective for the optimizer:"
   ]
  },
  {
   "cell_type": "code",
   "execution_count": null,
   "id": "b89cd15e",
   "metadata": {},
   "outputs": [],
   "source": [
    "from evobandits import Study\n",
    "\n",
    "study = Study(algorithm=gmab_instance, seed=42)\n",
    "study.optimize(objective, params, n_trials=1000, n_best=1000, n_runs=3)"
   ]
  },
  {
   "cell_type": "code",
   "execution_count": null,
   "id": "2a2b7fbc",
   "metadata": {},
   "outputs": [],
   "source": [
    "json.dump(study.results, open(Path(\"_data/01_evobandits_demo_results.json\"), 'w'))"
   ]
  },
  {
   "cell_type": "markdown",
   "id": "91dbf4ac",
   "metadata": {},
   "source": [
    "### 2.2 Study Output"
   ]
  },
  {
   "cell_type": "markdown",
   "id": "a9255dd0",
   "metadata": {},
   "source": [
    "Display raw results (example):"
   ]
  },
  {
   "cell_type": "code",
   "execution_count": null,
   "id": "4315865c",
   "metadata": {},
   "outputs": [],
   "source": [
    "study.results[0]"
   ]
  },
  {
   "cell_type": "markdown",
   "id": "0e654c58",
   "metadata": {},
   "source": [
    "Aggregate Results:"
   ]
  },
  {
   "cell_type": "code",
   "execution_count": null,
   "id": "14e459e7",
   "metadata": {},
   "outputs": [],
   "source": [
    "print(f\"Configuration with best result:\\t{study.best_params}\")\n",
    "print(f\"Best cost found with evobandits:\\t{study.best_value}\")"
   ]
  },
  {
   "cell_type": "markdown",
   "id": "760545d6",
   "metadata": {},
   "source": [
    "### 2.3 Evaluate the result\n",
    "\n",
    "Re-evaluate the best configuration, and compare to the best reported value from optimization."
   ]
  },
  {
   "cell_type": "code",
   "execution_count": null,
   "id": "c5e2522f",
   "metadata": {},
   "outputs": [],
   "source": [
    "results = []\n",
    "rng = np.random.default_rng(seed=42)\n",
    "\n",
    "for _ in tqdm(range(1000), desc=\"Re-evaluate best configuration:\"):\n",
    "    seed = rng.integers(0, 2**32 - 1, dtype=int)\n",
    "    best_cost, _ = genetic_algorithm(seed=seed, **study.best_params)\n",
    "    results.append(best_cost)\n",
    "\n",
    "json.dump(results, open(Path(\"_data/02_evobandits_demo_evaluation.json\"), 'w'))"
   ]
  },
  {
   "cell_type": "code",
   "execution_count": null,
   "id": "64c6c543",
   "metadata": {},
   "outputs": [],
   "source": [
    "plt.figure(figsize=(8, 5))\n",
    "\n",
    "plt.boxplot(results, tick_labels=[\"\"], showmeans=True, meanprops={\"markerfacecolor\":\"black\", \"markeredgecolor\":\"black\"}, medianprops={\"color\": \"C0\"})\n",
    "plt.scatter(1, study.best_value, marker='x', s=100, color=\"C0\", label=\"Reported Best Cost\")\n",
    "plt.axhline(TSP_OPT_COST, linestyle='--', linewidth=1, color=\"C3\", label=\"Optimal Cost\")\n",
    "\n",
    "plt.ylabel(\"Total Distance\")\n",
    "\n",
    "plt.legend()\n",
    "plt.tight_layout()\n",
    "plt.savefig(Path(\"_plots/02_evobandits_demo_results.pdf\"))\n",
    "plt.show()"
   ]
  },
  {
   "cell_type": "markdown",
   "id": "5ccacb7e",
   "metadata": {},
   "source": [
    "## 3. Analysis"
   ]
  },
  {
   "cell_type": "markdown",
   "id": "1069d902",
   "metadata": {},
   "source": [
    "### 3.1 Size of the Search Space"
   ]
  },
  {
   "cell_type": "code",
   "execution_count": null,
   "id": "6cb145c7",
   "metadata": {},
   "outputs": [],
   "source": [
    "total_combinations = 1\n",
    "for name, par in params.items():\n",
    "    lower_bound, upper_bound = par.bounds[0]\n",
    "    cnt_different_values = upper_bound - lower_bound\n",
    "    total_combinations *= cnt_different_values\n",
    "    print(f\"Distint values for {name}:\\t{cnt_different_values}\")\n",
    "print(f\"Total Number of Combinations:\\t{total_combinations    }\")"
   ]
  },
  {
   "cell_type": "markdown",
   "id": "d1f95152",
   "metadata": {},
   "source": [
    "### 3.2 Best configuration: Spread of Results"
   ]
  },
  {
   "cell_type": "code",
   "execution_count": null,
   "id": "6cf10ce8",
   "metadata": {},
   "outputs": [],
   "source": [
    "plt.figure(figsize=(8, 5))\n",
    "plt.grid()\n",
    "\n",
    "plt.hist(results, bins=20, alpha=0.75, edgecolor=\"black\")\n",
    "plt.axvline(TSP_OPT_COST, linestyle='--', linewidth=1, color=\"C3\", label=\"Optimal Cost\")\n",
    "\n",
    "plt.ylabel(\"Total Distance\")\n",
    "plt.xlabel(\"Frequency\")\n",
    "plt.legend()\n",
    "\n",
    "plt.tight_layout()\n",
    "plt.savefig(Path(\"_plots/03_ga_results_spread.pdf\"))\n",
    "plt.show()"
   ]
  },
  {
   "cell_type": "markdown",
   "id": "f8dc7331",
   "metadata": {},
   "source": [
    "### 3.3 Best configuration: Stability of Mean vs. Number of Simulations"
   ]
  },
  {
   "cell_type": "code",
   "execution_count": null,
   "id": "86027efa",
   "metadata": {},
   "outputs": [],
   "source": [
    "plt.figure(figsize=(8, 5))\n",
    "plt.grid()\n",
    "\n",
    "sim_idx = np.arange(1, len(results) + 1)\n",
    "plt.scatter(sim_idx, results, s=5, alpha=0.5, color=\"C7\", label=\"Individual Results\")\n",
    "\n",
    "running_means = np.cumsum(results) / sim_idx\n",
    "plt.plot(sim_idx, running_means, color=\"C0\", label=\"Running Means\")\n",
    "\n",
    "plt.xlabel(\"Total Distance\")\n",
    "plt.xlabel(\"Simulations\")\n",
    "plt.legend()\n",
    "\n",
    "plt.tight_layout()\n",
    "plt.savefig(Path(\"_plots/03_ga_results_means.pdf\"))\n",
    "plt.show()"
   ]
  },
  {
   "cell_type": "markdown",
   "id": "441fd991",
   "metadata": {},
   "source": [
    "### 3.4: Relationships of parameters accross all sampled configurations"
   ]
  },
  {
   "cell_type": "code",
   "execution_count": null,
   "id": "05081724",
   "metadata": {},
   "outputs": [],
   "source": [
    "def plot_heatmap(x_feature, y_feature, bins, cmap_gamma=1, show_best=True, results=study.results):\n",
    "    # Extract data\n",
    "    x = np.array([r[\"params\"][x_feature] for r in results])\n",
    "    y = np.array([r[\"params\"][y_feature] for r in results])\n",
    "    heat = np.array([r[\"value\"] for r in results])\n",
    "\n",
    "    # Define grid\n",
    "    x_bins = np.linspace(min(x), max(x), bins[0])\n",
    "    y_bins = np.linspace(min(y), max(y), bins[1])\n",
    "\n",
    "    # Bin data into 2D histogram: average \"value\" per bin\n",
    "    heatmap = np.full((len(x_bins) - 1, len(y_bins) - 1), np.nan)\n",
    "    counts = np.zeros_like(heatmap)\n",
    "\n",
    "    # Bin manually to compute mean per bin\n",
    "    digitized_x = np.digitize(x, x_bins) - 1\n",
    "    digitized_y = np.digitize(y, y_bins) - 1\n",
    "\n",
    "    for xi, yi, val in zip(digitized_x, digitized_y, heat):\n",
    "        if 0 <= xi < heatmap.shape[0] and 0 <= yi < heatmap.shape[1]:\n",
    "            if np.isnan(heatmap[xi, yi]):\n",
    "                heatmap[xi, yi] = val\n",
    "                counts[xi, yi] = 1\n",
    "            else:\n",
    "                heatmap[xi, yi] += val\n",
    "                counts[xi, yi] += 1\n",
    "\n",
    "    # Avoid divide-by-zero\n",
    "    heatmap = heatmap / np.where(counts == 0, 1, counts)\n",
    "    heatmap[counts == 0] = np.nan  # reset truly empty bins\n",
    "\n",
    "    # Plot (incl. scaling of colormap)\n",
    "    fig, ax = plt.subplots(figsize=(8, 6))\n",
    "    norm = PowerNorm(gamma=cmap_gamma)\n",
    "    mesh = ax.pcolormesh(x_bins, y_bins, heatmap.T, cmap='Blues_r', norm=norm)\n",
    "    fig.colorbar(mesh, ax=ax, label='Mean total distance')\n",
    "\n",
    "    if show_best:\n",
    "        best_x, best_y = study.best_params[x_feature], study.best_params[y_feature]\n",
    "        best_value = study.best_value\n",
    "\n",
    "        ax.scatter(best_x, best_y, color=\"C3\", marker=\"x\", s=100, label=\"Reported Best Cost\")\n",
    "        ax.text(best_x + 0.01, best_y + 0.01, f\"{best_value:.2f}\", color=\"C3\", weight=\"bold\")\n",
    "        plt.legend()\n",
    "\n",
    "    ax.set_xlim((min(x), max(x)))\n",
    "    ax.set_ylim((min(y), max(y)))\n",
    "    ax.set_xlabel(x_feature)\n",
    "    ax.set_ylabel(y_feature)\n",
    "    plt.tight_layout()\n",
    "\n",
    "    fig_name = f\"04_heatmap_{x_feature}_{y_feature}.pdf\"\n",
    "    plt.savefig(Path(f\"_plots/{fig_name}\"))\n",
    "    plt.show()\n",
    "\n",
    "\n",
    "plot_heatmap(\"crossover_rate\", \"mutation_rate\", bins=(25, 25), cmap_gamma=0.3)"
   ]
  },
  {
   "cell_type": "code",
   "execution_count": null,
   "id": "34c7d49e",
   "metadata": {},
   "outputs": [],
   "source": [
    "def plot_violin(feature, tick_labels=None, show_best=True, results=study.results):\n",
    "    # Extract data\n",
    "    features = np.array([r[\"params\"][feature] for r in study.results])\n",
    "    values = np.array([r[\"value\"] for r in study.results])\n",
    "\n",
    "    # Group data\n",
    "    unique_features = np.sort(np.unique(features))\n",
    "    grouped_values = [values[features == feature_value] for feature_value in unique_features]\n",
    "\n",
    "    # Plot\n",
    "    fig, ax = plt.subplots(figsize=(8, 6))\n",
    "    ax.violinplot(grouped_values, positions=range(1, len(unique_features) + 1), showextrema=True, showmedians=True)\n",
    "    ax.set_xticks(range(1, len(unique_features) + 1))\n",
    "\n",
    "    if not tick_labels:\n",
    "        tick_labels = [f\"{val:.2f}\" for val in unique_features]\n",
    "    ax.set_xticklabels(tick_labels)\n",
    "\n",
    "    # Counts above violins\n",
    "    for i, g in enumerate(grouped_values, 1):\n",
    "        ax.text(i, max(g) + 0.05*(max(values)-min(values)), f\"n = {len(g)}\",\n",
    "                ha='center', va='bottom')\n",
    "        \n",
    "    if show_best:\n",
    "        best_feature = study.best_params[feature]\n",
    "        best_value = study.best_value\n",
    "\n",
    "        pos = list(unique_features).index(best_feature) + 1  # +1 because violinplot positions start at 1\n",
    "        ax.scatter(pos, best_value, color='C3', marker='x', s=100, label='Reported Best Cost')\n",
    "        ax.text(pos + 0.05, best_value - 1.5, f\"{best_value:.2f}\", color='C3', fontsize=10, weight='bold')\n",
    "\n",
    "    ax.set_xlabel(feature)\n",
    "    ax.set_ylabel(\"Total distance\")\n",
    "    ax.set_ylim(top=max(values) * 1.2)\n",
    "\n",
    "    plt.legend()\n",
    "    plt.tight_layout()\n",
    "    fig_name = f\"05_violinplot_{feature}.pdf\"\n",
    "    plt.savefig(Path(f\"_plots/{fig_name}\"))\n",
    "    plt.show()\n",
    "\n",
    "plot_violin(\"generations\", tick_labels=[\"100\", \"200\", \"300\", \"400\", \"500\"])\n",
    "plot_violin(\"tournament_split\")"
   ]
  }
 ],
 "metadata": {
  "kernelspec": {
   "display_name": ".venv",
   "language": "python",
   "name": "python3"
  },
  "language_info": {
   "codemirror_mode": {
    "name": "ipython",
    "version": 3
   },
   "file_extension": ".py",
   "mimetype": "text/x-python",
   "name": "python",
   "nbconvert_exporter": "python",
   "pygments_lexer": "ipython3",
   "version": "3.12.10"
  }
 },
 "nbformat": 4,
 "nbformat_minor": 5
}
