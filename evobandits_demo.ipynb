{
 "cells": [
  {
   "cell_type": "markdown",
   "id": "834cb494",
   "metadata": {},
   "source": [
    "# Application Example for EvoBandits"
   ]
  },
  {
   "cell_type": "code",
   "execution_count": null,
   "id": "04db06f6",
   "metadata": {},
   "outputs": [],
   "source": [
    "import json\n",
    "from pathlib import Path\n",
    "\n",
    "import matplotlib.pyplot as plt\n",
    "import numpy as np\n",
    "from tqdm import tqdm"
   ]
  },
  {
   "cell_type": "code",
   "execution_count": null,
   "id": "246fc3f2",
   "metadata": {},
   "outputs": [],
   "source": [
    "from application_example import (\n",
    "    genetic_algorithm,\n",
    "    TSP_CITIES,\n",
    "    TSP_OPT_COST,\n",
    "    TSP_OPT_TOUR\n",
    ")"
   ]
  },
  {
   "cell_type": "code",
   "execution_count": null,
   "id": "b784ff3b",
   "metadata": {},
   "outputs": [],
   "source": [
    "SEED = 42\n",
    "RNG = np.random.default_rng(SEED)"
   ]
  },
  {
   "cell_type": "markdown",
   "id": "55552490",
   "metadata": {},
   "source": [
    "## 1. Application Example\n",
    "\n",
    "A genetic algorithm, which solves a fixed instance of the Traveling Salesman Problem (TSP), is applied as example for a stochastic optimization problem. \n",
    "\n",
    "The known optimal tour of this 100-city TSP can be used as reference for the evaluation of optimization results."
   ]
  },
  {
   "cell_type": "code",
   "execution_count": null,
   "id": "a0176641",
   "metadata": {},
   "outputs": [],
   "source": [
    "tour_path = TSP_CITIES[TSP_OPT_TOUR]\n",
    "tour_path = np.vstack([tour_path, tour_path[0]])\n",
    "fig, ax = plt.subplots(figsize=(5, 5))\n",
    "ax.plot(tour_path[:, 0], tour_path[:, 1], \"-\", zorder=1)\n",
    "\n",
    "# Plot cities\n",
    "ax.scatter(TSP_CITIES[:, 0], TSP_CITIES[:, 1], c=\"black\", zorder=2)\n",
    "\n",
    "ax.set_xlabel(\"X\")\n",
    "ax.set_ylabel(\"Y\")\n",
    "ax.grid(True)\n",
    "ax.axis(\"equal\")\n",
    "\n",
    "plt.savefig(Path(\"_plots/01_tsp_opt.pdf\"))\n",
    "plt.show()"
   ]
  },
  {
   "cell_type": "code",
   "execution_count": null,
   "id": "7ca3d911",
   "metadata": {},
   "outputs": [],
   "source": [
    "print(f\"Cost of the best tour:\\t{TSP_OPT_COST}\")"
   ]
  },
  {
   "cell_type": "markdown",
   "id": "9f17c6e7",
   "metadata": {},
   "source": [
    "## 2. Optimization with EvoBandits"
   ]
  },
  {
   "cell_type": "markdown",
   "id": "23553651",
   "metadata": {},
   "source": [
    "### 2.1 Optimization"
   ]
  },
  {
   "cell_type": "markdown",
   "id": "3175e1e9",
   "metadata": {},
   "source": [
    "The configuration of the genetic algorithm will be optimized using EvoBandits.\n",
    "\n",
    "Parameter Space for the optimization:"
   ]
  },
  {
   "cell_type": "code",
   "execution_count": null,
   "id": "0b9622c8",
   "metadata": {},
   "outputs": [],
   "source": [
    "from evobandits import IntParam, CategoricalParam, FloatParam\n",
    "\n",
    "params = {\n",
    "    \"pop_size\": IntParam(low=50, high=250, size=1),\n",
    "    \"generations\": CategoricalParam(choices=[100, 200, 300, 400, 500]),\n",
    "    \"elite_split\": FloatParam(low=0.0, high=0.2, n_steps=21), \n",
    "    \"tournament_split\": FloatParam(low=0.0, high=0.1, n_steps=11),\n",
    "    \"mutation_rate\": FloatParam(low=0.0, high=1.0, n_steps=101), \n",
    "    \"crossover_rate\": FloatParam(low=0.0, high=1.0, n_steps=101), \n",
    "}"
   ]
  },
  {
   "cell_type": "markdown",
   "id": "7162be33",
   "metadata": {},
   "source": [
    "Algorithm Configuration:"
   ]
  },
  {
   "cell_type": "code",
   "execution_count": null,
   "id": "cac570cf",
   "metadata": {},
   "outputs": [],
   "source": [
    "from evobandits import GMAB\n",
    "\n",
    "gmab_instance = GMAB(mutation_span=0.2)"
   ]
  },
  {
   "cell_type": "markdown",
   "id": "d12e4d48",
   "metadata": {},
   "source": [
    "The optimization requires wrapping the genetic algorithm, so that only the objective value (best_cost) is returned as single objective for the optimizer:"
   ]
  },
  {
   "cell_type": "code",
   "execution_count": null,
   "id": "b89cd15e",
   "metadata": {},
   "outputs": [],
   "source": [
    "from evobandits import Study\n",
    "\n",
    "def objective(seed: int, **params: dict):\n",
    "    \"\"\"Seeded, single-objective function to simulate the GA.\"\"\"\n",
    "    best_cost, _ = genetic_algorithm(seed=seed, **params)\n",
    "    return best_cost\n",
    "\n",
    "study = Study(algorithm=gmab_instance, seed=SEED)\n",
    "study.optimize(objective, params, n_trials=1000, n_runs=3)"
   ]
  },
  {
   "cell_type": "markdown",
   "id": "91dbf4ac",
   "metadata": {},
   "source": [
    "### 2.2 Study Output"
   ]
  },
  {
   "cell_type": "markdown",
   "id": "a9255dd0",
   "metadata": {},
   "source": [
    "Display raw results:"
   ]
  },
  {
   "cell_type": "code",
   "execution_count": null,
   "id": "4315865c",
   "metadata": {},
   "outputs": [],
   "source": [
    "study.results"
   ]
  },
  {
   "cell_type": "markdown",
   "id": "0e654c58",
   "metadata": {},
   "source": [
    "Aggregate Results:"
   ]
  },
  {
   "cell_type": "code",
   "execution_count": null,
   "id": "14e459e7",
   "metadata": {},
   "outputs": [],
   "source": [
    "print(f\"Configuration with best result:\\t{study.best_params}\")\n",
    "print(f\"Best cost found be evobandits:\\t{study.best_value}\")\n",
    "print(f\"Mean of best cost across runs:\\t{study.mean_value}\")"
   ]
  },
  {
   "cell_type": "markdown",
   "id": "d1f95152",
   "metadata": {},
   "source": [
    "### 2.3 Spread of results from the best configuration"
   ]
  },
  {
   "cell_type": "code",
   "execution_count": null,
   "id": "6a4b124d",
   "metadata": {},
   "outputs": [],
   "source": [
    "results = []\n",
    "for _ in tqdm(range(1000), desc=\"Collecting Samples\"):\n",
    "    seed = RNG.integers(0, 2**32 - 1, dtype=int)\n",
    "    best_cost, _ = genetic_algorithm(seed=seed, **study.best_params)\n",
    "    results.append(best_cost)\n",
    "\n",
    "json.dump(results, open(Path(\"_data/02_ga_results_spread.json\"), 'w'))"
   ]
  },
  {
   "cell_type": "code",
   "execution_count": null,
   "id": "ff764abd",
   "metadata": {},
   "outputs": [],
   "source": [
    "fig, axes = plt.subplots(1, 2, figsize=(8, 4), gridspec_kw={\"width_ratios\": [1, 2]})\n",
    "\n",
    "# Boxplot on left side\n",
    "axes[0].grid(False)\n",
    "axes[0].boxplot(results)\n",
    "axes[0].set_ylabel(\"Total distance\")\n",
    "\n",
    "# Histplot in \n",
    "axes[1].grid()\n",
    "axes[1].hist(results, bins=20, alpha=0.75)\n",
    "axes[1].set_xlabel(\"Total distance\")\n",
    "axes[1].set_ylabel(\"Frequency\")\n",
    "\n",
    "plt.tight_layout(rect=(0, 0, 1, 0.96))\n",
    "plt.savefig(Path(\"_plots/02_ga_results_spread.pdf\"))\n",
    "plt.show()"
   ]
  },
  {
   "cell_type": "code",
   "execution_count": null,
   "id": "033e4a48",
   "metadata": {},
   "outputs": [],
   "source": [
    "plt.figure(figsize=(8, 4))\n",
    "plt.grid()\n",
    "\n",
    "# Scatter the results\n",
    "idx = np.arange(1, len(results) + 1)\n",
    "plt.scatter(idx, results, label=\"Results\", s=10)\n",
    "\n",
    "# Plot the running means\n",
    "means = np.cumsum(results) / idx\n",
    "plt.plot(idx, means, label=\"Running mean\", color=\"#dd8452\")\n",
    "\n",
    "plt.tight_layout(rect=(0, 0, 1, 0.96))\n",
    "plt.savefig(Path(\"_plots/03_ga_running_means.pdf\"))\n",
    "plt.show()"
   ]
  }
 ],
 "metadata": {
  "kernelspec": {
   "display_name": ".venv",
   "language": "python",
   "name": "python3"
  },
  "language_info": {
   "codemirror_mode": {
    "name": "ipython",
    "version": 3
   },
   "file_extension": ".py",
   "mimetype": "text/x-python",
   "name": "python",
   "nbconvert_exporter": "python",
   "pygments_lexer": "ipython3",
   "version": "3.12.10"
  }
 },
 "nbformat": 4,
 "nbformat_minor": 5
}
