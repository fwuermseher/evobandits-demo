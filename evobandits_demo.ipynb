{
 "cells": [
  {
   "cell_type": "markdown",
   "id": "834cb494",
   "metadata": {},
   "source": [
    "# Application Example for EvoBandits"
   ]
  },
  {
   "cell_type": "markdown",
   "id": "b254469c",
   "metadata": {},
   "source": [
    "Setup"
   ]
  },
  {
   "cell_type": "code",
   "execution_count": null,
   "id": "04db06f6",
   "metadata": {},
   "outputs": [],
   "source": [
    "import json\n",
    "from pathlib import Path\n",
    "\n",
    "import matplotlib as mpl\n",
    "import matplotlib.pyplot as plt\n",
    "from matplotlib.colors import PowerNorm\n",
    "from matplotlib.ticker import LogLocator, LogFormatter\n",
    "import numpy as np\n",
    "from tqdm import tqdm"
   ]
  },
  {
   "cell_type": "code",
   "execution_count": null,
   "id": "246fc3f2",
   "metadata": {},
   "outputs": [],
   "source": [
    "from application_example import (\n",
    "    genetic_algorithm,\n",
    "    TSP_CITIES,\n",
    "    TSP_OPT_COST,\n",
    "    TSP_OPT_TOUR\n",
    ")"
   ]
  },
  {
   "cell_type": "code",
   "execution_count": null,
   "id": "93ba7ff7",
   "metadata": {},
   "outputs": [],
   "source": [
    "plt.style.use(\"default\")\n",
    "\n",
    "mpl.rcParams[\"font.family\"] = \"serif\"\n",
    "mpl.rcParams[\"font.serif\"] = [\n",
    "    \"Computer Modern Roman\",\n",
    "    \"Times New Roman\",\n",
    "    \"Times\",\n",
    "    \"DejaVu Serif\",\n",
    "]\n",
    "mpl.rcParams[\"font.size\"] = 16\n"
   ]
  },
  {
   "cell_type": "markdown",
   "id": "55552490",
   "metadata": {},
   "source": [
    "## 1. Application Example\n",
    "\n",
    "A genetic algorithm, which solves a fixed instance of the Traveling Salesman Problem (TSP), is applied as example for a stochastic optimization problem. \n",
    "\n",
    "The known optimal tour of this 100-city TSP can be used as reference for the evaluation of optimization results."
   ]
  },
  {
   "cell_type": "code",
   "execution_count": null,
   "id": "829da001",
   "metadata": {},
   "outputs": [],
   "source": [
    "print(f\"Cost of the best tour:\\t{TSP_OPT_COST}\")"
   ]
  },
  {
   "cell_type": "code",
   "execution_count": null,
   "id": "64cad31a",
   "metadata": {},
   "outputs": [],
   "source": [
    "fig, ax = plt.subplots(figsize=(8, 5))\n",
    "\n",
    "tour_path = TSP_CITIES[TSP_OPT_TOUR]\n",
    "tour_path = np.vstack([tour_path, tour_path[0]])\n",
    "ax.plot(tour_path[:, 0], tour_path[:, 1], \"-\", c=\"C0\", zorder=1)\n",
    "ax.scatter(TSP_CITIES[:, 0], TSP_CITIES[:, 1], c=\"black\", zorder=2)\n",
    "\n",
    "ax.grid(True)\n",
    "ax.axis(\"equal\")\n",
    "ax.set_xlabel(\"X\")\n",
    "ax.set_ylabel(\"Y\")\n",
    "\n",
    "plt.tight_layout()\n",
    "plt.savefig(Path(\"_plots/01_tsp_opt.pdf\"))\n",
    "plt.show()"
   ]
  },
  {
   "cell_type": "markdown",
   "id": "9f17c6e7",
   "metadata": {},
   "source": [
    "## 2. Optimization with EvoBandits"
   ]
  },
  {
   "cell_type": "markdown",
   "id": "23553651",
   "metadata": {},
   "source": [
    "### 2.1 Optimization"
   ]
  },
  {
   "cell_type": "markdown",
   "id": "3175e1e9",
   "metadata": {},
   "source": [
    "The configuration of the genetic algorithm will be optimized using EvoBandits.\n",
    "\n",
    "Objective Function:"
   ]
  },
  {
   "cell_type": "code",
   "execution_count": null,
   "id": "865a4d78",
   "metadata": {},
   "outputs": [],
   "source": [
    "def objective(seed: int, **params: dict):\n",
    "    \"\"\"Seeded, single-objective function to simulate the GA.\"\"\"\n",
    "    best_cost, _ = genetic_algorithm(seed=seed, **params)\n",
    "    return best_cost"
   ]
  },
  {
   "cell_type": "markdown",
   "id": "d3f84c7b",
   "metadata": {},
   "source": [
    "Parameter Space for the optimization:"
   ]
  },
  {
   "cell_type": "code",
   "execution_count": null,
   "id": "0b9622c8",
   "metadata": {},
   "outputs": [],
   "source": [
    "from evobandits import IntParam, CategoricalParam, FloatParam\n",
    "\n",
    "params = {\n",
    "    \"pop_size\": IntParam(low=50, high=250, size=1),\n",
    "    \"generations\": CategoricalParam(choices=[100, 200, 300, 400, 500]),\n",
    "    \"elite_split\": FloatParam(low=0.0, high=0.2, n_steps=20), \n",
    "    \"tournament_split\": FloatParam(low=0.0, high=0.1, n_steps=10),\n",
    "    \"mutation_rate\": FloatParam(low=0.0, high=1.0, n_steps=100), \n",
    "    \"crossover_rate\": FloatParam(low=0.0, high=1.0, n_steps=100), \n",
    "}"
   ]
  },
  {
   "cell_type": "markdown",
   "id": "7162be33",
   "metadata": {},
   "source": [
    "Algorithm Configuration:"
   ]
  },
  {
   "cell_type": "code",
   "execution_count": null,
   "id": "cac570cf",
   "metadata": {},
   "outputs": [],
   "source": [
    "from evobandits import GMAB\n",
    "\n",
    "gmab_instance = GMAB(population_size=10)"
   ]
  },
  {
   "cell_type": "markdown",
   "id": "d12e4d48",
   "metadata": {},
   "source": [
    "The optimization requires wrapping the genetic algorithm, so that only the objective value (best_cost) is returned as single objective for the optimizer:"
   ]
  },
  {
   "cell_type": "code",
   "execution_count": null,
   "id": "b89cd15e",
   "metadata": {},
   "outputs": [],
   "source": [
    "from evobandits import Study\n",
    "\n",
    "study = Study(algorithm=gmab_instance, seed=42)\n",
    "study.optimize(objective, params, n_trials=1000, n_best=1000)"
   ]
  },
  {
   "cell_type": "code",
   "execution_count": null,
   "id": "2a2b7fbc",
   "metadata": {},
   "outputs": [],
   "source": [
    "json.dump(study.results, open(Path(\"_data/evobandits_demo_01_results.json\"), 'w'))"
   ]
  },
  {
   "cell_type": "markdown",
   "id": "91dbf4ac",
   "metadata": {},
   "source": [
    "### 2.2 Study Output"
   ]
  },
  {
   "cell_type": "markdown",
   "id": "a9255dd0",
   "metadata": {},
   "source": [
    "Display results (example):"
   ]
  },
  {
   "cell_type": "code",
   "execution_count": null,
   "id": "4315865c",
   "metadata": {},
   "outputs": [],
   "source": [
    "study.results[0]"
   ]
  },
  {
   "cell_type": "code",
   "execution_count": null,
   "id": "14e459e7",
   "metadata": {},
   "outputs": [],
   "source": [
    "print(f\"Configuration with best result:\\t{study.best_params}\")\n",
    "print(f\"Best cost found with evobandits:\\t{study.best_value}\")\n",
    "print(f\"Number of evaluations:\\t{study.best_solution[\"n_evaluations\"]}\")\n",
    "print(f\"Std. deviation:\\t{study.best_solution[\"value_std_dev\"]}\")"
   ]
  },
  {
   "cell_type": "markdown",
   "id": "760545d6",
   "metadata": {},
   "source": [
    "# 3. Analysis of the best result\n",
    "\n",
    "Re-evaluate best configuration, and compare to the best reported value from optimization."
   ]
  },
  {
   "cell_type": "code",
   "execution_count": null,
   "id": "c5e2522f",
   "metadata": {},
   "outputs": [],
   "source": [
    "results = []\n",
    "rng = np.random.default_rng(seed=42)\n",
    "\n",
    "for _ in tqdm(range(1000), desc=\"Re-evaluate best configuration:\"):\n",
    "    seed = rng.integers(0, 2**32 - 1, dtype=int)\n",
    "    best_cost, _ = genetic_algorithm(seed=seed, **study.best_params)\n",
    "    results.append(best_cost)\n",
    "\n",
    "json.dump(results, open(Path(\"_data/evobandits_demo_02_evaluation.json\"), 'w'))"
   ]
  },
  {
   "cell_type": "code",
   "execution_count": null,
   "id": "1f454779",
   "metadata": {},
   "outputs": [],
   "source": [
    "print(f\"Mean result:\\t{np.mean(results)}\")\n",
    "print(f\"Std. deviation:\\t{np.std(results)}\")\n",
    "print(f\"Min value:\\t{np.min(results)}\")\n",
    "print(f\"Max value:\\t{np.max(results)}\")\n",
    "print(f\"Median value:\\t{np.median(results)}\")"
   ]
  },
  {
   "cell_type": "code",
   "execution_count": null,
   "id": "64c6c543",
   "metadata": {},
   "outputs": [],
   "source": [
    "plt.figure(figsize=(8, 4))\n",
    "\n",
    "plt.boxplot(results, tick_labels=[\"\"], showmeans=True, meanprops={\"markerfacecolor\":\"black\", \"markeredgecolor\":\"black\"}, medianprops={\"color\": \"C0\"})\n",
    "plt.scatter(1, study.best_value, marker='x', s=100, color=\"C0\", label=\"Reported Best Value\")\n",
    "plt.axhline(TSP_OPT_COST, linestyle='--', linewidth=1, color=\"C3\", label=\"Optimal Value\")\n",
    "\n",
    "plt.ylabel(\"Total Distance\")\n",
    "plt.ylim(7.20, 8.80)\n",
    "\n",
    "plt.legend()\n",
    "plt.tight_layout()\n",
    "plt.savefig(Path(\"_plots/02_evobandits_demo_results.pdf\"))\n",
    "plt.show()"
   ]
  },
  {
   "cell_type": "code",
   "execution_count": null,
   "id": "6cf10ce8",
   "metadata": {},
   "outputs": [],
   "source": [
    "plt.figure(figsize=(8, 4))\n",
    "plt.grid()\n",
    "\n",
    "plt.hist(results, bins=20, alpha=0.75, edgecolor=\"black\")\n",
    "plt.axvline(TSP_OPT_COST, linestyle='--', linewidth=1, color=\"C3\", label=\"Optimal Value\")\n",
    "\n",
    "plt.ylabel(\"Total Distance\")\n",
    "plt.xlabel(\"Frequency\")\n",
    "plt.xlim(7.20, 8.80)\n",
    "plt.legend()\n",
    "\n",
    "plt.tight_layout()\n",
    "plt.savefig(Path(\"_plots/03_ga_results_spread.pdf\"))\n",
    "plt.show()"
   ]
  },
  {
   "cell_type": "code",
   "execution_count": null,
   "id": "86027efa",
   "metadata": {},
   "outputs": [],
   "source": [
    "plt.figure(figsize=(8, 6))\n",
    "plt.grid()\n",
    "\n",
    "sim_idx = np.arange(1, len(results) + 1)\n",
    "plt.scatter(sim_idx, results, s=5, alpha=0.7, color=\"C7\", label=\"Individual Results\")\n",
    "\n",
    "running_means = np.cumsum(results) / sim_idx\n",
    "plt.plot(sim_idx, running_means, color=\"C0\", label=\"Running Means\")\n",
    "\n",
    "plt.ylabel(\"Total Distance\")\n",
    "plt.xlabel(\"Simulations\")\n",
    "plt.ylim(7.20, 8.80)\n",
    "plt.legend()\n",
    "\n",
    "plt.tight_layout()\n",
    "plt.savefig(Path(\"_plots/03_ga_results_means.pdf\"))\n",
    "plt.show()"
   ]
  },
  {
   "cell_type": "markdown",
   "id": "441fd991",
   "metadata": {},
   "source": [
    "# 4. Extras - Visualization of the Hyperspace\n",
    "\n",
    "Simulation from above is repeated - all results are stored for visualization, not just the best one."
   ]
  },
  {
   "cell_type": "code",
   "execution_count": null,
   "id": "704b7599",
   "metadata": {},
   "outputs": [],
   "source": [
    "fig, ax1 = plt.subplots(figsize=(8, 5))\n",
    "\n",
    "# --- Plot ECDF of values ---\n",
    "values = np.array([r[\"value\"] for r in study.results])\n",
    "ax2_col = \"C3\"\n",
    "\n",
    "ax2 = ax1.twinx()\n",
    "ax2.ecdf(values, color=ax2_col)\n",
    "ax2.set_ylabel('Share of sampled configurations', color=ax2_col)\n",
    "ax2.tick_params(axis='y', colors=ax2_col)\n",
    "\n",
    "# --- Bin total n_evaluations per value\n",
    "n_evaluations = np.array([r[\"n_evaluations\"] for r in study.results])\n",
    "n_bins = 30\n",
    "\n",
    "bins = np.logspace(np.log10(values.min()), np.log10(values.max()), n_bins + 1)\n",
    "bin_indices = np.digitize(values, bins) - 1\n",
    "n_eval_per_bin = np.zeros(n_bins)\n",
    "\n",
    "for i in range(n_bins):\n",
    "    n_eval_per_bin[i] = n_evaluations[bin_indices == i].sum()\n",
    "\n",
    "# ---- Plot n_evaluations per value ---\n",
    "ax1_col = \"C0\"\n",
    "bin_lefts = bins[:-1]\n",
    "bin_widths = np.diff(bins)\n",
    "ax1.bar(bin_lefts, n_eval_per_bin, width=bin_widths, color=ax1_col, alpha=0.4, edgecolor='k')\n",
    "\n",
    "ax1.set_ylabel(\"Total Number of Evaluations\", color=ax1_col)\n",
    "ax1.tick_params(axis='y', colors=ax1_col)\n",
    "\n",
    "# Logscale X-Axis, including tick labels\n",
    "ax1.set_xlabel(\"Estimated Total Distance\")\n",
    "ax1.set_xscale(\"log\")\n",
    "ax1.xaxis.set_major_locator(LogLocator(base=10.0, subs=(5, 10, 20, 30)))\n",
    "ax1.xaxis.set_major_formatter(LogFormatter(base=10.0, labelOnlyBase=False))\n",
    "ax1.grid()\n",
    "\n",
    "plt.tight_layout()\n",
    "plt.savefig(Path(\"_plots/04_ecdf_values.pdf\"))\n",
    "plt.show()"
   ]
  },
  {
   "cell_type": "code",
   "execution_count": null,
   "id": "f3abf2dd",
   "metadata": {},
   "outputs": [],
   "source": [
    "def plot_heatmap(ax, x_feature, y_feature, bins, cmap_gamma=1, show_best=True, results=study.results):\n",
    "    # Extract data\n",
    "    x = np.array([r[\"params\"][x_feature] for r in results])\n",
    "    y = np.array([r[\"params\"][y_feature] for r in results])\n",
    "    heat = np.array([r[\"value\"] for r in results])\n",
    "\n",
    "    # Define grid\n",
    "    x_bins = np.linspace(min(x), max(x), bins[0])\n",
    "    y_bins = np.linspace(min(y), max(y), bins[1])\n",
    "\n",
    "    # Bin data into 2D histogram: average \"value\" per bin\n",
    "    heatmap = np.full((len(x_bins) - 1, len(y_bins) - 1), np.nan)\n",
    "    counts = np.zeros_like(heatmap)\n",
    "\n",
    "    # Bin manually to compute mean per bin\n",
    "    digitized_x = np.digitize(x, x_bins) - 1\n",
    "    digitized_y = np.digitize(y, y_bins) - 1\n",
    "\n",
    "    for xi, yi, val in zip(digitized_x, digitized_y, heat):\n",
    "        if 0 <= xi < heatmap.shape[0] and 0 <= yi < heatmap.shape[1]:\n",
    "            if np.isnan(heatmap[xi, yi]):\n",
    "                heatmap[xi, yi] = val\n",
    "                counts[xi, yi] = 1\n",
    "            else:\n",
    "                heatmap[xi, yi] += val\n",
    "                counts[xi, yi] += 1\n",
    "\n",
    "    # Avoid divide-by-zero\n",
    "    heatmap = heatmap / np.where(counts == 0, 1, counts)\n",
    "    heatmap[counts == 0] = np.nan  # reset truly empty bins\n",
    "\n",
    "    # Plot on given axis\n",
    "    norm = PowerNorm(gamma=cmap_gamma)\n",
    "    mesh = ax.pcolormesh(x_bins, y_bins, heatmap.T, cmap='Blues_r', norm=norm)\n",
    "    \n",
    "    # Add colorbar? \n",
    "    # Usually colorbar should be added outside for subplots, but optional here:\n",
    "    # fig = ax.figure\n",
    "    # fig.colorbar(mesh, ax=ax, label='Mean total distance')\n",
    "\n",
    "    if show_best and study is not None:\n",
    "        best_x, best_y = study.best_params[x_feature], study.best_params[y_feature]\n",
    "        # best_value = study.best_value\n",
    "\n",
    "        ax.scatter(best_x, best_y, color=\"C3\", marker=\"x\", s=100, label=\"Best\")\n",
    "        # ax.text(best_x + 0.01, best_y + 0.01, f\"{best_value:.2f}\", color=\"C3\", weight=\"bold\", fontsize=16)\n",
    "        ax.legend()\n",
    "\n",
    "    ax.set_xlim((min(x), max(x)))\n",
    "    ax.set_ylim((min(y), max(y)))\n",
    "    ax.set_xlabel(x_feature)\n",
    "    ax.set_ylabel(y_feature)\n",
    "\n",
    "    return mesh"
   ]
  },
  {
   "cell_type": "code",
   "execution_count": null,
   "id": "dc8cf84e",
   "metadata": {},
   "outputs": [],
   "source": [
    "def plot_violin(ax, feature, tick_labels=None, show_best=True, results=study.results):\n",
    "    # Extract data\n",
    "    features = np.array([r[\"params\"][feature] for r in results])\n",
    "    values = np.array([r[\"value\"] for r in results])\n",
    "\n",
    "    # Group data by unique feature values\n",
    "    unique_features = np.sort(np.unique(features))\n",
    "    grouped_values = [values[features == feature_value] for feature_value in unique_features]\n",
    "\n",
    "    # Plot violin plot\n",
    "    positions = range(1, len(unique_features) + 1)\n",
    "    ax.violinplot(grouped_values, positions=positions, showextrema=True, showmedians=True)\n",
    "    ax.set_xticks(positions)\n",
    "\n",
    "    if not tick_labels:\n",
    "        tick_labels = [f\"{val:.2f}\" for val in unique_features]\n",
    "    ax.set_xticklabels(tick_labels)\n",
    "\n",
    "    # Counts above violins\n",
    "    y_max = max(values)\n",
    "    y_min = min(values)\n",
    "    y_range = y_max - y_min\n",
    "    for i, g in enumerate(grouped_values, 1):\n",
    "        ax.text(i, max(g) + 0.05 * y_range, f\"{len(g)}\", ha='center', va='bottom')\n",
    "\n",
    "    # Highlight best\n",
    "    if show_best and study is not None:\n",
    "        best_feature = study.best_params[feature]\n",
    "        best_value = study.best_value\n",
    "        if best_feature in unique_features:\n",
    "            pos = list(unique_features).index(best_feature) + 1  # positions start at 1\n",
    "            ax.scatter(pos, best_value, color='C3', marker='x', s=100, label='Best')\n",
    "            # ax.text(pos + 0.05, best_value - 0.05 * y_range, f\"{best_value:.2f}\", color='C3', fontsize=16, weight='bold')\n",
    "\n",
    "    ax.set_xlabel(feature)\n",
    "    \n",
    "    # Logscale X-Axis, including tick labels\n",
    "    ax.set_ylabel(\"Estimated Total distance\")\n",
    "    ax.set_ylim(top=y_max * 1.2)\n",
    "    ax.set_yscale(\"log\")\n",
    "    ax.yaxis.set_major_locator(LogLocator(base=10.0, subs=(5, 10, 20, 30)))\n",
    "    ax.yaxis.set_major_formatter(LogFormatter(base=10.0, labelOnlyBase=False))\n",
    "\n",
    "    return ax"
   ]
  },
  {
   "cell_type": "code",
   "execution_count": null,
   "id": "11a5c036",
   "metadata": {},
   "outputs": [],
   "source": [
    "fig, axs = plt.subplots(1, 2, figsize=(9, 4))\n",
    "\n",
    "mesh1 = plot_heatmap(axs[1], \"mutation_rate\", \"crossover_rate\", bins=(20, 20), cmap_gamma=0.3)\n",
    "plot_violin(axs[0], \"generations\", tick_labels=[\"100\", \"200\", \"300\", \"400\", \"500\"])\n",
    "\n",
    "# Adjust spacing between subplots\n",
    "plt.tight_layout()\n",
    "plt.subplots_adjust(wspace=0.25)\n",
    "\n",
    "# Shared colorbar for both plots:\n",
    "cbar = fig.colorbar(mesh1, ax=axs, orientation='vertical', label='Estimated Total Distance')\n",
    "\n",
    "plt.savefig(Path(\"_plots/05_hyperspace_projections.pdf\"))\n",
    "plt.show()"
   ]
  }
 ],
 "metadata": {
  "kernelspec": {
   "display_name": ".venv",
   "language": "python",
   "name": "python3"
  },
  "language_info": {
   "codemirror_mode": {
    "name": "ipython",
    "version": 3
   },
   "file_extension": ".py",
   "mimetype": "text/x-python",
   "name": "python",
   "nbconvert_exporter": "python",
   "pygments_lexer": "ipython3",
   "version": "3.12.10"
  }
 },
 "nbformat": 4,
 "nbformat_minor": 5
}
