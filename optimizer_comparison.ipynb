{
 "cells": [
  {
   "cell_type": "markdown",
   "id": "e738b407",
   "metadata": {},
   "source": [
    "# Comparison with other libraries\n",
    "\n",
    "This notebooks extends 'evobandits_demo.ipynb' to compare the GMAB algorithm with popular alternatives.\n",
    "\n",
    "Setup:"
   ]
  },
  {
   "cell_type": "code",
   "execution_count": 1,
   "id": "3884d050",
   "metadata": {},
   "outputs": [],
   "source": [
    "import json\n",
    "from pathlib import Path\n",
    "\n",
    "from evobandits import CategoricalParam, Study, GMAB\n",
    "from irace import irace, Experiment, ParameterSpace, Scenario, Ordinal\n",
    "import matplotlib as mpl\n",
    "import matplotlib.pyplot as plt\n",
    "import numpy as np\n",
    "import pandas as pd\n",
    "import optuna\n",
    "from optuna.samplers import TPESampler\n",
    "from optuna.pruners import HyperbandPruner\n",
    "from tqdm import tqdm"
   ]
  },
  {
   "cell_type": "code",
   "execution_count": 2,
   "id": "d4a5f2cd",
   "metadata": {},
   "outputs": [],
   "source": [
    "from application_example import genetic_algorithm"
   ]
  },
  {
   "cell_type": "code",
   "execution_count": 3,
   "id": "c1250e89",
   "metadata": {},
   "outputs": [],
   "source": [
    "plt.style.use(\"default\")\n",
    "\n",
    "mpl.rcParams[\"font.family\"] = \"serif\"\n",
    "mpl.rcParams[\"font.serif\"] = [\n",
    "    \"Computer Modern Roman\",\n",
    "    \"Times New Roman\",\n",
    "    \"Times\",\n",
    "    \"DejaVu Serif\",\n",
    "]\n",
    "mpl.rcParams[\"font.size\"] = 14"
   ]
  },
  {
   "cell_type": "markdown",
   "id": "8dca1b7f",
   "metadata": {},
   "source": [
    "## 1. Presets for the Optimization\n",
    "\n",
    "Identical number of runs, budget and a seed for reproduction:"
   ]
  },
  {
   "cell_type": "code",
   "execution_count": 4,
   "id": "9be906aa",
   "metadata": {},
   "outputs": [],
   "source": [
    "SEED = 42\n",
    "N_RUNS = 50\n",
    "SIM_BUDGET = 1000\n",
    "EVAL_BUDGET = 500"
   ]
  },
  {
   "cell_type": "markdown",
   "id": "4fa176c8",
   "metadata": {},
   "source": [
    "All variables are modeled as ordinal variables from the ranges below to ensure identical search space."
   ]
  },
  {
   "cell_type": "code",
   "execution_count": 5,
   "id": "51b23b0f",
   "metadata": {},
   "outputs": [],
   "source": [
    "POP_SIZE_RANGE = [i for i in range(50, 251, 1)]\n",
    "GENERATIONS_RANGE = [100, 200, 300, 400, 500]\n",
    "ELITE_SPLIT_RANGE = [i * 0.01 for i in range(21)]\n",
    "TOURNAMENT_SPLIT_RANGE = [i * 0.01 for i in range(11)]\n",
    "CROSSOVER_RATE_RANGE = [i * 0.01 for i in range(101)]\n",
    "MUTATION_RATE_RANGE = [i * 0.01 for i in range(101)]"
   ]
  },
  {
   "cell_type": "markdown",
   "id": "5483b6f8",
   "metadata": {},
   "source": [
    "Size of the Search space"
   ]
  },
  {
   "cell_type": "code",
   "execution_count": 6,
   "id": "7a6dd78b",
   "metadata": {},
   "outputs": [
    {
     "name": "stdout",
     "output_type": "stream",
     "text": [
      "Number of distinct solutions:\t2,368,213,155\n"
     ]
    }
   ],
   "source": [
    "total_combinations = len(POP_SIZE_RANGE) * len(ELITE_SPLIT_RANGE) * len(GENERATIONS_RANGE) \\\n",
    "    * len(TOURNAMENT_SPLIT_RANGE) * len(CROSSOVER_RATE_RANGE) * len(MUTATION_RATE_RANGE)\n",
    "\n",
    "print(f\"Number of distinct solutions:\\t{total_combinations:,}\")"
   ]
  },
  {
   "cell_type": "markdown",
   "id": "676a22dc",
   "metadata": {},
   "source": [
    "## 2. Optimization\n",
    "\n",
    "For each algorithm:\n",
    "- Model the genetic_algorithm as objective function\n",
    "- Model the search space\n",
    "- Configure the algorithm\n",
    "- Execute for preset, identical budget and runs\n",
    "- Collect the results and re-sample to evaluate the \"true\" value of the configuration."
   ]
  },
  {
   "cell_type": "code",
   "execution_count": 7,
   "id": "91ea42dd",
   "metadata": {},
   "outputs": [],
   "source": [
    "def estimate_true_value(seed, ga_configuration):\n",
    "    evaluations = []\n",
    "    rng = np.random.default_rng(seed)\n",
    "    for _ in range(EVAL_BUDGET):\n",
    "        seed_eval = rng.integers(0, 2**32 - 1, dtype=int)\n",
    "        best_cost, _ = genetic_algorithm(seed=seed_eval, **ga_configuration)\n",
    "        evaluations.append(best_cost)\n",
    "    mean_evaluation = np.mean(evaluations)\n",
    "    return mean_evaluation, evaluations"
   ]
  },
  {
   "cell_type": "markdown",
   "id": "0868c88b",
   "metadata": {},
   "source": [
    "### 2.1 EvoBandits"
   ]
  },
  {
   "cell_type": "code",
   "execution_count": 8,
   "id": "136290de",
   "metadata": {},
   "outputs": [
    {
     "name": "stdout",
     "output_type": "stream",
     "text": [
      "\n",
      "Running optimization ...\n"
     ]
    },
    {
     "name": "stderr",
     "output_type": "stream",
     "text": [
      "EvoBandits | Run:   0%|          | 0/50 [00:00<?, ?it/s]"
     ]
    },
    {
     "name": "stdout",
     "output_type": "stream",
     "text": [
      "Config:\t{'pop_size': 226, 'generations': 500, 'elite_split': 0.04, 'tournament_split': 0.05, 'mutation_rate': 0.78, 'crossover_rate': 0.0}\n",
      "Value:\t7.925576596461831\n"
     ]
    },
    {
     "name": "stderr",
     "output_type": "stream",
     "text": [
      "EvoBandits | Run:   2%|▏         | 1/50 [1:31:11<74:28:22, 5471.48s/it]"
     ]
    },
    {
     "name": "stdout",
     "output_type": "stream",
     "text": [
      "Est. true value:\t8.009099365950854\n",
      "Config:\t{'pop_size': 250, 'generations': 500, 'elite_split': 0.08, 'tournament_split': 0.04, 'mutation_rate': 0.84, 'crossover_rate': 0.0}\n",
      "Value:\t7.866737136573285\n"
     ]
    },
    {
     "name": "stderr",
     "output_type": "stream",
     "text": [
      "EvoBandits | Run:   4%|▍         | 2/50 [3:04:55<74:08:54, 5561.14s/it]"
     ]
    },
    {
     "name": "stdout",
     "output_type": "stream",
     "text": [
      "Est. true value:\t7.985106184692074\n",
      "Config:\t{'pop_size': 250, 'generations': 400, 'elite_split': 0.16, 'tournament_split': 0.09, 'mutation_rate': 0.84, 'crossover_rate': 0.25}\n",
      "Value:\t7.9950112647249405\n"
     ]
    },
    {
     "name": "stderr",
     "output_type": "stream",
     "text": [
      "EvoBandits | Run:   6%|▌         | 3/50 [4:21:24<66:48:40, 5117.45s/it]"
     ]
    },
    {
     "name": "stdout",
     "output_type": "stream",
     "text": [
      "Est. true value:\t8.111970052316993\n",
      "Config:\t{'pop_size': 240, 'generations': 500, 'elite_split': 0.11, 'tournament_split': 0.05, 'mutation_rate': 0.79, 'crossover_rate': 0.0}\n",
      "Value:\t7.797543215107326\n"
     ]
    },
    {
     "name": "stderr",
     "output_type": "stream",
     "text": [
      "EvoBandits | Run:   8%|▊         | 4/50 [5:49:30<66:14:19, 5183.89s/it]"
     ]
    },
    {
     "name": "stdout",
     "output_type": "stream",
     "text": [
      "Est. true value:\t7.987494340327031\n",
      "Config:\t{'pop_size': 247, 'generations': 500, 'elite_split': 0.04, 'tournament_split': 0.05, 'mutation_rate': 0.88, 'crossover_rate': 0.02}\n",
      "Value:\t7.873475842560513\n"
     ]
    },
    {
     "name": "stderr",
     "output_type": "stream",
     "text": [
      "EvoBandits | Run:  10%|█         | 5/50 [7:25:36<67:25:24, 5393.88s/it]"
     ]
    },
    {
     "name": "stdout",
     "output_type": "stream",
     "text": [
      "Est. true value:\t7.962507188256683\n",
      "Config:\t{'pop_size': 250, 'generations': 400, 'elite_split': 0.03, 'tournament_split': 0.1, 'mutation_rate': 0.8200000000000001, 'crossover_rate': 0.09}\n",
      "Value:\t7.926533679546161\n"
     ]
    },
    {
     "name": "stderr",
     "output_type": "stream",
     "text": [
      "EvoBandits | Run:  12%|█▏        | 6/50 [8:50:36<64:42:02, 5293.70s/it]"
     ]
    },
    {
     "name": "stdout",
     "output_type": "stream",
     "text": [
      "Est. true value:\t8.014330661207499\n",
      "Config:\t{'pop_size': 246, 'generations': 500, 'elite_split': 0.07, 'tournament_split': 0.09, 'mutation_rate': 0.9400000000000001, 'crossover_rate': 0.0}\n",
      "Value:\t7.865673725781605\n"
     ]
    },
    {
     "name": "stderr",
     "output_type": "stream",
     "text": [
      "EvoBandits | Run:  14%|█▍        | 7/50 [10:20:52<63:42:30, 5333.74s/it]"
     ]
    },
    {
     "name": "stdout",
     "output_type": "stream",
     "text": [
      "Est. true value:\t7.9471121037165195\n",
      "Config:\t{'pop_size': 249, 'generations': 500, 'elite_split': 0.12, 'tournament_split': 0.08, 'mutation_rate': 0.64, 'crossover_rate': 0.1}\n",
      "Value:\t7.860782956726181\n"
     ]
    },
    {
     "name": "stderr",
     "output_type": "stream",
     "text": [
      "EvoBandits | Run:  16%|█▌        | 8/50 [11:53:36<63:04:53, 5406.98s/it]"
     ]
    },
    {
     "name": "stdout",
     "output_type": "stream",
     "text": [
      "Est. true value:\t8.03600209409043\n",
      "Config:\t{'pop_size': 230, 'generations': 500, 'elite_split': 0.04, 'tournament_split': 0.1, 'mutation_rate': 0.97, 'crossover_rate': 0.0}\n",
      "Value:\t7.801173563105813\n"
     ]
    },
    {
     "name": "stderr",
     "output_type": "stream",
     "text": [
      "EvoBandits | Run:  18%|█▊        | 9/50 [13:16:14<59:58:56, 5266.74s/it]"
     ]
    },
    {
     "name": "stdout",
     "output_type": "stream",
     "text": [
      "Est. true value:\t7.927656322194829\n",
      "Config:\t{'pop_size': 250, 'generations': 500, 'elite_split': 0.04, 'tournament_split': 0.09, 'mutation_rate': 0.51, 'crossover_rate': 0.08}\n",
      "Value:\t7.919504538713044\n"
     ]
    },
    {
     "name": "stderr",
     "output_type": "stream",
     "text": [
      "EvoBandits | Run:  20%|██        | 10/50 [14:50:55<59:56:23, 5394.58s/it]"
     ]
    },
    {
     "name": "stdout",
     "output_type": "stream",
     "text": [
      "Est. true value:\t8.008776573938981\n",
      "Config:\t{'pop_size': 245, 'generations': 500, 'elite_split': 0.1, 'tournament_split': 0.1, 'mutation_rate': 0.65, 'crossover_rate': 0.0}\n",
      "Value:\t7.877796473373995\n"
     ]
    },
    {
     "name": "stderr",
     "output_type": "stream",
     "text": [
      "EvoBandits | Run:  22%|██▏       | 11/50 [16:20:38<58:24:12, 5391.08s/it]"
     ]
    },
    {
     "name": "stdout",
     "output_type": "stream",
     "text": [
      "Est. true value:\t8.012169910420436\n",
      "Config:\t{'pop_size': 209, 'generations': 500, 'elite_split': 0.1, 'tournament_split': 0.09, 'mutation_rate': 0.53, 'crossover_rate': 0.18}\n",
      "Value:\t7.9870913710800835\n"
     ]
    },
    {
     "name": "stderr",
     "output_type": "stream",
     "text": [
      "EvoBandits | Run:  24%|██▍       | 12/50 [17:33:04<53:33:02, 5073.23s/it]"
     ]
    },
    {
     "name": "stdout",
     "output_type": "stream",
     "text": [
      "Est. true value:\t8.118224861010377\n",
      "Config:\t{'pop_size': 250, 'generations': 500, 'elite_split': 0.07, 'tournament_split': 0.04, 'mutation_rate': 0.87, 'crossover_rate': 0.0}\n",
      "Value:\t7.886763863887318\n"
     ]
    },
    {
     "name": "stderr",
     "output_type": "stream",
     "text": [
      "EvoBandits | Run:  26%|██▌       | 13/50 [19:12:18<54:53:04, 5340.12s/it]"
     ]
    },
    {
     "name": "stdout",
     "output_type": "stream",
     "text": [
      "Est. true value:\t7.989813157168992\n",
      "Config:\t{'pop_size': 217, 'generations': 400, 'elite_split': 0.0, 'tournament_split': 0.08, 'mutation_rate': 0.68, 'crossover_rate': 0.02}\n",
      "Value:\t8.011979728394396\n"
     ]
    },
    {
     "name": "stderr",
     "output_type": "stream",
     "text": [
      "EvoBandits | Run:  28%|██▊       | 14/50 [20:21:33<49:49:12, 4982.02s/it]"
     ]
    },
    {
     "name": "stdout",
     "output_type": "stream",
     "text": [
      "Est. true value:\t8.067574052541332\n",
      "Config:\t{'pop_size': 250, 'generations': 500, 'elite_split': 0.05, 'tournament_split': 0.07, 'mutation_rate': 0.75, 'crossover_rate': 0.0}\n",
      "Value:\t7.824910948289569\n"
     ]
    },
    {
     "name": "stderr",
     "output_type": "stream",
     "text": [
      "EvoBandits | Run:  30%|███       | 15/50 [21:53:27<49:59:43, 5142.37s/it]"
     ]
    },
    {
     "name": "stdout",
     "output_type": "stream",
     "text": [
      "Est. true value:\t7.9741605664183774\n",
      "Config:\t{'pop_size': 208, 'generations': 500, 'elite_split': 0.14, 'tournament_split': 0.1, 'mutation_rate': 0.93, 'crossover_rate': 0.08}\n",
      "Value:\t7.848482230823225\n"
     ]
    },
    {
     "name": "stderr",
     "output_type": "stream",
     "text": [
      "EvoBandits | Run:  32%|███▏      | 16/50 [23:13:09<47:32:31, 5033.86s/it]"
     ]
    },
    {
     "name": "stdout",
     "output_type": "stream",
     "text": [
      "Est. true value:\t7.9887860900549965\n",
      "Config:\t{'pop_size': 238, 'generations': 400, 'elite_split': 0.08, 'tournament_split': 0.09, 'mutation_rate': 0.74, 'crossover_rate': 0.0}\n",
      "Value:\t7.8270375503905925\n"
     ]
    },
    {
     "name": "stderr",
     "output_type": "stream",
     "text": [
      "EvoBandits | Run:  34%|███▍      | 17/50 [24:27:27<44:33:25, 4860.76s/it]"
     ]
    },
    {
     "name": "stdout",
     "output_type": "stream",
     "text": [
      "Est. true value:\t8.040487346341546\n",
      "Config:\t{'pop_size': 244, 'generations': 500, 'elite_split': 0.09, 'tournament_split': 0.07, 'mutation_rate': 0.85, 'crossover_rate': 0.02}\n",
      "Value:\t7.79025969877992\n"
     ]
    },
    {
     "name": "stderr",
     "output_type": "stream",
     "text": [
      "EvoBandits | Run:  36%|███▌      | 18/50 [25:53:32<44:01:13, 4952.31s/it]"
     ]
    },
    {
     "name": "stdout",
     "output_type": "stream",
     "text": [
      "Est. true value:\t7.979860433199059\n",
      "Config:\t{'pop_size': 237, 'generations': 500, 'elite_split': 0.18, 'tournament_split': 0.09, 'mutation_rate': 0.81, 'crossover_rate': 0.0}\n",
      "Value:\t7.83209337122758\n"
     ]
    },
    {
     "name": "stderr",
     "output_type": "stream",
     "text": [
      "EvoBandits | Run:  38%|███▊      | 19/50 [27:20:13<43:17:09, 5026.75s/it]"
     ]
    },
    {
     "name": "stdout",
     "output_type": "stream",
     "text": [
      "Est. true value:\t7.9918696217563285\n",
      "Config:\t{'pop_size': 209, 'generations': 500, 'elite_split': 0.12, 'tournament_split': 0.07, 'mutation_rate': 0.89, 'crossover_rate': 0.07}\n",
      "Value:\t7.788137505855329\n"
     ]
    },
    {
     "name": "stderr",
     "output_type": "stream",
     "text": [
      "EvoBandits | Run:  40%|████      | 20/50 [28:34:57<40:31:56, 4863.87s/it]"
     ]
    },
    {
     "name": "stdout",
     "output_type": "stream",
     "text": [
      "Est. true value:\t8.008133743096735\n",
      "Config:\t{'pop_size': 204, 'generations': 500, 'elite_split': 0.08, 'tournament_split': 0.09, 'mutation_rate': 0.78, 'crossover_rate': 0.0}\n",
      "Value:\t7.8830218710724775\n"
     ]
    },
    {
     "name": "stderr",
     "output_type": "stream",
     "text": [
      "EvoBandits | Run:  42%|████▏     | 21/50 [29:45:59<37:43:38, 4683.40s/it]"
     ]
    },
    {
     "name": "stdout",
     "output_type": "stream",
     "text": [
      "Est. true value:\t7.992215678397155\n",
      "Config:\t{'pop_size': 230, 'generations': 500, 'elite_split': 0.03, 'tournament_split': 0.07, 'mutation_rate': 0.77, 'crossover_rate': 0.12}\n",
      "Value:\t7.795488840494284\n"
     ]
    },
    {
     "name": "stderr",
     "output_type": "stream",
     "text": [
      "EvoBandits | Run:  44%|████▍     | 22/50 [31:21:30<38:52:14, 4997.65s/it]"
     ]
    },
    {
     "name": "stdout",
     "output_type": "stream",
     "text": [
      "Est. true value:\t7.999035405321987\n",
      "Config:\t{'pop_size': 237, 'generations': 500, 'elite_split': 0.12, 'tournament_split': 0.09, 'mutation_rate': 0.86, 'crossover_rate': 0.07}\n",
      "Value:\t7.882302257973967\n"
     ]
    },
    {
     "name": "stderr",
     "output_type": "stream",
     "text": [
      "EvoBandits | Run:  46%|████▌     | 23/50 [32:46:48<37:45:14, 5033.85s/it]"
     ]
    },
    {
     "name": "stdout",
     "output_type": "stream",
     "text": [
      "Est. true value:\t7.998569049969694\n",
      "Config:\t{'pop_size': 247, 'generations': 500, 'elite_split': 0.14, 'tournament_split': 0.07, 'mutation_rate': 0.87, 'crossover_rate': 0.1}\n",
      "Value:\t7.930990198829469\n"
     ]
    },
    {
     "name": "stderr",
     "output_type": "stream",
     "text": [
      "EvoBandits | Run:  48%|████▊     | 24/50 [34:23:42<38:02:46, 5267.94s/it]"
     ]
    },
    {
     "name": "stdout",
     "output_type": "stream",
     "text": [
      "Est. true value:\t7.982644502521114\n",
      "Config:\t{'pop_size': 238, 'generations': 500, 'elite_split': 0.12, 'tournament_split': 0.09, 'mutation_rate': 0.8, 'crossover_rate': 0.0}\n",
      "Value:\t7.862777287603436\n"
     ]
    },
    {
     "name": "stderr",
     "output_type": "stream",
     "text": [
      "EvoBandits | Run:  50%|█████     | 25/50 [35:50:05<36:24:20, 5242.41s/it]"
     ]
    },
    {
     "name": "stdout",
     "output_type": "stream",
     "text": [
      "Est. true value:\t7.9898043437455675\n",
      "Config:\t{'pop_size': 250, 'generations': 500, 'elite_split': 0.16, 'tournament_split': 0.08, 'mutation_rate': 0.74, 'crossover_rate': 0.24}\n",
      "Value:\t7.912733416385374\n"
     ]
    },
    {
     "name": "stderr",
     "output_type": "stream",
     "text": [
      "EvoBandits | Run:  52%|█████▏    | 26/50 [37:27:48<36:11:29, 5428.72s/it]"
     ]
    },
    {
     "name": "stdout",
     "output_type": "stream",
     "text": [
      "Est. true value:\t8.01352651527818\n",
      "Config:\t{'pop_size': 250, 'generations': 500, 'elite_split': 0.13, 'tournament_split': 0.05, 'mutation_rate': 0.58, 'crossover_rate': 0.0}\n",
      "Value:\t7.895665217083467\n"
     ]
    },
    {
     "name": "stderr",
     "output_type": "stream",
     "text": [
      "EvoBandits | Run:  54%|█████▍    | 27/50 [38:44:28<33:05:40, 5180.02s/it]"
     ]
    },
    {
     "name": "stdout",
     "output_type": "stream",
     "text": [
      "Est. true value:\t8.036065454217574\n",
      "Config:\t{'pop_size': 250, 'generations': 500, 'elite_split': 0.1, 'tournament_split': 0.1, 'mutation_rate': 1.0, 'crossover_rate': 0.02}\n",
      "Value:\t7.693996008983231\n"
     ]
    },
    {
     "name": "stderr",
     "output_type": "stream",
     "text": [
      "EvoBandits | Run:  56%|█████▌    | 28/50 [40:28:14<33:34:20, 5493.68s/it]"
     ]
    },
    {
     "name": "stdout",
     "output_type": "stream",
     "text": [
      "Est. true value:\t7.882097418500807\n",
      "Config:\t{'pop_size': 195, 'generations': 500, 'elite_split': 0.12, 'tournament_split': 0.09, 'mutation_rate': 0.9, 'crossover_rate': 0.04}\n",
      "Value:\t7.876510749387142\n"
     ]
    },
    {
     "name": "stderr",
     "output_type": "stream",
     "text": [
      "EvoBandits | Run:  58%|█████▊    | 29/50 [41:29:10<28:49:50, 4942.40s/it]"
     ]
    },
    {
     "name": "stdout",
     "output_type": "stream",
     "text": [
      "Est. true value:\t7.989801381824106\n",
      "Config:\t{'pop_size': 223, 'generations': 500, 'elite_split': 0.11, 'tournament_split': 0.07, 'mutation_rate': 0.75, 'crossover_rate': 0.07}\n",
      "Value:\t7.901679158250727\n"
     ]
    },
    {
     "name": "stderr",
     "output_type": "stream",
     "text": [
      "EvoBandits | Run:  60%|██████    | 30/50 [42:53:17<27:37:56, 4973.80s/it]"
     ]
    },
    {
     "name": "stdout",
     "output_type": "stream",
     "text": [
      "Est. true value:\t8.009519578170192\n",
      "Config:\t{'pop_size': 250, 'generations': 500, 'elite_split': 0.02, 'tournament_split': 0.08, 'mutation_rate': 0.98, 'crossover_rate': 0.02}\n",
      "Value:\t7.8910710093626495\n"
     ]
    },
    {
     "name": "stderr",
     "output_type": "stream",
     "text": [
      "EvoBandits | Run:  62%|██████▏   | 31/50 [44:37:19<28:15:31, 5354.31s/it]"
     ]
    },
    {
     "name": "stdout",
     "output_type": "stream",
     "text": [
      "Est. true value:\t7.915831150860409\n",
      "Config:\t{'pop_size': 249, 'generations': 500, 'elite_split': 0.19, 'tournament_split': 0.08, 'mutation_rate': 0.9500000000000001, 'crossover_rate': 0.07}\n",
      "Value:\t7.706146049468488\n"
     ]
    },
    {
     "name": "stderr",
     "output_type": "stream",
     "text": [
      "EvoBandits | Run:  64%|██████▍   | 32/50 [46:05:50<26:42:24, 5341.34s/it]"
     ]
    },
    {
     "name": "stdout",
     "output_type": "stream",
     "text": [
      "Est. true value:\t7.962662545737854\n",
      "Config:\t{'pop_size': 232, 'generations': 500, 'elite_split': 0.05, 'tournament_split': 0.05, 'mutation_rate': 0.84, 'crossover_rate': 0.0}\n",
      "Value:\t7.909073910116425\n"
     ]
    },
    {
     "name": "stderr",
     "output_type": "stream",
     "text": [
      "EvoBandits | Run:  66%|██████▌   | 33/50 [47:21:07<24:03:18, 5094.05s/it]"
     ]
    },
    {
     "name": "stdout",
     "output_type": "stream",
     "text": [
      "Est. true value:\t7.986558219166682\n",
      "Config:\t{'pop_size': 250, 'generations': 500, 'elite_split': 0.07, 'tournament_split': 0.06, 'mutation_rate': 0.76, 'crossover_rate': 0.05}\n",
      "Value:\t7.753453370360533\n"
     ]
    },
    {
     "name": "stderr",
     "output_type": "stream",
     "text": [
      "EvoBandits | Run:  68%|██████▊   | 34/50 [48:53:56<23:16:25, 5236.61s/it]"
     ]
    },
    {
     "name": "stdout",
     "output_type": "stream",
     "text": [
      "Est. true value:\t7.981881924950611\n",
      "Config:\t{'pop_size': 247, 'generations': 500, 'elite_split': 0.07, 'tournament_split': 0.04, 'mutation_rate': 0.7000000000000001, 'crossover_rate': 0.0}\n",
      "Value:\t7.938918175605826\n"
     ]
    },
    {
     "name": "stderr",
     "output_type": "stream",
     "text": [
      "EvoBandits | Run:  70%|███████   | 35/50 [50:30:43<22:31:52, 5407.50s/it]"
     ]
    },
    {
     "name": "stdout",
     "output_type": "stream",
     "text": [
      "Est. true value:\t8.018775323236934\n",
      "Config:\t{'pop_size': 206, 'generations': 500, 'elite_split': 0.09, 'tournament_split': 0.1, 'mutation_rate': 0.79, 'crossover_rate': 0.14}\n",
      "Value:\t7.911933194917084\n"
     ]
    },
    {
     "name": "stderr",
     "output_type": "stream",
     "text": [
      "EvoBandits | Run:  72%|███████▏  | 36/50 [51:46:38<20:02:06, 5151.90s/it]"
     ]
    },
    {
     "name": "stdout",
     "output_type": "stream",
     "text": [
      "Est. true value:\t7.999369269702338\n",
      "Config:\t{'pop_size': 250, 'generations': 500, 'elite_split': 0.06, 'tournament_split': 0.07, 'mutation_rate': 0.75, 'crossover_rate': 0.15}\n",
      "Value:\t7.8882286485359785\n"
     ]
    },
    {
     "name": "stderr",
     "output_type": "stream",
     "text": [
      "EvoBandits | Run:  74%|███████▍  | 37/50 [53:22:50<19:16:34, 5338.01s/it]"
     ]
    },
    {
     "name": "stdout",
     "output_type": "stream",
     "text": [
      "Est. true value:\t7.985251880657744\n",
      "Config:\t{'pop_size': 239, 'generations': 500, 'elite_split': 0.06, 'tournament_split': 0.1, 'mutation_rate': 0.98, 'crossover_rate': 0.24}\n",
      "Value:\t7.89336568764409\n"
     ]
    },
    {
     "name": "stderr",
     "output_type": "stream",
     "text": [
      "EvoBandits | Run:  76%|███████▌  | 38/50 [55:10:55<18:56:22, 5681.90s/it]"
     ]
    },
    {
     "name": "stdout",
     "output_type": "stream",
     "text": [
      "Est. true value:\t7.968185634893144\n",
      "Config:\t{'pop_size': 225, 'generations': 500, 'elite_split': 0.09, 'tournament_split': 0.06, 'mutation_rate': 0.81, 'crossover_rate': 0.08}\n",
      "Value:\t7.890599347778869\n"
     ]
    },
    {
     "name": "stderr",
     "output_type": "stream",
     "text": [
      "EvoBandits | Run:  78%|███████▊  | 39/50 [56:25:16<16:14:32, 5315.64s/it]"
     ]
    },
    {
     "name": "stdout",
     "output_type": "stream",
     "text": [
      "Est. true value:\t7.987022223414517\n",
      "Config:\t{'pop_size': 247, 'generations': 500, 'elite_split': 0.04, 'tournament_split': 0.09, 'mutation_rate': 0.8, 'crossover_rate': 0.0}\n",
      "Value:\t7.890026695976286\n"
     ]
    },
    {
     "name": "stderr",
     "output_type": "stream",
     "text": [
      "EvoBandits | Run:  80%|████████  | 40/50 [58:12:16<15:41:09, 5646.95s/it]"
     ]
    },
    {
     "name": "stdout",
     "output_type": "stream",
     "text": [
      "Est. true value:\t7.974329877225645\n",
      "Config:\t{'pop_size': 250, 'generations': 400, 'elite_split': 0.2, 'tournament_split': 0.09, 'mutation_rate': 0.81, 'crossover_rate': 0.0}\n",
      "Value:\t7.927989017286298\n"
     ]
    },
    {
     "name": "stderr",
     "output_type": "stream",
     "text": [
      "EvoBandits | Run:  82%|████████▏ | 41/50 [59:24:02<13:06:43, 5244.86s/it]"
     ]
    },
    {
     "name": "stdout",
     "output_type": "stream",
     "text": [
      "Est. true value:\t8.030080284244177\n",
      "Config:\t{'pop_size': 250, 'generations': 500, 'elite_split': 0.01, 'tournament_split': 0.05, 'mutation_rate': 0.65, 'crossover_rate': 0.0}\n",
      "Value:\t7.875789725364237\n"
     ]
    },
    {
     "name": "stderr",
     "output_type": "stream",
     "text": [
      "EvoBandits | Run:  84%|████████▍ | 42/50 [60:57:01<11:52:40, 5345.01s/it]"
     ]
    },
    {
     "name": "stdout",
     "output_type": "stream",
     "text": [
      "Est. true value:\t7.986542463409997\n",
      "Config:\t{'pop_size': 200, 'generations': 500, 'elite_split': 0.02, 'tournament_split': 0.06, 'mutation_rate': 0.75, 'crossover_rate': 0.01}\n",
      "Value:\t7.85948347105605\n"
     ]
    },
    {
     "name": "stderr",
     "output_type": "stream",
     "text": [
      "EvoBandits | Run:  86%|████████▌ | 43/50 [62:03:52<9:36:52, 4944.68s/it] "
     ]
    },
    {
     "name": "stdout",
     "output_type": "stream",
     "text": [
      "Est. true value:\t8.036028811322327\n",
      "Config:\t{'pop_size': 229, 'generations': 500, 'elite_split': 0.0, 'tournament_split': 0.08, 'mutation_rate': 0.63, 'crossover_rate': 0.06}\n",
      "Value:\t7.861662036496136\n"
     ]
    },
    {
     "name": "stderr",
     "output_type": "stream",
     "text": [
      "EvoBandits | Run:  88%|████████▊ | 44/50 [63:33:19<8:27:08, 5071.36s/it]"
     ]
    },
    {
     "name": "stdout",
     "output_type": "stream",
     "text": [
      "Est. true value:\t8.020267742945215\n",
      "Config:\t{'pop_size': 209, 'generations': 500, 'elite_split': 0.11, 'tournament_split': 0.07, 'mutation_rate': 0.9400000000000001, 'crossover_rate': 0.0}\n",
      "Value:\t7.846357529578726\n"
     ]
    },
    {
     "name": "stderr",
     "output_type": "stream",
     "text": [
      "EvoBandits | Run:  90%|█████████ | 45/50 [64:50:49<6:52:04, 4944.90s/it]"
     ]
    },
    {
     "name": "stdout",
     "output_type": "stream",
     "text": [
      "Est. true value:\t7.982574206573523\n",
      "Config:\t{'pop_size': 209, 'generations': 500, 'elite_split': 0.0, 'tournament_split': 0.09, 'mutation_rate': 0.54, 'crossover_rate': 0.01}\n",
      "Value:\t7.896837829998442\n"
     ]
    },
    {
     "name": "stderr",
     "output_type": "stream",
     "text": [
      "EvoBandits | Run:  92%|█████████▏| 46/50 [66:05:01<5:19:48, 4797.10s/it]"
     ]
    },
    {
     "name": "stdout",
     "output_type": "stream",
     "text": [
      "Est. true value:\t8.03635308957322\n",
      "Config:\t{'pop_size': 232, 'generations': 500, 'elite_split': 0.0, 'tournament_split': 0.07, 'mutation_rate': 0.54, 'crossover_rate': 0.04}\n",
      "Value:\t7.818947143584331\n"
     ]
    },
    {
     "name": "stderr",
     "output_type": "stream",
     "text": [
      "EvoBandits | Run:  94%|█████████▍| 47/50 [67:38:19<4:11:52, 5037.44s/it]"
     ]
    },
    {
     "name": "stdout",
     "output_type": "stream",
     "text": [
      "Est. true value:\t8.03253549623815\n",
      "Config:\t{'pop_size': 250, 'generations': 400, 'elite_split': 0.11, 'tournament_split': 0.07, 'mutation_rate': 0.9500000000000001, 'crossover_rate': 0.0}\n",
      "Value:\t7.903605700234994\n"
     ]
    },
    {
     "name": "stderr",
     "output_type": "stream",
     "text": [
      "EvoBandits | Run:  96%|█████████▌| 48/50 [68:57:21<2:44:57, 4948.90s/it]"
     ]
    },
    {
     "name": "stdout",
     "output_type": "stream",
     "text": [
      "Est. true value:\t8.059633556200282\n",
      "Config:\t{'pop_size': 250, 'generations': 500, 'elite_split': 0.03, 'tournament_split': 0.07, 'mutation_rate': 0.84, 'crossover_rate': 0.0}\n",
      "Value:\t7.8601310346791795\n"
     ]
    },
    {
     "name": "stderr",
     "output_type": "stream",
     "text": [
      "EvoBandits | Run:  98%|█████████▊| 49/50 [70:27:49<1:24:52, 5092.49s/it]"
     ]
    },
    {
     "name": "stdout",
     "output_type": "stream",
     "text": [
      "Est. true value:\t7.984837240667651\n",
      "Config:\t{'pop_size': 234, 'generations': 500, 'elite_split': 0.03, 'tournament_split': 0.08, 'mutation_rate': 0.8, 'crossover_rate': 0.13}\n",
      "Value:\t7.903063362310793\n"
     ]
    },
    {
     "name": "stderr",
     "output_type": "stream",
     "text": [
      "EvoBandits | Run: 100%|██████████| 50/50 [71:51:50<00:00, 5174.22s/it]  "
     ]
    },
    {
     "name": "stdout",
     "output_type": "stream",
     "text": [
      "Est. true value:\t7.997906602060502\n"
     ]
    },
    {
     "name": "stderr",
     "output_type": "stream",
     "text": [
      "\n"
     ]
    }
   ],
   "source": [
    "def objective(seed: int, **params: dict):\n",
    "    \"\"\"Seeded, single-objective function to simulate the GA.\"\"\"\n",
    "    best_cost, _ = genetic_algorithm(seed=seed, **params)\n",
    "    return best_cost\n",
    "\n",
    "params = {\n",
    "    \"pop_size\": CategoricalParam(POP_SIZE_RANGE),\n",
    "    \"generations\": CategoricalParam(GENERATIONS_RANGE),\n",
    "    \"elite_split\": CategoricalParam(ELITE_SPLIT_RANGE), \n",
    "    \"tournament_split\": CategoricalParam(TOURNAMENT_SPLIT_RANGE),\n",
    "    \"mutation_rate\": CategoricalParam(MUTATION_RATE_RANGE), \n",
    "    \"crossover_rate\": CategoricalParam(CROSSOVER_RATE_RANGE), \n",
    "}\n",
    "\n",
    "print(\"\\nRunning optimization ...\")\n",
    "results_evobandits = []\n",
    "\n",
    "for run_id in tqdm(range(N_RUNS), desc=\"EvoBandits | Run\"):\n",
    "    seed = SEED + run_id\n",
    "    gmab = GMAB(population_size=10)\n",
    "    study = Study(seed=seed, algorithm=gmab)\n",
    "    study.optimize(objective, params, n_trials=SIM_BUDGET)\n",
    "    print(f\"Config:\\t{study.best_params}\")\n",
    "    print(f\"Value:\\t{study.best_value}\")\n",
    "\n",
    "    mean_evaluation, evaluations = estimate_true_value(seed, study.best_params)\n",
    "    print(f\"Est. true value:\\t{mean_evaluation}\")\n",
    "\n",
    "    results_evobandits.append({\n",
    "        \"mean_evaluation\": mean_evaluation,\n",
    "        \"evaluations\": evaluations,\n",
    "        \"best_solution\": study.best_solution,\n",
    "        \"seed\": seed\n",
    "    })\n",
    "\n",
    "    with open(Path(\"_data/04_results_evobandits.json\"), 'w') as f:\n",
    "        json.dump(results_evobandits, f)"
   ]
  },
  {
   "cell_type": "markdown",
   "id": "24e4bc81",
   "metadata": {},
   "source": [
    "### 2.2 Random Sampling"
   ]
  },
  {
   "cell_type": "code",
   "execution_count": 9,
   "id": "29614483",
   "metadata": {},
   "outputs": [],
   "source": [
    "def randomize_configuration(seed):\n",
    "    rng = np.random.default_rng(seed)\n",
    "    return {\n",
    "        \"pop_size\": int(rng.choice(POP_SIZE_RANGE)),\n",
    "        \"generations\": int(rng.choice(GENERATIONS_RANGE)),\n",
    "        \"elite_split\": float(rng.choice(ELITE_SPLIT_RANGE)),\n",
    "        \"tournament_split\": float(rng.choice(TOURNAMENT_SPLIT_RANGE)),\n",
    "        \"crossover_rate\": float(rng.choice(CROSSOVER_RATE_RANGE)),\n",
    "        \"mutation_rate\": float(rng.choice(MUTATION_RATE_RANGE)),\n",
    "    }"
   ]
  },
  {
   "cell_type": "code",
   "execution_count": 10,
   "id": "3469873a",
   "metadata": {},
   "outputs": [],
   "source": [
    "def random_search(budget, seed):\n",
    "    # Evaluate the GA with random configurations\n",
    "    random_search_results = {}\n",
    "    rng = np.random.default_rng(seed)\n",
    "    for _ in range(budget):\n",
    "        seed = rng.integers(0, 2**32 - 1, dtype=int)\n",
    "        rnd_config = randomize_configuration(seed)\n",
    "        cost, _ = genetic_algorithm(seed=seed, **rnd_config)\n",
    "        random_search_results[cost] = rnd_config\n",
    "\n",
    "    # Find the config with the lowest cost\n",
    "    best_value = min(random_search_results.keys())\n",
    "    best_config = random_search_results[best_value]\n",
    "    return best_value, best_config"
   ]
  },
  {
   "cell_type": "code",
   "execution_count": 11,
   "id": "662488ce",
   "metadata": {},
   "outputs": [
    {
     "name": "stderr",
     "output_type": "stream",
     "text": [
      "RandomSearch | Run:   0%|          | 0/50 [00:00<?, ?it/s]"
     ]
    },
    {
     "name": "stdout",
     "output_type": "stream",
     "text": [
      "\n",
      "Running optimization ...\n",
      "Config:\t{'pop_size': 197, 'generations': 500, 'elite_split': 0.04, 'tournament_split': 0.08, 'crossover_rate': 0.11, 'mutation_rate': 0.77}\n",
      "Value:\t7.897292467219535\n"
     ]
    },
    {
     "name": "stderr",
     "output_type": "stream",
     "text": [
      "RandomSearch | Run:   2%|▏         | 1/50 [49:27<40:23:51, 2968.00s/it]"
     ]
    },
    {
     "name": "stdout",
     "output_type": "stream",
     "text": [
      "Est. true value:\t8.013481400974282\n",
      "\n",
      "Running optimization ...\n",
      "Config:\t{'pop_size': 205, 'generations': 500, 'elite_split': 0.07, 'tournament_split': 0.04, 'crossover_rate': 0.0, 'mutation_rate': 0.63}\n",
      "Value:\t7.647032600130154\n"
     ]
    },
    {
     "name": "stderr",
     "output_type": "stream",
     "text": [
      "RandomSearch | Run:   4%|▍         | 2/50 [1:37:05<38:42:25, 2903.03s/it]"
     ]
    },
    {
     "name": "stdout",
     "output_type": "stream",
     "text": [
      "Est. true value:\t8.101609456558677\n",
      "\n",
      "Running optimization ...\n",
      "Config:\t{'pop_size': 188, 'generations': 500, 'elite_split': 0.13, 'tournament_split': 0.09, 'crossover_rate': 0.05, 'mutation_rate': 0.96}\n",
      "Value:\t7.515688249354553\n"
     ]
    },
    {
     "name": "stderr",
     "output_type": "stream",
     "text": [
      "RandomSearch | Run:   6%|▌         | 3/50 [2:22:38<36:53:02, 2825.16s/it]"
     ]
    },
    {
     "name": "stdout",
     "output_type": "stream",
     "text": [
      "Est. true value:\t8.00753917565616\n",
      "\n",
      "Running optimization ...\n",
      "Config:\t{'pop_size': 204, 'generations': 500, 'elite_split': 0.15, 'tournament_split': 0.07, 'crossover_rate': 0.14, 'mutation_rate': 0.9500000000000001}\n",
      "Value:\t7.512806558713875\n"
     ]
    },
    {
     "name": "stderr",
     "output_type": "stream",
     "text": [
      "RandomSearch | Run:   8%|▊         | 4/50 [3:11:44<36:42:33, 2872.91s/it]"
     ]
    },
    {
     "name": "stdout",
     "output_type": "stream",
     "text": [
      "Est. true value:\t8.088827235358147\n",
      "\n",
      "Running optimization ...\n",
      "Config:\t{'pop_size': 246, 'generations': 400, 'elite_split': 0.1, 'tournament_split': 0.09, 'crossover_rate': 0.17, 'mutation_rate': 0.61}\n",
      "Value:\t7.5338538509292\n"
     ]
    },
    {
     "name": "stderr",
     "output_type": "stream",
     "text": [
      "RandomSearch | Run:  10%|█         | 5/50 [4:01:38<36:27:36, 2916.80s/it]"
     ]
    },
    {
     "name": "stdout",
     "output_type": "stream",
     "text": [
      "Est. true value:\t8.132801534142395\n",
      "\n",
      "Running optimization ...\n",
      "Config:\t{'pop_size': 143, 'generations': 500, 'elite_split': 0.19, 'tournament_split': 0.1, 'crossover_rate': 0.28, 'mutation_rate': 0.86}\n",
      "Value:\t7.762740050307456\n"
     ]
    },
    {
     "name": "stderr",
     "output_type": "stream",
     "text": [
      "RandomSearch | Run:  12%|█▏        | 6/50 [4:39:49<33:02:47, 2703.81s/it]"
     ]
    },
    {
     "name": "stdout",
     "output_type": "stream",
     "text": [
      "Est. true value:\t8.320205288729984\n",
      "\n",
      "Running optimization ...\n",
      "Config:\t{'pop_size': 232, 'generations': 500, 'elite_split': 0.09, 'tournament_split': 0.1, 'crossover_rate': 0.03, 'mutation_rate': 0.67}\n",
      "Value:\t7.621378014250823\n"
     ]
    },
    {
     "name": "stderr",
     "output_type": "stream",
     "text": [
      "RandomSearch | Run:  14%|█▍        | 7/50 [5:33:15<34:15:21, 2867.95s/it]"
     ]
    },
    {
     "name": "stdout",
     "output_type": "stream",
     "text": [
      "Est. true value:\t8.013742401620165\n",
      "\n",
      "Running optimization ...\n",
      "Config:\t{'pop_size': 225, 'generations': 400, 'elite_split': 0.02, 'tournament_split': 0.09, 'crossover_rate': 0.26, 'mutation_rate': 0.96}\n",
      "Value:\t7.823901227602012\n"
     ]
    },
    {
     "name": "stderr",
     "output_type": "stream",
     "text": [
      "RandomSearch | Run:  16%|█▌        | 8/50 [6:26:09<34:35:50, 2965.49s/it]"
     ]
    },
    {
     "name": "stdout",
     "output_type": "stream",
     "text": [
      "Est. true value:\t8.264314568507817\n",
      "\n",
      "Running optimization ...\n",
      "Config:\t{'pop_size': 190, 'generations': 500, 'elite_split': 0.13, 'tournament_split': 0.06, 'crossover_rate': 0.19, 'mutation_rate': 0.89}\n",
      "Value:\t7.653820127736954\n"
     ]
    },
    {
     "name": "stderr",
     "output_type": "stream",
     "text": [
      "RandomSearch | Run:  18%|█▊        | 9/50 [7:13:26<33:19:06, 2925.52s/it]"
     ]
    },
    {
     "name": "stdout",
     "output_type": "stream",
     "text": [
      "Est. true value:\t8.162474891027761\n",
      "\n",
      "Running optimization ...\n",
      "Config:\t{'pop_size': 207, 'generations': 500, 'elite_split': 0.18, 'tournament_split': 0.07, 'crossover_rate': 0.21, 'mutation_rate': 0.73}\n",
      "Value:\t7.5400095108834675\n"
     ]
    },
    {
     "name": "stderr",
     "output_type": "stream",
     "text": [
      "RandomSearch | Run:  20%|██        | 10/50 [8:02:53<32:38:48, 2938.21s/it]"
     ]
    },
    {
     "name": "stdout",
     "output_type": "stream",
     "text": [
      "Est. true value:\t8.101597367786068\n",
      "\n",
      "Running optimization ...\n",
      "Config:\t{'pop_size': 191, 'generations': 500, 'elite_split': 0.0, 'tournament_split': 0.07, 'crossover_rate': 0.24, 'mutation_rate': 0.66}\n",
      "Value:\t7.571377535758199\n"
     ]
    },
    {
     "name": "stderr",
     "output_type": "stream",
     "text": [
      "RandomSearch | Run:  22%|██▏       | 11/50 [8:51:38<31:47:09, 2934.10s/it]"
     ]
    },
    {
     "name": "stdout",
     "output_type": "stream",
     "text": [
      "Est. true value:\t8.128908918247106\n",
      "\n",
      "Running optimization ...\n",
      "Config:\t{'pop_size': 230, 'generations': 500, 'elite_split': 0.07, 'tournament_split': 0.06, 'crossover_rate': 0.08, 'mutation_rate': 0.89}\n",
      "Value:\t7.794341631741463\n"
     ]
    },
    {
     "name": "stderr",
     "output_type": "stream",
     "text": [
      "RandomSearch | Run:  24%|██▍       | 12/50 [9:46:57<32:12:25, 3051.19s/it]"
     ]
    },
    {
     "name": "stdout",
     "output_type": "stream",
     "text": [
      "Est. true value:\t7.987662094178943\n",
      "\n",
      "Running optimization ...\n",
      "Config:\t{'pop_size': 221, 'generations': 500, 'elite_split': 0.11, 'tournament_split': 0.07, 'crossover_rate': 0.05, 'mutation_rate': 0.9500000000000001}\n",
      "Value:\t7.702583768288929\n"
     ]
    },
    {
     "name": "stderr",
     "output_type": "stream",
     "text": [
      "RandomSearch | Run:  26%|██▌       | 13/50 [10:38:41<31:31:22, 3067.11s/it]"
     ]
    },
    {
     "name": "stdout",
     "output_type": "stream",
     "text": [
      "Est. true value:\t7.979437038643099\n",
      "\n",
      "Running optimization ...\n",
      "Config:\t{'pop_size': 207, 'generations': 500, 'elite_split': 0.0, 'tournament_split': 0.09, 'crossover_rate': 0.09, 'mutation_rate': 0.42}\n",
      "Value:\t7.786594192126253\n"
     ]
    },
    {
     "name": "stderr",
     "output_type": "stream",
     "text": [
      "RandomSearch | Run:  28%|██▊       | 14/50 [11:27:49<30:18:40, 3031.13s/it]"
     ]
    },
    {
     "name": "stdout",
     "output_type": "stream",
     "text": [
      "Est. true value:\t8.136810331083533\n",
      "\n",
      "Running optimization ...\n",
      "Config:\t{'pop_size': 161, 'generations': 500, 'elite_split': 0.07, 'tournament_split': 0.09, 'crossover_rate': 0.04, 'mutation_rate': 0.62}\n",
      "Value:\t7.631457183538227\n"
     ]
    },
    {
     "name": "stderr",
     "output_type": "stream",
     "text": [
      "RandomSearch | Run:  30%|███       | 15/50 [12:08:48<27:47:36, 2858.75s/it]"
     ]
    },
    {
     "name": "stdout",
     "output_type": "stream",
     "text": [
      "Est. true value:\t8.1147314850924\n",
      "\n",
      "Running optimization ...\n",
      "Config:\t{'pop_size': 234, 'generations': 500, 'elite_split': 0.05, 'tournament_split': 0.1, 'crossover_rate': 0.19, 'mutation_rate': 0.85}\n",
      "Value:\t7.669169581974357\n"
     ]
    },
    {
     "name": "stderr",
     "output_type": "stream",
     "text": [
      "RandomSearch | Run:  32%|███▏      | 16/50 [13:07:21<28:51:33, 3055.69s/it]"
     ]
    },
    {
     "name": "stdout",
     "output_type": "stream",
     "text": [
      "Est. true value:\t7.998153929857648\n",
      "\n",
      "Running optimization ...\n",
      "Config:\t{'pop_size': 249, 'generations': 400, 'elite_split': 0.01, 'tournament_split': 0.09, 'crossover_rate': 0.46, 'mutation_rate': 0.68}\n",
      "Value:\t7.762481241922007\n"
     ]
    },
    {
     "name": "stderr",
     "output_type": "stream",
     "text": [
      "RandomSearch | Run:  34%|███▍      | 17/50 [14:04:29<29:02:12, 3167.67s/it]"
     ]
    },
    {
     "name": "stdout",
     "output_type": "stream",
     "text": [
      "Est. true value:\t8.230971335047387\n",
      "\n",
      "Running optimization ...\n",
      "Config:\t{'pop_size': 187, 'generations': 500, 'elite_split': 0.18, 'tournament_split': 0.1, 'crossover_rate': 0.08, 'mutation_rate': 0.88}\n",
      "Value:\t7.69521648983677\n"
     ]
    },
    {
     "name": "stderr",
     "output_type": "stream",
     "text": [
      "RandomSearch | Run:  36%|███▌      | 18/50 [14:48:50<26:48:09, 3015.31s/it]"
     ]
    },
    {
     "name": "stdout",
     "output_type": "stream",
     "text": [
      "Est. true value:\t8.016035184150663\n",
      "\n",
      "Running optimization ...\n",
      "Config:\t{'pop_size': 206, 'generations': 500, 'elite_split': 0.15, 'tournament_split': 0.06, 'crossover_rate': 0.09, 'mutation_rate': 0.77}\n",
      "Value:\t7.638983262082513\n"
     ]
    },
    {
     "name": "stderr",
     "output_type": "stream",
     "text": [
      "RandomSearch | Run:  38%|███▊      | 19/50 [15:35:53<25:28:05, 2957.60s/it]"
     ]
    },
    {
     "name": "stdout",
     "output_type": "stream",
     "text": [
      "Est. true value:\t8.056674865914593\n",
      "\n",
      "Running optimization ...\n",
      "Config:\t{'pop_size': 226, 'generations': 500, 'elite_split': 0.04, 'tournament_split': 0.07, 'crossover_rate': 0.07, 'mutation_rate': 0.59}\n",
      "Value:\t7.732271237725183\n"
     ]
    },
    {
     "name": "stderr",
     "output_type": "stream",
     "text": [
      "RandomSearch | Run:  40%|████      | 20/50 [16:29:34<25:18:17, 3036.60s/it]"
     ]
    },
    {
     "name": "stdout",
     "output_type": "stream",
     "text": [
      "Est. true value:\t8.04134741741569\n",
      "\n",
      "Running optimization ...\n",
      "Config:\t{'pop_size': 210, 'generations': 500, 'elite_split': 0.01, 'tournament_split': 0.09, 'crossover_rate': 0.18, 'mutation_rate': 0.56}\n",
      "Value:\t7.5972675798964815\n"
     ]
    },
    {
     "name": "stderr",
     "output_type": "stream",
     "text": [
      "RandomSearch | Run:  42%|████▏     | 21/50 [17:21:52<24:42:30, 3067.27s/it]"
     ]
    },
    {
     "name": "stdout",
     "output_type": "stream",
     "text": [
      "Est. true value:\t8.0675302271952\n",
      "\n",
      "Running optimization ...\n",
      "Config:\t{'pop_size': 222, 'generations': 500, 'elite_split': 0.13, 'tournament_split': 0.08, 'crossover_rate': 0.26, 'mutation_rate': 0.93}\n",
      "Value:\t7.685567088485629\n"
     ]
    },
    {
     "name": "stderr",
     "output_type": "stream",
     "text": [
      "RandomSearch | Run:  44%|████▍     | 22/50 [18:17:01<24:25:12, 3139.74s/it]"
     ]
    },
    {
     "name": "stdout",
     "output_type": "stream",
     "text": [
      "Est. true value:\t8.050512009533424\n",
      "\n",
      "Running optimization ...\n",
      "Config:\t{'pop_size': 215, 'generations': 500, 'elite_split': 0.12, 'tournament_split': 0.1, 'crossover_rate': 0.32, 'mutation_rate': 0.7000000000000001}\n",
      "Value:\t7.733115774706891\n"
     ]
    },
    {
     "name": "stderr",
     "output_type": "stream",
     "text": [
      "RandomSearch | Run:  46%|████▌     | 23/50 [19:10:51<23:45:05, 3166.88s/it]"
     ]
    },
    {
     "name": "stdout",
     "output_type": "stream",
     "text": [
      "Est. true value:\t8.055299916280148\n",
      "\n",
      "Running optimization ...\n",
      "Config:\t{'pop_size': 237, 'generations': 500, 'elite_split': 0.18, 'tournament_split': 0.09, 'crossover_rate': 0.35000000000000003, 'mutation_rate': 0.72}\n",
      "Value:\t7.577440780517152\n"
     ]
    },
    {
     "name": "stderr",
     "output_type": "stream",
     "text": [
      "RandomSearch | Run:  48%|████▊     | 24/50 [20:06:42<23:16:16, 3222.18s/it]"
     ]
    },
    {
     "name": "stdout",
     "output_type": "stream",
     "text": [
      "Est. true value:\t8.095088377808255\n",
      "\n",
      "Running optimization ...\n",
      "Config:\t{'pop_size': 204, 'generations': 500, 'elite_split': 0.07, 'tournament_split': 0.06, 'crossover_rate': 0.1, 'mutation_rate': 0.8200000000000001}\n",
      "Value:\t7.581797821538929\n"
     ]
    },
    {
     "name": "stderr",
     "output_type": "stream",
     "text": [
      "RandomSearch | Run:  50%|█████     | 25/50 [20:56:30<21:53:11, 3151.67s/it]"
     ]
    },
    {
     "name": "stdout",
     "output_type": "stream",
     "text": [
      "Est. true value:\t8.007149827191785\n",
      "\n",
      "Running optimization ...\n",
      "Config:\t{'pop_size': 189, 'generations': 500, 'elite_split': 0.17, 'tournament_split': 0.07, 'crossover_rate': 0.01, 'mutation_rate': 0.75}\n",
      "Value:\t7.558502917333957\n"
     ]
    },
    {
     "name": "stderr",
     "output_type": "stream",
     "text": [
      "RandomSearch | Run:  52%|█████▏    | 26/50 [21:39:34<19:52:37, 2981.55s/it]"
     ]
    },
    {
     "name": "stdout",
     "output_type": "stream",
     "text": [
      "Est. true value:\t8.038756189912908\n",
      "\n",
      "Running optimization ...\n",
      "Config:\t{'pop_size': 240, 'generations': 500, 'elite_split': 0.01, 'tournament_split': 0.07, 'crossover_rate': 0.33, 'mutation_rate': 0.54}\n",
      "Value:\t7.872488616254106\n"
     ]
    },
    {
     "name": "stderr",
     "output_type": "stream",
     "text": [
      "RandomSearch | Run:  54%|█████▍    | 27/50 [22:41:21<20:26:18, 3199.05s/it]"
     ]
    },
    {
     "name": "stdout",
     "output_type": "stream",
     "text": [
      "Est. true value:\t8.098434684884696\n",
      "\n",
      "Running optimization ...\n",
      "Config:\t{'pop_size': 247, 'generations': 500, 'elite_split': 0.05, 'tournament_split': 0.07, 'crossover_rate': 0.05, 'mutation_rate': 0.84}\n",
      "Value:\t7.505650835234245\n"
     ]
    },
    {
     "name": "stderr",
     "output_type": "stream",
     "text": [
      "RandomSearch | Run:  56%|█████▌    | 28/50 [23:42:43<20:26:06, 3343.91s/it]"
     ]
    },
    {
     "name": "stdout",
     "output_type": "stream",
     "text": [
      "Est. true value:\t7.9780851056795665\n",
      "\n",
      "Running optimization ...\n",
      "Config:\t{'pop_size': 221, 'generations': 400, 'elite_split': 0.13, 'tournament_split': 0.08, 'crossover_rate': 0.06, 'mutation_rate': 0.87}\n",
      "Value:\t7.712069478103694\n"
     ]
    },
    {
     "name": "stderr",
     "output_type": "stream",
     "text": [
      "RandomSearch | Run:  58%|█████▊    | 29/50 [24:28:58<18:30:42, 3173.43s/it]"
     ]
    },
    {
     "name": "stdout",
     "output_type": "stream",
     "text": [
      "Est. true value:\t8.082008569250227\n",
      "\n",
      "Running optimization ...\n",
      "Config:\t{'pop_size': 243, 'generations': 500, 'elite_split': 0.2, 'tournament_split': 0.06, 'crossover_rate': 0.11, 'mutation_rate': 0.75}\n",
      "Value:\t7.754199764735092\n"
     ]
    },
    {
     "name": "stderr",
     "output_type": "stream",
     "text": [
      "RandomSearch | Run:  60%|██████    | 30/50 [25:22:00<17:38:41, 3176.05s/it]"
     ]
    },
    {
     "name": "stdout",
     "output_type": "stream",
     "text": [
      "Est. true value:\t8.041308834854927\n",
      "\n",
      "Running optimization ...\n",
      "Config:\t{'pop_size': 240, 'generations': 500, 'elite_split': 0.01, 'tournament_split': 0.09, 'crossover_rate': 0.07, 'mutation_rate': 0.5700000000000001}\n",
      "Value:\t7.598865851791532\n"
     ]
    },
    {
     "name": "stderr",
     "output_type": "stream",
     "text": [
      "RandomSearch | Run:  62%|██████▏   | 31/50 [26:18:58<17:08:42, 3248.56s/it]"
     ]
    },
    {
     "name": "stdout",
     "output_type": "stream",
     "text": [
      "Est. true value:\t8.02600163113997\n",
      "\n",
      "Running optimization ...\n",
      "Config:\t{'pop_size': 190, 'generations': 500, 'elite_split': 0.02, 'tournament_split': 0.08, 'crossover_rate': 0.24, 'mutation_rate': 0.88}\n",
      "Value:\t7.805847708834681\n"
     ]
    },
    {
     "name": "stderr",
     "output_type": "stream",
     "text": [
      "RandomSearch | Run:  64%|██████▍   | 32/50 [27:10:26<16:00:03, 3200.18s/it]"
     ]
    },
    {
     "name": "stdout",
     "output_type": "stream",
     "text": [
      "Est. true value:\t8.05691586739724\n",
      "\n",
      "Running optimization ...\n",
      "Config:\t{'pop_size': 193, 'generations': 500, 'elite_split': 0.08, 'tournament_split': 0.07, 'crossover_rate': 0.11, 'mutation_rate': 0.61}\n",
      "Value:\t7.726370190418541\n"
     ]
    },
    {
     "name": "stderr",
     "output_type": "stream",
     "text": [
      "RandomSearch | Run:  66%|██████▌   | 33/50 [27:56:54<14:31:42, 3076.63s/it]"
     ]
    },
    {
     "name": "stdout",
     "output_type": "stream",
     "text": [
      "Est. true value:\t8.096239366715217\n",
      "\n",
      "Running optimization ...\n",
      "Config:\t{'pop_size': 202, 'generations': 500, 'elite_split': 0.12, 'tournament_split': 0.1, 'crossover_rate': 0.34, 'mutation_rate': 0.8}\n",
      "Value:\t7.636569386850606\n"
     ]
    },
    {
     "name": "stderr",
     "output_type": "stream",
     "text": [
      "RandomSearch | Run:  68%|██████▊   | 34/50 [28:47:18<13:36:14, 3060.89s/it]"
     ]
    },
    {
     "name": "stdout",
     "output_type": "stream",
     "text": [
      "Est. true value:\t8.086270870025423\n",
      "\n",
      "Running optimization ...\n",
      "Config:\t{'pop_size': 181, 'generations': 400, 'elite_split': 0.01, 'tournament_split': 0.09, 'crossover_rate': 0.28, 'mutation_rate': 0.76}\n",
      "Value:\t7.449228235060069\n"
     ]
    },
    {
     "name": "stderr",
     "output_type": "stream",
     "text": [
      "RandomSearch | Run:  70%|███████   | 35/50 [29:30:16<12:08:59, 2915.94s/it]"
     ]
    },
    {
     "name": "stdout",
     "output_type": "stream",
     "text": [
      "Est. true value:\t8.295345621908844\n",
      "\n",
      "Running optimization ...\n",
      "Config:\t{'pop_size': 162, 'generations': 500, 'elite_split': 0.13, 'tournament_split': 0.07, 'crossover_rate': 0.22, 'mutation_rate': 0.87}\n",
      "Value:\t7.6586169632473435\n"
     ]
    },
    {
     "name": "stderr",
     "output_type": "stream",
     "text": [
      "RandomSearch | Run:  72%|███████▏  | 36/50 [30:11:38<10:50:01, 2785.79s/it]"
     ]
    },
    {
     "name": "stdout",
     "output_type": "stream",
     "text": [
      "Est. true value:\t8.274643661517892\n",
      "\n",
      "Running optimization ...\n",
      "Config:\t{'pop_size': 214, 'generations': 500, 'elite_split': 0.04, 'tournament_split': 0.09, 'crossover_rate': 0.23, 'mutation_rate': 0.52}\n",
      "Value:\t7.935368672512498\n"
     ]
    },
    {
     "name": "stderr",
     "output_type": "stream",
     "text": [
      "RandomSearch | Run:  74%|███████▍  | 37/50 [31:03:42<10:25:34, 2887.29s/it]"
     ]
    },
    {
     "name": "stdout",
     "output_type": "stream",
     "text": [
      "Est. true value:\t8.095600214641223\n",
      "\n",
      "Running optimization ...\n",
      "Config:\t{'pop_size': 248, 'generations': 500, 'elite_split': 0.01, 'tournament_split': 0.07, 'crossover_rate': 0.29, 'mutation_rate': 0.81}\n",
      "Value:\t7.627231132692144\n"
     ]
    },
    {
     "name": "stderr",
     "output_type": "stream",
     "text": [
      "RandomSearch | Run:  76%|███████▌  | 38/50 [32:08:47<10:38:31, 3192.60s/it]"
     ]
    },
    {
     "name": "stdout",
     "output_type": "stream",
     "text": [
      "Est. true value:\t7.996495292599669\n",
      "\n",
      "Running optimization ...\n",
      "Config:\t{'pop_size': 230, 'generations': 500, 'elite_split': 0.11, 'tournament_split': 0.1, 'crossover_rate': 0.16, 'mutation_rate': 0.64}\n",
      "Value:\t7.687731670549774\n"
     ]
    },
    {
     "name": "stderr",
     "output_type": "stream",
     "text": [
      "RandomSearch | Run:  78%|███████▊  | 39/50 [33:02:26<9:46:45, 3200.54s/it] "
     ]
    },
    {
     "name": "stdout",
     "output_type": "stream",
     "text": [
      "Est. true value:\t8.035792751069623\n",
      "\n",
      "Running optimization ...\n",
      "Config:\t{'pop_size': 209, 'generations': 500, 'elite_split': 0.08, 'tournament_split': 0.1, 'crossover_rate': 0.07, 'mutation_rate': 0.32}\n",
      "Value:\t7.7345858072871305\n"
     ]
    },
    {
     "name": "stderr",
     "output_type": "stream",
     "text": [
      "RandomSearch | Run:  80%|████████  | 40/50 [33:48:39<8:32:01, 3072.17s/it]"
     ]
    },
    {
     "name": "stdout",
     "output_type": "stream",
     "text": [
      "Est. true value:\t8.322686647544002\n",
      "\n",
      "Running optimization ...\n",
      "Config:\t{'pop_size': 238, 'generations': 500, 'elite_split': 0.09, 'tournament_split': 0.05, 'crossover_rate': 0.38, 'mutation_rate': 0.84}\n",
      "Value:\t7.52741488106017\n"
     ]
    },
    {
     "name": "stderr",
     "output_type": "stream",
     "text": [
      "RandomSearch | Run:  82%|████████▏ | 41/50 [34:49:20<8:06:26, 3242.90s/it]"
     ]
    },
    {
     "name": "stdout",
     "output_type": "stream",
     "text": [
      "Est. true value:\t8.18752403645461\n",
      "\n",
      "Running optimization ...\n",
      "Config:\t{'pop_size': 194, 'generations': 500, 'elite_split': 0.11, 'tournament_split': 0.08, 'crossover_rate': 0.01, 'mutation_rate': 0.74}\n",
      "Value:\t7.632048218837139\n"
     ]
    },
    {
     "name": "stderr",
     "output_type": "stream",
     "text": [
      "RandomSearch | Run:  84%|████████▍ | 42/50 [35:35:16<6:52:53, 3096.71s/it]"
     ]
    },
    {
     "name": "stdout",
     "output_type": "stream",
     "text": [
      "Est. true value:\t8.021079111740603\n",
      "\n",
      "Running optimization ...\n",
      "Config:\t{'pop_size': 234, 'generations': 500, 'elite_split': 0.01, 'tournament_split': 0.1, 'crossover_rate': 0.28, 'mutation_rate': 0.74}\n",
      "Value:\t7.705366557614235\n"
     ]
    },
    {
     "name": "stderr",
     "output_type": "stream",
     "text": [
      "RandomSearch | Run:  86%|████████▌ | 43/50 [36:37:12<6:22:59, 3282.78s/it]"
     ]
    },
    {
     "name": "stdout",
     "output_type": "stream",
     "text": [
      "Est. true value:\t8.030966362556066\n",
      "\n",
      "Running optimization ...\n",
      "Config:\t{'pop_size': 247, 'generations': 500, 'elite_split': 0.04, 'tournament_split': 0.07, 'crossover_rate': 0.5700000000000001, 'mutation_rate': 0.72}\n",
      "Value:\t7.775720333453791\n"
     ]
    },
    {
     "name": "stderr",
     "output_type": "stream",
     "text": [
      "RandomSearch | Run:  88%|████████▊ | 44/50 [37:45:13<5:52:12, 3522.01s/it]"
     ]
    },
    {
     "name": "stdout",
     "output_type": "stream",
     "text": [
      "Est. true value:\t8.21787625683128\n",
      "\n",
      "Running optimization ...\n",
      "Config:\t{'pop_size': 244, 'generations': 500, 'elite_split': 0.06, 'tournament_split': 0.09, 'crossover_rate': 0.35000000000000003, 'mutation_rate': 0.88}\n",
      "Value:\t7.7296216756408\n"
     ]
    },
    {
     "name": "stderr",
     "output_type": "stream",
     "text": [
      "RandomSearch | Run:  90%|█████████ | 45/50 [38:49:17<5:01:33, 3618.66s/it]"
     ]
    },
    {
     "name": "stdout",
     "output_type": "stream",
     "text": [
      "Est. true value:\t8.000410195510867\n",
      "\n",
      "Running optimization ...\n",
      "Config:\t{'pop_size': 202, 'generations': 400, 'elite_split': 0.14, 'tournament_split': 0.1, 'crossover_rate': 0.0, 'mutation_rate': 0.44}\n",
      "Value:\t7.551247808218215\n"
     ]
    },
    {
     "name": "stderr",
     "output_type": "stream",
     "text": [
      "RandomSearch | Run:  92%|█████████▏| 46/50 [39:28:58<3:36:29, 3247.35s/it]"
     ]
    },
    {
     "name": "stdout",
     "output_type": "stream",
     "text": [
      "Est. true value:\t8.403241226893533\n",
      "\n",
      "Running optimization ...\n",
      "Config:\t{'pop_size': 201, 'generations': 500, 'elite_split': 0.2, 'tournament_split': 0.08, 'crossover_rate': 0.15, 'mutation_rate': 0.79}\n",
      "Value:\t7.606396651281497\n"
     ]
    },
    {
     "name": "stderr",
     "output_type": "stream",
     "text": [
      "RandomSearch | Run:  94%|█████████▍| 47/50 [40:15:19<2:35:22, 3107.48s/it]"
     ]
    },
    {
     "name": "stdout",
     "output_type": "stream",
     "text": [
      "Est. true value:\t8.073028814179194\n",
      "\n",
      "Running optimization ...\n",
      "Config:\t{'pop_size': 207, 'generations': 500, 'elite_split': 0.17, 'tournament_split': 0.09, 'crossover_rate': 0.07, 'mutation_rate': 0.67}\n",
      "Value:\t7.470821333005951\n"
     ]
    },
    {
     "name": "stderr",
     "output_type": "stream",
     "text": [
      "RandomSearch | Run:  96%|█████████▌| 48/50 [41:02:46<1:40:58, 3029.30s/it]"
     ]
    },
    {
     "name": "stdout",
     "output_type": "stream",
     "text": [
      "Est. true value:\t8.051018264258746\n",
      "\n",
      "Running optimization ...\n",
      "Config:\t{'pop_size': 204, 'generations': 500, 'elite_split': 0.08, 'tournament_split': 0.05, 'crossover_rate': 0.35000000000000003, 'mutation_rate': 0.92}\n",
      "Value:\t7.804598969666058\n"
     ]
    },
    {
     "name": "stderr",
     "output_type": "stream",
     "text": [
      "RandomSearch | Run:  98%|█████████▊| 49/50 [41:57:07<51:38, 3098.99s/it]  "
     ]
    },
    {
     "name": "stdout",
     "output_type": "stream",
     "text": [
      "Est. true value:\t8.475073360705418\n",
      "\n",
      "Running optimization ...\n",
      "Config:\t{'pop_size': 236, 'generations': 500, 'elite_split': 0.12, 'tournament_split': 0.06, 'crossover_rate': 0.2, 'mutation_rate': 0.87}\n",
      "Value:\t7.742618532247018\n"
     ]
    },
    {
     "name": "stderr",
     "output_type": "stream",
     "text": [
      "RandomSearch | Run: 100%|██████████| 50/50 [42:54:58<00:00, 3089.98s/it]"
     ]
    },
    {
     "name": "stdout",
     "output_type": "stream",
     "text": [
      "Est. true value:\t8.009247303295435\n"
     ]
    },
    {
     "name": "stderr",
     "output_type": "stream",
     "text": [
      "\n"
     ]
    }
   ],
   "source": [
    "results_rnd_search = []\n",
    "\n",
    "for run_id in tqdm(range(N_RUNS), desc=\"RandomSearch | Run\"):\n",
    "    print(\"\\nRunning optimization ...\")\n",
    "    seed = SEED + run_id\n",
    "    best_value, best_params = random_search(SIM_BUDGET, seed)\n",
    "    print(f\"Config:\\t{best_params}\")\n",
    "    print(f\"Value:\\t{best_value}\")\n",
    "\n",
    "    mean_evaluation, evaluations = estimate_true_value(seed, best_params)\n",
    "    print(f\"Est. true value:\\t{mean_evaluation}\")\n",
    "\n",
    "    results_rnd_search.append({\n",
    "        \"mean_evaluation\": mean_evaluation,\n",
    "        \"evaluations\": evaluations,\n",
    "        \"best_value\": best_value,\n",
    "        \"best_params\": best_params,\n",
    "        \"seed\": seed,\n",
    "    })\n",
    "\n",
    "    with open(Path(\"_data/04_results_rnd_search.json\"), 'w') as f:\n",
    "        json.dump(results_rnd_search, f)"
   ]
  },
  {
   "cell_type": "markdown",
   "id": "7aa0339d",
   "metadata": {},
   "source": [
    "### 2.3 IRACE"
   ]
  },
  {
   "cell_type": "code",
   "execution_count": 12,
   "id": "cd4a9ff0",
   "metadata": {},
   "outputs": [
    {
     "name": "stdout",
     "output_type": "stream",
     "text": [
      "\n",
      "Running optimization ...\n"
     ]
    },
    {
     "name": "stderr",
     "output_type": "stream",
     "text": [
      "IRACE | Run:   0%|          | 0/50 [00:00<?, ?it/s]"
     ]
    },
    {
     "name": "stdout",
     "output_type": "stream",
     "text": [
      "\n",
      "Running optimization ...\n"
     ]
    },
    {
     "name": "stderr",
     "output_type": "stream",
     "text": [
      "Error importing in API mode: ImportError('On Windows, cffi mode \"ANY\" is only \"ABI\".')\n",
      "Trying to import in ABI mode.\n",
      "c:\\Users\\fwuer\\Code\\evobandits-demo\\.venv\\Lib\\site-packages\\rpy2\\rinterface\\__init__.py:1211: UserWarning: Environment variable \"PATH\" redefined by R and overriding existing variable. Current: \"c:\\Users\\fwuer\\Code\\evobandits-demo\\.venv\\Scripts;C:\\Program Files (x86)\\Intel\\iCLS Client\\;C:\\Program Files\\Intel\\iCLS Client\\;C:\\WINDOWS\\system32;C:\\WINDOWS;C:\\WINDOWS\\System32\\Wbem;C:\\WINDOWS\\System32\\WindowsPowerShell\\v1.0\\;C:\\Program Files (x86)\\Intel\\Intel(R) Management Engine Components\\DAL;C:\\Program Files\\Intel\\Intel(R) Management Engine Components\\DAL;C:\\Program Files (x86)\\Intel\\Intel(R) Management Engine Components\\IPT;C:\\Program Files\\Intel\\Intel(R) Management Engine Components\\IPT;C:\\Program Files\\Intel\\WiFi\\bin\\;C:\\Program Files\\Common Files\\Intel\\WirelessCommon\\;C:\\WINDOWS\\System32\\OpenSSH\\;C:\\Program Files\\Git\\cmd;C:\\Users\\fwuer\\AppData\\Local\\Programs\\Python\\Launcher\\;C:\\Users\\fwuer\\AppData\\Local\\Microsoft\\WindowsApps;C:\\Users\\fwuer\\AppData\\Local\\Programs\\Microsoft VS Code\\bin;C:\\Program Files\\R\\R-4.4.1\\bin\\x64;;C:\\Program Files\\R\\R-4.4.1\\bin\\x64\", R: \"C:\\rtools44/x86_64-w64-mingw32.static.posix/bin;C:\\rtools44/usr/bin;c:\\Users\\fwuer\\Code\\evobandits-demo\\.venv\\Scripts;C:\\Program Files (x86)\\Intel\\iCLS Client\\;C:\\Program Files\\Intel\\iCLS Client\\;C:\\WINDOWS\\system32;C:\\WINDOWS;C:\\WINDOWS\\System32\\Wbem;C:\\WINDOWS\\System32\\WindowsPowerShell\\v1.0\\;C:\\Program Files (x86)\\Intel\\Intel(R) Management Engine Components\\DAL;C:\\Program Files\\Intel\\Intel(R) Management Engine Components\\DAL;C:\\Program Files (x86)\\Intel\\Intel(R) Management Engine Components\\IPT;C:\\Program Files\\Intel\\Intel(R) Management Engine Components\\IPT;C:\\Program Files\\Intel\\WiFi\\bin\\;C:\\Program Files\\Common Files\\Intel\\WirelessCommon\\;C:\\WINDOWS\\System32\\OpenSSH\\;C:\\Program Files\\Git\\cmd;C:\\Users\\fwuer\\AppData\\Local\\Programs\\Python\\Launcher\\;C:\\Users\\fwuer\\AppData\\Local\\Microsoft\\WindowsApps;C:\\Users\\fwuer\\AppData\\Local\\Programs\\Microsoft VS Code\\bin;C:\\Program Files\\R\\R-4.4.1\\bin\\x64;;C:\\Program Files\\R\\R-4.4.1\\bin\\x64\"\n",
      "  warnings.warn(\n",
      "c:\\Users\\fwuer\\Code\\evobandits-demo\\.venv\\Lib\\site-packages\\rpy2\\rinterface\\__init__.py:1211: UserWarning: Environment variable \"R_HOME\" redefined by R and overriding existing variable. Current: \"C:\\Program Files\\R\\R-4.4.1\", R: \"C:/PROGRA~1/R/R-44~1.1\"\n",
      "  warnings.warn(\n",
      "c:\\Users\\fwuer\\Code\\evobandits-demo\\.venv\\Lib\\site-packages\\rpy2\\rinterface\\__init__.py:1211: UserWarning: Environment variable \"PATH\" redefined by R and overriding existing variable. Current: \"C:\\rtools44/x86_64-w64-mingw32.static.posix/bin;C:\\rtools44/usr/bin;c:\\Users\\fwuer\\Code\\evobandits-demo\\.venv\\Scripts;C:\\Program Files (x86)\\Intel\\iCLS Client\\;C:\\Program Files\\Intel\\iCLS Client\\;C:\\WINDOWS\\system32;C:\\WINDOWS;C:\\WINDOWS\\System32\\Wbem;C:\\WINDOWS\\System32\\WindowsPowerShell\\v1.0\\;C:\\Program Files (x86)\\Intel\\Intel(R) Management Engine Components\\DAL;C:\\Program Files\\Intel\\Intel(R) Management Engine Components\\DAL;C:\\Program Files (x86)\\Intel\\Intel(R) Management Engine Components\\IPT;C:\\Program Files\\Intel\\Intel(R) Management Engine Components\\IPT;C:\\Program Files\\Intel\\WiFi\\bin\\;C:\\Program Files\\Common Files\\Intel\\WirelessCommon\\;C:\\WINDOWS\\System32\\OpenSSH\\;C:\\Program Files\\Git\\cmd;C:\\Users\\fwuer\\AppData\\Local\\Programs\\Python\\Launcher\\;C:\\Users\\fwuer\\AppData\\Local\\Microsoft\\WindowsApps;C:\\Users\\fwuer\\AppData\\Local\\Programs\\Microsoft VS Code\\bin;C:\\Program Files\\R\\R-4.4.1\\bin\\x64;;C:\\Program Files\\R\\R-4.4.1\\bin\\x64\", R: \"C:\\rtools44/x86_64-w64-mingw32.static.posix/bin;C:\\rtools44/usr/bin;C:\\rtools44/x86_64-w64-mingw32.static.posix/bin;C:\\rtools44/usr/bin;C:\\rtools44/x86_64-w64-mingw32.static.posix/bin;C:\\rtools44/usr/bin;c:\\Users\\fwuer\\Code\\evobandits-demo\\.venv\\Scripts;C:\\Program Files (x86)\\Intel\\iCLS Client\\;C:\\Program Files\\Intel\\iCLS Client\\;C:\\WINDOWS\\system32;C:\\WINDOWS;C:\\WINDOWS\\System32\\Wbem;C:\\WINDOWS\\System32\\WindowsPowerShell\\v1.0\\;C:\\Program Files (x86)\\Intel\\Intel(R) Management Engine Components\\DAL;C:\\Program Files\\Intel\\Intel(R) Management Engine Components\\DAL;C:\\Program Files (x86)\\Intel\\Intel(R) Management Engine Components\\IPT;C:\\Program Files\\Intel\\Intel(R) Management Engine Components\\IPT;C:\\Program Files\\Intel\\WiFi\\bin\\;C:\\Program Files\\Common Files\\Intel\\WirelessCommon\\;C:\\WINDOWS\\System32\\OpenSSH\\;C:\\Program Files\\Git\\cmd;C:\\Users\\fwuer\\AppData\\Local\\Programs\\Python\\Launcher\\;C:\\Users\\fwuer\\AppData\\Local\\Microsoft\\WindowsApps;C:\\Users\\fwuer\\AppData\\Local\\Programs\\Microsoft VS Code\\bin;C:\\Program Files\\R\\R-4.4.1\\bin\\x64;;C:\\Program Files\\R\\R-4.4.1\\bin\\x64\"\n",
      "  warnings.warn(\n"
     ]
    },
    {
     "name": "stdout",
     "output_type": "stream",
     "text": [
      "Config:\tOrderedDict({'pop_size': 199, 'generations': 500, 'elite_split': 0.11, 'tournament_split': 0.09, 'crossover_rate': 0.08, 'mutation_rate': 0.96})\n"
     ]
    },
    {
     "name": "stderr",
     "output_type": "stream",
     "text": [
      "IRACE | Run:   2%|▏         | 1/50 [57:38<47:04:17, 3458.32s/it]"
     ]
    },
    {
     "name": "stdout",
     "output_type": "stream",
     "text": [
      "Est. true value:\t8.004072794238738\n",
      "\n",
      "Running optimization ...\n",
      "Config:\tOrderedDict({'pop_size': 186, 'generations': 500, 'elite_split': 0.15, 'tournament_split': 0.08, 'crossover_rate': 0.01, 'mutation_rate': 0.84})\n"
     ]
    },
    {
     "name": "stderr",
     "output_type": "stream",
     "text": [
      "IRACE | Run:   4%|▍         | 2/50 [1:48:37<42:59:02, 3223.79s/it]"
     ]
    },
    {
     "name": "stdout",
     "output_type": "stream",
     "text": [
      "Est. true value:\t8.05216708562738\n",
      "\n",
      "Running optimization ...\n",
      "Config:\tOrderedDict({'pop_size': 231, 'generations': 500, 'elite_split': 0.05, 'tournament_split': 0.07, 'crossover_rate': 0.25, 'mutation_rate': 0.92})\n"
     ]
    },
    {
     "name": "stderr",
     "output_type": "stream",
     "text": [
      "IRACE | Run:   6%|▌         | 3/50 [2:56:48<47:15:16, 3619.51s/it]"
     ]
    },
    {
     "name": "stdout",
     "output_type": "stream",
     "text": [
      "Est. true value:\t8.031273803417456\n",
      "\n",
      "Running optimization ...\n",
      "Config:\tOrderedDict({'pop_size': 239, 'generations': 500, 'elite_split': 0.02, 'tournament_split': 0.1, 'crossover_rate': 0.09, 'mutation_rate': 0.91})\n"
     ]
    },
    {
     "name": "stderr",
     "output_type": "stream",
     "text": [
      "IRACE | Run:   8%|▊         | 4/50 [4:13:47<51:17:29, 4014.13s/it]"
     ]
    },
    {
     "name": "stdout",
     "output_type": "stream",
     "text": [
      "Est. true value:\t7.95148684778089\n",
      "\n",
      "Running optimization ...\n",
      "Config:\tOrderedDict({'pop_size': 234, 'generations': 500, 'elite_split': 0.15, 'tournament_split': 0.09, 'crossover_rate': 0.04, 'mutation_rate': 0.91})\n"
     ]
    },
    {
     "name": "stderr",
     "output_type": "stream",
     "text": [
      "IRACE | Run:  10%|█         | 5/50 [5:23:30<50:56:19, 4075.10s/it]"
     ]
    },
    {
     "name": "stdout",
     "output_type": "stream",
     "text": [
      "Est. true value:\t7.99988265748262\n",
      "\n",
      "Running optimization ...\n",
      "Config:\tOrderedDict({'pop_size': 246, 'generations': 500, 'elite_split': 0.11, 'tournament_split': 0.1, 'crossover_rate': 0.02, 'mutation_rate': 0.42})\n"
     ]
    },
    {
     "name": "stderr",
     "output_type": "stream",
     "text": [
      "IRACE | Run:  12%|█▏        | 6/50 [6:27:43<48:52:59, 3999.54s/it]"
     ]
    },
    {
     "name": "stdout",
     "output_type": "stream",
     "text": [
      "Est. true value:\t8.088061893715068\n",
      "\n",
      "Running optimization ...\n",
      "Config:\tOrderedDict({'pop_size': 220, 'generations': 500, 'elite_split': 0.09, 'tournament_split': 0.1, 'crossover_rate': 0.08, 'mutation_rate': 0.8})\n"
     ]
    },
    {
     "name": "stderr",
     "output_type": "stream",
     "text": [
      "IRACE | Run:  14%|█▍        | 7/50 [7:29:20<46:35:26, 3900.61s/it]"
     ]
    },
    {
     "name": "stdout",
     "output_type": "stream",
     "text": [
      "Est. true value:\t8.00135788671384\n",
      "\n",
      "Running optimization ...\n",
      "Config:\tOrderedDict({'pop_size': 224, 'generations': 500, 'elite_split': 0.02, 'tournament_split': 0.1, 'crossover_rate': 0.31, 'mutation_rate': 0.9400000000000001})\n"
     ]
    },
    {
     "name": "stderr",
     "output_type": "stream",
     "text": [
      "IRACE | Run:  16%|█▌        | 8/50 [8:41:03<47:00:05, 4028.69s/it]"
     ]
    },
    {
     "name": "stdout",
     "output_type": "stream",
     "text": [
      "Est. true value:\t8.018989347888024\n",
      "\n",
      "Running optimization ...\n",
      "Config:\tOrderedDict({'pop_size': 189, 'generations': 500, 'elite_split': 0.01, 'tournament_split': 0.1, 'crossover_rate': 0.04, 'mutation_rate': 0.37})\n"
     ]
    },
    {
     "name": "stderr",
     "output_type": "stream",
     "text": [
      "IRACE | Run:  18%|█▊        | 9/50 [9:32:28<42:31:22, 3733.71s/it]"
     ]
    },
    {
     "name": "stdout",
     "output_type": "stream",
     "text": [
      "Est. true value:\t8.219177658881737\n",
      "\n",
      "Running optimization ...\n",
      "Config:\tOrderedDict({'pop_size': 233, 'generations': 500, 'elite_split': 0.05, 'tournament_split': 0.08, 'crossover_rate': 0.16, 'mutation_rate': 0.61})\n"
     ]
    },
    {
     "name": "stderr",
     "output_type": "stream",
     "text": [
      "IRACE | Run:  20%|██        | 10/50 [10:35:40<41:41:11, 3751.78s/it]"
     ]
    },
    {
     "name": "stdout",
     "output_type": "stream",
     "text": [
      "Est. true value:\t8.02562543390154\n",
      "\n",
      "Running optimization ...\n",
      "Config:\tOrderedDict({'pop_size': 185, 'generations': 500, 'elite_split': 0.09, 'tournament_split': 0.08, 'crossover_rate': 0.16, 'mutation_rate': 0.55})\n"
     ]
    },
    {
     "name": "stderr",
     "output_type": "stream",
     "text": [
      "IRACE | Run:  22%|██▏       | 11/50 [11:28:29<38:42:36, 3573.25s/it]"
     ]
    },
    {
     "name": "stdout",
     "output_type": "stream",
     "text": [
      "Est. true value:\t8.146476638833853\n",
      "\n",
      "Running optimization ...\n",
      "Config:\tOrderedDict({'pop_size': 228, 'generations': 500, 'elite_split': 0.13, 'tournament_split': 0.1, 'crossover_rate': 0.0, 'mutation_rate': 1.0})\n"
     ]
    },
    {
     "name": "stderr",
     "output_type": "stream",
     "text": [
      "IRACE | Run:  24%|██▍       | 12/50 [12:31:42<38:25:33, 3640.35s/it]"
     ]
    },
    {
     "name": "stdout",
     "output_type": "stream",
     "text": [
      "Est. true value:\t7.925083006492\n",
      "\n",
      "Running optimization ...\n",
      "Config:\tOrderedDict({'pop_size': 178, 'generations': 500, 'elite_split': 0.02, 'tournament_split': 0.09, 'crossover_rate': 0.11, 'mutation_rate': 0.92})\n"
     ]
    },
    {
     "name": "stderr",
     "output_type": "stream",
     "text": [
      "IRACE | Run:  26%|██▌       | 13/50 [13:31:58<37:20:15, 3632.85s/it]"
     ]
    },
    {
     "name": "stdout",
     "output_type": "stream",
     "text": [
      "Est. true value:\t8.022344160410249\n",
      "\n",
      "Running optimization ...\n",
      "Config:\tOrderedDict({'pop_size': 210, 'generations': 500, 'elite_split': 0.05, 'tournament_split': 0.09, 'crossover_rate': 0.06, 'mutation_rate': 0.79})\n"
     ]
    },
    {
     "name": "stderr",
     "output_type": "stream",
     "text": [
      "IRACE | Run:  28%|██▊       | 14/50 [14:33:45<36:33:04, 3655.11s/it]"
     ]
    },
    {
     "name": "stdout",
     "output_type": "stream",
     "text": [
      "Est. true value:\t7.999238230924029\n",
      "\n",
      "Running optimization ...\n",
      "Config:\tOrderedDict({'pop_size': 244, 'generations': 500, 'elite_split': 0.2, 'tournament_split': 0.09, 'crossover_rate': 0.46, 'mutation_rate': 0.8})\n"
     ]
    },
    {
     "name": "stderr",
     "output_type": "stream",
     "text": [
      "IRACE | Run:  30%|███       | 15/50 [15:38:32<36:13:01, 3725.17s/it]"
     ]
    },
    {
     "name": "stdout",
     "output_type": "stream",
     "text": [
      "Est. true value:\t8.11220870703789\n",
      "\n",
      "Running optimization ...\n",
      "Config:\tOrderedDict({'pop_size': 241, 'generations': 500, 'elite_split': 0.03, 'tournament_split': 0.07, 'crossover_rate': 0.25, 'mutation_rate': 0.66})\n"
     ]
    },
    {
     "name": "stderr",
     "output_type": "stream",
     "text": [
      "IRACE | Run:  32%|███▏      | 16/50 [16:53:41<37:24:33, 3960.98s/it]"
     ]
    },
    {
     "name": "stdout",
     "output_type": "stream",
     "text": [
      "Est. true value:\t8.032221640211574\n",
      "\n",
      "Running optimization ...\n",
      "Config:\tOrderedDict({'pop_size': 224, 'generations': 500, 'elite_split': 0.14, 'tournament_split': 0.08, 'crossover_rate': 0.29, 'mutation_rate': 0.88})\n"
     ]
    },
    {
     "name": "stderr",
     "output_type": "stream",
     "text": [
      "IRACE | Run:  34%|███▍      | 17/50 [17:57:53<36:00:34, 3928.32s/it]"
     ]
    },
    {
     "name": "stdout",
     "output_type": "stream",
     "text": [
      "Est. true value:\t8.056807736628278\n",
      "\n",
      "Running optimization ...\n",
      "Config:\tOrderedDict({'pop_size': 242, 'generations': 500, 'elite_split': 0.03, 'tournament_split': 0.09, 'crossover_rate': 0.08, 'mutation_rate': 0.8200000000000001})\n"
     ]
    },
    {
     "name": "stderr",
     "output_type": "stream",
     "text": [
      "IRACE | Run:  36%|███▌      | 18/50 [19:11:28<36:13:02, 4074.44s/it]"
     ]
    },
    {
     "name": "stdout",
     "output_type": "stream",
     "text": [
      "Est. true value:\t7.970269184206076\n",
      "\n",
      "Running optimization ...\n",
      "Config:\tOrderedDict({'pop_size': 133, 'generations': 500, 'elite_split': 0.01, 'tournament_split': 0.09, 'crossover_rate': 0.02, 'mutation_rate': 0.62})\n"
     ]
    },
    {
     "name": "stderr",
     "output_type": "stream",
     "text": [
      "IRACE | Run:  38%|███▊      | 19/50 [19:53:23<31:03:09, 3606.13s/it]"
     ]
    },
    {
     "name": "stdout",
     "output_type": "stream",
     "text": [
      "Est. true value:\t8.212965176667538\n",
      "\n",
      "Running optimization ...\n",
      "Config:\tOrderedDict({'pop_size': 204, 'generations': 500, 'elite_split': 0.07, 'tournament_split': 0.1, 'crossover_rate': 0.02, 'mutation_rate': 0.84})\n"
     ]
    },
    {
     "name": "stderr",
     "output_type": "stream",
     "text": [
      "IRACE | Run:  40%|████      | 20/50 [20:58:30<30:48:16, 3696.56s/it]"
     ]
    },
    {
     "name": "stdout",
     "output_type": "stream",
     "text": [
      "Est. true value:\t8.034493228944035\n",
      "\n",
      "Running optimization ...\n",
      "Config:\tOrderedDict({'pop_size': 233, 'generations': 500, 'elite_split': 0.15, 'tournament_split': 0.07, 'crossover_rate': 0.1, 'mutation_rate': 0.64})\n"
     ]
    },
    {
     "name": "stderr",
     "output_type": "stream",
     "text": [
      "IRACE | Run:  42%|████▏     | 21/50 [22:03:07<30:12:52, 3750.76s/it]"
     ]
    },
    {
     "name": "stdout",
     "output_type": "stream",
     "text": [
      "Est. true value:\t8.04800491992849\n",
      "\n",
      "Running optimization ...\n",
      "Config:\tOrderedDict({'pop_size': 245, 'generations': 500, 'elite_split': 0.15, 'tournament_split': 0.06, 'crossover_rate': 0.26, 'mutation_rate': 0.61})\n"
     ]
    },
    {
     "name": "stderr",
     "output_type": "stream",
     "text": [
      "IRACE | Run:  44%|████▍     | 22/50 [23:06:34<29:18:09, 3767.50s/it]"
     ]
    },
    {
     "name": "stdout",
     "output_type": "stream",
     "text": [
      "Est. true value:\t8.093804689245776\n",
      "\n",
      "Running optimization ...\n",
      "Config:\tOrderedDict({'pop_size': 205, 'generations': 500, 'elite_split': 0.06, 'tournament_split': 0.05, 'crossover_rate': 0.11, 'mutation_rate': 0.56})\n"
     ]
    },
    {
     "name": "stderr",
     "output_type": "stream",
     "text": [
      "IRACE | Run:  46%|████▌     | 23/50 [24:04:02<27:32:15, 3671.70s/it]"
     ]
    },
    {
     "name": "stdout",
     "output_type": "stream",
     "text": [
      "Est. true value:\t8.15480769408553\n",
      "\n",
      "Running optimization ...\n",
      "Config:\tOrderedDict({'pop_size': 239, 'generations': 500, 'elite_split': 0.11, 'tournament_split': 0.09, 'crossover_rate': 0.39, 'mutation_rate': 0.6900000000000001})\n"
     ]
    },
    {
     "name": "stderr",
     "output_type": "stream",
     "text": [
      "IRACE | Run:  48%|████▊     | 24/50 [25:13:06<27:32:31, 3813.53s/it]"
     ]
    },
    {
     "name": "stdout",
     "output_type": "stream",
     "text": [
      "Est. true value:\t8.093142637743231\n",
      "\n",
      "Running optimization ...\n",
      "Config:\tOrderedDict({'pop_size': 246, 'generations': 500, 'elite_split': 0.09, 'tournament_split': 0.1, 'crossover_rate': 0.13, 'mutation_rate': 0.91})\n"
     ]
    },
    {
     "name": "stderr",
     "output_type": "stream",
     "text": [
      "IRACE | Run:  50%|█████     | 25/50 [26:31:34<28:20:44, 4081.77s/it]"
     ]
    },
    {
     "name": "stdout",
     "output_type": "stream",
     "text": [
      "Est. true value:\t7.959120308561875\n",
      "\n",
      "Running optimization ...\n",
      "Config:\tOrderedDict({'pop_size': 239, 'generations': 500, 'elite_split': 0.0, 'tournament_split': 0.09, 'crossover_rate': 0.31, 'mutation_rate': 0.6})\n"
     ]
    },
    {
     "name": "stderr",
     "output_type": "stream",
     "text": [
      "IRACE | Run:  52%|█████▏    | 26/50 [27:45:21<27:54:07, 4185.32s/it]"
     ]
    },
    {
     "name": "stdout",
     "output_type": "stream",
     "text": [
      "Est. true value:\t8.020945330613724\n",
      "\n",
      "Running optimization ...\n",
      "Config:\tOrderedDict({'pop_size': 242, 'generations': 500, 'elite_split': 0.15, 'tournament_split': 0.08, 'crossover_rate': 0.3, 'mutation_rate': 0.79})\n"
     ]
    },
    {
     "name": "stderr",
     "output_type": "stream",
     "text": [
      "IRACE | Run:  54%|█████▍    | 27/50 [28:52:25<26:25:52, 4137.05s/it]"
     ]
    },
    {
     "name": "stdout",
     "output_type": "stream",
     "text": [
      "Est. true value:\t8.03476531770876\n",
      "\n",
      "Running optimization ...\n",
      "Config:\tOrderedDict({'pop_size': 215, 'generations': 400, 'elite_split': 0.04, 'tournament_split': 0.09, 'crossover_rate': 0.25, 'mutation_rate': 0.8})\n"
     ]
    },
    {
     "name": "stderr",
     "output_type": "stream",
     "text": [
      "IRACE | Run:  56%|█████▌    | 28/50 [29:52:23<24:17:31, 3975.08s/it]"
     ]
    },
    {
     "name": "stdout",
     "output_type": "stream",
     "text": [
      "Est. true value:\t8.10211887030004\n",
      "\n",
      "Running optimization ...\n",
      "Config:\tOrderedDict({'pop_size': 185, 'generations': 400, 'elite_split': 0.05, 'tournament_split': 0.07, 'crossover_rate': 0.0, 'mutation_rate': 0.7000000000000001})\n"
     ]
    },
    {
     "name": "stderr",
     "output_type": "stream",
     "text": [
      "IRACE | Run:  58%|█████▊    | 29/50 [30:37:46<20:59:52, 3599.64s/it]"
     ]
    },
    {
     "name": "stdout",
     "output_type": "stream",
     "text": [
      "Est. true value:\t8.220760958977527\n",
      "\n",
      "Running optimization ...\n",
      "Config:\tOrderedDict({'pop_size': 226, 'generations': 400, 'elite_split': 0.05, 'tournament_split': 0.1, 'crossover_rate': 0.04, 'mutation_rate': 0.75})\n"
     ]
    },
    {
     "name": "stderr",
     "output_type": "stream",
     "text": [
      "IRACE | Run:  60%|██████    | 30/50 [31:44:41<20:41:25, 3724.27s/it]"
     ]
    },
    {
     "name": "stdout",
     "output_type": "stream",
     "text": [
      "Est. true value:\t8.035112388112825\n",
      "\n",
      "Running optimization ...\n",
      "Config:\tOrderedDict({'pop_size': 242, 'generations': 500, 'elite_split': 0.14, 'tournament_split': 0.1, 'crossover_rate': 0.04, 'mutation_rate': 0.51})\n"
     ]
    },
    {
     "name": "stderr",
     "output_type": "stream",
     "text": [
      "IRACE | Run:  62%|██████▏   | 31/50 [32:47:00<19:40:41, 3728.51s/it]"
     ]
    },
    {
     "name": "stdout",
     "output_type": "stream",
     "text": [
      "Est. true value:\t8.053033151581516\n",
      "\n",
      "Running optimization ...\n",
      "Config:\tOrderedDict({'pop_size': 217, 'generations': 500, 'elite_split': 0.19, 'tournament_split': 0.08, 'crossover_rate': 0.01, 'mutation_rate': 0.96})\n"
     ]
    },
    {
     "name": "stderr",
     "output_type": "stream",
     "text": [
      "IRACE | Run:  64%|██████▍   | 32/50 [33:44:16<18:12:16, 3640.93s/it]"
     ]
    },
    {
     "name": "stdout",
     "output_type": "stream",
     "text": [
      "Est. true value:\t7.989648154340753\n",
      "\n",
      "Running optimization ...\n",
      "Config:\tOrderedDict({'pop_size': 209, 'generations': 500, 'elite_split': 0.04, 'tournament_split': 0.05, 'crossover_rate': 0.04, 'mutation_rate': 0.6})\n"
     ]
    },
    {
     "name": "stderr",
     "output_type": "stream",
     "text": [
      "IRACE | Run:  66%|██████▌   | 33/50 [34:40:36<16:49:25, 3562.69s/it]"
     ]
    },
    {
     "name": "stdout",
     "output_type": "stream",
     "text": [
      "Est. true value:\t8.065507102499577\n",
      "\n",
      "Running optimization ...\n",
      "Config:\tOrderedDict({'pop_size': 208, 'generations': 500, 'elite_split': 0.09, 'tournament_split': 0.05, 'crossover_rate': 0.14, 'mutation_rate': 0.64})\n"
     ]
    },
    {
     "name": "stderr",
     "output_type": "stream",
     "text": [
      "IRACE | Run:  68%|██████▊   | 34/50 [35:40:03<15:50:19, 3563.74s/it]"
     ]
    },
    {
     "name": "stdout",
     "output_type": "stream",
     "text": [
      "Est. true value:\t8.09638228120826\n",
      "\n",
      "Running optimization ...\n",
      "Config:\tOrderedDict({'pop_size': 210, 'generations': 500, 'elite_split': 0.1, 'tournament_split': 0.08, 'crossover_rate': 0.09, 'mutation_rate': 0.88})\n"
     ]
    },
    {
     "name": "stderr",
     "output_type": "stream",
     "text": [
      "IRACE | Run:  70%|███████   | 35/50 [36:39:37<14:51:44, 3566.96s/it]"
     ]
    },
    {
     "name": "stdout",
     "output_type": "stream",
     "text": [
      "Est. true value:\t8.001625860901022\n",
      "\n",
      "Running optimization ...\n",
      "Config:\tOrderedDict({'pop_size': 245, 'generations': 500, 'elite_split': 0.08, 'tournament_split': 0.09, 'crossover_rate': 0.06, 'mutation_rate': 0.97})\n"
     ]
    },
    {
     "name": "stderr",
     "output_type": "stream",
     "text": [
      "IRACE | Run:  72%|███████▏  | 36/50 [37:50:40<14:41:01, 3775.81s/it]"
     ]
    },
    {
     "name": "stdout",
     "output_type": "stream",
     "text": [
      "Est. true value:\t7.934491349269076\n",
      "\n",
      "Running optimization ...\n",
      "Config:\tOrderedDict({'pop_size': 175, 'generations': 500, 'elite_split': 0.07, 'tournament_split': 0.05, 'crossover_rate': 0.01, 'mutation_rate': 0.62})\n"
     ]
    },
    {
     "name": "stderr",
     "output_type": "stream",
     "text": [
      "IRACE | Run:  74%|███████▍  | 37/50 [38:41:57<12:52:40, 3566.21s/it]"
     ]
    },
    {
     "name": "stdout",
     "output_type": "stream",
     "text": [
      "Est. true value:\t8.15145161155712\n",
      "\n",
      "Running optimization ...\n",
      "Config:\tOrderedDict({'pop_size': 249, 'generations': 500, 'elite_split': 0.0, 'tournament_split': 0.1, 'crossover_rate': 0.11, 'mutation_rate': 0.77})\n"
     ]
    },
    {
     "name": "stderr",
     "output_type": "stream",
     "text": [
      "IRACE | Run:  76%|███████▌  | 38/50 [39:51:07<12:28:14, 3741.20s/it]"
     ]
    },
    {
     "name": "stdout",
     "output_type": "stream",
     "text": [
      "Est. true value:\t8.004513850519047\n",
      "\n",
      "Running optimization ...\n",
      "Config:\tOrderedDict({'pop_size': 239, 'generations': 500, 'elite_split': 0.18, 'tournament_split': 0.06, 'crossover_rate': 0.02, 'mutation_rate': 0.72})\n"
     ]
    },
    {
     "name": "stderr",
     "output_type": "stream",
     "text": [
      "IRACE | Run:  78%|███████▊  | 39/50 [40:53:29<11:25:56, 3741.51s/it]"
     ]
    },
    {
     "name": "stdout",
     "output_type": "stream",
     "text": [
      "Est. true value:\t8.037915890540077\n",
      "\n",
      "Running optimization ...\n",
      "Config:\tOrderedDict({'pop_size': 241, 'generations': 500, 'elite_split': 0.05, 'tournament_split': 0.07, 'crossover_rate': 0.0, 'mutation_rate': 0.9500000000000001})\n"
     ]
    },
    {
     "name": "stderr",
     "output_type": "stream",
     "text": [
      "IRACE | Run:  80%|████████  | 40/50 [42:07:24<10:58:13, 3949.40s/it]"
     ]
    },
    {
     "name": "stdout",
     "output_type": "stream",
     "text": [
      "Est. true value:\t7.943902812649728\n",
      "\n",
      "Running optimization ...\n",
      "Config:\tOrderedDict({'pop_size': 191, 'generations': 400, 'elite_split': 0.01, 'tournament_split': 0.08, 'crossover_rate': 0.05, 'mutation_rate': 0.92})\n"
     ]
    },
    {
     "name": "stderr",
     "output_type": "stream",
     "text": [
      "IRACE | Run:  82%|████████▏ | 41/50 [42:58:01<9:11:23, 3675.92s/it] "
     ]
    },
    {
     "name": "stdout",
     "output_type": "stream",
     "text": [
      "Est. true value:\t8.290301870697556\n",
      "\n",
      "Running optimization ...\n",
      "Config:\tOrderedDict({'pop_size': 177, 'generations': 500, 'elite_split': 0.03, 'tournament_split': 0.07, 'crossover_rate': 0.13, 'mutation_rate': 0.66})\n"
     ]
    },
    {
     "name": "stderr",
     "output_type": "stream",
     "text": [
      "IRACE | Run:  84%|████████▍ | 42/50 [43:51:36<7:51:39, 3537.49s/it]"
     ]
    },
    {
     "name": "stdout",
     "output_type": "stream",
     "text": [
      "Est. true value:\t8.101417961374867\n",
      "\n",
      "Running optimization ...\n",
      "Config:\tOrderedDict({'pop_size': 250, 'generations': 500, 'elite_split': 0.15, 'tournament_split': 0.06, 'crossover_rate': 0.07, 'mutation_rate': 0.53})\n"
     ]
    },
    {
     "name": "stderr",
     "output_type": "stream",
     "text": [
      "IRACE | Run:  86%|████████▌ | 43/50 [44:54:04<7:00:05, 3600.78s/it]"
     ]
    },
    {
     "name": "stdout",
     "output_type": "stream",
     "text": [
      "Est. true value:\t8.078247392384155\n",
      "\n",
      "Running optimization ...\n",
      "Config:\tOrderedDict({'pop_size': 248, 'generations': 500, 'elite_split': 0.1, 'tournament_split': 0.07, 'crossover_rate': 0.1, 'mutation_rate': 0.75})\n"
     ]
    },
    {
     "name": "stderr",
     "output_type": "stream",
     "text": [
      "IRACE | Run:  88%|████████▊ | 44/50 [46:03:34<6:17:09, 3771.57s/it]"
     ]
    },
    {
     "name": "stdout",
     "output_type": "stream",
     "text": [
      "Est. true value:\t7.998663814233399\n",
      "\n",
      "Running optimization ...\n",
      "Config:\tOrderedDict({'pop_size': 246, 'generations': 500, 'elite_split': 0.1, 'tournament_split': 0.09, 'crossover_rate': 0.14, 'mutation_rate': 0.99})\n"
     ]
    },
    {
     "name": "stderr",
     "output_type": "stream",
     "text": [
      "IRACE | Run:  90%|█████████ | 45/50 [47:11:41<5:22:10, 3866.04s/it]"
     ]
    },
    {
     "name": "stdout",
     "output_type": "stream",
     "text": [
      "Est. true value:\t7.948886355389779\n",
      "\n",
      "Running optimization ...\n",
      "Config:\tOrderedDict({'pop_size': 250, 'generations': 500, 'elite_split': 0.06, 'tournament_split': 0.09, 'crossover_rate': 0.26, 'mutation_rate': 0.88})\n"
     ]
    },
    {
     "name": "stderr",
     "output_type": "stream",
     "text": [
      "IRACE | Run:  92%|█████████▏| 46/50 [48:29:34<4:33:52, 4108.18s/it]"
     ]
    },
    {
     "name": "stdout",
     "output_type": "stream",
     "text": [
      "Est. true value:\t7.979586614273034\n",
      "\n",
      "Running optimization ...\n",
      "Config:\tOrderedDict({'pop_size': 249, 'generations': 500, 'elite_split': 0.01, 'tournament_split': 0.05, 'crossover_rate': 0.21, 'mutation_rate': 0.64})\n"
     ]
    },
    {
     "name": "stderr",
     "output_type": "stream",
     "text": [
      "IRACE | Run:  94%|█████████▍| 47/50 [49:44:46<3:31:27, 4229.30s/it]"
     ]
    },
    {
     "name": "stdout",
     "output_type": "stream",
     "text": [
      "Est. true value:\t8.044047815744674\n",
      "\n",
      "Running optimization ...\n",
      "Config:\tOrderedDict({'pop_size': 218, 'generations': 500, 'elite_split': 0.01, 'tournament_split': 0.09, 'crossover_rate': 0.02, 'mutation_rate': 0.56})\n"
     ]
    },
    {
     "name": "stderr",
     "output_type": "stream",
     "text": [
      "IRACE | Run:  96%|█████████▌| 48/50 [50:49:14<2:17:21, 4120.88s/it]"
     ]
    },
    {
     "name": "stdout",
     "output_type": "stream",
     "text": [
      "Est. true value:\t8.023503910994682\n",
      "\n",
      "Running optimization ...\n",
      "Config:\tOrderedDict({'pop_size': 234, 'generations': 500, 'elite_split': 0.16, 'tournament_split': 0.07, 'crossover_rate': 0.09, 'mutation_rate': 0.79})\n"
     ]
    },
    {
     "name": "stderr",
     "output_type": "stream",
     "text": [
      "IRACE | Run:  98%|█████████▊| 49/50 [51:53:55<1:07:28, 4048.94s/it]"
     ]
    },
    {
     "name": "stdout",
     "output_type": "stream",
     "text": [
      "Est. true value:\t8.000981283021197\n",
      "\n",
      "Running optimization ...\n",
      "Config:\tOrderedDict({'pop_size': 228, 'generations': 500, 'elite_split': 0.1, 'tournament_split': 0.09, 'crossover_rate': 0.01, 'mutation_rate': 0.66})\n"
     ]
    },
    {
     "name": "stderr",
     "output_type": "stream",
     "text": [
      "IRACE | Run: 100%|██████████| 50/50 [53:01:51<00:00, 3818.23s/it]  "
     ]
    },
    {
     "name": "stdout",
     "output_type": "stream",
     "text": [
      "Est. true value:\t8.010732107198164\n"
     ]
    },
    {
     "name": "stderr",
     "output_type": "stream",
     "text": [
      "\n"
     ]
    }
   ],
   "source": [
    "def ga_runner(experiment: Experiment, scenario: Scenario):\n",
    "    \"\"\"Seeded, single-objective function to simulate the GA with irace.\"\"\"\n",
    "    best_cost, _ = genetic_algorithm(\n",
    "        seed=experiment.seed, **experiment.configuration\n",
    "    )\n",
    "    return float(best_cost)\n",
    "\n",
    "param_space = ParameterSpace(\n",
    "    [\n",
    "        Ordinal(\"pop_size\", POP_SIZE_RANGE),\n",
    "        Ordinal(\"generations\", GENERATIONS_RANGE),\n",
    "        Ordinal(\"elite_split\", ELITE_SPLIT_RANGE),\n",
    "        Ordinal(\"tournament_split\", TOURNAMENT_SPLIT_RANGE),\n",
    "        Ordinal(\"crossover_rate\", CROSSOVER_RATE_RANGE),\n",
    "        Ordinal(\"mutation_rate\", MUTATION_RATE_RANGE),\n",
    "    ]\n",
    ")\n",
    "\n",
    "print(\"\\nRunning optimization ...\")\n",
    "results_irace = []\n",
    "\n",
    "for run_id in tqdm(range(N_RUNS), desc=\"IRACE | Run\"):\n",
    "    print(\"\\nRunning optimization ...\")\n",
    "    seed = SEED + run_id\n",
    "    scenario = Scenario(\n",
    "        max_experiments=SIM_BUDGET,\n",
    "        verbose=0,\n",
    "    )\n",
    "    best_params = irace(ga_runner, param_space, scenario)[0]\n",
    "    print(f\"Config:\\t{best_params}\")\n",
    "\n",
    "    mean_evaluation, evaluations = estimate_true_value(seed, best_params)\n",
    "    print(f\"Est. true value:\\t{mean_evaluation}\")\n",
    "\n",
    "    results_irace.append({\n",
    "        \"mean_evaluation\": mean_evaluation,\n",
    "        \"evaluations\": evaluations,\n",
    "        \"best_params\": best_params,\n",
    "        \"seed\": seed,\n",
    "    })\n",
    "\n",
    "    with open(Path(\"_data/04_results_irace.json\"), 'w') as f:\n",
    "        json.dump(results_irace, f)"
   ]
  },
  {
   "cell_type": "markdown",
   "id": "bbaa14a7",
   "metadata": {},
   "source": [
    "## 3. Comparison"
   ]
  },
  {
   "cell_type": "markdown",
   "id": "6dd8e068",
   "metadata": {},
   "source": [
    "Loads pre-computed results (if available)"
   ]
  },
  {
   "cell_type": "code",
   "execution_count": 13,
   "id": "109ddc52",
   "metadata": {},
   "outputs": [],
   "source": [
    "with open(\"_data/04_results_evobandits.json\", \"r\") as f:\n",
    "    results_evobandits = json.load(f)"
   ]
  },
  {
   "cell_type": "code",
   "execution_count": 14,
   "id": "db88f0f6",
   "metadata": {},
   "outputs": [],
   "source": [
    "with open(\"_data/04_results_rnd_search.json\", \"r\") as f:\n",
    "    results_rnd_search = json.load(f)"
   ]
  },
  {
   "cell_type": "code",
   "execution_count": 15,
   "id": "a5544411",
   "metadata": {},
   "outputs": [],
   "source": [
    "with open(\"_data/04_results_irace.json\", \"r\") as f:\n",
    "    results_irace = json.load(f)"
   ]
  },
  {
   "cell_type": "markdown",
   "id": "263caa6a",
   "metadata": {},
   "source": [
    "### 3.1 Stats"
   ]
  },
  {
   "cell_type": "code",
   "execution_count": 16,
   "id": "d581015b",
   "metadata": {},
   "outputs": [],
   "source": [
    "mean_evaluation_data = {\n",
    "    \"EvoBandits\": [r[\"mean_evaluation\"] for r in results_evobandits],\n",
    "    \"IRACE\": [r[\"mean_evaluation\"] for r in results_irace],\n",
    "    \"Random Search\": [r[\"mean_evaluation\"] for r in results_rnd_search],\n",
    "}"
   ]
  },
  {
   "cell_type": "code",
   "execution_count": 17,
   "id": "57024dc1",
   "metadata": {},
   "outputs": [
    {
     "name": "stdout",
     "output_type": "stream",
     "text": [
      "          method      mean  ci95_low  ci95_high\n",
      "0     EvoBandits  8.000021  7.988648   8.011394\n",
      "1          IRACE  8.048433  8.026759   8.070106\n",
      "2  Random Search  8.103339  8.071745   8.134933\n"
     ]
    }
   ],
   "source": [
    "df = pd.DataFrame({\n",
    "    'value': np.concatenate(list(mean_evaluation_data.values())),\n",
    "    'method': np.repeat(list(mean_evaluation_data.keys()), [len(v) for v in mean_evaluation_data.values()])\n",
    "})\n",
    "\n",
    "summary = df.groupby('method').agg(\n",
    "    mean=('value', 'mean'),\n",
    "    std=('value', 'std'),\n",
    "    count=('value', 'size')\n",
    ").reset_index()\n",
    "\n",
    "summary['sem'] = summary['std'] / np.sqrt(summary['count'])\n",
    "summary['ci95_low'] = summary['mean'] - 1.96 * summary['sem']\n",
    "summary['ci95_high'] = summary['mean'] + 1.96 * summary['sem']\n",
    "\n",
    "print(summary[['method', 'mean', 'ci95_low', 'ci95_high']])\n"
   ]
  },
  {
   "cell_type": "code",
   "execution_count": 18,
   "id": "e9f4b04f",
   "metadata": {},
   "outputs": [
    {
     "data": {
      "image/png": "[encoded data removed]",
      "text/plain": [
       "<Figure size 800x500 with 1 Axes>"
      ]
     },
     "metadata": {},
     "output_type": "display_data"
    }
   ],
   "source": [
    "fig, ax = plt.subplots(1, 1, figsize=(8, 5))\n",
    "ax.boxplot(\n",
    "    mean_evaluation_data.values(), \n",
    "    tick_labels=mean_evaluation_data.keys(), \n",
    "    showmeans=True, \n",
    "    meanprops={\"markerfacecolor\":\"black\", \"markeredgecolor\":\"black\"}, \n",
    "    medianprops={\"color\": \"C0\"}\n",
    ")\n",
    "ax.set_ylabel(\"Total Distance\")\n",
    "\n",
    "plt.tight_layout()\n",
    "plt.savefig(Path(\"_plots/06_comparison.pdf\"))\n",
    "plt.show()"
   ]
  }
 ],
 "metadata": {
  "kernelspec": {
   "display_name": ".venv",
   "language": "python",
   "name": "python3"
  },
  "language_info": {
   "codemirror_mode": {
    "name": "ipython",
    "version": 3
   },
   "file_extension": ".py",
   "mimetype": "text/x-python",
   "name": "python",
   "nbconvert_exporter": "python",
   "pygments_lexer": "ipython3",
   "version": "3.12.10"
  }
 },
 "nbformat": 4,
 "nbformat_minor": 5
}
