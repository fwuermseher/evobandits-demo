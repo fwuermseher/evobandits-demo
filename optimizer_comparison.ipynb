{
 "cells": [
  {
   "cell_type": "markdown",
   "id": "e738b407",
   "metadata": {},
   "source": [
    "# Comparison with other libraries\n",
    "\n",
    "This notebooks extends 'evobandits_demo.ipynb' to compare the GMAB algorithm with popular alternatives.\n",
    "\n",
    "Setup:"
   ]
  },
  {
   "cell_type": "code",
   "execution_count": null,
   "id": "3884d050",
   "metadata": {},
   "outputs": [],
   "source": [
    "import json\n",
    "from pathlib import Path\n",
    "\n",
    "from evobandits import CategoricalParam, Study, GMAB\n",
    "from irace import irace, Experiment, ParameterSpace, Scenario, Ordinal\n",
    "import matplotlib as mpl\n",
    "import matplotlib.pyplot as plt\n",
    "import numpy as np\n",
    "import pandas as pd\n",
    "import optuna\n",
    "from optuna.samplers import TPESampler\n",
    "from optuna.pruners import HyperbandPruner\n",
    "from tqdm import tqdm"
   ]
  },
  {
   "cell_type": "code",
   "execution_count": 2,
   "id": "d4a5f2cd",
   "metadata": {},
   "outputs": [],
   "source": [
    "from application_example import genetic_algorithm"
   ]
  },
  {
   "cell_type": "code",
   "execution_count": 3,
   "id": "c1250e89",
   "metadata": {},
   "outputs": [],
   "source": [
    "plt.style.use(\"default\")\n",
    "\n",
    "mpl.rcParams[\"font.family\"] = \"serif\"\n",
    "mpl.rcParams[\"font.serif\"] = [\n",
    "    \"Computer Modern Roman\",\n",
    "    \"Times New Roman\",\n",
    "    \"Times\",\n",
    "    \"DejaVu Serif\",\n",
    "]\n",
    "mpl.rcParams[\"font.size\"] = 14"
   ]
  },
  {
   "cell_type": "markdown",
   "id": "8dca1b7f",
   "metadata": {},
   "source": [
    "## 1. Presets for the Optimization\n",
    "\n",
    "Identical number of runs, budget and a seed for reproduction:"
   ]
  },
  {
   "cell_type": "code",
   "execution_count": 4,
   "id": "9be906aa",
   "metadata": {},
   "outputs": [],
   "source": [
    "SEED = 42\n",
    "N_RUNS = 50\n",
    "SIM_BUDGET = 1000\n",
    "EVAL_BUDGET = 500"
   ]
  },
  {
   "cell_type": "markdown",
   "id": "4fa176c8",
   "metadata": {},
   "source": [
    "All variables are modeled as ordinal variables from the ranges below to ensure identical search space."
   ]
  },
  {
   "cell_type": "code",
   "execution_count": 5,
   "id": "51b23b0f",
   "metadata": {},
   "outputs": [],
   "source": [
    "POP_SIZE_RANGE = [i for i in range(50, 251, 1)]\n",
    "GENERATIONS_RANGE = [100, 200, 300, 400, 500]\n",
    "ELITE_SPLIT_RANGE = [i * 0.01 for i in range(21)]\n",
    "TOURNAMENT_SPLIT_RANGE = [i * 0.01 for i in range(11)]\n",
    "CROSSOVER_RATE_RANGE = [i * 0.01 for i in range(101)]\n",
    "MUTATION_RATE_RANGE = [i * 0.01 for i in range(101)]"
   ]
  },
  {
   "cell_type": "markdown",
   "id": "5483b6f8",
   "metadata": {},
   "source": [
    "Size of the Search space"
   ]
  },
  {
   "cell_type": "code",
   "execution_count": 8,
   "id": "7a6dd78b",
   "metadata": {},
   "outputs": [
    {
     "name": "stdout",
     "output_type": "stream",
     "text": [
      "Number of distinct solutions:\t2,368,213,155\n"
     ]
    }
   ],
   "source": [
    "total_combinations = len(POP_SIZE_RANGE) * len(ELITE_SPLIT_RANGE) * len(GENERATIONS_RANGE) \\\n",
    "    * len(TOURNAMENT_SPLIT_RANGE) * len(CROSSOVER_RATE_RANGE) * len(MUTATION_RATE_RANGE)\n",
    "\n",
    "print(f\"Number of distinct solutions:\\t{total_combinations:,}\")"
   ]
  },
  {
   "cell_type": "markdown",
   "id": "676a22dc",
   "metadata": {},
   "source": [
    "## 2. Optimization\n",
    "\n",
    "For each algorithm:\n",
    "- Model the genetic_algorithm as objective function\n",
    "- Model the search space\n",
    "- Configure the algorithm\n",
    "- Execute for preset, identical budget and runs\n",
    "- Collect the results and re-sample to evaluate the \"true\" value of the configuration."
   ]
  },
  {
   "cell_type": "code",
   "execution_count": 7,
   "id": "91ea42dd",
   "metadata": {},
   "outputs": [],
   "source": [
    "def estimate_true_value(seed, ga_configuration):\n",
    "    evaluations = []\n",
    "    rng = np.random.default_rng(seed)\n",
    "    for _ in range(EVAL_BUDGET):\n",
    "        seed_eval = rng.integers(0, 2**32 - 1, dtype=int)\n",
    "        best_cost, _ = genetic_algorithm(seed=seed_eval, **ga_configuration)\n",
    "        evaluations.append(best_cost)\n",
    "    mean_evaluation = np.mean(evaluations)\n",
    "    return mean_evaluation, evaluations"
   ]
  },
  {
   "cell_type": "markdown",
   "id": "0868c88b",
   "metadata": {},
   "source": [
    "### 2.1 EvoBandits"
   ]
  },
  {
   "cell_type": "code",
   "execution_count": 8,
   "id": "136290de",
   "metadata": {},
   "outputs": [
    {
     "name": "stdout",
     "output_type": "stream",
     "text": [
      "\n",
      "Running optimization ...\n"
     ]
    },
    {
     "name": "stderr",
     "output_type": "stream",
     "text": [
      "EvoBandits | Run:   0%|          | 0/50 [00:00<?, ?it/s]"
     ]
    },
    {
     "name": "stdout",
     "output_type": "stream",
     "text": [
      "Config:\t{'pop_size': 226, 'generations': 500, 'elite_split': 0.04, 'tournament_split': 0.05, 'mutation_rate': 0.78, 'crossover_rate': 0.0}\n",
      "Value:\t7.925576596461831\n"
     ]
    },
    {
     "name": "stderr",
     "output_type": "stream",
     "text": [
      "EvoBandits | Run:   2%|▏         | 1/50 [1:31:11<74:28:22, 5471.48s/it]"
     ]
    },
    {
     "name": "stdout",
     "output_type": "stream",
     "text": [
      "Est. true value:\t8.009099365950854\n",
      "Config:\t{'pop_size': 250, 'generations': 500, 'elite_split': 0.08, 'tournament_split': 0.04, 'mutation_rate': 0.84, 'crossover_rate': 0.0}\n",
      "Value:\t7.866737136573285\n"
     ]
    },
    {
     "name": "stderr",
     "output_type": "stream",
     "text": [
      "EvoBandits | Run:   4%|▍         | 2/50 [3:04:55<74:08:54, 5561.14s/it]"
     ]
    },
    {
     "name": "stdout",
     "output_type": "stream",
     "text": [
      "Est. true value:\t7.985106184692074\n",
      "Config:\t{'pop_size': 250, 'generations': 400, 'elite_split': 0.16, 'tournament_split': 0.09, 'mutation_rate': 0.84, 'crossover_rate': 0.25}\n",
      "Value:\t7.9950112647249405\n"
     ]
    },
    {
     "name": "stderr",
     "output_type": "stream",
     "text": [
      "EvoBandits | Run:   6%|▌         | 3/50 [4:21:24<66:48:40, 5117.45s/it]"
     ]
    },
    {
     "name": "stdout",
     "output_type": "stream",
     "text": [
      "Est. true value:\t8.111970052316993\n",
      "Config:\t{'pop_size': 240, 'generations': 500, 'elite_split': 0.11, 'tournament_split': 0.05, 'mutation_rate': 0.79, 'crossover_rate': 0.0}\n",
      "Value:\t7.797543215107326\n"
     ]
    },
    {
     "name": "stderr",
     "output_type": "stream",
     "text": [
      "EvoBandits | Run:   8%|▊         | 4/50 [5:49:30<66:14:19, 5183.89s/it]"
     ]
    },
    {
     "name": "stdout",
     "output_type": "stream",
     "text": [
      "Est. true value:\t7.987494340327031\n",
      "Config:\t{'pop_size': 247, 'generations': 500, 'elite_split': 0.04, 'tournament_split': 0.05, 'mutation_rate': 0.88, 'crossover_rate': 0.02}\n",
      "Value:\t7.873475842560513\n"
     ]
    },
    {
     "name": "stderr",
     "output_type": "stream",
     "text": [
      "EvoBandits | Run:  10%|█         | 5/50 [7:25:36<67:25:24, 5393.88s/it]"
     ]
    },
    {
     "name": "stdout",
     "output_type": "stream",
     "text": [
      "Est. true value:\t7.962507188256683\n",
      "Config:\t{'pop_size': 250, 'generations': 400, 'elite_split': 0.03, 'tournament_split': 0.1, 'mutation_rate': 0.8200000000000001, 'crossover_rate': 0.09}\n",
      "Value:\t7.926533679546161\n"
     ]
    },
    {
     "name": "stderr",
     "output_type": "stream",
     "text": [
      "EvoBandits | Run:  12%|█▏        | 6/50 [8:50:36<64:42:02, 5293.70s/it]"
     ]
    },
    {
     "name": "stdout",
     "output_type": "stream",
     "text": [
      "Est. true value:\t8.014330661207499\n",
      "Config:\t{'pop_size': 246, 'generations': 500, 'elite_split': 0.07, 'tournament_split': 0.09, 'mutation_rate': 0.9400000000000001, 'crossover_rate': 0.0}\n",
      "Value:\t7.865673725781605\n"
     ]
    },
    {
     "name": "stderr",
     "output_type": "stream",
     "text": [
      "EvoBandits | Run:  14%|█▍        | 7/50 [10:20:52<63:42:30, 5333.74s/it]"
     ]
    },
    {
     "name": "stdout",
     "output_type": "stream",
     "text": [
      "Est. true value:\t7.9471121037165195\n",
      "Config:\t{'pop_size': 249, 'generations': 500, 'elite_split': 0.12, 'tournament_split': 0.08, 'mutation_rate': 0.64, 'crossover_rate': 0.1}\n",
      "Value:\t7.860782956726181\n"
     ]
    },
    {
     "name": "stderr",
     "output_type": "stream",
     "text": [
      "EvoBandits | Run:  16%|█▌        | 8/50 [11:53:36<63:04:53, 5406.98s/it]"
     ]
    },
    {
     "name": "stdout",
     "output_type": "stream",
     "text": [
      "Est. true value:\t8.03600209409043\n",
      "Config:\t{'pop_size': 230, 'generations': 500, 'elite_split': 0.04, 'tournament_split': 0.1, 'mutation_rate': 0.97, 'crossover_rate': 0.0}\n",
      "Value:\t7.801173563105813\n"
     ]
    },
    {
     "name": "stderr",
     "output_type": "stream",
     "text": [
      "EvoBandits | Run:  18%|█▊        | 9/50 [13:16:14<59:58:56, 5266.74s/it]"
     ]
    },
    {
     "name": "stdout",
     "output_type": "stream",
     "text": [
      "Est. true value:\t7.927656322194829\n",
      "Config:\t{'pop_size': 250, 'generations': 500, 'elite_split': 0.04, 'tournament_split': 0.09, 'mutation_rate': 0.51, 'crossover_rate': 0.08}\n",
      "Value:\t7.919504538713044\n"
     ]
    },
    {
     "name": "stderr",
     "output_type": "stream",
     "text": [
      "EvoBandits | Run:  20%|██        | 10/50 [14:50:55<59:56:23, 5394.58s/it]"
     ]
    },
    {
     "name": "stdout",
     "output_type": "stream",
     "text": [
      "Est. true value:\t8.008776573938981\n",
      "Config:\t{'pop_size': 245, 'generations': 500, 'elite_split': 0.1, 'tournament_split': 0.1, 'mutation_rate': 0.65, 'crossover_rate': 0.0}\n",
      "Value:\t7.877796473373995\n"
     ]
    },
    {
     "name": "stderr",
     "output_type": "stream",
     "text": [
      "EvoBandits | Run:  22%|██▏       | 11/50 [16:20:38<58:24:12, 5391.08s/it]"
     ]
    },
    {
     "name": "stdout",
     "output_type": "stream",
     "text": [
      "Est. true value:\t8.012169910420436\n",
      "Config:\t{'pop_size': 209, 'generations': 500, 'elite_split': 0.1, 'tournament_split': 0.09, 'mutation_rate': 0.53, 'crossover_rate': 0.18}\n",
      "Value:\t7.9870913710800835\n"
     ]
    },
    {
     "name": "stderr",
     "output_type": "stream",
     "text": [
      "EvoBandits | Run:  24%|██▍       | 12/50 [17:33:04<53:33:02, 5073.23s/it]"
     ]
    },
    {
     "name": "stdout",
     "output_type": "stream",
     "text": [
      "Est. true value:\t8.118224861010377\n",
      "Config:\t{'pop_size': 250, 'generations': 500, 'elite_split': 0.07, 'tournament_split': 0.04, 'mutation_rate': 0.87, 'crossover_rate': 0.0}\n",
      "Value:\t7.886763863887318\n"
     ]
    },
    {
     "name": "stderr",
     "output_type": "stream",
     "text": [
      "EvoBandits | Run:  26%|██▌       | 13/50 [19:12:18<54:53:04, 5340.12s/it]"
     ]
    },
    {
     "name": "stdout",
     "output_type": "stream",
     "text": [
      "Est. true value:\t7.989813157168992\n",
      "Config:\t{'pop_size': 217, 'generations': 400, 'elite_split': 0.0, 'tournament_split': 0.08, 'mutation_rate': 0.68, 'crossover_rate': 0.02}\n",
      "Value:\t8.011979728394396\n"
     ]
    },
    {
     "name": "stderr",
     "output_type": "stream",
     "text": [
      "EvoBandits | Run:  28%|██▊       | 14/50 [20:21:33<49:49:12, 4982.02s/it]"
     ]
    },
    {
     "name": "stdout",
     "output_type": "stream",
     "text": [
      "Est. true value:\t8.067574052541332\n",
      "Config:\t{'pop_size': 250, 'generations': 500, 'elite_split': 0.05, 'tournament_split': 0.07, 'mutation_rate': 0.75, 'crossover_rate': 0.0}\n",
      "Value:\t7.824910948289569\n"
     ]
    },
    {
     "name": "stderr",
     "output_type": "stream",
     "text": [
      "EvoBandits | Run:  30%|███       | 15/50 [21:53:27<49:59:43, 5142.37s/it]"
     ]
    },
    {
     "name": "stdout",
     "output_type": "stream",
     "text": [
      "Est. true value:\t7.9741605664183774\n",
      "Config:\t{'pop_size': 208, 'generations': 500, 'elite_split': 0.14, 'tournament_split': 0.1, 'mutation_rate': 0.93, 'crossover_rate': 0.08}\n",
      "Value:\t7.848482230823225\n"
     ]
    },
    {
     "name": "stderr",
     "output_type": "stream",
     "text": [
      "EvoBandits | Run:  32%|███▏      | 16/50 [23:13:09<47:32:31, 5033.86s/it]"
     ]
    },
    {
     "name": "stdout",
     "output_type": "stream",
     "text": [
      "Est. true value:\t7.9887860900549965\n",
      "Config:\t{'pop_size': 238, 'generations': 400, 'elite_split': 0.08, 'tournament_split': 0.09, 'mutation_rate': 0.74, 'crossover_rate': 0.0}\n",
      "Value:\t7.8270375503905925\n"
     ]
    },
    {
     "name": "stderr",
     "output_type": "stream",
     "text": [
      "EvoBandits | Run:  34%|███▍      | 17/50 [24:27:27<44:33:25, 4860.76s/it]"
     ]
    },
    {
     "name": "stdout",
     "output_type": "stream",
     "text": [
      "Est. true value:\t8.040487346341546\n",
      "Config:\t{'pop_size': 244, 'generations': 500, 'elite_split': 0.09, 'tournament_split': 0.07, 'mutation_rate': 0.85, 'crossover_rate': 0.02}\n",
      "Value:\t7.79025969877992\n"
     ]
    },
    {
     "name": "stderr",
     "output_type": "stream",
     "text": [
      "EvoBandits | Run:  36%|███▌      | 18/50 [25:53:32<44:01:13, 4952.31s/it]"
     ]
    },
    {
     "name": "stdout",
     "output_type": "stream",
     "text": [
      "Est. true value:\t7.979860433199059\n",
      "Config:\t{'pop_size': 237, 'generations': 500, 'elite_split': 0.18, 'tournament_split': 0.09, 'mutation_rate': 0.81, 'crossover_rate': 0.0}\n",
      "Value:\t7.83209337122758\n"
     ]
    },
    {
     "name": "stderr",
     "output_type": "stream",
     "text": [
      "EvoBandits | Run:  38%|███▊      | 19/50 [27:20:13<43:17:09, 5026.75s/it]"
     ]
    },
    {
     "name": "stdout",
     "output_type": "stream",
     "text": [
      "Est. true value:\t7.9918696217563285\n",
      "Config:\t{'pop_size': 209, 'generations': 500, 'elite_split': 0.12, 'tournament_split': 0.07, 'mutation_rate': 0.89, 'crossover_rate': 0.07}\n",
      "Value:\t7.788137505855329\n"
     ]
    },
    {
     "name": "stderr",
     "output_type": "stream",
     "text": [
      "EvoBandits | Run:  40%|████      | 20/50 [28:34:57<40:31:56, 4863.87s/it]"
     ]
    },
    {
     "name": "stdout",
     "output_type": "stream",
     "text": [
      "Est. true value:\t8.008133743096735\n",
      "Config:\t{'pop_size': 204, 'generations': 500, 'elite_split': 0.08, 'tournament_split': 0.09, 'mutation_rate': 0.78, 'crossover_rate': 0.0}\n",
      "Value:\t7.8830218710724775\n"
     ]
    },
    {
     "name": "stderr",
     "output_type": "stream",
     "text": [
      "EvoBandits | Run:  42%|████▏     | 21/50 [29:45:59<37:43:38, 4683.40s/it]"
     ]
    },
    {
     "name": "stdout",
     "output_type": "stream",
     "text": [
      "Est. true value:\t7.992215678397155\n",
      "Config:\t{'pop_size': 230, 'generations': 500, 'elite_split': 0.03, 'tournament_split': 0.07, 'mutation_rate': 0.77, 'crossover_rate': 0.12}\n",
      "Value:\t7.795488840494284\n"
     ]
    },
    {
     "name": "stderr",
     "output_type": "stream",
     "text": [
      "EvoBandits | Run:  44%|████▍     | 22/50 [31:21:30<38:52:14, 4997.65s/it]"
     ]
    },
    {
     "name": "stdout",
     "output_type": "stream",
     "text": [
      "Est. true value:\t7.999035405321987\n",
      "Config:\t{'pop_size': 237, 'generations': 500, 'elite_split': 0.12, 'tournament_split': 0.09, 'mutation_rate': 0.86, 'crossover_rate': 0.07}\n",
      "Value:\t7.882302257973967\n"
     ]
    },
    {
     "name": "stderr",
     "output_type": "stream",
     "text": [
      "EvoBandits | Run:  46%|████▌     | 23/50 [32:46:48<37:45:14, 5033.85s/it]"
     ]
    },
    {
     "name": "stdout",
     "output_type": "stream",
     "text": [
      "Est. true value:\t7.998569049969694\n",
      "Config:\t{'pop_size': 247, 'generations': 500, 'elite_split': 0.14, 'tournament_split': 0.07, 'mutation_rate': 0.87, 'crossover_rate': 0.1}\n",
      "Value:\t7.930990198829469\n"
     ]
    },
    {
     "name": "stderr",
     "output_type": "stream",
     "text": [
      "EvoBandits | Run:  48%|████▊     | 24/50 [34:23:42<38:02:46, 5267.94s/it]"
     ]
    },
    {
     "name": "stdout",
     "output_type": "stream",
     "text": [
      "Est. true value:\t7.982644502521114\n",
      "Config:\t{'pop_size': 238, 'generations': 500, 'elite_split': 0.12, 'tournament_split': 0.09, 'mutation_rate': 0.8, 'crossover_rate': 0.0}\n",
      "Value:\t7.862777287603436\n"
     ]
    },
    {
     "name": "stderr",
     "output_type": "stream",
     "text": [
      "EvoBandits | Run:  50%|█████     | 25/50 [35:50:05<36:24:20, 5242.41s/it]"
     ]
    },
    {
     "name": "stdout",
     "output_type": "stream",
     "text": [
      "Est. true value:\t7.9898043437455675\n",
      "Config:\t{'pop_size': 250, 'generations': 500, 'elite_split': 0.16, 'tournament_split': 0.08, 'mutation_rate': 0.74, 'crossover_rate': 0.24}\n",
      "Value:\t7.912733416385374\n"
     ]
    },
    {
     "name": "stderr",
     "output_type": "stream",
     "text": [
      "EvoBandits | Run:  52%|█████▏    | 26/50 [37:27:48<36:11:29, 5428.72s/it]"
     ]
    },
    {
     "name": "stdout",
     "output_type": "stream",
     "text": [
      "Est. true value:\t8.01352651527818\n",
      "Config:\t{'pop_size': 250, 'generations': 500, 'elite_split': 0.13, 'tournament_split': 0.05, 'mutation_rate': 0.58, 'crossover_rate': 0.0}\n",
      "Value:\t7.895665217083467\n"
     ]
    },
    {
     "name": "stderr",
     "output_type": "stream",
     "text": [
      "EvoBandits | Run:  54%|█████▍    | 27/50 [38:44:28<33:05:40, 5180.02s/it]"
     ]
    },
    {
     "name": "stdout",
     "output_type": "stream",
     "text": [
      "Est. true value:\t8.036065454217574\n",
      "Config:\t{'pop_size': 250, 'generations': 500, 'elite_split': 0.1, 'tournament_split': 0.1, 'mutation_rate': 1.0, 'crossover_rate': 0.02}\n",
      "Value:\t7.693996008983231\n"
     ]
    },
    {
     "name": "stderr",
     "output_type": "stream",
     "text": [
      "EvoBandits | Run:  56%|█████▌    | 28/50 [40:28:14<33:34:20, 5493.68s/it]"
     ]
    },
    {
     "name": "stdout",
     "output_type": "stream",
     "text": [
      "Est. true value:\t7.882097418500807\n",
      "Config:\t{'pop_size': 195, 'generations': 500, 'elite_split': 0.12, 'tournament_split': 0.09, 'mutation_rate': 0.9, 'crossover_rate': 0.04}\n",
      "Value:\t7.876510749387142\n"
     ]
    },
    {
     "name": "stderr",
     "output_type": "stream",
     "text": [
      "EvoBandits | Run:  58%|█████▊    | 29/50 [41:29:10<28:49:50, 4942.40s/it]"
     ]
    },
    {
     "name": "stdout",
     "output_type": "stream",
     "text": [
      "Est. true value:\t7.989801381824106\n",
      "Config:\t{'pop_size': 223, 'generations': 500, 'elite_split': 0.11, 'tournament_split': 0.07, 'mutation_rate': 0.75, 'crossover_rate': 0.07}\n",
      "Value:\t7.901679158250727\n"
     ]
    },
    {
     "name": "stderr",
     "output_type": "stream",
     "text": [
      "EvoBandits | Run:  60%|██████    | 30/50 [42:53:17<27:37:56, 4973.80s/it]"
     ]
    },
    {
     "name": "stdout",
     "output_type": "stream",
     "text": [
      "Est. true value:\t8.009519578170192\n",
      "Config:\t{'pop_size': 250, 'generations': 500, 'elite_split': 0.02, 'tournament_split': 0.08, 'mutation_rate': 0.98, 'crossover_rate': 0.02}\n",
      "Value:\t7.8910710093626495\n"
     ]
    },
    {
     "name": "stderr",
     "output_type": "stream",
     "text": [
      "EvoBandits | Run:  62%|██████▏   | 31/50 [44:37:19<28:15:31, 5354.31s/it]"
     ]
    },
    {
     "name": "stdout",
     "output_type": "stream",
     "text": [
      "Est. true value:\t7.915831150860409\n",
      "Config:\t{'pop_size': 249, 'generations': 500, 'elite_split': 0.19, 'tournament_split': 0.08, 'mutation_rate': 0.9500000000000001, 'crossover_rate': 0.07}\n",
      "Value:\t7.706146049468488\n"
     ]
    },
    {
     "name": "stderr",
     "output_type": "stream",
     "text": [
      "EvoBandits | Run:  64%|██████▍   | 32/50 [46:05:50<26:42:24, 5341.34s/it]"
     ]
    },
    {
     "name": "stdout",
     "output_type": "stream",
     "text": [
      "Est. true value:\t7.962662545737854\n",
      "Config:\t{'pop_size': 232, 'generations': 500, 'elite_split': 0.05, 'tournament_split': 0.05, 'mutation_rate': 0.84, 'crossover_rate': 0.0}\n",
      "Value:\t7.909073910116425\n"
     ]
    },
    {
     "name": "stderr",
     "output_type": "stream",
     "text": [
      "EvoBandits | Run:  66%|██████▌   | 33/50 [47:21:07<24:03:18, 5094.05s/it]"
     ]
    },
    {
     "name": "stdout",
     "output_type": "stream",
     "text": [
      "Est. true value:\t7.986558219166682\n",
      "Config:\t{'pop_size': 250, 'generations': 500, 'elite_split': 0.07, 'tournament_split': 0.06, 'mutation_rate': 0.76, 'crossover_rate': 0.05}\n",
      "Value:\t7.753453370360533\n"
     ]
    },
    {
     "name": "stderr",
     "output_type": "stream",
     "text": [
      "EvoBandits | Run:  68%|██████▊   | 34/50 [48:53:56<23:16:25, 5236.61s/it]"
     ]
    },
    {
     "name": "stdout",
     "output_type": "stream",
     "text": [
      "Est. true value:\t7.981881924950611\n",
      "Config:\t{'pop_size': 247, 'generations': 500, 'elite_split': 0.07, 'tournament_split': 0.04, 'mutation_rate': 0.7000000000000001, 'crossover_rate': 0.0}\n",
      "Value:\t7.938918175605826\n"
     ]
    },
    {
     "name": "stderr",
     "output_type": "stream",
     "text": [
      "EvoBandits | Run:  70%|███████   | 35/50 [50:30:43<22:31:52, 5407.50s/it]"
     ]
    },
    {
     "name": "stdout",
     "output_type": "stream",
     "text": [
      "Est. true value:\t8.018775323236934\n",
      "Config:\t{'pop_size': 206, 'generations': 500, 'elite_split': 0.09, 'tournament_split': 0.1, 'mutation_rate': 0.79, 'crossover_rate': 0.14}\n",
      "Value:\t7.911933194917084\n"
     ]
    },
    {
     "name": "stderr",
     "output_type": "stream",
     "text": [
      "EvoBandits | Run:  72%|███████▏  | 36/50 [51:46:38<20:02:06, 5151.90s/it]"
     ]
    },
    {
     "name": "stdout",
     "output_type": "stream",
     "text": [
      "Est. true value:\t7.999369269702338\n",
      "Config:\t{'pop_size': 250, 'generations': 500, 'elite_split': 0.06, 'tournament_split': 0.07, 'mutation_rate': 0.75, 'crossover_rate': 0.15}\n",
      "Value:\t7.8882286485359785\n"
     ]
    },
    {
     "name": "stderr",
     "output_type": "stream",
     "text": [
      "EvoBandits | Run:  74%|███████▍  | 37/50 [53:22:50<19:16:34, 5338.01s/it]"
     ]
    },
    {
     "name": "stdout",
     "output_type": "stream",
     "text": [
      "Est. true value:\t7.985251880657744\n",
      "Config:\t{'pop_size': 239, 'generations': 500, 'elite_split': 0.06, 'tournament_split': 0.1, 'mutation_rate': 0.98, 'crossover_rate': 0.24}\n",
      "Value:\t7.89336568764409\n"
     ]
    },
    {
     "name": "stderr",
     "output_type": "stream",
     "text": [
      "EvoBandits | Run:  76%|███████▌  | 38/50 [55:10:55<18:56:22, 5681.90s/it]"
     ]
    },
    {
     "name": "stdout",
     "output_type": "stream",
     "text": [
      "Est. true value:\t7.968185634893144\n",
      "Config:\t{'pop_size': 225, 'generations': 500, 'elite_split': 0.09, 'tournament_split': 0.06, 'mutation_rate': 0.81, 'crossover_rate': 0.08}\n",
      "Value:\t7.890599347778869\n"
     ]
    },
    {
     "name": "stderr",
     "output_type": "stream",
     "text": [
      "EvoBandits | Run:  78%|███████▊  | 39/50 [56:25:16<16:14:32, 5315.64s/it]"
     ]
    },
    {
     "name": "stdout",
     "output_type": "stream",
     "text": [
      "Est. true value:\t7.987022223414517\n",
      "Config:\t{'pop_size': 247, 'generations': 500, 'elite_split': 0.04, 'tournament_split': 0.09, 'mutation_rate': 0.8, 'crossover_rate': 0.0}\n",
      "Value:\t7.890026695976286\n"
     ]
    },
    {
     "name": "stderr",
     "output_type": "stream",
     "text": [
      "EvoBandits | Run:  80%|████████  | 40/50 [58:12:16<15:41:09, 5646.95s/it]"
     ]
    },
    {
     "name": "stdout",
     "output_type": "stream",
     "text": [
      "Est. true value:\t7.974329877225645\n",
      "Config:\t{'pop_size': 250, 'generations': 400, 'elite_split': 0.2, 'tournament_split': 0.09, 'mutation_rate': 0.81, 'crossover_rate': 0.0}\n",
      "Value:\t7.927989017286298\n"
     ]
    },
    {
     "name": "stderr",
     "output_type": "stream",
     "text": [
      "EvoBandits | Run:  82%|████████▏ | 41/50 [59:24:02<13:06:43, 5244.86s/it]"
     ]
    },
    {
     "name": "stdout",
     "output_type": "stream",
     "text": [
      "Est. true value:\t8.030080284244177\n",
      "Config:\t{'pop_size': 250, 'generations': 500, 'elite_split': 0.01, 'tournament_split': 0.05, 'mutation_rate': 0.65, 'crossover_rate': 0.0}\n",
      "Value:\t7.875789725364237\n"
     ]
    },
    {
     "name": "stderr",
     "output_type": "stream",
     "text": [
      "EvoBandits | Run:  84%|████████▍ | 42/50 [60:57:01<11:52:40, 5345.01s/it]"
     ]
    },
    {
     "name": "stdout",
     "output_type": "stream",
     "text": [
      "Est. true value:\t7.986542463409997\n",
      "Config:\t{'pop_size': 200, 'generations': 500, 'elite_split': 0.02, 'tournament_split': 0.06, 'mutation_rate': 0.75, 'crossover_rate': 0.01}\n",
      "Value:\t7.85948347105605\n"
     ]
    },
    {
     "name": "stderr",
     "output_type": "stream",
     "text": [
      "EvoBandits | Run:  86%|████████▌ | 43/50 [62:03:52<9:36:52, 4944.68s/it] "
     ]
    },
    {
     "name": "stdout",
     "output_type": "stream",
     "text": [
      "Est. true value:\t8.036028811322327\n",
      "Config:\t{'pop_size': 229, 'generations': 500, 'elite_split': 0.0, 'tournament_split': 0.08, 'mutation_rate': 0.63, 'crossover_rate': 0.06}\n",
      "Value:\t7.861662036496136\n"
     ]
    },
    {
     "name": "stderr",
     "output_type": "stream",
     "text": [
      "EvoBandits | Run:  88%|████████▊ | 44/50 [63:33:19<8:27:08, 5071.36s/it]"
     ]
    },
    {
     "name": "stdout",
     "output_type": "stream",
     "text": [
      "Est. true value:\t8.020267742945215\n",
      "Config:\t{'pop_size': 209, 'generations': 500, 'elite_split': 0.11, 'tournament_split': 0.07, 'mutation_rate': 0.9400000000000001, 'crossover_rate': 0.0}\n",
      "Value:\t7.846357529578726\n"
     ]
    },
    {
     "name": "stderr",
     "output_type": "stream",
     "text": [
      "EvoBandits | Run:  90%|█████████ | 45/50 [64:50:49<6:52:04, 4944.90s/it]"
     ]
    },
    {
     "name": "stdout",
     "output_type": "stream",
     "text": [
      "Est. true value:\t7.982574206573523\n",
      "Config:\t{'pop_size': 209, 'generations': 500, 'elite_split': 0.0, 'tournament_split': 0.09, 'mutation_rate': 0.54, 'crossover_rate': 0.01}\n",
      "Value:\t7.896837829998442\n"
     ]
    },
    {
     "name": "stderr",
     "output_type": "stream",
     "text": [
      "EvoBandits | Run:  92%|█████████▏| 46/50 [66:05:01<5:19:48, 4797.10s/it]"
     ]
    },
    {
     "name": "stdout",
     "output_type": "stream",
     "text": [
      "Est. true value:\t8.03635308957322\n",
      "Config:\t{'pop_size': 232, 'generations': 500, 'elite_split': 0.0, 'tournament_split': 0.07, 'mutation_rate': 0.54, 'crossover_rate': 0.04}\n",
      "Value:\t7.818947143584331\n"
     ]
    },
    {
     "name": "stderr",
     "output_type": "stream",
     "text": [
      "EvoBandits | Run:  94%|█████████▍| 47/50 [67:38:19<4:11:52, 5037.44s/it]"
     ]
    },
    {
     "name": "stdout",
     "output_type": "stream",
     "text": [
      "Est. true value:\t8.03253549623815\n",
      "Config:\t{'pop_size': 250, 'generations': 400, 'elite_split': 0.11, 'tournament_split': 0.07, 'mutation_rate': 0.9500000000000001, 'crossover_rate': 0.0}\n",
      "Value:\t7.903605700234994\n"
     ]
    },
    {
     "name": "stderr",
     "output_type": "stream",
     "text": [
      "EvoBandits | Run:  96%|█████████▌| 48/50 [68:57:21<2:44:57, 4948.90s/it]"
     ]
    },
    {
     "name": "stdout",
     "output_type": "stream",
     "text": [
      "Est. true value:\t8.059633556200282\n",
      "Config:\t{'pop_size': 250, 'generations': 500, 'elite_split': 0.03, 'tournament_split': 0.07, 'mutation_rate': 0.84, 'crossover_rate': 0.0}\n",
      "Value:\t7.8601310346791795\n"
     ]
    },
    {
     "name": "stderr",
     "output_type": "stream",
     "text": [
      "EvoBandits | Run:  98%|█████████▊| 49/50 [70:27:49<1:24:52, 5092.49s/it]"
     ]
    },
    {
     "name": "stdout",
     "output_type": "stream",
     "text": [
      "Est. true value:\t7.984837240667651\n",
      "Config:\t{'pop_size': 234, 'generations': 500, 'elite_split': 0.03, 'tournament_split': 0.08, 'mutation_rate': 0.8, 'crossover_rate': 0.13}\n",
      "Value:\t7.903063362310793\n"
     ]
    },
    {
     "name": "stderr",
     "output_type": "stream",
     "text": [
      "EvoBandits | Run: 100%|██████████| 50/50 [71:51:50<00:00, 5174.22s/it]  "
     ]
    },
    {
     "name": "stdout",
     "output_type": "stream",
     "text": [
      "Est. true value:\t7.997906602060502\n"
     ]
    },
    {
     "name": "stderr",
     "output_type": "stream",
     "text": [
      "\n"
     ]
    }
   ],
   "source": [
    "def objective(seed: int, **params: dict):\n",
    "    \"\"\"Seeded, single-objective function to simulate the GA.\"\"\"\n",
    "    best_cost, _ = genetic_algorithm(seed=seed, **params)\n",
    "    return best_cost\n",
    "\n",
    "params = {\n",
    "    \"pop_size\": CategoricalParam(POP_SIZE_RANGE),\n",
    "    \"generations\": CategoricalParam(GENERATIONS_RANGE),\n",
    "    \"elite_split\": CategoricalParam(ELITE_SPLIT_RANGE), \n",
    "    \"tournament_split\": CategoricalParam(TOURNAMENT_SPLIT_RANGE),\n",
    "    \"mutation_rate\": CategoricalParam(MUTATION_RATE_RANGE), \n",
    "    \"crossover_rate\": CategoricalParam(CROSSOVER_RATE_RANGE), \n",
    "}\n",
    "\n",
    "print(\"\\nRunning optimization ...\")\n",
    "results_evobandits = []\n",
    "\n",
    "for run_id in tqdm(range(N_RUNS), desc=\"EvoBandits | Run\"):\n",
    "    seed = SEED + run_id\n",
    "    gmab = GMAB(population_size=10)\n",
    "    study = Study(seed=seed, algorithm=gmab)\n",
    "    study.optimize(objective, params, n_trials=SIM_BUDGET)\n",
    "    print(f\"Config:\\t{study.best_params}\")\n",
    "    print(f\"Value:\\t{study.best_value}\")\n",
    "\n",
    "    mean_evaluation, evaluations = estimate_true_value(seed, study.best_params)\n",
    "    print(f\"Est. true value:\\t{mean_evaluation}\")\n",
    "\n",
    "    results_evobandits.append({\n",
    "        \"mean_evaluation\": mean_evaluation,\n",
    "        \"evaluations\": evaluations,\n",
    "        \"best_solution\": study.best_solution,\n",
    "        \"seed\": seed\n",
    "    })\n",
    "\n",
    "    with open(Path(\"_data/04_results_evobandits.json\"), 'w') as f:\n",
    "        json.dump(results_evobandits, f)"
   ]
  },
  {
   "cell_type": "markdown",
   "id": "24e4bc81",
   "metadata": {},
   "source": [
    "### 2.2 Random Sampling"
   ]
  },
  {
   "cell_type": "code",
   "execution_count": 9,
   "id": "29614483",
   "metadata": {},
   "outputs": [],
   "source": [
    "def randomize_configuration(seed):\n",
    "    rng = np.random.default_rng(seed)\n",
    "    return {\n",
    "        \"pop_size\": int(rng.choice(POP_SIZE_RANGE)),\n",
    "        \"generations\": int(rng.choice(GENERATIONS_RANGE)),\n",
    "        \"elite_split\": float(rng.choice(ELITE_SPLIT_RANGE)),\n",
    "        \"tournament_split\": float(rng.choice(TOURNAMENT_SPLIT_RANGE)),\n",
    "        \"crossover_rate\": float(rng.choice(CROSSOVER_RATE_RANGE)),\n",
    "        \"mutation_rate\": float(rng.choice(MUTATION_RATE_RANGE)),\n",
    "    }"
   ]
  },
  {
   "cell_type": "code",
   "execution_count": 10,
   "id": "3469873a",
   "metadata": {},
   "outputs": [],
   "source": [
    "def random_search(budget, seed):\n",
    "    # Evaluate the GA with random configurations\n",
    "    random_search_results = {}\n",
    "    rng = np.random.default_rng(seed)\n",
    "    for _ in range(budget):\n",
    "        seed = rng.integers(0, 2**32 - 1, dtype=int)\n",
    "        rnd_config = randomize_configuration(seed)\n",
    "        cost, _ = genetic_algorithm(seed=seed, **rnd_config)\n",
    "        random_search_results[cost] = rnd_config\n",
    "\n",
    "    # Find the config with the lowest cost\n",
    "    best_value = min(random_search_results.keys())\n",
    "    best_config = random_search_results[best_value]\n",
    "    return best_value, best_config"
   ]
  },
  {
   "cell_type": "code",
   "execution_count": 11,
   "id": "662488ce",
   "metadata": {},
   "outputs": [
    {
     "name": "stderr",
     "output_type": "stream",
     "text": [
      "RandomSearch | Run:   0%|          | 0/50 [00:00<?, ?it/s]"
     ]
    },
    {
     "name": "stdout",
     "output_type": "stream",
     "text": [
      "\n",
      "Running optimization ...\n",
      "Config:\t{'pop_size': 197, 'generations': 500, 'elite_split': 0.04, 'tournament_split': 0.08, 'crossover_rate': 0.11, 'mutation_rate': 0.77}\n",
      "Value:\t7.897292467219535\n"
     ]
    },
    {
     "name": "stderr",
     "output_type": "stream",
     "text": [
      "RandomSearch | Run:   2%|▏         | 1/50 [49:27<40:23:51, 2968.00s/it]"
     ]
    },
    {
     "name": "stdout",
     "output_type": "stream",
     "text": [
      "Est. true value:\t8.013481400974282\n",
      "\n",
      "Running optimization ...\n",
      "Config:\t{'pop_size': 205, 'generations': 500, 'elite_split': 0.07, 'tournament_split': 0.04, 'crossover_rate': 0.0, 'mutation_rate': 0.63}\n",
      "Value:\t7.647032600130154\n"
     ]
    },
    {
     "name": "stderr",
     "output_type": "stream",
     "text": [
      "RandomSearch | Run:   4%|▍         | 2/50 [1:37:05<38:42:25, 2903.03s/it]"
     ]
    },
    {
     "name": "stdout",
     "output_type": "stream",
     "text": [
      "Est. true value:\t8.101609456558677\n",
      "\n",
      "Running optimization ...\n",
      "Config:\t{'pop_size': 188, 'generations': 500, 'elite_split': 0.13, 'tournament_split': 0.09, 'crossover_rate': 0.05, 'mutation_rate': 0.96}\n",
      "Value:\t7.515688249354553\n"
     ]
    },
    {
     "name": "stderr",
     "output_type": "stream",
     "text": [
      "RandomSearch | Run:   6%|▌         | 3/50 [2:22:38<36:53:02, 2825.16s/it]"
     ]
    },
    {
     "name": "stdout",
     "output_type": "stream",
     "text": [
      "Est. true value:\t8.00753917565616\n",
      "\n",
      "Running optimization ...\n",
      "Config:\t{'pop_size': 204, 'generations': 500, 'elite_split': 0.15, 'tournament_split': 0.07, 'crossover_rate': 0.14, 'mutation_rate': 0.9500000000000001}\n",
      "Value:\t7.512806558713875\n"
     ]
    },
    {
     "name": "stderr",
     "output_type": "stream",
     "text": [
      "RandomSearch | Run:   8%|▊         | 4/50 [3:11:44<36:42:33, 2872.91s/it]"
     ]
    },
    {
     "name": "stdout",
     "output_type": "stream",
     "text": [
      "Est. true value:\t8.088827235358147\n",
      "\n",
      "Running optimization ...\n",
      "Config:\t{'pop_size': 246, 'generations': 400, 'elite_split': 0.1, 'tournament_split': 0.09, 'crossover_rate': 0.17, 'mutation_rate': 0.61}\n",
      "Value:\t7.5338538509292\n"
     ]
    },
    {
     "name": "stderr",
     "output_type": "stream",
     "text": [
      "RandomSearch | Run:  10%|█         | 5/50 [4:01:38<36:27:36, 2916.80s/it]"
     ]
    },
    {
     "name": "stdout",
     "output_type": "stream",
     "text": [
      "Est. true value:\t8.132801534142395\n",
      "\n",
      "Running optimization ...\n",
      "Config:\t{'pop_size': 143, 'generations': 500, 'elite_split': 0.19, 'tournament_split': 0.1, 'crossover_rate': 0.28, 'mutation_rate': 0.86}\n",
      "Value:\t7.762740050307456\n"
     ]
    },
    {
     "name": "stderr",
     "output_type": "stream",
     "text": [
      "RandomSearch | Run:  12%|█▏        | 6/50 [4:39:49<33:02:47, 2703.81s/it]"
     ]
    },
    {
     "name": "stdout",
     "output_type": "stream",
     "text": [
      "Est. true value:\t8.320205288729984\n",
      "\n",
      "Running optimization ...\n",
      "Config:\t{'pop_size': 232, 'generations': 500, 'elite_split': 0.09, 'tournament_split': 0.1, 'crossover_rate': 0.03, 'mutation_rate': 0.67}\n",
      "Value:\t7.621378014250823\n"
     ]
    },
    {
     "name": "stderr",
     "output_type": "stream",
     "text": [
      "RandomSearch | Run:  14%|█▍        | 7/50 [5:33:15<34:15:21, 2867.95s/it]"
     ]
    },
    {
     "name": "stdout",
     "output_type": "stream",
     "text": [
      "Est. true value:\t8.013742401620165\n",
      "\n",
      "Running optimization ...\n",
      "Config:\t{'pop_size': 225, 'generations': 400, 'elite_split': 0.02, 'tournament_split': 0.09, 'crossover_rate': 0.26, 'mutation_rate': 0.96}\n",
      "Value:\t7.823901227602012\n"
     ]
    },
    {
     "name": "stderr",
     "output_type": "stream",
     "text": [
      "RandomSearch | Run:  16%|█▌        | 8/50 [6:26:09<34:35:50, 2965.49s/it]"
     ]
    },
    {
     "name": "stdout",
     "output_type": "stream",
     "text": [
      "Est. true value:\t8.264314568507817\n",
      "\n",
      "Running optimization ...\n",
      "Config:\t{'pop_size': 190, 'generations': 500, 'elite_split': 0.13, 'tournament_split': 0.06, 'crossover_rate': 0.19, 'mutation_rate': 0.89}\n",
      "Value:\t7.653820127736954\n"
     ]
    },
    {
     "name": "stderr",
     "output_type": "stream",
     "text": [
      "RandomSearch | Run:  18%|█▊        | 9/50 [7:13:26<33:19:06, 2925.52s/it]"
     ]
    },
    {
     "name": "stdout",
     "output_type": "stream",
     "text": [
      "Est. true value:\t8.162474891027761\n",
      "\n",
      "Running optimization ...\n",
      "Config:\t{'pop_size': 207, 'generations': 500, 'elite_split': 0.18, 'tournament_split': 0.07, 'crossover_rate': 0.21, 'mutation_rate': 0.73}\n",
      "Value:\t7.5400095108834675\n"
     ]
    },
    {
     "name": "stderr",
     "output_type": "stream",
     "text": [
      "RandomSearch | Run:  20%|██        | 10/50 [8:02:53<32:38:48, 2938.21s/it]"
     ]
    },
    {
     "name": "stdout",
     "output_type": "stream",
     "text": [
      "Est. true value:\t8.101597367786068\n",
      "\n",
      "Running optimization ...\n",
      "Config:\t{'pop_size': 191, 'generations': 500, 'elite_split': 0.0, 'tournament_split': 0.07, 'crossover_rate': 0.24, 'mutation_rate': 0.66}\n",
      "Value:\t7.571377535758199\n"
     ]
    },
    {
     "name": "stderr",
     "output_type": "stream",
     "text": [
      "RandomSearch | Run:  22%|██▏       | 11/50 [8:51:38<31:47:09, 2934.10s/it]"
     ]
    },
    {
     "name": "stdout",
     "output_type": "stream",
     "text": [
      "Est. true value:\t8.128908918247106\n",
      "\n",
      "Running optimization ...\n",
      "Config:\t{'pop_size': 230, 'generations': 500, 'elite_split': 0.07, 'tournament_split': 0.06, 'crossover_rate': 0.08, 'mutation_rate': 0.89}\n",
      "Value:\t7.794341631741463\n"
     ]
    },
    {
     "name": "stderr",
     "output_type": "stream",
     "text": [
      "RandomSearch | Run:  24%|██▍       | 12/50 [9:46:57<32:12:25, 3051.19s/it]"
     ]
    },
    {
     "name": "stdout",
     "output_type": "stream",
     "text": [
      "Est. true value:\t7.987662094178943\n",
      "\n",
      "Running optimization ...\n",
      "Config:\t{'pop_size': 221, 'generations': 500, 'elite_split': 0.11, 'tournament_split': 0.07, 'crossover_rate': 0.05, 'mutation_rate': 0.9500000000000001}\n",
      "Value:\t7.702583768288929\n"
     ]
    },
    {
     "name": "stderr",
     "output_type": "stream",
     "text": [
      "RandomSearch | Run:  26%|██▌       | 13/50 [10:38:41<31:31:22, 3067.11s/it]"
     ]
    },
    {
     "name": "stdout",
     "output_type": "stream",
     "text": [
      "Est. true value:\t7.979437038643099\n",
      "\n",
      "Running optimization ...\n",
      "Config:\t{'pop_size': 207, 'generations': 500, 'elite_split': 0.0, 'tournament_split': 0.09, 'crossover_rate': 0.09, 'mutation_rate': 0.42}\n",
      "Value:\t7.786594192126253\n"
     ]
    },
    {
     "name": "stderr",
     "output_type": "stream",
     "text": [
      "RandomSearch | Run:  28%|██▊       | 14/50 [11:27:49<30:18:40, 3031.13s/it]"
     ]
    },
    {
     "name": "stdout",
     "output_type": "stream",
     "text": [
      "Est. true value:\t8.136810331083533\n",
      "\n",
      "Running optimization ...\n",
      "Config:\t{'pop_size': 161, 'generations': 500, 'elite_split': 0.07, 'tournament_split': 0.09, 'crossover_rate': 0.04, 'mutation_rate': 0.62}\n",
      "Value:\t7.631457183538227\n"
     ]
    },
    {
     "name": "stderr",
     "output_type": "stream",
     "text": [
      "RandomSearch | Run:  30%|███       | 15/50 [12:08:48<27:47:36, 2858.75s/it]"
     ]
    },
    {
     "name": "stdout",
     "output_type": "stream",
     "text": [
      "Est. true value:\t8.1147314850924\n",
      "\n",
      "Running optimization ...\n",
      "Config:\t{'pop_size': 234, 'generations': 500, 'elite_split': 0.05, 'tournament_split': 0.1, 'crossover_rate': 0.19, 'mutation_rate': 0.85}\n",
      "Value:\t7.669169581974357\n"
     ]
    },
    {
     "name": "stderr",
     "output_type": "stream",
     "text": [
      "RandomSearch | Run:  32%|███▏      | 16/50 [13:07:21<28:51:33, 3055.69s/it]"
     ]
    },
    {
     "name": "stdout",
     "output_type": "stream",
     "text": [
      "Est. true value:\t7.998153929857648\n",
      "\n",
      "Running optimization ...\n",
      "Config:\t{'pop_size': 249, 'generations': 400, 'elite_split': 0.01, 'tournament_split': 0.09, 'crossover_rate': 0.46, 'mutation_rate': 0.68}\n",
      "Value:\t7.762481241922007\n"
     ]
    },
    {
     "name": "stderr",
     "output_type": "stream",
     "text": [
      "RandomSearch | Run:  34%|███▍      | 17/50 [14:04:29<29:02:12, 3167.67s/it]"
     ]
    },
    {
     "name": "stdout",
     "output_type": "stream",
     "text": [
      "Est. true value:\t8.230971335047387\n",
      "\n",
      "Running optimization ...\n",
      "Config:\t{'pop_size': 187, 'generations': 500, 'elite_split': 0.18, 'tournament_split': 0.1, 'crossover_rate': 0.08, 'mutation_rate': 0.88}\n",
      "Value:\t7.69521648983677\n"
     ]
    },
    {
     "name": "stderr",
     "output_type": "stream",
     "text": [
      "RandomSearch | Run:  36%|███▌      | 18/50 [14:48:50<26:48:09, 3015.31s/it]"
     ]
    },
    {
     "name": "stdout",
     "output_type": "stream",
     "text": [
      "Est. true value:\t8.016035184150663\n",
      "\n",
      "Running optimization ...\n",
      "Config:\t{'pop_size': 206, 'generations': 500, 'elite_split': 0.15, 'tournament_split': 0.06, 'crossover_rate': 0.09, 'mutation_rate': 0.77}\n",
      "Value:\t7.638983262082513\n"
     ]
    },
    {
     "name": "stderr",
     "output_type": "stream",
     "text": [
      "RandomSearch | Run:  38%|███▊      | 19/50 [15:35:53<25:28:05, 2957.60s/it]"
     ]
    },
    {
     "name": "stdout",
     "output_type": "stream",
     "text": [
      "Est. true value:\t8.056674865914593\n",
      "\n",
      "Running optimization ...\n",
      "Config:\t{'pop_size': 226, 'generations': 500, 'elite_split': 0.04, 'tournament_split': 0.07, 'crossover_rate': 0.07, 'mutation_rate': 0.59}\n",
      "Value:\t7.732271237725183\n"
     ]
    },
    {
     "name": "stderr",
     "output_type": "stream",
     "text": [
      "RandomSearch | Run:  40%|████      | 20/50 [16:29:34<25:18:17, 3036.60s/it]"
     ]
    },
    {
     "name": "stdout",
     "output_type": "stream",
     "text": [
      "Est. true value:\t8.04134741741569\n",
      "\n",
      "Running optimization ...\n",
      "Config:\t{'pop_size': 210, 'generations': 500, 'elite_split': 0.01, 'tournament_split': 0.09, 'crossover_rate': 0.18, 'mutation_rate': 0.56}\n",
      "Value:\t7.5972675798964815\n"
     ]
    },
    {
     "name": "stderr",
     "output_type": "stream",
     "text": [
      "RandomSearch | Run:  42%|████▏     | 21/50 [17:21:52<24:42:30, 3067.27s/it]"
     ]
    },
    {
     "name": "stdout",
     "output_type": "stream",
     "text": [
      "Est. true value:\t8.0675302271952\n",
      "\n",
      "Running optimization ...\n",
      "Config:\t{'pop_size': 222, 'generations': 500, 'elite_split': 0.13, 'tournament_split': 0.08, 'crossover_rate': 0.26, 'mutation_rate': 0.93}\n",
      "Value:\t7.685567088485629\n"
     ]
    },
    {
     "name": "stderr",
     "output_type": "stream",
     "text": [
      "RandomSearch | Run:  44%|████▍     | 22/50 [18:17:01<24:25:12, 3139.74s/it]"
     ]
    },
    {
     "name": "stdout",
     "output_type": "stream",
     "text": [
      "Est. true value:\t8.050512009533424\n",
      "\n",
      "Running optimization ...\n",
      "Config:\t{'pop_size': 215, 'generations': 500, 'elite_split': 0.12, 'tournament_split': 0.1, 'crossover_rate': 0.32, 'mutation_rate': 0.7000000000000001}\n",
      "Value:\t7.733115774706891\n"
     ]
    },
    {
     "name": "stderr",
     "output_type": "stream",
     "text": [
      "RandomSearch | Run:  46%|████▌     | 23/50 [19:10:51<23:45:05, 3166.88s/it]"
     ]
    },
    {
     "name": "stdout",
     "output_type": "stream",
     "text": [
      "Est. true value:\t8.055299916280148\n",
      "\n",
      "Running optimization ...\n",
      "Config:\t{'pop_size': 237, 'generations': 500, 'elite_split': 0.18, 'tournament_split': 0.09, 'crossover_rate': 0.35000000000000003, 'mutation_rate': 0.72}\n",
      "Value:\t7.577440780517152\n"
     ]
    },
    {
     "name": "stderr",
     "output_type": "stream",
     "text": [
      "RandomSearch | Run:  48%|████▊     | 24/50 [20:06:42<23:16:16, 3222.18s/it]"
     ]
    },
    {
     "name": "stdout",
     "output_type": "stream",
     "text": [
      "Est. true value:\t8.095088377808255\n",
      "\n",
      "Running optimization ...\n",
      "Config:\t{'pop_size': 204, 'generations': 500, 'elite_split': 0.07, 'tournament_split': 0.06, 'crossover_rate': 0.1, 'mutation_rate': 0.8200000000000001}\n",
      "Value:\t7.581797821538929\n"
     ]
    },
    {
     "name": "stderr",
     "output_type": "stream",
     "text": [
      "RandomSearch | Run:  50%|█████     | 25/50 [20:56:30<21:53:11, 3151.67s/it]"
     ]
    },
    {
     "name": "stdout",
     "output_type": "stream",
     "text": [
      "Est. true value:\t8.007149827191785\n",
      "\n",
      "Running optimization ...\n",
      "Config:\t{'pop_size': 189, 'generations': 500, 'elite_split': 0.17, 'tournament_split': 0.07, 'crossover_rate': 0.01, 'mutation_rate': 0.75}\n",
      "Value:\t7.558502917333957\n"
     ]
    },
    {
     "name": "stderr",
     "output_type": "stream",
     "text": [
      "RandomSearch | Run:  52%|█████▏    | 26/50 [21:39:34<19:52:37, 2981.55s/it]"
     ]
    },
    {
     "name": "stdout",
     "output_type": "stream",
     "text": [
      "Est. true value:\t8.038756189912908\n",
      "\n",
      "Running optimization ...\n",
      "Config:\t{'pop_size': 240, 'generations': 500, 'elite_split': 0.01, 'tournament_split': 0.07, 'crossover_rate': 0.33, 'mutation_rate': 0.54}\n",
      "Value:\t7.872488616254106\n"
     ]
    },
    {
     "name": "stderr",
     "output_type": "stream",
     "text": [
      "RandomSearch | Run:  54%|█████▍    | 27/50 [22:41:21<20:26:18, 3199.05s/it]"
     ]
    },
    {
     "name": "stdout",
     "output_type": "stream",
     "text": [
      "Est. true value:\t8.098434684884696\n",
      "\n",
      "Running optimization ...\n",
      "Config:\t{'pop_size': 247, 'generations': 500, 'elite_split': 0.05, 'tournament_split': 0.07, 'crossover_rate': 0.05, 'mutation_rate': 0.84}\n",
      "Value:\t7.505650835234245\n"
     ]
    },
    {
     "name": "stderr",
     "output_type": "stream",
     "text": [
      "RandomSearch | Run:  56%|█████▌    | 28/50 [23:42:43<20:26:06, 3343.91s/it]"
     ]
    },
    {
     "name": "stdout",
     "output_type": "stream",
     "text": [
      "Est. true value:\t7.9780851056795665\n",
      "\n",
      "Running optimization ...\n",
      "Config:\t{'pop_size': 221, 'generations': 400, 'elite_split': 0.13, 'tournament_split': 0.08, 'crossover_rate': 0.06, 'mutation_rate': 0.87}\n",
      "Value:\t7.712069478103694\n"
     ]
    },
    {
     "name": "stderr",
     "output_type": "stream",
     "text": [
      "RandomSearch | Run:  58%|█████▊    | 29/50 [24:28:58<18:30:42, 3173.43s/it]"
     ]
    },
    {
     "name": "stdout",
     "output_type": "stream",
     "text": [
      "Est. true value:\t8.082008569250227\n",
      "\n",
      "Running optimization ...\n",
      "Config:\t{'pop_size': 243, 'generations': 500, 'elite_split': 0.2, 'tournament_split': 0.06, 'crossover_rate': 0.11, 'mutation_rate': 0.75}\n",
      "Value:\t7.754199764735092\n"
     ]
    },
    {
     "name": "stderr",
     "output_type": "stream",
     "text": [
      "RandomSearch | Run:  60%|██████    | 30/50 [25:22:00<17:38:41, 3176.05s/it]"
     ]
    },
    {
     "name": "stdout",
     "output_type": "stream",
     "text": [
      "Est. true value:\t8.041308834854927\n",
      "\n",
      "Running optimization ...\n",
      "Config:\t{'pop_size': 240, 'generations': 500, 'elite_split': 0.01, 'tournament_split': 0.09, 'crossover_rate': 0.07, 'mutation_rate': 0.5700000000000001}\n",
      "Value:\t7.598865851791532\n"
     ]
    },
    {
     "name": "stderr",
     "output_type": "stream",
     "text": [
      "RandomSearch | Run:  62%|██████▏   | 31/50 [26:18:58<17:08:42, 3248.56s/it]"
     ]
    },
    {
     "name": "stdout",
     "output_type": "stream",
     "text": [
      "Est. true value:\t8.02600163113997\n",
      "\n",
      "Running optimization ...\n",
      "Config:\t{'pop_size': 190, 'generations': 500, 'elite_split': 0.02, 'tournament_split': 0.08, 'crossover_rate': 0.24, 'mutation_rate': 0.88}\n",
      "Value:\t7.805847708834681\n"
     ]
    },
    {
     "name": "stderr",
     "output_type": "stream",
     "text": [
      "RandomSearch | Run:  64%|██████▍   | 32/50 [27:10:26<16:00:03, 3200.18s/it]"
     ]
    },
    {
     "name": "stdout",
     "output_type": "stream",
     "text": [
      "Est. true value:\t8.05691586739724\n",
      "\n",
      "Running optimization ...\n",
      "Config:\t{'pop_size': 193, 'generations': 500, 'elite_split': 0.08, 'tournament_split': 0.07, 'crossover_rate': 0.11, 'mutation_rate': 0.61}\n",
      "Value:\t7.726370190418541\n"
     ]
    },
    {
     "name": "stderr",
     "output_type": "stream",
     "text": [
      "RandomSearch | Run:  66%|██████▌   | 33/50 [27:56:54<14:31:42, 3076.63s/it]"
     ]
    },
    {
     "name": "stdout",
     "output_type": "stream",
     "text": [
      "Est. true value:\t8.096239366715217\n",
      "\n",
      "Running optimization ...\n",
      "Config:\t{'pop_size': 202, 'generations': 500, 'elite_split': 0.12, 'tournament_split': 0.1, 'crossover_rate': 0.34, 'mutation_rate': 0.8}\n",
      "Value:\t7.636569386850606\n"
     ]
    },
    {
     "name": "stderr",
     "output_type": "stream",
     "text": [
      "RandomSearch | Run:  68%|██████▊   | 34/50 [28:47:18<13:36:14, 3060.89s/it]"
     ]
    },
    {
     "name": "stdout",
     "output_type": "stream",
     "text": [
      "Est. true value:\t8.086270870025423\n",
      "\n",
      "Running optimization ...\n",
      "Config:\t{'pop_size': 181, 'generations': 400, 'elite_split': 0.01, 'tournament_split': 0.09, 'crossover_rate': 0.28, 'mutation_rate': 0.76}\n",
      "Value:\t7.449228235060069\n"
     ]
    },
    {
     "name": "stderr",
     "output_type": "stream",
     "text": [
      "RandomSearch | Run:  70%|███████   | 35/50 [29:30:16<12:08:59, 2915.94s/it]"
     ]
    },
    {
     "name": "stdout",
     "output_type": "stream",
     "text": [
      "Est. true value:\t8.295345621908844\n",
      "\n",
      "Running optimization ...\n",
      "Config:\t{'pop_size': 162, 'generations': 500, 'elite_split': 0.13, 'tournament_split': 0.07, 'crossover_rate': 0.22, 'mutation_rate': 0.87}\n",
      "Value:\t7.6586169632473435\n"
     ]
    },
    {
     "name": "stderr",
     "output_type": "stream",
     "text": [
      "RandomSearch | Run:  72%|███████▏  | 36/50 [30:11:38<10:50:01, 2785.79s/it]"
     ]
    },
    {
     "name": "stdout",
     "output_type": "stream",
     "text": [
      "Est. true value:\t8.274643661517892\n",
      "\n",
      "Running optimization ...\n",
      "Config:\t{'pop_size': 214, 'generations': 500, 'elite_split': 0.04, 'tournament_split': 0.09, 'crossover_rate': 0.23, 'mutation_rate': 0.52}\n",
      "Value:\t7.935368672512498\n"
     ]
    },
    {
     "name": "stderr",
     "output_type": "stream",
     "text": [
      "RandomSearch | Run:  74%|███████▍  | 37/50 [31:03:42<10:25:34, 2887.29s/it]"
     ]
    },
    {
     "name": "stdout",
     "output_type": "stream",
     "text": [
      "Est. true value:\t8.095600214641223\n",
      "\n",
      "Running optimization ...\n",
      "Config:\t{'pop_size': 248, 'generations': 500, 'elite_split': 0.01, 'tournament_split': 0.07, 'crossover_rate': 0.29, 'mutation_rate': 0.81}\n",
      "Value:\t7.627231132692144\n"
     ]
    },
    {
     "name": "stderr",
     "output_type": "stream",
     "text": [
      "RandomSearch | Run:  76%|███████▌  | 38/50 [32:08:47<10:38:31, 3192.60s/it]"
     ]
    },
    {
     "name": "stdout",
     "output_type": "stream",
     "text": [
      "Est. true value:\t7.996495292599669\n",
      "\n",
      "Running optimization ...\n",
      "Config:\t{'pop_size': 230, 'generations': 500, 'elite_split': 0.11, 'tournament_split': 0.1, 'crossover_rate': 0.16, 'mutation_rate': 0.64}\n",
      "Value:\t7.687731670549774\n"
     ]
    },
    {
     "name": "stderr",
     "output_type": "stream",
     "text": [
      "RandomSearch | Run:  78%|███████▊  | 39/50 [33:02:26<9:46:45, 3200.54s/it] "
     ]
    },
    {
     "name": "stdout",
     "output_type": "stream",
     "text": [
      "Est. true value:\t8.035792751069623\n",
      "\n",
      "Running optimization ...\n",
      "Config:\t{'pop_size': 209, 'generations': 500, 'elite_split': 0.08, 'tournament_split': 0.1, 'crossover_rate': 0.07, 'mutation_rate': 0.32}\n",
      "Value:\t7.7345858072871305\n"
     ]
    },
    {
     "name": "stderr",
     "output_type": "stream",
     "text": [
      "RandomSearch | Run:  80%|████████  | 40/50 [33:48:39<8:32:01, 3072.17s/it]"
     ]
    },
    {
     "name": "stdout",
     "output_type": "stream",
     "text": [
      "Est. true value:\t8.322686647544002\n",
      "\n",
      "Running optimization ...\n",
      "Config:\t{'pop_size': 238, 'generations': 500, 'elite_split': 0.09, 'tournament_split': 0.05, 'crossover_rate': 0.38, 'mutation_rate': 0.84}\n",
      "Value:\t7.52741488106017\n"
     ]
    },
    {
     "name": "stderr",
     "output_type": "stream",
     "text": [
      "RandomSearch | Run:  82%|████████▏ | 41/50 [34:49:20<8:06:26, 3242.90s/it]"
     ]
    },
    {
     "name": "stdout",
     "output_type": "stream",
     "text": [
      "Est. true value:\t8.18752403645461\n",
      "\n",
      "Running optimization ...\n",
      "Config:\t{'pop_size': 194, 'generations': 500, 'elite_split': 0.11, 'tournament_split': 0.08, 'crossover_rate': 0.01, 'mutation_rate': 0.74}\n",
      "Value:\t7.632048218837139\n"
     ]
    },
    {
     "name": "stderr",
     "output_type": "stream",
     "text": [
      "RandomSearch | Run:  84%|████████▍ | 42/50 [35:35:16<6:52:53, 3096.71s/it]"
     ]
    },
    {
     "name": "stdout",
     "output_type": "stream",
     "text": [
      "Est. true value:\t8.021079111740603\n",
      "\n",
      "Running optimization ...\n",
      "Config:\t{'pop_size': 234, 'generations': 500, 'elite_split': 0.01, 'tournament_split': 0.1, 'crossover_rate': 0.28, 'mutation_rate': 0.74}\n",
      "Value:\t7.705366557614235\n"
     ]
    },
    {
     "name": "stderr",
     "output_type": "stream",
     "text": [
      "RandomSearch | Run:  86%|████████▌ | 43/50 [36:37:12<6:22:59, 3282.78s/it]"
     ]
    },
    {
     "name": "stdout",
     "output_type": "stream",
     "text": [
      "Est. true value:\t8.030966362556066\n",
      "\n",
      "Running optimization ...\n",
      "Config:\t{'pop_size': 247, 'generations': 500, 'elite_split': 0.04, 'tournament_split': 0.07, 'crossover_rate': 0.5700000000000001, 'mutation_rate': 0.72}\n",
      "Value:\t7.775720333453791\n"
     ]
    },
    {
     "name": "stderr",
     "output_type": "stream",
     "text": [
      "RandomSearch | Run:  88%|████████▊ | 44/50 [37:45:13<5:52:12, 3522.01s/it]"
     ]
    },
    {
     "name": "stdout",
     "output_type": "stream",
     "text": [
      "Est. true value:\t8.21787625683128\n",
      "\n",
      "Running optimization ...\n",
      "Config:\t{'pop_size': 244, 'generations': 500, 'elite_split': 0.06, 'tournament_split': 0.09, 'crossover_rate': 0.35000000000000003, 'mutation_rate': 0.88}\n",
      "Value:\t7.7296216756408\n"
     ]
    },
    {
     "name": "stderr",
     "output_type": "stream",
     "text": [
      "RandomSearch | Run:  90%|█████████ | 45/50 [38:49:17<5:01:33, 3618.66s/it]"
     ]
    },
    {
     "name": "stdout",
     "output_type": "stream",
     "text": [
      "Est. true value:\t8.000410195510867\n",
      "\n",
      "Running optimization ...\n",
      "Config:\t{'pop_size': 202, 'generations': 400, 'elite_split': 0.14, 'tournament_split': 0.1, 'crossover_rate': 0.0, 'mutation_rate': 0.44}\n",
      "Value:\t7.551247808218215\n"
     ]
    },
    {
     "name": "stderr",
     "output_type": "stream",
     "text": [
      "RandomSearch | Run:  92%|█████████▏| 46/50 [39:28:58<3:36:29, 3247.35s/it]"
     ]
    },
    {
     "name": "stdout",
     "output_type": "stream",
     "text": [
      "Est. true value:\t8.403241226893533\n",
      "\n",
      "Running optimization ...\n",
      "Config:\t{'pop_size': 201, 'generations': 500, 'elite_split': 0.2, 'tournament_split': 0.08, 'crossover_rate': 0.15, 'mutation_rate': 0.79}\n",
      "Value:\t7.606396651281497\n"
     ]
    },
    {
     "name": "stderr",
     "output_type": "stream",
     "text": [
      "RandomSearch | Run:  94%|█████████▍| 47/50 [40:15:19<2:35:22, 3107.48s/it]"
     ]
    },
    {
     "name": "stdout",
     "output_type": "stream",
     "text": [
      "Est. true value:\t8.073028814179194\n",
      "\n",
      "Running optimization ...\n",
      "Config:\t{'pop_size': 207, 'generations': 500, 'elite_split': 0.17, 'tournament_split': 0.09, 'crossover_rate': 0.07, 'mutation_rate': 0.67}\n",
      "Value:\t7.470821333005951\n"
     ]
    },
    {
     "name": "stderr",
     "output_type": "stream",
     "text": [
      "RandomSearch | Run:  96%|█████████▌| 48/50 [41:02:46<1:40:58, 3029.30s/it]"
     ]
    },
    {
     "name": "stdout",
     "output_type": "stream",
     "text": [
      "Est. true value:\t8.051018264258746\n",
      "\n",
      "Running optimization ...\n",
      "Config:\t{'pop_size': 204, 'generations': 500, 'elite_split': 0.08, 'tournament_split': 0.05, 'crossover_rate': 0.35000000000000003, 'mutation_rate': 0.92}\n",
      "Value:\t7.804598969666058\n"
     ]
    },
    {
     "name": "stderr",
     "output_type": "stream",
     "text": [
      "RandomSearch | Run:  98%|█████████▊| 49/50 [41:57:07<51:38, 3098.99s/it]  "
     ]
    },
    {
     "name": "stdout",
     "output_type": "stream",
     "text": [
      "Est. true value:\t8.475073360705418\n",
      "\n",
      "Running optimization ...\n",
      "Config:\t{'pop_size': 236, 'generations': 500, 'elite_split': 0.12, 'tournament_split': 0.06, 'crossover_rate': 0.2, 'mutation_rate': 0.87}\n",
      "Value:\t7.742618532247018\n"
     ]
    },
    {
     "name": "stderr",
     "output_type": "stream",
     "text": [
      "RandomSearch | Run: 100%|██████████| 50/50 [42:54:58<00:00, 3089.98s/it]"
     ]
    },
    {
     "name": "stdout",
     "output_type": "stream",
     "text": [
      "Est. true value:\t8.009247303295435\n"
     ]
    },
    {
     "name": "stderr",
     "output_type": "stream",
     "text": [
      "\n"
     ]
    }
   ],
   "source": [
    "results_rnd_search = []\n",
    "\n",
    "for run_id in tqdm(range(N_RUNS), desc=\"RandomSearch | Run\"):\n",
    "    print(\"\\nRunning optimization ...\")\n",
    "    seed = SEED + run_id\n",
    "    best_value, best_params = random_search(SIM_BUDGET, seed)\n",
    "    print(f\"Config:\\t{best_params}\")\n",
    "    print(f\"Value:\\t{best_value}\")\n",
    "\n",
    "    mean_evaluation, evaluations = estimate_true_value(seed, best_params)\n",
    "    print(f\"Est. true value:\\t{mean_evaluation}\")\n",
    "\n",
    "    results_rnd_search.append({\n",
    "        \"mean_evaluation\": mean_evaluation,\n",
    "        \"evaluations\": evaluations,\n",
    "        \"best_value\": best_value,\n",
    "        \"best_params\": best_params,\n",
    "        \"seed\": seed,\n",
    "    })\n",
    "\n",
    "    with open(Path(\"_data/04_results_rnd_search.json\"), 'w') as f:\n",
    "        json.dump(results_rnd_search, f)"
   ]
  },
  {
   "cell_type": "markdown",
   "id": "7aa0339d",
   "metadata": {},
   "source": [
    "### 2.3 IRACE"
   ]
  },
  {
   "cell_type": "code",
   "execution_count": 12,
   "id": "cd4a9ff0",
   "metadata": {},
   "outputs": [
    {
     "name": "stdout",
     "output_type": "stream",
     "text": [
      "\n",
      "Running optimization ...\n"
     ]
    },
    {
     "name": "stderr",
     "output_type": "stream",
     "text": [
      "IRACE | Run:   0%|          | 0/50 [00:00<?, ?it/s]"
     ]
    },
    {
     "name": "stdout",
     "output_type": "stream",
     "text": [
      "\n",
      "Running optimization ...\n"
     ]
    },
    {
     "name": "stderr",
     "output_type": "stream",
     "text": [
      "Error importing in API mode: ImportError('On Windows, cffi mode \"ANY\" is only \"ABI\".')\n",
      "Trying to import in ABI mode.\n",
      "c:\\Users\\fwuer\\Code\\evobandits-demo\\.venv\\Lib\\site-packages\\rpy2\\rinterface\\__init__.py:1211: UserWarning: Environment variable \"PATH\" redefined by R and overriding existing variable. Current: \"c:\\Users\\fwuer\\Code\\evobandits-demo\\.venv\\Scripts;C:\\Program Files (x86)\\Intel\\iCLS Client\\;C:\\Program Files\\Intel\\iCLS Client\\;C:\\WINDOWS\\system32;C:\\WINDOWS;C:\\WINDOWS\\System32\\Wbem;C:\\WINDOWS\\System32\\WindowsPowerShell\\v1.0\\;C:\\Program Files (x86)\\Intel\\Intel(R) Management Engine Components\\DAL;C:\\Program Files\\Intel\\Intel(R) Management Engine Components\\DAL;C:\\Program Files (x86)\\Intel\\Intel(R) Management Engine Components\\IPT;C:\\Program Files\\Intel\\Intel(R) Management Engine Components\\IPT;C:\\Program Files\\Intel\\WiFi\\bin\\;C:\\Program Files\\Common Files\\Intel\\WirelessCommon\\;C:\\WINDOWS\\System32\\OpenSSH\\;C:\\Program Files\\Git\\cmd;C:\\Users\\fwuer\\AppData\\Local\\Programs\\Python\\Launcher\\;C:\\Users\\fwuer\\AppData\\Local\\Microsoft\\WindowsApps;C:\\Users\\fwuer\\AppData\\Local\\Programs\\Microsoft VS Code\\bin;C:\\Program Files\\R\\R-4.4.1\\bin\\x64;;C:\\Program Files\\R\\R-4.4.1\\bin\\x64\", R: \"C:\\rtools44/x86_64-w64-mingw32.static.posix/bin;C:\\rtools44/usr/bin;c:\\Users\\fwuer\\Code\\evobandits-demo\\.venv\\Scripts;C:\\Program Files (x86)\\Intel\\iCLS Client\\;C:\\Program Files\\Intel\\iCLS Client\\;C:\\WINDOWS\\system32;C:\\WINDOWS;C:\\WINDOWS\\System32\\Wbem;C:\\WINDOWS\\System32\\WindowsPowerShell\\v1.0\\;C:\\Program Files (x86)\\Intel\\Intel(R) Management Engine Components\\DAL;C:\\Program Files\\Intel\\Intel(R) Management Engine Components\\DAL;C:\\Program Files (x86)\\Intel\\Intel(R) Management Engine Components\\IPT;C:\\Program Files\\Intel\\Intel(R) Management Engine Components\\IPT;C:\\Program Files\\Intel\\WiFi\\bin\\;C:\\Program Files\\Common Files\\Intel\\WirelessCommon\\;C:\\WINDOWS\\System32\\OpenSSH\\;C:\\Program Files\\Git\\cmd;C:\\Users\\fwuer\\AppData\\Local\\Programs\\Python\\Launcher\\;C:\\Users\\fwuer\\AppData\\Local\\Microsoft\\WindowsApps;C:\\Users\\fwuer\\AppData\\Local\\Programs\\Microsoft VS Code\\bin;C:\\Program Files\\R\\R-4.4.1\\bin\\x64;;C:\\Program Files\\R\\R-4.4.1\\bin\\x64\"\n",
      "  warnings.warn(\n",
      "c:\\Users\\fwuer\\Code\\evobandits-demo\\.venv\\Lib\\site-packages\\rpy2\\rinterface\\__init__.py:1211: UserWarning: Environment variable \"R_HOME\" redefined by R and overriding existing variable. Current: \"C:\\Program Files\\R\\R-4.4.1\", R: \"C:/PROGRA~1/R/R-44~1.1\"\n",
      "  warnings.warn(\n",
      "c:\\Users\\fwuer\\Code\\evobandits-demo\\.venv\\Lib\\site-packages\\rpy2\\rinterface\\__init__.py:1211: UserWarning: Environment variable \"PATH\" redefined by R and overriding existing variable. Current: \"C:\\rtools44/x86_64-w64-mingw32.static.posix/bin;C:\\rtools44/usr/bin;c:\\Users\\fwuer\\Code\\evobandits-demo\\.venv\\Scripts;C:\\Program Files (x86)\\Intel\\iCLS Client\\;C:\\Program Files\\Intel\\iCLS Client\\;C:\\WINDOWS\\system32;C:\\WINDOWS;C:\\WINDOWS\\System32\\Wbem;C:\\WINDOWS\\System32\\WindowsPowerShell\\v1.0\\;C:\\Program Files (x86)\\Intel\\Intel(R) Management Engine Components\\DAL;C:\\Program Files\\Intel\\Intel(R) Management Engine Components\\DAL;C:\\Program Files (x86)\\Intel\\Intel(R) Management Engine Components\\IPT;C:\\Program Files\\Intel\\Intel(R) Management Engine Components\\IPT;C:\\Program Files\\Intel\\WiFi\\bin\\;C:\\Program Files\\Common Files\\Intel\\WirelessCommon\\;C:\\WINDOWS\\System32\\OpenSSH\\;C:\\Program Files\\Git\\cmd;C:\\Users\\fwuer\\AppData\\Local\\Programs\\Python\\Launcher\\;C:\\Users\\fwuer\\AppData\\Local\\Microsoft\\WindowsApps;C:\\Users\\fwuer\\AppData\\Local\\Programs\\Microsoft VS Code\\bin;C:\\Program Files\\R\\R-4.4.1\\bin\\x64;;C:\\Program Files\\R\\R-4.4.1\\bin\\x64\", R: \"C:\\rtools44/x86_64-w64-mingw32.static.posix/bin;C:\\rtools44/usr/bin;C:\\rtools44/x86_64-w64-mingw32.static.posix/bin;C:\\rtools44/usr/bin;C:\\rtools44/x86_64-w64-mingw32.static.posix/bin;C:\\rtools44/usr/bin;c:\\Users\\fwuer\\Code\\evobandits-demo\\.venv\\Scripts;C:\\Program Files (x86)\\Intel\\iCLS Client\\;C:\\Program Files\\Intel\\iCLS Client\\;C:\\WINDOWS\\system32;C:\\WINDOWS;C:\\WINDOWS\\System32\\Wbem;C:\\WINDOWS\\System32\\WindowsPowerShell\\v1.0\\;C:\\Program Files (x86)\\Intel\\Intel(R) Management Engine Components\\DAL;C:\\Program Files\\Intel\\Intel(R) Management Engine Components\\DAL;C:\\Program Files (x86)\\Intel\\Intel(R) Management Engine Components\\IPT;C:\\Program Files\\Intel\\Intel(R) Management Engine Components\\IPT;C:\\Program Files\\Intel\\WiFi\\bin\\;C:\\Program Files\\Common Files\\Intel\\WirelessCommon\\;C:\\WINDOWS\\System32\\OpenSSH\\;C:\\Program Files\\Git\\cmd;C:\\Users\\fwuer\\AppData\\Local\\Programs\\Python\\Launcher\\;C:\\Users\\fwuer\\AppData\\Local\\Microsoft\\WindowsApps;C:\\Users\\fwuer\\AppData\\Local\\Programs\\Microsoft VS Code\\bin;C:\\Program Files\\R\\R-4.4.1\\bin\\x64;;C:\\Program Files\\R\\R-4.4.1\\bin\\x64\"\n",
      "  warnings.warn(\n"
     ]
    },
    {
     "name": "stdout",
     "output_type": "stream",
     "text": [
      "Config:\tOrderedDict({'pop_size': 199, 'generations': 500, 'elite_split': 0.11, 'tournament_split': 0.09, 'crossover_rate': 0.08, 'mutation_rate': 0.96})\n"
     ]
    },
    {
     "name": "stderr",
     "output_type": "stream",
     "text": [
      "IRACE | Run:   2%|▏         | 1/50 [57:38<47:04:17, 3458.32s/it]"
     ]
    },
    {
     "name": "stdout",
     "output_type": "stream",
     "text": [
      "Est. true value:\t8.004072794238738\n",
      "\n",
      "Running optimization ...\n",
      "Config:\tOrderedDict({'pop_size': 186, 'generations': 500, 'elite_split': 0.15, 'tournament_split': 0.08, 'crossover_rate': 0.01, 'mutation_rate': 0.84})\n"
     ]
    },
    {
     "name": "stderr",
     "output_type": "stream",
     "text": [
      "IRACE | Run:   4%|▍         | 2/50 [1:48:37<42:59:02, 3223.79s/it]"
     ]
    },
    {
     "name": "stdout",
     "output_type": "stream",
     "text": [
      "Est. true value:\t8.05216708562738\n",
      "\n",
      "Running optimization ...\n",
      "Config:\tOrderedDict({'pop_size': 231, 'generations': 500, 'elite_split': 0.05, 'tournament_split': 0.07, 'crossover_rate': 0.25, 'mutation_rate': 0.92})\n"
     ]
    },
    {
     "name": "stderr",
     "output_type": "stream",
     "text": [
      "IRACE | Run:   6%|▌         | 3/50 [2:56:48<47:15:16, 3619.51s/it]"
     ]
    },
    {
     "name": "stdout",
     "output_type": "stream",
     "text": [
      "Est. true value:\t8.031273803417456\n",
      "\n",
      "Running optimization ...\n",
      "Config:\tOrderedDict({'pop_size': 239, 'generations': 500, 'elite_split': 0.02, 'tournament_split': 0.1, 'crossover_rate': 0.09, 'mutation_rate': 0.91})\n"
     ]
    },
    {
     "name": "stderr",
     "output_type": "stream",
     "text": [
      "IRACE | Run:   8%|▊         | 4/50 [4:13:47<51:17:29, 4014.13s/it]"
     ]
    },
    {
     "name": "stdout",
     "output_type": "stream",
     "text": [
      "Est. true value:\t7.95148684778089\n",
      "\n",
      "Running optimization ...\n",
      "Config:\tOrderedDict({'pop_size': 234, 'generations': 500, 'elite_split': 0.15, 'tournament_split': 0.09, 'crossover_rate': 0.04, 'mutation_rate': 0.91})\n"
     ]
    },
    {
     "name": "stderr",
     "output_type": "stream",
     "text": [
      "IRACE | Run:  10%|█         | 5/50 [5:23:30<50:56:19, 4075.10s/it]"
     ]
    },
    {
     "name": "stdout",
     "output_type": "stream",
     "text": [
      "Est. true value:\t7.99988265748262\n",
      "\n",
      "Running optimization ...\n",
      "Config:\tOrderedDict({'pop_size': 246, 'generations': 500, 'elite_split': 0.11, 'tournament_split': 0.1, 'crossover_rate': 0.02, 'mutation_rate': 0.42})\n"
     ]
    },
    {
     "name": "stderr",
     "output_type": "stream",
     "text": [
      "IRACE | Run:  12%|█▏        | 6/50 [6:27:43<48:52:59, 3999.54s/it]"
     ]
    },
    {
     "name": "stdout",
     "output_type": "stream",
     "text": [
      "Est. true value:\t8.088061893715068\n",
      "\n",
      "Running optimization ...\n",
      "Config:\tOrderedDict({'pop_size': 220, 'generations': 500, 'elite_split': 0.09, 'tournament_split': 0.1, 'crossover_rate': 0.08, 'mutation_rate': 0.8})\n"
     ]
    },
    {
     "name": "stderr",
     "output_type": "stream",
     "text": [
      "IRACE | Run:  14%|█▍        | 7/50 [7:29:20<46:35:26, 3900.61s/it]"
     ]
    },
    {
     "name": "stdout",
     "output_type": "stream",
     "text": [
      "Est. true value:\t8.00135788671384\n",
      "\n",
      "Running optimization ...\n",
      "Config:\tOrderedDict({'pop_size': 224, 'generations': 500, 'elite_split': 0.02, 'tournament_split': 0.1, 'crossover_rate': 0.31, 'mutation_rate': 0.9400000000000001})\n"
     ]
    },
    {
     "name": "stderr",
     "output_type": "stream",
     "text": [
      "IRACE | Run:  16%|█▌        | 8/50 [8:41:03<47:00:05, 4028.69s/it]"
     ]
    },
    {
     "name": "stdout",
     "output_type": "stream",
     "text": [
      "Est. true value:\t8.018989347888024\n",
      "\n",
      "Running optimization ...\n",
      "Config:\tOrderedDict({'pop_size': 189, 'generations': 500, 'elite_split': 0.01, 'tournament_split': 0.1, 'crossover_rate': 0.04, 'mutation_rate': 0.37})\n"
     ]
    },
    {
     "name": "stderr",
     "output_type": "stream",
     "text": [
      "IRACE | Run:  18%|█▊        | 9/50 [9:32:28<42:31:22, 3733.71s/it]"
     ]
    },
    {
     "name": "stdout",
     "output_type": "stream",
     "text": [
      "Est. true value:\t8.219177658881737\n",
      "\n",
      "Running optimization ...\n",
      "Config:\tOrderedDict({'pop_size': 233, 'generations': 500, 'elite_split': 0.05, 'tournament_split': 0.08, 'crossover_rate': 0.16, 'mutation_rate': 0.61})\n"
     ]
    },
    {
     "name": "stderr",
     "output_type": "stream",
     "text": [
      "IRACE | Run:  20%|██        | 10/50 [10:35:40<41:41:11, 3751.78s/it]"
     ]
    },
    {
     "name": "stdout",
     "output_type": "stream",
     "text": [
      "Est. true value:\t8.02562543390154\n",
      "\n",
      "Running optimization ...\n",
      "Config:\tOrderedDict({'pop_size': 185, 'generations': 500, 'elite_split': 0.09, 'tournament_split': 0.08, 'crossover_rate': 0.16, 'mutation_rate': 0.55})\n"
     ]
    },
    {
     "name": "stderr",
     "output_type": "stream",
     "text": [
      "IRACE | Run:  22%|██▏       | 11/50 [11:28:29<38:42:36, 3573.25s/it]"
     ]
    },
    {
     "name": "stdout",
     "output_type": "stream",
     "text": [
      "Est. true value:\t8.146476638833853\n",
      "\n",
      "Running optimization ...\n",
      "Config:\tOrderedDict({'pop_size': 228, 'generations': 500, 'elite_split': 0.13, 'tournament_split': 0.1, 'crossover_rate': 0.0, 'mutation_rate': 1.0})\n"
     ]
    },
    {
     "name": "stderr",
     "output_type": "stream",
     "text": [
      "IRACE | Run:  24%|██▍       | 12/50 [12:31:42<38:25:33, 3640.35s/it]"
     ]
    },
    {
     "name": "stdout",
     "output_type": "stream",
     "text": [
      "Est. true value:\t7.925083006492\n",
      "\n",
      "Running optimization ...\n",
      "Config:\tOrderedDict({'pop_size': 178, 'generations': 500, 'elite_split': 0.02, 'tournament_split': 0.09, 'crossover_rate': 0.11, 'mutation_rate': 0.92})\n"
     ]
    },
    {
     "name": "stderr",
     "output_type": "stream",
     "text": [
      "IRACE | Run:  26%|██▌       | 13/50 [13:31:58<37:20:15, 3632.85s/it]"
     ]
    },
    {
     "name": "stdout",
     "output_type": "stream",
     "text": [
      "Est. true value:\t8.022344160410249\n",
      "\n",
      "Running optimization ...\n",
      "Config:\tOrderedDict({'pop_size': 210, 'generations': 500, 'elite_split': 0.05, 'tournament_split': 0.09, 'crossover_rate': 0.06, 'mutation_rate': 0.79})\n"
     ]
    },
    {
     "name": "stderr",
     "output_type": "stream",
     "text": [
      "IRACE | Run:  28%|██▊       | 14/50 [14:33:45<36:33:04, 3655.11s/it]"
     ]
    },
    {
     "name": "stdout",
     "output_type": "stream",
     "text": [
      "Est. true value:\t7.999238230924029\n",
      "\n",
      "Running optimization ...\n",
      "Config:\tOrderedDict({'pop_size': 244, 'generations': 500, 'elite_split': 0.2, 'tournament_split': 0.09, 'crossover_rate': 0.46, 'mutation_rate': 0.8})\n"
     ]
    },
    {
     "name": "stderr",
     "output_type": "stream",
     "text": [
      "IRACE | Run:  30%|███       | 15/50 [15:38:32<36:13:01, 3725.17s/it]"
     ]
    },
    {
     "name": "stdout",
     "output_type": "stream",
     "text": [
      "Est. true value:\t8.11220870703789\n",
      "\n",
      "Running optimization ...\n",
      "Config:\tOrderedDict({'pop_size': 241, 'generations': 500, 'elite_split': 0.03, 'tournament_split': 0.07, 'crossover_rate': 0.25, 'mutation_rate': 0.66})\n"
     ]
    },
    {
     "name": "stderr",
     "output_type": "stream",
     "text": [
      "IRACE | Run:  32%|███▏      | 16/50 [16:53:41<37:24:33, 3960.98s/it]"
     ]
    },
    {
     "name": "stdout",
     "output_type": "stream",
     "text": [
      "Est. true value:\t8.032221640211574\n",
      "\n",
      "Running optimization ...\n",
      "Config:\tOrderedDict({'pop_size': 224, 'generations': 500, 'elite_split': 0.14, 'tournament_split': 0.08, 'crossover_rate': 0.29, 'mutation_rate': 0.88})\n"
     ]
    },
    {
     "name": "stderr",
     "output_type": "stream",
     "text": [
      "IRACE | Run:  34%|███▍      | 17/50 [17:57:53<36:00:34, 3928.32s/it]"
     ]
    },
    {
     "name": "stdout",
     "output_type": "stream",
     "text": [
      "Est. true value:\t8.056807736628278\n",
      "\n",
      "Running optimization ...\n",
      "Config:\tOrderedDict({'pop_size': 242, 'generations': 500, 'elite_split': 0.03, 'tournament_split': 0.09, 'crossover_rate': 0.08, 'mutation_rate': 0.8200000000000001})\n"
     ]
    },
    {
     "name": "stderr",
     "output_type": "stream",
     "text": [
      "IRACE | Run:  36%|███▌      | 18/50 [19:11:28<36:13:02, 4074.44s/it]"
     ]
    },
    {
     "name": "stdout",
     "output_type": "stream",
     "text": [
      "Est. true value:\t7.970269184206076\n",
      "\n",
      "Running optimization ...\n",
      "Config:\tOrderedDict({'pop_size': 133, 'generations': 500, 'elite_split': 0.01, 'tournament_split': 0.09, 'crossover_rate': 0.02, 'mutation_rate': 0.62})\n"
     ]
    },
    {
     "name": "stderr",
     "output_type": "stream",
     "text": [
      "IRACE | Run:  38%|███▊      | 19/50 [19:53:23<31:03:09, 3606.13s/it]"
     ]
    },
    {
     "name": "stdout",
     "output_type": "stream",
     "text": [
      "Est. true value:\t8.212965176667538\n",
      "\n",
      "Running optimization ...\n",
      "Config:\tOrderedDict({'pop_size': 204, 'generations': 500, 'elite_split': 0.07, 'tournament_split': 0.1, 'crossover_rate': 0.02, 'mutation_rate': 0.84})\n"
     ]
    },
    {
     "name": "stderr",
     "output_type": "stream",
     "text": [
      "IRACE | Run:  40%|████      | 20/50 [20:58:30<30:48:16, 3696.56s/it]"
     ]
    },
    {
     "name": "stdout",
     "output_type": "stream",
     "text": [
      "Est. true value:\t8.034493228944035\n",
      "\n",
      "Running optimization ...\n",
      "Config:\tOrderedDict({'pop_size': 233, 'generations': 500, 'elite_split': 0.15, 'tournament_split': 0.07, 'crossover_rate': 0.1, 'mutation_rate': 0.64})\n"
     ]
    },
    {
     "name": "stderr",
     "output_type": "stream",
     "text": [
      "IRACE | Run:  42%|████▏     | 21/50 [22:03:07<30:12:52, 3750.76s/it]"
     ]
    },
    {
     "name": "stdout",
     "output_type": "stream",
     "text": [
      "Est. true value:\t8.04800491992849\n",
      "\n",
      "Running optimization ...\n",
      "Config:\tOrderedDict({'pop_size': 245, 'generations': 500, 'elite_split': 0.15, 'tournament_split': 0.06, 'crossover_rate': 0.26, 'mutation_rate': 0.61})\n"
     ]
    },
    {
     "name": "stderr",
     "output_type": "stream",
     "text": [
      "IRACE | Run:  44%|████▍     | 22/50 [23:06:34<29:18:09, 3767.50s/it]"
     ]
    },
    {
     "name": "stdout",
     "output_type": "stream",
     "text": [
      "Est. true value:\t8.093804689245776\n",
      "\n",
      "Running optimization ...\n",
      "Config:\tOrderedDict({'pop_size': 205, 'generations': 500, 'elite_split': 0.06, 'tournament_split': 0.05, 'crossover_rate': 0.11, 'mutation_rate': 0.56})\n"
     ]
    },
    {
     "name": "stderr",
     "output_type": "stream",
     "text": [
      "IRACE | Run:  46%|████▌     | 23/50 [24:04:02<27:32:15, 3671.70s/it]"
     ]
    },
    {
     "name": "stdout",
     "output_type": "stream",
     "text": [
      "Est. true value:\t8.15480769408553\n",
      "\n",
      "Running optimization ...\n",
      "Config:\tOrderedDict({'pop_size': 239, 'generations': 500, 'elite_split': 0.11, 'tournament_split': 0.09, 'crossover_rate': 0.39, 'mutation_rate': 0.6900000000000001})\n"
     ]
    },
    {
     "name": "stderr",
     "output_type": "stream",
     "text": [
      "IRACE | Run:  48%|████▊     | 24/50 [25:13:06<27:32:31, 3813.53s/it]"
     ]
    },
    {
     "name": "stdout",
     "output_type": "stream",
     "text": [
      "Est. true value:\t8.093142637743231\n",
      "\n",
      "Running optimization ...\n",
      "Config:\tOrderedDict({'pop_size': 246, 'generations': 500, 'elite_split': 0.09, 'tournament_split': 0.1, 'crossover_rate': 0.13, 'mutation_rate': 0.91})\n"
     ]
    },
    {
     "name": "stderr",
     "output_type": "stream",
     "text": [
      "IRACE | Run:  50%|█████     | 25/50 [26:31:34<28:20:44, 4081.77s/it]"
     ]
    },
    {
     "name": "stdout",
     "output_type": "stream",
     "text": [
      "Est. true value:\t7.959120308561875\n",
      "\n",
      "Running optimization ...\n",
      "Config:\tOrderedDict({'pop_size': 239, 'generations': 500, 'elite_split': 0.0, 'tournament_split': 0.09, 'crossover_rate': 0.31, 'mutation_rate': 0.6})\n"
     ]
    },
    {
     "name": "stderr",
     "output_type": "stream",
     "text": [
      "IRACE | Run:  52%|█████▏    | 26/50 [27:45:21<27:54:07, 4185.32s/it]"
     ]
    },
    {
     "name": "stdout",
     "output_type": "stream",
     "text": [
      "Est. true value:\t8.020945330613724\n",
      "\n",
      "Running optimization ...\n",
      "Config:\tOrderedDict({'pop_size': 242, 'generations': 500, 'elite_split': 0.15, 'tournament_split': 0.08, 'crossover_rate': 0.3, 'mutation_rate': 0.79})\n"
     ]
    },
    {
     "name": "stderr",
     "output_type": "stream",
     "text": [
      "IRACE | Run:  54%|█████▍    | 27/50 [28:52:25<26:25:52, 4137.05s/it]"
     ]
    },
    {
     "name": "stdout",
     "output_type": "stream",
     "text": [
      "Est. true value:\t8.03476531770876\n",
      "\n",
      "Running optimization ...\n",
      "Config:\tOrderedDict({'pop_size': 215, 'generations': 400, 'elite_split': 0.04, 'tournament_split': 0.09, 'crossover_rate': 0.25, 'mutation_rate': 0.8})\n"
     ]
    },
    {
     "name": "stderr",
     "output_type": "stream",
     "text": [
      "IRACE | Run:  56%|█████▌    | 28/50 [29:52:23<24:17:31, 3975.08s/it]"
     ]
    },
    {
     "name": "stdout",
     "output_type": "stream",
     "text": [
      "Est. true value:\t8.10211887030004\n",
      "\n",
      "Running optimization ...\n",
      "Config:\tOrderedDict({'pop_size': 185, 'generations': 400, 'elite_split': 0.05, 'tournament_split': 0.07, 'crossover_rate': 0.0, 'mutation_rate': 0.7000000000000001})\n"
     ]
    },
    {
     "name": "stderr",
     "output_type": "stream",
     "text": [
      "IRACE | Run:  58%|█████▊    | 29/50 [30:37:46<20:59:52, 3599.64s/it]"
     ]
    },
    {
     "name": "stdout",
     "output_type": "stream",
     "text": [
      "Est. true value:\t8.220760958977527\n",
      "\n",
      "Running optimization ...\n",
      "Config:\tOrderedDict({'pop_size': 226, 'generations': 400, 'elite_split': 0.05, 'tournament_split': 0.1, 'crossover_rate': 0.04, 'mutation_rate': 0.75})\n"
     ]
    },
    {
     "name": "stderr",
     "output_type": "stream",
     "text": [
      "IRACE | Run:  60%|██████    | 30/50 [31:44:41<20:41:25, 3724.27s/it]"
     ]
    },
    {
     "name": "stdout",
     "output_type": "stream",
     "text": [
      "Est. true value:\t8.035112388112825\n",
      "\n",
      "Running optimization ...\n",
      "Config:\tOrderedDict({'pop_size': 242, 'generations': 500, 'elite_split': 0.14, 'tournament_split': 0.1, 'crossover_rate': 0.04, 'mutation_rate': 0.51})\n"
     ]
    },
    {
     "name": "stderr",
     "output_type": "stream",
     "text": [
      "IRACE | Run:  62%|██████▏   | 31/50 [32:47:00<19:40:41, 3728.51s/it]"
     ]
    },
    {
     "name": "stdout",
     "output_type": "stream",
     "text": [
      "Est. true value:\t8.053033151581516\n",
      "\n",
      "Running optimization ...\n",
      "Config:\tOrderedDict({'pop_size': 217, 'generations': 500, 'elite_split': 0.19, 'tournament_split': 0.08, 'crossover_rate': 0.01, 'mutation_rate': 0.96})\n"
     ]
    },
    {
     "name": "stderr",
     "output_type": "stream",
     "text": [
      "IRACE | Run:  64%|██████▍   | 32/50 [33:44:16<18:12:16, 3640.93s/it]"
     ]
    },
    {
     "name": "stdout",
     "output_type": "stream",
     "text": [
      "Est. true value:\t7.989648154340753\n",
      "\n",
      "Running optimization ...\n",
      "Config:\tOrderedDict({'pop_size': 209, 'generations': 500, 'elite_split': 0.04, 'tournament_split': 0.05, 'crossover_rate': 0.04, 'mutation_rate': 0.6})\n"
     ]
    },
    {
     "name": "stderr",
     "output_type": "stream",
     "text": [
      "IRACE | Run:  66%|██████▌   | 33/50 [34:40:36<16:49:25, 3562.69s/it]"
     ]
    },
    {
     "name": "stdout",
     "output_type": "stream",
     "text": [
      "Est. true value:\t8.065507102499577\n",
      "\n",
      "Running optimization ...\n",
      "Config:\tOrderedDict({'pop_size': 208, 'generations': 500, 'elite_split': 0.09, 'tournament_split': 0.05, 'crossover_rate': 0.14, 'mutation_rate': 0.64})\n"
     ]
    },
    {
     "name": "stderr",
     "output_type": "stream",
     "text": [
      "IRACE | Run:  68%|██████▊   | 34/50 [35:40:03<15:50:19, 3563.74s/it]"
     ]
    },
    {
     "name": "stdout",
     "output_type": "stream",
     "text": [
      "Est. true value:\t8.09638228120826\n",
      "\n",
      "Running optimization ...\n",
      "Config:\tOrderedDict({'pop_size': 210, 'generations': 500, 'elite_split': 0.1, 'tournament_split': 0.08, 'crossover_rate': 0.09, 'mutation_rate': 0.88})\n"
     ]
    },
    {
     "name": "stderr",
     "output_type": "stream",
     "text": [
      "IRACE | Run:  70%|███████   | 35/50 [36:39:37<14:51:44, 3566.96s/it]"
     ]
    },
    {
     "name": "stdout",
     "output_type": "stream",
     "text": [
      "Est. true value:\t8.001625860901022\n",
      "\n",
      "Running optimization ...\n",
      "Config:\tOrderedDict({'pop_size': 245, 'generations': 500, 'elite_split': 0.08, 'tournament_split': 0.09, 'crossover_rate': 0.06, 'mutation_rate': 0.97})\n"
     ]
    },
    {
     "name": "stderr",
     "output_type": "stream",
     "text": [
      "IRACE | Run:  72%|███████▏  | 36/50 [37:50:40<14:41:01, 3775.81s/it]"
     ]
    },
    {
     "name": "stdout",
     "output_type": "stream",
     "text": [
      "Est. true value:\t7.934491349269076\n",
      "\n",
      "Running optimization ...\n",
      "Config:\tOrderedDict({'pop_size': 175, 'generations': 500, 'elite_split': 0.07, 'tournament_split': 0.05, 'crossover_rate': 0.01, 'mutation_rate': 0.62})\n"
     ]
    },
    {
     "name": "stderr",
     "output_type": "stream",
     "text": [
      "IRACE | Run:  74%|███████▍  | 37/50 [38:41:57<12:52:40, 3566.21s/it]"
     ]
    },
    {
     "name": "stdout",
     "output_type": "stream",
     "text": [
      "Est. true value:\t8.15145161155712\n",
      "\n",
      "Running optimization ...\n",
      "Config:\tOrderedDict({'pop_size': 249, 'generations': 500, 'elite_split': 0.0, 'tournament_split': 0.1, 'crossover_rate': 0.11, 'mutation_rate': 0.77})\n"
     ]
    },
    {
     "name": "stderr",
     "output_type": "stream",
     "text": [
      "IRACE | Run:  76%|███████▌  | 38/50 [39:51:07<12:28:14, 3741.20s/it]"
     ]
    },
    {
     "name": "stdout",
     "output_type": "stream",
     "text": [
      "Est. true value:\t8.004513850519047\n",
      "\n",
      "Running optimization ...\n",
      "Config:\tOrderedDict({'pop_size': 239, 'generations': 500, 'elite_split': 0.18, 'tournament_split': 0.06, 'crossover_rate': 0.02, 'mutation_rate': 0.72})\n"
     ]
    },
    {
     "name": "stderr",
     "output_type": "stream",
     "text": [
      "IRACE | Run:  78%|███████▊  | 39/50 [40:53:29<11:25:56, 3741.51s/it]"
     ]
    },
    {
     "name": "stdout",
     "output_type": "stream",
     "text": [
      "Est. true value:\t8.037915890540077\n",
      "\n",
      "Running optimization ...\n",
      "Config:\tOrderedDict({'pop_size': 241, 'generations': 500, 'elite_split': 0.05, 'tournament_split': 0.07, 'crossover_rate': 0.0, 'mutation_rate': 0.9500000000000001})\n"
     ]
    },
    {
     "name": "stderr",
     "output_type": "stream",
     "text": [
      "IRACE | Run:  80%|████████  | 40/50 [42:07:24<10:58:13, 3949.40s/it]"
     ]
    },
    {
     "name": "stdout",
     "output_type": "stream",
     "text": [
      "Est. true value:\t7.943902812649728\n",
      "\n",
      "Running optimization ...\n",
      "Config:\tOrderedDict({'pop_size': 191, 'generations': 400, 'elite_split': 0.01, 'tournament_split': 0.08, 'crossover_rate': 0.05, 'mutation_rate': 0.92})\n"
     ]
    },
    {
     "name": "stderr",
     "output_type": "stream",
     "text": [
      "IRACE | Run:  82%|████████▏ | 41/50 [42:58:01<9:11:23, 3675.92s/it] "
     ]
    },
    {
     "name": "stdout",
     "output_type": "stream",
     "text": [
      "Est. true value:\t8.290301870697556\n",
      "\n",
      "Running optimization ...\n",
      "Config:\tOrderedDict({'pop_size': 177, 'generations': 500, 'elite_split': 0.03, 'tournament_split': 0.07, 'crossover_rate': 0.13, 'mutation_rate': 0.66})\n"
     ]
    },
    {
     "name": "stderr",
     "output_type": "stream",
     "text": [
      "IRACE | Run:  84%|████████▍ | 42/50 [43:51:36<7:51:39, 3537.49s/it]"
     ]
    },
    {
     "name": "stdout",
     "output_type": "stream",
     "text": [
      "Est. true value:\t8.101417961374867\n",
      "\n",
      "Running optimization ...\n",
      "Config:\tOrderedDict({'pop_size': 250, 'generations': 500, 'elite_split': 0.15, 'tournament_split': 0.06, 'crossover_rate': 0.07, 'mutation_rate': 0.53})\n"
     ]
    },
    {
     "name": "stderr",
     "output_type": "stream",
     "text": [
      "IRACE | Run:  86%|████████▌ | 43/50 [44:54:04<7:00:05, 3600.78s/it]"
     ]
    },
    {
     "name": "stdout",
     "output_type": "stream",
     "text": [
      "Est. true value:\t8.078247392384155\n",
      "\n",
      "Running optimization ...\n",
      "Config:\tOrderedDict({'pop_size': 248, 'generations': 500, 'elite_split': 0.1, 'tournament_split': 0.07, 'crossover_rate': 0.1, 'mutation_rate': 0.75})\n"
     ]
    },
    {
     "name": "stderr",
     "output_type": "stream",
     "text": [
      "IRACE | Run:  88%|████████▊ | 44/50 [46:03:34<6:17:09, 3771.57s/it]"
     ]
    },
    {
     "name": "stdout",
     "output_type": "stream",
     "text": [
      "Est. true value:\t7.998663814233399\n",
      "\n",
      "Running optimization ...\n",
      "Config:\tOrderedDict({'pop_size': 246, 'generations': 500, 'elite_split': 0.1, 'tournament_split': 0.09, 'crossover_rate': 0.14, 'mutation_rate': 0.99})\n"
     ]
    },
    {
     "name": "stderr",
     "output_type": "stream",
     "text": [
      "IRACE | Run:  90%|█████████ | 45/50 [47:11:41<5:22:10, 3866.04s/it]"
     ]
    },
    {
     "name": "stdout",
     "output_type": "stream",
     "text": [
      "Est. true value:\t7.948886355389779\n",
      "\n",
      "Running optimization ...\n",
      "Config:\tOrderedDict({'pop_size': 250, 'generations': 500, 'elite_split': 0.06, 'tournament_split': 0.09, 'crossover_rate': 0.26, 'mutation_rate': 0.88})\n"
     ]
    },
    {
     "name": "stderr",
     "output_type": "stream",
     "text": [
      "IRACE | Run:  92%|█████████▏| 46/50 [48:29:34<4:33:52, 4108.18s/it]"
     ]
    },
    {
     "name": "stdout",
     "output_type": "stream",
     "text": [
      "Est. true value:\t7.979586614273034\n",
      "\n",
      "Running optimization ...\n",
      "Config:\tOrderedDict({'pop_size': 249, 'generations': 500, 'elite_split': 0.01, 'tournament_split': 0.05, 'crossover_rate': 0.21, 'mutation_rate': 0.64})\n"
     ]
    },
    {
     "name": "stderr",
     "output_type": "stream",
     "text": [
      "IRACE | Run:  94%|█████████▍| 47/50 [49:44:46<3:31:27, 4229.30s/it]"
     ]
    },
    {
     "name": "stdout",
     "output_type": "stream",
     "text": [
      "Est. true value:\t8.044047815744674\n",
      "\n",
      "Running optimization ...\n",
      "Config:\tOrderedDict({'pop_size': 218, 'generations': 500, 'elite_split': 0.01, 'tournament_split': 0.09, 'crossover_rate': 0.02, 'mutation_rate': 0.56})\n"
     ]
    },
    {
     "name": "stderr",
     "output_type": "stream",
     "text": [
      "IRACE | Run:  96%|█████████▌| 48/50 [50:49:14<2:17:21, 4120.88s/it]"
     ]
    },
    {
     "name": "stdout",
     "output_type": "stream",
     "text": [
      "Est. true value:\t8.023503910994682\n",
      "\n",
      "Running optimization ...\n",
      "Config:\tOrderedDict({'pop_size': 234, 'generations': 500, 'elite_split': 0.16, 'tournament_split': 0.07, 'crossover_rate': 0.09, 'mutation_rate': 0.79})\n"
     ]
    },
    {
     "name": "stderr",
     "output_type": "stream",
     "text": [
      "IRACE | Run:  98%|█████████▊| 49/50 [51:53:55<1:07:28, 4048.94s/it]"
     ]
    },
    {
     "name": "stdout",
     "output_type": "stream",
     "text": [
      "Est. true value:\t8.000981283021197\n",
      "\n",
      "Running optimization ...\n",
      "Config:\tOrderedDict({'pop_size': 228, 'generations': 500, 'elite_split': 0.1, 'tournament_split': 0.09, 'crossover_rate': 0.01, 'mutation_rate': 0.66})\n"
     ]
    },
    {
     "name": "stderr",
     "output_type": "stream",
     "text": [
      "IRACE | Run: 100%|██████████| 50/50 [53:01:51<00:00, 3818.23s/it]  "
     ]
    },
    {
     "name": "stdout",
     "output_type": "stream",
     "text": [
      "Est. true value:\t8.010732107198164\n"
     ]
    },
    {
     "name": "stderr",
     "output_type": "stream",
     "text": [
      "\n"
     ]
    }
   ],
   "source": [
    "def ga_runner(experiment: Experiment, scenario: Scenario):\n",
    "    \"\"\"Seeded, single-objective function to simulate the GA with irace.\"\"\"\n",
    "    best_cost, _ = genetic_algorithm(\n",
    "        seed=experiment.seed, **experiment.configuration\n",
    "    )\n",
    "    return float(best_cost)\n",
    "\n",
    "param_space = ParameterSpace(\n",
    "    [\n",
    "        Ordinal(\"pop_size\", POP_SIZE_RANGE),\n",
    "        Ordinal(\"generations\", GENERATIONS_RANGE),\n",
    "        Ordinal(\"elite_split\", ELITE_SPLIT_RANGE),\n",
    "        Ordinal(\"tournament_split\", TOURNAMENT_SPLIT_RANGE),\n",
    "        Ordinal(\"crossover_rate\", CROSSOVER_RATE_RANGE),\n",
    "        Ordinal(\"mutation_rate\", MUTATION_RATE_RANGE),\n",
    "    ]\n",
    ")\n",
    "\n",
    "print(\"\\nRunning optimization ...\")\n",
    "results_irace = []\n",
    "\n",
    "for run_id in tqdm(range(N_RUNS), desc=\"IRACE | Run\"):\n",
    "    print(\"\\nRunning optimization ...\")\n",
    "    seed = SEED + run_id\n",
    "    scenario = Scenario(\n",
    "        max_experiments=SIM_BUDGET,\n",
    "        verbose=0,\n",
    "    )\n",
    "    best_params = irace(ga_runner, param_space, scenario)[0]\n",
    "    print(f\"Config:\\t{best_params}\")\n",
    "\n",
    "    mean_evaluation, evaluations = estimate_true_value(seed, best_params)\n",
    "    print(f\"Est. true value:\\t{mean_evaluation}\")\n",
    "\n",
    "    results_irace.append({\n",
    "        \"mean_evaluation\": mean_evaluation,\n",
    "        \"evaluations\": evaluations,\n",
    "        \"best_params\": best_params,\n",
    "        \"seed\": seed,\n",
    "    })\n",
    "\n",
    "    with open(Path(\"_data/04_results_irace.json\"), 'w') as f:\n",
    "        json.dump(results_irace, f)"
   ]
  },
  {
   "cell_type": "markdown",
   "id": "ad3ca236",
   "metadata": {},
   "source": [
    "### 2.4 Hyperband / TPE"
   ]
  },
  {
   "cell_type": "code",
   "execution_count": 38,
   "id": "19ac2ee0",
   "metadata": {},
   "outputs": [
    {
     "name": "stdout",
     "output_type": "stream",
     "text": [
      "\n",
      "Running optimization ...\n"
     ]
    },
    {
     "name": "stderr",
     "output_type": "stream",
     "text": [
      "Hyperband | Run:   0%|          | 0/1 [00:00<?, ?it/s][I 2025-07-31 20:54:40,549] A new study created in memory with name: no-name-fd2670d9-17fd-4358-9b57-60b0025dd743\n",
      "[I 2025-07-31 20:54:40,900] Trial 0 finished with value: 21.39154303232392 and parameters: {'pop_size': 119, 'generations': 300, 'elite_split': 0.2, 'tournament_split': 0.01, 'mutation_rate': 0.23, 'crossover_rate': 0.51}. Best is trial 0 with value: 21.39154303232392.\n",
      "[I 2025-07-31 20:54:41,685] Trial 1 finished with value: 9.941793405011369 and parameters: {'pop_size': 141, 'generations': 500, 'elite_split': 0.15, 'tournament_split': 0.08, 'mutation_rate': 0.27, 'crossover_rate': 0.68}. Best is trial 1 with value: 9.941793405011369.\n",
      "[I 2025-07-31 20:54:43,915] Trial 2 finished with value: 8.740069109120775 and parameters: {'pop_size': 224, 'generations': 400, 'elite_split': 0.18, 'tournament_split': 0.1, 'mutation_rate': 0.91, 'crossover_rate': 0.58}. Best is trial 2 with value: 8.740069109120775.\n",
      "[I 2025-07-31 20:54:44,645] Trial 3 pruned. \n",
      "[I 2025-07-31 20:54:46,600] Trial 4 pruned. \n",
      "[I 2025-07-31 20:54:47,818] Trial 5 pruned. \n",
      "[I 2025-07-31 20:54:49,761] Trial 6 pruned. \n",
      "[I 2025-07-31 20:54:50,284] Trial 7 pruned. \n",
      "[I 2025-07-31 20:54:51,605] Trial 8 pruned. \n",
      "[I 2025-07-31 20:54:52,740] Trial 9 pruned. \n",
      "[I 2025-07-31 20:54:54,210] Trial 10 pruned. \n",
      "[I 2025-07-31 20:54:54,759] Trial 11 pruned. \n",
      "[I 2025-07-31 20:54:55,512] Trial 12 finished with value: 9.633235933582206 and parameters: {'pop_size': 84, 'generations': 500, 'elite_split': 0.06, 'tournament_split': 0.08, 'mutation_rate': 0.52, 'crossover_rate': 0.01}. Best is trial 2 with value: 8.740069109120775.\n",
      "[I 2025-07-31 20:54:59,709] Trial 13 finished with value: 8.012212897519603 and parameters: {'pop_size': 224, 'generations': 500, 'elite_split': 0.06, 'tournament_split': 0.1, 'mutation_rate': 0.91, 'crossover_rate': 0.27}. Best is trial 13 with value: 8.012212897519603.\n",
      "[I 2025-07-31 20:55:00,267] Trial 14 pruned. \n",
      "[I 2025-07-31 20:55:05,000] Trial 15 finished with value: 9.567587138692646 and parameters: {'pop_size': 250, 'generations': 500, 'elite_split': 0.08, 'tournament_split': 0.02, 'mutation_rate': 0.5700000000000001, 'crossover_rate': 0.42}. Best is trial 13 with value: 8.012212897519603.\n",
      "[I 2025-07-31 20:55:05,420] Trial 16 pruned. \n",
      "[I 2025-07-31 20:55:08,939] Trial 17 finished with value: 8.55239577864092 and parameters: {'pop_size': 223, 'generations': 400, 'elite_split': 0.01, 'tournament_split': 0.07, 'mutation_rate': 0.91, 'crossover_rate': 0.26}. Best is trial 13 with value: 8.012212897519603.\n",
      "[I 2025-07-31 20:55:12,644] Trial 18 pruned. \n",
      "[I 2025-07-31 20:55:12,902] Trial 19 pruned. \n",
      "[I 2025-07-31 20:55:14,552] Trial 20 pruned. \n",
      "[I 2025-07-31 20:55:18,046] Trial 21 pruned. \n",
      "[I 2025-07-31 20:55:21,192] Trial 22 pruned. \n",
      "[I 2025-07-31 20:55:21,938] Trial 23 pruned. \n",
      "[I 2025-07-31 20:55:24,849] Trial 24 finished with value: 8.096140279610086 and parameters: {'pop_size': 217, 'generations': 400, 'elite_split': 0.13, 'tournament_split': 0.1, 'mutation_rate': 0.61, 'crossover_rate': 0.15}. Best is trial 13 with value: 8.012212897519603.\n",
      "[I 2025-07-31 20:55:28,187] Trial 25 pruned. \n",
      "[I 2025-07-31 20:55:30,570] Trial 26 pruned. \n",
      "[I 2025-07-31 20:55:33,938] Trial 27 finished with value: 7.664971904315629 and parameters: {'pop_size': 241, 'generations': 400, 'elite_split': 0.03, 'tournament_split': 0.05, 'mutation_rate': 0.61, 'crossover_rate': 0.15}. Best is trial 27 with value: 7.664971904315629.\n",
      "[I 2025-07-31 20:55:38,662] Trial 28 finished with value: 9.290521011368382 and parameters: {'pop_size': 241, 'generations': 500, 'elite_split': 0.03, 'tournament_split': 0.05, 'mutation_rate': 0.25, 'crossover_rate': 0.53}. Best is trial 27 with value: 7.664971904315629.\n",
      "[I 2025-07-31 20:55:40,392] Trial 29 pruned. \n",
      "[I 2025-07-31 20:55:41,471] Trial 30 pruned. \n",
      "[I 2025-07-31 20:55:42,583] Trial 31 finished with value: 8.657701906189125 and parameters: {'pop_size': 113, 'generations': 400, 'elite_split': 0.04, 'tournament_split': 0.09, 'mutation_rate': 0.85, 'crossover_rate': 0.15}. Best is trial 27 with value: 7.664971904315629.\n",
      "[I 2025-07-31 20:55:43,126] Trial 32 pruned. \n",
      "[I 2025-07-31 20:55:44,769] Trial 33 pruned. \n",
      "[I 2025-07-31 20:55:46,315] Trial 34 pruned. \n",
      "[I 2025-07-31 20:55:47,149] Trial 35 pruned. \n",
      "[I 2025-07-31 20:55:47,408] Trial 36 pruned. \n",
      "[I 2025-07-31 20:55:48,239] Trial 37 pruned. \n",
      "[I 2025-07-31 20:55:48,747] Trial 38 pruned. \n",
      "[I 2025-07-31 20:55:49,871] Trial 39 pruned. \n",
      "[I 2025-07-31 20:55:51,989] Trial 40 pruned. \n",
      "[I 2025-07-31 20:55:52,738] Trial 41 pruned. \n",
      "[I 2025-07-31 20:55:55,433] Trial 42 finished with value: 8.10236684643229 and parameters: {'pop_size': 189, 'generations': 400, 'elite_split': 0.04, 'tournament_split': 0.09, 'mutation_rate': 0.85, 'crossover_rate': 0.15}. Best is trial 27 with value: 7.664971904315629.\n",
      "[I 2025-07-31 20:55:58,839] Trial 43 finished with value: 7.757057061505493 and parameters: {'pop_size': 248, 'generations': 400, 'elite_split': 0.04, 'tournament_split': 0.09, 'mutation_rate': 0.8200000000000001, 'crossover_rate': 0.15}. Best is trial 27 with value: 7.664971904315629.\n",
      "[I 2025-07-31 20:56:01,121] Trial 44 finished with value: 8.444807432356033 and parameters: {'pop_size': 173, 'generations': 400, 'elite_split': 0.04, 'tournament_split': 0.09, 'mutation_rate': 0.77, 'crossover_rate': 0.45}. Best is trial 27 with value: 7.664971904315629.\n",
      "[I 2025-07-31 20:56:02,701] Trial 45 pruned. \n",
      "[I 2025-07-31 20:56:04,833] Trial 46 finished with value: 8.458738768343741 and parameters: {'pop_size': 248, 'generations': 300, 'elite_split': 0.15, 'tournament_split': 0.09, 'mutation_rate': 0.56, 'crossover_rate': 0.17}. Best is trial 27 with value: 7.664971904315629.\n",
      "[I 2025-07-31 20:56:05,133] Trial 47 pruned. \n",
      "[I 2025-07-31 20:56:07,367] Trial 48 finished with value: 9.248300466828214 and parameters: {'pop_size': 186, 'generations': 500, 'elite_split': 0.0, 'tournament_split': 0.04, 'mutation_rate': 0.26, 'crossover_rate': 0.15}. Best is trial 27 with value: 7.664971904315629.\n",
      "[I 2025-07-31 20:56:08,335] Trial 49 pruned. \n",
      "[I 2025-07-31 20:56:10,398] Trial 50 pruned. \n",
      "[I 2025-07-31 20:56:11,968] Trial 51 pruned. \n",
      "[I 2025-07-31 20:56:13,336] Trial 52 finished with value: 9.896166969098175 and parameters: {'pop_size': 122, 'generations': 400, 'elite_split': 0.04, 'tournament_split': 0.09, 'mutation_rate': 0.77, 'crossover_rate': 0.45}. Best is trial 27 with value: 7.664971904315629.\n",
      "[I 2025-07-31 20:56:16,437] Trial 53 finished with value: 8.641653712813467 and parameters: {'pop_size': 246, 'generations': 400, 'elite_split': 0.06, 'tournament_split': 0.09, 'mutation_rate': 0.51, 'crossover_rate': 0.27}. Best is trial 27 with value: 7.664971904315629.\n",
      "[I 2025-07-31 20:56:17,148] Trial 54 pruned. \n",
      "[I 2025-07-31 20:56:18,445] Trial 55 finished with value: 9.233119488035276 and parameters: {'pop_size': 121, 'generations': 500, 'elite_split': 0.18, 'tournament_split': 0.09, 'mutation_rate': 0.81, 'crossover_rate': 0.4}. Best is trial 27 with value: 7.664971904315629.\n",
      "[I 2025-07-31 20:56:19,276] Trial 56 pruned. \n",
      "[I 2025-07-31 20:56:20,616] Trial 57 pruned. \n",
      "[I 2025-07-31 20:56:21,208] Trial 58 pruned. \n",
      "[I 2025-07-31 20:56:21,364] Trial 59 pruned. \n",
      "[I 2025-07-31 20:56:22,551] Trial 60 finished with value: 8.928547775393904 and parameters: {'pop_size': 129, 'generations': 500, 'elite_split': 0.1, 'tournament_split': 0.05, 'mutation_rate': 0.41000000000000003, 'crossover_rate': 0.14}. Best is trial 27 with value: 7.664971904315629.\n",
      "[I 2025-07-31 20:56:25,334] Trial 61 pruned. \n",
      "[I 2025-07-31 20:56:26,342] Trial 62 finished with value: 9.500160784084574 and parameters: {'pop_size': 154, 'generations': 300, 'elite_split': 0.15, 'tournament_split': 0.09, 'mutation_rate': 0.56, 'crossover_rate': 0.17}. Best is trial 27 with value: 7.664971904315629.\n",
      "[I 2025-07-31 20:56:29,096] Trial 63 finished with value: 9.137465611868047 and parameters: {'pop_size': 248, 'generations': 300, 'elite_split': 0.11, 'tournament_split': 0.09, 'mutation_rate': 0.78, 'crossover_rate': 0.49}. Best is trial 27 with value: 7.664971904315629.\n",
      "[I 2025-07-31 20:56:30,406] Trial 64 pruned. \n",
      "[I 2025-07-31 20:56:33,117] Trial 65 pruned. \n",
      "[I 2025-07-31 20:56:34,994] Trial 66 finished with value: 9.199591471698339 and parameters: {'pop_size': 163, 'generations': 400, 'elite_split': 0.2, 'tournament_split': 0.08, 'mutation_rate': 0.36, 'crossover_rate': 0.18}. Best is trial 27 with value: 7.664971904315629.\n",
      "[I 2025-07-31 20:56:36,395] Trial 67 pruned. \n",
      "[I 2025-07-31 20:56:39,781] Trial 68 finished with value: 8.88619579132697 and parameters: {'pop_size': 166, 'generations': 500, 'elite_split': 0.03, 'tournament_split': 0.1, 'mutation_rate': 0.61, 'crossover_rate': 0.43}. Best is trial 27 with value: 7.664971904315629.\n",
      "[I 2025-07-31 20:56:41,640] Trial 69 pruned. \n",
      "[I 2025-07-31 20:56:44,658] Trial 70 finished with value: 9.338768727725855 and parameters: {'pop_size': 215, 'generations': 300, 'elite_split': 0.02, 'tournament_split': 0.05, 'mutation_rate': 0.65, 'crossover_rate': 0.41000000000000003}. Best is trial 27 with value: 7.664971904315629.\n",
      "[I 2025-07-31 20:56:49,026] Trial 71 finished with value: 8.879469311316948 and parameters: {'pop_size': 217, 'generations': 400, 'elite_split': 0.01, 'tournament_split': 0.07, 'mutation_rate': 0.91, 'crossover_rate': 0.38}. Best is trial 27 with value: 7.664971904315629.\n",
      "[I 2025-07-31 20:56:50,590] Trial 72 pruned. \n",
      "[I 2025-07-31 20:56:54,454] Trial 73 finished with value: 8.206562890745255 and parameters: {'pop_size': 241, 'generations': 400, 'elite_split': 0.01, 'tournament_split': 0.07, 'mutation_rate': 0.39, 'crossover_rate': 0.29}. Best is trial 27 with value: 7.664971904315629.\n",
      "[I 2025-07-31 20:56:55,388] Trial 74 pruned. \n",
      "[I 2025-07-31 20:56:59,752] Trial 75 pruned. \n",
      "[I 2025-07-31 20:57:01,956] Trial 76 pruned. \n",
      "[I 2025-07-31 20:57:03,675] Trial 77 pruned. \n",
      "[I 2025-07-31 20:57:04,124] Trial 78 pruned. \n",
      "[I 2025-07-31 20:57:08,589] Trial 79 pruned. \n",
      "[I 2025-07-31 20:57:09,384] Trial 80 pruned. \n",
      "[I 2025-07-31 20:57:10,527] Trial 81 pruned. \n",
      "[I 2025-07-31 20:57:11,119] Trial 82 pruned. \n",
      "[I 2025-07-31 20:57:11,987] Trial 83 pruned. \n",
      "[I 2025-07-31 20:57:12,306] Trial 84 pruned. \n",
      "[I 2025-07-31 20:57:13,409] Trial 85 pruned. \n",
      "[I 2025-07-31 20:57:16,104] Trial 86 pruned. \n",
      "[I 2025-07-31 20:57:16,781] Trial 87 pruned. \n",
      "[I 2025-07-31 20:57:19,513] Trial 88 finished with value: 9.228074648336875 and parameters: {'pop_size': 210, 'generations': 500, 'elite_split': 0.18, 'tournament_split': 0.07, 'mutation_rate': 0.28, 'crossover_rate': 0.22}. Best is trial 27 with value: 7.664971904315629.\n",
      "[I 2025-07-31 20:57:20,911] Trial 89 pruned. \n",
      "[I 2025-07-31 20:57:21,443] Trial 90 pruned. \n",
      "[I 2025-07-31 20:57:22,558] Trial 91 finished with value: 9.2750986223247 and parameters: {'pop_size': 110, 'generations': 400, 'elite_split': 0.06, 'tournament_split': 0.09, 'mutation_rate': 0.89, 'crossover_rate': 0.27}. Best is trial 27 with value: 7.664971904315629.\n",
      "[I 2025-07-31 20:57:24,016] Trial 92 finished with value: 8.966839210516142 and parameters: {'pop_size': 144, 'generations': 400, 'elite_split': 0.06, 'tournament_split': 0.09, 'mutation_rate': 0.51, 'crossover_rate': 0.27}. Best is trial 27 with value: 7.664971904315629.\n",
      "[I 2025-07-31 20:57:24,479] Trial 93 pruned. \n",
      "[I 2025-07-31 20:57:26,786] Trial 94 finished with value: 8.527803384781015 and parameters: {'pop_size': 178, 'generations': 400, 'elite_split': 0.06, 'tournament_split': 0.1, 'mutation_rate': 0.73, 'crossover_rate': 0.48}. Best is trial 27 with value: 7.664971904315629.\n",
      "[I 2025-07-31 20:57:28,033] Trial 95 pruned. \n",
      "[I 2025-07-31 20:57:30,653] Trial 96 finished with value: 9.667312724822805 and parameters: {'pop_size': 205, 'generations': 400, 'elite_split': 0.04, 'tournament_split': 0.1, 'mutation_rate': 0.37, 'crossover_rate': 0.48}. Best is trial 27 with value: 7.664971904315629.\n",
      "[I 2025-07-31 20:57:31,328] Trial 97 pruned. \n",
      "[I 2025-07-31 20:57:33,688] Trial 98 pruned. \n",
      "[I 2025-07-31 20:57:37,545] Trial 99 finished with value: 8.022562839986909 and parameters: {'pop_size': 249, 'generations': 500, 'elite_split': 0.1, 'tournament_split': 0.1, 'mutation_rate': 0.43, 'crossover_rate': 0.39}. Best is trial 27 with value: 7.664971904315629.\n",
      "[I 2025-07-31 20:57:41,041] Trial 100 finished with value: 8.373454070776114 and parameters: {'pop_size': 228, 'generations': 500, 'elite_split': 0.1, 'tournament_split': 0.1, 'mutation_rate': 0.86, 'crossover_rate': 0.39}. Best is trial 27 with value: 7.664971904315629.\n",
      "[I 2025-07-31 20:57:44,843] Trial 101 finished with value: 8.593736615524907 and parameters: {'pop_size': 249, 'generations': 500, 'elite_split': 0.1, 'tournament_split': 0.1, 'mutation_rate': 0.8200000000000001, 'crossover_rate': 0.39}. Best is trial 27 with value: 7.664971904315629.\n",
      "[I 2025-07-31 20:57:47,101] Trial 102 finished with value: 8.874169246859278 and parameters: {'pop_size': 189, 'generations': 500, 'elite_split': 0.13, 'tournament_split': 0.1, 'mutation_rate': 0.43, 'crossover_rate': 0.39}. Best is trial 27 with value: 7.664971904315629.\n",
      "[I 2025-07-31 20:57:49,935] Trial 103 pruned. \n",
      "[I 2025-07-31 20:57:53,002] Trial 104 finished with value: 8.061547532074606 and parameters: {'pop_size': 228, 'generations': 500, 'elite_split': 0.1, 'tournament_split': 0.1, 'mutation_rate': 0.99, 'crossover_rate': 0.21}. Best is trial 27 with value: 7.664971904315629.\n",
      "[I 2025-07-31 20:57:56,042] Trial 105 finished with value: 7.9866904809084955 and parameters: {'pop_size': 228, 'generations': 500, 'elite_split': 0.1, 'tournament_split': 0.1, 'mutation_rate': 0.93, 'crossover_rate': 0.21}. Best is trial 27 with value: 7.664971904315629.\n",
      "[I 2025-07-31 20:57:58,997] Trial 106 finished with value: 9.128225815455139 and parameters: {'pop_size': 190, 'generations': 500, 'elite_split': 0.1, 'tournament_split': 0.1, 'mutation_rate': 0.93, 'crossover_rate': 0.72}. Best is trial 27 with value: 7.664971904315629.\n",
      "[I 2025-07-31 20:58:01,256] Trial 107 finished with value: 8.019311391223356 and parameters: {'pop_size': 184, 'generations': 500, 'elite_split': 0.1, 'tournament_split': 0.1, 'mutation_rate': 0.99, 'crossover_rate': 0.21}. Best is trial 27 with value: 7.664971904315629.\n",
      "[I 2025-07-31 20:58:04,356] Trial 108 finished with value: 8.432573604900957 and parameters: {'pop_size': 228, 'generations': 500, 'elite_split': 0.1, 'tournament_split': 0.1, 'mutation_rate': 0.86, 'crossover_rate': 0.21}. Best is trial 27 with value: 7.664971904315629.\n",
      "[I 2025-07-31 20:58:07,918] Trial 109 pruned. \n",
      "[I 2025-07-31 20:58:09,690] Trial 110 pruned. \n",
      "[I 2025-07-31 20:58:13,090] Trial 111 finished with value: 8.310143237260169 and parameters: {'pop_size': 228, 'generations': 500, 'elite_split': 0.1, 'tournament_split': 0.1, 'mutation_rate': 0.86, 'crossover_rate': 0.21}. Best is trial 27 with value: 7.664971904315629.\n",
      "[I 2025-07-31 20:58:14,879] Trial 112 finished with value: 8.056834711028193 and parameters: {'pop_size': 159, 'generations': 500, 'elite_split': 0.1, 'tournament_split': 0.1, 'mutation_rate': 0.86, 'crossover_rate': 0.06}. Best is trial 27 with value: 7.664971904315629.\n",
      "[I 2025-07-31 20:58:16,708] Trial 113 finished with value: 8.64408803675635 and parameters: {'pop_size': 159, 'generations': 500, 'elite_split': 0.1, 'tournament_split': 0.1, 'mutation_rate': 0.99, 'crossover_rate': 0.06}. Best is trial 27 with value: 7.664971904315629.\n",
      "[I 2025-07-31 20:58:19,138] Trial 114 finished with value: 7.991520998151442 and parameters: {'pop_size': 184, 'generations': 500, 'elite_split': 0.1, 'tournament_split': 0.1, 'mutation_rate': 0.99, 'crossover_rate': 0.21}. Best is trial 27 with value: 7.664971904315629.\n",
      "[I 2025-07-31 20:58:20,295] Trial 115 finished with value: 8.51874801315646 and parameters: {'pop_size': 106, 'generations': 500, 'elite_split': 0.1, 'tournament_split': 0.1, 'mutation_rate': 0.99, 'crossover_rate': 0.21}. Best is trial 27 with value: 7.664971904315629.\n",
      "[I 2025-07-31 20:58:22,690] Trial 116 finished with value: 9.274531318272173 and parameters: {'pop_size': 165, 'generations': 500, 'elite_split': 0.1, 'tournament_split': 0.05, 'mutation_rate': 0.9400000000000001, 'crossover_rate': 0.44}. Best is trial 27 with value: 7.664971904315629.\n",
      "[I 2025-07-31 20:58:27,834] Trial 117 finished with value: 9.249731089412068 and parameters: {'pop_size': 241, 'generations': 500, 'elite_split': 0.03, 'tournament_split': 0.1, 'mutation_rate': 0.75, 'crossover_rate': 0.8200000000000001}. Best is trial 27 with value: 7.664971904315629.\n",
      "[I 2025-07-31 20:58:29,597] Trial 118 pruned. \n",
      "[I 2025-07-31 20:58:31,862] Trial 119 pruned. \n",
      "[I 2025-07-31 20:58:33,538] Trial 120 finished with value: 9.034774510953726 and parameters: {'pop_size': 132, 'generations': 500, 'elite_split': 0.02, 'tournament_split': 0.1, 'mutation_rate': 0.46, 'crossover_rate': 0.5}. Best is trial 27 with value: 7.664971904315629.\n",
      "[I 2025-07-31 20:58:36,870] Trial 121 finished with value: 8.41855278609069 and parameters: {'pop_size': 184, 'generations': 500, 'elite_split': 0.1, 'tournament_split': 0.1, 'mutation_rate': 0.63, 'crossover_rate': 0.21}. Best is trial 27 with value: 7.664971904315629.\n",
      "[I 2025-07-31 20:58:38,019] Trial 122 finished with value: 8.969868130489541 and parameters: {'pop_size': 88, 'generations': 500, 'elite_split': 0.1, 'tournament_split': 0.1, 'mutation_rate': 0.96, 'crossover_rate': 0.21}. Best is trial 27 with value: 7.664971904315629.\n",
      "[I 2025-07-31 20:58:39,237] Trial 123 pruned. \n",
      "[I 2025-07-31 20:58:40,211] Trial 124 pruned. \n",
      "[I 2025-07-31 20:58:40,958] Trial 125 pruned. \n",
      "[I 2025-07-31 20:58:45,137] Trial 126 pruned. \n",
      "[I 2025-07-31 20:58:49,850] Trial 127 finished with value: 9.076753154051678 and parameters: {'pop_size': 209, 'generations': 500, 'elite_split': 0.05, 'tournament_split': 0.05, 'mutation_rate': 0.99, 'crossover_rate': 0.46}. Best is trial 27 with value: 7.664971904315629.\n",
      "[I 2025-07-31 20:58:54,456] Trial 128 pruned. \n",
      "[I 2025-07-31 20:58:56,925] Trial 129 finished with value: 8.438227952505047 and parameters: {'pop_size': 152, 'generations': 500, 'elite_split': 0.03, 'tournament_split': 0.1, 'mutation_rate': 0.49, 'crossover_rate': 0.03}. Best is trial 27 with value: 7.664971904315629.\n",
      "[I 2025-07-31 20:58:58,009] Trial 130 pruned. \n",
      "[I 2025-07-31 20:59:01,850] Trial 131 pruned. \n",
      "[I 2025-07-31 20:59:07,329] Trial 132 finished with value: 8.081934304817425 and parameters: {'pop_size': 216, 'generations': 500, 'elite_split': 0.1, 'tournament_split': 0.1, 'mutation_rate': 0.86, 'crossover_rate': 0.54}. Best is trial 27 with value: 7.664971904315629.\n",
      "[I 2025-07-31 20:59:09,197] Trial 133 pruned. \n",
      "[I 2025-07-31 20:59:13,469] Trial 134 finished with value: 8.629822884121934 and parameters: {'pop_size': 180, 'generations': 500, 'elite_split': 0.09, 'tournament_split': 0.1, 'mutation_rate': 0.86, 'crossover_rate': 0.55}. Best is trial 27 with value: 7.664971904315629.\n",
      "[I 2025-07-31 20:59:16,468] Trial 135 finished with value: 9.261708277217249 and parameters: {'pop_size': 134, 'generations': 500, 'elite_split': 0.1, 'tournament_split': 0.1, 'mutation_rate': 0.58, 'crossover_rate': 0.68}. Best is trial 27 with value: 7.664971904315629.\n",
      "[I 2025-07-31 20:59:26,177] Trial 136 pruned. \n",
      "[I 2025-07-31 20:59:29,333] Trial 137 pruned. \n",
      "[I 2025-07-31 20:59:30,853] Trial 138 pruned. \n",
      "[I 2025-07-31 20:59:35,146] Trial 139 finished with value: 8.397044713779302 and parameters: {'pop_size': 181, 'generations': 500, 'elite_split': 0.18, 'tournament_split': 0.05, 'mutation_rate': 0.8, 'crossover_rate': 0.0}. Best is trial 27 with value: 7.664971904315629.\n",
      "[I 2025-07-31 20:59:39,758] Trial 140 pruned. \n",
      "[I 2025-07-31 20:59:41,870] Trial 141 finished with value: 8.640362621288633 and parameters: {'pop_size': 139, 'generations': 500, 'elite_split': 0.1, 'tournament_split': 0.1, 'mutation_rate': 0.86, 'crossover_rate': 0.25}. Best is trial 27 with value: 7.664971904315629.\n",
      "[I 2025-07-31 20:59:46,244] Trial 142 finished with value: 9.04082866481986 and parameters: {'pop_size': 245, 'generations': 500, 'elite_split': 0.1, 'tournament_split': 0.1, 'mutation_rate': 0.25, 'crossover_rate': 0.37}. Best is trial 27 with value: 7.664971904315629.\n",
      "[I 2025-07-31 20:59:48,239] Trial 143 pruned. \n",
      "[I 2025-07-31 20:59:52,695] Trial 144 finished with value: 8.214361333444517 and parameters: {'pop_size': 226, 'generations': 500, 'elite_split': 0.04, 'tournament_split': 0.1, 'mutation_rate': 0.86, 'crossover_rate': 0.29}. Best is trial 27 with value: 7.664971904315629.\n",
      "[I 2025-07-31 20:59:55,612] Trial 145 finished with value: 8.672188511013099 and parameters: {'pop_size': 183, 'generations': 500, 'elite_split': 0.04, 'tournament_split': 0.1, 'mutation_rate': 0.23, 'crossover_rate': 0.42}. Best is trial 27 with value: 7.664971904315629.\n",
      "[I 2025-07-31 20:59:58,913] Trial 146 pruned. \n",
      "[I 2025-07-31 21:00:01,450] Trial 147 finished with value: 8.23540511996047 and parameters: {'pop_size': 151, 'generations': 500, 'elite_split': 0.04, 'tournament_split': 0.1, 'mutation_rate': 0.52, 'crossover_rate': 0.29}. Best is trial 27 with value: 7.664971904315629.\n",
      "[I 2025-07-31 21:00:02,134] Trial 148 pruned. \n",
      "[I 2025-07-31 21:00:02,911] Trial 149 pruned. \n",
      "[I 2025-07-31 21:00:04,895] Trial 150 pruned. \n",
      "[I 2025-07-31 21:00:05,902] Trial 151 finished with value: 9.053972761814764 and parameters: {'pop_size': 82, 'generations': 500, 'elite_split': 0.07, 'tournament_split': 0.1, 'mutation_rate': 0.72, 'crossover_rate': 0.29}. Best is trial 27 with value: 7.664971904315629.\n",
      "[I 2025-07-31 21:00:06,657] Trial 152 pruned. \n",
      "[I 2025-07-31 21:00:09,308] Trial 153 finished with value: 7.796310905765731 and parameters: {'pop_size': 167, 'generations': 500, 'elite_split': 0.04, 'tournament_split': 0.1, 'mutation_rate': 0.79, 'crossover_rate': 0.04}. Best is trial 27 with value: 7.664971904315629.\n",
      "[I 2025-07-31 21:00:12,049] Trial 154 finished with value: 7.849899604942471 and parameters: {'pop_size': 167, 'generations': 500, 'elite_split': 0.04, 'tournament_split': 0.1, 'mutation_rate': 0.98, 'crossover_rate': 0.04}. Best is trial 27 with value: 7.664971904315629.\n",
      "[I 2025-07-31 21:00:13,284] Trial 155 pruned. \n",
      "[I 2025-07-31 21:00:14,645] Trial 156 pruned. \n",
      "[I 2025-07-31 21:00:16,711] Trial 157 pruned. \n",
      "[I 2025-07-31 21:00:18,665] Trial 158 pruned. \n",
      "[I 2025-07-31 21:00:18,812] Trial 159 pruned. \n",
      "[I 2025-07-31 21:00:19,831] Trial 160 pruned. \n",
      "[I 2025-07-31 21:00:22,224] Trial 161 pruned. \n",
      "[I 2025-07-31 21:00:22,706] Trial 162 pruned. \n",
      "[I 2025-07-31 21:00:25,882] Trial 163 pruned. \n",
      "[I 2025-07-31 21:00:27,618] Trial 164 pruned. \n",
      "[I 2025-07-31 21:00:30,635] Trial 165 pruned. \n",
      "[I 2025-07-31 21:00:32,585] Trial 166 pruned. \n",
      "[I 2025-07-31 21:00:33,831] Trial 167 pruned. \n",
      "[I 2025-07-31 21:00:35,834] Trial 168 finished with value: 8.169393223934014 and parameters: {'pop_size': 135, 'generations': 500, 'elite_split': 0.06, 'tournament_split': 0.1, 'mutation_rate': 0.5700000000000001, 'crossover_rate': 0.53}. Best is trial 27 with value: 7.664971904315629.\n",
      "[I 2025-07-31 21:00:39,476] Trial 169 finished with value: 8.412529276280338 and parameters: {'pop_size': 208, 'generations': 400, 'elite_split': 0.06, 'tournament_split': 0.08, 'mutation_rate': 0.62, 'crossover_rate': 0.53}. Best is trial 27 with value: 7.664971904315629.\n",
      "[I 2025-07-31 21:00:40,414] Trial 170 pruned. \n",
      "[I 2025-07-31 21:00:44,861] Trial 171 finished with value: 8.026627852220109 and parameters: {'pop_size': 226, 'generations': 500, 'elite_split': 0.06, 'tournament_split': 0.1, 'mutation_rate': 0.5700000000000001, 'crossover_rate': 0.09}. Best is trial 27 with value: 7.664971904315629.\n",
      "[I 2025-07-31 21:00:49,810] Trial 172 finished with value: 7.714396145927039 and parameters: {'pop_size': 226, 'generations': 500, 'elite_split': 0.06, 'tournament_split': 0.1, 'mutation_rate': 0.79, 'crossover_rate': 0.63}. Best is trial 27 with value: 7.664971904315629.\n",
      "[I 2025-07-31 21:00:51,566] Trial 173 pruned. \n",
      "[I 2025-07-31 21:00:53,071] Trial 174 finished with value: 8.117615562200308 and parameters: {'pop_size': 135, 'generations': 500, 'elite_split': 0.06, 'tournament_split': 0.1, 'mutation_rate': 0.5700000000000001, 'crossover_rate': 0.09}. Best is trial 27 with value: 7.664971904315629.\n",
      "[I 2025-07-31 21:00:56,935] Trial 175 finished with value: 7.557484287889403 and parameters: {'pop_size': 226, 'generations': 500, 'elite_split': 0.06, 'tournament_split': 0.1, 'mutation_rate': 0.5700000000000001, 'crossover_rate': 0.09}. Best is trial 175 with value: 7.557484287889403.\n",
      "[I 2025-07-31 21:00:57,766] Trial 176 pruned. \n",
      "[I 2025-07-31 21:01:00,000] Trial 177 finished with value: 7.910265493715684 and parameters: {'pop_size': 167, 'generations': 500, 'elite_split': 0.06, 'tournament_split': 0.1, 'mutation_rate': 0.91, 'crossover_rate': 0.09}. Best is trial 175 with value: 7.557484287889403.\n",
      "[I 2025-07-31 21:01:03,258] Trial 178 finished with value: 8.068341327921061 and parameters: {'pop_size': 218, 'generations': 500, 'elite_split': 0.06, 'tournament_split': 0.1, 'mutation_rate': 0.91, 'crossover_rate': 0.09}. Best is trial 175 with value: 7.557484287889403.\n",
      "[I 2025-07-31 21:01:06,646] Trial 179 finished with value: 7.782526545384602 and parameters: {'pop_size': 226, 'generations': 500, 'elite_split': 0.06, 'tournament_split': 0.1, 'mutation_rate': 0.91, 'crossover_rate': 0.12}. Best is trial 175 with value: 7.557484287889403.\n",
      "[I 2025-07-31 21:01:10,822] Trial 180 pruned. \n",
      "[I 2025-07-31 21:01:13,326] Trial 181 finished with value: 8.484067931704622 and parameters: {'pop_size': 201, 'generations': 500, 'elite_split': 0.06, 'tournament_split': 0.1, 'mutation_rate': 0.22, 'crossover_rate': 0.12}. Best is trial 175 with value: 7.557484287889403.\n",
      "[I 2025-07-31 21:01:16,708] Trial 182 finished with value: 7.990853113488431 and parameters: {'pop_size': 218, 'generations': 500, 'elite_split': 0.06, 'tournament_split': 0.1, 'mutation_rate': 0.91, 'crossover_rate': 0.09}. Best is trial 175 with value: 7.557484287889403.\n",
      "[I 2025-07-31 21:01:20,540] Trial 183 finished with value: 7.466548424109396 and parameters: {'pop_size': 231, 'generations': 500, 'elite_split': 0.06, 'tournament_split': 0.1, 'mutation_rate': 0.91, 'crossover_rate': 0.09}. Best is trial 183 with value: 7.466548424109396.\n",
      "[I 2025-07-31 21:01:24,978] Trial 184 finished with value: 7.945967684858217 and parameters: {'pop_size': 218, 'generations': 500, 'elite_split': 0.06, 'tournament_split': 0.1, 'mutation_rate': 0.91, 'crossover_rate': 0.09}. Best is trial 183 with value: 7.466548424109396.\n",
      "[I 2025-07-31 21:01:25,529] Trial 185 pruned. \n",
      "[I 2025-07-31 21:01:28,338] Trial 186 finished with value: 7.768002527677214 and parameters: {'pop_size': 167, 'generations': 500, 'elite_split': 0.06, 'tournament_split': 0.1, 'mutation_rate': 0.91, 'crossover_rate': 0.09}. Best is trial 183 with value: 7.466548424109396.\n",
      "[I 2025-07-31 21:01:30,826] Trial 187 finished with value: 8.230131190596888 and parameters: {'pop_size': 167, 'generations': 500, 'elite_split': 0.06, 'tournament_split': 0.1, 'mutation_rate': 0.98, 'crossover_rate': 0.09}. Best is trial 183 with value: 7.466548424109396.\n",
      "[I 2025-07-31 21:01:35,126] Trial 188 finished with value: 7.919634424167982 and parameters: {'pop_size': 231, 'generations': 500, 'elite_split': 0.06, 'tournament_split': 0.1, 'mutation_rate': 0.91, 'crossover_rate': 0.09}. Best is trial 183 with value: 7.466548424109396.\n",
      "[I 2025-07-31 21:01:37,583] Trial 189 pruned. \n",
      "[I 2025-07-31 21:01:41,776] Trial 190 finished with value: 7.902686237893994 and parameters: {'pop_size': 227, 'generations': 500, 'elite_split': 0.06, 'tournament_split': 0.1, 'mutation_rate': 0.91, 'crossover_rate': 0.09}. Best is trial 183 with value: 7.466548424109396.\n",
      "[I 2025-07-31 21:01:44,258] Trial 191 finished with value: 7.850579606613591 and parameters: {'pop_size': 167, 'generations': 500, 'elite_split': 0.06, 'tournament_split': 0.1, 'mutation_rate': 0.91, 'crossover_rate': 0.09}. Best is trial 183 with value: 7.466548424109396.\n",
      "[I 2025-07-31 21:01:45,147] Trial 192 pruned. \n",
      "[I 2025-07-31 21:01:47,756] Trial 193 finished with value: 8.258881625426344 and parameters: {'pop_size': 167, 'generations': 500, 'elite_split': 0.06, 'tournament_split': 0.1, 'mutation_rate': 0.91, 'crossover_rate': 0.09}. Best is trial 183 with value: 7.466548424109396.\n",
      "[I 2025-07-31 21:01:48,432] Trial 194 pruned. \n",
      "[I 2025-07-31 21:01:50,435] Trial 195 finished with value: 8.92695256712563 and parameters: {'pop_size': 153, 'generations': 500, 'elite_split': 0.06, 'tournament_split': 0.05, 'mutation_rate': 0.91, 'crossover_rate': 0.09}. Best is trial 183 with value: 7.466548424109396.\n",
      "[I 2025-07-31 21:01:53,746] Trial 196 pruned. \n",
      "[I 2025-07-31 21:01:58,508] Trial 197 pruned. \n",
      "[I 2025-07-31 21:01:59,546] Trial 198 finished with value: 8.340672529973583 and parameters: {'pop_size': 104, 'generations': 500, 'elite_split': 0.06, 'tournament_split': 0.1, 'mutation_rate': 0.91, 'crossover_rate': 0.09}. Best is trial 183 with value: 7.466548424109396.\n",
      "[I 2025-07-31 21:02:03,650] Trial 199 pruned. \n",
      "[I 2025-07-31 21:02:08,234] Trial 200 pruned. \n",
      "[I 2025-07-31 21:02:11,151] Trial 201 finished with value: 8.880378202417058 and parameters: {'pop_size': 226, 'generations': 500, 'elite_split': 0.06, 'tournament_split': 0.1, 'mutation_rate': 0.2, 'crossover_rate': 0.09}. Best is trial 183 with value: 7.466548424109396.\n",
      "[I 2025-07-31 21:02:14,504] Trial 202 finished with value: 8.118120752704838 and parameters: {'pop_size': 227, 'generations': 500, 'elite_split': 0.06, 'tournament_split': 0.1, 'mutation_rate': 0.79, 'crossover_rate': 0.09}. Best is trial 183 with value: 7.466548424109396.\n",
      "[I 2025-07-31 21:02:15,145] Trial 203 pruned. \n",
      "[I 2025-07-31 21:02:16,831] Trial 204 pruned. \n",
      "[I 2025-07-31 21:02:20,159] Trial 205 pruned. \n",
      "[I 2025-07-31 21:02:24,750] Trial 206 pruned. \n",
      "[I 2025-07-31 21:02:25,292] Trial 207 pruned. \n",
      "[I 2025-07-31 21:02:29,596] Trial 208 finished with value: 8.41501189474769 and parameters: {'pop_size': 224, 'generations': 500, 'elite_split': 0.06, 'tournament_split': 0.1, 'mutation_rate': 0.64, 'crossover_rate': 0.73}. Best is trial 183 with value: 7.466548424109396.\n",
      "[I 2025-07-31 21:02:32,475] Trial 209 pruned. \n",
      "[I 2025-07-31 21:02:34,963] Trial 210 finished with value: 8.201150983772981 and parameters: {'pop_size': 162, 'generations': 500, 'elite_split': 0.0, 'tournament_split': 0.1, 'mutation_rate': 0.81, 'crossover_rate': 0.36}. Best is trial 183 with value: 7.466548424109396.\n",
      "[I 2025-07-31 21:02:37,007] Trial 211 finished with value: 8.85481612684 and parameters: {'pop_size': 138, 'generations': 500, 'elite_split': 0.09, 'tournament_split': 0.1, 'mutation_rate': 0.74, 'crossover_rate': 0.59}. Best is trial 183 with value: 7.466548424109396.\n",
      "[I 2025-07-31 21:02:40,338] Trial 212 finished with value: 8.02407035923829 and parameters: {'pop_size': 198, 'generations': 500, 'elite_split': 0.06, 'tournament_split': 0.1, 'mutation_rate': 0.53, 'crossover_rate': 0.49}. Best is trial 183 with value: 7.466548424109396.\n",
      "[I 2025-07-31 21:02:41,955] Trial 213 pruned. \n",
      "[I 2025-07-31 21:02:45,142] Trial 214 finished with value: 8.295546663179831 and parameters: {'pop_size': 198, 'generations': 500, 'elite_split': 0.06, 'tournament_split': 0.1, 'mutation_rate': 0.93, 'crossover_rate': 0.16}. Best is trial 183 with value: 7.466548424109396.\n",
      "[I 2025-07-31 21:02:45,570] Trial 215 pruned. \n",
      "[I 2025-07-31 21:02:48,163] Trial 216 pruned. \n",
      "[I 2025-07-31 21:02:49,590] Trial 217 pruned. \n",
      "[I 2025-07-31 21:02:54,320] Trial 218 pruned. \n",
      "[I 2025-07-31 21:02:55,024] Trial 219 pruned. \n",
      "[I 2025-07-31 21:02:56,373] Trial 220 pruned. \n",
      "[I 2025-07-31 21:03:02,176] Trial 221 finished with value: 8.789391939556731 and parameters: {'pop_size': 249, 'generations': 500, 'elite_split': 0.06, 'tournament_split': 0.1, 'mutation_rate': 0.67, 'crossover_rate': 0.89}. Best is trial 183 with value: 7.466548424109396.\n",
      "[I 2025-07-31 21:03:04,529] Trial 222 pruned. \n",
      "[I 2025-07-31 21:03:08,551] Trial 223 finished with value: 8.147710386491207 and parameters: {'pop_size': 239, 'generations': 500, 'elite_split': 0.07, 'tournament_split': 0.1, 'mutation_rate': 0.6, 'crossover_rate': 0.27}. Best is trial 183 with value: 7.466548424109396.\n",
      "[I 2025-07-31 21:03:12,515] Trial 224 finished with value: 8.613890374349838 and parameters: {'pop_size': 230, 'generations': 500, 'elite_split': 0.11, 'tournament_split': 0.1, 'mutation_rate': 0.5, 'crossover_rate': 0.41000000000000003}. Best is trial 183 with value: 7.466548424109396.\n",
      "[I 2025-07-31 21:03:14,448] Trial 225 pruned. \n",
      "[I 2025-07-31 21:03:16,136] Trial 226 finished with value: 8.504252218368391 and parameters: {'pop_size': 156, 'generations': 500, 'elite_split': 0.12, 'tournament_split': 0.04, 'mutation_rate': 0.43, 'crossover_rate': 0.06}. Best is trial 183 with value: 7.466548424109396.\n",
      "[I 2025-07-31 21:03:17,162] Trial 227 pruned. \n",
      "[I 2025-07-31 21:03:20,295] Trial 228 pruned. \n",
      "[I 2025-07-31 21:03:22,127] Trial 229 finished with value: 7.950215082974742 and parameters: {'pop_size': 147, 'generations': 500, 'elite_split': 0.06, 'tournament_split': 0.1, 'mutation_rate': 0.91, 'crossover_rate': 0.1}. Best is trial 183 with value: 7.466548424109396.\n",
      "[I 2025-07-31 21:03:23,666] Trial 230 finished with value: 7.8838136405163635 and parameters: {'pop_size': 130, 'generations': 500, 'elite_split': 0.06, 'tournament_split': 0.1, 'mutation_rate': 0.91, 'crossover_rate': 0.14}. Best is trial 183 with value: 7.466548424109396.\n",
      "[I 2025-07-31 21:03:25,640] Trial 231 finished with value: 8.189536698430036 and parameters: {'pop_size': 147, 'generations': 500, 'elite_split': 0.06, 'tournament_split': 0.1, 'mutation_rate': 0.91, 'crossover_rate': 0.14}. Best is trial 183 with value: 7.466548424109396.\n",
      "[I 2025-07-31 21:03:27,195] Trial 232 finished with value: 7.8781586559279955 and parameters: {'pop_size': 130, 'generations': 500, 'elite_split': 0.06, 'tournament_split': 0.1, 'mutation_rate': 0.91, 'crossover_rate': 0.1}. Best is trial 183 with value: 7.466548424109396.\n",
      "[I 2025-07-31 21:03:28,172] Trial 233 finished with value: 8.951618590164703 and parameters: {'pop_size': 84, 'generations': 500, 'elite_split': 0.06, 'tournament_split': 0.1, 'mutation_rate': 0.91, 'crossover_rate': 0.31}. Best is trial 183 with value: 7.466548424109396.\n",
      "[I 2025-07-31 21:03:29,170] Trial 234 finished with value: 8.868573847974172 and parameters: {'pop_size': 91, 'generations': 500, 'elite_split': 0.06, 'tournament_split': 0.1, 'mutation_rate': 0.9, 'crossover_rate': 0.14}. Best is trial 183 with value: 7.466548424109396.\n",
      "[I 2025-07-31 21:03:30,691] Trial 235 finished with value: 7.858154073944832 and parameters: {'pop_size': 130, 'generations': 500, 'elite_split': 0.06, 'tournament_split': 0.1, 'mutation_rate': 0.91, 'crossover_rate': 0.1}. Best is trial 183 with value: 7.466548424109396.\n",
      "[I 2025-07-31 21:03:33,694] Trial 236 finished with value: 7.767221367216473 and parameters: {'pop_size': 219, 'generations': 500, 'elite_split': 0.2, 'tournament_split': 0.1, 'mutation_rate': 0.91, 'crossover_rate': 0.18}. Best is trial 183 with value: 7.466548424109396.\n",
      "[I 2025-07-31 21:03:34,980] Trial 237 finished with value: 8.661812372759243 and parameters: {'pop_size': 130, 'generations': 500, 'elite_split': 0.2, 'tournament_split': 0.1, 'mutation_rate': 0.91, 'crossover_rate': 0.18}. Best is trial 183 with value: 7.466548424109396.\n",
      "[I 2025-07-31 21:03:38,180] Trial 238 finished with value: 8.20327147784816 and parameters: {'pop_size': 233, 'generations': 500, 'elite_split': 0.2, 'tournament_split': 0.1, 'mutation_rate': 0.91, 'crossover_rate': 0.1}. Best is trial 183 with value: 7.466548424109396.\n",
      "[I 2025-07-31 21:03:43,289] Trial 239 pruned. \n",
      "[I 2025-07-31 21:03:47,727] Trial 240 pruned. \n",
      "[I 2025-07-31 21:03:50,040] Trial 241 finished with value: 8.229076896042642 and parameters: {'pop_size': 202, 'generations': 500, 'elite_split': 0.2, 'tournament_split': 0.1, 'mutation_rate': 0.44, 'crossover_rate': 0.18}. Best is trial 183 with value: 7.466548424109396.\n",
      "[I 2025-07-31 21:03:52,923] Trial 242 finished with value: 8.645138926733619 and parameters: {'pop_size': 219, 'generations': 500, 'elite_split': 0.06, 'tournament_split': 0.1, 'mutation_rate': 0.65, 'crossover_rate': 0.1}. Best is trial 183 with value: 7.466548424109396.\n",
      "[I 2025-07-31 21:03:55,518] Trial 243 finished with value: 7.752541972033335 and parameters: {'pop_size': 197, 'generations': 500, 'elite_split': 0.06, 'tournament_split': 0.1, 'mutation_rate': 0.88, 'crossover_rate': 0.1}. Best is trial 183 with value: 7.466548424109396.\n",
      "[I 2025-07-31 21:03:57,206] Trial 244 finished with value: 8.85127005699334 and parameters: {'pop_size': 130, 'generations': 500, 'elite_split': 0.06, 'tournament_split': 0.1, 'mutation_rate': 0.88, 'crossover_rate': 0.47000000000000003}. Best is trial 183 with value: 7.466548424109396.\n",
      "[I 2025-07-31 21:03:58,413] Trial 245 finished with value: 8.814850122181474 and parameters: {'pop_size': 136, 'generations': 500, 'elite_split': 0.06, 'tournament_split': 0.1, 'mutation_rate': 0.28, 'crossover_rate': 0.13}. Best is trial 183 with value: 7.466548424109396.\n",
      "[I 2025-07-31 21:04:02,344] Trial 246 pruned. \n",
      "[I 2025-07-31 21:04:05,808] Trial 247 finished with value: 8.440932978616814 and parameters: {'pop_size': 220, 'generations': 500, 'elite_split': 0.06, 'tournament_split': 0.1, 'mutation_rate': 0.97, 'crossover_rate': 0.1}. Best is trial 183 with value: 7.466548424109396.\n",
      "[I 2025-07-31 21:04:06,128] Trial 248 pruned. \n",
      "[I 2025-07-31 21:04:07,210] Trial 249 pruned. \n",
      "[I 2025-07-31 21:04:09,715] Trial 250 pruned. \n",
      "[I 2025-07-31 21:04:13,877] Trial 251 finished with value: 8.319394855998526 and parameters: {'pop_size': 214, 'generations': 500, 'elite_split': 0.05, 'tournament_split': 0.1, 'mutation_rate': 0.88, 'crossover_rate': 0.71}. Best is trial 183 with value: 7.466548424109396.\n",
      "[I 2025-07-31 21:04:15,003] Trial 252 pruned. \n",
      "[I 2025-07-31 21:04:18,062] Trial 253 finished with value: 8.824816235718428 and parameters: {'pop_size': 206, 'generations': 500, 'elite_split': 0.06, 'tournament_split': 0.03, 'mutation_rate': 0.87, 'crossover_rate': 0.1}. Best is trial 183 with value: 7.466548424109396.\n",
      "[I 2025-07-31 21:04:18,668] Trial 254 pruned. \n",
      "[I 2025-07-31 21:04:20,304] Trial 255 finished with value: 8.767377932210293 and parameters: {'pop_size': 171, 'generations': 500, 'elite_split': 0.2, 'tournament_split': 0.1, 'mutation_rate': 0.31, 'crossover_rate': 0.04}. Best is trial 183 with value: 7.466548424109396.\n",
      "[I 2025-07-31 21:04:22,782] Trial 256 pruned. \n",
      "[I 2025-07-31 21:04:24,183] Trial 257 finished with value: 8.487966890488739 and parameters: {'pop_size': 119, 'generations': 500, 'elite_split': 0.0, 'tournament_split': 0.1, 'mutation_rate': 0.77, 'crossover_rate': 0.21}. Best is trial 183 with value: 7.466548424109396.\n",
      "[I 2025-07-31 21:04:26,349] Trial 258 finished with value: 8.44391108157676 and parameters: {'pop_size': 157, 'generations': 500, 'elite_split': 0.03, 'tournament_split': 0.06, 'mutation_rate': 0.89, 'crossover_rate': 0.09}. Best is trial 183 with value: 7.466548424109396.\n",
      "[I 2025-07-31 21:04:27,165] Trial 259 pruned. \n",
      "[I 2025-07-31 21:04:31,300] Trial 260 pruned. \n",
      "[I 2025-07-31 21:04:32,263] Trial 261 pruned. \n",
      "[I 2025-07-31 21:04:34,365] Trial 262 pruned. \n",
      "[I 2025-07-31 21:04:38,102] Trial 263 finished with value: 8.228772180159702 and parameters: {'pop_size': 203, 'generations': 500, 'elite_split': 0.08, 'tournament_split': 0.1, 'mutation_rate': 0.92, 'crossover_rate': 0.45}. Best is trial 183 with value: 7.466548424109396.\n",
      "[I 2025-07-31 21:04:38,552] Trial 264 pruned. \n",
      "[I 2025-07-31 21:04:40,456] Trial 265 pruned. \n",
      "[I 2025-07-31 21:04:42,047] Trial 266 finished with value: 8.208654566522133 and parameters: {'pop_size': 137, 'generations': 500, 'elite_split': 0.14, 'tournament_split': 0.1, 'mutation_rate': 0.91, 'crossover_rate': 0.07}. Best is trial 183 with value: 7.466548424109396.\n",
      "[I 2025-07-31 21:04:43,310] Trial 267 pruned. \n",
      "[I 2025-07-31 21:04:44,870] Trial 268 pruned. \n",
      "[I 2025-07-31 21:04:45,866] Trial 269 finished with value: 8.866213889622816 and parameters: {'pop_size': 108, 'generations': 500, 'elite_split': 0.15, 'tournament_split': 0.08, 'mutation_rate': 0.56, 'crossover_rate': 0.11}. Best is trial 183 with value: 7.466548424109396.\n",
      "[I 2025-07-31 21:04:50,479] Trial 270 finished with value: 8.470863402441537 and parameters: {'pop_size': 232, 'generations': 500, 'elite_split': 0.06, 'tournament_split': 0.1, 'mutation_rate': 0.8200000000000001, 'crossover_rate': 0.44}. Best is trial 183 with value: 7.466548424109396.\n",
      "[I 2025-07-31 21:04:53,094] Trial 271 pruned. \n",
      "[I 2025-07-31 21:04:56,965] Trial 272 finished with value: 8.57434738367181 and parameters: {'pop_size': 237, 'generations': 500, 'elite_split': 0.07, 'tournament_split': 0.1, 'mutation_rate': 0.33, 'crossover_rate': 0.5}. Best is trial 183 with value: 7.466548424109396.\n",
      "[I 2025-07-31 21:04:59,718] Trial 273 pruned. \n",
      "[I 2025-07-31 21:05:00,429] Trial 274 pruned. \n",
      "[I 2025-07-31 21:05:04,588] Trial 275 pruned. \n",
      "[I 2025-07-31 21:05:07,210] Trial 276 finished with value: 7.950123478628948 and parameters: {'pop_size': 194, 'generations': 500, 'elite_split': 0.06, 'tournament_split': 0.1, 'mutation_rate': 0.8300000000000001, 'crossover_rate': 0.09}. Best is trial 183 with value: 7.466548424109396.\n",
      "[I 2025-07-31 21:05:10,360] Trial 277 finished with value: 8.205019560200485 and parameters: {'pop_size': 227, 'generations': 500, 'elite_split': 0.06, 'tournament_split': 0.1, 'mutation_rate': 0.63, 'crossover_rate': 0.09}. Best is trial 183 with value: 7.466548424109396.\n",
      "[I 2025-07-31 21:05:10,536] Trial 278 pruned. \n",
      "[I 2025-07-31 21:05:12,314] Trial 279 finished with value: 8.65911934989658 and parameters: {'pop_size': 179, 'generations': 500, 'elite_split': 0.06, 'tournament_split': 0.1, 'mutation_rate': 0.24, 'crossover_rate': 0.09}. Best is trial 183 with value: 7.466548424109396.\n",
      "[I 2025-07-31 21:05:15,016] Trial 280 finished with value: 7.894421959025762 and parameters: {'pop_size': 200, 'generations': 500, 'elite_split': 0.06, 'tournament_split': 0.1, 'mutation_rate': 0.8300000000000001, 'crossover_rate': 0.22}. Best is trial 183 with value: 7.466548424109396.\n",
      "[I 2025-07-31 21:05:17,400] Trial 281 finished with value: 8.151187323815998 and parameters: {'pop_size': 194, 'generations': 500, 'elite_split': 0.06, 'tournament_split': 0.1, 'mutation_rate': 0.7000000000000001, 'crossover_rate': 0.22}. Best is trial 183 with value: 7.466548424109396.\n",
      "[I 2025-07-31 21:05:19,322] Trial 282 finished with value: 7.676665225828908 and parameters: {'pop_size': 199, 'generations': 500, 'elite_split': 0.2, 'tournament_split': 0.1, 'mutation_rate': 0.8300000000000001, 'crossover_rate': 0.0}. Best is trial 183 with value: 7.466548424109396.\n",
      "[I 2025-07-31 21:05:22,345] Trial 283 pruned. \n",
      "[I 2025-07-31 21:05:24,407] Trial 284 finished with value: 8.2900619145565 and parameters: {'pop_size': 199, 'generations': 500, 'elite_split': 0.2, 'tournament_split': 0.1, 'mutation_rate': 0.8300000000000001, 'crossover_rate': 0.12}. Best is trial 183 with value: 7.466548424109396.\n",
      "[I 2025-07-31 21:05:27,187] Trial 285 finished with value: 7.9889483406962025 and parameters: {'pop_size': 250, 'generations': 500, 'elite_split': 0.2, 'tournament_split': 0.1, 'mutation_rate': 0.8300000000000001, 'crossover_rate': 0.0}. Best is trial 183 with value: 7.466548424109396.\n",
      "[I 2025-07-31 21:05:28,306] Trial 286 finished with value: 8.504620698320101 and parameters: {'pop_size': 141, 'generations': 500, 'elite_split': 0.2, 'tournament_split': 0.09, 'mutation_rate': 0.8300000000000001, 'crossover_rate': 0.0}. Best is trial 183 with value: 7.466548424109396.\n",
      "[I 2025-07-31 21:05:31,184] Trial 287 pruned. \n",
      "[I 2025-07-31 21:05:32,843] Trial 288 finished with value: 8.120165049633224 and parameters: {'pop_size': 187, 'generations': 500, 'elite_split': 0.2, 'tournament_split': 0.1, 'mutation_rate': 0.54, 'crossover_rate': 0.0}. Best is trial 183 with value: 7.466548424109396.\n",
      "[I 2025-07-31 21:05:35,336] Trial 289 finished with value: 8.204258753073514 and parameters: {'pop_size': 219, 'generations': 500, 'elite_split': 0.2, 'tournament_split': 0.03, 'mutation_rate': 0.8300000000000001, 'crossover_rate': 0.0}. Best is trial 183 with value: 7.466548424109396.\n",
      "[I 2025-07-31 21:05:36,675] Trial 290 pruned. \n",
      "[I 2025-07-31 21:05:38,089] Trial 291 pruned. \n",
      "[I 2025-07-31 21:05:40,881] Trial 292 pruned. \n",
      "[I 2025-07-31 21:05:43,037] Trial 293 pruned. \n",
      "[I 2025-07-31 21:05:46,557] Trial 294 finished with value: 8.298529840996462 and parameters: {'pop_size': 250, 'generations': 500, 'elite_split': 0.13, 'tournament_split': 0.1, 'mutation_rate': 0.96, 'crossover_rate': 0.1}. Best is trial 183 with value: 7.466548424109396.\n",
      "[I 2025-07-31 21:05:47,170] Trial 295 pruned. \n",
      "[I 2025-07-31 21:05:48,290] Trial 296 pruned. \n",
      "[I 2025-07-31 21:05:48,791] Trial 297 pruned. \n",
      "[I 2025-07-31 21:05:49,048] Trial 298 pruned. \n",
      "[I 2025-07-31 21:05:52,793] Trial 299 pruned. \n",
      "[I 2025-07-31 21:05:54,988] Trial 300 pruned. \n",
      "[I 2025-07-31 21:05:55,464] Trial 301 pruned. \n",
      "[I 2025-07-31 21:05:58,790] Trial 302 pruned. \n",
      "[I 2025-07-31 21:05:59,262] Trial 303 pruned. \n",
      "[I 2025-07-31 21:06:02,094] Trial 304 finished with value: 8.206152523180092 and parameters: {'pop_size': 197, 'generations': 500, 'elite_split': 0.06, 'tournament_split': 0.08, 'mutation_rate': 0.45, 'crossover_rate': 0.37}. Best is trial 183 with value: 7.466548424109396.\n",
      "[I 2025-07-31 21:06:04,051] Trial 305 finished with value: 8.786429788207153 and parameters: {'pop_size': 160, 'generations': 500, 'elite_split': 0.06, 'tournament_split': 0.04, 'mutation_rate': 0.72, 'crossover_rate': 0.01}. Best is trial 183 with value: 7.466548424109396.\n",
      "[I 2025-07-31 21:06:07,749] Trial 306 finished with value: 7.873251675567164 and parameters: {'pop_size': 229, 'generations': 500, 'elite_split': 0.0, 'tournament_split': 0.09, 'mutation_rate': 0.79, 'crossover_rate': 0.04}. Best is trial 183 with value: 7.466548424109396.\n",
      "[I 2025-07-31 21:06:08,109] Trial 307 pruned. \n",
      "[I 2025-07-31 21:06:12,634] Trial 308 finished with value: 8.703119111511775 and parameters: {'pop_size': 231, 'generations': 500, 'elite_split': 0.0, 'tournament_split': 0.09, 'mutation_rate': 0.91, 'crossover_rate': 0.35000000000000003}. Best is trial 183 with value: 7.466548424109396.\n",
      "[I 2025-07-31 21:06:13,177] Trial 309 pruned. \n",
      "[I 2025-07-31 21:06:15,328] Trial 310 pruned. \n",
      "[I 2025-07-31 21:06:16,349] Trial 311 pruned. \n",
      "[I 2025-07-31 21:06:17,025] Trial 312 pruned. \n",
      "[I 2025-07-31 21:06:17,364] Trial 313 pruned. \n",
      "[I 2025-07-31 21:06:21,552] Trial 314 finished with value: 8.333269493590306 and parameters: {'pop_size': 226, 'generations': 500, 'elite_split': 0.01, 'tournament_split': 0.09, 'mutation_rate': 0.62, 'crossover_rate': 0.33}. Best is trial 183 with value: 7.466548424109396.\n",
      "[I 2025-07-31 21:06:25,031] Trial 315 finished with value: 8.40793625638217 and parameters: {'pop_size': 229, 'generations': 500, 'elite_split': 0.03, 'tournament_split': 0.1, 'mutation_rate': 0.27, 'crossover_rate': 0.14}. Best is trial 183 with value: 7.466548424109396.\n",
      "[I 2025-07-31 21:06:27,488] Trial 316 pruned. \n",
      "[I 2025-07-31 21:06:27,855] Trial 317 pruned. \n",
      "[I 2025-07-31 21:06:28,968] Trial 318 pruned. \n",
      "[I 2025-07-31 21:06:32,108] Trial 319 pruned. \n",
      "[I 2025-07-31 21:06:35,225] Trial 320 pruned. \n",
      "[I 2025-07-31 21:06:36,972] Trial 321 pruned. \n",
      "[I 2025-07-31 21:06:37,667] Trial 322 pruned. \n",
      "[I 2025-07-31 21:06:41,484] Trial 323 pruned. \n",
      "[I 2025-07-31 21:06:44,714] Trial 324 finished with value: 8.572108137708007 and parameters: {'pop_size': 186, 'generations': 500, 'elite_split': 0.12, 'tournament_split': 0.1, 'mutation_rate': 0.88, 'crossover_rate': 0.58}. Best is trial 183 with value: 7.466548424109396.\n",
      "[I 2025-07-31 21:06:45,724] Trial 325 pruned. \n",
      "[I 2025-07-31 21:06:47,170] Trial 326 pruned. \n",
      "[I 2025-07-31 21:06:49,054] Trial 327 pruned. \n",
      "[I 2025-07-31 21:06:50,174] Trial 328 pruned. \n",
      "[I 2025-07-31 21:06:53,561] Trial 329 pruned. \n",
      "[I 2025-07-31 21:06:55,720] Trial 330 pruned. \n",
      "[I 2025-07-31 21:06:57,266] Trial 331 finished with value: 8.254937332413082 and parameters: {'pop_size': 166, 'generations': 400, 'elite_split': 0.06, 'tournament_split': 0.06, 'mutation_rate': 0.47000000000000003, 'crossover_rate': 0.09}. Best is trial 183 with value: 7.466548424109396.\n",
      "[I 2025-07-31 21:06:57,751] Trial 332 pruned. \n",
      "[I 2025-07-31 21:06:59,390] Trial 333 pruned. \n",
      "[I 2025-07-31 21:07:01,864] Trial 334 pruned. \n",
      "[I 2025-07-31 21:07:03,974] Trial 335 pruned. \n",
      "[I 2025-07-31 21:07:05,577] Trial 336 finished with value: 8.51907563903919 and parameters: {'pop_size': 128, 'generations': 500, 'elite_split': 0.06, 'tournament_split': 0.1, 'mutation_rate': 0.91, 'crossover_rate': 0.22}. Best is trial 183 with value: 7.466548424109396.\n",
      "[I 2025-07-31 21:07:09,507] Trial 337 pruned. \n",
      "[I 2025-07-31 21:07:12,242] Trial 338 pruned. \n",
      "[I 2025-07-31 21:07:13,598] Trial 339 pruned. \n",
      "[I 2025-07-31 21:07:14,674] Trial 340 finished with value: 8.407084287716193 and parameters: {'pop_size': 121, 'generations': 500, 'elite_split': 0.16, 'tournament_split': 0.08, 'mutation_rate': 0.64, 'crossover_rate': 0.16}. Best is trial 183 with value: 7.466548424109396.\n",
      "[I 2025-07-31 21:07:15,536] Trial 341 pruned. \n",
      "[I 2025-07-31 21:07:17,148] Trial 342 pruned. \n",
      "[I 2025-07-31 21:07:17,690] Trial 343 pruned. \n",
      "[I 2025-07-31 21:07:20,743] Trial 344 finished with value: 8.329050488725597 and parameters: {'pop_size': 222, 'generations': 500, 'elite_split': 0.06, 'tournament_split': 0.1, 'mutation_rate': 0.9500000000000001, 'crossover_rate': 0.02}. Best is trial 183 with value: 7.466548424109396.\n",
      "[I 2025-07-31 21:07:24,210] Trial 345 pruned. \n",
      "[I 2025-07-31 21:07:24,893] Trial 346 pruned. \n",
      "[I 2025-07-31 21:07:27,466] Trial 347 pruned. \n",
      "[I 2025-07-31 21:07:29,219] Trial 348 pruned. \n",
      "[I 2025-07-31 21:07:29,761] Trial 349 pruned. \n",
      "[I 2025-07-31 21:07:30,289] Trial 350 pruned. \n",
      "[I 2025-07-31 21:07:31,480] Trial 351 pruned. \n",
      "[I 2025-07-31 21:07:35,157] Trial 352 pruned. \n",
      "[I 2025-07-31 21:07:35,887] Trial 353 pruned. \n",
      "[I 2025-07-31 21:07:38,396] Trial 354 pruned. \n",
      "[I 2025-07-31 21:07:39,165] Trial 355 pruned. \n",
      "[I 2025-07-31 21:07:40,585] Trial 356 pruned. \n",
      "[I 2025-07-31 21:07:41,351] Trial 357 pruned. \n",
      "[I 2025-07-31 21:07:41,900] Trial 358 pruned. \n",
      "[I 2025-07-31 21:07:42,648] Trial 359 pruned. \n",
      "[I 2025-07-31 21:07:45,608] Trial 360 finished with value: 7.832025430412764 and parameters: {'pop_size': 243, 'generations': 500, 'elite_split': 0.18, 'tournament_split': 0.1, 'mutation_rate': 0.65, 'crossover_rate': 0.1}. Best is trial 183 with value: 7.466548424109396.\n",
      "[I 2025-07-31 21:07:46,299] Trial 361 pruned. \n",
      "[I 2025-07-31 21:07:46,969] Trial 362 pruned. \n",
      "[I 2025-07-31 21:07:50,943] Trial 363 pruned. \n",
      "[I 2025-07-31 21:07:52,102] Trial 364 pruned. \n",
      "[I 2025-07-31 21:07:55,711] Trial 365 finished with value: 8.43826581156825 and parameters: {'pop_size': 226, 'generations': 500, 'elite_split': 0.12, 'tournament_split': 0.1, 'mutation_rate': 0.5, 'crossover_rate': 0.52}. Best is trial 183 with value: 7.466548424109396.\n",
      "[I 2025-07-31 21:07:57,730] Trial 366 finished with value: 8.227727532198431 and parameters: {'pop_size': 144, 'generations': 500, 'elite_split': 0.06, 'tournament_split': 0.1, 'mutation_rate': 0.9, 'crossover_rate': 0.43}. Best is trial 183 with value: 7.466548424109396.\n",
      "[I 2025-07-31 21:08:00,091] Trial 367 pruned. \n",
      "[I 2025-07-31 21:08:04,362] Trial 368 pruned. \n",
      "[I 2025-07-31 21:08:07,706] Trial 369 finished with value: 8.17068499552883 and parameters: {'pop_size': 242, 'generations': 500, 'elite_split': 0.15, 'tournament_split': 0.05, 'mutation_rate': 0.65, 'crossover_rate': 0.1}. Best is trial 183 with value: 7.466548424109396.\n",
      "[I 2025-07-31 21:08:08,629] Trial 370 pruned. \n",
      "[I 2025-07-31 21:08:09,747] Trial 371 finished with value: 7.877335524135739 and parameters: {'pop_size': 132, 'generations': 500, 'elite_split': 0.18, 'tournament_split': 0.1, 'mutation_rate': 0.44, 'crossover_rate': 0.09}. Best is trial 183 with value: 7.466548424109396.\n",
      "[I 2025-07-31 21:08:12,239] Trial 372 pruned. \n",
      "[I 2025-07-31 21:08:16,444] Trial 373 pruned. \n",
      "[I 2025-07-31 21:08:16,974] Trial 374 pruned. \n",
      "[I 2025-07-31 21:08:18,916] Trial 375 pruned. \n",
      "[I 2025-07-31 21:08:20,358] Trial 376 finished with value: 8.726619038671577 and parameters: {'pop_size': 106, 'generations': 500, 'elite_split': 0.04, 'tournament_split': 0.08, 'mutation_rate': 0.88, 'crossover_rate': 0.18}. Best is trial 183 with value: 7.466548424109396.\n",
      "[I 2025-07-31 21:08:21,611] Trial 377 pruned. \n",
      "[I 2025-07-31 21:08:26,146] Trial 378 finished with value: 7.668686891062556 and parameters: {'pop_size': 245, 'generations': 500, 'elite_split': 0.11, 'tournament_split': 0.1, 'mutation_rate': 0.87, 'crossover_rate': 0.24}. Best is trial 183 with value: 7.466548424109396.\n",
      "[I 2025-07-31 21:08:28,475] Trial 379 finished with value: 8.108327058363102 and parameters: {'pop_size': 165, 'generations': 500, 'elite_split': 0.11, 'tournament_split': 0.1, 'mutation_rate': 0.77, 'crossover_rate': 0.24}. Best is trial 183 with value: 7.466548424109396.\n",
      "[I 2025-07-31 21:08:30,251] Trial 380 pruned. \n",
      "[I 2025-07-31 21:08:33,381] Trial 381 finished with value: 8.66101713470413 and parameters: {'pop_size': 248, 'generations': 500, 'elite_split': 0.11, 'tournament_split': 0.1, 'mutation_rate': 0.15, 'crossover_rate': 0.07}. Best is trial 183 with value: 7.466548424109396.\n",
      "[I 2025-07-31 21:08:34,818] Trial 382 pruned. \n",
      "[I 2025-07-31 21:08:37,099] Trial 383 pruned. \n",
      "[I 2025-07-31 21:08:38,580] Trial 384 finished with value: 8.720898802425925 and parameters: {'pop_size': 139, 'generations': 500, 'elite_split': 0.11, 'tournament_split': 0.1, 'mutation_rate': 0.4, 'crossover_rate': 0.38}. Best is trial 183 with value: 7.466548424109396.\n",
      "[I 2025-07-31 21:08:43,405] Trial 385 pruned. \n",
      "[I 2025-07-31 21:08:43,861] Trial 386 pruned. \n",
      "[I 2025-07-31 21:08:45,278] Trial 387 pruned. \n",
      "[I 2025-07-31 21:08:45,758] Trial 388 pruned. \n",
      "[I 2025-07-31 21:08:47,089] Trial 389 pruned. \n",
      "[I 2025-07-31 21:08:47,467] Trial 390 pruned. \n",
      "[I 2025-07-31 21:08:49,262] Trial 391 pruned. \n",
      "[I 2025-07-31 21:08:50,021] Trial 392 pruned. \n",
      "[I 2025-07-31 21:08:50,738] Trial 393 pruned. \n",
      "[I 2025-07-31 21:08:54,084] Trial 394 finished with value: 7.835805852282417 and parameters: {'pop_size': 204, 'generations': 500, 'elite_split': 0.06, 'tournament_split': 0.1, 'mutation_rate': 0.92, 'crossover_rate': 0.46}. Best is trial 183 with value: 7.466548424109396.\n",
      "[I 2025-07-31 21:08:57,134] Trial 395 pruned. \n",
      "[I 2025-07-31 21:08:59,470] Trial 396 finished with value: 8.007761089730993 and parameters: {'pop_size': 183, 'generations': 500, 'elite_split': 0.06, 'tournament_split': 0.1, 'mutation_rate': 0.92, 'crossover_rate': 0.08}. Best is trial 183 with value: 7.466548424109396.\n",
      "[I 2025-07-31 21:09:01,008] Trial 397 pruned. \n",
      "[I 2025-07-31 21:09:03,812] Trial 398 finished with value: 7.695844252935749 and parameters: {'pop_size': 204, 'generations': 500, 'elite_split': 0.06, 'tournament_split': 0.1, 'mutation_rate': 0.89, 'crossover_rate': 0.04}. Best is trial 183 with value: 7.466548424109396.\n",
      "[I 2025-07-31 21:09:05,346] Trial 399 pruned. \n",
      "[I 2025-07-31 21:09:07,970] Trial 400 pruned. \n",
      "[I 2025-07-31 21:09:10,565] Trial 401 finished with value: 8.631783832797867 and parameters: {'pop_size': 181, 'generations': 500, 'elite_split': 0.01, 'tournament_split': 0.1, 'mutation_rate': 0.71, 'crossover_rate': 0.03}. Best is trial 183 with value: 7.466548424109396.\n",
      "[I 2025-07-31 21:09:15,084] Trial 402 finished with value: 7.884879731560407 and parameters: {'pop_size': 245, 'generations': 500, 'elite_split': 0.11, 'tournament_split': 0.1, 'mutation_rate': 0.89, 'crossover_rate': 0.44}. Best is trial 183 with value: 7.466548424109396.\n",
      "[I 2025-07-31 21:09:16,082] Trial 403 pruned. \n",
      "[I 2025-07-31 21:09:20,903] Trial 404 pruned. \n",
      "[I 2025-07-31 21:09:23,682] Trial 405 finished with value: 8.314009713031439 and parameters: {'pop_size': 188, 'generations': 500, 'elite_split': 0.2, 'tournament_split': 0.1, 'mutation_rate': 0.89, 'crossover_rate': 0.44}. Best is trial 183 with value: 7.466548424109396.\n",
      "[I 2025-07-31 21:09:26,360] Trial 406 pruned. \n",
      "[I 2025-07-31 21:09:27,154] Trial 407 pruned. \n",
      "[I 2025-07-31 21:09:30,390] Trial 408 finished with value: 7.900488720604008 and parameters: {'pop_size': 204, 'generations': 500, 'elite_split': 0.11, 'tournament_split': 0.05, 'mutation_rate': 0.63, 'crossover_rate': 0.2}. Best is trial 183 with value: 7.466548424109396.\n",
      "[I 2025-07-31 21:09:31,414] Trial 409 pruned. \n",
      "[I 2025-07-31 21:09:31,699] Trial 410 pruned. \n",
      "[I 2025-07-31 21:09:32,851] Trial 411 pruned. \n",
      "[I 2025-07-31 21:09:35,943] Trial 412 finished with value: 8.819827598480401 and parameters: {'pop_size': 204, 'generations': 500, 'elite_split': 0.11, 'tournament_split': 0.05, 'mutation_rate': 0.54, 'crossover_rate': 0.53}. Best is trial 183 with value: 7.466548424109396.\n",
      "[I 2025-07-31 21:09:39,250] Trial 413 pruned. \n",
      "[I 2025-07-31 21:09:39,979] Trial 414 pruned. \n",
      "[I 2025-07-31 21:09:43,682] Trial 415 finished with value: 8.03969877287212 and parameters: {'pop_size': 245, 'generations': 500, 'elite_split': 0.11, 'tournament_split': 0.04, 'mutation_rate': 0.63, 'crossover_rate': 0.2}. Best is trial 183 with value: 7.466548424109396.\n",
      "[I 2025-07-31 21:09:44,157] Trial 416 pruned. \n",
      "[I 2025-07-31 21:09:45,096] Trial 417 pruned. \n",
      "[I 2025-07-31 21:09:48,567] Trial 418 finished with value: 8.476763996328586 and parameters: {'pop_size': 204, 'generations': 500, 'elite_split': 0.11, 'tournament_split': 0.09, 'mutation_rate': 0.63, 'crossover_rate': 0.67}. Best is trial 183 with value: 7.466548424109396.\n",
      "[I 2025-07-31 21:09:49,118] Trial 419 pruned. \n",
      "[I 2025-07-31 21:09:50,407] Trial 420 pruned. \n",
      "[I 2025-07-31 21:09:51,384] Trial 421 finished with value: 8.30311006144754 and parameters: {'pop_size': 118, 'generations': 400, 'elite_split': 0.15, 'tournament_split': 0.1, 'mutation_rate': 0.7000000000000001, 'crossover_rate': 0.25}. Best is trial 183 with value: 7.466548424109396.\n",
      "[I 2025-07-31 21:09:52,989] Trial 422 pruned. \n",
      "[I 2025-07-31 21:09:55,866] Trial 423 pruned. \n",
      "[I 2025-07-31 21:09:57,665] Trial 424 pruned. \n",
      "[I 2025-07-31 21:09:58,572] Trial 425 finished with value: 8.736688145975332 and parameters: {'pop_size': 102, 'generations': 500, 'elite_split': 0.07, 'tournament_split': 0.1, 'mutation_rate': 0.84, 'crossover_rate': 0.12}. Best is trial 183 with value: 7.466548424109396.\n",
      "[I 2025-07-31 21:10:00,528] Trial 426 pruned. \n",
      "[I 2025-07-31 21:10:01,087] Trial 427 pruned. \n",
      "[I 2025-07-31 21:10:01,705] Trial 428 pruned. \n",
      "[I 2025-07-31 21:10:02,007] Trial 429 pruned. \n",
      "[I 2025-07-31 21:10:03,952] Trial 430 pruned. \n",
      "[I 2025-07-31 21:10:07,640] Trial 431 pruned. \n",
      "[I 2025-07-31 21:10:08,635] Trial 432 pruned. \n",
      "[I 2025-07-31 21:10:09,115] Trial 433 pruned. \n",
      "[I 2025-07-31 21:10:12,067] Trial 434 finished with value: 7.982694676632105 and parameters: {'pop_size': 223, 'generations': 500, 'elite_split': 0.05, 'tournament_split': 0.1, 'mutation_rate': 0.49, 'crossover_rate': 0.2}. Best is trial 183 with value: 7.466548424109396.\n",
      "[I 2025-07-31 21:10:13,341] Trial 435 finished with value: 8.549092511614974 and parameters: {'pop_size': 114, 'generations': 500, 'elite_split': 0.02, 'tournament_split': 0.1, 'mutation_rate': 0.79, 'crossover_rate': 0.37}. Best is trial 183 with value: 7.466548424109396.\n",
      "[I 2025-07-31 21:10:14,558] Trial 436 pruned. \n",
      "[I 2025-07-31 21:10:16,131] Trial 437 finished with value: 8.509133148895444 and parameters: {'pop_size': 164, 'generations': 500, 'elite_split': 0.06, 'tournament_split': 0.1, 'mutation_rate': 0.32, 'crossover_rate': 0.04}. Best is trial 183 with value: 7.466548424109396.\n",
      "[I 2025-07-31 21:10:18,104] Trial 438 finished with value: 8.167409946003033 and parameters: {'pop_size': 158, 'generations': 500, 'elite_split': 0.06, 'tournament_split': 0.1, 'mutation_rate': 0.76, 'crossover_rate': 0.48}. Best is trial 183 with value: 7.466548424109396.\n",
      "[I 2025-07-31 21:10:20,536] Trial 439 pruned. \n",
      "[I 2025-07-31 21:10:20,863] Trial 440 pruned. \n",
      "[I 2025-07-31 21:10:23,568] Trial 441 finished with value: 8.83553778924614 and parameters: {'pop_size': 243, 'generations': 400, 'elite_split': 0.18, 'tournament_split': 0.05, 'mutation_rate': 0.87, 'crossover_rate': 0.46}. Best is trial 183 with value: 7.466548424109396.\n",
      "[I 2025-07-31 21:10:27,285] Trial 442 finished with value: 8.097174120495753 and parameters: {'pop_size': 221, 'generations': 500, 'elite_split': 0.04, 'tournament_split': 0.1, 'mutation_rate': 0.89, 'crossover_rate': 0.5700000000000001}. Best is trial 183 with value: 7.466548424109396.\n",
      "[I 2025-07-31 21:10:28,943] Trial 443 pruned. \n",
      "[I 2025-07-31 21:10:31,602] Trial 444 pruned. \n",
      "[I 2025-07-31 21:10:34,951] Trial 445 finished with value: 8.111811784804333 and parameters: {'pop_size': 200, 'generations': 500, 'elite_split': 0.06, 'tournament_split': 0.08, 'mutation_rate': 0.8200000000000001, 'crossover_rate': 0.44}. Best is trial 183 with value: 7.466548424109396.\n",
      "[I 2025-07-31 21:10:36,302] Trial 446 pruned. \n",
      "[I 2025-07-31 21:10:38,348] Trial 447 finished with value: 7.9153128374440955 and parameters: {'pop_size': 172, 'generations': 500, 'elite_split': 0.09, 'tournament_split': 0.1, 'mutation_rate': 0.73, 'crossover_rate': 0.05}. Best is trial 183 with value: 7.466548424109396.\n",
      "[I 2025-07-31 21:10:42,498] Trial 448 finished with value: 7.8379458158236375 and parameters: {'pop_size': 241, 'generations': 500, 'elite_split': 0.01, 'tournament_split': 0.1, 'mutation_rate': 0.72, 'crossover_rate': 0.27}. Best is trial 183 with value: 7.466548424109396.\n",
      "[I 2025-07-31 21:10:44,906] Trial 449 finished with value: 7.7709326042540425 and parameters: {'pop_size': 201, 'generations': 400, 'elite_split': 0.01, 'tournament_split': 0.1, 'mutation_rate': 0.72, 'crossover_rate': 0.18}. Best is trial 183 with value: 7.466548424109396.\n",
      "[I 2025-07-31 21:10:48,300] Trial 450 finished with value: 7.759863485888379 and parameters: {'pop_size': 241, 'generations': 400, 'elite_split': 0.01, 'tournament_split': 0.1, 'mutation_rate': 0.72, 'crossover_rate': 0.18}. Best is trial 183 with value: 7.466548424109396.\n",
      "[I 2025-07-31 21:10:51,324] Trial 451 finished with value: 7.958785812290243 and parameters: {'pop_size': 241, 'generations': 400, 'elite_split': 0.01, 'tournament_split': 0.1, 'mutation_rate': 0.52, 'crossover_rate': 0.1}. Best is trial 183 with value: 7.466548424109396.\n",
      "[I 2025-07-31 21:10:54,538] Trial 452 finished with value: 7.978961681066959 and parameters: {'pop_size': 241, 'generations': 400, 'elite_split': 0.01, 'tournament_split': 0.1, 'mutation_rate': 0.88, 'crossover_rate': 0.0}. Best is trial 183 with value: 7.466548424109396.\n",
      "[I 2025-07-31 21:10:55,109] Trial 453 pruned. \n",
      "[I 2025-07-31 21:10:58,437] Trial 454 finished with value: 8.16431707187158 and parameters: {'pop_size': 201, 'generations': 400, 'elite_split': 0.01, 'tournament_split': 0.1, 'mutation_rate': 0.72, 'crossover_rate': 0.18}. Best is trial 183 with value: 7.466548424109396.\n",
      "[I 2025-07-31 21:11:01,077] Trial 455 finished with value: 7.869240057781432 and parameters: {'pop_size': 199, 'generations': 400, 'elite_split': 0.01, 'tournament_split': 0.1, 'mutation_rate': 0.72, 'crossover_rate': 0.14}. Best is trial 183 with value: 7.466548424109396.\n",
      "[I 2025-07-31 21:11:03,637] Trial 456 finished with value: 7.852697165218596 and parameters: {'pop_size': 199, 'generations': 400, 'elite_split': 0.01, 'tournament_split': 0.1, 'mutation_rate': 0.62, 'crossover_rate': 0.18}. Best is trial 183 with value: 7.466548424109396.\n",
      "[I 2025-07-31 21:11:07,082] Trial 457 finished with value: 8.55867556765976 and parameters: {'pop_size': 241, 'generations': 400, 'elite_split': 0.01, 'tournament_split': 0.1, 'mutation_rate': 0.62, 'crossover_rate': 0.18}. Best is trial 183 with value: 7.466548424109396.\n",
      "[I 2025-07-31 21:11:10,777] Trial 458 finished with value: 7.9746076446816545 and parameters: {'pop_size': 240, 'generations': 400, 'elite_split': 0.01, 'tournament_split': 0.1, 'mutation_rate': 0.62, 'crossover_rate': 0.18}. Best is trial 183 with value: 7.466548424109396.\n",
      "[I 2025-07-31 21:11:11,346] Trial 459 pruned. \n",
      "[I 2025-07-31 21:11:14,146] Trial 460 finished with value: 8.481965924382244 and parameters: {'pop_size': 178, 'generations': 400, 'elite_split': 0.01, 'tournament_split': 0.1, 'mutation_rate': 0.72, 'crossover_rate': 0.34}. Best is trial 183 with value: 7.466548424109396.\n",
      "[I 2025-07-31 21:11:14,822] Trial 461 pruned. \n",
      "[I 2025-07-31 21:11:17,775] Trial 462 finished with value: 8.206695290874602 and parameters: {'pop_size': 201, 'generations': 400, 'elite_split': 0.01, 'tournament_split': 0.09, 'mutation_rate': 0.72, 'crossover_rate': 0.27}. Best is trial 183 with value: 7.466548424109396.\n",
      "[I 2025-07-31 21:11:19,100] Trial 463 finished with value: 7.86102422018543 and parameters: {'pop_size': 131, 'generations': 400, 'elite_split': 0.01, 'tournament_split': 0.1, 'mutation_rate': 0.72, 'crossover_rate': 0.18}. Best is trial 183 with value: 7.466548424109396.\n",
      "[I 2025-07-31 21:11:21,717] Trial 464 finished with value: 8.076800317869543 and parameters: {'pop_size': 199, 'generations': 400, 'elite_split': 0.01, 'tournament_split': 0.1, 'mutation_rate': 0.72, 'crossover_rate': 0.18}. Best is trial 183 with value: 7.466548424109396.\n",
      "[I 2025-07-31 21:11:22,676] Trial 465 pruned. \n",
      "[I 2025-07-31 21:11:25,173] Trial 466 pruned. \n",
      "[I 2025-07-31 21:11:26,606] Trial 467 pruned. \n",
      "[I 2025-07-31 21:11:27,931] Trial 468 finished with value: 8.518218506304098 and parameters: {'pop_size': 136, 'generations': 400, 'elite_split': 0.01, 'tournament_split': 0.1, 'mutation_rate': 0.72, 'crossover_rate': 0.19}. Best is trial 183 with value: 7.466548424109396.\n",
      "[I 2025-07-31 21:11:29,156] Trial 469 finished with value: 8.30519185867508 and parameters: {'pop_size': 131, 'generations': 400, 'elite_split': 0.01, 'tournament_split': 0.1, 'mutation_rate': 0.72, 'crossover_rate': 0.18}. Best is trial 183 with value: 7.466548424109396.\n",
      "[I 2025-07-31 21:11:31,627] Trial 470 finished with value: 8.747286087917955 and parameters: {'pop_size': 199, 'generations': 400, 'elite_split': 0.01, 'tournament_split': 0.1, 'mutation_rate': 0.72, 'crossover_rate': 0.27}. Best is trial 183 with value: 7.466548424109396.\n",
      "[I 2025-07-31 21:11:33,560] Trial 471 pruned. \n",
      "[I 2025-07-31 21:11:36,523] Trial 472 pruned. \n",
      "[I 2025-07-31 21:11:37,222] Trial 473 pruned. \n",
      "[I 2025-07-31 21:11:37,819] Trial 474 pruned. \n",
      "[I 2025-07-31 21:11:39,676] Trial 475 pruned. \n",
      "[I 2025-07-31 21:11:43,134] Trial 476 pruned. \n",
      "[I 2025-07-31 21:11:45,033] Trial 477 pruned. \n",
      "[I 2025-07-31 21:11:47,545] Trial 478 finished with value: 8.633193056205368 and parameters: {'pop_size': 212, 'generations': 400, 'elite_split': 0.01, 'tournament_split': 0.1, 'mutation_rate': 0.74, 'crossover_rate': 0.15}. Best is trial 183 with value: 7.466548424109396.\n",
      "[I 2025-07-31 21:11:48,867] Trial 479 pruned. \n",
      "[I 2025-07-31 21:11:52,031] Trial 480 finished with value: 7.8762149468382185 and parameters: {'pop_size': 239, 'generations': 400, 'elite_split': 0.01, 'tournament_split': 0.1, 'mutation_rate': 0.59, 'crossover_rate': 0.14}. Best is trial 183 with value: 7.466548424109396.\n",
      "[I 2025-07-31 21:11:56,154] Trial 481 pruned. \n",
      "[I 2025-07-31 21:11:59,676] Trial 482 pruned. \n",
      "[I 2025-07-31 21:12:01,113] Trial 483 pruned. \n",
      "[I 2025-07-31 21:12:02,273] Trial 484 pruned. \n",
      "[I 2025-07-31 21:12:03,139] Trial 485 pruned. \n",
      "[I 2025-07-31 21:12:04,596] Trial 486 pruned. \n",
      "[I 2025-07-31 21:12:06,576] Trial 487 pruned. \n",
      "[I 2025-07-31 21:12:07,812] Trial 488 pruned. \n",
      "[I 2025-07-31 21:12:09,994] Trial 489 pruned. \n",
      "[I 2025-07-31 21:12:13,066] Trial 490 pruned. \n",
      "[I 2025-07-31 21:12:14,999] Trial 491 pruned. \n",
      "[I 2025-07-31 21:12:15,742] Trial 492 finished with value: 8.474012562895005 and parameters: {'pop_size': 91, 'generations': 400, 'elite_split': 0.04, 'tournament_split': 0.1, 'mutation_rate': 0.72, 'crossover_rate': 0.16}. Best is trial 183 with value: 7.466548424109396.\n",
      "[I 2025-07-31 21:12:17,427] Trial 493 pruned. \n",
      "[I 2025-07-31 21:12:18,444] Trial 494 finished with value: 8.074428239048421 and parameters: {'pop_size': 137, 'generations': 400, 'elite_split': 0.2, 'tournament_split': 0.1, 'mutation_rate': 0.78, 'crossover_rate': 0.04}. Best is trial 183 with value: 7.466548424109396.\n",
      "[I 2025-07-31 21:12:21,394] Trial 495 finished with value: 8.706634701773172 and parameters: {'pop_size': 214, 'generations': 400, 'elite_split': 0.07, 'tournament_split': 0.1, 'mutation_rate': 0.6, 'crossover_rate': 0.56}. Best is trial 183 with value: 7.466548424109396.\n",
      "[I 2025-07-31 21:12:21,673] Trial 496 pruned. \n",
      "[I 2025-07-31 21:12:22,511] Trial 497 pruned. \n",
      "[I 2025-07-31 21:12:25,143] Trial 498 pruned. \n",
      "[I 2025-07-31 21:12:29,074] Trial 499 pruned. \n",
      "[I 2025-07-31 21:12:29,570] Trial 500 pruned. \n",
      "[I 2025-07-31 21:12:31,325] Trial 501 pruned. \n",
      "[I 2025-07-31 21:12:32,444] Trial 502 pruned. \n",
      "[I 2025-07-31 21:12:33,382] Trial 503 pruned. \n",
      "[I 2025-07-31 21:12:35,480] Trial 504 pruned. \n",
      "[I 2025-07-31 21:12:36,723] Trial 505 pruned. \n",
      "[I 2025-07-31 21:12:38,014] Trial 506 pruned. \n",
      "[I 2025-07-31 21:12:38,821] Trial 507 pruned. \n",
      "[I 2025-07-31 21:12:42,432] Trial 508 pruned. \n",
      "[I 2025-07-31 21:12:44,745] Trial 509 finished with value: 8.575928839291619 and parameters: {'pop_size': 142, 'generations': 500, 'elite_split': 0.01, 'tournament_split': 0.1, 'mutation_rate': 0.72, 'crossover_rate': 0.52}. Best is trial 183 with value: 7.466548424109396.\n",
      "[I 2025-07-31 21:12:45,765] Trial 510 pruned. \n",
      "[I 2025-07-31 21:12:47,641] Trial 511 finished with value: 8.877505287050775 and parameters: {'pop_size': 157, 'generations': 400, 'elite_split': 0.0, 'tournament_split': 0.1, 'mutation_rate': 0.9, 'crossover_rate': 0.18}. Best is trial 183 with value: 7.466548424109396.\n",
      "[I 2025-07-31 21:12:49,290] Trial 512 pruned. \n",
      "[I 2025-07-31 21:12:51,760] Trial 513 pruned. \n",
      "[I 2025-07-31 21:12:53,541] Trial 514 pruned. \n",
      "[I 2025-07-31 21:12:56,551] Trial 515 pruned. \n",
      "[I 2025-07-31 21:12:59,975] Trial 516 pruned. \n",
      "[I 2025-07-31 21:13:04,474] Trial 517 finished with value: 8.728189565347545 and parameters: {'pop_size': 237, 'generations': 500, 'elite_split': 0.01, 'tournament_split': 0.1, 'mutation_rate': 0.33, 'crossover_rate': 0.49}. Best is trial 183 with value: 7.466548424109396.\n",
      "[I 2025-07-31 21:13:05,796] Trial 518 pruned. \n",
      "[I 2025-07-31 21:13:10,115] Trial 519 finished with value: 7.750278267259158 and parameters: {'pop_size': 244, 'generations': 500, 'elite_split': 0.08, 'tournament_split': 0.1, 'mutation_rate': 0.98, 'crossover_rate': 0.15}. Best is trial 183 with value: 7.466548424109396.\n",
      "[I 2025-07-31 21:13:14,540] Trial 520 finished with value: 7.5292929055303945 and parameters: {'pop_size': 244, 'generations': 500, 'elite_split': 0.08, 'tournament_split': 0.1, 'mutation_rate': 0.98, 'crossover_rate': 0.13}. Best is trial 183 with value: 7.466548424109396.\n",
      "[I 2025-07-31 21:13:16,827] Trial 521 pruned. \n",
      "[I 2025-07-31 21:13:20,902] Trial 522 finished with value: 7.989565853501092 and parameters: {'pop_size': 244, 'generations': 500, 'elite_split': 0.15, 'tournament_split': 0.1, 'mutation_rate': 0.98, 'crossover_rate': 0.15}. Best is trial 183 with value: 7.466548424109396.\n",
      "[I 2025-07-31 21:13:24,992] Trial 523 finished with value: 8.233881424940927 and parameters: {'pop_size': 244, 'generations': 500, 'elite_split': 0.08, 'tournament_split': 0.1, 'mutation_rate': 0.6900000000000001, 'crossover_rate': 0.15}. Best is trial 183 with value: 7.466548424109396.\n",
      "[I 2025-07-31 21:13:26,937] Trial 524 pruned. \n",
      "[I 2025-07-31 21:13:29,591] Trial 525 finished with value: 8.051271083351935 and parameters: {'pop_size': 177, 'generations': 500, 'elite_split': 0.08, 'tournament_split': 0.1, 'mutation_rate': 0.98, 'crossover_rate': 0.15}. Best is trial 183 with value: 7.466548424109396.\n",
      "[I 2025-07-31 21:13:32,372] Trial 526 finished with value: 8.514460538613832 and parameters: {'pop_size': 206, 'generations': 500, 'elite_split': 0.08, 'tournament_split': 0.1, 'mutation_rate': 0.37, 'crossover_rate': 0.18}. Best is trial 183 with value: 7.466548424109396.\n",
      "[I 2025-07-31 21:13:35,763] Trial 527 finished with value: 8.156197596532797 and parameters: {'pop_size': 243, 'generations': 500, 'elite_split': 0.08, 'tournament_split': 0.1, 'mutation_rate': 0.31, 'crossover_rate': 0.13}. Best is trial 183 with value: 7.466548424109396.\n",
      "[I 2025-07-31 21:13:40,515] Trial 528 finished with value: 8.359073207253667 and parameters: {'pop_size': 244, 'generations': 500, 'elite_split': 0.08, 'tournament_split': 0.1, 'mutation_rate': 0.98, 'crossover_rate': 0.66}. Best is trial 183 with value: 7.466548424109396.\n",
      "[I 2025-07-31 21:13:40,964] Trial 529 pruned. \n",
      "[I 2025-07-31 21:13:43,890] Trial 530 finished with value: 8.229574588151698 and parameters: {'pop_size': 211, 'generations': 500, 'elite_split': 0.08, 'tournament_split': 0.1, 'mutation_rate': 0.28, 'crossover_rate': 0.32}. Best is trial 183 with value: 7.466548424109396.\n",
      "[I 2025-07-31 21:13:44,443] Trial 531 pruned. \n",
      "[I 2025-07-31 21:13:47,288] Trial 532 finished with value: 8.15426889293265 and parameters: {'pop_size': 220, 'generations': 500, 'elite_split': 0.08, 'tournament_split': 0.1, 'mutation_rate': 0.4, 'crossover_rate': 0.08}. Best is trial 183 with value: 7.466548424109396.\n",
      "[I 2025-07-31 21:13:48,317] Trial 533 pruned. \n",
      "[I 2025-07-31 21:13:49,462] Trial 534 pruned. \n",
      "[I 2025-07-31 21:13:50,267] Trial 535 pruned. \n",
      "[I 2025-07-31 21:13:51,209] Trial 536 pruned. \n",
      "[I 2025-07-31 21:13:51,800] Trial 537 pruned. \n",
      "[I 2025-07-31 21:13:53,946] Trial 538 finished with value: 8.07255069143894 and parameters: {'pop_size': 170, 'generations': 500, 'elite_split': 0.04, 'tournament_split': 0.1, 'mutation_rate': 0.71, 'crossover_rate': 0.18}. Best is trial 183 with value: 7.466548424109396.\n",
      "[I 2025-07-31 21:13:56,205] Trial 539 pruned. \n",
      "[I 2025-07-31 21:13:57,181] Trial 540 pruned. \n",
      "[I 2025-07-31 21:14:01,270] Trial 541 pruned. \n",
      "[I 2025-07-31 21:14:04,756] Trial 542 pruned. \n",
      "[I 2025-07-31 21:14:05,016] Trial 543 pruned. \n",
      "[I 2025-07-31 21:14:06,205] Trial 544 finished with value: 8.68584072257134 and parameters: {'pop_size': 108, 'generations': 500, 'elite_split': 0.06, 'tournament_split': 0.1, 'mutation_rate': 0.56, 'crossover_rate': 0.5}. Best is trial 183 with value: 7.466548424109396.\n",
      "[I 2025-07-31 21:14:10,162] Trial 545 finished with value: 7.788393399053508 and parameters: {'pop_size': 246, 'generations': 500, 'elite_split': 0.04, 'tournament_split': 0.1, 'mutation_rate': 0.68, 'crossover_rate': 0.45}. Best is trial 183 with value: 7.466548424109396.\n",
      "[I 2025-07-31 21:14:13,740] Trial 546 pruned. \n",
      "[I 2025-07-31 21:14:17,374] Trial 547 finished with value: 8.152703670946556 and parameters: {'pop_size': 246, 'generations': 500, 'elite_split': 0.04, 'tournament_split': 0.1, 'mutation_rate': 0.99, 'crossover_rate': 0.03}. Best is trial 183 with value: 7.466548424109396.\n",
      "[I 2025-07-31 21:14:18,977] Trial 548 pruned. \n",
      "[I 2025-07-31 21:14:22,445] Trial 549 finished with value: 8.711369444740424 and parameters: {'pop_size': 219, 'generations': 500, 'elite_split': 0.04, 'tournament_split': 0.06, 'mutation_rate': 0.68, 'crossover_rate': 0.27}. Best is trial 183 with value: 7.466548424109396.\n",
      "[I 2025-07-31 21:14:24,386] Trial 550 finished with value: 7.833396064880046 and parameters: {'pop_size': 160, 'generations': 500, 'elite_split': 0.04, 'tournament_split': 0.1, 'mutation_rate': 0.87, 'crossover_rate': 0.12}. Best is trial 183 with value: 7.466548424109396.\n",
      "[I 2025-07-31 21:14:27,957] Trial 551 pruned. \n",
      "[I 2025-07-31 21:14:28,531] Trial 552 pruned. \n",
      "[I 2025-07-31 21:14:32,645] Trial 553 finished with value: 7.412470815737069 and parameters: {'pop_size': 246, 'generations': 500, 'elite_split': 0.04, 'tournament_split': 0.1, 'mutation_rate': 0.87, 'crossover_rate': 0.12}. Best is trial 553 with value: 7.412470815737069.\n",
      "[I 2025-07-31 21:14:34,493] Trial 554 pruned. \n",
      "[I 2025-07-31 21:14:37,628] Trial 555 pruned. \n",
      "[I 2025-07-31 21:14:39,876] Trial 556 pruned. \n",
      "[I 2025-07-31 21:14:41,448] Trial 557 finished with value: 8.246137528049973 and parameters: {'pop_size': 129, 'generations': 500, 'elite_split': 0.04, 'tournament_split': 0.08, 'mutation_rate': 0.87, 'crossover_rate': 0.12}. Best is trial 553 with value: 7.412470815737069.\n",
      "[I 2025-07-31 21:14:43,771] Trial 558 finished with value: 8.416663769544332 and parameters: {'pop_size': 168, 'generations': 500, 'elite_split': 0.04, 'tournament_split': 0.1, 'mutation_rate': 0.87, 'crossover_rate': 0.12}. Best is trial 553 with value: 7.412470815737069.\n",
      "[I 2025-07-31 21:14:44,252] Trial 559 pruned. \n",
      "[I 2025-07-31 21:14:47,306] Trial 560 pruned. \n",
      "[I 2025-07-31 21:14:49,424] Trial 561 finished with value: 8.272629335465123 and parameters: {'pop_size': 143, 'generations': 500, 'elite_split': 0.04, 'tournament_split': 0.1, 'mutation_rate': 0.68, 'crossover_rate': 0.45}. Best is trial 553 with value: 7.412470815737069.\n",
      "[I 2025-07-31 21:14:54,061] Trial 562 finished with value: 8.031042844239993 and parameters: {'pop_size': 246, 'generations': 500, 'elite_split': 0.04, 'tournament_split': 0.1, 'mutation_rate': 0.68, 'crossover_rate': 0.45}. Best is trial 553 with value: 7.412470815737069.\n",
      "[I 2025-07-31 21:14:57,638] Trial 563 finished with value: 8.044136051175956 and parameters: {'pop_size': 215, 'generations': 500, 'elite_split': 0.04, 'tournament_split': 0.07, 'mutation_rate': 0.96, 'crossover_rate': 0.26}. Best is trial 553 with value: 7.412470815737069.\n",
      "[I 2025-07-31 21:14:58,271] Trial 564 pruned. \n",
      "[I 2025-07-31 21:15:00,527] Trial 565 pruned. \n",
      "[I 2025-07-31 21:15:04,190] Trial 566 finished with value: 8.26425745251799 and parameters: {'pop_size': 246, 'generations': 500, 'elite_split': 0.05, 'tournament_split': 0.1, 'mutation_rate': 0.49, 'crossover_rate': 0.25}. Best is trial 553 with value: 7.412470815737069.\n",
      "[I 2025-07-31 21:15:04,860] Trial 567 pruned. \n",
      "[I 2025-07-31 21:15:05,886] Trial 568 pruned. \n",
      "[I 2025-07-31 21:15:08,848] Trial 569 pruned. \n",
      "[I 2025-07-31 21:15:10,955] Trial 570 pruned. \n",
      "[I 2025-07-31 21:15:11,308] Trial 571 pruned. \n",
      "[I 2025-07-31 21:15:11,873] Trial 572 pruned. \n",
      "[I 2025-07-31 21:15:16,061] Trial 573 pruned. \n",
      "[I 2025-07-31 21:15:17,649] Trial 574 pruned. \n",
      "[I 2025-07-31 21:15:19,544] Trial 575 pruned. \n",
      "[I 2025-07-31 21:15:22,426] Trial 576 pruned. \n",
      "[I 2025-07-31 21:15:22,875] Trial 577 pruned. \n",
      "[I 2025-07-31 21:15:23,500] Trial 578 pruned. \n",
      "[I 2025-07-31 21:15:25,303] Trial 579 pruned. \n",
      "[I 2025-07-31 21:15:26,134] Trial 580 pruned. \n",
      "[I 2025-07-31 21:15:28,575] Trial 581 pruned. \n",
      "[I 2025-07-31 21:15:31,064] Trial 582 pruned. \n",
      "[I 2025-07-31 21:15:35,053] Trial 583 finished with value: 8.611141917632622 and parameters: {'pop_size': 238, 'generations': 500, 'elite_split': 0.04, 'tournament_split': 0.1, 'mutation_rate': 0.32, 'crossover_rate': 0.48}. Best is trial 553 with value: 7.412470815737069.\n",
      "[I 2025-07-31 21:15:35,894] Trial 584 pruned. \n",
      "[I 2025-07-31 21:15:39,166] Trial 585 finished with value: 8.023595102100895 and parameters: {'pop_size': 210, 'generations': 500, 'elite_split': 0.06, 'tournament_split': 0.1, 'mutation_rate': 0.48, 'crossover_rate': 0.42}. Best is trial 553 with value: 7.412470815737069.\n",
      "[I 2025-07-31 21:15:40,783] Trial 586 pruned. \n",
      "[I 2025-07-31 21:15:44,303] Trial 587 finished with value: 7.877960719757844 and parameters: {'pop_size': 235, 'generations': 500, 'elite_split': 0.06, 'tournament_split': 0.04, 'mutation_rate': 0.51, 'crossover_rate': 0.19}. Best is trial 553 with value: 7.412470815737069.\n",
      "[I 2025-07-31 21:15:45,298] Trial 588 pruned. \n",
      "[W 2025-07-31 21:15:46,887] Trial 589 failed with parameters: {'pop_size': 116, 'generations': 500, 'elite_split': 0.18, 'tournament_split': 0.08, 'mutation_rate': 0.12, 'crossover_rate': 0.62} because of the following error: SystemError('CPUDispatcher(<function genetic_algorithm at 0x000001FAC4D59260>) returned a result with an exception set').\n",
      "Traceback (most recent call last):\n",
      "  File \"c:\\Users\\fwuer\\Code\\evobandits-demo\\.venv\\Lib\\site-packages\\numba\\core\\serialize.py\", line 30, in _numba_unpickle\n",
      "    def _numba_unpickle(address, bytedata, hashed):\n",
      "    \n",
      "KeyboardInterrupt\n",
      "\n",
      "The above exception was the direct cause of the following exception:\n",
      "\n",
      "Traceback (most recent call last):\n",
      "  File \"c:\\Users\\fwuer\\Code\\evobandits-demo\\.venv\\Lib\\site-packages\\optuna\\study\\_optimize.py\", line 201, in _run_trial\n",
      "    value_or_values = func(trial)\n",
      "                      ^^^^^^^^^^^\n",
      "  File \"C:\\Users\\fwuer\\AppData\\Local\\Temp\\ipykernel_30420\\3201296462.py\", line 8, in objective\n",
      "    best_cost, _ = genetic_algorithm(\n",
      "                   ^^^^^^^^^^^^^^^^^^\n",
      "SystemError: CPUDispatcher(<function genetic_algorithm at 0x000001FAC4D59260>) returned a result with an exception set\n",
      "[W 2025-07-31 21:15:46,889] Trial 589 failed with value None.\n",
      "Hyperband | Run:   0%|          | 0/1 [21:06<?, ?it/s]\n"
     ]
    },
    {
     "ename": "SystemError",
     "evalue": "CPUDispatcher(<function genetic_algorithm at 0x000001FAC4D59260>) returned a result with an exception set",
     "output_type": "error",
     "traceback": [
      "\u001b[31m---------------------------------------------------------------------------\u001b[39m",
      "\u001b[31mKeyboardInterrupt\u001b[39m                         Traceback (most recent call last)",
      "\u001b[36mFile \u001b[39m\u001b[32mc:\\Users\\fwuer\\Code\\evobandits-demo\\.venv\\Lib\\site-packages\\numba\\core\\serialize.py:30\u001b[39m, in \u001b[36m_numba_unpickle\u001b[39m\u001b[34m(address, bytedata, hashed)\u001b[39m\n\u001b[32m     27\u001b[39m _unpickled_memo = {}\n\u001b[32m---> \u001b[39m\u001b[32m30\u001b[39m \u001b[38;5;28;01mdef\u001b[39;00m\u001b[38;5;250m \u001b[39m\u001b[34m_numba_unpickle\u001b[39m(address, bytedata, hashed):\n\u001b[32m     31\u001b[39m \u001b[38;5;250m    \u001b[39m\u001b[33;03m\"\"\"Used by `numba_unpickle` from _helperlib.c\u001b[39;00m\n\u001b[32m     32\u001b[39m \n\u001b[32m     33\u001b[39m \u001b[33;03m    Parameters\u001b[39;00m\n\u001b[32m   (...)\u001b[39m\u001b[32m     42\u001b[39m \u001b[33;03m        unpickled object\u001b[39;00m\n\u001b[32m     43\u001b[39m \u001b[33;03m    \"\"\"\u001b[39;00m\n",
      "\u001b[31mKeyboardInterrupt\u001b[39m: ",
      "\nThe above exception was the direct cause of the following exception:\n",
      "\u001b[31mSystemError\u001b[39m                               Traceback (most recent call last)",
      "\u001b[36mCell\u001b[39m\u001b[36m \u001b[39m\u001b[32mIn[38]\u001b[39m\u001b[32m, line 34\u001b[39m\n\u001b[32m     31\u001b[39m pruner = HyperbandPruner() \u001b[38;5;66;03m# deterministic, takes no seed\u001b[39;00m\n\u001b[32m     33\u001b[39m study = optuna.create_study(sampler=sampler, pruner=pruner)\n\u001b[32m---> \u001b[39m\u001b[32m34\u001b[39m \u001b[43mstudy\u001b[49m\u001b[43m.\u001b[49m\u001b[43moptimize\u001b[49m\u001b[43m(\u001b[49m\u001b[43mobjective\u001b[49m\u001b[43m,\u001b[49m\u001b[43m \u001b[49m\u001b[43mn_trials\u001b[49m\u001b[43m=\u001b[49m\u001b[43mSIM_BUDGET\u001b[49m\u001b[43m)\u001b[49m\n\u001b[32m     35\u001b[39m \u001b[38;5;28mprint\u001b[39m(\u001b[33mf\u001b[39m\u001b[33m\"\u001b[39m\u001b[33mConfig:\u001b[39m\u001b[38;5;130;01m\\t\u001b[39;00m\u001b[38;5;132;01m{\u001b[39;00mstudy.best_params\u001b[38;5;132;01m}\u001b[39;00m\u001b[33m\"\u001b[39m)\n\u001b[32m     36\u001b[39m \u001b[38;5;28mprint\u001b[39m(\u001b[33mf\u001b[39m\u001b[33m\"\u001b[39m\u001b[33mValue:\u001b[39m\u001b[38;5;130;01m\\t\u001b[39;00m\u001b[38;5;132;01m{\u001b[39;00mstudy.best_trials\u001b[38;5;132;01m}\u001b[39;00m\u001b[33m\"\u001b[39m)\n",
      "\u001b[36mFile \u001b[39m\u001b[32mc:\\Users\\fwuer\\Code\\evobandits-demo\\.venv\\Lib\\site-packages\\optuna\\study\\study.py:489\u001b[39m, in \u001b[36mStudy.optimize\u001b[39m\u001b[34m(self, func, n_trials, timeout, n_jobs, catch, callbacks, gc_after_trial, show_progress_bar)\u001b[39m\n\u001b[32m    387\u001b[39m \u001b[38;5;28;01mdef\u001b[39;00m\u001b[38;5;250m \u001b[39m\u001b[34moptimize\u001b[39m(\n\u001b[32m    388\u001b[39m     \u001b[38;5;28mself\u001b[39m,\n\u001b[32m    389\u001b[39m     func: ObjectiveFuncType,\n\u001b[32m   (...)\u001b[39m\u001b[32m    396\u001b[39m     show_progress_bar: \u001b[38;5;28mbool\u001b[39m = \u001b[38;5;28;01mFalse\u001b[39;00m,\n\u001b[32m    397\u001b[39m ) -> \u001b[38;5;28;01mNone\u001b[39;00m:\n\u001b[32m    398\u001b[39m \u001b[38;5;250m    \u001b[39m\u001b[33;03m\"\"\"Optimize an objective function.\u001b[39;00m\n\u001b[32m    399\u001b[39m \n\u001b[32m    400\u001b[39m \u001b[33;03m    Optimization is done by choosing a suitable set of hyperparameter values from a given\u001b[39;00m\n\u001b[32m   (...)\u001b[39m\u001b[32m    487\u001b[39m \u001b[33;03m            If nested invocation of this method occurs.\u001b[39;00m\n\u001b[32m    488\u001b[39m \u001b[33;03m    \"\"\"\u001b[39;00m\n\u001b[32m--> \u001b[39m\u001b[32m489\u001b[39m     \u001b[43m_optimize\u001b[49m\u001b[43m(\u001b[49m\n\u001b[32m    490\u001b[39m \u001b[43m        \u001b[49m\u001b[43mstudy\u001b[49m\u001b[43m=\u001b[49m\u001b[38;5;28;43mself\u001b[39;49m\u001b[43m,\u001b[49m\n\u001b[32m    491\u001b[39m \u001b[43m        \u001b[49m\u001b[43mfunc\u001b[49m\u001b[43m=\u001b[49m\u001b[43mfunc\u001b[49m\u001b[43m,\u001b[49m\n\u001b[32m    492\u001b[39m \u001b[43m        \u001b[49m\u001b[43mn_trials\u001b[49m\u001b[43m=\u001b[49m\u001b[43mn_trials\u001b[49m\u001b[43m,\u001b[49m\n\u001b[32m    493\u001b[39m \u001b[43m        \u001b[49m\u001b[43mtimeout\u001b[49m\u001b[43m=\u001b[49m\u001b[43mtimeout\u001b[49m\u001b[43m,\u001b[49m\n\u001b[32m    494\u001b[39m \u001b[43m        \u001b[49m\u001b[43mn_jobs\u001b[49m\u001b[43m=\u001b[49m\u001b[43mn_jobs\u001b[49m\u001b[43m,\u001b[49m\n\u001b[32m    495\u001b[39m \u001b[43m        \u001b[49m\u001b[43mcatch\u001b[49m\u001b[43m=\u001b[49m\u001b[38;5;28;43mtuple\u001b[39;49m\u001b[43m(\u001b[49m\u001b[43mcatch\u001b[49m\u001b[43m)\u001b[49m\u001b[43m \u001b[49m\u001b[38;5;28;43;01mif\u001b[39;49;00m\u001b[43m \u001b[49m\u001b[38;5;28;43misinstance\u001b[39;49m\u001b[43m(\u001b[49m\u001b[43mcatch\u001b[49m\u001b[43m,\u001b[49m\u001b[43m \u001b[49m\u001b[43mIterable\u001b[49m\u001b[43m)\u001b[49m\u001b[43m \u001b[49m\u001b[38;5;28;43;01melse\u001b[39;49;00m\u001b[43m \u001b[49m\u001b[43m(\u001b[49m\u001b[43mcatch\u001b[49m\u001b[43m,\u001b[49m\u001b[43m)\u001b[49m\u001b[43m,\u001b[49m\n\u001b[32m    496\u001b[39m \u001b[43m        \u001b[49m\u001b[43mcallbacks\u001b[49m\u001b[43m=\u001b[49m\u001b[43mcallbacks\u001b[49m\u001b[43m,\u001b[49m\n\u001b[32m    497\u001b[39m \u001b[43m        \u001b[49m\u001b[43mgc_after_trial\u001b[49m\u001b[43m=\u001b[49m\u001b[43mgc_after_trial\u001b[49m\u001b[43m,\u001b[49m\n\u001b[32m    498\u001b[39m \u001b[43m        \u001b[49m\u001b[43mshow_progress_bar\u001b[49m\u001b[43m=\u001b[49m\u001b[43mshow_progress_bar\u001b[49m\u001b[43m,\u001b[49m\n\u001b[32m    499\u001b[39m \u001b[43m    \u001b[49m\u001b[43m)\u001b[49m\n",
      "\u001b[36mFile \u001b[39m\u001b[32mc:\\Users\\fwuer\\Code\\evobandits-demo\\.venv\\Lib\\site-packages\\optuna\\study\\_optimize.py:64\u001b[39m, in \u001b[36m_optimize\u001b[39m\u001b[34m(study, func, n_trials, timeout, n_jobs, catch, callbacks, gc_after_trial, show_progress_bar)\u001b[39m\n\u001b[32m     62\u001b[39m \u001b[38;5;28;01mtry\u001b[39;00m:\n\u001b[32m     63\u001b[39m     \u001b[38;5;28;01mif\u001b[39;00m n_jobs == \u001b[32m1\u001b[39m:\n\u001b[32m---> \u001b[39m\u001b[32m64\u001b[39m         \u001b[43m_optimize_sequential\u001b[49m\u001b[43m(\u001b[49m\n\u001b[32m     65\u001b[39m \u001b[43m            \u001b[49m\u001b[43mstudy\u001b[49m\u001b[43m,\u001b[49m\n\u001b[32m     66\u001b[39m \u001b[43m            \u001b[49m\u001b[43mfunc\u001b[49m\u001b[43m,\u001b[49m\n\u001b[32m     67\u001b[39m \u001b[43m            \u001b[49m\u001b[43mn_trials\u001b[49m\u001b[43m,\u001b[49m\n\u001b[32m     68\u001b[39m \u001b[43m            \u001b[49m\u001b[43mtimeout\u001b[49m\u001b[43m,\u001b[49m\n\u001b[32m     69\u001b[39m \u001b[43m            \u001b[49m\u001b[43mcatch\u001b[49m\u001b[43m,\u001b[49m\n\u001b[32m     70\u001b[39m \u001b[43m            \u001b[49m\u001b[43mcallbacks\u001b[49m\u001b[43m,\u001b[49m\n\u001b[32m     71\u001b[39m \u001b[43m            \u001b[49m\u001b[43mgc_after_trial\u001b[49m\u001b[43m,\u001b[49m\n\u001b[32m     72\u001b[39m \u001b[43m            \u001b[49m\u001b[43mreseed_sampler_rng\u001b[49m\u001b[43m=\u001b[49m\u001b[38;5;28;43;01mFalse\u001b[39;49;00m\u001b[43m,\u001b[49m\n\u001b[32m     73\u001b[39m \u001b[43m            \u001b[49m\u001b[43mtime_start\u001b[49m\u001b[43m=\u001b[49m\u001b[38;5;28;43;01mNone\u001b[39;49;00m\u001b[43m,\u001b[49m\n\u001b[32m     74\u001b[39m \u001b[43m            \u001b[49m\u001b[43mprogress_bar\u001b[49m\u001b[43m=\u001b[49m\u001b[43mprogress_bar\u001b[49m\u001b[43m,\u001b[49m\n\u001b[32m     75\u001b[39m \u001b[43m        \u001b[49m\u001b[43m)\u001b[49m\n\u001b[32m     76\u001b[39m     \u001b[38;5;28;01melse\u001b[39;00m:\n\u001b[32m     77\u001b[39m         \u001b[38;5;28;01mif\u001b[39;00m n_jobs == -\u001b[32m1\u001b[39m:\n",
      "\u001b[36mFile \u001b[39m\u001b[32mc:\\Users\\fwuer\\Code\\evobandits-demo\\.venv\\Lib\\site-packages\\optuna\\study\\_optimize.py:161\u001b[39m, in \u001b[36m_optimize_sequential\u001b[39m\u001b[34m(study, func, n_trials, timeout, catch, callbacks, gc_after_trial, reseed_sampler_rng, time_start, progress_bar)\u001b[39m\n\u001b[32m    158\u001b[39m         \u001b[38;5;28;01mbreak\u001b[39;00m\n\u001b[32m    160\u001b[39m \u001b[38;5;28;01mtry\u001b[39;00m:\n\u001b[32m--> \u001b[39m\u001b[32m161\u001b[39m     frozen_trial = \u001b[43m_run_trial\u001b[49m\u001b[43m(\u001b[49m\u001b[43mstudy\u001b[49m\u001b[43m,\u001b[49m\u001b[43m \u001b[49m\u001b[43mfunc\u001b[49m\u001b[43m,\u001b[49m\u001b[43m \u001b[49m\u001b[43mcatch\u001b[49m\u001b[43m)\u001b[49m\n\u001b[32m    162\u001b[39m \u001b[38;5;28;01mfinally\u001b[39;00m:\n\u001b[32m    163\u001b[39m     \u001b[38;5;66;03m# The following line mitigates memory problems that can be occurred in some\u001b[39;00m\n\u001b[32m    164\u001b[39m     \u001b[38;5;66;03m# environments (e.g., services that use computing containers such as GitHub Actions).\u001b[39;00m\n\u001b[32m    165\u001b[39m     \u001b[38;5;66;03m# Please refer to the following PR for further details:\u001b[39;00m\n\u001b[32m    166\u001b[39m     \u001b[38;5;66;03m# https://github.com/optuna/optuna/pull/325.\u001b[39;00m\n\u001b[32m    167\u001b[39m     \u001b[38;5;28;01mif\u001b[39;00m gc_after_trial:\n",
      "\u001b[36mFile \u001b[39m\u001b[32mc:\\Users\\fwuer\\Code\\evobandits-demo\\.venv\\Lib\\site-packages\\optuna\\study\\_optimize.py:253\u001b[39m, in \u001b[36m_run_trial\u001b[39m\u001b[34m(study, func, catch)\u001b[39m\n\u001b[32m    246\u001b[39m         \u001b[38;5;28;01massert\u001b[39;00m \u001b[38;5;28;01mFalse\u001b[39;00m, \u001b[33m\"\u001b[39m\u001b[33mShould not reach.\u001b[39m\u001b[33m\"\u001b[39m\n\u001b[32m    248\u001b[39m \u001b[38;5;28;01mif\u001b[39;00m (\n\u001b[32m    249\u001b[39m     frozen_trial.state == TrialState.FAIL\n\u001b[32m    250\u001b[39m     \u001b[38;5;129;01mand\u001b[39;00m func_err \u001b[38;5;129;01mis\u001b[39;00m \u001b[38;5;129;01mnot\u001b[39;00m \u001b[38;5;28;01mNone\u001b[39;00m\n\u001b[32m    251\u001b[39m     \u001b[38;5;129;01mand\u001b[39;00m \u001b[38;5;129;01mnot\u001b[39;00m \u001b[38;5;28misinstance\u001b[39m(func_err, catch)\n\u001b[32m    252\u001b[39m ):\n\u001b[32m--> \u001b[39m\u001b[32m253\u001b[39m     \u001b[38;5;28;01mraise\u001b[39;00m func_err\n\u001b[32m    254\u001b[39m \u001b[38;5;28;01mreturn\u001b[39;00m frozen_trial\n",
      "\u001b[36mFile \u001b[39m\u001b[32mc:\\Users\\fwuer\\Code\\evobandits-demo\\.venv\\Lib\\site-packages\\optuna\\study\\_optimize.py:201\u001b[39m, in \u001b[36m_run_trial\u001b[39m\u001b[34m(study, func, catch)\u001b[39m\n\u001b[32m    199\u001b[39m \u001b[38;5;28;01mwith\u001b[39;00m get_heartbeat_thread(trial._trial_id, study._storage):\n\u001b[32m    200\u001b[39m     \u001b[38;5;28;01mtry\u001b[39;00m:\n\u001b[32m--> \u001b[39m\u001b[32m201\u001b[39m         value_or_values = \u001b[43mfunc\u001b[49m\u001b[43m(\u001b[49m\u001b[43mtrial\u001b[49m\u001b[43m)\u001b[49m\n\u001b[32m    202\u001b[39m     \u001b[38;5;28;01mexcept\u001b[39;00m exceptions.TrialPruned \u001b[38;5;28;01mas\u001b[39;00m e:\n\u001b[32m    203\u001b[39m         \u001b[38;5;66;03m# TODO(mamu): Handle multi-objective cases.\u001b[39;00m\n\u001b[32m    204\u001b[39m         state = TrialState.PRUNED\n",
      "\u001b[36mCell\u001b[39m\u001b[36m \u001b[39m\u001b[32mIn[38]\u001b[39m\u001b[32m, line 8\u001b[39m, in \u001b[36mobjective\u001b[39m\u001b[34m(trial)\u001b[39m\n\u001b[32m      6\u001b[39m \u001b[38;5;250m\u001b[39m\u001b[33;03m\"\"\"Seeded, single-objective function to simulate the GA.\"\"\"\u001b[39;00m\n\u001b[32m      7\u001b[39m seed = rng.integers(\u001b[32m0\u001b[39m, MAXINT, dtype=\u001b[38;5;28mint\u001b[39m)\n\u001b[32m----> \u001b[39m\u001b[32m8\u001b[39m best_cost, _ = \u001b[43mgenetic_algorithm\u001b[49m\u001b[43m(\u001b[49m\n\u001b[32m      9\u001b[39m \u001b[43m    \u001b[49m\u001b[43mpop_size\u001b[49m\u001b[43m=\u001b[49m\u001b[43mtrial\u001b[49m\u001b[43m.\u001b[49m\u001b[43msuggest_categorical\u001b[49m\u001b[43m(\u001b[49m\u001b[33;43m\"\u001b[39;49m\u001b[33;43mpop_size\u001b[39;49m\u001b[33;43m\"\u001b[39;49m\u001b[43m,\u001b[49m\u001b[43m \u001b[49m\u001b[43mPOP_SIZE_RANGE\u001b[49m\u001b[43m)\u001b[49m\u001b[43m,\u001b[49m\n\u001b[32m     10\u001b[39m \u001b[43m    \u001b[49m\u001b[43mgenerations\u001b[49m\u001b[43m=\u001b[49m\u001b[43mtrial\u001b[49m\u001b[43m.\u001b[49m\u001b[43msuggest_categorical\u001b[49m\u001b[43m(\u001b[49m\u001b[33;43m\"\u001b[39;49m\u001b[33;43mgenerations\u001b[39;49m\u001b[33;43m\"\u001b[39;49m\u001b[43m,\u001b[49m\u001b[43m \u001b[49m\u001b[43mGENERATIONS_RANGE\u001b[49m\u001b[43m)\u001b[49m\u001b[43m,\u001b[49m\n\u001b[32m     11\u001b[39m \u001b[43m    \u001b[49m\u001b[43melite_split\u001b[49m\u001b[43m=\u001b[49m\u001b[43mtrial\u001b[49m\u001b[43m.\u001b[49m\u001b[43msuggest_categorical\u001b[49m\u001b[43m(\u001b[49m\u001b[33;43m\"\u001b[39;49m\u001b[33;43melite_split\u001b[39;49m\u001b[33;43m\"\u001b[39;49m\u001b[43m,\u001b[49m\u001b[43m \u001b[49m\u001b[43mELITE_SPLIT_RANGE\u001b[49m\u001b[43m)\u001b[49m\u001b[43m,\u001b[49m\n\u001b[32m     12\u001b[39m \u001b[43m    \u001b[49m\u001b[43mtournament_split\u001b[49m\u001b[43m=\u001b[49m\u001b[43mtrial\u001b[49m\u001b[43m.\u001b[49m\u001b[43msuggest_categorical\u001b[49m\u001b[43m(\u001b[49m\u001b[33;43m\"\u001b[39;49m\u001b[33;43mtournament_split\u001b[39;49m\u001b[33;43m\"\u001b[39;49m\u001b[43m,\u001b[49m\u001b[43m \u001b[49m\u001b[43mTOURNAMENT_SPLIT_RANGE\u001b[49m\u001b[43m)\u001b[49m\u001b[43m,\u001b[49m\n\u001b[32m     13\u001b[39m \u001b[43m    \u001b[49m\u001b[43mmutation_rate\u001b[49m\u001b[43m=\u001b[49m\u001b[43mtrial\u001b[49m\u001b[43m.\u001b[49m\u001b[43msuggest_categorical\u001b[49m\u001b[43m(\u001b[49m\u001b[33;43m\"\u001b[39;49m\u001b[33;43mmutation_rate\u001b[39;49m\u001b[33;43m\"\u001b[39;49m\u001b[43m,\u001b[49m\u001b[43m \u001b[49m\u001b[43mMUTATION_RATE_RANGE\u001b[49m\u001b[43m)\u001b[49m\u001b[43m,\u001b[49m\n\u001b[32m     14\u001b[39m \u001b[43m    \u001b[49m\u001b[43mcrossover_rate\u001b[49m\u001b[43m=\u001b[49m\u001b[43mtrial\u001b[49m\u001b[43m.\u001b[49m\u001b[43msuggest_categorical\u001b[49m\u001b[43m(\u001b[49m\u001b[33;43m\"\u001b[39;49m\u001b[33;43mcrossover_rate\u001b[39;49m\u001b[33;43m\"\u001b[39;49m\u001b[43m,\u001b[49m\u001b[43m \u001b[49m\u001b[43mCROSSOVER_RATE_RANGE\u001b[49m\u001b[43m)\u001b[49m\u001b[43m,\u001b[49m\n\u001b[32m     15\u001b[39m \u001b[43m    \u001b[49m\u001b[43mseed\u001b[49m\u001b[43m=\u001b[49m\u001b[43mseed\u001b[49m\n\u001b[32m     16\u001b[39m \u001b[43m\u001b[49m\u001b[43m)\u001b[49m\n\u001b[32m     18\u001b[39m trial.report(best_cost, \u001b[32m1\u001b[39m)\n\u001b[32m     19\u001b[39m \u001b[38;5;28;01mif\u001b[39;00m trial.should_prune():\n",
      "\u001b[31mSystemError\u001b[39m: CPUDispatcher(<function genetic_algorithm at 0x000001FAC4D59260>) returned a result with an exception set"
     ]
    }
   ],
   "source": [
    "# rng to make objective reproducible\n",
    "MAXINT = 2 ** 32 - 1\n",
    "rng = np.random.default_rng(SEED)\n",
    "\n",
    "def objective(trial):\n",
    "    \"\"\"Seeded, single-objective function to simulate the GA.\"\"\"\n",
    "    seed = rng.integers(0, MAXINT, dtype=int)\n",
    "    best_cost, _ = genetic_algorithm(\n",
    "        pop_size=trial.suggest_categorical(\"pop_size\", POP_SIZE_RANGE),\n",
    "        generations=trial.suggest_categorical(\"generations\", GENERATIONS_RANGE),\n",
    "        elite_split=trial.suggest_categorical(\"elite_split\", ELITE_SPLIT_RANGE),\n",
    "        tournament_split=trial.suggest_categorical(\"tournament_split\", TOURNAMENT_SPLIT_RANGE),\n",
    "        mutation_rate=trial.suggest_categorical(\"mutation_rate\", MUTATION_RATE_RANGE),\n",
    "        crossover_rate=trial.suggest_categorical(\"crossover_rate\", CROSSOVER_RATE_RANGE),\n",
    "        seed=seed\n",
    "    )\n",
    "\n",
    "    trial.report(best_cost, 1)\n",
    "    if trial.should_prune():\n",
    "        raise optuna.TrialPruned()\n",
    "    \n",
    "    return best_cost\n",
    "\n",
    "print(\"\\nRunning optimization ...\")\n",
    "results_hyperband = []\n",
    "\n",
    "for run_id in tqdm(range(N_RUNS), desc=\"Hyperband | Run\"):\n",
    "    seed = SEED + run_id\n",
    "    gmab = GMAB(population_size=10)\n",
    "    sampler = TPESampler(seed=seed) # sampling \n",
    "    pruner = HyperbandPruner() # deterministic, takes no seed\n",
    "\n",
    "    study = optuna.create_study(sampler=sampler, pruner=pruner)\n",
    "    study.optimize(objective, n_trials=SIM_BUDGET)\n",
    "    print(f\"Config:\\t{study.best_params}\")\n",
    "    print(f\"Value:\\t{study.best_trials}\")\n",
    "\n",
    "    mean_evaluation, evaluations = estimate_true_value(seed, study.best_params)\n",
    "    print(f\"Est. true value:\\t{mean_evaluation}\")\n",
    "\n",
    "    results_hyperband.append({\n",
    "        \"mean_evaluation\": mean_evaluation,\n",
    "        \"evaluations\": evaluations,\n",
    "        \"best_solution\": study.best_params,\n",
    "        \"seed\": seed\n",
    "    })\n",
    "\n",
    "    with open(Path(\"_data/04_results_hyperband.json\"), 'w') as f:\n",
    "        json.dump(results_hyperband, f)"
   ]
  },
  {
   "cell_type": "markdown",
   "id": "bbaa14a7",
   "metadata": {},
   "source": [
    "## 3. Comparison"
   ]
  },
  {
   "cell_type": "markdown",
   "id": "6dd8e068",
   "metadata": {},
   "source": [
    "Loads pre-computed results (if available)"
   ]
  },
  {
   "cell_type": "code",
   "execution_count": 13,
   "id": "109ddc52",
   "metadata": {},
   "outputs": [],
   "source": [
    "with open(\"_data/04_results_evobandits.json\", \"r\") as f:\n",
    "    results_evobandits = json.load(f)"
   ]
  },
  {
   "cell_type": "code",
   "execution_count": 14,
   "id": "db88f0f6",
   "metadata": {},
   "outputs": [],
   "source": [
    "with open(\"_data/04_results_rnd_search.json\", \"r\") as f:\n",
    "    results_rnd_search = json.load(f)"
   ]
  },
  {
   "cell_type": "code",
   "execution_count": 15,
   "id": "a5544411",
   "metadata": {},
   "outputs": [],
   "source": [
    "with open(\"_data/04_results_irace.json\", \"r\") as f:\n",
    "    results_irace = json.load(f)"
   ]
  },
  {
   "cell_type": "code",
   "execution_count": null,
   "id": "d2ae0ad5",
   "metadata": {},
   "outputs": [],
   "source": [
    "with open(\"_data/04_results_hyperband.json\", \"r\") as f:\n",
    "    results_hyperband = json.load(f)"
   ]
  },
  {
   "cell_type": "markdown",
   "id": "263caa6a",
   "metadata": {},
   "source": [
    "### 3.1 Stats"
   ]
  },
  {
   "cell_type": "code",
   "execution_count": 16,
   "id": "d581015b",
   "metadata": {},
   "outputs": [],
   "source": [
    "mean_evaluation_data = {\n",
    "    \"EvoBandits\": [r[\"mean_evaluation\"] for r in results_evobandits],\n",
    "    \"IRACE\": [r[\"mean_evaluation\"] for r in results_irace],\n",
    "    \"Hyperband\": [r[\"mean_evaluation\"] for r in results_hyperband],\n",
    "    \"Random Search\": [r[\"mean_evaluation\"] for r in results_rnd_search],\n",
    "}"
   ]
  },
  {
   "cell_type": "code",
   "execution_count": 64,
   "id": "57024dc1",
   "metadata": {},
   "outputs": [
    {
     "name": "stdout",
     "output_type": "stream",
     "text": [
      "          method     mean  ci95_low  ci95_high\n",
      "0     EvoBandits 8.000021  7.988648   8.011394\n",
      "1      Hyperband 7.953789       NaN        NaN\n",
      "2          IRACE 8.048433  8.026759   8.070106\n",
      "3  Random Search 8.103339  8.071745   8.134933\n"
     ]
    }
   ],
   "source": [
    "df = pd.DataFrame({\n",
    "    'value': np.concatenate(list(mean_evaluation_data.values())),\n",
    "    'method': np.repeat(list(mean_evaluation_data.keys()), [len(v) for v in mean_evaluation_data.values()])\n",
    "})\n",
    "\n",
    "summary = df.groupby('method').agg(\n",
    "    mean=('value', 'mean'),\n",
    "    std=('value', 'std'),\n",
    "    count=('value', 'size')\n",
    ").reset_index()\n",
    "\n",
    "summary['sem'] = summary['std'] / np.sqrt(summary['count'])\n",
    "summary['ci95_low'] = summary['mean'] - 1.96 * summary['sem']\n",
    "summary['ci95_high'] = summary['mean'] + 1.96 * summary['sem']\n",
    "\n",
    "print(summary[['method', 'mean', 'ci95_low', 'ci95_high']])\n"
   ]
  },
  {
   "cell_type": "code",
   "execution_count": 63,
   "id": "e9f4b04f",
   "metadata": {},
   "outputs": [
    {
     "data": {
      "image/png": "[encoded data removed]",
      "text/plain": [
       "<Figure size 800x500 with 1 Axes>"
      ]
     },
     "metadata": {},
     "output_type": "display_data"
    }
   ],
   "source": [
    "fig, ax = plt.subplots(1, 1, figsize=(8, 5))\n",
    "ax.boxplot(\n",
    "    mean_evaluation_data.values(), \n",
    "    tick_labels=mean_evaluation_data.keys(), \n",
    "    showmeans=True, \n",
    "    meanprops={\"markerfacecolor\":\"black\", \"markeredgecolor\":\"black\"}, \n",
    "    medianprops={\"color\": \"C0\"}\n",
    ")\n",
    "ax.set_ylabel(\"Total Distance\")\n",
    "\n",
    "plt.tight_layout()\n",
    "plt.savefig(Path(\"_plots/06_comparison.pdf\"))\n",
    "plt.show()"
   ]
  }
 ],
 "metadata": {
  "kernelspec": {
   "display_name": ".venv",
   "language": "python",
   "name": "python3"
  },
  "language_info": {
   "codemirror_mode": {
    "name": "ipython",
    "version": 3
   },
   "file_extension": ".py",
   "mimetype": "text/x-python",
   "name": "python",
   "nbconvert_exporter": "python",
   "pygments_lexer": "ipython3",
   "version": "3.12.10"
  }
 },
 "nbformat": 4,
 "nbformat_minor": 5
}
